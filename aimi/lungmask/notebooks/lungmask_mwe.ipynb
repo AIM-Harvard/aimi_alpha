{
  "cells": [
    {
      "cell_type": "markdown",
      "metadata": {
        "id": "view-in-github",
        "colab_type": "text"
      },
      "source": [
        "<a href=\"https://colab.research.google.com/github/AIM-Harvard/aimi_alpha/blob/main/aimi/lungmask/notebooks/lungmask_mwe.ipynb\" target=\"_parent\"><img src=\"https://colab.research.google.com/assets/colab-badge.svg\" alt=\"Open In Colab\"/></a>"
      ]
    },
    {
      "cell_type": "markdown",
      "metadata": {
        "id": "Pmb_HiJv7Sit"
      },
      "source": [
        "# **ModelHub - Lung and Lung Lobes Segmentation**\n",
        "\n",
        "This notebook provides an example of how to run an end-to-end (cloud-based) data analysis using the LungMask lung and lung lobes segmentation (robust to the presence of severe pathologies) model.\n",
        "\n",
        "The way all the operations are executed - from pulling data to data postprocessing and the standardisation of the results - have the goal of promoting transparency and reproducibility."
      ]
    },
    {
      "cell_type": "markdown",
      "metadata": {
        "id": "CZnoRi9Y7nEB"
      },
      "source": [
        "## **Environment Setup**\n",
        "\n",
        "This demo notebook is intended to be run using a GPU.\n",
        "\n",
        "To access a free GPU on Colab:\n",
        "`Edit > Notebooks Settings`.\n",
        "\n",
        "From the dropdown menu under `Hardware accelerator`, select `GPU`. Let's check the Colab instance is indeed equipped with a GPU."
      ]
    },
    {
      "cell_type": "code",
      "execution_count": 1,
      "metadata": {
        "colab": {
          "base_uri": "https://localhost:8080/"
        },
        "id": "non5qVLIcG4M",
        "outputId": "3fa5a75a-5980-4e40-88e7-105d1a13aa65"
      },
      "outputs": [
        {
          "output_type": "stream",
          "name": "stdout",
          "text": [
            "Thu Sep 29 21:32:58 2022\n",
            "\n",
            "Current directory : /content\n",
            "Hostname          : 16054438eab9\n",
            "Username          : root\n",
            "Python version    : 3.7.14 (default, Sep  8 2022, 00:06:44) \n"
          ]
        }
      ],
      "source": [
        "import os\n",
        "import sys\n",
        "import shutil\n",
        "\n",
        "import yaml\n",
        "\n",
        "import time\n",
        "import tqdm\n",
        "\n",
        "\n",
        "# useful information\n",
        "curr_dir = !pwd\n",
        "curr_droid = !hostname\n",
        "curr_pilot = !whoami\n",
        "\n",
        "print(time.asctime(time.localtime()))\n",
        "\n",
        "print(\"\\nCurrent directory :\", curr_dir[-1])\n",
        "print(\"Hostname          :\", curr_droid[-1])\n",
        "print(\"Username          :\", curr_pilot[-1])\n",
        "\n",
        "print(\"Python version    :\", sys.version.split('\\n')[0])"
      ]
    },
    {
      "cell_type": "markdown",
      "source": [
        "The authentication to Google is necessary to run BigQuery queries.\n",
        "\n",
        "Every operation throughout the whole notebook (BigQuery, fetching data from the IDC buckets) is completely free. The only thing that is needed in order to run the notebook is the set-up of a Google Cloud project. In order for the notebook to work as intended, you will need to specify the name of the project in the cell after the authentication one."
      ],
      "metadata": {
        "id": "0PKq2z2jkVJz"
      }
    },
    {
      "cell_type": "code",
      "execution_count": 2,
      "metadata": {
        "id": "2DMUqTOVF5WP"
      },
      "outputs": [],
      "source": [
        "from google.colab import auth\n",
        "auth.authenticate_user()"
      ]
    },
    {
      "cell_type": "code",
      "execution_count": 3,
      "metadata": {
        "id": "9Y43S1F35h8m"
      },
      "outputs": [],
      "source": [
        "from google.colab import files\n",
        "from google.cloud import storage\n",
        "from google.cloud import bigquery as bq\n",
        "\n",
        "# INSERT THE ID OF YOUR PROJECT HERE!\n",
        "project_id = \"idc-sandbox-000\""
      ]
    },
    {
      "cell_type": "markdown",
      "metadata": {
        "id": "oT7coYaGfd4t"
      },
      "source": [
        "Throughout this Colab notebook, for image pre-processing we will use [Plastimatch](https://plastimatch.org), a reliable and open source software for image computation. We will be running Plastimatch using the simple [PyPlastimatch](https://github.com/AIM-Harvard/pyplastimatch/tree/main/pyplastimatch) python wrapper. "
      ]
    },
    {
      "cell_type": "code",
      "execution_count": 4,
      "metadata": {
        "id": "6NLhlFqyEgBf"
      },
      "outputs": [],
      "source": [
        "%%capture\n",
        "!apt install plastimatch"
      ]
    },
    {
      "cell_type": "code",
      "execution_count": 5,
      "metadata": {
        "colab": {
          "base_uri": "https://localhost:8080/"
        },
        "id": "_ILwxgbcfcpr",
        "outputId": "88ef6d32-eb48-4a5b-dfbf-07bf35b5d176"
      },
      "outputs": [
        {
          "output_type": "stream",
          "name": "stdout",
          "text": [
            "plastimatch version 1.7.0\n"
          ]
        }
      ],
      "source": [
        "# check plastimatch was correctly installed\n",
        "!plastimatch --version"
      ]
    },
    {
      "cell_type": "markdown",
      "source": [
        "---\n",
        "\n",
        "Start by cloning the AIMI hub repository on the Colab instance.\n",
        "\n",
        "The AIMI hub repository stores all the code we will use for pulling, preprocessing, processing, and postprocessing the data for this use case - as long as the others shared through AIMI hub."
      ],
      "metadata": {
        "id": "MrNlgYZJIxkf"
      }
    },
    {
      "cell_type": "code",
      "source": [
        "!git clone https://github.com/AIM-Harvard/aimi_alpha.git aimi"
      ],
      "metadata": {
        "colab": {
          "base_uri": "https://localhost:8080/"
        },
        "id": "y5lBiCWMJF9d",
        "outputId": "1925ec39-ad14-47b2-e209-466ebd4de7f6"
      },
      "execution_count": 6,
      "outputs": [
        {
          "output_type": "stream",
          "name": "stdout",
          "text": [
            "Cloning into 'aimi'...\n",
            "remote: Enumerating objects: 409, done.\u001b[K\n",
            "remote: Counting objects: 100% (47/47), done.\u001b[K\n",
            "remote: Compressing objects: 100% (37/37), done.\u001b[K\n",
            "remote: Total 409 (delta 17), reused 29 (delta 9), pack-reused 362\u001b[K\n",
            "Receiving objects: 100% (409/409), 3.23 MiB | 29.05 MiB/s, done.\n",
            "Resolving deltas: 100% (211/211), done.\n"
          ]
        }
      ]
    },
    {
      "cell_type": "markdown",
      "source": [
        "To organise the DICOM data in a more common (and human-understandable) fashion after downloading those from the buckets, we will make use of [DICOMSort](https://github.com/pieper/dicomsort). \n",
        "\n",
        "DICOMSort is an open source tool for custom sorting and renaming of dicom files based on their specific DICOM tags. In our case, we will exploit DICOMSort to organise the DICOM data by `PatientID` and `Modality` - so that the final directory will look like the following:\n",
        "\n",
        "```\n",
        "data/raw/nsclc-radiomics/dicom/$PatientID\n",
        " └─── CT\n",
        "       ├─── $SOPInstanceUID_slice0.dcm\n",
        "       ├─── $SOPInstanceUID_slice1.dcm\n",
        "       ├───  ...\n",
        "       │\n",
        "      RTSTRUCT \n",
        "       ├─── $SOPInstanceUID_RTSTRUCT.dcm\n",
        "      SEG\n",
        "       └─── $SOPInstanceUID_RTSEG.dcm\n",
        "\n",
        "```"
      ],
      "metadata": {
        "id": "Pcj1hYK7lzmA"
      }
    },
    {
      "cell_type": "code",
      "source": [
        "!git clone https://github.com/pieper/dicomsort dicomsort"
      ],
      "metadata": {
        "colab": {
          "base_uri": "https://localhost:8080/"
        },
        "id": "Py53FxrlD9eK",
        "outputId": "39231f49-8e22-4711-b70c-112947f446df"
      },
      "execution_count": 7,
      "outputs": [
        {
          "output_type": "stream",
          "name": "stdout",
          "text": [
            "Cloning into 'dicomsort'...\n",
            "remote: Enumerating objects: 130, done.\u001b[K\n",
            "remote: Counting objects:  25% (1/4)\u001b[K\rremote: Counting objects:  50% (2/4)\u001b[K\rremote: Counting objects:  75% (3/4)\u001b[K\rremote: Counting objects: 100% (4/4)\u001b[K\rremote: Counting objects: 100% (4/4), done.\u001b[K\n",
            "remote: Compressing objects:  25% (1/4)\u001b[K\rremote: Compressing objects:  50% (2/4)\u001b[K\rremote: Compressing objects:  75% (3/4)\u001b[K\rremote: Compressing objects: 100% (4/4)\u001b[K\rremote: Compressing objects: 100% (4/4), done.\u001b[K\n",
            "remote: Total 130 (delta 0), reused 1 (delta 0), pack-reused 126\u001b[K\n",
            "Receiving objects: 100% (130/130), 44.12 KiB | 2.59 MiB/s, done.\n",
            "Resolving deltas: 100% (63/63), done.\n"
          ]
        }
      ]
    },
    {
      "cell_type": "markdown",
      "metadata": {
        "id": "7ztrKrzSm1WT"
      },
      "source": [
        "We will also use DCMQI for converting the resulting segmentation into standard DICOM SEG objects."
      ]
    },
    {
      "cell_type": "code",
      "execution_count": 8,
      "metadata": {
        "id": "iYf72nA8m0wh"
      },
      "outputs": [],
      "source": [
        "%%capture\n",
        "dcmqi_release_url = \"https://github.com/QIICR/dcmqi/releases/download/v1.2.4/dcmqi-1.2.4-linux.tar.gz\"\n",
        "dcmqi_download_path = \"/content/dcmqi-1.2.4-linux.tar.gz\"\n",
        "dcmqi_path = \"/content/dcmqi-1.2.4-linux\"\n",
        "\n",
        "!wget -O $dcmqi_download_path $dcmqi_release_url\n",
        "\n",
        "!tar -xvf $dcmqi_download_path\n",
        "\n",
        "!mv $dcmqi_path/bin/* /bin"
      ]
    },
    {
      "cell_type": "markdown",
      "metadata": {
        "id": "4JBJmF7rmz1S"
      },
      "source": [
        "---"
      ]
    },
    {
      "cell_type": "code",
      "execution_count": 9,
      "metadata": {
        "id": "CthT1kRuywEh"
      },
      "outputs": [],
      "source": [
        "%%capture\n",
        "!pip install pyplastimatch ipywidgets\n",
        "!pip install git+https://github.com/JoHof/lungmask"
      ]
    },
    {
      "cell_type": "code",
      "source": [
        "import shutil\n",
        "import random\n",
        "\n",
        "import json\n",
        "import pprint\n",
        "import numpy as np\n",
        "import pandas as pd\n",
        "\n",
        "import pydicom\n",
        "import nibabel as nib\n",
        "import SimpleITK as sitk\n",
        "import pyplastimatch as pypla\n",
        "\n",
        "print(\"Python version               : \", sys.version.split('\\n')[0])\n",
        "print(\"Numpy version                : \", np.__version__)\n",
        "\n",
        "# ----------------------------------------\n",
        "\n",
        "#everything that has to do with plotting goes here below\n",
        "import matplotlib\n",
        "matplotlib.use(\"agg\")\n",
        "\n",
        "import matplotlib.pyplot as plt\n",
        "from matplotlib.colors import ListedColormap\n",
        "from matplotlib.patches import Patch\n",
        "\n",
        "%matplotlib inline\n",
        "%config InlineBackend.figure_format = \"png\"\n",
        "\n",
        "import ipywidgets as ipyw\n",
        "\n",
        "## ----------------------------------------\n",
        "\n",
        "# create new colormap appending the alpha channel to the selected one\n",
        "# (so that we don't get a \\\"color overlay\\\" when plotting the segmask superimposed to the CT)\n",
        "cmap = plt.cm.Reds\n",
        "my_reds = cmap(np.arange(cmap.N))\n",
        "my_reds[:, -1] = np.linspace(0, 1, cmap.N)\n",
        "my_reds = ListedColormap(my_reds)\n",
        "\n",
        "cmap = plt.cm.Greens\n",
        "my_greens = cmap(np.arange(cmap.N))\n",
        "my_greens[:, -1] = np.linspace(0, 1, cmap.N)\n",
        "my_greens = ListedColormap(my_greens)\n",
        "\n",
        "cmap = plt.cm.Blues\n",
        "my_blues = cmap(np.arange(cmap.N))\n",
        "my_blues[:, -1] = np.linspace(0, 1, cmap.N)\n",
        "my_blues = ListedColormap(my_blues)\n",
        "\n",
        "cmap = plt.cm.spring\n",
        "my_spring = cmap(np.arange(cmap.N))\n",
        "my_spring[:, -1] = np.linspace(0, 1, cmap.N)\n",
        "my_spring = ListedColormap(my_spring)\n",
        "## ----------------------------------------\n",
        "\n",
        "import seaborn as sns"
      ],
      "metadata": {
        "colab": {
          "base_uri": "https://localhost:8080/"
        },
        "id": "3euRfHl7pe2u",
        "outputId": "dec97589-c0a3-4396-a719-a720fe7de470"
      },
      "execution_count": 10,
      "outputs": [
        {
          "output_type": "stream",
          "name": "stdout",
          "text": [
            "Python version               :  3.7.14 (default, Sep  8 2022, 00:06:44) \n",
            "Numpy version                :  1.21.6\n"
          ]
        }
      ]
    },
    {
      "cell_type": "markdown",
      "source": [
        "Provided everything was set up correctly, we can run the BigQuery query and get all the information we need to download the testing data from the IDC platform.\n",
        "\n",
        "For this specific use case, we are going to be working with the NSCLC-Radiomics collection (Chest CT scans of lung cancer patients, with manual delineation of various organs at risk)."
      ],
      "metadata": {
        "id": "aZOtlGtcmOq5"
      }
    },
    {
      "cell_type": "code",
      "source": [
        "%%bigquery --project=$project_id cohort_df\n",
        "\n",
        "SELECT\n",
        "  dicom_pivot_v11.PatientID,\n",
        "  dicom_pivot_v11.collection_id,\n",
        "  dicom_pivot_v11.source_DOI,\n",
        "  dicom_pivot_v11.StudyInstanceUID,\n",
        "  dicom_pivot_v11.SeriesInstanceUID,\n",
        "  dicom_pivot_v11.SOPInstanceUID,\n",
        "  dicom_pivot_v11.gcs_url\n",
        "FROM\n",
        "  `bigquery-public-data.idc_v11.dicom_pivot_v11` dicom_pivot_v11\n",
        "WHERE\n",
        "  StudyInstanceUID IN (\n",
        "    SELECT\n",
        "      StudyInstanceUID\n",
        "    FROM\n",
        "      `bigquery-public-data.idc_v11.dicom_pivot_v11` dicom_pivot_v11\n",
        "    WHERE\n",
        "      StudyInstanceUID IN (\n",
        "        SELECT\n",
        "          StudyInstanceUID\n",
        "        FROM\n",
        "          `bigquery-public-data.idc_v11.dicom_pivot_v11` dicom_pivot_v11\n",
        "        WHERE\n",
        "          (\n",
        "            LOWER(\n",
        "              dicom_pivot_v11.SegmentedPropertyTypeCodeSequence\n",
        "            ) LIKE LOWER('80891009:SCT')\n",
        "          )\n",
        "        GROUP BY\n",
        "          StudyInstanceUID\n",
        "        INTERSECT DISTINCT\n",
        "        SELECT\n",
        "          StudyInstanceUID\n",
        "        FROM\n",
        "          `bigquery-public-data.idc_v11.dicom_pivot_v11` dicom_pivot_v11\n",
        "        WHERE\n",
        "          (\n",
        "            dicom_pivot_v11.collection_id IN ('Community', 'nsclc_radiomics')\n",
        "          )\n",
        "        GROUP BY\n",
        "          StudyInstanceUID\n",
        "      )\n",
        "    GROUP BY\n",
        "      StudyInstanceUID\n",
        "  )\n",
        "GROUP BY\n",
        "  dicom_pivot_v11.PatientID,\n",
        "  dicom_pivot_v11.collection_id,\n",
        "  dicom_pivot_v11.source_DOI,\n",
        "  dicom_pivot_v11.StudyInstanceUID,\n",
        "  dicom_pivot_v11.SeriesInstanceUID,\n",
        "  dicom_pivot_v11.SOPInstanceUID,\n",
        "  dicom_pivot_v11.gcs_url\n",
        "ORDER BY\n",
        "  dicom_pivot_v11.PatientID ASC,\n",
        "  dicom_pivot_v11.collection_id ASC,\n",
        "  dicom_pivot_v11.source_DOI ASC,\n",
        "  dicom_pivot_v11.StudyInstanceUID ASC,\n",
        "  dicom_pivot_v11.SeriesInstanceUID ASC,\n",
        "  dicom_pivot_v11.SOPInstanceUID ASC,\n",
        "  dicom_pivot_v11.gcs_url ASC"
      ],
      "metadata": {
        "id": "_8hRj0E5FW0A"
      },
      "execution_count": 11,
      "outputs": []
    },
    {
      "cell_type": "code",
      "source": [
        "# this works as intended only if the BQ query parses data from a single dataset\n",
        "# if not, feel free to set the name manually!\n",
        "dataset_name = cohort_df[\"collection_id\"].values[0]\n",
        "\n",
        "dataset_name"
      ],
      "metadata": {
        "id": "oZApCCVLkZyb",
        "colab": {
          "base_uri": "https://localhost:8080/",
          "height": 35
        },
        "outputId": "8b6e9a97-6a79-4556-b8a1-4d2da4d9f08d"
      },
      "execution_count": 12,
      "outputs": [
        {
          "output_type": "execute_result",
          "data": {
            "text/plain": [
              "'nsclc_radiomics'"
            ],
            "application/vnd.google.colaboratory.intrinsic+json": {
              "type": "string"
            }
          },
          "metadata": {},
          "execution_count": 12
        }
      ]
    },
    {
      "cell_type": "code",
      "execution_count": 13,
      "metadata": {
        "id": "GNutD-SRN52T"
      },
      "outputs": [],
      "source": [
        "# create the directory tree\n",
        "!mkdir -p data models\n",
        "\n",
        "!mkdir -p data/raw \n",
        "!mkdir -p data/raw/tmp data/raw/$dataset_name\n",
        "!mkdir -p data/raw/$dataset_name/dicom\n",
        "\n",
        "!mkdir -p data/processed\n",
        "!mkdir -p data/processed/$dataset_name\n",
        "!mkdir -p data/processed/$dataset_name/nii\n",
        "!mkdir -p data/processed/$dataset_name/dicomseg\n",
        "\n",
        "!mkdir -p data/model_input/\n",
        "!mkdir -p data/lungmask_output/"
      ]
    },
    {
      "cell_type": "markdown",
      "metadata": {
        "id": "0Qu6eXpHx6iV"
      },
      "source": [
        "## **Parsing Cohort Information from BigQuery Tables**\n",
        "\n",
        "We can check the various fields of the table we populated by running the BigQuery query.\n",
        "\n",
        "This table will store one entry for each DICOM file in the dataset (therefore, expect thousands of rows!)"
      ]
    },
    {
      "cell_type": "code",
      "execution_count": 14,
      "metadata": {
        "colab": {
          "base_uri": "https://localhost:8080/",
          "height": 989
        },
        "id": "V27IJihCi9Kv",
        "outputId": "86a9c003-7f17-447d-a320-4335ae120e0c"
      },
      "outputs": [
        {
          "output_type": "stream",
          "name": "stdout",
          "text": [
            "Total number of unique Patient IDs: 127\n",
            "<class 'pandas.core.frame.DataFrame'>\n",
            "RangeIndex: 15678 entries, 0 to 15677\n",
            "Data columns (total 7 columns):\n",
            " #   Column             Non-Null Count  Dtype \n",
            "---  ------             --------------  ----- \n",
            " 0   PatientID          15678 non-null  object\n",
            " 1   collection_id      15678 non-null  object\n",
            " 2   source_DOI         15678 non-null  object\n",
            " 3   StudyInstanceUID   15678 non-null  object\n",
            " 4   SeriesInstanceUID  15678 non-null  object\n",
            " 5   SOPInstanceUID     15678 non-null  object\n",
            " 6   gcs_url            15678 non-null  object\n",
            "dtypes: object(7)\n",
            "memory usage: 857.5+ KB\n"
          ]
        },
        {
          "output_type": "display_data",
          "data": {
            "text/plain": [
              "None"
            ]
          },
          "metadata": {}
        },
        {
          "output_type": "display_data",
          "data": {
            "text/plain": [
              "   PatientID    collection_id                     source_DOI  \\\n",
              "0  LUNG1-002  nsclc_radiomics  10.7937/K9/TCIA.2015.PF0M9REI   \n",
              "1  LUNG1-002  nsclc_radiomics  10.7937/K9/TCIA.2015.PF0M9REI   \n",
              "2  LUNG1-002  nsclc_radiomics  10.7937/K9/TCIA.2015.PF0M9REI   \n",
              "3  LUNG1-002  nsclc_radiomics  10.7937/K9/TCIA.2015.PF0M9REI   \n",
              "4  LUNG1-002  nsclc_radiomics  10.7937/K9/TCIA.2015.PF0M9REI   \n",
              "\n",
              "                                    StudyInstanceUID  \\\n",
              "0  1.3.6.1.4.1.32722.99.99.2037150038059966416957...   \n",
              "1  1.3.6.1.4.1.32722.99.99.2037150038059966416957...   \n",
              "2  1.3.6.1.4.1.32722.99.99.2037150038059966416957...   \n",
              "3  1.3.6.1.4.1.32722.99.99.2037150038059966416957...   \n",
              "4  1.3.6.1.4.1.32722.99.99.2037150038059966416957...   \n",
              "\n",
              "                                   SeriesInstanceUID  \\\n",
              "0  1.2.276.0.7230010.3.1.3.2323910823.11504.15972...   \n",
              "1  1.3.6.1.4.1.32722.99.99.2329880015517990803358...   \n",
              "2  1.3.6.1.4.1.32722.99.99.2329880015517990803358...   \n",
              "3  1.3.6.1.4.1.32722.99.99.2329880015517990803358...   \n",
              "4  1.3.6.1.4.1.32722.99.99.2329880015517990803358...   \n",
              "\n",
              "                                      SOPInstanceUID  \\\n",
              "0  1.2.276.0.7230010.3.1.4.2323910823.11504.15972...   \n",
              "1  1.3.6.1.4.1.32722.99.99.1004190115743500844746...   \n",
              "2  1.3.6.1.4.1.32722.99.99.1031280376053401623619...   \n",
              "3  1.3.6.1.4.1.32722.99.99.1075071405629330534974...   \n",
              "4  1.3.6.1.4.1.32722.99.99.1125363119759695902111...   \n",
              "\n",
              "                                             gcs_url  \n",
              "0  gs://idc-open-cr/eff917af-8a2a-42fe-9e12-22bce...  \n",
              "1  gs://idc-open-cr/f8cbf725-621d-4e18-8326-41789...  \n",
              "2  gs://idc-open-cr/c73b3d12-78b1-4456-9a88-91ba2...  \n",
              "3  gs://idc-open-cr/48b4ae0a-6936-44b4-a6bd-27c92...  \n",
              "4  gs://idc-open-cr/3c36a30a-630b-4183-b87d-8a238...  "
            ],
            "text/html": [
              "\n",
              "  <div id=\"df-da4d4bc2-53d4-4722-8249-25126040ada0\">\n",
              "    <div class=\"colab-df-container\">\n",
              "      <div>\n",
              "<style scoped>\n",
              "    .dataframe tbody tr th:only-of-type {\n",
              "        vertical-align: middle;\n",
              "    }\n",
              "\n",
              "    .dataframe tbody tr th {\n",
              "        vertical-align: top;\n",
              "    }\n",
              "\n",
              "    .dataframe thead th {\n",
              "        text-align: right;\n",
              "    }\n",
              "</style>\n",
              "<table border=\"1\" class=\"dataframe\">\n",
              "  <thead>\n",
              "    <tr style=\"text-align: right;\">\n",
              "      <th></th>\n",
              "      <th>PatientID</th>\n",
              "      <th>collection_id</th>\n",
              "      <th>source_DOI</th>\n",
              "      <th>StudyInstanceUID</th>\n",
              "      <th>SeriesInstanceUID</th>\n",
              "      <th>SOPInstanceUID</th>\n",
              "      <th>gcs_url</th>\n",
              "    </tr>\n",
              "  </thead>\n",
              "  <tbody>\n",
              "    <tr>\n",
              "      <th>0</th>\n",
              "      <td>LUNG1-002</td>\n",
              "      <td>nsclc_radiomics</td>\n",
              "      <td>10.7937/K9/TCIA.2015.PF0M9REI</td>\n",
              "      <td>1.3.6.1.4.1.32722.99.99.2037150038059966416957...</td>\n",
              "      <td>1.2.276.0.7230010.3.1.3.2323910823.11504.15972...</td>\n",
              "      <td>1.2.276.0.7230010.3.1.4.2323910823.11504.15972...</td>\n",
              "      <td>gs://idc-open-cr/eff917af-8a2a-42fe-9e12-22bce...</td>\n",
              "    </tr>\n",
              "    <tr>\n",
              "      <th>1</th>\n",
              "      <td>LUNG1-002</td>\n",
              "      <td>nsclc_radiomics</td>\n",
              "      <td>10.7937/K9/TCIA.2015.PF0M9REI</td>\n",
              "      <td>1.3.6.1.4.1.32722.99.99.2037150038059966416957...</td>\n",
              "      <td>1.3.6.1.4.1.32722.99.99.2329880015517990803358...</td>\n",
              "      <td>1.3.6.1.4.1.32722.99.99.1004190115743500844746...</td>\n",
              "      <td>gs://idc-open-cr/f8cbf725-621d-4e18-8326-41789...</td>\n",
              "    </tr>\n",
              "    <tr>\n",
              "      <th>2</th>\n",
              "      <td>LUNG1-002</td>\n",
              "      <td>nsclc_radiomics</td>\n",
              "      <td>10.7937/K9/TCIA.2015.PF0M9REI</td>\n",
              "      <td>1.3.6.1.4.1.32722.99.99.2037150038059966416957...</td>\n",
              "      <td>1.3.6.1.4.1.32722.99.99.2329880015517990803358...</td>\n",
              "      <td>1.3.6.1.4.1.32722.99.99.1031280376053401623619...</td>\n",
              "      <td>gs://idc-open-cr/c73b3d12-78b1-4456-9a88-91ba2...</td>\n",
              "    </tr>\n",
              "    <tr>\n",
              "      <th>3</th>\n",
              "      <td>LUNG1-002</td>\n",
              "      <td>nsclc_radiomics</td>\n",
              "      <td>10.7937/K9/TCIA.2015.PF0M9REI</td>\n",
              "      <td>1.3.6.1.4.1.32722.99.99.2037150038059966416957...</td>\n",
              "      <td>1.3.6.1.4.1.32722.99.99.2329880015517990803358...</td>\n",
              "      <td>1.3.6.1.4.1.32722.99.99.1075071405629330534974...</td>\n",
              "      <td>gs://idc-open-cr/48b4ae0a-6936-44b4-a6bd-27c92...</td>\n",
              "    </tr>\n",
              "    <tr>\n",
              "      <th>4</th>\n",
              "      <td>LUNG1-002</td>\n",
              "      <td>nsclc_radiomics</td>\n",
              "      <td>10.7937/K9/TCIA.2015.PF0M9REI</td>\n",
              "      <td>1.3.6.1.4.1.32722.99.99.2037150038059966416957...</td>\n",
              "      <td>1.3.6.1.4.1.32722.99.99.2329880015517990803358...</td>\n",
              "      <td>1.3.6.1.4.1.32722.99.99.1125363119759695902111...</td>\n",
              "      <td>gs://idc-open-cr/3c36a30a-630b-4183-b87d-8a238...</td>\n",
              "    </tr>\n",
              "  </tbody>\n",
              "</table>\n",
              "</div>\n",
              "      <button class=\"colab-df-convert\" onclick=\"convertToInteractive('df-da4d4bc2-53d4-4722-8249-25126040ada0')\"\n",
              "              title=\"Convert this dataframe to an interactive table.\"\n",
              "              style=\"display:none;\">\n",
              "        \n",
              "  <svg xmlns=\"http://www.w3.org/2000/svg\" height=\"24px\"viewBox=\"0 0 24 24\"\n",
              "       width=\"24px\">\n",
              "    <path d=\"M0 0h24v24H0V0z\" fill=\"none\"/>\n",
              "    <path d=\"M18.56 5.44l.94 2.06.94-2.06 2.06-.94-2.06-.94-.94-2.06-.94 2.06-2.06.94zm-11 1L8.5 8.5l.94-2.06 2.06-.94-2.06-.94L8.5 2.5l-.94 2.06-2.06.94zm10 10l.94 2.06.94-2.06 2.06-.94-2.06-.94-.94-2.06-.94 2.06-2.06.94z\"/><path d=\"M17.41 7.96l-1.37-1.37c-.4-.4-.92-.59-1.43-.59-.52 0-1.04.2-1.43.59L10.3 9.45l-7.72 7.72c-.78.78-.78 2.05 0 2.83L4 21.41c.39.39.9.59 1.41.59.51 0 1.02-.2 1.41-.59l7.78-7.78 2.81-2.81c.8-.78.8-2.07 0-2.86zM5.41 20L4 18.59l7.72-7.72 1.47 1.35L5.41 20z\"/>\n",
              "  </svg>\n",
              "      </button>\n",
              "      \n",
              "  <style>\n",
              "    .colab-df-container {\n",
              "      display:flex;\n",
              "      flex-wrap:wrap;\n",
              "      gap: 12px;\n",
              "    }\n",
              "\n",
              "    .colab-df-convert {\n",
              "      background-color: #E8F0FE;\n",
              "      border: none;\n",
              "      border-radius: 50%;\n",
              "      cursor: pointer;\n",
              "      display: none;\n",
              "      fill: #1967D2;\n",
              "      height: 32px;\n",
              "      padding: 0 0 0 0;\n",
              "      width: 32px;\n",
              "    }\n",
              "\n",
              "    .colab-df-convert:hover {\n",
              "      background-color: #E2EBFA;\n",
              "      box-shadow: 0px 1px 2px rgba(60, 64, 67, 0.3), 0px 1px 3px 1px rgba(60, 64, 67, 0.15);\n",
              "      fill: #174EA6;\n",
              "    }\n",
              "\n",
              "    [theme=dark] .colab-df-convert {\n",
              "      background-color: #3B4455;\n",
              "      fill: #D2E3FC;\n",
              "    }\n",
              "\n",
              "    [theme=dark] .colab-df-convert:hover {\n",
              "      background-color: #434B5C;\n",
              "      box-shadow: 0px 1px 3px 1px rgba(0, 0, 0, 0.15);\n",
              "      filter: drop-shadow(0px 1px 2px rgba(0, 0, 0, 0.3));\n",
              "      fill: #FFFFFF;\n",
              "    }\n",
              "  </style>\n",
              "\n",
              "      <script>\n",
              "        const buttonEl =\n",
              "          document.querySelector('#df-da4d4bc2-53d4-4722-8249-25126040ada0 button.colab-df-convert');\n",
              "        buttonEl.style.display =\n",
              "          google.colab.kernel.accessAllowed ? 'block' : 'none';\n",
              "\n",
              "        async function convertToInteractive(key) {\n",
              "          const element = document.querySelector('#df-da4d4bc2-53d4-4722-8249-25126040ada0');\n",
              "          const dataTable =\n",
              "            await google.colab.kernel.invokeFunction('convertToInteractive',\n",
              "                                                     [key], {});\n",
              "          if (!dataTable) return;\n",
              "\n",
              "          const docLinkHtml = 'Like what you see? Visit the ' +\n",
              "            '<a target=\"_blank\" href=https://colab.research.google.com/notebooks/data_table.ipynb>data table notebook</a>'\n",
              "            + ' to learn more about interactive tables.';\n",
              "          element.innerHTML = '';\n",
              "          dataTable['output_type'] = 'display_data';\n",
              "          await google.colab.output.renderOutput(dataTable, element);\n",
              "          const docLink = document.createElement('div');\n",
              "          docLink.innerHTML = docLinkHtml;\n",
              "          element.appendChild(docLink);\n",
              "        }\n",
              "      </script>\n",
              "    </div>\n",
              "  </div>\n",
              "  "
            ]
          },
          "metadata": {}
        }
      ],
      "source": [
        "pat_id_list = sorted(list(set(cohort_df[\"PatientID\"].values)))\n",
        "\n",
        "print(\"Total number of unique Patient IDs:\", len(pat_id_list))\n",
        "\n",
        "display(cohort_df.info())\n",
        "\n",
        "display(cohort_df.head())"
      ]
    },
    {
      "cell_type": "markdown",
      "metadata": {
        "id": "AolLtXOLVt7D"
      },
      "source": [
        "---\n",
        "\n",
        "## **Set Run Parameters**\n",
        "\n",
        "Here below, we specify some of the variables we will use for the LungMask inference step and conversion to DICOM SEG.\n"
      ]
    },
    {
      "cell_type": "code",
      "execution_count": 15,
      "metadata": {
        "id": "TRmrt00589lv"
      },
      "outputs": [],
      "source": [
        "# FIXED PARAMETERS\n",
        "data_base_path = \"/content/data\"\n",
        "raw_base_path = \"/content/data/raw/tmp\"\n",
        "sorted_base_path = os.path.join(\"/content/data/raw/\", dataset_name, \"dicom\")\n",
        "\n",
        "processed_base_path = os.path.join(\"/content/data/processed/\", dataset_name)\n",
        "processed_nifti_path = os.path.join(processed_base_path, \"nii\")\n",
        "\n",
        "processed_dicomseg_path = os.path.join(processed_base_path, \"dicomseg\")\n",
        "\n",
        "model_input_folder = \"/content/data/model_input/\"\n",
        "model_output_folder = \"/content/data/lungmask_output/\"\n",
        "\n",
        "dicomseg_json_path = \"/content/aimi/aimi/lungmask/config/dicomseg_metadata.json\""
      ]
    },
    {
      "cell_type": "markdown",
      "metadata": {
        "id": "-n0qjPp1B_mv"
      },
      "source": [
        "## **Running the Analysis for a Single Patient**"
      ]
    },
    {
      "cell_type": "code",
      "source": [
        "import aimi.aimi as aimi\n",
        "\n",
        "from aimi import general_utils as aimi_utils\n",
        "from aimi import lungmask as aimi_model"
      ],
      "metadata": {
        "id": "vPPZRieLM5K-"
      },
      "execution_count": 16,
      "outputs": []
    },
    {
      "cell_type": "markdown",
      "source": [
        "The following cells run all the processing pipeline, from pre-processing to post-processing."
      ],
      "metadata": {
        "id": "0pFSCy5HoOp_"
      }
    },
    {
      "cell_type": "code",
      "source": [
        "pat_id = random.choice(cohort_df[\"PatientID\"].values)\n",
        "pat_df = cohort_df[cohort_df[\"PatientID\"] == pat_id].reset_index(drop = True)\n",
        "\n",
        "display(pat_df.info())\n",
        "display(pat_df.head())"
      ],
      "metadata": {
        "colab": {
          "base_uri": "https://localhost:8080/",
          "height": 936
        },
        "id": "BTURQtGPgeQF",
        "outputId": "3723af04-ecbe-480e-850a-6addfe13e9c1"
      },
      "execution_count": 17,
      "outputs": [
        {
          "output_type": "stream",
          "name": "stdout",
          "text": [
            "<class 'pandas.core.frame.DataFrame'>\n",
            "RangeIndex: 114 entries, 0 to 113\n",
            "Data columns (total 7 columns):\n",
            " #   Column             Non-Null Count  Dtype \n",
            "---  ------             --------------  ----- \n",
            " 0   PatientID          114 non-null    object\n",
            " 1   collection_id      114 non-null    object\n",
            " 2   source_DOI         114 non-null    object\n",
            " 3   StudyInstanceUID   114 non-null    object\n",
            " 4   SeriesInstanceUID  114 non-null    object\n",
            " 5   SOPInstanceUID     114 non-null    object\n",
            " 6   gcs_url            114 non-null    object\n",
            "dtypes: object(7)\n",
            "memory usage: 6.4+ KB\n"
          ]
        },
        {
          "output_type": "display_data",
          "data": {
            "text/plain": [
              "None"
            ]
          },
          "metadata": {}
        },
        {
          "output_type": "display_data",
          "data": {
            "text/plain": [
              "   PatientID    collection_id                     source_DOI  \\\n",
              "0  LUNG1-103  nsclc_radiomics  10.7937/K9/TCIA.2015.PF0M9REI   \n",
              "1  LUNG1-103  nsclc_radiomics  10.7937/K9/TCIA.2015.PF0M9REI   \n",
              "2  LUNG1-103  nsclc_radiomics  10.7937/K9/TCIA.2015.PF0M9REI   \n",
              "3  LUNG1-103  nsclc_radiomics  10.7937/K9/TCIA.2015.PF0M9REI   \n",
              "4  LUNG1-103  nsclc_radiomics  10.7937/K9/TCIA.2015.PF0M9REI   \n",
              "\n",
              "                                    StudyInstanceUID  \\\n",
              "0  1.3.6.1.4.1.32722.99.99.9509124927869378907016...   \n",
              "1  1.3.6.1.4.1.32722.99.99.9509124927869378907016...   \n",
              "2  1.3.6.1.4.1.32722.99.99.9509124927869378907016...   \n",
              "3  1.3.6.1.4.1.32722.99.99.9509124927869378907016...   \n",
              "4  1.3.6.1.4.1.32722.99.99.9509124927869378907016...   \n",
              "\n",
              "                                   SeriesInstanceUID  \\\n",
              "0  1.2.276.0.7230010.3.1.3.2323910823.17256.15972...   \n",
              "1  1.3.6.1.4.1.32722.99.99.1750581825639617227311...   \n",
              "2  1.3.6.1.4.1.32722.99.99.2880931354100048642323...   \n",
              "3  1.3.6.1.4.1.32722.99.99.2880931354100048642323...   \n",
              "4  1.3.6.1.4.1.32722.99.99.2880931354100048642323...   \n",
              "\n",
              "                                      SOPInstanceUID  \\\n",
              "0  1.2.276.0.7230010.3.1.4.2323910823.17256.15972...   \n",
              "1  1.3.6.1.4.1.32722.99.99.1091769666371917878218...   \n",
              "2  1.3.6.1.4.1.32722.99.99.1022379727386505311442...   \n",
              "3  1.3.6.1.4.1.32722.99.99.1088680118050829150328...   \n",
              "4  1.3.6.1.4.1.32722.99.99.1092341942886933763350...   \n",
              "\n",
              "                                             gcs_url  \n",
              "0  gs://idc-open-cr/4cf0beed-2347-40a8-b72e-de993...  \n",
              "1  gs://idc-open-cr/31a2404b-b7df-485f-899e-daa6b...  \n",
              "2  gs://idc-open-cr/4c1f46d4-bbba-4704-aff1-82a3e...  \n",
              "3  gs://idc-open-cr/3ba83262-122d-4d77-8bb8-1d8fa...  \n",
              "4  gs://idc-open-cr/34666409-5569-4209-9ae3-bb90e...  "
            ],
            "text/html": [
              "\n",
              "  <div id=\"df-e22e2a15-d2de-4f35-8e75-c10b842a1556\">\n",
              "    <div class=\"colab-df-container\">\n",
              "      <div>\n",
              "<style scoped>\n",
              "    .dataframe tbody tr th:only-of-type {\n",
              "        vertical-align: middle;\n",
              "    }\n",
              "\n",
              "    .dataframe tbody tr th {\n",
              "        vertical-align: top;\n",
              "    }\n",
              "\n",
              "    .dataframe thead th {\n",
              "        text-align: right;\n",
              "    }\n",
              "</style>\n",
              "<table border=\"1\" class=\"dataframe\">\n",
              "  <thead>\n",
              "    <tr style=\"text-align: right;\">\n",
              "      <th></th>\n",
              "      <th>PatientID</th>\n",
              "      <th>collection_id</th>\n",
              "      <th>source_DOI</th>\n",
              "      <th>StudyInstanceUID</th>\n",
              "      <th>SeriesInstanceUID</th>\n",
              "      <th>SOPInstanceUID</th>\n",
              "      <th>gcs_url</th>\n",
              "    </tr>\n",
              "  </thead>\n",
              "  <tbody>\n",
              "    <tr>\n",
              "      <th>0</th>\n",
              "      <td>LUNG1-103</td>\n",
              "      <td>nsclc_radiomics</td>\n",
              "      <td>10.7937/K9/TCIA.2015.PF0M9REI</td>\n",
              "      <td>1.3.6.1.4.1.32722.99.99.9509124927869378907016...</td>\n",
              "      <td>1.2.276.0.7230010.3.1.3.2323910823.17256.15972...</td>\n",
              "      <td>1.2.276.0.7230010.3.1.4.2323910823.17256.15972...</td>\n",
              "      <td>gs://idc-open-cr/4cf0beed-2347-40a8-b72e-de993...</td>\n",
              "    </tr>\n",
              "    <tr>\n",
              "      <th>1</th>\n",
              "      <td>LUNG1-103</td>\n",
              "      <td>nsclc_radiomics</td>\n",
              "      <td>10.7937/K9/TCIA.2015.PF0M9REI</td>\n",
              "      <td>1.3.6.1.4.1.32722.99.99.9509124927869378907016...</td>\n",
              "      <td>1.3.6.1.4.1.32722.99.99.1750581825639617227311...</td>\n",
              "      <td>1.3.6.1.4.1.32722.99.99.1091769666371917878218...</td>\n",
              "      <td>gs://idc-open-cr/31a2404b-b7df-485f-899e-daa6b...</td>\n",
              "    </tr>\n",
              "    <tr>\n",
              "      <th>2</th>\n",
              "      <td>LUNG1-103</td>\n",
              "      <td>nsclc_radiomics</td>\n",
              "      <td>10.7937/K9/TCIA.2015.PF0M9REI</td>\n",
              "      <td>1.3.6.1.4.1.32722.99.99.9509124927869378907016...</td>\n",
              "      <td>1.3.6.1.4.1.32722.99.99.2880931354100048642323...</td>\n",
              "      <td>1.3.6.1.4.1.32722.99.99.1022379727386505311442...</td>\n",
              "      <td>gs://idc-open-cr/4c1f46d4-bbba-4704-aff1-82a3e...</td>\n",
              "    </tr>\n",
              "    <tr>\n",
              "      <th>3</th>\n",
              "      <td>LUNG1-103</td>\n",
              "      <td>nsclc_radiomics</td>\n",
              "      <td>10.7937/K9/TCIA.2015.PF0M9REI</td>\n",
              "      <td>1.3.6.1.4.1.32722.99.99.9509124927869378907016...</td>\n",
              "      <td>1.3.6.1.4.1.32722.99.99.2880931354100048642323...</td>\n",
              "      <td>1.3.6.1.4.1.32722.99.99.1088680118050829150328...</td>\n",
              "      <td>gs://idc-open-cr/3ba83262-122d-4d77-8bb8-1d8fa...</td>\n",
              "    </tr>\n",
              "    <tr>\n",
              "      <th>4</th>\n",
              "      <td>LUNG1-103</td>\n",
              "      <td>nsclc_radiomics</td>\n",
              "      <td>10.7937/K9/TCIA.2015.PF0M9REI</td>\n",
              "      <td>1.3.6.1.4.1.32722.99.99.9509124927869378907016...</td>\n",
              "      <td>1.3.6.1.4.1.32722.99.99.2880931354100048642323...</td>\n",
              "      <td>1.3.6.1.4.1.32722.99.99.1092341942886933763350...</td>\n",
              "      <td>gs://idc-open-cr/34666409-5569-4209-9ae3-bb90e...</td>\n",
              "    </tr>\n",
              "  </tbody>\n",
              "</table>\n",
              "</div>\n",
              "      <button class=\"colab-df-convert\" onclick=\"convertToInteractive('df-e22e2a15-d2de-4f35-8e75-c10b842a1556')\"\n",
              "              title=\"Convert this dataframe to an interactive table.\"\n",
              "              style=\"display:none;\">\n",
              "        \n",
              "  <svg xmlns=\"http://www.w3.org/2000/svg\" height=\"24px\"viewBox=\"0 0 24 24\"\n",
              "       width=\"24px\">\n",
              "    <path d=\"M0 0h24v24H0V0z\" fill=\"none\"/>\n",
              "    <path d=\"M18.56 5.44l.94 2.06.94-2.06 2.06-.94-2.06-.94-.94-2.06-.94 2.06-2.06.94zm-11 1L8.5 8.5l.94-2.06 2.06-.94-2.06-.94L8.5 2.5l-.94 2.06-2.06.94zm10 10l.94 2.06.94-2.06 2.06-.94-2.06-.94-.94-2.06-.94 2.06-2.06.94z\"/><path d=\"M17.41 7.96l-1.37-1.37c-.4-.4-.92-.59-1.43-.59-.52 0-1.04.2-1.43.59L10.3 9.45l-7.72 7.72c-.78.78-.78 2.05 0 2.83L4 21.41c.39.39.9.59 1.41.59.51 0 1.02-.2 1.41-.59l7.78-7.78 2.81-2.81c.8-.78.8-2.07 0-2.86zM5.41 20L4 18.59l7.72-7.72 1.47 1.35L5.41 20z\"/>\n",
              "  </svg>\n",
              "      </button>\n",
              "      \n",
              "  <style>\n",
              "    .colab-df-container {\n",
              "      display:flex;\n",
              "      flex-wrap:wrap;\n",
              "      gap: 12px;\n",
              "    }\n",
              "\n",
              "    .colab-df-convert {\n",
              "      background-color: #E8F0FE;\n",
              "      border: none;\n",
              "      border-radius: 50%;\n",
              "      cursor: pointer;\n",
              "      display: none;\n",
              "      fill: #1967D2;\n",
              "      height: 32px;\n",
              "      padding: 0 0 0 0;\n",
              "      width: 32px;\n",
              "    }\n",
              "\n",
              "    .colab-df-convert:hover {\n",
              "      background-color: #E2EBFA;\n",
              "      box-shadow: 0px 1px 2px rgba(60, 64, 67, 0.3), 0px 1px 3px 1px rgba(60, 64, 67, 0.15);\n",
              "      fill: #174EA6;\n",
              "    }\n",
              "\n",
              "    [theme=dark] .colab-df-convert {\n",
              "      background-color: #3B4455;\n",
              "      fill: #D2E3FC;\n",
              "    }\n",
              "\n",
              "    [theme=dark] .colab-df-convert:hover {\n",
              "      background-color: #434B5C;\n",
              "      box-shadow: 0px 1px 3px 1px rgba(0, 0, 0, 0.15);\n",
              "      filter: drop-shadow(0px 1px 2px rgba(0, 0, 0, 0.3));\n",
              "      fill: #FFFFFF;\n",
              "    }\n",
              "  </style>\n",
              "\n",
              "      <script>\n",
              "        const buttonEl =\n",
              "          document.querySelector('#df-e22e2a15-d2de-4f35-8e75-c10b842a1556 button.colab-df-convert');\n",
              "        buttonEl.style.display =\n",
              "          google.colab.kernel.accessAllowed ? 'block' : 'none';\n",
              "\n",
              "        async function convertToInteractive(key) {\n",
              "          const element = document.querySelector('#df-e22e2a15-d2de-4f35-8e75-c10b842a1556');\n",
              "          const dataTable =\n",
              "            await google.colab.kernel.invokeFunction('convertToInteractive',\n",
              "                                                     [key], {});\n",
              "          if (!dataTable) return;\n",
              "\n",
              "          const docLinkHtml = 'Like what you see? Visit the ' +\n",
              "            '<a target=\"_blank\" href=https://colab.research.google.com/notebooks/data_table.ipynb>data table notebook</a>'\n",
              "            + ' to learn more about interactive tables.';\n",
              "          element.innerHTML = '';\n",
              "          dataTable['output_type'] = 'display_data';\n",
              "          await google.colab.output.renderOutput(dataTable, element);\n",
              "          const docLink = document.createElement('div');\n",
              "          docLink.innerHTML = docLinkHtml;\n",
              "          element.appendChild(docLink);\n",
              "        }\n",
              "      </script>\n",
              "    </div>\n",
              "  </div>\n",
              "  "
            ]
          },
          "metadata": {}
        }
      ]
    },
    {
      "cell_type": "code",
      "source": [
        "# init\n",
        "\n",
        "print(\"Processing patient: %s\"%(pat_id))\n",
        "\n",
        "patient_df = cohort_df[cohort_df[\"PatientID\"] == pat_id]\n",
        "\n",
        "dicomseg_fn = pat_id + \"_SEG.dcm\"\n",
        "\n",
        "input_nifti_fn = pat_id + \".nii.gz\"\n",
        "input_nifti_path = os.path.join(model_input_folder, input_nifti_fn)"
      ],
      "metadata": {
        "colab": {
          "base_uri": "https://localhost:8080/"
        },
        "id": "S7a6h_iINlvq",
        "outputId": "06835034-c6dc-4b2d-c020-a547e19cd74f"
      },
      "execution_count": 18,
      "outputs": [
        {
          "output_type": "stream",
          "name": "stdout",
          "text": [
            "Processing patient: LUNG1-103\n"
          ]
        }
      ]
    },
    {
      "cell_type": "code",
      "source": [
        "# data cross-loading\n",
        "aimi_utils.gcs.download_patient_data(raw_base_path = raw_base_path,\n",
        "                                     sorted_base_path = sorted_base_path,\n",
        "                                     patient_df = patient_df,\n",
        "                                     remove_raw = True)"
      ],
      "metadata": {
        "colab": {
          "base_uri": "https://localhost:8080/"
        },
        "id": "NZDxWkvCNlxw",
        "outputId": "c24b5e63-36e7-4e20-89a2-bac1a5046d66"
      },
      "execution_count": 19,
      "outputs": [
        {
          "output_type": "stream",
          "name": "stdout",
          "text": [
            "Copying files from IDC buckets to /content/data/raw/tmp/LUNG1-103...\n",
            "Done in 8.3775 seconds.\n",
            "\n",
            "Sorting DICOM files...\n",
            "Done in 1.24017 seconds.\n",
            "Sorted DICOM data saved at: /content/data/raw/nsclc_radiomics/dicom/LUNG1-103\n",
            "Removing un-sorted data at /content/data/raw/tmp/LUNG1-103...\n",
            "... Done.\n"
          ]
        }
      ]
    },
    {
      "cell_type": "code",
      "source": [
        "# DICOM CT to NIfTI - required for the processing\n",
        "aimi_utils.preprocessing.pypla_dicom_ct_to_nifti(sorted_base_path = sorted_base_path,\n",
        "                                                 processed_nifti_path = processed_nifti_path,\n",
        "                                                 pat_id = pat_id, verbose = True)"
      ],
      "metadata": {
        "colab": {
          "base_uri": "https://localhost:8080/"
        },
        "id": "FfsY-_EGNs19",
        "outputId": "7f479bdd-5a0f-4e37-bc0c-fca9cec73a56"
      },
      "execution_count": 20,
      "outputs": [
        {
          "output_type": "stream",
          "name": "stdout",
          "text": [
            "\n",
            "Running 'plastimatch convert' with the specified arguments:\n",
            "  --input /content/data/raw/nsclc_radiomics/dicom/LUNG1-103/CT\n",
            "  --output-img /content/data/processed/nsclc_radiomics/nii/LUNG1-103/LUNG1-103_CT.nii.gz\n",
            "... Done.\n"
          ]
        }
      ]
    },
    {
      "cell_type": "code",
      "source": [
        "# prepare the `model_input` folder for the inference phase\n",
        "aimi_utils.preprocessing.prep_input_data(processed_nifti_path = processed_nifti_path,\n",
        "                                         model_input_folder = model_input_folder,\n",
        "                                         pat_id = pat_id)"
      ],
      "metadata": {
        "colab": {
          "base_uri": "https://localhost:8080/"
        },
        "id": "0R547UiyNs4O",
        "outputId": "8a331734-0391-411b-f599-dee8823c885c"
      },
      "execution_count": 21,
      "outputs": [
        {
          "output_type": "stream",
          "name": "stdout",
          "text": [
            "Copying /content/data/processed/nsclc_radiomics/nii/LUNG1-103/LUNG1-103_CT.nii.gz\n",
            "to /content/data/model_input/LUNG1-103_0000.nii.gz...\n",
            "... Done.\n"
          ]
        }
      ]
    },
    {
      "cell_type": "markdown",
      "source": [
        "The following cell runs the DL-based segmentation.\n"
      ],
      "metadata": {
        "id": "LYlxAj05gY6w"
      }
    },
    {
      "cell_type": "code",
      "source": [
        "aimi_model.utils.processing.process_patient(pat_id = pat_id,\n",
        "                                            model_input_folder = model_input_folder,\n",
        "                                            model_output_folder = model_output_folder)"
      ],
      "metadata": {
        "id": "9Lw70nH9wlD9",
        "colab": {
          "base_uri": "https://localhost:8080/"
        },
        "outputId": "cf2a9acb-1137-4c8e-c68a-5e17cd124d57"
      },
      "execution_count": 22,
      "outputs": [
        {
          "output_type": "stream",
          "name": "stdout",
          "text": [
            "Done in 119.426 seconds.\n"
          ]
        }
      ]
    },
    {
      "cell_type": "markdown",
      "source": [
        "---"
      ],
      "metadata": {
        "id": "eEwp2iIYweUD"
      }
    },
    {
      "cell_type": "code",
      "source": [
        "processed_seg_folder = os.path.join(processed_nifti_path, pat_id, \"lungmask\")\n",
        "\n",
        "shutil.copytree(model_output_folder, processed_seg_folder)"
      ],
      "metadata": {
        "id": "vsViIeibKLb4",
        "colab": {
          "base_uri": "https://localhost:8080/",
          "height": 35
        },
        "outputId": "bb5a0b3e-d700-47a4-85f8-72488db76c31"
      },
      "execution_count": 23,
      "outputs": [
        {
          "output_type": "execute_result",
          "data": {
            "text/plain": [
              "'/content/data/processed/nsclc_radiomics/nii/LUNG1-103/lungmask'"
            ],
            "application/vnd.google.colaboratory.intrinsic+json": {
              "type": "string"
            }
          },
          "metadata": {},
          "execution_count": 23
        }
      ]
    },
    {
      "cell_type": "code",
      "source": [
        "aimi_model.utils.postprocessing.nifti_to_dicomseg(sorted_base_path = sorted_base_path,\n",
        "                                                  processed_base_path = processed_base_path,\n",
        "                                                  dicomseg_json_path = dicomseg_json_path,\n",
        "                                                  pat_id = pat_id)"
      ],
      "metadata": {
        "id": "-4vilcX1KLiI"
      },
      "execution_count": 24,
      "outputs": []
    },
    {
      "cell_type": "markdown",
      "source": [
        "---"
      ],
      "metadata": {
        "id": "But1jZOmo1YN"
      }
    },
    {
      "cell_type": "code",
      "source": [
        "from pyplastimatch.utils import viz as viz_utils"
      ],
      "metadata": {
        "id": "SPAivMyyqReY"
      },
      "execution_count": 25,
      "outputs": []
    },
    {
      "cell_type": "code",
      "source": [
        "processed_nifti_path = os.path.join(processed_base_path, \"nii\")\n",
        "\n",
        "ct_nifti_path = os.path.join(processed_nifti_path, pat_id, pat_id + \"_CT.nii.gz\")\n",
        "lungmask_output_folder = os.path.join(processed_nifti_path, pat_id, \"lungmask\")\n",
        "\n",
        "lungseg_nii_path = os.path.join(lungmask_output_folder, pat_id + \"_lungseg.nii.gz\")\n",
        "lobeseg_nii_path = os.path.join(lungmask_output_folder, pat_id + \"_lobeseg.nii.gz\")\n",
        "\n",
        "\"\"\"\n",
        "alternative way of loading the resulting NIfTI files\n",
        "nibabel can sometimes take better care of the orientation of the\n",
        "converted/segmented images, but will orient the data differently by default\n",
        "\"\"\"\n",
        "\n",
        "#ct_nii = nib.load(ct_nii_path).dataobj\n",
        "#seg_nii = nib.load(seg_nii_path).dataobj\n",
        "\n",
        "ct_nii = sitk.GetArrayFromImage(sitk.ReadImage(ct_nifti_path))\n",
        "lungseg_nii = sitk.GetArrayFromImage(sitk.ReadImage(lungseg_nii_path))\n",
        "lobeseg_nii = sitk.GetArrayFromImage(sitk.ReadImage(lobeseg_nii_path))"
      ],
      "metadata": {
        "id": "gxrHpkeapMKe"
      },
      "execution_count": 26,
      "outputs": []
    },
    {
      "cell_type": "code",
      "source": [
        "# class #1\n",
        "sup_lobe_right_nii = np.copy(lobeseg_nii)\n",
        "sup_lobe_right_nii[sup_lobe_right_nii != 1] = 0\n",
        "\n",
        "inf_lobe_right_nii = np.copy(lobeseg_nii)\n",
        "inf_lobe_right_nii[inf_lobe_right_nii != 2] = 0\n",
        "inf_lobe_right_nii[inf_lobe_right_nii == 2] = 1\n",
        "\n",
        "sup_lobe_left_nii = np.copy(lobeseg_nii)\n",
        "sup_lobe_left_nii[sup_lobe_left_nii != 3] = 0\n",
        "sup_lobe_left_nii[sup_lobe_left_nii == 3] = 1\n",
        "\n",
        "mid_lobe_left_nii = np.copy(lobeseg_nii)\n",
        "mid_lobe_left_nii[mid_lobe_left_nii != 4] = 0\n",
        "mid_lobe_left_nii[mid_lobe_left_nii == 4] = 1\n",
        "\n",
        "inf_lobe_left_nii = np.copy(lobeseg_nii)\n",
        "inf_lobe_left_nii[inf_lobe_left_nii != 5] = 0\n",
        "inf_lobe_left_nii[inf_lobe_left_nii == 5] = 1"
      ],
      "metadata": {
        "id": "GYtsUxb-yc49"
      },
      "execution_count": 27,
      "outputs": []
    },
    {
      "cell_type": "markdown",
      "source": [
        "In the next cell, we can visualise the result using a simple widget."
      ],
      "metadata": {
        "id": "5Ydjya0OX5yd"
      }
    },
    {
      "cell_type": "code",
      "source": [
        "segmask_dict = dict()\n",
        "segmask_cmap_dict = dict()\n",
        "\n",
        "_ = viz_utils.AxialSliceSegmaskViz(ct_volume = ct_nii,\n",
        "                                   segmask_dict = {\"sup_lobe_right\" : sup_lobe_right_nii,\n",
        "                                                   \"inf_lobe_right\" : inf_lobe_right_nii,\n",
        "                                                   \"sup_lobe_left\" : sup_lobe_left_nii,\n",
        "                                                   \"mid_lobe_left\" : mid_lobe_left_nii,\n",
        "                                                   \"inf_lobe_left\" : inf_lobe_left_nii},\n",
        "                                   segmask_cmap_dict = {\"sup_lobe_right\" : my_greens,\n",
        "                                                        \"inf_lobe_right\" : my_reds,\n",
        "                                                        \"sup_lobe_left\" : my_greens,\n",
        "                                                        \"mid_lobe_left\" : my_blues,\n",
        "                                                        \"inf_lobe_left\" : my_reds},\n",
        "                                   dpi = 100, figsize = (8, 8),\n",
        "                                   min_hu = -1024, max_hu = 1024)"
      ],
      "metadata": {
        "colab": {
          "base_uri": "https://localhost:8080/",
          "height": 701,
          "referenced_widgets": [
            "da5908d8b7f74424b9f79db802986e06",
            "e113c5a059e3445e95544c71faae9f32",
            "174e275fbe3f43c2a91ab2c80f473608",
            "6f99729a21e64cd5bc202a890f8a9582",
            "2e8e6def570b444b9d830dcc3d13f833",
            "7312d431131b4254876f418a696b6311",
            "0b21d32329f84823bd0048c5339adb98",
            "ff82b66a88f84238af5c4ec3a68bd9d8",
            "a1dd9926ebad4636866023929789ef2b",
            "a2cdbbe930f84d6b9932a5567d37287e",
            "11ed7224a75c4d29b09485218aa9d957"
          ]
        },
        "id": "hBuLhesXxWsq",
        "outputId": "a948e8d0-5276-4748-b2c6-965d250231a2"
      },
      "execution_count": 28,
      "outputs": [
        {
          "output_type": "display_data",
          "data": {
            "text/plain": [
              "interactive(children=(Output(),), _dom_classes=('widget-interact',))"
            ],
            "application/vnd.jupyter.widget-view+json": {
              "version_major": 2,
              "version_minor": 0,
              "model_id": "da5908d8b7f74424b9f79db802986e06"
            }
          },
          "metadata": {}
        }
      ]
    },
    {
      "cell_type": "markdown",
      "source": [
        "---\n",
        "\n",
        "## **Data Download**"
      ],
      "metadata": {
        "id": "i2QqrdvXqQq0"
      }
    },
    {
      "cell_type": "code",
      "source": [
        "%%capture\n",
        "\n",
        "archive_fn = \"%s.zip\"%(pat_id)\n",
        "\n",
        "try:\n",
        "  os.remove(archive_fn)\n",
        "except OSError:\n",
        "  pass\n",
        "\n",
        "seg_dicom_path = os.path.join(processed_dicomseg_path, pat_id, dicomseg_fn)\n",
        "ct_dicom_path = os.path.join(sorted_base_path, pat_id)\n",
        "\n",
        "!zip -j -r $archive_fn $ct_dicom_path $seg_dicom_path"
      ],
      "metadata": {
        "id": "ARmBD0lHdz_2"
      },
      "execution_count": 29,
      "outputs": []
    },
    {
      "cell_type": "code",
      "source": [
        "filesize = os.stat(archive_fn).st_size/1024e03\n",
        "print('Starting the download of \"%s\" (%2.1f MB)...\\n'%(archive_fn, filesize))\n",
        "\n",
        "files.download(archive_fn)"
      ],
      "metadata": {
        "id": "8pE0X9kid0D-",
        "colab": {
          "base_uri": "https://localhost:8080/",
          "height": 53
        },
        "outputId": "fdc1ec90-2a2c-43e7-a737-1bedee8773c2"
      },
      "execution_count": 30,
      "outputs": [
        {
          "output_type": "stream",
          "name": "stdout",
          "text": [
            "Starting the download of \"LUNG1-103.zip\" (27.4 MB)...\n",
            "\n"
          ]
        },
        {
          "output_type": "display_data",
          "data": {
            "text/plain": [
              "<IPython.core.display.Javascript object>"
            ],
            "application/javascript": [
              "\n",
              "    async function download(id, filename, size) {\n",
              "      if (!google.colab.kernel.accessAllowed) {\n",
              "        return;\n",
              "      }\n",
              "      const div = document.createElement('div');\n",
              "      const label = document.createElement('label');\n",
              "      label.textContent = `Downloading \"${filename}\": `;\n",
              "      div.appendChild(label);\n",
              "      const progress = document.createElement('progress');\n",
              "      progress.max = size;\n",
              "      div.appendChild(progress);\n",
              "      document.body.appendChild(div);\n",
              "\n",
              "      const buffers = [];\n",
              "      let downloaded = 0;\n",
              "\n",
              "      const channel = await google.colab.kernel.comms.open(id);\n",
              "      // Send a message to notify the kernel that we're ready.\n",
              "      channel.send({})\n",
              "\n",
              "      for await (const message of channel.messages) {\n",
              "        // Send a message to notify the kernel that we're ready.\n",
              "        channel.send({})\n",
              "        if (message.buffers) {\n",
              "          for (const buffer of message.buffers) {\n",
              "            buffers.push(buffer);\n",
              "            downloaded += buffer.byteLength;\n",
              "            progress.value = downloaded;\n",
              "          }\n",
              "        }\n",
              "      }\n",
              "      const blob = new Blob(buffers, {type: 'application/binary'});\n",
              "      const a = document.createElement('a');\n",
              "      a.href = window.URL.createObjectURL(blob);\n",
              "      a.download = filename;\n",
              "      div.appendChild(a);\n",
              "      a.click();\n",
              "      div.remove();\n",
              "    }\n",
              "  "
            ]
          },
          "metadata": {}
        },
        {
          "output_type": "display_data",
          "data": {
            "text/plain": [
              "<IPython.core.display.Javascript object>"
            ],
            "application/javascript": [
              "download(\"download_f95b9db8-dbad-4c38-9a9c-06f7c0fd95b9\", \"LUNG1-103.zip\", 28071755)"
            ]
          },
          "metadata": {}
        }
      ]
    }
  ],
  "metadata": {
    "colab": {
      "collapsed_sections": [],
      "provenance": [],
      "machine_shape": "hm",
      "include_colab_link": true
    },
    "kernelspec": {
      "display_name": "Python 3",
      "name": "python3"
    },
    "language_info": {
      "name": "python"
    },
    "accelerator": "GPU",
    "gpuClass": "standard",
    "widgets": {
      "application/vnd.jupyter.widget-state+json": {
        "da5908d8b7f74424b9f79db802986e06": {
          "model_module": "@jupyter-widgets/controls",
          "model_name": "VBoxModel",
          "model_module_version": "1.5.0",
          "state": {
            "_dom_classes": [
              "widget-interact"
            ],
            "_model_module": "@jupyter-widgets/controls",
            "_model_module_version": "1.5.0",
            "_model_name": "VBoxModel",
            "_view_count": null,
            "_view_module": "@jupyter-widgets/controls",
            "_view_module_version": "1.5.0",
            "_view_name": "VBoxView",
            "box_style": "",
            "children": [
              "IPY_MODEL_e113c5a059e3445e95544c71faae9f32"
            ],
            "layout": "IPY_MODEL_174e275fbe3f43c2a91ab2c80f473608"
          }
        },
        "e113c5a059e3445e95544c71faae9f32": {
          "model_module": "@jupyter-widgets/output",
          "model_name": "OutputModel",
          "model_module_version": "1.0.0",
          "state": {
            "_dom_classes": [],
            "_model_module": "@jupyter-widgets/output",
            "_model_module_version": "1.0.0",
            "_model_name": "OutputModel",
            "_view_count": null,
            "_view_module": "@jupyter-widgets/output",
            "_view_module_version": "1.0.0",
            "_view_name": "OutputView",
            "layout": "IPY_MODEL_6f99729a21e64cd5bc202a890f8a9582",
            "msg_id": "",
            "outputs": [
              {
                "output_type": "display_data",
                "data": {
                  "text/plain": "interactive(children=(IntSlider(value=0, description='Axial slice:', max=111), Output()), _dom_classes=('widge…",
                  "application/vnd.jupyter.widget-view+json": {
                    "version_major": 2,
                    "version_minor": 0,
                    "model_id": "2e8e6def570b444b9d830dcc3d13f833"
                  }
                },
                "metadata": {}
              }
            ]
          }
        },
        "174e275fbe3f43c2a91ab2c80f473608": {
          "model_module": "@jupyter-widgets/base",
          "model_name": "LayoutModel",
          "model_module_version": "1.2.0",
          "state": {
            "_model_module": "@jupyter-widgets/base",
            "_model_module_version": "1.2.0",
            "_model_name": "LayoutModel",
            "_view_count": null,
            "_view_module": "@jupyter-widgets/base",
            "_view_module_version": "1.2.0",
            "_view_name": "LayoutView",
            "align_content": null,
            "align_items": null,
            "align_self": null,
            "border": null,
            "bottom": null,
            "display": null,
            "flex": null,
            "flex_flow": null,
            "grid_area": null,
            "grid_auto_columns": null,
            "grid_auto_flow": null,
            "grid_auto_rows": null,
            "grid_column": null,
            "grid_gap": null,
            "grid_row": null,
            "grid_template_areas": null,
            "grid_template_columns": null,
            "grid_template_rows": null,
            "height": null,
            "justify_content": null,
            "justify_items": null,
            "left": null,
            "margin": null,
            "max_height": null,
            "max_width": null,
            "min_height": null,
            "min_width": null,
            "object_fit": null,
            "object_position": null,
            "order": null,
            "overflow": null,
            "overflow_x": null,
            "overflow_y": null,
            "padding": null,
            "right": null,
            "top": null,
            "visibility": null,
            "width": null
          }
        },
        "6f99729a21e64cd5bc202a890f8a9582": {
          "model_module": "@jupyter-widgets/base",
          "model_name": "LayoutModel",
          "model_module_version": "1.2.0",
          "state": {
            "_model_module": "@jupyter-widgets/base",
            "_model_module_version": "1.2.0",
            "_model_name": "LayoutModel",
            "_view_count": null,
            "_view_module": "@jupyter-widgets/base",
            "_view_module_version": "1.2.0",
            "_view_name": "LayoutView",
            "align_content": null,
            "align_items": null,
            "align_self": null,
            "border": null,
            "bottom": null,
            "display": null,
            "flex": null,
            "flex_flow": null,
            "grid_area": null,
            "grid_auto_columns": null,
            "grid_auto_flow": null,
            "grid_auto_rows": null,
            "grid_column": null,
            "grid_gap": null,
            "grid_row": null,
            "grid_template_areas": null,
            "grid_template_columns": null,
            "grid_template_rows": null,
            "height": null,
            "justify_content": null,
            "justify_items": null,
            "left": null,
            "margin": null,
            "max_height": null,
            "max_width": null,
            "min_height": null,
            "min_width": null,
            "object_fit": null,
            "object_position": null,
            "order": null,
            "overflow": null,
            "overflow_x": null,
            "overflow_y": null,
            "padding": null,
            "right": null,
            "top": null,
            "visibility": null,
            "width": null
          }
        },
        "2e8e6def570b444b9d830dcc3d13f833": {
          "model_module": "@jupyter-widgets/controls",
          "model_name": "VBoxModel",
          "model_module_version": "1.5.0",
          "state": {
            "_dom_classes": [
              "widget-interact"
            ],
            "_model_module": "@jupyter-widgets/controls",
            "_model_module_version": "1.5.0",
            "_model_name": "VBoxModel",
            "_view_count": null,
            "_view_module": "@jupyter-widgets/controls",
            "_view_module_version": "1.5.0",
            "_view_name": "VBoxView",
            "box_style": "",
            "children": [
              "IPY_MODEL_7312d431131b4254876f418a696b6311",
              "IPY_MODEL_0b21d32329f84823bd0048c5339adb98"
            ],
            "layout": "IPY_MODEL_ff82b66a88f84238af5c4ec3a68bd9d8"
          }
        },
        "7312d431131b4254876f418a696b6311": {
          "model_module": "@jupyter-widgets/controls",
          "model_name": "IntSliderModel",
          "model_module_version": "1.5.0",
          "state": {
            "_dom_classes": [],
            "_model_module": "@jupyter-widgets/controls",
            "_model_module_version": "1.5.0",
            "_model_name": "IntSliderModel",
            "_view_count": null,
            "_view_module": "@jupyter-widgets/controls",
            "_view_module_version": "1.5.0",
            "_view_name": "IntSliderView",
            "continuous_update": true,
            "description": "Axial slice:",
            "description_tooltip": null,
            "disabled": false,
            "layout": "IPY_MODEL_a1dd9926ebad4636866023929789ef2b",
            "max": 111,
            "min": 0,
            "orientation": "horizontal",
            "readout": true,
            "readout_format": "d",
            "step": 1,
            "style": "IPY_MODEL_a2cdbbe930f84d6b9932a5567d37287e",
            "value": 0
          }
        },
        "0b21d32329f84823bd0048c5339adb98": {
          "model_module": "@jupyter-widgets/output",
          "model_name": "OutputModel",
          "model_module_version": "1.0.0",
          "state": {
            "_dom_classes": [],
            "_model_module": "@jupyter-widgets/output",
            "_model_module_version": "1.0.0",
            "_model_name": "OutputModel",
            "_view_count": null,
            "_view_module": "@jupyter-widgets/output",
            "_view_module_version": "1.0.0",
            "_view_name": "OutputView",
            "layout": "IPY_MODEL_11ed7224a75c4d29b09485218aa9d957",
            "msg_id": "",
            "outputs": [
              {
                "output_type": "display_data",
                "data": {
                  "text/plain": "<Figure size 800x800 with 1 Axes>",
                  "image/png": "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\n"
                },
                "metadata": {
                  "needs_background": "light"
                }
              }
            ]
          }
        },
        "ff82b66a88f84238af5c4ec3a68bd9d8": {
          "model_module": "@jupyter-widgets/base",
          "model_name": "LayoutModel",
          "model_module_version": "1.2.0",
          "state": {
            "_model_module": "@jupyter-widgets/base",
            "_model_module_version": "1.2.0",
            "_model_name": "LayoutModel",
            "_view_count": null,
            "_view_module": "@jupyter-widgets/base",
            "_view_module_version": "1.2.0",
            "_view_name": "LayoutView",
            "align_content": null,
            "align_items": null,
            "align_self": null,
            "border": null,
            "bottom": null,
            "display": null,
            "flex": null,
            "flex_flow": null,
            "grid_area": null,
            "grid_auto_columns": null,
            "grid_auto_flow": null,
            "grid_auto_rows": null,
            "grid_column": null,
            "grid_gap": null,
            "grid_row": null,
            "grid_template_areas": null,
            "grid_template_columns": null,
            "grid_template_rows": null,
            "height": null,
            "justify_content": null,
            "justify_items": null,
            "left": null,
            "margin": null,
            "max_height": null,
            "max_width": null,
            "min_height": null,
            "min_width": null,
            "object_fit": null,
            "object_position": null,
            "order": null,
            "overflow": null,
            "overflow_x": null,
            "overflow_y": null,
            "padding": null,
            "right": null,
            "top": null,
            "visibility": null,
            "width": null
          }
        },
        "a1dd9926ebad4636866023929789ef2b": {
          "model_module": "@jupyter-widgets/base",
          "model_name": "LayoutModel",
          "model_module_version": "1.2.0",
          "state": {
            "_model_module": "@jupyter-widgets/base",
            "_model_module_version": "1.2.0",
            "_model_name": "LayoutModel",
            "_view_count": null,
            "_view_module": "@jupyter-widgets/base",
            "_view_module_version": "1.2.0",
            "_view_name": "LayoutView",
            "align_content": null,
            "align_items": null,
            "align_self": null,
            "border": null,
            "bottom": null,
            "display": null,
            "flex": null,
            "flex_flow": null,
            "grid_area": null,
            "grid_auto_columns": null,
            "grid_auto_flow": null,
            "grid_auto_rows": null,
            "grid_column": null,
            "grid_gap": null,
            "grid_row": null,
            "grid_template_areas": null,
            "grid_template_columns": null,
            "grid_template_rows": null,
            "height": null,
            "justify_content": null,
            "justify_items": null,
            "left": null,
            "margin": null,
            "max_height": null,
            "max_width": null,
            "min_height": null,
            "min_width": null,
            "object_fit": null,
            "object_position": null,
            "order": null,
            "overflow": null,
            "overflow_x": null,
            "overflow_y": null,
            "padding": null,
            "right": null,
            "top": null,
            "visibility": null,
            "width": null
          }
        },
        "a2cdbbe930f84d6b9932a5567d37287e": {
          "model_module": "@jupyter-widgets/controls",
          "model_name": "SliderStyleModel",
          "model_module_version": "1.5.0",
          "state": {
            "_model_module": "@jupyter-widgets/controls",
            "_model_module_version": "1.5.0",
            "_model_name": "SliderStyleModel",
            "_view_count": null,
            "_view_module": "@jupyter-widgets/base",
            "_view_module_version": "1.2.0",
            "_view_name": "StyleView",
            "description_width": "",
            "handle_color": null
          }
        },
        "11ed7224a75c4d29b09485218aa9d957": {
          "model_module": "@jupyter-widgets/base",
          "model_name": "LayoutModel",
          "model_module_version": "1.2.0",
          "state": {
            "_model_module": "@jupyter-widgets/base",
            "_model_module_version": "1.2.0",
            "_model_name": "LayoutModel",
            "_view_count": null,
            "_view_module": "@jupyter-widgets/base",
            "_view_module_version": "1.2.0",
            "_view_name": "LayoutView",
            "align_content": null,
            "align_items": null,
            "align_self": null,
            "border": null,
            "bottom": null,
            "display": null,
            "flex": null,
            "flex_flow": null,
            "grid_area": null,
            "grid_auto_columns": null,
            "grid_auto_flow": null,
            "grid_auto_rows": null,
            "grid_column": null,
            "grid_gap": null,
            "grid_row": null,
            "grid_template_areas": null,
            "grid_template_columns": null,
            "grid_template_rows": null,
            "height": null,
            "justify_content": null,
            "justify_items": null,
            "left": null,
            "margin": null,
            "max_height": null,
            "max_width": null,
            "min_height": null,
            "min_width": null,
            "object_fit": null,
            "object_position": null,
            "order": null,
            "overflow": null,
            "overflow_x": null,
            "overflow_y": null,
            "padding": null,
            "right": null,
            "top": null,
            "visibility": null,
            "width": null
          }
        }
      }
    }
  },
  "nbformat": 4,
  "nbformat_minor": 0
}