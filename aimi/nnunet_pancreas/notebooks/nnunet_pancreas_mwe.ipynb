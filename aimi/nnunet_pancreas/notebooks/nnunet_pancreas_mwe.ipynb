{
  "cells": [
    {
      "cell_type": "markdown",
      "metadata": {
        "id": "view-in-github",
        "colab_type": "text"
      },
      "source": [
        "<a href=\"https://colab.research.google.com/github/AIM-Harvard/aimi_alpha/blob/main/aimi/nnunet_pancreas/notebooks/nnunet_pancreas_mwe.ipynb\" target=\"_parent\"><img src=\"https://colab.research.google.com/assets/colab-badge.svg\" alt=\"Open In Colab\"/></a>"
      ]
    },
    {
      "cell_type": "markdown",
      "metadata": {
        "id": "Pmb_HiJv7Sit"
      },
      "source": [
        "# **ModelHub - Pancreas and Pancreatic Cancer Segmentation**\n",
        "\n",
        "This notebook provides an example of how to run an end-to-end (cloud-based) data analysis using the nnU-Net pancreas and pancreatic cancer segmentation model.\n",
        "\n",
        "The way all the operations are executed - from pulling data to data postprocessing and the standardisation of the results - have the goal of promoting transparency and reproducibility."
      ]
    },
    {
      "cell_type": "markdown",
      "metadata": {
        "id": "CZnoRi9Y7nEB"
      },
      "source": [
        "## **Environment Setup**\n",
        "\n",
        "This demo notebook is intended to be run using a GPU.\n",
        "\n",
        "To access a free GPU on Colab:\n",
        "`Edit > Notebooks Settings`.\n",
        "\n",
        "From the dropdown menu under `Hardware accelerator`, select `GPU`. Let's check the Colab instance is indeed equipped with a GPU."
      ]
    },
    {
      "cell_type": "code",
      "execution_count": 1,
      "metadata": {
        "colab": {
          "base_uri": "https://localhost:8080/"
        },
        "id": "non5qVLIcG4M",
        "outputId": "a222dd40-e5e2-439b-fcd6-2d8daea771d6"
      },
      "outputs": [
        {
          "output_type": "stream",
          "name": "stdout",
          "text": [
            "Thu Sep 22 08:59:50 2022\n",
            "\n",
            "Current directory : /content\n",
            "Hostname          : ce73f0f18ea7\n",
            "Username          : root\n",
            "Python version    : 3.7.14 (default, Sep  8 2022, 00:06:44) \n"
          ]
        }
      ],
      "source": [
        "import os\n",
        "import sys\n",
        "import shutil\n",
        "\n",
        "import yaml\n",
        "\n",
        "import time\n",
        "import tqdm\n",
        "\n",
        "# useful information\n",
        "curr_dir = !pwd\n",
        "curr_droid = !hostname\n",
        "curr_pilot = !whoami\n",
        "\n",
        "print(time.asctime(time.localtime()))\n",
        "\n",
        "print(\"\\nCurrent directory :\", curr_dir[-1])\n",
        "print(\"Hostname          :\", curr_droid[-1])\n",
        "print(\"Username          :\", curr_pilot[-1])\n",
        "\n",
        "print(\"Python version    :\", sys.version.split('\\n')[0])"
      ]
    },
    {
      "cell_type": "markdown",
      "source": [
        "The authentication to Google is necessary to run BigQuery queries.\n",
        "\n",
        "Every operation throughout the whole notebook (BigQuery, fetching data from the IDC buckets) is completely free. The only thing that is needed in order to run the notebook is the set-up of a Google Cloud project. In order for the notebook to work as intended, you will need to specify the name of the project in the cell after the authentication one."
      ],
      "metadata": {
        "id": "0PKq2z2jkVJz"
      }
    },
    {
      "cell_type": "code",
      "execution_count": 2,
      "metadata": {
        "id": "2DMUqTOVF5WP"
      },
      "outputs": [],
      "source": [
        "from google.colab import auth\n",
        "auth.authenticate_user()"
      ]
    },
    {
      "cell_type": "code",
      "execution_count": 3,
      "metadata": {
        "id": "9Y43S1F35h8m"
      },
      "outputs": [],
      "source": [
        "from google.colab import files\n",
        "from google.cloud import storage\n",
        "from google.cloud import bigquery as bq\n",
        "\n",
        "# INSERT THE ID OF YOUR PROJECT HERE!\n",
        "project_id = \"idc-sandbox-000\""
      ]
    },
    {
      "cell_type": "markdown",
      "metadata": {
        "id": "oT7coYaGfd4t"
      },
      "source": [
        "Throughout this Colab notebook, for image pre-processing we will use [Plastimatch](https://plastimatch.org), a reliable and open source software for image computation. We will be running Plastimatch using the simple [PyPlastimatch](https://github.com/AIM-Harvard/pyplastimatch/tree/main/pyplastimatch) python wrapper. "
      ]
    },
    {
      "cell_type": "code",
      "execution_count": 4,
      "metadata": {
        "id": "6NLhlFqyEgBf"
      },
      "outputs": [],
      "source": [
        "%%capture\n",
        "!apt install plastimatch"
      ]
    },
    {
      "cell_type": "code",
      "execution_count": 5,
      "metadata": {
        "colab": {
          "base_uri": "https://localhost:8080/"
        },
        "id": "_ILwxgbcfcpr",
        "outputId": "f53b1010-3c07-4d2b-97c9-d46c7aed0623"
      },
      "outputs": [
        {
          "output_type": "stream",
          "name": "stdout",
          "text": [
            "plastimatch version 1.7.0\n"
          ]
        }
      ],
      "source": [
        "# check plastimatch was correctly installed\n",
        "!plastimatch --version"
      ]
    },
    {
      "cell_type": "markdown",
      "source": [
        "---\n",
        "\n",
        "Start by cloning the AIMI hub repository on the Colab instance.\n",
        "\n",
        "The AIMI hub repository stores all the code we will use for pulling, preprocessing, processing, and postprocessing the data for this use case - as long as the others shared through AIMI hub."
      ],
      "metadata": {
        "id": "MrNlgYZJIxkf"
      }
    },
    {
      "cell_type": "code",
      "source": [
        "!git clone https://github.com/AIM-Harvard/aimi_alpha.git aimi"
      ],
      "metadata": {
        "colab": {
          "base_uri": "https://localhost:8080/"
        },
        "id": "y5lBiCWMJF9d",
        "outputId": "3b5b029c-e3d9-45e0-fa29-946b54d57b96"
      },
      "execution_count": 6,
      "outputs": [
        {
          "output_type": "stream",
          "name": "stdout",
          "text": [
            "Cloning into 'aimi'...\n",
            "remote: Enumerating objects: 212, done.\u001b[K\n",
            "remote: Counting objects: 100% (212/212), done.\u001b[K\n",
            "remote: Compressing objects: 100% (159/159), done.\u001b[K\n",
            "remote: Total 212 (delta 109), reused 103 (delta 36), pack-reused 0\u001b[K\n",
            "Receiving objects: 100% (212/212), 1.61 MiB | 11.85 MiB/s, done.\n",
            "Resolving deltas: 100% (109/109), done.\n"
          ]
        }
      ]
    },
    {
      "cell_type": "markdown",
      "source": [
        "To organise the DICOM data in a more common (and human-understandable) fashion after downloading those from the buckets, we will make use of [DICOMSort](https://github.com/pieper/dicomsort). \n",
        "\n",
        "DICOMSort is an open source tool for custom sorting and renaming of dicom files based on their specific DICOM tags. In our case, we will exploit DICOMSort to organise the DICOM data by `PatientID` and `Modality` - so that the final directory will look like the following:\n",
        "\n",
        "```\n",
        "data/raw/nsclc-radiomics/dicom/$PatientID\n",
        " └─── CT\n",
        "       ├─── $SOPInstanceUID_slice0.dcm\n",
        "       ├─── $SOPInstanceUID_slice1.dcm\n",
        "       ├───  ...\n",
        "       │\n",
        "      RTSTRUCT \n",
        "       ├─── $SOPInstanceUID_RTSTRUCT.dcm\n",
        "      SEG\n",
        "       └─── $SOPInstanceUID_RTSEG.dcm\n",
        "\n",
        "```"
      ],
      "metadata": {
        "id": "Pcj1hYK7lzmA"
      }
    },
    {
      "cell_type": "code",
      "source": [
        "!git clone https://github.com/pieper/dicomsort dicomsort"
      ],
      "metadata": {
        "colab": {
          "base_uri": "https://localhost:8080/"
        },
        "id": "Py53FxrlD9eK",
        "outputId": "240b01da-d079-47f3-bcad-9ee921437532"
      },
      "execution_count": 7,
      "outputs": [
        {
          "output_type": "stream",
          "name": "stdout",
          "text": [
            "Cloning into 'dicomsort'...\n",
            "remote: Enumerating objects: 130, done.\u001b[K\n",
            "remote: Counting objects: 100% (4/4), done.\u001b[K\n",
            "remote: Compressing objects: 100% (4/4), done.\u001b[K\n",
            "remote: Total 130 (delta 0), reused 1 (delta 0), pack-reused 126\u001b[K\n",
            "Receiving objects: 100% (130/130), 44.12 KiB | 4.41 MiB/s, done.\n",
            "Resolving deltas: 100% (63/63), done.\n"
          ]
        }
      ]
    },
    {
      "cell_type": "markdown",
      "metadata": {
        "id": "7ztrKrzSm1WT"
      },
      "source": [
        "We will also use DCMQI for converting the resulting segmentation into standard DICOM SEG objects."
      ]
    },
    {
      "cell_type": "code",
      "execution_count": 8,
      "metadata": {
        "id": "iYf72nA8m0wh"
      },
      "outputs": [],
      "source": [
        "%%capture\n",
        "dcmqi_release_url = \"https://github.com/QIICR/dcmqi/releases/download/v1.2.4/dcmqi-1.2.4-linux.tar.gz\"\n",
        "dcmqi_download_path = \"/content/dcmqi-1.2.4-linux.tar.gz\"\n",
        "dcmqi_path = \"/content/dcmqi-1.2.4-linux\"\n",
        "\n",
        "!wget -O $dcmqi_download_path $dcmqi_release_url\n",
        "\n",
        "!tar -xvf $dcmqi_download_path\n",
        "\n",
        "!mv $dcmqi_path/bin/* /bin"
      ]
    },
    {
      "cell_type": "markdown",
      "metadata": {
        "id": "4JBJmF7rmz1S"
      },
      "source": [
        "---"
      ]
    },
    {
      "cell_type": "code",
      "execution_count": 9,
      "metadata": {
        "id": "CthT1kRuywEh"
      },
      "outputs": [],
      "source": [
        "%%capture\n",
        "!pip install pyplastimatch nnunet ipywidgets"
      ]
    },
    {
      "cell_type": "code",
      "source": [
        "import shutil\n",
        "import random\n",
        "\n",
        "import json\n",
        "import pprint\n",
        "import numpy as np\n",
        "import pandas as pd\n",
        "\n",
        "import pydicom\n",
        "import nibabel as nib\n",
        "import SimpleITK as sitk\n",
        "import pyplastimatch as pypla\n",
        "\n",
        "print(\"Python version               : \", sys.version.split('\\n')[0])\n",
        "print(\"Numpy version                : \", np.__version__)\n",
        "\n",
        "# ----------------------------------------\n",
        "\n",
        "#everything that has to do with plotting goes here below\n",
        "import matplotlib\n",
        "matplotlib.use(\"agg\")\n",
        "\n",
        "import matplotlib.pyplot as plt\n",
        "from matplotlib.colors import ListedColormap\n",
        "from matplotlib.patches import Patch\n",
        "\n",
        "%matplotlib inline\n",
        "%config InlineBackend.figure_format = \"png\"\n",
        "\n",
        "import ipywidgets as ipyw\n",
        "\n",
        "## ----------------------------------------\n",
        "\n",
        "# create new colormap appending the alpha channel to the selected one\n",
        "# (so that we don't get a \\\"color overlay\\\" when plotting the segmask superimposed to the CT)\n",
        "cmap = plt.cm.Reds\n",
        "my_reds = cmap(np.arange(cmap.N))\n",
        "my_reds[:, -1] = np.linspace(0, 1, cmap.N)\n",
        "my_reds = ListedColormap(my_reds)\n",
        "\n",
        "cmap = plt.cm.Greens\n",
        "my_greens = cmap(np.arange(cmap.N))\n",
        "my_greens[:, -1] = np.linspace(0, 1, cmap.N)\n",
        "my_greens = ListedColormap(my_greens)\n",
        "\n",
        "cmap = plt.cm.Blues\n",
        "my_blues = cmap(np.arange(cmap.N))\n",
        "my_blues[:, -1] = np.linspace(0, 1, cmap.N)\n",
        "my_blues = ListedColormap(my_blues)\n",
        "\n",
        "cmap = plt.cm.spring\n",
        "my_spring = cmap(np.arange(cmap.N))\n",
        "my_spring[:, -1] = np.linspace(0, 1, cmap.N)\n",
        "my_spring = ListedColormap(my_spring)\n",
        "## ----------------------------------------\n",
        "\n",
        "import seaborn as sns"
      ],
      "metadata": {
        "colab": {
          "base_uri": "https://localhost:8080/"
        },
        "id": "3euRfHl7pe2u",
        "outputId": "4d37a998-cdff-48d3-a42a-e525f28746b2"
      },
      "execution_count": 10,
      "outputs": [
        {
          "output_type": "stream",
          "name": "stdout",
          "text": [
            "Python version               :  3.7.14 (default, Sep  8 2022, 00:06:44) \n",
            "Numpy version                :  1.21.6\n"
          ]
        }
      ]
    },
    {
      "cell_type": "markdown",
      "source": [
        "Provided everything was set up correctly, we can run the BigQuery query and get all the information we need to download the testing data from the IDC platform.\n",
        "\n",
        "For this specific use case, we are going to be working with the NSCLC-Radiomics collection (Chest CT scans of lung cancer patients, with manual delineation of various organs at risk)."
      ],
      "metadata": {
        "id": "aZOtlGtcmOq5"
      }
    },
    {
      "cell_type": "code",
      "source": [
        "%%bigquery --project=$project_id cohort_df\n",
        "\n",
        "SELECT\n",
        "  dicom_pivot_v10.PatientID,\n",
        "  dicom_pivot_v10.collection_id,\n",
        "  dicom_pivot_v10.source_DOI,\n",
        "  dicom_pivot_v10.StudyInstanceUID,\n",
        "  dicom_pivot_v10.SeriesInstanceUID,\n",
        "  dicom_pivot_v10.SOPInstanceUID,\n",
        "  dicom_pivot_v10.gcs_url\n",
        "FROM\n",
        "  `bigquery-public-data.idc_v10.dicom_pivot_v10` dicom_pivot_v10\n",
        "WHERE\n",
        "  StudyInstanceUID IN (\n",
        "    SELECT\n",
        "      StudyInstanceUID\n",
        "    FROM\n",
        "      `bigquery-public-data.idc_v10.dicom_pivot_v10` dicom_pivot_v10\n",
        "    WHERE\n",
        "      (\n",
        "        LOWER(dicom_pivot_v10.collection_id) LIKE LOWER('pancreas_ct')\n",
        "      )\n",
        "    GROUP BY\n",
        "      StudyInstanceUID\n",
        "  )\n",
        "GROUP BY\n",
        "  dicom_pivot_v10.PatientID,\n",
        "  dicom_pivot_v10.collection_id,\n",
        "  dicom_pivot_v10.source_DOI,\n",
        "  dicom_pivot_v10.StudyInstanceUID,\n",
        "  dicom_pivot_v10.SeriesInstanceUID,\n",
        "  dicom_pivot_v10.SOPInstanceUID,\n",
        "  dicom_pivot_v10.gcs_url\n",
        "ORDER BY\n",
        "  dicom_pivot_v10.PatientID ASC,\n",
        "  dicom_pivot_v10.collection_id ASC,\n",
        "  dicom_pivot_v10.source_DOI ASC,\n",
        "  dicom_pivot_v10.StudyInstanceUID ASC,\n",
        "  dicom_pivot_v10.SeriesInstanceUID ASC,\n",
        "  dicom_pivot_v10.SOPInstanceUID ASC,\n",
        "  dicom_pivot_v10.gcs_url ASC"
      ],
      "metadata": {
        "id": "_8hRj0E5FW0A"
      },
      "execution_count": 11,
      "outputs": []
    },
    {
      "cell_type": "code",
      "source": [
        "# this works as intended only if the BQ query parses data from a single dataset\n",
        "# if not, feel free to set the name manually!\n",
        "dataset_name = cohort_df[\"collection_id\"].values[0]"
      ],
      "metadata": {
        "id": "oZApCCVLkZyb"
      },
      "execution_count": 12,
      "outputs": []
    },
    {
      "cell_type": "code",
      "execution_count": 13,
      "metadata": {
        "id": "GNutD-SRN52T"
      },
      "outputs": [],
      "source": [
        "# create the directory tree\n",
        "!mkdir -p data models\n",
        "\n",
        "!mkdir -p data/raw \n",
        "!mkdir -p data/raw/tmp data/raw/$dataset_name\n",
        "!mkdir -p data/raw/$dataset_name/dicom\n",
        "\n",
        "!mkdir -p data/processed\n",
        "!mkdir -p data/processed/$dataset_name\n",
        "!mkdir -p data/processed/$dataset_name/nii\n",
        "!mkdir -p data/processed/$dataset_name/dicomseg\n",
        "\n",
        "!mkdir -p data/model_input/\n",
        "!mkdir -p data/nnunet_output/"
      ]
    },
    {
      "cell_type": "markdown",
      "metadata": {
        "id": "D7y3FRa7rbyr"
      },
      "source": [
        "Download the segmentation model(s) from Zenodo (the original source chosen from the nnU-Net developers).\n",
        "\n",
        "Note that this can either be very fast (2 minutes or even less, at speeds around 20MB/s) or very slow (up to 10 minutes, or sometimes more) - probably depending on the traffic on the Zenodo's end and other factors. If the download is taking a long time after the first minute or so, consider interrupting the cell execution and running the cell again."
      ]
    },
    {
      "cell_type": "code",
      "execution_count": 22,
      "metadata": {
        "colab": {
          "base_uri": "https://localhost:8080/"
        },
        "id": "nJ79vTL5ef11",
        "outputId": "cefaeceb-0d67-44d9-893b-4f58ce726b78"
      },
      "outputs": [
        {
          "output_type": "stream",
          "name": "stdout",
          "text": [
            "--2022-09-22 09:04:48--  https://zenodo.org/record/4485926/files/Task007_Pancreas.zip?download=1\n",
            "Resolving zenodo.org (zenodo.org)... 188.184.117.155\n",
            "Connecting to zenodo.org (zenodo.org)|188.184.117.155|:443... connected.\n",
            "HTTP request sent, awaiting response... 200 OK\n",
            "Length: 5002701016 (4.7G) [application/octet-stream]\n",
            "Saving to: ‘/content/models/Task007_Pancreas.zip’\n",
            "\n",
            "/content/models/Tas 100%[===================>]   4.66G  13.5MB/s    in 17m 46s \n",
            "\n",
            "2022-09-22 09:22:35 (4.47 MB/s) - ‘/content/models/Task007_Pancreas.zip’ saved [5002701016/5002701016]\n",
            "\n"
          ]
        }
      ],
      "source": [
        "seg_model_url = \"https://zenodo.org/record/4485926/files/Task007_Pancreas.zip?download=1\"\n",
        "model_download_path = \"/content/models/Task007_Pancreas.zip\"\n",
        "\n",
        "!wget -O $model_download_path $seg_model_url"
      ]
    },
    {
      "cell_type": "markdown",
      "metadata": {
        "id": "Bne4bNo5fAsx"
      },
      "source": [
        "Initialize the environment variables nnU-Net needs."
      ]
    },
    {
      "cell_type": "code",
      "execution_count": 28,
      "metadata": {
        "id": "IIIjeFdUe1EA"
      },
      "outputs": [],
      "source": [
        "os.environ[\"RESULTS_FOLDER\"] = \"/content/data/nnunet_output/\"\n",
        "os.environ[\"WEIGHTS_FOLDER\"] = \"/content/data/nnunet_output/nnUNet\""
      ]
    },
    {
      "cell_type": "code",
      "execution_count": 29,
      "metadata": {
        "id": "Wx8bWGVvew3P"
      },
      "outputs": [],
      "source": [
        "%%capture\n",
        "!nnUNet_install_pretrained_model_from_zip $model_download_path"
      ]
    },
    {
      "cell_type": "markdown",
      "metadata": {
        "id": "0Qu6eXpHx6iV"
      },
      "source": [
        "## **Parsing Cohort Information from BigQuery Tables**\n",
        "\n",
        "We can check the various fields of the table we populated by running the BigQuery query.\n",
        "\n",
        "This table will store one entry for each DICOM file in the dataset (therefore, expect thousands of rows!)"
      ]
    },
    {
      "cell_type": "code",
      "execution_count": 30,
      "metadata": {
        "colab": {
          "base_uri": "https://localhost:8080/",
          "height": 895
        },
        "id": "V27IJihCi9Kv",
        "outputId": "d6e5b9dc-3547-42d2-cf32-6aa7b6b733eb"
      },
      "outputs": [
        {
          "output_type": "stream",
          "name": "stdout",
          "text": [
            "Total number of unique Patient IDs: 80\n",
            "<class 'pandas.core.frame.DataFrame'>\n",
            "RangeIndex: 18942 entries, 0 to 18941\n",
            "Data columns (total 7 columns):\n",
            " #   Column             Non-Null Count  Dtype \n",
            "---  ------             --------------  ----- \n",
            " 0   PatientID          18942 non-null  object\n",
            " 1   collection_id      18942 non-null  object\n",
            " 2   source_DOI         18942 non-null  object\n",
            " 3   StudyInstanceUID   18942 non-null  object\n",
            " 4   SeriesInstanceUID  18942 non-null  object\n",
            " 5   SOPInstanceUID     18942 non-null  object\n",
            " 6   gcs_url            18942 non-null  object\n",
            "dtypes: object(7)\n",
            "memory usage: 1.0+ MB\n"
          ]
        },
        {
          "output_type": "display_data",
          "data": {
            "text/plain": [
              "None"
            ]
          },
          "metadata": {}
        },
        {
          "output_type": "display_data",
          "data": {
            "text/plain": [
              "       PatientID collection_id                     source_DOI  \\\n",
              "0  PANCREAS_0001   pancreas_ct  10.7937/K9/TCIA.2016.tNB1kqBU   \n",
              "1  PANCREAS_0001   pancreas_ct  10.7937/K9/TCIA.2016.tNB1kqBU   \n",
              "2  PANCREAS_0001   pancreas_ct  10.7937/K9/TCIA.2016.tNB1kqBU   \n",
              "3  PANCREAS_0001   pancreas_ct  10.7937/K9/TCIA.2016.tNB1kqBU   \n",
              "4  PANCREAS_0001   pancreas_ct  10.7937/K9/TCIA.2016.tNB1kqBU   \n",
              "\n",
              "                                    StudyInstanceUID  \\\n",
              "0  1.2.826.0.1.3680043.2.1125.1.38381854871216336...   \n",
              "1  1.2.826.0.1.3680043.2.1125.1.38381854871216336...   \n",
              "2  1.2.826.0.1.3680043.2.1125.1.38381854871216336...   \n",
              "3  1.2.826.0.1.3680043.2.1125.1.38381854871216336...   \n",
              "4  1.2.826.0.1.3680043.2.1125.1.38381854871216336...   \n",
              "\n",
              "                                   SeriesInstanceUID  \\\n",
              "0  1.2.826.0.1.3680043.2.1125.1.68878959984837726...   \n",
              "1  1.2.826.0.1.3680043.2.1125.1.68878959984837726...   \n",
              "2  1.2.826.0.1.3680043.2.1125.1.68878959984837726...   \n",
              "3  1.2.826.0.1.3680043.2.1125.1.68878959984837726...   \n",
              "4  1.2.826.0.1.3680043.2.1125.1.68878959984837726...   \n",
              "\n",
              "                                      SOPInstanceUID  \\\n",
              "0  1.2.826.0.1.3680043.2.1125.1.12371411096899351...   \n",
              "1  1.2.826.0.1.3680043.2.1125.1.12376389450984884...   \n",
              "2  1.2.826.0.1.3680043.2.1125.1.13438245366954035...   \n",
              "3  1.2.826.0.1.3680043.2.1125.1.14285033913934517...   \n",
              "4  1.2.826.0.1.3680043.2.1125.1.15108061926999795...   \n",
              "\n",
              "                                             gcs_url  \n",
              "0  gs://public-datasets-idc/bb705d97-6ae7-4265-81...  \n",
              "1  gs://public-datasets-idc/65bd9a85-72ae-49b8-9c...  \n",
              "2  gs://public-datasets-idc/8dfc4047-afa7-4993-95...  \n",
              "3  gs://public-datasets-idc/e6fe842b-790d-4877-b3...  \n",
              "4  gs://public-datasets-idc/a84bafa7-5b62-4803-b6...  "
            ],
            "text/html": [
              "\n",
              "  <div id=\"df-9fb5d382-e5c3-4763-92f4-3f13b4ca2ba3\">\n",
              "    <div class=\"colab-df-container\">\n",
              "      <div>\n",
              "<style scoped>\n",
              "    .dataframe tbody tr th:only-of-type {\n",
              "        vertical-align: middle;\n",
              "    }\n",
              "\n",
              "    .dataframe tbody tr th {\n",
              "        vertical-align: top;\n",
              "    }\n",
              "\n",
              "    .dataframe thead th {\n",
              "        text-align: right;\n",
              "    }\n",
              "</style>\n",
              "<table border=\"1\" class=\"dataframe\">\n",
              "  <thead>\n",
              "    <tr style=\"text-align: right;\">\n",
              "      <th></th>\n",
              "      <th>PatientID</th>\n",
              "      <th>collection_id</th>\n",
              "      <th>source_DOI</th>\n",
              "      <th>StudyInstanceUID</th>\n",
              "      <th>SeriesInstanceUID</th>\n",
              "      <th>SOPInstanceUID</th>\n",
              "      <th>gcs_url</th>\n",
              "    </tr>\n",
              "  </thead>\n",
              "  <tbody>\n",
              "    <tr>\n",
              "      <th>0</th>\n",
              "      <td>PANCREAS_0001</td>\n",
              "      <td>pancreas_ct</td>\n",
              "      <td>10.7937/K9/TCIA.2016.tNB1kqBU</td>\n",
              "      <td>1.2.826.0.1.3680043.2.1125.1.38381854871216336...</td>\n",
              "      <td>1.2.826.0.1.3680043.2.1125.1.68878959984837726...</td>\n",
              "      <td>1.2.826.0.1.3680043.2.1125.1.12371411096899351...</td>\n",
              "      <td>gs://public-datasets-idc/bb705d97-6ae7-4265-81...</td>\n",
              "    </tr>\n",
              "    <tr>\n",
              "      <th>1</th>\n",
              "      <td>PANCREAS_0001</td>\n",
              "      <td>pancreas_ct</td>\n",
              "      <td>10.7937/K9/TCIA.2016.tNB1kqBU</td>\n",
              "      <td>1.2.826.0.1.3680043.2.1125.1.38381854871216336...</td>\n",
              "      <td>1.2.826.0.1.3680043.2.1125.1.68878959984837726...</td>\n",
              "      <td>1.2.826.0.1.3680043.2.1125.1.12376389450984884...</td>\n",
              "      <td>gs://public-datasets-idc/65bd9a85-72ae-49b8-9c...</td>\n",
              "    </tr>\n",
              "    <tr>\n",
              "      <th>2</th>\n",
              "      <td>PANCREAS_0001</td>\n",
              "      <td>pancreas_ct</td>\n",
              "      <td>10.7937/K9/TCIA.2016.tNB1kqBU</td>\n",
              "      <td>1.2.826.0.1.3680043.2.1125.1.38381854871216336...</td>\n",
              "      <td>1.2.826.0.1.3680043.2.1125.1.68878959984837726...</td>\n",
              "      <td>1.2.826.0.1.3680043.2.1125.1.13438245366954035...</td>\n",
              "      <td>gs://public-datasets-idc/8dfc4047-afa7-4993-95...</td>\n",
              "    </tr>\n",
              "    <tr>\n",
              "      <th>3</th>\n",
              "      <td>PANCREAS_0001</td>\n",
              "      <td>pancreas_ct</td>\n",
              "      <td>10.7937/K9/TCIA.2016.tNB1kqBU</td>\n",
              "      <td>1.2.826.0.1.3680043.2.1125.1.38381854871216336...</td>\n",
              "      <td>1.2.826.0.1.3680043.2.1125.1.68878959984837726...</td>\n",
              "      <td>1.2.826.0.1.3680043.2.1125.1.14285033913934517...</td>\n",
              "      <td>gs://public-datasets-idc/e6fe842b-790d-4877-b3...</td>\n",
              "    </tr>\n",
              "    <tr>\n",
              "      <th>4</th>\n",
              "      <td>PANCREAS_0001</td>\n",
              "      <td>pancreas_ct</td>\n",
              "      <td>10.7937/K9/TCIA.2016.tNB1kqBU</td>\n",
              "      <td>1.2.826.0.1.3680043.2.1125.1.38381854871216336...</td>\n",
              "      <td>1.2.826.0.1.3680043.2.1125.1.68878959984837726...</td>\n",
              "      <td>1.2.826.0.1.3680043.2.1125.1.15108061926999795...</td>\n",
              "      <td>gs://public-datasets-idc/a84bafa7-5b62-4803-b6...</td>\n",
              "    </tr>\n",
              "  </tbody>\n",
              "</table>\n",
              "</div>\n",
              "      <button class=\"colab-df-convert\" onclick=\"convertToInteractive('df-9fb5d382-e5c3-4763-92f4-3f13b4ca2ba3')\"\n",
              "              title=\"Convert this dataframe to an interactive table.\"\n",
              "              style=\"display:none;\">\n",
              "        \n",
              "  <svg xmlns=\"http://www.w3.org/2000/svg\" height=\"24px\"viewBox=\"0 0 24 24\"\n",
              "       width=\"24px\">\n",
              "    <path d=\"M0 0h24v24H0V0z\" fill=\"none\"/>\n",
              "    <path d=\"M18.56 5.44l.94 2.06.94-2.06 2.06-.94-2.06-.94-.94-2.06-.94 2.06-2.06.94zm-11 1L8.5 8.5l.94-2.06 2.06-.94-2.06-.94L8.5 2.5l-.94 2.06-2.06.94zm10 10l.94 2.06.94-2.06 2.06-.94-2.06-.94-.94-2.06-.94 2.06-2.06.94z\"/><path d=\"M17.41 7.96l-1.37-1.37c-.4-.4-.92-.59-1.43-.59-.52 0-1.04.2-1.43.59L10.3 9.45l-7.72 7.72c-.78.78-.78 2.05 0 2.83L4 21.41c.39.39.9.59 1.41.59.51 0 1.02-.2 1.41-.59l7.78-7.78 2.81-2.81c.8-.78.8-2.07 0-2.86zM5.41 20L4 18.59l7.72-7.72 1.47 1.35L5.41 20z\"/>\n",
              "  </svg>\n",
              "      </button>\n",
              "      \n",
              "  <style>\n",
              "    .colab-df-container {\n",
              "      display:flex;\n",
              "      flex-wrap:wrap;\n",
              "      gap: 12px;\n",
              "    }\n",
              "\n",
              "    .colab-df-convert {\n",
              "      background-color: #E8F0FE;\n",
              "      border: none;\n",
              "      border-radius: 50%;\n",
              "      cursor: pointer;\n",
              "      display: none;\n",
              "      fill: #1967D2;\n",
              "      height: 32px;\n",
              "      padding: 0 0 0 0;\n",
              "      width: 32px;\n",
              "    }\n",
              "\n",
              "    .colab-df-convert:hover {\n",
              "      background-color: #E2EBFA;\n",
              "      box-shadow: 0px 1px 2px rgba(60, 64, 67, 0.3), 0px 1px 3px 1px rgba(60, 64, 67, 0.15);\n",
              "      fill: #174EA6;\n",
              "    }\n",
              "\n",
              "    [theme=dark] .colab-df-convert {\n",
              "      background-color: #3B4455;\n",
              "      fill: #D2E3FC;\n",
              "    }\n",
              "\n",
              "    [theme=dark] .colab-df-convert:hover {\n",
              "      background-color: #434B5C;\n",
              "      box-shadow: 0px 1px 3px 1px rgba(0, 0, 0, 0.15);\n",
              "      filter: drop-shadow(0px 1px 2px rgba(0, 0, 0, 0.3));\n",
              "      fill: #FFFFFF;\n",
              "    }\n",
              "  </style>\n",
              "\n",
              "      <script>\n",
              "        const buttonEl =\n",
              "          document.querySelector('#df-9fb5d382-e5c3-4763-92f4-3f13b4ca2ba3 button.colab-df-convert');\n",
              "        buttonEl.style.display =\n",
              "          google.colab.kernel.accessAllowed ? 'block' : 'none';\n",
              "\n",
              "        async function convertToInteractive(key) {\n",
              "          const element = document.querySelector('#df-9fb5d382-e5c3-4763-92f4-3f13b4ca2ba3');\n",
              "          const dataTable =\n",
              "            await google.colab.kernel.invokeFunction('convertToInteractive',\n",
              "                                                     [key], {});\n",
              "          if (!dataTable) return;\n",
              "\n",
              "          const docLinkHtml = 'Like what you see? Visit the ' +\n",
              "            '<a target=\"_blank\" href=https://colab.research.google.com/notebooks/data_table.ipynb>data table notebook</a>'\n",
              "            + ' to learn more about interactive tables.';\n",
              "          element.innerHTML = '';\n",
              "          dataTable['output_type'] = 'display_data';\n",
              "          await google.colab.output.renderOutput(dataTable, element);\n",
              "          const docLink = document.createElement('div');\n",
              "          docLink.innerHTML = docLinkHtml;\n",
              "          element.appendChild(docLink);\n",
              "        }\n",
              "      </script>\n",
              "    </div>\n",
              "  </div>\n",
              "  "
            ]
          },
          "metadata": {}
        }
      ],
      "source": [
        "pat_id_list = sorted(list(set(cohort_df[\"PatientID\"].values)))\n",
        "\n",
        "print(\"Total number of unique Patient IDs:\", len(pat_id_list))\n",
        "\n",
        "display(cohort_df.info())\n",
        "\n",
        "display(cohort_df.head())"
      ]
    },
    {
      "cell_type": "markdown",
      "metadata": {
        "id": "AolLtXOLVt7D"
      },
      "source": [
        "---\n",
        "\n",
        "## **Set Run Parameters**\n",
        "\n",
        "From this cell, we can configure the nnU-Net inference step - specifying, for instance, the type of model we want to run (among the four different models the framework provides), whether we want to use test time augmentation, or whether we want to export the soft probability maps of the segmentation masks.\n"
      ]
    },
    {
      "cell_type": "code",
      "execution_count": 31,
      "metadata": {
        "id": "TRmrt00589lv"
      },
      "outputs": [],
      "source": [
        "# FIXED PARAMETERS\n",
        "data_base_path = \"/content/data\"\n",
        "raw_base_path = \"/content/data/raw/tmp\"\n",
        "sorted_base_path = os.path.join(\"/content/data/raw/\", dataset_name, \"dicom\")\n",
        "\n",
        "processed_base_path = os.path.join(\"/content/data/processed/\", dataset_name)\n",
        "processed_nifti_path = os.path.join(processed_base_path, \"nii\")\n",
        "\n",
        "processed_dicomseg_path = os.path.join(processed_base_path, \"dicomseg\")\n",
        "\n",
        "model_input_folder = \"/content/data/model_input/\"\n",
        "model_output_folder = \"/content/data/nnunet_output/\"\n",
        "\n",
        "dicomseg_json_path = \"/content/aimi/aimi/nnunet_pancreas/config/dicomseg_metadata.json\"\n",
        "\n",
        "# -----------------\n",
        "# nnU-Net pipeline parameters\n",
        "\n",
        "# choose from: \"2d\", \"3d_lowres\", \"3d_fullres\", \"3d_cascade_fullres\"\n",
        "nnunet_model = \"3d_lowres\"\n",
        "use_tta = True\n",
        "export_prob_maps = False"
      ]
    },
    {
      "cell_type": "markdown",
      "metadata": {
        "id": "-n0qjPp1B_mv"
      },
      "source": [
        "## **Running the Analysis for a Single Patient**"
      ]
    },
    {
      "cell_type": "code",
      "source": [
        "import aimi.aimi as aimi\n",
        "\n",
        "from aimi import general_utils as aimi_utils\n",
        "from aimi import nnunet_pancreas as aimi_model"
      ],
      "metadata": {
        "id": "vPPZRieLM5K-"
      },
      "execution_count": 32,
      "outputs": []
    },
    {
      "cell_type": "markdown",
      "source": [
        "The following cells run all the processing pipeline, from pre-processing to post-processing."
      ],
      "metadata": {
        "id": "0pFSCy5HoOp_"
      }
    },
    {
      "cell_type": "code",
      "source": [
        "pat_id = random.choice(cohort_df[\"PatientID\"].values)\n",
        "pat_df = cohort_df[cohort_df[\"PatientID\"] == pat_id].reset_index(drop = True)\n",
        "\n",
        "display(pat_df.info())\n",
        "display(pat_df.head())"
      ],
      "metadata": {
        "colab": {
          "base_uri": "https://localhost:8080/",
          "height": 878
        },
        "id": "mMxh3zA8mNyI",
        "outputId": "d4fc7b52-c944-40aa-a661-5827aa05dc52"
      },
      "execution_count": 74,
      "outputs": [
        {
          "output_type": "stream",
          "name": "stdout",
          "text": [
            "<class 'pandas.core.frame.DataFrame'>\n",
            "RangeIndex: 226 entries, 0 to 225\n",
            "Data columns (total 7 columns):\n",
            " #   Column             Non-Null Count  Dtype \n",
            "---  ------             --------------  ----- \n",
            " 0   PatientID          226 non-null    object\n",
            " 1   collection_id      226 non-null    object\n",
            " 2   source_DOI         226 non-null    object\n",
            " 3   StudyInstanceUID   226 non-null    object\n",
            " 4   SeriesInstanceUID  226 non-null    object\n",
            " 5   SOPInstanceUID     226 non-null    object\n",
            " 6   gcs_url            226 non-null    object\n",
            "dtypes: object(7)\n",
            "memory usage: 12.5+ KB\n"
          ]
        },
        {
          "output_type": "display_data",
          "data": {
            "text/plain": [
              "None"
            ]
          },
          "metadata": {}
        },
        {
          "output_type": "display_data",
          "data": {
            "text/plain": [
              "       PatientID collection_id                     source_DOI  \\\n",
              "0  PANCREAS_0082   pancreas_ct  10.7937/K9/TCIA.2016.tNB1kqBU   \n",
              "1  PANCREAS_0082   pancreas_ct  10.7937/K9/TCIA.2016.tNB1kqBU   \n",
              "2  PANCREAS_0082   pancreas_ct  10.7937/K9/TCIA.2016.tNB1kqBU   \n",
              "3  PANCREAS_0082   pancreas_ct  10.7937/K9/TCIA.2016.tNB1kqBU   \n",
              "4  PANCREAS_0082   pancreas_ct  10.7937/K9/TCIA.2016.tNB1kqBU   \n",
              "\n",
              "                                    StudyInstanceUID  \\\n",
              "0  1.2.826.0.1.3680043.2.1125.1.28297447715816967...   \n",
              "1  1.2.826.0.1.3680043.2.1125.1.28297447715816967...   \n",
              "2  1.2.826.0.1.3680043.2.1125.1.28297447715816967...   \n",
              "3  1.2.826.0.1.3680043.2.1125.1.28297447715816967...   \n",
              "4  1.2.826.0.1.3680043.2.1125.1.28297447715816967...   \n",
              "\n",
              "                                   SeriesInstanceUID  \\\n",
              "0  1.2.826.0.1.3680043.2.1125.1.62964775786459292...   \n",
              "1  1.2.826.0.1.3680043.2.1125.1.62964775786459292...   \n",
              "2  1.2.826.0.1.3680043.2.1125.1.62964775786459292...   \n",
              "3  1.2.826.0.1.3680043.2.1125.1.62964775786459292...   \n",
              "4  1.2.826.0.1.3680043.2.1125.1.62964775786459292...   \n",
              "\n",
              "                                      SOPInstanceUID  \\\n",
              "0  1.2.826.0.1.3680043.2.1125.1.10270918159011968...   \n",
              "1  1.2.826.0.1.3680043.2.1125.1.10903946443392087...   \n",
              "2  1.2.826.0.1.3680043.2.1125.1.11540181485631778...   \n",
              "3  1.2.826.0.1.3680043.2.1125.1.12181580307117243...   \n",
              "4  1.2.826.0.1.3680043.2.1125.1.13120917872266205...   \n",
              "\n",
              "                                             gcs_url  \n",
              "0  gs://public-datasets-idc/73cdafef-f1db-4143-98...  \n",
              "1  gs://public-datasets-idc/99a89340-1ca6-4eb9-87...  \n",
              "2  gs://public-datasets-idc/34e09543-c71a-45d0-95...  \n",
              "3  gs://public-datasets-idc/6900da9d-6acf-45d6-ac...  \n",
              "4  gs://public-datasets-idc/487f8c09-7c3c-4b9f-83...  "
            ],
            "text/html": [
              "\n",
              "  <div id=\"df-f549d922-8714-4661-9322-2512b42b8f19\">\n",
              "    <div class=\"colab-df-container\">\n",
              "      <div>\n",
              "<style scoped>\n",
              "    .dataframe tbody tr th:only-of-type {\n",
              "        vertical-align: middle;\n",
              "    }\n",
              "\n",
              "    .dataframe tbody tr th {\n",
              "        vertical-align: top;\n",
              "    }\n",
              "\n",
              "    .dataframe thead th {\n",
              "        text-align: right;\n",
              "    }\n",
              "</style>\n",
              "<table border=\"1\" class=\"dataframe\">\n",
              "  <thead>\n",
              "    <tr style=\"text-align: right;\">\n",
              "      <th></th>\n",
              "      <th>PatientID</th>\n",
              "      <th>collection_id</th>\n",
              "      <th>source_DOI</th>\n",
              "      <th>StudyInstanceUID</th>\n",
              "      <th>SeriesInstanceUID</th>\n",
              "      <th>SOPInstanceUID</th>\n",
              "      <th>gcs_url</th>\n",
              "    </tr>\n",
              "  </thead>\n",
              "  <tbody>\n",
              "    <tr>\n",
              "      <th>0</th>\n",
              "      <td>PANCREAS_0082</td>\n",
              "      <td>pancreas_ct</td>\n",
              "      <td>10.7937/K9/TCIA.2016.tNB1kqBU</td>\n",
              "      <td>1.2.826.0.1.3680043.2.1125.1.28297447715816967...</td>\n",
              "      <td>1.2.826.0.1.3680043.2.1125.1.62964775786459292...</td>\n",
              "      <td>1.2.826.0.1.3680043.2.1125.1.10270918159011968...</td>\n",
              "      <td>gs://public-datasets-idc/73cdafef-f1db-4143-98...</td>\n",
              "    </tr>\n",
              "    <tr>\n",
              "      <th>1</th>\n",
              "      <td>PANCREAS_0082</td>\n",
              "      <td>pancreas_ct</td>\n",
              "      <td>10.7937/K9/TCIA.2016.tNB1kqBU</td>\n",
              "      <td>1.2.826.0.1.3680043.2.1125.1.28297447715816967...</td>\n",
              "      <td>1.2.826.0.1.3680043.2.1125.1.62964775786459292...</td>\n",
              "      <td>1.2.826.0.1.3680043.2.1125.1.10903946443392087...</td>\n",
              "      <td>gs://public-datasets-idc/99a89340-1ca6-4eb9-87...</td>\n",
              "    </tr>\n",
              "    <tr>\n",
              "      <th>2</th>\n",
              "      <td>PANCREAS_0082</td>\n",
              "      <td>pancreas_ct</td>\n",
              "      <td>10.7937/K9/TCIA.2016.tNB1kqBU</td>\n",
              "      <td>1.2.826.0.1.3680043.2.1125.1.28297447715816967...</td>\n",
              "      <td>1.2.826.0.1.3680043.2.1125.1.62964775786459292...</td>\n",
              "      <td>1.2.826.0.1.3680043.2.1125.1.11540181485631778...</td>\n",
              "      <td>gs://public-datasets-idc/34e09543-c71a-45d0-95...</td>\n",
              "    </tr>\n",
              "    <tr>\n",
              "      <th>3</th>\n",
              "      <td>PANCREAS_0082</td>\n",
              "      <td>pancreas_ct</td>\n",
              "      <td>10.7937/K9/TCIA.2016.tNB1kqBU</td>\n",
              "      <td>1.2.826.0.1.3680043.2.1125.1.28297447715816967...</td>\n",
              "      <td>1.2.826.0.1.3680043.2.1125.1.62964775786459292...</td>\n",
              "      <td>1.2.826.0.1.3680043.2.1125.1.12181580307117243...</td>\n",
              "      <td>gs://public-datasets-idc/6900da9d-6acf-45d6-ac...</td>\n",
              "    </tr>\n",
              "    <tr>\n",
              "      <th>4</th>\n",
              "      <td>PANCREAS_0082</td>\n",
              "      <td>pancreas_ct</td>\n",
              "      <td>10.7937/K9/TCIA.2016.tNB1kqBU</td>\n",
              "      <td>1.2.826.0.1.3680043.2.1125.1.28297447715816967...</td>\n",
              "      <td>1.2.826.0.1.3680043.2.1125.1.62964775786459292...</td>\n",
              "      <td>1.2.826.0.1.3680043.2.1125.1.13120917872266205...</td>\n",
              "      <td>gs://public-datasets-idc/487f8c09-7c3c-4b9f-83...</td>\n",
              "    </tr>\n",
              "  </tbody>\n",
              "</table>\n",
              "</div>\n",
              "      <button class=\"colab-df-convert\" onclick=\"convertToInteractive('df-f549d922-8714-4661-9322-2512b42b8f19')\"\n",
              "              title=\"Convert this dataframe to an interactive table.\"\n",
              "              style=\"display:none;\">\n",
              "        \n",
              "  <svg xmlns=\"http://www.w3.org/2000/svg\" height=\"24px\"viewBox=\"0 0 24 24\"\n",
              "       width=\"24px\">\n",
              "    <path d=\"M0 0h24v24H0V0z\" fill=\"none\"/>\n",
              "    <path d=\"M18.56 5.44l.94 2.06.94-2.06 2.06-.94-2.06-.94-.94-2.06-.94 2.06-2.06.94zm-11 1L8.5 8.5l.94-2.06 2.06-.94-2.06-.94L8.5 2.5l-.94 2.06-2.06.94zm10 10l.94 2.06.94-2.06 2.06-.94-2.06-.94-.94-2.06-.94 2.06-2.06.94z\"/><path d=\"M17.41 7.96l-1.37-1.37c-.4-.4-.92-.59-1.43-.59-.52 0-1.04.2-1.43.59L10.3 9.45l-7.72 7.72c-.78.78-.78 2.05 0 2.83L4 21.41c.39.39.9.59 1.41.59.51 0 1.02-.2 1.41-.59l7.78-7.78 2.81-2.81c.8-.78.8-2.07 0-2.86zM5.41 20L4 18.59l7.72-7.72 1.47 1.35L5.41 20z\"/>\n",
              "  </svg>\n",
              "      </button>\n",
              "      \n",
              "  <style>\n",
              "    .colab-df-container {\n",
              "      display:flex;\n",
              "      flex-wrap:wrap;\n",
              "      gap: 12px;\n",
              "    }\n",
              "\n",
              "    .colab-df-convert {\n",
              "      background-color: #E8F0FE;\n",
              "      border: none;\n",
              "      border-radius: 50%;\n",
              "      cursor: pointer;\n",
              "      display: none;\n",
              "      fill: #1967D2;\n",
              "      height: 32px;\n",
              "      padding: 0 0 0 0;\n",
              "      width: 32px;\n",
              "    }\n",
              "\n",
              "    .colab-df-convert:hover {\n",
              "      background-color: #E2EBFA;\n",
              "      box-shadow: 0px 1px 2px rgba(60, 64, 67, 0.3), 0px 1px 3px 1px rgba(60, 64, 67, 0.15);\n",
              "      fill: #174EA6;\n",
              "    }\n",
              "\n",
              "    [theme=dark] .colab-df-convert {\n",
              "      background-color: #3B4455;\n",
              "      fill: #D2E3FC;\n",
              "    }\n",
              "\n",
              "    [theme=dark] .colab-df-convert:hover {\n",
              "      background-color: #434B5C;\n",
              "      box-shadow: 0px 1px 3px 1px rgba(0, 0, 0, 0.15);\n",
              "      filter: drop-shadow(0px 1px 2px rgba(0, 0, 0, 0.3));\n",
              "      fill: #FFFFFF;\n",
              "    }\n",
              "  </style>\n",
              "\n",
              "      <script>\n",
              "        const buttonEl =\n",
              "          document.querySelector('#df-f549d922-8714-4661-9322-2512b42b8f19 button.colab-df-convert');\n",
              "        buttonEl.style.display =\n",
              "          google.colab.kernel.accessAllowed ? 'block' : 'none';\n",
              "\n",
              "        async function convertToInteractive(key) {\n",
              "          const element = document.querySelector('#df-f549d922-8714-4661-9322-2512b42b8f19');\n",
              "          const dataTable =\n",
              "            await google.colab.kernel.invokeFunction('convertToInteractive',\n",
              "                                                     [key], {});\n",
              "          if (!dataTable) return;\n",
              "\n",
              "          const docLinkHtml = 'Like what you see? Visit the ' +\n",
              "            '<a target=\"_blank\" href=https://colab.research.google.com/notebooks/data_table.ipynb>data table notebook</a>'\n",
              "            + ' to learn more about interactive tables.';\n",
              "          element.innerHTML = '';\n",
              "          dataTable['output_type'] = 'display_data';\n",
              "          await google.colab.output.renderOutput(dataTable, element);\n",
              "          const docLink = document.createElement('div');\n",
              "          docLink.innerHTML = docLinkHtml;\n",
              "          element.appendChild(docLink);\n",
              "        }\n",
              "      </script>\n",
              "    </div>\n",
              "  </div>\n",
              "  "
            ]
          },
          "metadata": {}
        }
      ]
    },
    {
      "cell_type": "code",
      "source": [
        "# init\n",
        "\n",
        "print(\"Processing patient: %s\"%(pat_id))\n",
        "\n",
        "patient_df = cohort_df[cohort_df[\"PatientID\"] == pat_id]\n",
        "\n",
        "dicomseg_fn = pat_id + \"_SEG.dcm\"\n",
        "\n",
        "input_nifti_fn = pat_id + \"_0000.nii.gz\"\n",
        "input_nifti_path = os.path.join(model_input_folder, input_nifti_fn)\n",
        "\n",
        "pred_nifti_fn = pat_id + \".nii.gz\"\n",
        "pred_nifti_path = os.path.join(model_output_folder, pred_nifti_fn)\n",
        "\n",
        "pred_softmax_folder_name = \"pred_softmax\"\n",
        "pred_softmax_folder_path = os.path.join(processed_nifti_path, pat_id, pred_softmax_folder_name)"
      ],
      "metadata": {
        "colab": {
          "base_uri": "https://localhost:8080/"
        },
        "id": "S7a6h_iINlvq",
        "outputId": "c0d218be-3375-403f-a9c3-e4a84d3401e3"
      },
      "execution_count": 75,
      "outputs": [
        {
          "output_type": "stream",
          "name": "stdout",
          "text": [
            "Processing patient: PANCREAS_0082\n"
          ]
        }
      ]
    },
    {
      "cell_type": "code",
      "source": [
        "# data cross-loading\n",
        "aimi_utils.gcs.download_patient_data(raw_base_path = raw_base_path,\n",
        "                                     sorted_base_path = sorted_base_path,\n",
        "                                     patient_df = patient_df,\n",
        "                                     remove_raw = True)"
      ],
      "metadata": {
        "colab": {
          "base_uri": "https://localhost:8080/"
        },
        "id": "NZDxWkvCNlxw",
        "outputId": "70ec83db-2deb-4b54-a6d7-963c45fd5630"
      },
      "execution_count": 76,
      "outputs": [
        {
          "output_type": "stream",
          "name": "stdout",
          "text": [
            "Copying files from IDC buckets to /content/data/raw/tmp/PANCREAS_0082...\n",
            "Done in 12.6427 seconds.\n",
            "\n",
            "Sorting DICOM files...\n",
            "Done in 1.0688 seconds.\n",
            "Sorted DICOM data saved at: /content/data/raw/pancreas_ct/dicom/PANCREAS_0082\n",
            "Removing un-sorted data at /content/data/raw/tmp/PANCREAS_0082...\n",
            "... Done.\n"
          ]
        }
      ]
    },
    {
      "cell_type": "code",
      "source": [
        "# DICOM CT to NIfTI - required for the processing\n",
        "aimi_utils.preprocessing.pypla_dicom_ct_to_nifti(sorted_base_path = sorted_base_path,\n",
        "                                                 processed_nifti_path = processed_nifti_path,\n",
        "                                                 pat_id = pat_id, verbose = True)"
      ],
      "metadata": {
        "colab": {
          "base_uri": "https://localhost:8080/"
        },
        "id": "FfsY-_EGNs19",
        "outputId": "f47863b2-e033-4ebe-a92e-3c9d19d4a7b2"
      },
      "execution_count": 77,
      "outputs": [
        {
          "output_type": "stream",
          "name": "stdout",
          "text": [
            "\n",
            "Running 'plastimatch convert' with the specified arguments:\n",
            "  --input /content/data/raw/pancreas_ct/dicom/PANCREAS_0082/CT\n",
            "  --output-img /content/data/processed/pancreas_ct/nii/PANCREAS_0082/PANCREAS_0082_CT.nii.gz\n",
            "... Done.\n"
          ]
        }
      ]
    },
    {
      "cell_type": "code",
      "source": [
        "# prepare the `model_input` folder for the inference phase\n",
        "aimi_utils.preprocessing.prep_input_data(processed_nifti_path = processed_nifti_path,\n",
        "                                         model_input_folder = model_input_folder,\n",
        "                                         pat_id = pat_id)"
      ],
      "metadata": {
        "colab": {
          "base_uri": "https://localhost:8080/"
        },
        "id": "0R547UiyNs4O",
        "outputId": "87e99f92-3b85-4b2c-d166-56df4d1adeed"
      },
      "execution_count": 78,
      "outputs": [
        {
          "output_type": "stream",
          "name": "stdout",
          "text": [
            "Copying /content/data/processed/pancreas_ct/nii/PANCREAS_0082/PANCREAS_0082_CT.nii.gz\n",
            "to /content/data/model_input/PANCREAS_0082_0000.nii.gz...\n",
            "... Done.\n"
          ]
        }
      ]
    },
    {
      "cell_type": "code",
      "source": [
        "# run the DL-based prediction\n",
        "aimi_model.utils.processing.process_patient_nnunet(model_input_folder = model_input_folder,\n",
        "                                                   model_output_folder = model_output_folder, \n",
        "                                                   nnunet_model = nnunet_model, use_tta = use_tta,\n",
        "                                                   export_prob_maps = export_prob_maps)"
      ],
      "metadata": {
        "colab": {
          "base_uri": "https://localhost:8080/"
        },
        "id": "-OCLqzAzNs6K",
        "outputId": "3df2e8d5-81d9-4455-f034-e7e35bb5131f"
      },
      "execution_count": 79,
      "outputs": [
        {
          "output_type": "stream",
          "name": "stdout",
          "text": [
            "Running `nnUNet_predict` with `3d_lowres` model...\n",
            "Processing file at /content/data/model_input/PANCREAS_0082_0000.nii.gz...\n",
            "Done in 208.279 seconds.\n"
          ]
        }
      ]
    },
    {
      "cell_type": "code",
      "source": [
        "model_output_seg = os.path.join(model_output_folder, pat_id + \".nii.gz\")\n",
        "seg_nii_path = os.path.join(processed_nifti_path, pat_id, pat_id + \"_pred_pancreas.nii.gz\")\n",
        "\n",
        "shutil.copyfile(model_output_seg, seg_nii_path)"
      ],
      "metadata": {
        "colab": {
          "base_uri": "https://localhost:8080/",
          "height": 36
        },
        "id": "OdhLTfQRVYBR",
        "outputId": "2f95e456-2d8b-42da-be25-958c65e897b7"
      },
      "execution_count": 80,
      "outputs": [
        {
          "output_type": "execute_result",
          "data": {
            "text/plain": [
              "'/content/data/processed/pancreas_ct/nii/PANCREAS_0082/PANCREAS_0082_pred_pancreas.nii.gz'"
            ],
            "application/vnd.google.colaboratory.intrinsic+json": {
              "type": "string"
            }
          },
          "metadata": {},
          "execution_count": 80
        }
      ]
    },
    {
      "cell_type": "code",
      "source": [
        "if export_prob_maps:\n",
        "  aimi_model.utils.postprocessing.numpy_to_nrrd(model_output_folder = model_output_folder,\n",
        "                                                processed_nrrd_path = processed_nifti_path,\n",
        "                                                pat_id = pat_id,\n",
        "                                                output_folder_name = pred_softmax_folder_name)"
      ],
      "metadata": {
        "id": "4SVgqT_kNs8X"
      },
      "execution_count": 81,
      "outputs": []
    },
    {
      "cell_type": "markdown",
      "source": [
        "Before running the conversion to DICOM SEG, update the JSON file used to generate the DICOM SEG object with the configuration of nnU-Net we are going to be using for the specific run."
      ],
      "metadata": {
        "id": "0UWyjE1505fV"
      }
    },
    {
      "cell_type": "code",
      "source": [
        "extended_model_name = \"nnU-Net \" + nnunet_model + \"_tta\" if use_tta else \"nnU-Net \" + nnunet_model\n",
        "\n",
        "aimi_utils.config.modify_dicomseg_json_file(dicomseg_json_path = dicomseg_json_path,\n",
        "                                            new_dicomseg_json_path = dicomseg_json_path,\n",
        "                                            SegmentAlgorithmName = extended_model_name)"
      ],
      "metadata": {
        "id": "-B-kePw4zyBL"
      },
      "execution_count": 82,
      "outputs": []
    },
    {
      "cell_type": "code",
      "source": [
        "aimi_model.utils.postprocessing.nifti_to_dicomseg(sorted_base_path = sorted_base_path,\n",
        "                                                  processed_base_path = processed_base_path,\n",
        "                                                  dicomseg_json_path = dicomseg_json_path,\n",
        "                                                  pat_id = pat_id)"
      ],
      "metadata": {
        "id": "rQ9FSB77TH6g"
      },
      "execution_count": 83,
      "outputs": []
    },
    {
      "cell_type": "markdown",
      "source": [
        "---"
      ],
      "metadata": {
        "id": "But1jZOmo1YN"
      }
    },
    {
      "cell_type": "code",
      "source": [
        "from pyplastimatch.utils import viz as viz_utils"
      ],
      "metadata": {
        "id": "SPAivMyyqReY"
      },
      "execution_count": 84,
      "outputs": []
    },
    {
      "cell_type": "code",
      "source": [
        "ct_nii_path = os.path.join(\"/content/data/processed/pancreas_ct/nii/\", pat_id, pat_id + \"_CT.nii.gz\")\n",
        "seg_nii_path = os.path.join(\"/content/data/nnunet_output/\", pat_id + \".nii.gz\")\n",
        "softseg_nii_path = os.path.join(\"/content/data/nnunet_output/\", pat_id + \".npz\")\n",
        "\n",
        "\"\"\"\n",
        "alternative way of loading the resulting NIfTI files\n",
        "nibabel can sometimes take better care of the orientation of the\n",
        "converted/segmented images, but will orient the data differently by default\n",
        "\"\"\"\n",
        "\n",
        "#ct_nii = nib.load(ct_nii_path).dataobj\n",
        "#seg_nii = nib.load(seg_nii_path).dataobj\n",
        "\n",
        "ct_nii = sitk.GetArrayFromImage(sitk.ReadImage(ct_nii_path))\n",
        "seg_nii = sitk.GetArrayFromImage(sitk.ReadImage(seg_nii_path))"
      ],
      "metadata": {
        "id": "gxrHpkeapMKe"
      },
      "execution_count": 85,
      "outputs": []
    },
    {
      "cell_type": "markdown",
      "source": [
        "In some cases, the nnU-Net model will fail in segmenting the pancreatic cancer from the CT scan. The voxels of the NIfTI volume resulting from the pipeline will therefore take only two values: 0, for background, and 1, for pancreas.\n",
        "\n",
        "In the next cell, we can visualise the result using a simple widget - after taking care of the potential aforementioned exception."
      ],
      "metadata": {
        "id": "5Ydjya0OX5yd"
      }
    },
    {
      "cell_type": "code",
      "source": [
        "# in some patients, no pancreatic cancer will be segmented\n",
        "has_cancer_seg = True if len(np.unique(seg_nii)) > 2 else False\n",
        "\n",
        "if has_cancer_seg:\n",
        "  # class #1\n",
        "  pancreas_nii = np.copy(seg_nii)\n",
        "  pancreas_nii[pancreas_nii > 1] = 0\n",
        "\n",
        "  # class #2\n",
        "  cancer_nii = np.copy(seg_nii)\n",
        "  cancer_nii[cancer_nii < 2] = 0\n",
        "  cancer_nii[cancer_nii == 2] = 1\n",
        "\n",
        "  _ = viz_utils.AxialSliceSegmaskViz(ct_volume = ct_nii,\n",
        "                                     segmask_dict = {\"pancreas\" : pancreas_nii,\n",
        "                                                     \"cancer\" : cancer_nii},\n",
        "                                     segmask_cmap_dict = {\"pancreas\" : my_greens,\n",
        "                                                          \"cancer\" : my_reds},\n",
        "                                     dpi = 100, figsize = (8, 8),\n",
        "                                     min_hu = -1024, max_hu = 1024)\n",
        "else:\n",
        "    _ = viz_utils.AxialSliceSegmaskViz(ct_volume = ct_nii, \n",
        "                                       segmask_dict = {\"pancreas\" : seg_nii},\n",
        "                                       segmask_cmap_dict = {\"pancreas\" : my_greens},\n",
        "                                       dpi = 100, figsize = (8, 8),\n",
        "                                       min_hu = -1024, max_hu = 1024)"
      ],
      "metadata": {
        "id": "imBup5S2qcpM",
        "colab": {
          "base_uri": "https://localhost:8080/",
          "height": 701,
          "referenced_widgets": [
            "78166097cf854cadadd59bb2ae98dfa5",
            "28730b5a086f4280af84c8f0b79a1b66",
            "c8c79a93b6bf4e91b24c05a1b935f351",
            "ce8eae8685f04d968f0338c8ed6b804e",
            "1bbe0a9864244157b5c39aaf66510291",
            "a3fafdc940f944e3ab314d8b6ff047db",
            "2b6ec0db6615486abdff07b469a3b314",
            "f03c9ffb7c434b2caacc2908ef0492fe",
            "9d09322b3f2e43c986869d0f36ad4562",
            "e49c1e34eb0a4d43905d27a5e233144e",
            "530f0c52e8ac4ec9b0e0ae39de8a2a04"
          ]
        },
        "outputId": "7b1c88e0-1cd3-4a4f-e954-28e8affa1895"
      },
      "execution_count": 86,
      "outputs": [
        {
          "output_type": "display_data",
          "data": {
            "text/plain": [
              "interactive(children=(Output(),), _dom_classes=('widget-interact',))"
            ],
            "application/vnd.jupyter.widget-view+json": {
              "version_major": 2,
              "version_minor": 0,
              "model_id": "78166097cf854cadadd59bb2ae98dfa5"
            }
          },
          "metadata": {}
        }
      ]
    },
    {
      "cell_type": "markdown",
      "source": [
        "---\n",
        "\n",
        "## **Data Download**"
      ],
      "metadata": {
        "id": "i2QqrdvXqQq0"
      }
    },
    {
      "cell_type": "code",
      "source": [
        "%%capture\n",
        "\n",
        "archive_fn = \"%s.zip\"%(pat_id)\n",
        "\n",
        "try:\n",
        "  os.remove(archive_fn)\n",
        "except OSError:\n",
        "  pass\n",
        "\n",
        "seg_dicom_path = os.path.join(processed_dicomseg_path, pat_id, dicomseg_fn)\n",
        "ct_dicom_path = os.path.join(sorted_base_path, pat_id)\n",
        "\n",
        "!zip -j -r $archive_fn $ct_dicom_path $seg_dicom_path"
      ],
      "metadata": {
        "id": "ARmBD0lHdz_2"
      },
      "execution_count": 87,
      "outputs": []
    },
    {
      "cell_type": "code",
      "source": [
        "filesize = os.stat(archive_fn).st_size/1024e03\n",
        "print('Starting the download of \"%s\" (%2.1f MB)...\\n'%(archive_fn, filesize))\n",
        "\n",
        "files.download(archive_fn)"
      ],
      "metadata": {
        "id": "8pE0X9kid0D-",
        "colab": {
          "base_uri": "https://localhost:8080/",
          "height": 52
        },
        "outputId": "d9785d26-0bdc-42bd-ccf3-9d4f7f9e882f"
      },
      "execution_count": 88,
      "outputs": [
        {
          "output_type": "stream",
          "name": "stdout",
          "text": [
            "Starting the download of \"PANCREAS_0082.zip\" (61.2 MB)...\n",
            "\n"
          ]
        },
        {
          "output_type": "display_data",
          "data": {
            "text/plain": [
              "<IPython.core.display.Javascript object>"
            ],
            "application/javascript": [
              "\n",
              "    async function download(id, filename, size) {\n",
              "      if (!google.colab.kernel.accessAllowed) {\n",
              "        return;\n",
              "      }\n",
              "      const div = document.createElement('div');\n",
              "      const label = document.createElement('label');\n",
              "      label.textContent = `Downloading \"${filename}\": `;\n",
              "      div.appendChild(label);\n",
              "      const progress = document.createElement('progress');\n",
              "      progress.max = size;\n",
              "      div.appendChild(progress);\n",
              "      document.body.appendChild(div);\n",
              "\n",
              "      const buffers = [];\n",
              "      let downloaded = 0;\n",
              "\n",
              "      const channel = await google.colab.kernel.comms.open(id);\n",
              "      // Send a message to notify the kernel that we're ready.\n",
              "      channel.send({})\n",
              "\n",
              "      for await (const message of channel.messages) {\n",
              "        // Send a message to notify the kernel that we're ready.\n",
              "        channel.send({})\n",
              "        if (message.buffers) {\n",
              "          for (const buffer of message.buffers) {\n",
              "            buffers.push(buffer);\n",
              "            downloaded += buffer.byteLength;\n",
              "            progress.value = downloaded;\n",
              "          }\n",
              "        }\n",
              "      }\n",
              "      const blob = new Blob(buffers, {type: 'application/binary'});\n",
              "      const a = document.createElement('a');\n",
              "      a.href = window.URL.createObjectURL(blob);\n",
              "      a.download = filename;\n",
              "      div.appendChild(a);\n",
              "      a.click();\n",
              "      div.remove();\n",
              "    }\n",
              "  "
            ]
          },
          "metadata": {}
        },
        {
          "output_type": "display_data",
          "data": {
            "text/plain": [
              "<IPython.core.display.Javascript object>"
            ],
            "application/javascript": [
              "download(\"download_5113020d-7a85-474b-b7dc-26d1de316135\", \"PANCREAS_0082.zip\", 62709615)"
            ]
          },
          "metadata": {}
        }
      ]
    }
  ],
  "metadata": {
    "colab": {
      "collapsed_sections": [],
      "provenance": [],
      "include_colab_link": true
    },
    "kernelspec": {
      "display_name": "Python 3",
      "name": "python3"
    },
    "language_info": {
      "name": "python"
    },
    "accelerator": "GPU",
    "gpuClass": "standard",
    "widgets": {
      "application/vnd.jupyter.widget-state+json": {
        "78166097cf854cadadd59bb2ae98dfa5": {
          "model_module": "@jupyter-widgets/controls",
          "model_name": "VBoxModel",
          "model_module_version": "1.5.0",
          "state": {
            "_dom_classes": [
              "widget-interact"
            ],
            "_model_module": "@jupyter-widgets/controls",
            "_model_module_version": "1.5.0",
            "_model_name": "VBoxModel",
            "_view_count": null,
            "_view_module": "@jupyter-widgets/controls",
            "_view_module_version": "1.5.0",
            "_view_name": "VBoxView",
            "box_style": "",
            "children": [
              "IPY_MODEL_28730b5a086f4280af84c8f0b79a1b66"
            ],
            "layout": "IPY_MODEL_c8c79a93b6bf4e91b24c05a1b935f351"
          }
        },
        "28730b5a086f4280af84c8f0b79a1b66": {
          "model_module": "@jupyter-widgets/output",
          "model_name": "OutputModel",
          "model_module_version": "1.0.0",
          "state": {
            "_dom_classes": [],
            "_model_module": "@jupyter-widgets/output",
            "_model_module_version": "1.0.0",
            "_model_name": "OutputModel",
            "_view_count": null,
            "_view_module": "@jupyter-widgets/output",
            "_view_module_version": "1.0.0",
            "_view_name": "OutputView",
            "layout": "IPY_MODEL_1bbe0a9864244157b5c39aaf66510291",
            "msg_id": "",
            "outputs": [
              {
                "output_type": "display_data",
                "data": {
                  "text/plain": "interactive(children=(IntSlider(value=0, description='Axial slice:', max=225), Output()), _dom_classes=('widge…",
                  "application/vnd.jupyter.widget-view+json": {
                    "version_major": 2,
                    "version_minor": 0,
                    "model_id": "ce8eae8685f04d968f0338c8ed6b804e"
                  }
                },
                "metadata": {}
              }
            ]
          }
        },
        "c8c79a93b6bf4e91b24c05a1b935f351": {
          "model_module": "@jupyter-widgets/base",
          "model_name": "LayoutModel",
          "model_module_version": "1.2.0",
          "state": {
            "_model_module": "@jupyter-widgets/base",
            "_model_module_version": "1.2.0",
            "_model_name": "LayoutModel",
            "_view_count": null,
            "_view_module": "@jupyter-widgets/base",
            "_view_module_version": "1.2.0",
            "_view_name": "LayoutView",
            "align_content": null,
            "align_items": null,
            "align_self": null,
            "border": null,
            "bottom": null,
            "display": null,
            "flex": null,
            "flex_flow": null,
            "grid_area": null,
            "grid_auto_columns": null,
            "grid_auto_flow": null,
            "grid_auto_rows": null,
            "grid_column": null,
            "grid_gap": null,
            "grid_row": null,
            "grid_template_areas": null,
            "grid_template_columns": null,
            "grid_template_rows": null,
            "height": null,
            "justify_content": null,
            "justify_items": null,
            "left": null,
            "margin": null,
            "max_height": null,
            "max_width": null,
            "min_height": null,
            "min_width": null,
            "object_fit": null,
            "object_position": null,
            "order": null,
            "overflow": null,
            "overflow_x": null,
            "overflow_y": null,
            "padding": null,
            "right": null,
            "top": null,
            "visibility": null,
            "width": null
          }
        },
        "ce8eae8685f04d968f0338c8ed6b804e": {
          "model_module": "@jupyter-widgets/controls",
          "model_name": "VBoxModel",
          "model_module_version": "1.5.0",
          "state": {
            "_dom_classes": [
              "widget-interact"
            ],
            "_model_module": "@jupyter-widgets/controls",
            "_model_module_version": "1.5.0",
            "_model_name": "VBoxModel",
            "_view_count": null,
            "_view_module": "@jupyter-widgets/controls",
            "_view_module_version": "1.5.0",
            "_view_name": "VBoxView",
            "box_style": "",
            "children": [
              "IPY_MODEL_a3fafdc940f944e3ab314d8b6ff047db",
              "IPY_MODEL_2b6ec0db6615486abdff07b469a3b314"
            ],
            "layout": "IPY_MODEL_f03c9ffb7c434b2caacc2908ef0492fe"
          }
        },
        "1bbe0a9864244157b5c39aaf66510291": {
          "model_module": "@jupyter-widgets/base",
          "model_name": "LayoutModel",
          "model_module_version": "1.2.0",
          "state": {
            "_model_module": "@jupyter-widgets/base",
            "_model_module_version": "1.2.0",
            "_model_name": "LayoutModel",
            "_view_count": null,
            "_view_module": "@jupyter-widgets/base",
            "_view_module_version": "1.2.0",
            "_view_name": "LayoutView",
            "align_content": null,
            "align_items": null,
            "align_self": null,
            "border": null,
            "bottom": null,
            "display": null,
            "flex": null,
            "flex_flow": null,
            "grid_area": null,
            "grid_auto_columns": null,
            "grid_auto_flow": null,
            "grid_auto_rows": null,
            "grid_column": null,
            "grid_gap": null,
            "grid_row": null,
            "grid_template_areas": null,
            "grid_template_columns": null,
            "grid_template_rows": null,
            "height": null,
            "justify_content": null,
            "justify_items": null,
            "left": null,
            "margin": null,
            "max_height": null,
            "max_width": null,
            "min_height": null,
            "min_width": null,
            "object_fit": null,
            "object_position": null,
            "order": null,
            "overflow": null,
            "overflow_x": null,
            "overflow_y": null,
            "padding": null,
            "right": null,
            "top": null,
            "visibility": null,
            "width": null
          }
        },
        "a3fafdc940f944e3ab314d8b6ff047db": {
          "model_module": "@jupyter-widgets/controls",
          "model_name": "IntSliderModel",
          "model_module_version": "1.5.0",
          "state": {
            "_dom_classes": [],
            "_model_module": "@jupyter-widgets/controls",
            "_model_module_version": "1.5.0",
            "_model_name": "IntSliderModel",
            "_view_count": null,
            "_view_module": "@jupyter-widgets/controls",
            "_view_module_version": "1.5.0",
            "_view_name": "IntSliderView",
            "continuous_update": true,
            "description": "Axial slice:",
            "description_tooltip": null,
            "disabled": false,
            "layout": "IPY_MODEL_9d09322b3f2e43c986869d0f36ad4562",
            "max": 225,
            "min": 0,
            "orientation": "horizontal",
            "readout": true,
            "readout_format": "d",
            "step": 1,
            "style": "IPY_MODEL_e49c1e34eb0a4d43905d27a5e233144e",
            "value": 0
          }
        },
        "2b6ec0db6615486abdff07b469a3b314": {
          "model_module": "@jupyter-widgets/output",
          "model_name": "OutputModel",
          "model_module_version": "1.0.0",
          "state": {
            "_dom_classes": [],
            "_model_module": "@jupyter-widgets/output",
            "_model_module_version": "1.0.0",
            "_model_name": "OutputModel",
            "_view_count": null,
            "_view_module": "@jupyter-widgets/output",
            "_view_module_version": "1.0.0",
            "_view_name": "OutputView",
            "layout": "IPY_MODEL_530f0c52e8ac4ec9b0e0ae39de8a2a04",
            "msg_id": "",
            "outputs": [
              {
                "output_type": "display_data",
                "data": {
                  "text/plain": "<Figure size 800x800 with 1 Axes>",
                  "image/png": "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\n"
                },
                "metadata": {
                  "needs_background": "light"
                }
              }
            ]
          }
        },
        "f03c9ffb7c434b2caacc2908ef0492fe": {
          "model_module": "@jupyter-widgets/base",
          "model_name": "LayoutModel",
          "model_module_version": "1.2.0",
          "state": {
            "_model_module": "@jupyter-widgets/base",
            "_model_module_version": "1.2.0",
            "_model_name": "LayoutModel",
            "_view_count": null,
            "_view_module": "@jupyter-widgets/base",
            "_view_module_version": "1.2.0",
            "_view_name": "LayoutView",
            "align_content": null,
            "align_items": null,
            "align_self": null,
            "border": null,
            "bottom": null,
            "display": null,
            "flex": null,
            "flex_flow": null,
            "grid_area": null,
            "grid_auto_columns": null,
            "grid_auto_flow": null,
            "grid_auto_rows": null,
            "grid_column": null,
            "grid_gap": null,
            "grid_row": null,
            "grid_template_areas": null,
            "grid_template_columns": null,
            "grid_template_rows": null,
            "height": null,
            "justify_content": null,
            "justify_items": null,
            "left": null,
            "margin": null,
            "max_height": null,
            "max_width": null,
            "min_height": null,
            "min_width": null,
            "object_fit": null,
            "object_position": null,
            "order": null,
            "overflow": null,
            "overflow_x": null,
            "overflow_y": null,
            "padding": null,
            "right": null,
            "top": null,
            "visibility": null,
            "width": null
          }
        },
        "9d09322b3f2e43c986869d0f36ad4562": {
          "model_module": "@jupyter-widgets/base",
          "model_name": "LayoutModel",
          "model_module_version": "1.2.0",
          "state": {
            "_model_module": "@jupyter-widgets/base",
            "_model_module_version": "1.2.0",
            "_model_name": "LayoutModel",
            "_view_count": null,
            "_view_module": "@jupyter-widgets/base",
            "_view_module_version": "1.2.0",
            "_view_name": "LayoutView",
            "align_content": null,
            "align_items": null,
            "align_self": null,
            "border": null,
            "bottom": null,
            "display": null,
            "flex": null,
            "flex_flow": null,
            "grid_area": null,
            "grid_auto_columns": null,
            "grid_auto_flow": null,
            "grid_auto_rows": null,
            "grid_column": null,
            "grid_gap": null,
            "grid_row": null,
            "grid_template_areas": null,
            "grid_template_columns": null,
            "grid_template_rows": null,
            "height": null,
            "justify_content": null,
            "justify_items": null,
            "left": null,
            "margin": null,
            "max_height": null,
            "max_width": null,
            "min_height": null,
            "min_width": null,
            "object_fit": null,
            "object_position": null,
            "order": null,
            "overflow": null,
            "overflow_x": null,
            "overflow_y": null,
            "padding": null,
            "right": null,
            "top": null,
            "visibility": null,
            "width": null
          }
        },
        "e49c1e34eb0a4d43905d27a5e233144e": {
          "model_module": "@jupyter-widgets/controls",
          "model_name": "SliderStyleModel",
          "model_module_version": "1.5.0",
          "state": {
            "_model_module": "@jupyter-widgets/controls",
            "_model_module_version": "1.5.0",
            "_model_name": "SliderStyleModel",
            "_view_count": null,
            "_view_module": "@jupyter-widgets/base",
            "_view_module_version": "1.2.0",
            "_view_name": "StyleView",
            "description_width": "",
            "handle_color": null
          }
        },
        "530f0c52e8ac4ec9b0e0ae39de8a2a04": {
          "model_module": "@jupyter-widgets/base",
          "model_name": "LayoutModel",
          "model_module_version": "1.2.0",
          "state": {
            "_model_module": "@jupyter-widgets/base",
            "_model_module_version": "1.2.0",
            "_model_name": "LayoutModel",
            "_view_count": null,
            "_view_module": "@jupyter-widgets/base",
            "_view_module_version": "1.2.0",
            "_view_name": "LayoutView",
            "align_content": null,
            "align_items": null,
            "align_self": null,
            "border": null,
            "bottom": null,
            "display": null,
            "flex": null,
            "flex_flow": null,
            "grid_area": null,
            "grid_auto_columns": null,
            "grid_auto_flow": null,
            "grid_auto_rows": null,
            "grid_column": null,
            "grid_gap": null,
            "grid_row": null,
            "grid_template_areas": null,
            "grid_template_columns": null,
            "grid_template_rows": null,
            "height": null,
            "justify_content": null,
            "justify_items": null,
            "left": null,
            "margin": null,
            "max_height": null,
            "max_width": null,
            "min_height": null,
            "min_width": null,
            "object_fit": null,
            "object_position": null,
            "order": null,
            "overflow": null,
            "overflow_x": null,
            "overflow_y": null,
            "padding": null,
            "right": null,
            "top": null,
            "visibility": null,
            "width": null
          }
        }
      }
    }
  },
  "nbformat": 4,
  "nbformat_minor": 0
}