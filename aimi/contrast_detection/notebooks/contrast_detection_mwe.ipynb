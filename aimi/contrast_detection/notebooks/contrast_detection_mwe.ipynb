{
  "cells": [
    {
      "cell_type": "markdown",
      "metadata": {
        "colab_type": "text",
        "id": "view-in-github"
      },
      "source": [
        "<a href=\"https://colab.research.google.com/github/AIM-Harvard/aimi_alpha/blob/main/aimi/contrast_detection/notebooks/contrast_detection_mwe.ipynb\" target=\"_parent\"><img src=\"https://colab.research.google.com/assets/colab-badge.svg\" alt=\"Open In Colab\"/></a>"
      ]
    },
    {
      "cell_type": "markdown",
      "metadata": {
        "id": "Pmb_HiJv7Sit"
      },
      "source": [
        "# **ModelHub DeepContrast - Deep Learning–based Detection of Intravenous Contrast Enhancement on CT Scans**\n",
        "\n",
        "Minimal working example for cloud-based detection of contrast enhancement of CT scans using DICOM or NRRD files."
      ]
    },
    {
      "cell_type": "markdown",
      "metadata": {
        "id": "YhS3a-UCXZqd"
      },
      "source": [
        "Please cite the following article if you use this code or pre-trained models:\n",
        "\n",
        "Ye, Z., Qian, J.M., Hosny, A., Zeleznik, R., Plana, D., Likitlersuang, J., Zhang, Z., Mak, R.H., Aerts, H.J. and Kann, B.H., 2022. Deep Learning–based Detection of Intravenous Contrast Enhancement on CT Scans. Radiology: Artificial Intelligence, 4(3), p.e210285.\n",
        "\n",
        "[https://doi.org/10.1148/ryai.210285](https://doi.org/10.1148/ryai.210285)\n",
        "\n",
        "Original code:\n",
        "[GitHub](https://github.com/AIM-Harvard/DeepContrast)"
      ]
    },
    {
      "cell_type": "markdown",
      "metadata": {
        "id": "CZnoRi9Y7nEB"
      },
      "source": [
        "## **Environment Setup**\n",
        "\n",
        "This demo notebook is intended to be run using a GPU.\n",
        "\n",
        "To access a free GPU on Colab:\n",
        "`Edit > Notebooks Settings`.\n",
        "\n",
        "From the dropdown menu under `Hardware accelerator`, select `GPU`. Let's check the Colab instance is indeed equipped with a GPU."
      ]
    },
    {
      "cell_type": "code",
      "execution_count": null,
      "metadata": {
        "colab": {
          "base_uri": "https://localhost:8080/"
        },
        "id": "non5qVLIcG4M",
        "outputId": "8476ace8-068a-42f2-f3ab-fc6c20cd2833"
      },
      "outputs": [
        {
          "name": "stdout",
          "output_type": "stream",
          "text": [
            "Mon Sep 26 16:32:46 2022\n",
            "\n",
            "Current directory : /content\n",
            "Hostname          : 91659f39d74c\n",
            "Username          : root\n",
            "Python version    : 3.7.14 (default, Sep  8 2022, 00:06:44) \n"
          ]
        }
      ],
      "source": [
        "import os\n",
        "import sys\n",
        "import shutil\n",
        "import yaml\n",
        "import time\n",
        "import tqdm\n",
        "import glob\n",
        "\n",
        "\n",
        "# useful information\n",
        "curr_dir = !pwd\n",
        "curr_droid = !hostname\n",
        "curr_pilot = !whoami\n",
        "\n",
        "print(time.asctime(time.localtime()))\n",
        "\n",
        "print(\"\\nCurrent directory :\", curr_dir[-1])\n",
        "print(\"Hostname          :\", curr_droid[-1])\n",
        "print(\"Username          :\", curr_pilot[-1])\n",
        "\n",
        "print(\"Python version    :\", sys.version.split('\\n')[0])"
      ]
    },
    {
      "cell_type": "markdown",
      "metadata": {
        "id": "0PKq2z2jkVJz"
      },
      "source": [
        "The authentication to Google is necessary to run BigQuery queries.\n",
        "\n",
        "Every operation throughout the whole notebook (BigQuery, fetching data from the IDC buckets) is completely free. The only thing that is needed in order to run the notebook is the set-up of a Google Cloud project. In order for the notebook to work as intended, you will need to specify the name of the project in the cell after the authentication one."
      ]
    },
    {
      "cell_type": "code",
      "execution_count": null,
      "metadata": {
        "id": "2DMUqTOVF5WP"
      },
      "outputs": [],
      "source": [
        "from google.colab import auth\n",
        "auth.authenticate_user()"
      ]
    },
    {
      "cell_type": "code",
      "execution_count": null,
      "metadata": {
        "id": "9Y43S1F35h8m"
      },
      "outputs": [],
      "source": [
        "from google.colab import files\n",
        "from google.cloud import storage\n",
        "from google.cloud import bigquery as bq\n",
        "\n",
        "# INSERT THE ID OF YOUR PROJECT HERE!\n",
        "project_id = \"aimihub-362516\""
      ]
    },
    {
      "cell_type": "markdown",
      "metadata": {
        "id": "oT7coYaGfd4t"
      },
      "source": [
        "Throughout this Colab notebook, for image pre-processing we will use [Plastimatch](https://plastimatch.org), a reliable and open source software for image computation. We will be running Plastimatch using the simple [PyPlastimatch](https://github.com/AIM-Harvard/pyplastimatch/tree/main/pyplastimatch) python wrapper. "
      ]
    },
    {
      "cell_type": "code",
      "execution_count": null,
      "metadata": {
        "id": "6NLhlFqyEgBf"
      },
      "outputs": [],
      "source": [
        "%%capture\n",
        "!apt install plastimatch"
      ]
    },
    {
      "cell_type": "code",
      "execution_count": null,
      "metadata": {
        "colab": {
          "base_uri": "https://localhost:8080/"
        },
        "id": "mgpEM7BihcQ9",
        "outputId": "4ad1a7fa-d6f8-4f90-acea-861b7805d4a3"
      },
      "outputs": [
        {
          "name": "stdout",
          "output_type": "stream",
          "text": [
            "plastimatch version 1.7.0\n"
          ]
        }
      ],
      "source": [
        "# Check plastimatch was correctly installed\n",
        "!plastimatch --version"
      ]
    },
    {
      "cell_type": "markdown",
      "metadata": {
        "id": "MrNlgYZJIxkf"
      },
      "source": [
        "---\n",
        "\n",
        "Start by cloning the AIMI hub repository on the Colab instance.\n",
        "\n",
        "The AIMI hub repository stores all the code we will use for pulling, preprocessing, processing, and postprocessing the data for this use case - as long as the others shared through AIMI hub."
      ]
    },
    {
      "cell_type": "code",
      "execution_count": null,
      "metadata": {
        "colab": {
          "base_uri": "https://localhost:8080/"
        },
        "id": "y5lBiCWMJF9d",
        "outputId": "b5eac418-80bb-44c7-9599-fd556ed1d362"
      },
      "outputs": [
        {
          "name": "stdout",
          "output_type": "stream",
          "text": [
            "Cloning into 'aimi'...\n",
            "remote: Enumerating objects: 386, done.\u001b[K\n",
            "remote: Counting objects: 100% (24/24), done.\u001b[K\n",
            "remote: Compressing objects: 100% (19/19), done.\u001b[K\n",
            "remote: Total 386 (delta 9), reused 12 (delta 5), pack-reused 362\u001b[K\n",
            "Receiving objects: 100% (386/386), 3.23 MiB | 25.04 MiB/s, done.\n",
            "Resolving deltas: 100% (203/203), done.\n"
          ]
        }
      ],
      "source": [
        "!git clone https://github.com/AIM-Harvard/aimi_alpha.git aimi"
      ]
    },
    {
      "cell_type": "markdown",
      "metadata": {
        "id": "Pcj1hYK7lzmA"
      },
      "source": [
        "To organise the DICOM data in a more common (and human-understandable) fashion after downloading those from the buckets, we will make use of [DICOMSort](https://github.com/pieper/dicomsort). \n",
        "\n",
        "DICOMSort is an open source tool for custom sorting and renaming of dicom files based on their specific DICOM tags. In our case, we will exploit DICOMSort to organise the DICOM data by `PatientID` and `Modality` - so that the final directory will look like the following:\n",
        "\n",
        "```\n",
        "data/raw/nsclc-radiomics/dicom/$PatientID\n",
        " └─── CT\n",
        "       ├─── $SOPInstanceUID_slice0.dcm\n",
        "       ├─── $SOPInstanceUID_slice1.dcm\n",
        "       ├───  ...\n",
        "       │\n",
        "      RTSTRUCT \n",
        "       ├─── $SOPInstanceUID_RTSTRUCT.dcm\n",
        "      SEG\n",
        "       └─── $SOPInstanceUID_RTSEG.dcm\n",
        "\n",
        "```"
      ]
    },
    {
      "cell_type": "code",
      "execution_count": null,
      "metadata": {
        "colab": {
          "base_uri": "https://localhost:8080/"
        },
        "id": "Py53FxrlD9eK",
        "outputId": "4b7e618d-18f4-4c70-b2c3-dff0ea10bd94"
      },
      "outputs": [
        {
          "name": "stdout",
          "output_type": "stream",
          "text": [
            "Cloning into 'dicomsort'...\n",
            "remote: Enumerating objects: 130, done.\u001b[K\n",
            "remote: Counting objects:  25% (1/4)\u001b[K\rremote: Counting objects:  50% (2/4)\u001b[K\rremote: Counting objects:  75% (3/4)\u001b[K\rremote: Counting objects: 100% (4/4)\u001b[K\rremote: Counting objects: 100% (4/4), done.\u001b[K\n",
            "remote: Compressing objects:  25% (1/4)\u001b[K\rremote: Compressing objects:  50% (2/4)\u001b[K\rremote: Compressing objects:  75% (3/4)\u001b[K\rremote: Compressing objects: 100% (4/4)\u001b[K\rremote: Compressing objects: 100% (4/4), done.\u001b[K\n",
            "Receiving objects:   0% (1/130)   \rReceiving objects:   1% (2/130)   \rReceiving objects:   2% (3/130)   \rReceiving objects:   3% (4/130)   \rReceiving objects:   4% (6/130)   \rReceiving objects:   5% (7/130)   \rReceiving objects:   6% (8/130)   \rReceiving objects:   7% (10/130)   \rReceiving objects:   8% (11/130)   \rReceiving objects:   9% (12/130)   \rReceiving objects:  10% (13/130)   \rReceiving objects:  11% (15/130)   \rReceiving objects:  12% (16/130)   \rReceiving objects:  13% (17/130)   \rReceiving objects:  14% (19/130)   \rReceiving objects:  15% (20/130)   \rReceiving objects:  16% (21/130)   \rReceiving objects:  17% (23/130)   \rReceiving objects:  18% (24/130)   \rReceiving objects:  19% (25/130)   \rReceiving objects:  20% (26/130)   \rReceiving objects:  21% (28/130)   \rReceiving objects:  22% (29/130)   \rReceiving objects:  23% (30/130)   \rReceiving objects:  24% (32/130)   \rReceiving objects:  25% (33/130)   \rReceiving objects:  26% (34/130)   \rReceiving objects:  27% (36/130)   \rReceiving objects:  28% (37/130)   \rReceiving objects:  29% (38/130)   \rReceiving objects:  30% (39/130)   \rReceiving objects:  31% (41/130)   \rReceiving objects:  32% (42/130)   \rReceiving objects:  33% (43/130)   \rReceiving objects:  34% (45/130)   \rReceiving objects:  35% (46/130)   \rReceiving objects:  36% (47/130)   \rReceiving objects:  37% (49/130)   \rReceiving objects:  38% (50/130)   \rReceiving objects:  39% (51/130)   \rReceiving objects:  40% (52/130)   \rReceiving objects:  41% (54/130)   \rReceiving objects:  42% (55/130)   \rReceiving objects:  43% (56/130)   \rReceiving objects:  44% (58/130)   \rReceiving objects:  45% (59/130)   \rReceiving objects:  46% (60/130)   \rReceiving objects:  47% (62/130)   \rReceiving objects:  48% (63/130)   \rReceiving objects:  49% (64/130)   \rReceiving objects:  50% (65/130)   \rReceiving objects:  51% (67/130)   \rReceiving objects:  52% (68/130)   \rReceiving objects:  53% (69/130)   \rReceiving objects:  54% (71/130)   \rReceiving objects:  55% (72/130)   \rReceiving objects:  56% (73/130)   \rReceiving objects:  57% (75/130)   \rReceiving objects:  58% (76/130)   \rReceiving objects:  59% (77/130)   \rReceiving objects:  60% (78/130)   \rremote: Total 130 (delta 0), reused 1 (delta 0), pack-reused 126\u001b[K\n",
            "Receiving objects:  61% (80/130)   \rReceiving objects:  62% (81/130)   \rReceiving objects:  63% (82/130)   \rReceiving objects:  64% (84/130)   \rReceiving objects:  65% (85/130)   \rReceiving objects:  66% (86/130)   \rReceiving objects:  67% (88/130)   \rReceiving objects:  68% (89/130)   \rReceiving objects:  69% (90/130)   \rReceiving objects:  70% (91/130)   \rReceiving objects:  71% (93/130)   \rReceiving objects:  72% (94/130)   \rReceiving objects:  73% (95/130)   \rReceiving objects:  74% (97/130)   \rReceiving objects:  75% (98/130)   \rReceiving objects:  76% (99/130)   \rReceiving objects:  77% (101/130)   \rReceiving objects:  78% (102/130)   \rReceiving objects:  79% (103/130)   \rReceiving objects:  80% (104/130)   \rReceiving objects:  81% (106/130)   \rReceiving objects:  82% (107/130)   \rReceiving objects:  83% (108/130)   \rReceiving objects:  84% (110/130)   \rReceiving objects:  85% (111/130)   \rReceiving objects:  86% (112/130)   \rReceiving objects:  87% (114/130)   \rReceiving objects:  88% (115/130)   \rReceiving objects:  89% (116/130)   \rReceiving objects:  90% (117/130)   \rReceiving objects:  91% (119/130)   \rReceiving objects:  92% (120/130)   \rReceiving objects:  93% (121/130)   \rReceiving objects:  94% (123/130)   \rReceiving objects:  95% (124/130)   \rReceiving objects:  96% (125/130)   \rReceiving objects:  97% (127/130)   \rReceiving objects:  98% (128/130)   \rReceiving objects:  99% (129/130)   \rReceiving objects: 100% (130/130)   \rReceiving objects: 100% (130/130), 44.12 KiB | 2.32 MiB/s, done.\n",
            "Resolving deltas:   0% (0/63)   \rResolving deltas:   1% (1/63)   \rResolving deltas:   3% (2/63)   \rResolving deltas:   7% (5/63)   \rResolving deltas:  15% (10/63)   \rResolving deltas:  39% (25/63)   \rResolving deltas:  46% (29/63)   \rResolving deltas:  49% (31/63)   \rResolving deltas:  52% (33/63)   \rResolving deltas:  53% (34/63)   \rResolving deltas:  68% (43/63)   \rResolving deltas: 100% (63/63)   \rResolving deltas: 100% (63/63), done.\n"
          ]
        }
      ],
      "source": [
        "!git clone https://github.com/pieper/dicomsort dicomsort"
      ]
    },
    {
      "cell_type": "code",
      "execution_count": null,
      "metadata": {
        "id": "CthT1kRuywEh"
      },
      "outputs": [],
      "source": [
        "%%capture\n",
        "!pip install git+https://github.com/pyplati/platipy.git\n",
        "!pip install pyplastimatch nnunet ipywidgets"
      ]
    },
    {
      "cell_type": "code",
      "execution_count": null,
      "metadata": {
        "colab": {
          "base_uri": "https://localhost:8080/"
        },
        "id": "3euRfHl7pe2u",
        "outputId": "eb94030a-c709-4684-8be7-7d056fe18e9d"
      },
      "outputs": [
        {
          "name": "stdout",
          "output_type": "stream",
          "text": [
            "Python version               :  3.7.14 (default, Sep  8 2022, 00:06:44) \n",
            "Numpy version                :  1.21.6\n"
          ]
        }
      ],
      "source": [
        "import shutil\n",
        "import random\n",
        "\n",
        "import json\n",
        "import pprint\n",
        "import numpy as np\n",
        "import pandas as pd\n",
        "\n",
        "import pydicom\n",
        "import nibabel as nib\n",
        "import seaborn as sns\n",
        "import SimpleITK as sitk\n",
        "import pyplastimatch as pypla\n",
        "\n",
        "print(\"Python version               : \", sys.version.split('\\n')[0])\n",
        "print(\"Numpy version                : \", np.__version__)"
      ]
    },
    {
      "cell_type": "markdown",
      "metadata": {
        "id": "aZOtlGtcmOq5"
      },
      "source": [
        "Provided everything was set up correctly, we can run the BigQuery query and get all the information we need to download the testing data from the IDC platform.\n",
        "\n",
        "For this specific use case, we are going to be working with the NSCLC-Radiomics collection (Chest CT scans of lung cancer patients, with manual delineation of various organs at risk)."
      ]
    },
    {
      "cell_type": "code",
      "execution_count": null,
      "metadata": {
        "id": "_8hRj0E5FW0A"
      },
      "outputs": [],
      "source": [
        "%%bigquery --project=$project_id cohort_df\n",
        "\n",
        "SELECT\n",
        "  DISTINCT(PatientID),\n",
        "  collection_id,\n",
        "  source_DOI,\n",
        "  StudyInstanceUID,\n",
        "  SeriesInstanceUID,\n",
        "  SOPInstanceUID,\n",
        "  gcs_url\n",
        "FROM\n",
        "  `bigquery-public-data.idc_v11.dicom_all` dicom_all\n",
        "WHERE\n",
        "  collection_id = \"nsclc_radiomics\""
      ]
    },
    {
      "cell_type": "code",
      "execution_count": null,
      "metadata": {
        "colab": {
          "base_uri": "https://localhost:8080/",
          "height": 35
        },
        "id": "oZApCCVLkZyb",
        "outputId": "a596b46e-a95b-4f3c-c1e9-b79c3713f86a"
      },
      "outputs": [
        {
          "data": {
            "application/vnd.google.colaboratory.intrinsic+json": {
              "type": "string"
            },
            "text/plain": [
              "'nsclc_radiomics'"
            ]
          },
          "execution_count": 14,
          "metadata": {},
          "output_type": "execute_result"
        }
      ],
      "source": [
        "# this works as intended only if the BQ query parses data from a single dataset\n",
        "# if not, feel free to set the name manually!\n",
        "dataset_name = cohort_df[\"collection_id\"].values[0]\n",
        "\n",
        "dataset_name"
      ]
    },
    {
      "cell_type": "code",
      "execution_count": null,
      "metadata": {
        "id": "GNutD-SRN52T"
      },
      "outputs": [],
      "source": [
        "# create the directory tree\n",
        "!mkdir -p models\n",
        "\n",
        "!mkdir -p data/raw \n",
        "!mkdir -p data/raw/tmp data/raw/$dataset_name\n",
        "!mkdir -p data/raw/$dataset_name/dicom\n",
        "\n",
        "!mkdir -p data/processed\n",
        "!mkdir -p data/processed/$dataset_name\n",
        "!mkdir -p data/processed/$dataset_name/nrrd\n",
        "\n",
        "!mkdir -p data/models/\n",
        "!mkdir -p data/model_input/\n",
        "!mkdir -p data/deepcontrast_output/"
      ]
    },
    {
      "cell_type": "markdown",
      "metadata": {
        "id": "0Qu6eXpHx6iV"
      },
      "source": [
        "## **Parsing Cohort Information from BigQuery Tables**\n",
        "\n",
        "We can check the various fields of the table we populated by running the BigQuery query.\n",
        "\n",
        "This table will store one entry for each DICOM file in the dataset (therefore, expect thousands of rows!)"
      ]
    },
    {
      "cell_type": "code",
      "execution_count": null,
      "metadata": {
        "colab": {
          "base_uri": "https://localhost:8080/",
          "height": 982
        },
        "id": "V27IJihCi9Kv",
        "outputId": "dcfe749f-92a9-4251-90dd-2be263ea906e"
      },
      "outputs": [
        {
          "name": "stdout",
          "output_type": "stream",
          "text": [
            "Total number of unique Patient IDs: 127\n",
            "<class 'pandas.core.frame.DataFrame'>\n",
            "RangeIndex: 15678 entries, 0 to 15677\n",
            "Data columns (total 7 columns):\n",
            " #   Column             Non-Null Count  Dtype \n",
            "---  ------             --------------  ----- \n",
            " 0   PatientID          15678 non-null  object\n",
            " 1   collection_id      15678 non-null  object\n",
            " 2   source_DOI         15678 non-null  object\n",
            " 3   StudyInstanceUID   15678 non-null  object\n",
            " 4   SeriesInstanceUID  15678 non-null  object\n",
            " 5   SOPInstanceUID     15678 non-null  object\n",
            " 6   gcs_url            15678 non-null  object\n",
            "dtypes: object(7)\n",
            "memory usage: 857.5+ KB\n"
          ]
        },
        {
          "data": {
            "text/plain": [
              "None"
            ]
          },
          "metadata": {},
          "output_type": "display_data"
        },
        {
          "data": {
            "text/html": [
              "\n",
              "  <div id=\"df-817da5d8-8e56-455d-b1f3-0f42d8e5777a\">\n",
              "    <div class=\"colab-df-container\">\n",
              "      <div>\n",
              "<style scoped>\n",
              "    .dataframe tbody tr th:only-of-type {\n",
              "        vertical-align: middle;\n",
              "    }\n",
              "\n",
              "    .dataframe tbody tr th {\n",
              "        vertical-align: top;\n",
              "    }\n",
              "\n",
              "    .dataframe thead th {\n",
              "        text-align: right;\n",
              "    }\n",
              "</style>\n",
              "<table border=\"1\" class=\"dataframe\">\n",
              "  <thead>\n",
              "    <tr style=\"text-align: right;\">\n",
              "      <th></th>\n",
              "      <th>PatientID</th>\n",
              "      <th>collection_id</th>\n",
              "      <th>source_DOI</th>\n",
              "      <th>StudyInstanceUID</th>\n",
              "      <th>SeriesInstanceUID</th>\n",
              "      <th>SOPInstanceUID</th>\n",
              "      <th>gcs_url</th>\n",
              "    </tr>\n",
              "  </thead>\n",
              "  <tbody>\n",
              "    <tr>\n",
              "      <th>0</th>\n",
              "      <td>LUNG1-002</td>\n",
              "      <td>nsclc_radiomics</td>\n",
              "      <td>10.7937/K9/TCIA.2015.PF0M9REI</td>\n",
              "      <td>1.3.6.1.4.1.32722.99.99.2037150038059966416957...</td>\n",
              "      <td>1.2.276.0.7230010.3.1.3.2323910823.11504.15972...</td>\n",
              "      <td>1.2.276.0.7230010.3.1.4.2323910823.11504.15972...</td>\n",
              "      <td>gs://idc-open-cr/eff917af-8a2a-42fe-9e12-22bce...</td>\n",
              "    </tr>\n",
              "    <tr>\n",
              "      <th>1</th>\n",
              "      <td>LUNG1-002</td>\n",
              "      <td>nsclc_radiomics</td>\n",
              "      <td>10.7937/K9/TCIA.2015.PF0M9REI</td>\n",
              "      <td>1.3.6.1.4.1.32722.99.99.2037150038059966416957...</td>\n",
              "      <td>1.3.6.1.4.1.32722.99.99.2329880015517990803358...</td>\n",
              "      <td>1.3.6.1.4.1.32722.99.99.1004190115743500844746...</td>\n",
              "      <td>gs://idc-open-cr/f8cbf725-621d-4e18-8326-41789...</td>\n",
              "    </tr>\n",
              "    <tr>\n",
              "      <th>2</th>\n",
              "      <td>LUNG1-002</td>\n",
              "      <td>nsclc_radiomics</td>\n",
              "      <td>10.7937/K9/TCIA.2015.PF0M9REI</td>\n",
              "      <td>1.3.6.1.4.1.32722.99.99.2037150038059966416957...</td>\n",
              "      <td>1.3.6.1.4.1.32722.99.99.2329880015517990803358...</td>\n",
              "      <td>1.3.6.1.4.1.32722.99.99.1031280376053401623619...</td>\n",
              "      <td>gs://idc-open-cr/c73b3d12-78b1-4456-9a88-91ba2...</td>\n",
              "    </tr>\n",
              "    <tr>\n",
              "      <th>3</th>\n",
              "      <td>LUNG1-002</td>\n",
              "      <td>nsclc_radiomics</td>\n",
              "      <td>10.7937/K9/TCIA.2015.PF0M9REI</td>\n",
              "      <td>1.3.6.1.4.1.32722.99.99.2037150038059966416957...</td>\n",
              "      <td>1.3.6.1.4.1.32722.99.99.2329880015517990803358...</td>\n",
              "      <td>1.3.6.1.4.1.32722.99.99.1075071405629330534974...</td>\n",
              "      <td>gs://idc-open-cr/48b4ae0a-6936-44b4-a6bd-27c92...</td>\n",
              "    </tr>\n",
              "    <tr>\n",
              "      <th>4</th>\n",
              "      <td>LUNG1-002</td>\n",
              "      <td>nsclc_radiomics</td>\n",
              "      <td>10.7937/K9/TCIA.2015.PF0M9REI</td>\n",
              "      <td>1.3.6.1.4.1.32722.99.99.2037150038059966416957...</td>\n",
              "      <td>1.3.6.1.4.1.32722.99.99.2329880015517990803358...</td>\n",
              "      <td>1.3.6.1.4.1.32722.99.99.1125363119759695902111...</td>\n",
              "      <td>gs://idc-open-cr/3c36a30a-630b-4183-b87d-8a238...</td>\n",
              "    </tr>\n",
              "  </tbody>\n",
              "</table>\n",
              "</div>\n",
              "      <button class=\"colab-df-convert\" onclick=\"convertToInteractive('df-817da5d8-8e56-455d-b1f3-0f42d8e5777a')\"\n",
              "              title=\"Convert this dataframe to an interactive table.\"\n",
              "              style=\"display:none;\">\n",
              "        \n",
              "  <svg xmlns=\"http://www.w3.org/2000/svg\" height=\"24px\"viewBox=\"0 0 24 24\"\n",
              "       width=\"24px\">\n",
              "    <path d=\"M0 0h24v24H0V0z\" fill=\"none\"/>\n",
              "    <path d=\"M18.56 5.44l.94 2.06.94-2.06 2.06-.94-2.06-.94-.94-2.06-.94 2.06-2.06.94zm-11 1L8.5 8.5l.94-2.06 2.06-.94-2.06-.94L8.5 2.5l-.94 2.06-2.06.94zm10 10l.94 2.06.94-2.06 2.06-.94-2.06-.94-.94-2.06-.94 2.06-2.06.94z\"/><path d=\"M17.41 7.96l-1.37-1.37c-.4-.4-.92-.59-1.43-.59-.52 0-1.04.2-1.43.59L10.3 9.45l-7.72 7.72c-.78.78-.78 2.05 0 2.83L4 21.41c.39.39.9.59 1.41.59.51 0 1.02-.2 1.41-.59l7.78-7.78 2.81-2.81c.8-.78.8-2.07 0-2.86zM5.41 20L4 18.59l7.72-7.72 1.47 1.35L5.41 20z\"/>\n",
              "  </svg>\n",
              "      </button>\n",
              "      \n",
              "  <style>\n",
              "    .colab-df-container {\n",
              "      display:flex;\n",
              "      flex-wrap:wrap;\n",
              "      gap: 12px;\n",
              "    }\n",
              "\n",
              "    .colab-df-convert {\n",
              "      background-color: #E8F0FE;\n",
              "      border: none;\n",
              "      border-radius: 50%;\n",
              "      cursor: pointer;\n",
              "      display: none;\n",
              "      fill: #1967D2;\n",
              "      height: 32px;\n",
              "      padding: 0 0 0 0;\n",
              "      width: 32px;\n",
              "    }\n",
              "\n",
              "    .colab-df-convert:hover {\n",
              "      background-color: #E2EBFA;\n",
              "      box-shadow: 0px 1px 2px rgba(60, 64, 67, 0.3), 0px 1px 3px 1px rgba(60, 64, 67, 0.15);\n",
              "      fill: #174EA6;\n",
              "    }\n",
              "\n",
              "    [theme=dark] .colab-df-convert {\n",
              "      background-color: #3B4455;\n",
              "      fill: #D2E3FC;\n",
              "    }\n",
              "\n",
              "    [theme=dark] .colab-df-convert:hover {\n",
              "      background-color: #434B5C;\n",
              "      box-shadow: 0px 1px 3px 1px rgba(0, 0, 0, 0.15);\n",
              "      filter: drop-shadow(0px 1px 2px rgba(0, 0, 0, 0.3));\n",
              "      fill: #FFFFFF;\n",
              "    }\n",
              "  </style>\n",
              "\n",
              "      <script>\n",
              "        const buttonEl =\n",
              "          document.querySelector('#df-817da5d8-8e56-455d-b1f3-0f42d8e5777a button.colab-df-convert');\n",
              "        buttonEl.style.display =\n",
              "          google.colab.kernel.accessAllowed ? 'block' : 'none';\n",
              "\n",
              "        async function convertToInteractive(key) {\n",
              "          const element = document.querySelector('#df-817da5d8-8e56-455d-b1f3-0f42d8e5777a');\n",
              "          const dataTable =\n",
              "            await google.colab.kernel.invokeFunction('convertToInteractive',\n",
              "                                                     [key], {});\n",
              "          if (!dataTable) return;\n",
              "\n",
              "          const docLinkHtml = 'Like what you see? Visit the ' +\n",
              "            '<a target=\"_blank\" href=https://colab.research.google.com/notebooks/data_table.ipynb>data table notebook</a>'\n",
              "            + ' to learn more about interactive tables.';\n",
              "          element.innerHTML = '';\n",
              "          dataTable['output_type'] = 'display_data';\n",
              "          await google.colab.output.renderOutput(dataTable, element);\n",
              "          const docLink = document.createElement('div');\n",
              "          docLink.innerHTML = docLinkHtml;\n",
              "          element.appendChild(docLink);\n",
              "        }\n",
              "      </script>\n",
              "    </div>\n",
              "  </div>\n",
              "  "
            ],
            "text/plain": [
              "   PatientID    collection_id                     source_DOI  \\\n",
              "0  LUNG1-002  nsclc_radiomics  10.7937/K9/TCIA.2015.PF0M9REI   \n",
              "1  LUNG1-002  nsclc_radiomics  10.7937/K9/TCIA.2015.PF0M9REI   \n",
              "2  LUNG1-002  nsclc_radiomics  10.7937/K9/TCIA.2015.PF0M9REI   \n",
              "3  LUNG1-002  nsclc_radiomics  10.7937/K9/TCIA.2015.PF0M9REI   \n",
              "4  LUNG1-002  nsclc_radiomics  10.7937/K9/TCIA.2015.PF0M9REI   \n",
              "\n",
              "                                    StudyInstanceUID  \\\n",
              "0  1.3.6.1.4.1.32722.99.99.2037150038059966416957...   \n",
              "1  1.3.6.1.4.1.32722.99.99.2037150038059966416957...   \n",
              "2  1.3.6.1.4.1.32722.99.99.2037150038059966416957...   \n",
              "3  1.3.6.1.4.1.32722.99.99.2037150038059966416957...   \n",
              "4  1.3.6.1.4.1.32722.99.99.2037150038059966416957...   \n",
              "\n",
              "                                   SeriesInstanceUID  \\\n",
              "0  1.2.276.0.7230010.3.1.3.2323910823.11504.15972...   \n",
              "1  1.3.6.1.4.1.32722.99.99.2329880015517990803358...   \n",
              "2  1.3.6.1.4.1.32722.99.99.2329880015517990803358...   \n",
              "3  1.3.6.1.4.1.32722.99.99.2329880015517990803358...   \n",
              "4  1.3.6.1.4.1.32722.99.99.2329880015517990803358...   \n",
              "\n",
              "                                      SOPInstanceUID  \\\n",
              "0  1.2.276.0.7230010.3.1.4.2323910823.11504.15972...   \n",
              "1  1.3.6.1.4.1.32722.99.99.1004190115743500844746...   \n",
              "2  1.3.6.1.4.1.32722.99.99.1031280376053401623619...   \n",
              "3  1.3.6.1.4.1.32722.99.99.1075071405629330534974...   \n",
              "4  1.3.6.1.4.1.32722.99.99.1125363119759695902111...   \n",
              "\n",
              "                                             gcs_url  \n",
              "0  gs://idc-open-cr/eff917af-8a2a-42fe-9e12-22bce...  \n",
              "1  gs://idc-open-cr/f8cbf725-621d-4e18-8326-41789...  \n",
              "2  gs://idc-open-cr/c73b3d12-78b1-4456-9a88-91ba2...  \n",
              "3  gs://idc-open-cr/48b4ae0a-6936-44b4-a6bd-27c92...  \n",
              "4  gs://idc-open-cr/3c36a30a-630b-4183-b87d-8a238...  "
            ]
          },
          "metadata": {},
          "output_type": "display_data"
        }
      ],
      "source": [
        "pat_id_list = sorted(list(set(cohort_df[\"PatientID\"].values)))\n",
        "\n",
        "print(\"Total number of unique Patient IDs:\", len(pat_id_list))\n",
        "\n",
        "display(cohort_df.info())\n",
        "\n",
        "display(cohort_df.head())"
      ]
    },
    {
      "cell_type": "markdown",
      "metadata": {
        "id": "AolLtXOLVt7D"
      },
      "source": [
        "---\n",
        "\n",
        "## **Set paths**"
      ]
    },
    {
      "cell_type": "code",
      "execution_count": null,
      "metadata": {
        "id": "TRmrt00589lv"
      },
      "outputs": [],
      "source": [
        "# FIXED PARAMETERS\n",
        "data_base_path = \"/content/data\"\n",
        "raw_base_path = \"/content/data/raw/tmp\"\n",
        "sorted_base_path = os.path.join(\"/content/data/raw/\", dataset_name, \"dicom\")\n",
        "models_path = \"/content/models\"\n",
        "model_output_folder = \"/content/data/deepcontrast_output/\"\n",
        "processed_base_path = os.path.join(\"/content/data/processed/\", dataset_name)\n",
        "processed_nrrd_path = os.path.join(processed_base_path, \"nrrd\")"
      ]
    },
    {
      "cell_type": "markdown",
      "metadata": {
        "id": "-n0qjPp1B_mv"
      },
      "source": [
        "## **Download and pre-process a DICOM for a Single Patient**"
      ]
    },
    {
      "cell_type": "code",
      "execution_count": null,
      "metadata": {
        "id": "vPPZRieLM5K-"
      },
      "outputs": [],
      "source": [
        "import aimi.aimi as aimi\n",
        "from aimi import general_utils as aimi_utils\n",
        "from aimi import contrast_detection as aimi_model"
      ]
    },
    {
      "cell_type": "markdown",
      "metadata": {
        "id": "0pFSCy5HoOp_"
      },
      "source": [
        "The following cells run all the processing pipeline, from pre-processing to post-processing."
      ]
    },
    {
      "cell_type": "code",
      "execution_count": null,
      "metadata": {
        "colab": {
          "base_uri": "https://localhost:8080/",
          "height": 277
        },
        "id": "BTURQtGPgeQF",
        "outputId": "d43c27d0-cd2f-40b8-eede-ba8defefd55b"
      },
      "outputs": [
        {
          "name": "stdout",
          "output_type": "stream",
          "text": [
            "<class 'pandas.core.frame.DataFrame'>\n",
            "RangeIndex: 133 entries, 0 to 132\n",
            "Data columns (total 7 columns):\n",
            " #   Column             Non-Null Count  Dtype \n",
            "---  ------             --------------  ----- \n",
            " 0   PatientID          133 non-null    object\n",
            " 1   collection_id      133 non-null    object\n",
            " 2   source_DOI         133 non-null    object\n",
            " 3   StudyInstanceUID   133 non-null    object\n",
            " 4   SeriesInstanceUID  133 non-null    object\n",
            " 5   SOPInstanceUID     133 non-null    object\n",
            " 6   gcs_url            133 non-null    object\n",
            "dtypes: object(7)\n",
            "memory usage: 7.4+ KB\n"
          ]
        },
        {
          "data": {
            "text/plain": [
              "None"
            ]
          },
          "metadata": {},
          "output_type": "display_data"
        }
      ],
      "source": [
        "pat_id = random.choice(cohort_df[\"PatientID\"].values)\n",
        "pat_df = cohort_df[cohort_df[\"PatientID\"] == pat_id].reset_index(drop = True)\n",
        "\n",
        "display(pat_df.info())\n",
        "#display(pat_df.head())"
      ]
    },
    {
      "cell_type": "code",
      "execution_count": null,
      "metadata": {
        "colab": {
          "base_uri": "https://localhost:8080/"
        },
        "id": "S7a6h_iINlvq",
        "outputId": "e9cd2a75-0721-407c-96aa-32f224bc67b6"
      },
      "outputs": [
        {
          "name": "stdout",
          "output_type": "stream",
          "text": [
            "Processing patient: LUNG1-388\n"
          ]
        }
      ],
      "source": [
        "# init\n",
        "print(\"Processing patient: %s\"%(pat_id))\n",
        "patient_df = cohort_df[cohort_df[\"PatientID\"] == pat_id]"
      ]
    },
    {
      "cell_type": "code",
      "execution_count": null,
      "metadata": {
        "colab": {
          "base_uri": "https://localhost:8080/"
        },
        "id": "NZDxWkvCNlxw",
        "outputId": "03b6b5f6-79cc-46dd-c332-636616cefb20"
      },
      "outputs": [
        {
          "name": "stdout",
          "output_type": "stream",
          "text": [
            "Copying files from IDC buckets to /content/data/raw/tmp/LUNG1-388...\n",
            "Done in 10.0177 seconds.\n",
            "\n",
            "Sorting DICOM files...\n",
            "Done in 1.51813 seconds.\n",
            "Sorted DICOM data saved at: /content/data/raw/nsclc_radiomics/dicom/LUNG1-388\n",
            "Removing un-sorted data at /content/data/raw/tmp/LUNG1-388...\n",
            "... Done.\n"
          ]
        }
      ],
      "source": [
        "# data cross-loading\n",
        "aimi_utils.gcs.download_patient_data(raw_base_path = raw_base_path,\n",
        "                                     sorted_base_path = sorted_base_path,\n",
        "                                     patient_df = patient_df,\n",
        "                                     remove_raw = True)"
      ]
    },
    {
      "cell_type": "code",
      "execution_count": null,
      "metadata": {
        "colab": {
          "base_uri": "https://localhost:8080/"
        },
        "id": "FfsY-_EGNs19",
        "outputId": "14662e8c-1995-4374-d7f8-564a6dfda28b"
      },
      "outputs": [
        {
          "name": "stdout",
          "output_type": "stream",
          "text": [
            "\n",
            "Running 'plastimatch convert' with the specified arguments:\n",
            "  --input /content/data/raw/nsclc_radiomics/dicom/LUNG1-388/CT\n",
            "  --output-img /content/data/processed/nsclc_radiomics/nrrd/LUNG1-388/LUNG1-388_CT.nrrd\n",
            "... Done.\n"
          ]
        }
      ],
      "source": [
        "# DICOM CT to NRRD - required for the processing\n",
        "aimi_utils.preprocessing.pypla_dicom_ct_to_nrrd(sorted_base_path = sorted_base_path,\n",
        "                                                processed_nrrd_path = processed_nrrd_path,\n",
        "                                                pat_id = pat_id, verbose = True)"
      ]
    },
    {
      "cell_type": "code",
      "execution_count": null,
      "metadata": {
        "id": "mPTcfFOUcceo"
      },
      "outputs": [],
      "source": []
    },
    {
      "cell_type": "markdown",
      "metadata": {
        "id": "GJngSnDBoPd_"
      },
      "source": [
        "## **Running the Analysis for a Single Patient**"
      ]
    },
    {
      "cell_type": "markdown",
      "metadata": {
        "id": "KdDnfg09opGW"
      },
      "source": [
        "The contrast detection works for chest CTs as well as Head/Neck CTs. Therefore, two different models where trained. Before we can proceed, we need to select which body part we want to process."
      ]
    },
    {
      "cell_type": "code",
      "execution_count": null,
      "metadata": {
        "id": "8QmHEV9NdT_T"
      },
      "outputs": [],
      "source": [
        "body_part = \"Chest\"  # \"HeadNeck\""
      ]
    },
    {
      "cell_type": "markdown",
      "metadata": {
        "id": "eQXhLVAJo8aX"
      },
      "source": [
        "Download the corresponding pre-trained model."
      ]
    },
    {
      "cell_type": "code",
      "execution_count": null,
      "metadata": {
        "colab": {
          "base_uri": "https://localhost:8080/"
        },
        "id": "5oW7c5podUBm",
        "outputId": "82672aac-3dca-48b8-826c-745496452981"
      },
      "outputs": [
        {
          "name": "stdout",
          "output_type": "stream",
          "text": [
            "--2022-09-26 16:25:57--  https://github.com/AIM-Harvard/DeepContrast/blob/main/models/EffNet_Chest.h5?raw=true\n",
            "Resolving github.com (github.com)... 140.82.114.4\n",
            "Connecting to github.com (github.com)|140.82.114.4|:443... connected.\n",
            "HTTP request sent, awaiting response... 302 Found\n",
            "Location: https://github.com/AIM-Harvard/DeepContrast/raw/main/models/EffNet_Chest.h5 [following]\n",
            "--2022-09-26 16:25:57--  https://github.com/AIM-Harvard/DeepContrast/raw/main/models/EffNet_Chest.h5\n",
            "Reusing existing connection to github.com:443.\n",
            "HTTP request sent, awaiting response... 302 Found\n",
            "Location: https://raw.githubusercontent.com/AIM-Harvard/DeepContrast/main/models/EffNet_Chest.h5 [following]\n",
            "--2022-09-26 16:25:57--  https://raw.githubusercontent.com/AIM-Harvard/DeepContrast/main/models/EffNet_Chest.h5\n",
            "Resolving raw.githubusercontent.com (raw.githubusercontent.com)... 185.199.108.133, 185.199.109.133, 185.199.110.133, ...\n",
            "Connecting to raw.githubusercontent.com (raw.githubusercontent.com)|185.199.108.133|:443... connected.\n",
            "HTTP request sent, awaiting response... 200 OK\n",
            "Length: 79118232 (75M) [application/octet-stream]\n",
            "Saving to: ‘/content/models/EffNet_Chest.h5’\n",
            "\n",
            "/content/models/Eff 100%[===================>]  75.45M   178MB/s    in 0.4s    \n",
            "\n",
            "2022-09-26 16:25:58 (178 MB/s) - ‘/content/models/EffNet_Chest.h5’ saved [79118232/79118232]\n",
            "\n"
          ]
        }
      ],
      "source": [
        "if body_part == \"Chest\":\n",
        "  model_url = \"https://github.com/AIM-Harvard/DeepContrast/blob/main/models/EffNet_Chest.h5?raw=true\"\n",
        "  model_download_path = os.path.join(models_path,\"EffNet_Chest.h5\")\n",
        "  !wget -O $model_download_path $model_url\n",
        "if body_part == \"HeadNeck\":\n",
        "  model_url = \"https://github.com/AIM-Harvard/DeepContrast/blob/main/models/EffNet_HeadNeck.h5?raw=true\"\n",
        "  model_download_path = \"/content/models/EffNet_HeadNeck.h5\"\n",
        "  !wget -O $model_download_path $model_url"
      ]
    },
    {
      "cell_type": "markdown",
      "metadata": {
        "id": "BqMOjagQpa9E"
      },
      "source": [
        "Get the image file paths. As we only downloaded one image file, we will only process that. The DeepContrast pipeline is set up to process as many images as there are in one folder. If you want to process more images in one run, just add them to the input folder."
      ]
    },
    {
      "cell_type": "code",
      "execution_count": null,
      "metadata": {
        "colab": {
          "base_uri": "https://localhost:8080/"
        },
        "id": "5huk7bsodUDw",
        "outputId": "ff93f4a2-46bd-45e7-ae6d-8cd5cdfc28ae"
      },
      "outputs": [
        {
          "name": "stdout",
          "output_type": "stream",
          "text": [
            "['/content/data/processed/nsclc_radiomics/nrrd/LUNG1-388/LUNG1-388_CT.nrrd']\n"
          ]
        }
      ],
      "source": [
        "img_files = []\n",
        "patient_ids = glob.glob(processed_nrrd_path + \"/*\")\n",
        "for patient_id in patient_ids:\n",
        "  patient_folder = os.path.join(processed_nrrd_path, patient_id)\n",
        "  img_files += [x for x in glob.glob(patient_folder + \"/*.nrrd\")]\n",
        "\n",
        "print(img_files)"
      ]
    },
    {
      "cell_type": "markdown",
      "metadata": {
        "id": "7LytTS4YptoK"
      },
      "source": [
        "Image preprocessing step"
      ]
    },
    {
      "cell_type": "code",
      "execution_count": null,
      "metadata": {
        "colab": {
          "base_uri": "https://localhost:8080/"
        },
        "id": "QourUoq7cchA",
        "outputId": "c6c2187c-deba-424e-a862-eed2f25d4351"
      },
      "outputs": [
        {
          "name": "stdout",
          "output_type": "stream",
          "text": [
            "LUNG1-388_CT\n"
          ]
        }
      ],
      "source": [
        "# Data preprocessing\n",
        "df_img, img_arr = aimi_model.utils.processing.data_prepro(body_part=body_part, img_files=img_files)"
      ]
    },
    {
      "cell_type": "markdown",
      "metadata": {
        "id": "RMUc7BNSpx7P"
      },
      "source": [
        "Contrast prediction step. The output is a table of all processed images and the corresponding prediction.\n",
        "Predicion = 0: Non-contrast scan\n",
        "Predicion = 1: Contrast enhanced scan"
      ]
    },
    {
      "cell_type": "code",
      "execution_count": null,
      "metadata": {
        "colab": {
          "base_uri": "https://localhost:8080/"
        },
        "id": "O4q-2WJrccjT",
        "outputId": "0d6ef2b0-fd04-4f32-aae3-32941aae0878"
      },
      "outputs": [
        {
          "name": "stdout",
          "output_type": "stream",
          "text": [
            "patient level pred:\n",
            "          pat_id  predictions\n",
            "0  LUNG1-388_CT            0\n"
          ]
        }
      ],
      "source": [
        "# Model prediction\n",
        "aimi_model.utils.processing.model_pred(\n",
        "  body_part=body_part,\n",
        "  save_csv=False,\n",
        "  model_dir=models_path,\n",
        "  out_dir=model_output_folder,\n",
        "  df_img=df_img,\n",
        "  img_arr=img_arr\n",
        "  )"
      ]
    }
  ],
  "metadata": {
    "colab": {
      "collapsed_sections": [],
      "include_colab_link": true,
      "machine_shape": "hm",
      "provenance": []
    },
    "gpuClass": "standard",
    "kernelspec": {
      "display_name": "Python 3",
      "name": "python3"
    },
    "language_info": {
      "name": "python"
    }
  },
  "nbformat": 4,
  "nbformat_minor": 0
}
