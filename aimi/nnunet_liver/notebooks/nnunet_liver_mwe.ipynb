{
  "cells": [
    {
      "cell_type": "markdown",
      "metadata": {
        "id": "view-in-github",
        "colab_type": "text"
      },
      "source": [
        "<a href=\"https://colab.research.google.com/github/AIM-Harvard/aimi_alpha/blob/main/aimi/nnunet_liver/notebooks/nnunet_liver_mwe.ipynb\" target=\"_parent\"><img src=\"https://colab.research.google.com/assets/colab-badge.svg\" alt=\"Open In Colab\"/></a>"
      ]
    },
    {
      "cell_type": "markdown",
      "metadata": {
        "id": "Pmb_HiJv7Sit"
      },
      "source": [
        "# **ModelHub - Liver and Liver Cancer Segmentation**\n",
        "\n",
        "This notebook provides an example of how to run an end-to-end (cloud-based) data analysis using the nnU-Net liver and liver cancer segmentation model.\n",
        "\n",
        "The way all the operations are executed - from pulling data to data postprocessing and the standardisation of the results - have the goal of promoting transparency and reproducibility."
      ]
    },
    {
      "cell_type": "markdown",
      "metadata": {
        "id": "CZnoRi9Y7nEB"
      },
      "source": [
        "## **Environment Setup**\n",
        "\n",
        "This demo notebook is intended to be run using a GPU.\n",
        "\n",
        "To access a free GPU on Colab:\n",
        "`Edit > Notebooks Settings`.\n",
        "\n",
        "From the dropdown menu under `Hardware accelerator`, select `GPU`. Let's check the Colab instance is indeed equipped with a GPU."
      ]
    },
    {
      "cell_type": "code",
      "execution_count": 1,
      "metadata": {
        "colab": {
          "base_uri": "https://localhost:8080/"
        },
        "id": "non5qVLIcG4M",
        "outputId": "42bea2bc-2350-4bb2-a5c7-a82339a25c98"
      },
      "outputs": [
        {
          "output_type": "stream",
          "name": "stdout",
          "text": [
            "Fri Sep 23 06:20:55 2022\n",
            "\n",
            "Current directory : /content\n",
            "Hostname          : 37e0de311094\n",
            "Username          : root\n",
            "Python version    : 3.7.14 (default, Sep  8 2022, 00:06:44) \n"
          ]
        }
      ],
      "source": [
        "import os\n",
        "import sys\n",
        "import shutil\n",
        "\n",
        "import yaml\n",
        "\n",
        "import time\n",
        "import tqdm\n",
        "\n",
        "\n",
        "# useful information\n",
        "curr_dir = !pwd\n",
        "curr_droid = !hostname\n",
        "curr_pilot = !whoami\n",
        "\n",
        "print(time.asctime(time.localtime()))\n",
        "\n",
        "print(\"\\nCurrent directory :\", curr_dir[-1])\n",
        "print(\"Hostname          :\", curr_droid[-1])\n",
        "print(\"Username          :\", curr_pilot[-1])\n",
        "\n",
        "print(\"Python version    :\", sys.version.split('\\n')[0])"
      ]
    },
    {
      "cell_type": "markdown",
      "source": [
        "The authentication to Google is necessary to run BigQuery queries.\n",
        "\n",
        "Every operation throughout the whole notebook (BigQuery, fetching data from the IDC buckets) is completely free. The only thing that is needed in order to run the notebook is the set-up of a Google Cloud project. In order for the notebook to work as intended, you will need to specify the name of the project in the cell after the authentication one."
      ],
      "metadata": {
        "id": "0PKq2z2jkVJz"
      }
    },
    {
      "cell_type": "code",
      "execution_count": 2,
      "metadata": {
        "id": "2DMUqTOVF5WP"
      },
      "outputs": [],
      "source": [
        "from google.colab import auth\n",
        "auth.authenticate_user()"
      ]
    },
    {
      "cell_type": "code",
      "execution_count": 3,
      "metadata": {
        "id": "9Y43S1F35h8m"
      },
      "outputs": [],
      "source": [
        "from google.colab import files\n",
        "from google.cloud import storage\n",
        "from google.cloud import bigquery as bq\n",
        "\n",
        "# INSERT THE ID OF YOUR PROJECT HERE!\n",
        "project_id = \"idc-sandbox-000\""
      ]
    },
    {
      "cell_type": "markdown",
      "metadata": {
        "id": "oT7coYaGfd4t"
      },
      "source": [
        "Throughout this Colab notebook, for image pre-processing we will use [Plastimatch](https://plastimatch.org), a reliable and open source software for image computation. We will be running Plastimatch using the simple [PyPlastimatch](https://github.com/AIM-Harvard/pyplastimatch/tree/main/pyplastimatch) python wrapper. "
      ]
    },
    {
      "cell_type": "code",
      "execution_count": 4,
      "metadata": {
        "id": "6NLhlFqyEgBf"
      },
      "outputs": [],
      "source": [
        "%%capture\n",
        "!apt install plastimatch"
      ]
    },
    {
      "cell_type": "code",
      "execution_count": 5,
      "metadata": {
        "colab": {
          "base_uri": "https://localhost:8080/"
        },
        "id": "_ILwxgbcfcpr",
        "outputId": "5d8f0d13-f166-4206-c888-ec667da40e65"
      },
      "outputs": [
        {
          "output_type": "stream",
          "name": "stdout",
          "text": [
            "plastimatch version 1.7.0\n"
          ]
        }
      ],
      "source": [
        "# check plastimatch was correctly installed\n",
        "!plastimatch --version"
      ]
    },
    {
      "cell_type": "markdown",
      "source": [
        "---\n",
        "\n",
        "Start by cloning the AIMI hub repository on the Colab instance.\n",
        "\n",
        "The AIMI hub repository stores all the code we will use for pulling, preprocessing, processing, and postprocessing the data for this use case - as long as the others shared through AIMI hub."
      ],
      "metadata": {
        "id": "MrNlgYZJIxkf"
      }
    },
    {
      "cell_type": "code",
      "source": [
        "!git clone https://github.com/AIM-Harvard/aimi_alpha.git aimi"
      ],
      "metadata": {
        "colab": {
          "base_uri": "https://localhost:8080/"
        },
        "id": "y5lBiCWMJF9d",
        "outputId": "009dfdea-07f1-4ff3-9929-bcc8f40d1eff"
      },
      "execution_count": 6,
      "outputs": [
        {
          "output_type": "stream",
          "name": "stdout",
          "text": [
            "Cloning into 'aimi'...\n",
            "remote: Enumerating objects: 308, done.\u001b[K\n",
            "remote: Counting objects: 100% (308/308), done.\u001b[K\n",
            "remote: Compressing objects: 100% (226/226), done.\u001b[K\n",
            "remote: Total 308 (delta 170), reused 145 (delta 61), pack-reused 0\u001b[K\n",
            "Receiving objects: 100% (308/308), 2.58 MiB | 12.35 MiB/s, done.\n",
            "Resolving deltas: 100% (170/170), done.\n"
          ]
        }
      ]
    },
    {
      "cell_type": "markdown",
      "source": [
        "To organise the DICOM data in a more common (and human-understandable) fashion after downloading those from the buckets, we will make use of [DICOMSort](https://github.com/pieper/dicomsort). \n",
        "\n",
        "DICOMSort is an open source tool for custom sorting and renaming of dicom files based on their specific DICOM tags. In our case, we will exploit DICOMSort to organise the DICOM data by `PatientID` and `Modality` - so that the final directory will look like the following:\n",
        "\n",
        "```\n",
        "data/raw/nsclc-radiomics/dicom/$PatientID\n",
        " └─── CT\n",
        "       ├─── $SOPInstanceUID_slice0.dcm\n",
        "       ├─── $SOPInstanceUID_slice1.dcm\n",
        "       ├───  ...\n",
        "       │\n",
        "      RTSTRUCT \n",
        "       ├─── $SOPInstanceUID_RTSTRUCT.dcm\n",
        "      SEG\n",
        "       └─── $SOPInstanceUID_RTSEG.dcm\n",
        "\n",
        "```"
      ],
      "metadata": {
        "id": "Pcj1hYK7lzmA"
      }
    },
    {
      "cell_type": "code",
      "source": [
        "!git clone https://github.com/pieper/dicomsort dicomsort"
      ],
      "metadata": {
        "colab": {
          "base_uri": "https://localhost:8080/"
        },
        "id": "Py53FxrlD9eK",
        "outputId": "b5f753c4-4545-474b-e5c6-8dc0fb303742"
      },
      "execution_count": 7,
      "outputs": [
        {
          "output_type": "stream",
          "name": "stdout",
          "text": [
            "Cloning into 'dicomsort'...\n",
            "remote: Enumerating objects: 130, done.\u001b[K\n",
            "remote: Counting objects:  25% (1/4)\u001b[K\rremote: Counting objects:  50% (2/4)\u001b[K\rremote: Counting objects:  75% (3/4)\u001b[K\rremote: Counting objects: 100% (4/4)\u001b[K\rremote: Counting objects: 100% (4/4), done.\u001b[K\n",
            "remote: Compressing objects: 100% (4/4), done.\u001b[K\n",
            "remote: Total 130 (delta 0), reused 1 (delta 0), pack-reused 126\u001b[K\n",
            "Receiving objects: 100% (130/130), 44.12 KiB | 3.39 MiB/s, done.\n",
            "Resolving deltas: 100% (63/63), done.\n"
          ]
        }
      ]
    },
    {
      "cell_type": "markdown",
      "metadata": {
        "id": "7ztrKrzSm1WT"
      },
      "source": [
        "We will also use DCMQI for converting the resulting segmentation into standard DICOM SEG objects."
      ]
    },
    {
      "cell_type": "code",
      "execution_count": 8,
      "metadata": {
        "id": "iYf72nA8m0wh"
      },
      "outputs": [],
      "source": [
        "%%capture\n",
        "dcmqi_release_url = \"https://github.com/QIICR/dcmqi/releases/download/v1.2.4/dcmqi-1.2.4-linux.tar.gz\"\n",
        "dcmqi_download_path = \"/content/dcmqi-1.2.4-linux.tar.gz\"\n",
        "dcmqi_path = \"/content/dcmqi-1.2.4-linux\"\n",
        "\n",
        "!wget -O $dcmqi_download_path $dcmqi_release_url\n",
        "\n",
        "!tar -xvf $dcmqi_download_path\n",
        "\n",
        "!mv $dcmqi_path/bin/* /bin"
      ]
    },
    {
      "cell_type": "markdown",
      "metadata": {
        "id": "4JBJmF7rmz1S"
      },
      "source": [
        "---"
      ]
    },
    {
      "cell_type": "code",
      "execution_count": 9,
      "metadata": {
        "id": "CthT1kRuywEh"
      },
      "outputs": [],
      "source": [
        "%%capture\n",
        "!pip install pyplastimatch nnunet ipywidgets"
      ]
    },
    {
      "cell_type": "code",
      "source": [
        "import shutil\n",
        "import random\n",
        "\n",
        "import json\n",
        "import pprint\n",
        "import numpy as np\n",
        "import pandas as pd\n",
        "\n",
        "import pydicom\n",
        "import nibabel as nib\n",
        "import SimpleITK as sitk\n",
        "import pyplastimatch as pypla\n",
        "\n",
        "print(\"Python version               : \", sys.version.split('\\n')[0])\n",
        "print(\"Numpy version                : \", np.__version__)\n",
        "\n",
        "# ----------------------------------------\n",
        "\n",
        "#everything that has to do with plotting goes here below\n",
        "import matplotlib\n",
        "matplotlib.use(\"agg\")\n",
        "\n",
        "import matplotlib.pyplot as plt\n",
        "from matplotlib.colors import ListedColormap\n",
        "from matplotlib.patches import Patch\n",
        "\n",
        "%matplotlib inline\n",
        "%config InlineBackend.figure_format = \"png\"\n",
        "\n",
        "import ipywidgets as ipyw\n",
        "\n",
        "## ----------------------------------------\n",
        "\n",
        "# create new colormap appending the alpha channel to the selected one\n",
        "# (so that we don't get a \\\"color overlay\\\" when plotting the segmask superimposed to the CT)\n",
        "cmap = plt.cm.Reds\n",
        "my_reds = cmap(np.arange(cmap.N))\n",
        "my_reds[:, -1] = np.linspace(0, 1, cmap.N)\n",
        "my_reds = ListedColormap(my_reds)\n",
        "\n",
        "cmap = plt.cm.Greens\n",
        "my_greens = cmap(np.arange(cmap.N))\n",
        "my_greens[:, -1] = np.linspace(0, 1, cmap.N)\n",
        "my_greens = ListedColormap(my_greens)\n",
        "\n",
        "cmap = plt.cm.Blues\n",
        "my_blues = cmap(np.arange(cmap.N))\n",
        "my_blues[:, -1] = np.linspace(0, 1, cmap.N)\n",
        "my_blues = ListedColormap(my_blues)\n",
        "\n",
        "cmap = plt.cm.spring\n",
        "my_spring = cmap(np.arange(cmap.N))\n",
        "my_spring[:, -1] = np.linspace(0, 1, cmap.N)\n",
        "my_spring = ListedColormap(my_spring)\n",
        "## ----------------------------------------\n",
        "\n",
        "import seaborn as sns"
      ],
      "metadata": {
        "colab": {
          "base_uri": "https://localhost:8080/"
        },
        "id": "3euRfHl7pe2u",
        "outputId": "68bb1d2c-d665-4c3e-8105-b842ac4eeab3"
      },
      "execution_count": 10,
      "outputs": [
        {
          "output_type": "stream",
          "name": "stdout",
          "text": [
            "Python version               :  3.7.14 (default, Sep  8 2022, 00:06:44) \n",
            "Numpy version                :  1.21.6\n"
          ]
        }
      ]
    },
    {
      "cell_type": "markdown",
      "source": [
        "Provided everything was set up correctly, we can run the BigQuery query and get all the information we need to download the testing data from the IDC platform.\n",
        "\n",
        "For this specific use case, we are going to be working with the NSCLC-Radiomics collection (Chest CT scans of lung cancer patients, with manual delineation of various organs at risk)."
      ],
      "metadata": {
        "id": "aZOtlGtcmOq5"
      }
    },
    {
      "cell_type": "code",
      "source": [
        "%%bigquery --project=$project_id cohort_df\n",
        "\n",
        "SELECT\n",
        "  dicom_pivot_v11.PatientID,\n",
        "  dicom_pivot_v11.collection_id,\n",
        "  dicom_pivot_v11.source_DOI,\n",
        "  dicom_pivot_v11.StudyInstanceUID,\n",
        "  dicom_pivot_v11.SeriesInstanceUID,\n",
        "  dicom_pivot_v11.SOPInstanceUID,\n",
        "  dicom_pivot_v11.gcs_url\n",
        "FROM\n",
        "  `bigquery-public-data.idc_v11.dicom_pivot_v11` dicom_pivot_v11\n",
        "WHERE\n",
        "  StudyInstanceUID IN (\n",
        "    SELECT\n",
        "      StudyInstanceUID\n",
        "    FROM\n",
        "      `bigquery-public-data.idc_v11.dicom_pivot_v11` dicom_pivot_v11\n",
        "    WHERE\n",
        "      (\n",
        "        dicom_pivot_v11.collection_id IN ('Community', 'stageii_colorectal_ct')\n",
        "      )\n",
        "    GROUP BY\n",
        "      StudyInstanceUID\n",
        "  )\n",
        "GROUP BY\n",
        "  dicom_pivot_v11.PatientID,\n",
        "  dicom_pivot_v11.collection_id,\n",
        "  dicom_pivot_v11.source_DOI,\n",
        "  dicom_pivot_v11.StudyInstanceUID,\n",
        "  dicom_pivot_v11.SeriesInstanceUID,\n",
        "  dicom_pivot_v11.SOPInstanceUID,\n",
        "  dicom_pivot_v11.gcs_url\n",
        "ORDER BY\n",
        "  dicom_pivot_v11.PatientID ASC,\n",
        "  dicom_pivot_v11.collection_id ASC,\n",
        "  dicom_pivot_v11.source_DOI ASC,\n",
        "  dicom_pivot_v11.StudyInstanceUID ASC,\n",
        "  dicom_pivot_v11.SeriesInstanceUID ASC,\n",
        "  dicom_pivot_v11.SOPInstanceUID ASC,\n",
        "  dicom_pivot_v11.gcs_url ASC"
      ],
      "metadata": {
        "id": "_8hRj0E5FW0A"
      },
      "execution_count": 11,
      "outputs": []
    },
    {
      "cell_type": "code",
      "source": [
        "# this works as intended only if the BQ query parses data from a single dataset\n",
        "# if not, feel free to set the name manually!\n",
        "dataset_name = cohort_df[\"collection_id\"].values[0]"
      ],
      "metadata": {
        "id": "oZApCCVLkZyb"
      },
      "execution_count": 12,
      "outputs": []
    },
    {
      "cell_type": "code",
      "execution_count": 13,
      "metadata": {
        "id": "GNutD-SRN52T"
      },
      "outputs": [],
      "source": [
        "# create the directory tree\n",
        "!mkdir -p data models\n",
        "\n",
        "!mkdir -p data/raw \n",
        "!mkdir -p data/raw/tmp data/raw/$dataset_name\n",
        "!mkdir -p data/raw/$dataset_name/dicom\n",
        "\n",
        "!mkdir -p data/processed\n",
        "!mkdir -p data/processed/$dataset_name\n",
        "!mkdir -p data/processed/$dataset_name/nii\n",
        "!mkdir -p data/processed/$dataset_name/dicomseg\n",
        "\n",
        "!mkdir -p data/model_input/\n",
        "!mkdir -p data/nnunet_output/"
      ]
    },
    {
      "cell_type": "markdown",
      "metadata": {
        "id": "D7y3FRa7rbyr"
      },
      "source": [
        "Download the segmentation model(s) from Zenodo (the original source chosen from the nnU-Net developers).\n",
        "\n",
        "Note that this can either be very fast (2 minutes or even less, at speeds around 40MB/s) or very slow (up to 10 minutes, or sometimes more) - probably depending on the traffic on the Zenodo's end and other factors. If the download is taking a long time after the first minute or so, consider interrupting the cell execution and running the cell again."
      ]
    },
    {
      "cell_type": "code",
      "execution_count": 14,
      "metadata": {
        "colab": {
          "base_uri": "https://localhost:8080/"
        },
        "id": "nJ79vTL5ef11",
        "outputId": "0fd4b432-683a-49f5-b571-f9226e114762"
      },
      "outputs": [
        {
          "output_type": "stream",
          "name": "stdout",
          "text": [
            "--2022-09-23 06:27:24--  https://zenodo.org/record/4003545/files/Task003_Liver.zip?download=1\n",
            "Resolving zenodo.org (zenodo.org)... 188.184.117.155\n",
            "Connecting to zenodo.org (zenodo.org)|188.184.117.155|:443... connected.\n",
            "HTTP request sent, awaiting response... 200 OK\n",
            "Length: 5049539577 (4.7G) [application/octet-stream]\n",
            "Saving to: ‘/content/models/Task003_Liver.zip’\n",
            "\n",
            "/content/models/Tas 100%[===================>]   4.70G  23.8MB/s    in 7m 7s   \n",
            "\n",
            "2022-09-23 06:34:33 (11.3 MB/s) - ‘/content/models/Task003_Liver.zip’ saved [5049539577/5049539577]\n",
            "\n"
          ]
        }
      ],
      "source": [
        "seg_model_url = \"https://zenodo.org/record/4003545/files/Task003_Liver.zip?download=1\"\n",
        "model_download_path = \"/content/models/Task003_Liver.zip\"\n",
        "\n",
        "!wget -O $model_download_path $seg_model_url"
      ]
    },
    {
      "cell_type": "markdown",
      "metadata": {
        "id": "Bne4bNo5fAsx"
      },
      "source": [
        "Initialize the environment variables nnU-Net needs."
      ]
    },
    {
      "cell_type": "code",
      "execution_count": 15,
      "metadata": {
        "id": "IIIjeFdUe1EA"
      },
      "outputs": [],
      "source": [
        "os.environ[\"RESULTS_FOLDER\"] = \"/content/data/nnunet_output/\"\n",
        "os.environ[\"WEIGHTS_FOLDER\"] = \"/content/data/nnunet_output/nnUNet\""
      ]
    },
    {
      "cell_type": "code",
      "execution_count": 16,
      "metadata": {
        "id": "Wx8bWGVvew3P"
      },
      "outputs": [],
      "source": [
        "%%capture\n",
        "!nnUNet_install_pretrained_model_from_zip $model_download_path"
      ]
    },
    {
      "cell_type": "markdown",
      "metadata": {
        "id": "0Qu6eXpHx6iV"
      },
      "source": [
        "## **Parsing Cohort Information from BigQuery Tables**\n",
        "\n",
        "We can check the various fields of the table we populated by running the BigQuery query.\n",
        "\n",
        "This table will store one entry for each DICOM file in the dataset (therefore, expect thousands of rows!)"
      ]
    },
    {
      "cell_type": "code",
      "execution_count": 17,
      "metadata": {
        "colab": {
          "base_uri": "https://localhost:8080/",
          "height": 895
        },
        "id": "V27IJihCi9Kv",
        "outputId": "4171f81d-663c-4868-df8c-417dc57238c8"
      },
      "outputs": [
        {
          "output_type": "stream",
          "name": "stdout",
          "text": [
            "Total number of unique Patient IDs: 230\n",
            "<class 'pandas.core.frame.DataFrame'>\n",
            "RangeIndex: 13850 entries, 0 to 13849\n",
            "Data columns (total 7 columns):\n",
            " #   Column             Non-Null Count  Dtype \n",
            "---  ------             --------------  ----- \n",
            " 0   PatientID          13850 non-null  object\n",
            " 1   collection_id      13850 non-null  object\n",
            " 2   source_DOI         13850 non-null  object\n",
            " 3   StudyInstanceUID   13850 non-null  object\n",
            " 4   SeriesInstanceUID  13850 non-null  object\n",
            " 5   SOPInstanceUID     13850 non-null  object\n",
            " 6   gcs_url            13850 non-null  object\n",
            "dtypes: object(7)\n",
            "memory usage: 757.5+ KB\n"
          ]
        },
        {
          "output_type": "display_data",
          "data": {
            "text/plain": [
              "None"
            ]
          },
          "metadata": {}
        },
        {
          "output_type": "display_data",
          "data": {
            "text/plain": [
              "                   PatientID          collection_id         source_DOI  \\\n",
              "0  StageII-Colorectal-CT-001  stageii_colorectal_ct  10.7937/p5k5-tg43   \n",
              "1  StageII-Colorectal-CT-001  stageii_colorectal_ct  10.7937/p5k5-tg43   \n",
              "2  StageII-Colorectal-CT-001  stageii_colorectal_ct  10.7937/p5k5-tg43   \n",
              "3  StageII-Colorectal-CT-001  stageii_colorectal_ct  10.7937/p5k5-tg43   \n",
              "4  StageII-Colorectal-CT-001  stageii_colorectal_ct  10.7937/p5k5-tg43   \n",
              "\n",
              "                                    StudyInstanceUID  \\\n",
              "0  1.3.6.1.4.1.14519.5.2.1.3079771842656303813027...   \n",
              "1  1.3.6.1.4.1.14519.5.2.1.3079771842656303813027...   \n",
              "2  1.3.6.1.4.1.14519.5.2.1.3079771842656303813027...   \n",
              "3  1.3.6.1.4.1.14519.5.2.1.3079771842656303813027...   \n",
              "4  1.3.6.1.4.1.14519.5.2.1.3079771842656303813027...   \n",
              "\n",
              "                                   SeriesInstanceUID  \\\n",
              "0  1.3.6.1.4.1.14519.5.2.1.2744484960269153598786...   \n",
              "1  1.3.6.1.4.1.14519.5.2.1.2744484960269153598786...   \n",
              "2  1.3.6.1.4.1.14519.5.2.1.2744484960269153598786...   \n",
              "3  1.3.6.1.4.1.14519.5.2.1.2744484960269153598786...   \n",
              "4  1.3.6.1.4.1.14519.5.2.1.2744484960269153598786...   \n",
              "\n",
              "                                      SOPInstanceUID  \\\n",
              "0  1.3.6.1.4.1.14519.5.2.1.1030314217618762894573...   \n",
              "1  1.3.6.1.4.1.14519.5.2.1.1038145622828798280601...   \n",
              "2  1.3.6.1.4.1.14519.5.2.1.1150035677426433731975...   \n",
              "3  1.3.6.1.4.1.14519.5.2.1.1222638640273118995420...   \n",
              "4  1.3.6.1.4.1.14519.5.2.1.1275971662551159176203...   \n",
              "\n",
              "                                             gcs_url  \n",
              "0  gs://public-datasets-idc/b479e870-e944-4cc1-98...  \n",
              "1  gs://public-datasets-idc/5f1ffe0b-cd05-4578-b6...  \n",
              "2  gs://public-datasets-idc/65da2112-b9bd-4181-88...  \n",
              "3  gs://public-datasets-idc/832fdf23-d755-4dfe-8a...  \n",
              "4  gs://public-datasets-idc/27be54f3-7a8e-4d2d-a4...  "
            ],
            "text/html": [
              "\n",
              "  <div id=\"df-c2e2226a-c0fd-4c3f-a04d-0697916f72c1\">\n",
              "    <div class=\"colab-df-container\">\n",
              "      <div>\n",
              "<style scoped>\n",
              "    .dataframe tbody tr th:only-of-type {\n",
              "        vertical-align: middle;\n",
              "    }\n",
              "\n",
              "    .dataframe tbody tr th {\n",
              "        vertical-align: top;\n",
              "    }\n",
              "\n",
              "    .dataframe thead th {\n",
              "        text-align: right;\n",
              "    }\n",
              "</style>\n",
              "<table border=\"1\" class=\"dataframe\">\n",
              "  <thead>\n",
              "    <tr style=\"text-align: right;\">\n",
              "      <th></th>\n",
              "      <th>PatientID</th>\n",
              "      <th>collection_id</th>\n",
              "      <th>source_DOI</th>\n",
              "      <th>StudyInstanceUID</th>\n",
              "      <th>SeriesInstanceUID</th>\n",
              "      <th>SOPInstanceUID</th>\n",
              "      <th>gcs_url</th>\n",
              "    </tr>\n",
              "  </thead>\n",
              "  <tbody>\n",
              "    <tr>\n",
              "      <th>0</th>\n",
              "      <td>StageII-Colorectal-CT-001</td>\n",
              "      <td>stageii_colorectal_ct</td>\n",
              "      <td>10.7937/p5k5-tg43</td>\n",
              "      <td>1.3.6.1.4.1.14519.5.2.1.3079771842656303813027...</td>\n",
              "      <td>1.3.6.1.4.1.14519.5.2.1.2744484960269153598786...</td>\n",
              "      <td>1.3.6.1.4.1.14519.5.2.1.1030314217618762894573...</td>\n",
              "      <td>gs://public-datasets-idc/b479e870-e944-4cc1-98...</td>\n",
              "    </tr>\n",
              "    <tr>\n",
              "      <th>1</th>\n",
              "      <td>StageII-Colorectal-CT-001</td>\n",
              "      <td>stageii_colorectal_ct</td>\n",
              "      <td>10.7937/p5k5-tg43</td>\n",
              "      <td>1.3.6.1.4.1.14519.5.2.1.3079771842656303813027...</td>\n",
              "      <td>1.3.6.1.4.1.14519.5.2.1.2744484960269153598786...</td>\n",
              "      <td>1.3.6.1.4.1.14519.5.2.1.1038145622828798280601...</td>\n",
              "      <td>gs://public-datasets-idc/5f1ffe0b-cd05-4578-b6...</td>\n",
              "    </tr>\n",
              "    <tr>\n",
              "      <th>2</th>\n",
              "      <td>StageII-Colorectal-CT-001</td>\n",
              "      <td>stageii_colorectal_ct</td>\n",
              "      <td>10.7937/p5k5-tg43</td>\n",
              "      <td>1.3.6.1.4.1.14519.5.2.1.3079771842656303813027...</td>\n",
              "      <td>1.3.6.1.4.1.14519.5.2.1.2744484960269153598786...</td>\n",
              "      <td>1.3.6.1.4.1.14519.5.2.1.1150035677426433731975...</td>\n",
              "      <td>gs://public-datasets-idc/65da2112-b9bd-4181-88...</td>\n",
              "    </tr>\n",
              "    <tr>\n",
              "      <th>3</th>\n",
              "      <td>StageII-Colorectal-CT-001</td>\n",
              "      <td>stageii_colorectal_ct</td>\n",
              "      <td>10.7937/p5k5-tg43</td>\n",
              "      <td>1.3.6.1.4.1.14519.5.2.1.3079771842656303813027...</td>\n",
              "      <td>1.3.6.1.4.1.14519.5.2.1.2744484960269153598786...</td>\n",
              "      <td>1.3.6.1.4.1.14519.5.2.1.1222638640273118995420...</td>\n",
              "      <td>gs://public-datasets-idc/832fdf23-d755-4dfe-8a...</td>\n",
              "    </tr>\n",
              "    <tr>\n",
              "      <th>4</th>\n",
              "      <td>StageII-Colorectal-CT-001</td>\n",
              "      <td>stageii_colorectal_ct</td>\n",
              "      <td>10.7937/p5k5-tg43</td>\n",
              "      <td>1.3.6.1.4.1.14519.5.2.1.3079771842656303813027...</td>\n",
              "      <td>1.3.6.1.4.1.14519.5.2.1.2744484960269153598786...</td>\n",
              "      <td>1.3.6.1.4.1.14519.5.2.1.1275971662551159176203...</td>\n",
              "      <td>gs://public-datasets-idc/27be54f3-7a8e-4d2d-a4...</td>\n",
              "    </tr>\n",
              "  </tbody>\n",
              "</table>\n",
              "</div>\n",
              "      <button class=\"colab-df-convert\" onclick=\"convertToInteractive('df-c2e2226a-c0fd-4c3f-a04d-0697916f72c1')\"\n",
              "              title=\"Convert this dataframe to an interactive table.\"\n",
              "              style=\"display:none;\">\n",
              "        \n",
              "  <svg xmlns=\"http://www.w3.org/2000/svg\" height=\"24px\"viewBox=\"0 0 24 24\"\n",
              "       width=\"24px\">\n",
              "    <path d=\"M0 0h24v24H0V0z\" fill=\"none\"/>\n",
              "    <path d=\"M18.56 5.44l.94 2.06.94-2.06 2.06-.94-2.06-.94-.94-2.06-.94 2.06-2.06.94zm-11 1L8.5 8.5l.94-2.06 2.06-.94-2.06-.94L8.5 2.5l-.94 2.06-2.06.94zm10 10l.94 2.06.94-2.06 2.06-.94-2.06-.94-.94-2.06-.94 2.06-2.06.94z\"/><path d=\"M17.41 7.96l-1.37-1.37c-.4-.4-.92-.59-1.43-.59-.52 0-1.04.2-1.43.59L10.3 9.45l-7.72 7.72c-.78.78-.78 2.05 0 2.83L4 21.41c.39.39.9.59 1.41.59.51 0 1.02-.2 1.41-.59l7.78-7.78 2.81-2.81c.8-.78.8-2.07 0-2.86zM5.41 20L4 18.59l7.72-7.72 1.47 1.35L5.41 20z\"/>\n",
              "  </svg>\n",
              "      </button>\n",
              "      \n",
              "  <style>\n",
              "    .colab-df-container {\n",
              "      display:flex;\n",
              "      flex-wrap:wrap;\n",
              "      gap: 12px;\n",
              "    }\n",
              "\n",
              "    .colab-df-convert {\n",
              "      background-color: #E8F0FE;\n",
              "      border: none;\n",
              "      border-radius: 50%;\n",
              "      cursor: pointer;\n",
              "      display: none;\n",
              "      fill: #1967D2;\n",
              "      height: 32px;\n",
              "      padding: 0 0 0 0;\n",
              "      width: 32px;\n",
              "    }\n",
              "\n",
              "    .colab-df-convert:hover {\n",
              "      background-color: #E2EBFA;\n",
              "      box-shadow: 0px 1px 2px rgba(60, 64, 67, 0.3), 0px 1px 3px 1px rgba(60, 64, 67, 0.15);\n",
              "      fill: #174EA6;\n",
              "    }\n",
              "\n",
              "    [theme=dark] .colab-df-convert {\n",
              "      background-color: #3B4455;\n",
              "      fill: #D2E3FC;\n",
              "    }\n",
              "\n",
              "    [theme=dark] .colab-df-convert:hover {\n",
              "      background-color: #434B5C;\n",
              "      box-shadow: 0px 1px 3px 1px rgba(0, 0, 0, 0.15);\n",
              "      filter: drop-shadow(0px 1px 2px rgba(0, 0, 0, 0.3));\n",
              "      fill: #FFFFFF;\n",
              "    }\n",
              "  </style>\n",
              "\n",
              "      <script>\n",
              "        const buttonEl =\n",
              "          document.querySelector('#df-c2e2226a-c0fd-4c3f-a04d-0697916f72c1 button.colab-df-convert');\n",
              "        buttonEl.style.display =\n",
              "          google.colab.kernel.accessAllowed ? 'block' : 'none';\n",
              "\n",
              "        async function convertToInteractive(key) {\n",
              "          const element = document.querySelector('#df-c2e2226a-c0fd-4c3f-a04d-0697916f72c1');\n",
              "          const dataTable =\n",
              "            await google.colab.kernel.invokeFunction('convertToInteractive',\n",
              "                                                     [key], {});\n",
              "          if (!dataTable) return;\n",
              "\n",
              "          const docLinkHtml = 'Like what you see? Visit the ' +\n",
              "            '<a target=\"_blank\" href=https://colab.research.google.com/notebooks/data_table.ipynb>data table notebook</a>'\n",
              "            + ' to learn more about interactive tables.';\n",
              "          element.innerHTML = '';\n",
              "          dataTable['output_type'] = 'display_data';\n",
              "          await google.colab.output.renderOutput(dataTable, element);\n",
              "          const docLink = document.createElement('div');\n",
              "          docLink.innerHTML = docLinkHtml;\n",
              "          element.appendChild(docLink);\n",
              "        }\n",
              "      </script>\n",
              "    </div>\n",
              "  </div>\n",
              "  "
            ]
          },
          "metadata": {}
        }
      ],
      "source": [
        "pat_id_list = sorted(list(set(cohort_df[\"PatientID\"].values)))\n",
        "\n",
        "print(\"Total number of unique Patient IDs:\", len(pat_id_list))\n",
        "\n",
        "display(cohort_df.info())\n",
        "\n",
        "display(cohort_df.head())"
      ]
    },
    {
      "cell_type": "markdown",
      "metadata": {
        "id": "AolLtXOLVt7D"
      },
      "source": [
        "---\n",
        "\n",
        "## **Set Run Parameters**\n",
        "\n",
        "From this cell, we can configure the nnU-Net inference step - specifying, for instance, the type of model we want to run (among the four different models the framework provides), whether we want to use test time augmentation, or whether we want to export the soft probability maps of the segmentation masks.\n"
      ]
    },
    {
      "cell_type": "code",
      "execution_count": 18,
      "metadata": {
        "id": "TRmrt00589lv"
      },
      "outputs": [],
      "source": [
        "# FIXED PARAMETERS\n",
        "data_base_path = \"/content/data\"\n",
        "raw_base_path = \"/content/data/raw/tmp\"\n",
        "sorted_base_path = os.path.join(\"/content/data/raw/\", dataset_name, \"dicom\")\n",
        "\n",
        "processed_base_path = os.path.join(\"/content/data/processed/\", dataset_name)\n",
        "processed_nifti_path = os.path.join(processed_base_path, \"nii\")\n",
        "\n",
        "processed_dicomseg_path = os.path.join(processed_base_path, \"dicomseg\")\n",
        "\n",
        "model_input_folder = \"/content/data/model_input/\"\n",
        "model_output_folder = \"/content/data/nnunet_output/\"\n",
        "\n",
        "dicomseg_json_path = \"/content/aimi/aimi/nnunet_liver/config/dicomseg_metadata.json\"\n",
        "\n",
        "# -----------------\n",
        "# nnU-Net pipeline parameters\n",
        "\n",
        "# choose from: \"2d\", \"3d_lowres\", \"3d_fullres\", \"3d_cascade_fullres\"\n",
        "nnunet_model = \"3d_lowres\"\n",
        "use_tta = True"
      ]
    },
    {
      "cell_type": "markdown",
      "metadata": {
        "id": "-n0qjPp1B_mv"
      },
      "source": [
        "## **Running the Analysis for a Single Patient**"
      ]
    },
    {
      "cell_type": "code",
      "source": [
        "import aimi.aimi as aimi\n",
        "\n",
        "from aimi import general_utils as aimi_utils\n",
        "from aimi import nnunet_liver as aimi_model"
      ],
      "metadata": {
        "id": "vPPZRieLM5K-"
      },
      "execution_count": 19,
      "outputs": []
    },
    {
      "cell_type": "markdown",
      "source": [
        "The following cells run all the processing pipeline, from pre-processing to post-processing."
      ],
      "metadata": {
        "id": "0pFSCy5HoOp_"
      }
    },
    {
      "cell_type": "code",
      "source": [
        "pat_id = random.choice(cohort_df[\"PatientID\"].values)\n",
        "pat_df = cohort_df[cohort_df[\"PatientID\"] == pat_id].reset_index(drop = True)\n",
        "\n",
        "display(pat_df.info())\n",
        "display(pat_df.head())"
      ],
      "metadata": {
        "colab": {
          "base_uri": "https://localhost:8080/",
          "height": 878
        },
        "id": "pekuBoTMmYsq",
        "outputId": "20e12f6f-720e-4279-d9ca-bdee90d35983"
      },
      "execution_count": 20,
      "outputs": [
        {
          "output_type": "stream",
          "name": "stdout",
          "text": [
            "<class 'pandas.core.frame.DataFrame'>\n",
            "RangeIndex: 90 entries, 0 to 89\n",
            "Data columns (total 7 columns):\n",
            " #   Column             Non-Null Count  Dtype \n",
            "---  ------             --------------  ----- \n",
            " 0   PatientID          90 non-null     object\n",
            " 1   collection_id      90 non-null     object\n",
            " 2   source_DOI         90 non-null     object\n",
            " 3   StudyInstanceUID   90 non-null     object\n",
            " 4   SeriesInstanceUID  90 non-null     object\n",
            " 5   SOPInstanceUID     90 non-null     object\n",
            " 6   gcs_url            90 non-null     object\n",
            "dtypes: object(7)\n",
            "memory usage: 5.0+ KB\n"
          ]
        },
        {
          "output_type": "display_data",
          "data": {
            "text/plain": [
              "None"
            ]
          },
          "metadata": {}
        },
        {
          "output_type": "display_data",
          "data": {
            "text/plain": [
              "                   PatientID          collection_id         source_DOI  \\\n",
              "0  StageII-Colorectal-CT-001  stageii_colorectal_ct  10.7937/p5k5-tg43   \n",
              "1  StageII-Colorectal-CT-001  stageii_colorectal_ct  10.7937/p5k5-tg43   \n",
              "2  StageII-Colorectal-CT-001  stageii_colorectal_ct  10.7937/p5k5-tg43   \n",
              "3  StageII-Colorectal-CT-001  stageii_colorectal_ct  10.7937/p5k5-tg43   \n",
              "4  StageII-Colorectal-CT-001  stageii_colorectal_ct  10.7937/p5k5-tg43   \n",
              "\n",
              "                                    StudyInstanceUID  \\\n",
              "0  1.3.6.1.4.1.14519.5.2.1.3079771842656303813027...   \n",
              "1  1.3.6.1.4.1.14519.5.2.1.3079771842656303813027...   \n",
              "2  1.3.6.1.4.1.14519.5.2.1.3079771842656303813027...   \n",
              "3  1.3.6.1.4.1.14519.5.2.1.3079771842656303813027...   \n",
              "4  1.3.6.1.4.1.14519.5.2.1.3079771842656303813027...   \n",
              "\n",
              "                                   SeriesInstanceUID  \\\n",
              "0  1.3.6.1.4.1.14519.5.2.1.2744484960269153598786...   \n",
              "1  1.3.6.1.4.1.14519.5.2.1.2744484960269153598786...   \n",
              "2  1.3.6.1.4.1.14519.5.2.1.2744484960269153598786...   \n",
              "3  1.3.6.1.4.1.14519.5.2.1.2744484960269153598786...   \n",
              "4  1.3.6.1.4.1.14519.5.2.1.2744484960269153598786...   \n",
              "\n",
              "                                      SOPInstanceUID  \\\n",
              "0  1.3.6.1.4.1.14519.5.2.1.1030314217618762894573...   \n",
              "1  1.3.6.1.4.1.14519.5.2.1.1038145622828798280601...   \n",
              "2  1.3.6.1.4.1.14519.5.2.1.1150035677426433731975...   \n",
              "3  1.3.6.1.4.1.14519.5.2.1.1222638640273118995420...   \n",
              "4  1.3.6.1.4.1.14519.5.2.1.1275971662551159176203...   \n",
              "\n",
              "                                             gcs_url  \n",
              "0  gs://public-datasets-idc/b479e870-e944-4cc1-98...  \n",
              "1  gs://public-datasets-idc/5f1ffe0b-cd05-4578-b6...  \n",
              "2  gs://public-datasets-idc/65da2112-b9bd-4181-88...  \n",
              "3  gs://public-datasets-idc/832fdf23-d755-4dfe-8a...  \n",
              "4  gs://public-datasets-idc/27be54f3-7a8e-4d2d-a4...  "
            ],
            "text/html": [
              "\n",
              "  <div id=\"df-7c237bd7-7e46-4a9b-b56b-a32354e01572\">\n",
              "    <div class=\"colab-df-container\">\n",
              "      <div>\n",
              "<style scoped>\n",
              "    .dataframe tbody tr th:only-of-type {\n",
              "        vertical-align: middle;\n",
              "    }\n",
              "\n",
              "    .dataframe tbody tr th {\n",
              "        vertical-align: top;\n",
              "    }\n",
              "\n",
              "    .dataframe thead th {\n",
              "        text-align: right;\n",
              "    }\n",
              "</style>\n",
              "<table border=\"1\" class=\"dataframe\">\n",
              "  <thead>\n",
              "    <tr style=\"text-align: right;\">\n",
              "      <th></th>\n",
              "      <th>PatientID</th>\n",
              "      <th>collection_id</th>\n",
              "      <th>source_DOI</th>\n",
              "      <th>StudyInstanceUID</th>\n",
              "      <th>SeriesInstanceUID</th>\n",
              "      <th>SOPInstanceUID</th>\n",
              "      <th>gcs_url</th>\n",
              "    </tr>\n",
              "  </thead>\n",
              "  <tbody>\n",
              "    <tr>\n",
              "      <th>0</th>\n",
              "      <td>StageII-Colorectal-CT-001</td>\n",
              "      <td>stageii_colorectal_ct</td>\n",
              "      <td>10.7937/p5k5-tg43</td>\n",
              "      <td>1.3.6.1.4.1.14519.5.2.1.3079771842656303813027...</td>\n",
              "      <td>1.3.6.1.4.1.14519.5.2.1.2744484960269153598786...</td>\n",
              "      <td>1.3.6.1.4.1.14519.5.2.1.1030314217618762894573...</td>\n",
              "      <td>gs://public-datasets-idc/b479e870-e944-4cc1-98...</td>\n",
              "    </tr>\n",
              "    <tr>\n",
              "      <th>1</th>\n",
              "      <td>StageII-Colorectal-CT-001</td>\n",
              "      <td>stageii_colorectal_ct</td>\n",
              "      <td>10.7937/p5k5-tg43</td>\n",
              "      <td>1.3.6.1.4.1.14519.5.2.1.3079771842656303813027...</td>\n",
              "      <td>1.3.6.1.4.1.14519.5.2.1.2744484960269153598786...</td>\n",
              "      <td>1.3.6.1.4.1.14519.5.2.1.1038145622828798280601...</td>\n",
              "      <td>gs://public-datasets-idc/5f1ffe0b-cd05-4578-b6...</td>\n",
              "    </tr>\n",
              "    <tr>\n",
              "      <th>2</th>\n",
              "      <td>StageII-Colorectal-CT-001</td>\n",
              "      <td>stageii_colorectal_ct</td>\n",
              "      <td>10.7937/p5k5-tg43</td>\n",
              "      <td>1.3.6.1.4.1.14519.5.2.1.3079771842656303813027...</td>\n",
              "      <td>1.3.6.1.4.1.14519.5.2.1.2744484960269153598786...</td>\n",
              "      <td>1.3.6.1.4.1.14519.5.2.1.1150035677426433731975...</td>\n",
              "      <td>gs://public-datasets-idc/65da2112-b9bd-4181-88...</td>\n",
              "    </tr>\n",
              "    <tr>\n",
              "      <th>3</th>\n",
              "      <td>StageII-Colorectal-CT-001</td>\n",
              "      <td>stageii_colorectal_ct</td>\n",
              "      <td>10.7937/p5k5-tg43</td>\n",
              "      <td>1.3.6.1.4.1.14519.5.2.1.3079771842656303813027...</td>\n",
              "      <td>1.3.6.1.4.1.14519.5.2.1.2744484960269153598786...</td>\n",
              "      <td>1.3.6.1.4.1.14519.5.2.1.1222638640273118995420...</td>\n",
              "      <td>gs://public-datasets-idc/832fdf23-d755-4dfe-8a...</td>\n",
              "    </tr>\n",
              "    <tr>\n",
              "      <th>4</th>\n",
              "      <td>StageII-Colorectal-CT-001</td>\n",
              "      <td>stageii_colorectal_ct</td>\n",
              "      <td>10.7937/p5k5-tg43</td>\n",
              "      <td>1.3.6.1.4.1.14519.5.2.1.3079771842656303813027...</td>\n",
              "      <td>1.3.6.1.4.1.14519.5.2.1.2744484960269153598786...</td>\n",
              "      <td>1.3.6.1.4.1.14519.5.2.1.1275971662551159176203...</td>\n",
              "      <td>gs://public-datasets-idc/27be54f3-7a8e-4d2d-a4...</td>\n",
              "    </tr>\n",
              "  </tbody>\n",
              "</table>\n",
              "</div>\n",
              "      <button class=\"colab-df-convert\" onclick=\"convertToInteractive('df-7c237bd7-7e46-4a9b-b56b-a32354e01572')\"\n",
              "              title=\"Convert this dataframe to an interactive table.\"\n",
              "              style=\"display:none;\">\n",
              "        \n",
              "  <svg xmlns=\"http://www.w3.org/2000/svg\" height=\"24px\"viewBox=\"0 0 24 24\"\n",
              "       width=\"24px\">\n",
              "    <path d=\"M0 0h24v24H0V0z\" fill=\"none\"/>\n",
              "    <path d=\"M18.56 5.44l.94 2.06.94-2.06 2.06-.94-2.06-.94-.94-2.06-.94 2.06-2.06.94zm-11 1L8.5 8.5l.94-2.06 2.06-.94-2.06-.94L8.5 2.5l-.94 2.06-2.06.94zm10 10l.94 2.06.94-2.06 2.06-.94-2.06-.94-.94-2.06-.94 2.06-2.06.94z\"/><path d=\"M17.41 7.96l-1.37-1.37c-.4-.4-.92-.59-1.43-.59-.52 0-1.04.2-1.43.59L10.3 9.45l-7.72 7.72c-.78.78-.78 2.05 0 2.83L4 21.41c.39.39.9.59 1.41.59.51 0 1.02-.2 1.41-.59l7.78-7.78 2.81-2.81c.8-.78.8-2.07 0-2.86zM5.41 20L4 18.59l7.72-7.72 1.47 1.35L5.41 20z\"/>\n",
              "  </svg>\n",
              "      </button>\n",
              "      \n",
              "  <style>\n",
              "    .colab-df-container {\n",
              "      display:flex;\n",
              "      flex-wrap:wrap;\n",
              "      gap: 12px;\n",
              "    }\n",
              "\n",
              "    .colab-df-convert {\n",
              "      background-color: #E8F0FE;\n",
              "      border: none;\n",
              "      border-radius: 50%;\n",
              "      cursor: pointer;\n",
              "      display: none;\n",
              "      fill: #1967D2;\n",
              "      height: 32px;\n",
              "      padding: 0 0 0 0;\n",
              "      width: 32px;\n",
              "    }\n",
              "\n",
              "    .colab-df-convert:hover {\n",
              "      background-color: #E2EBFA;\n",
              "      box-shadow: 0px 1px 2px rgba(60, 64, 67, 0.3), 0px 1px 3px 1px rgba(60, 64, 67, 0.15);\n",
              "      fill: #174EA6;\n",
              "    }\n",
              "\n",
              "    [theme=dark] .colab-df-convert {\n",
              "      background-color: #3B4455;\n",
              "      fill: #D2E3FC;\n",
              "    }\n",
              "\n",
              "    [theme=dark] .colab-df-convert:hover {\n",
              "      background-color: #434B5C;\n",
              "      box-shadow: 0px 1px 3px 1px rgba(0, 0, 0, 0.15);\n",
              "      filter: drop-shadow(0px 1px 2px rgba(0, 0, 0, 0.3));\n",
              "      fill: #FFFFFF;\n",
              "    }\n",
              "  </style>\n",
              "\n",
              "      <script>\n",
              "        const buttonEl =\n",
              "          document.querySelector('#df-7c237bd7-7e46-4a9b-b56b-a32354e01572 button.colab-df-convert');\n",
              "        buttonEl.style.display =\n",
              "          google.colab.kernel.accessAllowed ? 'block' : 'none';\n",
              "\n",
              "        async function convertToInteractive(key) {\n",
              "          const element = document.querySelector('#df-7c237bd7-7e46-4a9b-b56b-a32354e01572');\n",
              "          const dataTable =\n",
              "            await google.colab.kernel.invokeFunction('convertToInteractive',\n",
              "                                                     [key], {});\n",
              "          if (!dataTable) return;\n",
              "\n",
              "          const docLinkHtml = 'Like what you see? Visit the ' +\n",
              "            '<a target=\"_blank\" href=https://colab.research.google.com/notebooks/data_table.ipynb>data table notebook</a>'\n",
              "            + ' to learn more about interactive tables.';\n",
              "          element.innerHTML = '';\n",
              "          dataTable['output_type'] = 'display_data';\n",
              "          await google.colab.output.renderOutput(dataTable, element);\n",
              "          const docLink = document.createElement('div');\n",
              "          docLink.innerHTML = docLinkHtml;\n",
              "          element.appendChild(docLink);\n",
              "        }\n",
              "      </script>\n",
              "    </div>\n",
              "  </div>\n",
              "  "
            ]
          },
          "metadata": {}
        }
      ]
    },
    {
      "cell_type": "code",
      "source": [
        "# init\n",
        "\n",
        "print(\"Processing patient: %s\"%(pat_id))\n",
        "\n",
        "patient_df = cohort_df[cohort_df[\"PatientID\"] == pat_id]\n",
        "\n",
        "dicomseg_fn = pat_id + \"_SEG.dcm\"\n",
        "\n",
        "input_nifti_fn = pat_id + \"_0000.nii.gz\"\n",
        "input_nifti_path = os.path.join(model_input_folder, input_nifti_fn)\n",
        "\n",
        "pred_nifti_fn = pat_id + \".nii.gz\"\n",
        "pred_nifti_path = os.path.join(model_output_folder, pred_nifti_fn)\n",
        "\n",
        "pred_softmax_folder_name = \"pred_softmax\"\n",
        "pred_softmax_folder_path = os.path.join(processed_nifti_path, pat_id, pred_softmax_folder_name)"
      ],
      "metadata": {
        "colab": {
          "base_uri": "https://localhost:8080/"
        },
        "id": "S7a6h_iINlvq",
        "outputId": "e2c468ef-3e62-46a6-aaa8-da3e74e21dec"
      },
      "execution_count": 21,
      "outputs": [
        {
          "output_type": "stream",
          "name": "stdout",
          "text": [
            "Processing patient: StageII-Colorectal-CT-001\n"
          ]
        }
      ]
    },
    {
      "cell_type": "code",
      "source": [
        "# data cross-loading\n",
        "aimi_utils.gcs.download_patient_data(raw_base_path = raw_base_path,\n",
        "                                     sorted_base_path = sorted_base_path,\n",
        "                                     patient_df = patient_df,\n",
        "                                     remove_raw = True)"
      ],
      "metadata": {
        "colab": {
          "base_uri": "https://localhost:8080/"
        },
        "id": "NZDxWkvCNlxw",
        "outputId": "8aebc363-0746-4dd6-ced5-9caff439508d"
      },
      "execution_count": 22,
      "outputs": [
        {
          "output_type": "stream",
          "name": "stdout",
          "text": [
            "Copying files from IDC buckets to /content/data/raw/tmp/StageII-Colorectal-CT-001...\n",
            "Done in 8.03067 seconds.\n",
            "\n",
            "Sorting DICOM files...\n",
            "Done in 0.804599 seconds.\n",
            "Sorted DICOM data saved at: /content/data/raw/stageii_colorectal_ct/dicom/StageII-Colorectal-CT-001\n",
            "Removing un-sorted data at /content/data/raw/tmp/StageII-Colorectal-CT-001...\n",
            "... Done.\n"
          ]
        }
      ]
    },
    {
      "cell_type": "code",
      "source": [
        "# DICOM CT to NIfTI - required for the processing\n",
        "aimi_utils.preprocessing.pypla_dicom_ct_to_nifti(sorted_base_path = sorted_base_path,\n",
        "                                                 processed_nifti_path = processed_nifti_path,\n",
        "                                                 pat_id = pat_id, verbose = True)"
      ],
      "metadata": {
        "id": "FfsY-_EGNs19",
        "colab": {
          "base_uri": "https://localhost:8080/"
        },
        "outputId": "083da745-6a97-4cf0-be78-1e99ce0182e4"
      },
      "execution_count": 23,
      "outputs": [
        {
          "output_type": "stream",
          "name": "stdout",
          "text": [
            "\n",
            "Running 'plastimatch convert' with the specified arguments:\n",
            "  --input /content/data/raw/stageii_colorectal_ct/dicom/StageII-Colorectal-CT-001/CT\n",
            "  --output-img /content/data/processed/stageii_colorectal_ct/nii/StageII-Colorectal-CT-001/StageII-Colorectal-CT-001_CT.nii.gz\n",
            "... Done.\n"
          ]
        }
      ]
    },
    {
      "cell_type": "code",
      "source": [
        "# prepare the `model_input` folder for the inference phase\n",
        "aimi_utils.preprocessing.prep_input_data(processed_nifti_path = processed_nifti_path,\n",
        "                                         model_input_folder = model_input_folder,\n",
        "                                         pat_id = pat_id)"
      ],
      "metadata": {
        "id": "0R547UiyNs4O",
        "colab": {
          "base_uri": "https://localhost:8080/"
        },
        "outputId": "ad2fba75-b32e-4c36-b0d0-70556a64c163"
      },
      "execution_count": 24,
      "outputs": [
        {
          "output_type": "stream",
          "name": "stdout",
          "text": [
            "Copying /content/data/processed/stageii_colorectal_ct/nii/StageII-Colorectal-CT-001/StageII-Colorectal-CT-001_CT.nii.gz\n",
            "to /content/data/model_input/StageII-Colorectal-CT-001_0000.nii.gz...\n",
            "... Done.\n"
          ]
        }
      ]
    },
    {
      "cell_type": "code",
      "source": [
        "# run the DL-based prediction\n",
        "aimi_model.utils.processing.process_patient_nnunet(model_input_folder = model_input_folder,\n",
        "                                                   model_output_folder = model_output_folder, \n",
        "                                                   nnunet_model = nnunet_model, use_tta = use_tta)"
      ],
      "metadata": {
        "colab": {
          "base_uri": "https://localhost:8080/"
        },
        "id": "-OCLqzAzNs6K",
        "outputId": "c4347fea-75eb-4092-800b-b58bde4f1128"
      },
      "execution_count": 25,
      "outputs": [
        {
          "output_type": "stream",
          "name": "stdout",
          "text": [
            "Running `nnUNet_predict` with `3d_lowres` model...\n",
            "Processing file at /content/data/model_input/StageII-Colorectal-CT-001_0000.nii.gz...\n",
            "Done in 101.67 seconds.\n"
          ]
        }
      ]
    },
    {
      "cell_type": "code",
      "source": [
        "model_output_seg = os.path.join(model_output_folder, pat_id + \".nii.gz\")\n",
        "seg_nii_path = os.path.join(processed_nifti_path, pat_id, pat_id + \"_pred_liver.nii.gz\")\n",
        "\n",
        "shutil.copyfile(model_output_seg, seg_nii_path)"
      ],
      "metadata": {
        "colab": {
          "base_uri": "https://localhost:8080/",
          "height": 36
        },
        "id": "OdhLTfQRVYBR",
        "outputId": "d41fc602-e501-4f7d-96d8-418e70ccbacb"
      },
      "execution_count": 26,
      "outputs": [
        {
          "output_type": "execute_result",
          "data": {
            "text/plain": [
              "'/content/data/processed/stageii_colorectal_ct/nii/StageII-Colorectal-CT-001/StageII-Colorectal-CT-001_pred_liver.nii.gz'"
            ],
            "application/vnd.google.colaboratory.intrinsic+json": {
              "type": "string"
            }
          },
          "metadata": {},
          "execution_count": 26
        }
      ]
    },
    {
      "cell_type": "markdown",
      "source": [
        "Before running the conversion to DICOM SEG, update the JSON file used to generate the DICOM SEG object with the configuration of nnU-Net we are going to be using for the specific run."
      ],
      "metadata": {
        "id": "0UWyjE1505fV"
      }
    },
    {
      "cell_type": "code",
      "source": [
        "extended_model_name = \"nnU-Net \" + nnunet_model + \"_tta\" if use_tta else \"nnU-Net \" + nnunet_model\n",
        "\n",
        "aimi_utils.config.modify_dicomseg_json_file(dicomseg_json_path = dicomseg_json_path,\n",
        "                                            new_dicomseg_json_path = dicomseg_json_path,\n",
        "                                            SegmentAlgorithmName = extended_model_name)"
      ],
      "metadata": {
        "id": "-B-kePw4zyBL"
      },
      "execution_count": 28,
      "outputs": []
    },
    {
      "cell_type": "code",
      "source": [
        "aimi_model.utils.postprocessing.nifti_to_dicomseg(sorted_base_path = sorted_base_path,\n",
        "                                                  processed_base_path = processed_base_path,\n",
        "                                                  dicomseg_json_path = dicomseg_json_path,\n",
        "                                                  pat_id = pat_id)"
      ],
      "metadata": {
        "id": "rQ9FSB77TH6g"
      },
      "execution_count": 29,
      "outputs": []
    },
    {
      "cell_type": "markdown",
      "source": [
        "---"
      ],
      "metadata": {
        "id": "But1jZOmo1YN"
      }
    },
    {
      "cell_type": "code",
      "source": [
        "from pyplastimatch.utils import viz as viz_utils"
      ],
      "metadata": {
        "id": "SPAivMyyqReY"
      },
      "execution_count": 30,
      "outputs": []
    },
    {
      "cell_type": "code",
      "source": [
        "ct_nii_path = os.path.join(\"/content/data/processed/%s/nii/\"%dataset_name, pat_id, pat_id + \"_CT.nii.gz\")\n",
        "seg_nii_path = os.path.join(\"/content/data/nnunet_output/\", pat_id + \".nii.gz\")\n",
        "softseg_nii_path = os.path.join(\"/content/data/nnunet_output/\", pat_id + \".npz\")\n",
        "\n",
        "\"\"\"\n",
        "alternative way of loading the resulting NIfTI files\n",
        "nibabel can sometimes take better care of the orientation of the\n",
        "converted/segmented images, but will orient the data differently by default\n",
        "\"\"\"\n",
        "\n",
        "#ct_nii = nib.load(ct_nii_path).dataobj\n",
        "#seg_nii = nib.load(seg_nii_path).dataobj\n",
        "\n",
        "ct_nii = sitk.GetArrayFromImage(sitk.ReadImage(ct_nii_path))\n",
        "seg_nii = sitk.GetArrayFromImage(sitk.ReadImage(seg_nii_path))"
      ],
      "metadata": {
        "id": "gxrHpkeapMKe"
      },
      "execution_count": 31,
      "outputs": []
    },
    {
      "cell_type": "markdown",
      "source": [
        "In some cases, the nnU-Net model will fail in segmenting the liver cancer from the CT scan. The voxels of the NIfTI volume resulting from the pipeline will therefore take only two values: 0, for background, and 1, for liver.\n",
        "\n",
        "In the next cell, we can visualise the result using a simple widget - after taking care of the potential aforementioned exception."
      ],
      "metadata": {
        "id": "5Ydjya0OX5yd"
      }
    },
    {
      "cell_type": "code",
      "source": [
        "# in some patients, no pancreatic cancer will be segmented\n",
        "has_cancer_seg = True if len(np.unique(seg_nii)) > 2 else False\n",
        "\n",
        "if has_cancer_seg:\n",
        "  # class #1\n",
        "  liver_nii = np.copy(seg_nii)\n",
        "  liver_nii[liver_nii > 1] = 0\n",
        "\n",
        "  # class #2\n",
        "  cancer_nii = np.copy(seg_nii)\n",
        "  cancer_nii[cancer_nii < 2] = 0\n",
        "  cancer_nii[cancer_nii == 2] = 1\n",
        "\n",
        "  _ = viz_utils.AxialSliceSegmaskViz(ct_volume = ct_nii,\n",
        "                                     segmask_dict = {\"liver\" : pancreas_nii,\n",
        "                                                     \"cancer\" : cancer_nii},\n",
        "                                     segmask_cmap_dict = {\"liver\" : my_greens,\n",
        "                                                          \"cancer\" : my_reds},\n",
        "                                     dpi = 100, figsize = (8, 8),\n",
        "                                     min_hu = -1024, max_hu = 1024)\n",
        "else:\n",
        "    _ = viz_utils.AxialSliceSegmaskViz(ct_volume = ct_nii, \n",
        "                                       segmask_dict = {\"liver\" : seg_nii},\n",
        "                                       segmask_cmap_dict = {\"liver\" : my_greens},\n",
        "                                       dpi = 100, figsize = (8, 8),\n",
        "                                       min_hu = -1024, max_hu = 1024)"
      ],
      "metadata": {
        "id": "imBup5S2qcpM",
        "colab": {
          "base_uri": "https://localhost:8080/",
          "height": 701,
          "referenced_widgets": [
            "83215a1c585745ed8e26a8241a984f07",
            "d8366f5aa2a94b72982ce845216cf354",
            "a762f0f3743f4ea6805d967af349a7d4",
            "14cb4004427b4d21b02f4ee35cd1a12d",
            "6337df267b2c4905b1e865565f8e3dc5",
            "3fcbfdeecf184025b50d679c2537cd8a",
            "7e1f2c9463954bcf887a29a74a9761ac",
            "fb3dd16a007f48e4af81943399f642bc",
            "e8bdd2c8731943d5a7118d377eb6326f",
            "a2de3067ee0740d8abaa23247f7abd10",
            "d0657a3bdc154244b7ed5d0f2fc174a3"
          ]
        },
        "outputId": "166a92ef-2cfa-439e-db39-a733d845e968"
      },
      "execution_count": 32,
      "outputs": [
        {
          "output_type": "display_data",
          "data": {
            "text/plain": [
              "interactive(children=(Output(),), _dom_classes=('widget-interact',))"
            ],
            "application/vnd.jupyter.widget-view+json": {
              "version_major": 2,
              "version_minor": 0,
              "model_id": "83215a1c585745ed8e26a8241a984f07"
            }
          },
          "metadata": {}
        }
      ]
    },
    {
      "cell_type": "markdown",
      "source": [
        "---\n",
        "\n",
        "## **Data Download**"
      ],
      "metadata": {
        "id": "i2QqrdvXqQq0"
      }
    },
    {
      "cell_type": "code",
      "source": [
        "%%capture\n",
        "\n",
        "archive_fn = \"%s.zip\"%(pat_id)\n",
        "\n",
        "try:\n",
        "  os.remove(archive_fn)\n",
        "except OSError:\n",
        "  pass\n",
        "\n",
        "seg_dicom_path = os.path.join(processed_dicomseg_path, pat_id, dicomseg_fn)\n",
        "ct_dicom_path = os.path.join(sorted_base_path, pat_id)\n",
        "\n",
        "!zip -j -r $archive_fn $ct_dicom_path $seg_dicom_path"
      ],
      "metadata": {
        "id": "ARmBD0lHdz_2"
      },
      "execution_count": 34,
      "outputs": []
    },
    {
      "cell_type": "code",
      "source": [
        "filesize = os.stat(archive_fn).st_size/1024e03\n",
        "print('Starting the download of \"%s\" (%2.1f MB)...\\n'%(archive_fn, filesize))\n",
        "\n",
        "files.download(archive_fn)"
      ],
      "metadata": {
        "id": "8pE0X9kid0D-",
        "colab": {
          "base_uri": "https://localhost:8080/",
          "height": 52
        },
        "outputId": "fa3f8089-89c0-403a-b6c0-5c197291c0a5"
      },
      "execution_count": 35,
      "outputs": [
        {
          "output_type": "stream",
          "name": "stdout",
          "text": [
            "Starting the download of \"StageII-Colorectal-CT-001.zip\" (26.0 MB)...\n",
            "\n"
          ]
        },
        {
          "output_type": "display_data",
          "data": {
            "text/plain": [
              "<IPython.core.display.Javascript object>"
            ],
            "application/javascript": [
              "\n",
              "    async function download(id, filename, size) {\n",
              "      if (!google.colab.kernel.accessAllowed) {\n",
              "        return;\n",
              "      }\n",
              "      const div = document.createElement('div');\n",
              "      const label = document.createElement('label');\n",
              "      label.textContent = `Downloading \"${filename}\": `;\n",
              "      div.appendChild(label);\n",
              "      const progress = document.createElement('progress');\n",
              "      progress.max = size;\n",
              "      div.appendChild(progress);\n",
              "      document.body.appendChild(div);\n",
              "\n",
              "      const buffers = [];\n",
              "      let downloaded = 0;\n",
              "\n",
              "      const channel = await google.colab.kernel.comms.open(id);\n",
              "      // Send a message to notify the kernel that we're ready.\n",
              "      channel.send({})\n",
              "\n",
              "      for await (const message of channel.messages) {\n",
              "        // Send a message to notify the kernel that we're ready.\n",
              "        channel.send({})\n",
              "        if (message.buffers) {\n",
              "          for (const buffer of message.buffers) {\n",
              "            buffers.push(buffer);\n",
              "            downloaded += buffer.byteLength;\n",
              "            progress.value = downloaded;\n",
              "          }\n",
              "        }\n",
              "      }\n",
              "      const blob = new Blob(buffers, {type: 'application/binary'});\n",
              "      const a = document.createElement('a');\n",
              "      a.href = window.URL.createObjectURL(blob);\n",
              "      a.download = filename;\n",
              "      div.appendChild(a);\n",
              "      a.click();\n",
              "      div.remove();\n",
              "    }\n",
              "  "
            ]
          },
          "metadata": {}
        },
        {
          "output_type": "display_data",
          "data": {
            "text/plain": [
              "<IPython.core.display.Javascript object>"
            ],
            "application/javascript": [
              "download(\"download_505a17c2-a5de-4dfd-ae2c-f321dafa0ed0\", \"StageII-Colorectal-CT-001.zip\", 26630034)"
            ]
          },
          "metadata": {}
        }
      ]
    }
  ],
  "metadata": {
    "colab": {
      "collapsed_sections": [],
      "provenance": [],
      "machine_shape": "hm",
      "include_colab_link": true
    },
    "kernelspec": {
      "display_name": "Python 3",
      "name": "python3"
    },
    "language_info": {
      "name": "python"
    },
    "accelerator": "GPU",
    "gpuClass": "standard",
    "widgets": {
      "application/vnd.jupyter.widget-state+json": {
        "83215a1c585745ed8e26a8241a984f07": {
          "model_module": "@jupyter-widgets/controls",
          "model_name": "VBoxModel",
          "model_module_version": "1.5.0",
          "state": {
            "_dom_classes": [
              "widget-interact"
            ],
            "_model_module": "@jupyter-widgets/controls",
            "_model_module_version": "1.5.0",
            "_model_name": "VBoxModel",
            "_view_count": null,
            "_view_module": "@jupyter-widgets/controls",
            "_view_module_version": "1.5.0",
            "_view_name": "VBoxView",
            "box_style": "",
            "children": [
              "IPY_MODEL_d8366f5aa2a94b72982ce845216cf354"
            ],
            "layout": "IPY_MODEL_a762f0f3743f4ea6805d967af349a7d4"
          }
        },
        "d8366f5aa2a94b72982ce845216cf354": {
          "model_module": "@jupyter-widgets/output",
          "model_name": "OutputModel",
          "model_module_version": "1.0.0",
          "state": {
            "_dom_classes": [],
            "_model_module": "@jupyter-widgets/output",
            "_model_module_version": "1.0.0",
            "_model_name": "OutputModel",
            "_view_count": null,
            "_view_module": "@jupyter-widgets/output",
            "_view_module_version": "1.0.0",
            "_view_name": "OutputView",
            "layout": "IPY_MODEL_6337df267b2c4905b1e865565f8e3dc5",
            "msg_id": "",
            "outputs": [
              {
                "output_type": "display_data",
                "data": {
                  "text/plain": "interactive(children=(IntSlider(value=0, description='Axial slice:', max=89), Output()), _dom_classes=('widget…",
                  "application/vnd.jupyter.widget-view+json": {
                    "version_major": 2,
                    "version_minor": 0,
                    "model_id": "14cb4004427b4d21b02f4ee35cd1a12d"
                  }
                },
                "metadata": {}
              }
            ]
          }
        },
        "a762f0f3743f4ea6805d967af349a7d4": {
          "model_module": "@jupyter-widgets/base",
          "model_name": "LayoutModel",
          "model_module_version": "1.2.0",
          "state": {
            "_model_module": "@jupyter-widgets/base",
            "_model_module_version": "1.2.0",
            "_model_name": "LayoutModel",
            "_view_count": null,
            "_view_module": "@jupyter-widgets/base",
            "_view_module_version": "1.2.0",
            "_view_name": "LayoutView",
            "align_content": null,
            "align_items": null,
            "align_self": null,
            "border": null,
            "bottom": null,
            "display": null,
            "flex": null,
            "flex_flow": null,
            "grid_area": null,
            "grid_auto_columns": null,
            "grid_auto_flow": null,
            "grid_auto_rows": null,
            "grid_column": null,
            "grid_gap": null,
            "grid_row": null,
            "grid_template_areas": null,
            "grid_template_columns": null,
            "grid_template_rows": null,
            "height": null,
            "justify_content": null,
            "justify_items": null,
            "left": null,
            "margin": null,
            "max_height": null,
            "max_width": null,
            "min_height": null,
            "min_width": null,
            "object_fit": null,
            "object_position": null,
            "order": null,
            "overflow": null,
            "overflow_x": null,
            "overflow_y": null,
            "padding": null,
            "right": null,
            "top": null,
            "visibility": null,
            "width": null
          }
        },
        "14cb4004427b4d21b02f4ee35cd1a12d": {
          "model_module": "@jupyter-widgets/controls",
          "model_name": "VBoxModel",
          "model_module_version": "1.5.0",
          "state": {
            "_dom_classes": [
              "widget-interact"
            ],
            "_model_module": "@jupyter-widgets/controls",
            "_model_module_version": "1.5.0",
            "_model_name": "VBoxModel",
            "_view_count": null,
            "_view_module": "@jupyter-widgets/controls",
            "_view_module_version": "1.5.0",
            "_view_name": "VBoxView",
            "box_style": "",
            "children": [
              "IPY_MODEL_3fcbfdeecf184025b50d679c2537cd8a",
              "IPY_MODEL_7e1f2c9463954bcf887a29a74a9761ac"
            ],
            "layout": "IPY_MODEL_fb3dd16a007f48e4af81943399f642bc"
          }
        },
        "6337df267b2c4905b1e865565f8e3dc5": {
          "model_module": "@jupyter-widgets/base",
          "model_name": "LayoutModel",
          "model_module_version": "1.2.0",
          "state": {
            "_model_module": "@jupyter-widgets/base",
            "_model_module_version": "1.2.0",
            "_model_name": "LayoutModel",
            "_view_count": null,
            "_view_module": "@jupyter-widgets/base",
            "_view_module_version": "1.2.0",
            "_view_name": "LayoutView",
            "align_content": null,
            "align_items": null,
            "align_self": null,
            "border": null,
            "bottom": null,
            "display": null,
            "flex": null,
            "flex_flow": null,
            "grid_area": null,
            "grid_auto_columns": null,
            "grid_auto_flow": null,
            "grid_auto_rows": null,
            "grid_column": null,
            "grid_gap": null,
            "grid_row": null,
            "grid_template_areas": null,
            "grid_template_columns": null,
            "grid_template_rows": null,
            "height": null,
            "justify_content": null,
            "justify_items": null,
            "left": null,
            "margin": null,
            "max_height": null,
            "max_width": null,
            "min_height": null,
            "min_width": null,
            "object_fit": null,
            "object_position": null,
            "order": null,
            "overflow": null,
            "overflow_x": null,
            "overflow_y": null,
            "padding": null,
            "right": null,
            "top": null,
            "visibility": null,
            "width": null
          }
        },
        "3fcbfdeecf184025b50d679c2537cd8a": {
          "model_module": "@jupyter-widgets/controls",
          "model_name": "IntSliderModel",
          "model_module_version": "1.5.0",
          "state": {
            "_dom_classes": [],
            "_model_module": "@jupyter-widgets/controls",
            "_model_module_version": "1.5.0",
            "_model_name": "IntSliderModel",
            "_view_count": null,
            "_view_module": "@jupyter-widgets/controls",
            "_view_module_version": "1.5.0",
            "_view_name": "IntSliderView",
            "continuous_update": true,
            "description": "Axial slice:",
            "description_tooltip": null,
            "disabled": false,
            "layout": "IPY_MODEL_e8bdd2c8731943d5a7118d377eb6326f",
            "max": 89,
            "min": 0,
            "orientation": "horizontal",
            "readout": true,
            "readout_format": "d",
            "step": 1,
            "style": "IPY_MODEL_a2de3067ee0740d8abaa23247f7abd10",
            "value": 81
          }
        },
        "7e1f2c9463954bcf887a29a74a9761ac": {
          "model_module": "@jupyter-widgets/output",
          "model_name": "OutputModel",
          "model_module_version": "1.0.0",
          "state": {
            "_dom_classes": [],
            "_model_module": "@jupyter-widgets/output",
            "_model_module_version": "1.0.0",
            "_model_name": "OutputModel",
            "_view_count": null,
            "_view_module": "@jupyter-widgets/output",
            "_view_module_version": "1.0.0",
            "_view_name": "OutputView",
            "layout": "IPY_MODEL_d0657a3bdc154244b7ed5d0f2fc174a3",
            "msg_id": "",
            "outputs": [
              {
                "output_type": "display_data",
                "data": {
                  "text/plain": "<Figure size 800x800 with 1 Axes>",
                  "image/png": "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\n"
                },
                "metadata": {
                  "needs_background": "light"
                }
              }
            ]
          }
        },
        "fb3dd16a007f48e4af81943399f642bc": {
          "model_module": "@jupyter-widgets/base",
          "model_name": "LayoutModel",
          "model_module_version": "1.2.0",
          "state": {
            "_model_module": "@jupyter-widgets/base",
            "_model_module_version": "1.2.0",
            "_model_name": "LayoutModel",
            "_view_count": null,
            "_view_module": "@jupyter-widgets/base",
            "_view_module_version": "1.2.0",
            "_view_name": "LayoutView",
            "align_content": null,
            "align_items": null,
            "align_self": null,
            "border": null,
            "bottom": null,
            "display": null,
            "flex": null,
            "flex_flow": null,
            "grid_area": null,
            "grid_auto_columns": null,
            "grid_auto_flow": null,
            "grid_auto_rows": null,
            "grid_column": null,
            "grid_gap": null,
            "grid_row": null,
            "grid_template_areas": null,
            "grid_template_columns": null,
            "grid_template_rows": null,
            "height": null,
            "justify_content": null,
            "justify_items": null,
            "left": null,
            "margin": null,
            "max_height": null,
            "max_width": null,
            "min_height": null,
            "min_width": null,
            "object_fit": null,
            "object_position": null,
            "order": null,
            "overflow": null,
            "overflow_x": null,
            "overflow_y": null,
            "padding": null,
            "right": null,
            "top": null,
            "visibility": null,
            "width": null
          }
        },
        "e8bdd2c8731943d5a7118d377eb6326f": {
          "model_module": "@jupyter-widgets/base",
          "model_name": "LayoutModel",
          "model_module_version": "1.2.0",
          "state": {
            "_model_module": "@jupyter-widgets/base",
            "_model_module_version": "1.2.0",
            "_model_name": "LayoutModel",
            "_view_count": null,
            "_view_module": "@jupyter-widgets/base",
            "_view_module_version": "1.2.0",
            "_view_name": "LayoutView",
            "align_content": null,
            "align_items": null,
            "align_self": null,
            "border": null,
            "bottom": null,
            "display": null,
            "flex": null,
            "flex_flow": null,
            "grid_area": null,
            "grid_auto_columns": null,
            "grid_auto_flow": null,
            "grid_auto_rows": null,
            "grid_column": null,
            "grid_gap": null,
            "grid_row": null,
            "grid_template_areas": null,
            "grid_template_columns": null,
            "grid_template_rows": null,
            "height": null,
            "justify_content": null,
            "justify_items": null,
            "left": null,
            "margin": null,
            "max_height": null,
            "max_width": null,
            "min_height": null,
            "min_width": null,
            "object_fit": null,
            "object_position": null,
            "order": null,
            "overflow": null,
            "overflow_x": null,
            "overflow_y": null,
            "padding": null,
            "right": null,
            "top": null,
            "visibility": null,
            "width": null
          }
        },
        "a2de3067ee0740d8abaa23247f7abd10": {
          "model_module": "@jupyter-widgets/controls",
          "model_name": "SliderStyleModel",
          "model_module_version": "1.5.0",
          "state": {
            "_model_module": "@jupyter-widgets/controls",
            "_model_module_version": "1.5.0",
            "_model_name": "SliderStyleModel",
            "_view_count": null,
            "_view_module": "@jupyter-widgets/base",
            "_view_module_version": "1.2.0",
            "_view_name": "StyleView",
            "description_width": "",
            "handle_color": null
          }
        },
        "d0657a3bdc154244b7ed5d0f2fc174a3": {
          "model_module": "@jupyter-widgets/base",
          "model_name": "LayoutModel",
          "model_module_version": "1.2.0",
          "state": {
            "_model_module": "@jupyter-widgets/base",
            "_model_module_version": "1.2.0",
            "_model_name": "LayoutModel",
            "_view_count": null,
            "_view_module": "@jupyter-widgets/base",
            "_view_module_version": "1.2.0",
            "_view_name": "LayoutView",
            "align_content": null,
            "align_items": null,
            "align_self": null,
            "border": null,
            "bottom": null,
            "display": null,
            "flex": null,
            "flex_flow": null,
            "grid_area": null,
            "grid_auto_columns": null,
            "grid_auto_flow": null,
            "grid_auto_rows": null,
            "grid_column": null,
            "grid_gap": null,
            "grid_row": null,
            "grid_template_areas": null,
            "grid_template_columns": null,
            "grid_template_rows": null,
            "height": null,
            "justify_content": null,
            "justify_items": null,
            "left": null,
            "margin": null,
            "max_height": null,
            "max_width": null,
            "min_height": null,
            "min_width": null,
            "object_fit": null,
            "object_position": null,
            "order": null,
            "overflow": null,
            "overflow_x": null,
            "overflow_y": null,
            "padding": null,
            "right": null,
            "top": null,
            "visibility": null,
            "width": null
          }
        }
      }
    }
  },
  "nbformat": 4,
  "nbformat_minor": 0
}