{
  "cells": [
    {
      "cell_type": "markdown",
      "metadata": {
        "id": "view-in-github",
        "colab_type": "text"
      },
      "source": [
        "<a href=\"https://colab.research.google.com/github/AIM-Harvard/aimi_alpha/blob/main/aimi/totalsegmentator/notebooks/totalseg_mwe.ipynb\" target=\"_parent\"><img src=\"https://colab.research.google.com/assets/colab-badge.svg\" alt=\"Open In Colab\"/></a>"
      ]
    },
    {
      "cell_type": "markdown",
      "metadata": {
        "id": "Pmb_HiJv7Sit"
      },
      "source": [
        "# **ModelHub - Cardiac Substructures Segmentation**\n",
        "\n",
        "This notebook provides an example of how to run an end-to-end (cloud-based) data analysis using the PlatiPy hybrid cardiac substructures segmentation pipeline.\n",
        "\n",
        "The way all the operations are executed - from pulling data to data postprocessing and the standardisation of the results - have the goal of promoting transparency and reproducibility."
      ]
    },
    {
      "cell_type": "markdown",
      "metadata": {
        "id": "CZnoRi9Y7nEB"
      },
      "source": [
        "## **Environment Setup**\n",
        "\n",
        "This demo notebook is intended to be run using a GPU.\n",
        "\n",
        "To access a free GPU on Colab:\n",
        "`Edit > Notebooks Settings`.\n",
        "\n",
        "From the dropdown menu under `Hardware accelerator`, select `GPU`. Let's check the Colab instance is indeed equipped with a GPU."
      ]
    },
    {
      "cell_type": "code",
      "execution_count": 1,
      "metadata": {
        "colab": {
          "base_uri": "https://localhost:8080/"
        },
        "id": "non5qVLIcG4M",
        "outputId": "5f8dad34-0dc5-4bb5-d792-7f8c4ab2bbb3"
      },
      "outputs": [
        {
          "output_type": "stream",
          "name": "stdout",
          "text": [
            "Thu Sep 22 13:11:14 2022\n",
            "\n",
            "Current directory : /content\n",
            "Hostname          : 830878fa2922\n",
            "Username          : root\n",
            "Python version    : 3.7.14 (default, Sep  8 2022, 00:06:44) \n"
          ]
        }
      ],
      "source": [
        "import os\n",
        "import sys\n",
        "import shutil\n",
        "\n",
        "import yaml\n",
        "\n",
        "import time\n",
        "import tqdm\n",
        "\n",
        "\n",
        "# useful information\n",
        "curr_dir = !pwd\n",
        "curr_droid = !hostname\n",
        "curr_pilot = !whoami\n",
        "\n",
        "print(time.asctime(time.localtime()))\n",
        "\n",
        "print(\"\\nCurrent directory :\", curr_dir[-1])\n",
        "print(\"Hostname          :\", curr_droid[-1])\n",
        "print(\"Username          :\", curr_pilot[-1])\n",
        "\n",
        "print(\"Python version    :\", sys.version.split('\\n')[0])"
      ]
    },
    {
      "cell_type": "markdown",
      "source": [
        "The authentication to Google is necessary to run BigQuery queries.\n",
        "\n",
        "Every operation throughout the whole notebook (BigQuery, fetching data from the IDC buckets) is completely free. The only thing that is needed in order to run the notebook is the set-up of a Google Cloud project. In order for the notebook to work as intended, you will need to specify the name of the project in the cell after the authentication one."
      ],
      "metadata": {
        "id": "0PKq2z2jkVJz"
      }
    },
    {
      "cell_type": "code",
      "execution_count": 2,
      "metadata": {
        "id": "2DMUqTOVF5WP"
      },
      "outputs": [],
      "source": [
        "from google.colab import auth\n",
        "auth.authenticate_user()"
      ]
    },
    {
      "cell_type": "code",
      "execution_count": 3,
      "metadata": {
        "id": "9Y43S1F35h8m"
      },
      "outputs": [],
      "source": [
        "from google.colab import files\n",
        "from google.cloud import storage\n",
        "from google.cloud import bigquery as bq\n",
        "\n",
        "# INSERT THE ID OF YOUR PROJECT HERE!\n",
        "project_id = \"idc-sandbox-000\""
      ]
    },
    {
      "cell_type": "markdown",
      "metadata": {
        "id": "oT7coYaGfd4t"
      },
      "source": [
        "Throughout this Colab notebook, for image pre-processing we will use [Plastimatch](https://plastimatch.org), a reliable and open source software for image computation. We will be running Plastimatch using the simple [PyPlastimatch](https://github.com/AIM-Harvard/pyplastimatch/tree/main/pyplastimatch) python wrapper. "
      ]
    },
    {
      "cell_type": "code",
      "execution_count": 4,
      "metadata": {
        "id": "6NLhlFqyEgBf"
      },
      "outputs": [],
      "source": [
        "%%capture\n",
        "!apt install plastimatch"
      ]
    },
    {
      "cell_type": "code",
      "execution_count": 5,
      "metadata": {
        "colab": {
          "base_uri": "https://localhost:8080/"
        },
        "id": "_ILwxgbcfcpr",
        "outputId": "4960293b-c100-4785-8967-e6cff8851d8b"
      },
      "outputs": [
        {
          "output_type": "stream",
          "name": "stdout",
          "text": [
            "plastimatch version 1.7.0\n"
          ]
        }
      ],
      "source": [
        "# check plastimatch was correctly installed\n",
        "!plastimatch --version"
      ]
    },
    {
      "cell_type": "markdown",
      "source": [
        "---\n",
        "\n",
        "Start by cloning the AIMI hub repository on the Colab instance.\n",
        "\n",
        "The AIMI hub repository stores all the code we will use for pulling, preprocessing, processing, and postprocessing the data for this use case - as long as the others shared through AIMI hub."
      ],
      "metadata": {
        "id": "MrNlgYZJIxkf"
      }
    },
    {
      "cell_type": "code",
      "source": [
        "!git clone https://github.com/AIM-Harvard/aimi_alpha.git aimi"
      ],
      "metadata": {
        "colab": {
          "base_uri": "https://localhost:8080/"
        },
        "id": "y5lBiCWMJF9d",
        "outputId": "38d3491d-1358-4134-b446-a1f41920d34c"
      },
      "execution_count": 6,
      "outputs": [
        {
          "output_type": "stream",
          "name": "stdout",
          "text": [
            "Cloning into 'aimi'...\n",
            "remote: Enumerating objects: 247, done.\u001b[K\n",
            "remote: Counting objects: 100% (247/247), done.\u001b[K\n",
            "remote: Compressing objects: 100% (185/185), done.\u001b[K\n",
            "remote: Total 247 (delta 132), reused 116 (delta 44), pack-reused 0\u001b[K\n",
            "Receiving objects: 100% (247/247), 2.37 MiB | 10.55 MiB/s, done.\n",
            "Resolving deltas: 100% (132/132), done.\n"
          ]
        }
      ]
    },
    {
      "cell_type": "markdown",
      "source": [
        "To organise the DICOM data in a more common (and human-understandable) fashion after downloading those from the buckets, we will make use of [DICOMSort](https://github.com/pieper/dicomsort). \n",
        "\n",
        "DICOMSort is an open source tool for custom sorting and renaming of dicom files based on their specific DICOM tags. In our case, we will exploit DICOMSort to organise the DICOM data by `PatientID` and `Modality` - so that the final directory will look like the following:\n",
        "\n",
        "```\n",
        "data/raw/nsclc-radiomics/dicom/$PatientID\n",
        " └─── CT\n",
        "       ├─── $SOPInstanceUID_slice0.dcm\n",
        "       ├─── $SOPInstanceUID_slice1.dcm\n",
        "       ├───  ...\n",
        "       │\n",
        "      RTSTRUCT \n",
        "       ├─── $SOPInstanceUID_RTSTRUCT.dcm\n",
        "      SEG\n",
        "       └─── $SOPInstanceUID_RTSEG.dcm\n",
        "\n",
        "```"
      ],
      "metadata": {
        "id": "Pcj1hYK7lzmA"
      }
    },
    {
      "cell_type": "code",
      "source": [
        "!git clone https://github.com/pieper/dicomsort dicomsort"
      ],
      "metadata": {
        "colab": {
          "base_uri": "https://localhost:8080/"
        },
        "id": "Py53FxrlD9eK",
        "outputId": "4a2be830-e8f2-4fc8-c45a-90afb27cef86"
      },
      "execution_count": 7,
      "outputs": [
        {
          "output_type": "stream",
          "name": "stdout",
          "text": [
            "Cloning into 'dicomsort'...\n",
            "remote: Enumerating objects: 130, done.\u001b[K\n",
            "remote: Counting objects: 100% (4/4), done.\u001b[K\n",
            "remote: Compressing objects: 100% (4/4), done.\u001b[K\n",
            "remote: Total 130 (delta 0), reused 1 (delta 0), pack-reused 126\u001b[K\n",
            "Receiving objects: 100% (130/130), 44.12 KiB | 4.90 MiB/s, done.\n",
            "Resolving deltas: 100% (63/63), done.\n"
          ]
        }
      ]
    },
    {
      "cell_type": "markdown",
      "metadata": {
        "id": "7ztrKrzSm1WT"
      },
      "source": [
        "We will also use DCMQI for converting the resulting segmentation into standard DICOM SEG objects."
      ]
    },
    {
      "cell_type": "code",
      "execution_count": 8,
      "metadata": {
        "id": "iYf72nA8m0wh"
      },
      "outputs": [],
      "source": [
        "%%capture\n",
        "dcmqi_release_url = \"https://github.com/QIICR/dcmqi/releases/download/v1.2.4/dcmqi-1.2.4-linux.tar.gz\"\n",
        "dcmqi_download_path = \"/content/dcmqi-1.2.4-linux.tar.gz\"\n",
        "dcmqi_path = \"/content/dcmqi-1.2.4-linux\"\n",
        "\n",
        "!wget -O $dcmqi_download_path $dcmqi_release_url\n",
        "\n",
        "!tar -xvf $dcmqi_download_path\n",
        "\n",
        "!mv $dcmqi_path/bin/* /bin"
      ]
    },
    {
      "cell_type": "markdown",
      "metadata": {
        "id": "4JBJmF7rmz1S"
      },
      "source": [
        "---"
      ]
    },
    {
      "cell_type": "code",
      "execution_count": 9,
      "metadata": {
        "id": "CthT1kRuywEh"
      },
      "outputs": [],
      "source": [
        "%%capture\n",
        "!pip install pyplastimatch nnunet ipywidgets\n",
        "!pip install TotalSegmentator"
      ]
    },
    {
      "cell_type": "code",
      "source": [
        "import shutil\n",
        "import random\n",
        "\n",
        "import json\n",
        "import pprint\n",
        "import numpy as np\n",
        "import pandas as pd\n",
        "\n",
        "import pydicom\n",
        "import nibabel as nib\n",
        "import SimpleITK as sitk\n",
        "import pyplastimatch as pypla\n",
        "\n",
        "print(\"Python version               : \", sys.version.split('\\n')[0])\n",
        "print(\"Numpy version                : \", np.__version__)\n",
        "\n",
        "# ----------------------------------------\n",
        "\n",
        "#everything that has to do with plotting goes here below\n",
        "import matplotlib\n",
        "matplotlib.use(\"agg\")\n",
        "\n",
        "import matplotlib.pyplot as plt\n",
        "from matplotlib.colors import ListedColormap\n",
        "from matplotlib.patches import Patch\n",
        "\n",
        "%matplotlib inline\n",
        "%config InlineBackend.figure_format = \"png\"\n",
        "\n",
        "import ipywidgets as ipyw\n",
        "\n",
        "## ----------------------------------------\n",
        "\n",
        "# create new colormap appending the alpha channel to the selected one\n",
        "# (so that we don't get a \\\"color overlay\\\" when plotting the segmask superimposed to the CT)\n",
        "cmap = plt.cm.Reds\n",
        "my_reds = cmap(np.arange(cmap.N))\n",
        "my_reds[:, -1] = np.linspace(0, 1, cmap.N)\n",
        "my_reds = ListedColormap(my_reds)\n",
        "\n",
        "cmap = plt.cm.Greens\n",
        "my_greens = cmap(np.arange(cmap.N))\n",
        "my_greens[:, -1] = np.linspace(0, 1, cmap.N)\n",
        "my_greens = ListedColormap(my_greens)\n",
        "\n",
        "cmap = plt.cm.Blues\n",
        "my_blues = cmap(np.arange(cmap.N))\n",
        "my_blues[:, -1] = np.linspace(0, 1, cmap.N)\n",
        "my_blues = ListedColormap(my_blues)\n",
        "\n",
        "cmap = plt.cm.spring\n",
        "my_spring = cmap(np.arange(cmap.N))\n",
        "my_spring[:, -1] = np.linspace(0, 1, cmap.N)\n",
        "my_spring = ListedColormap(my_spring)\n",
        "## ----------------------------------------\n",
        "\n",
        "import seaborn as sns"
      ],
      "metadata": {
        "colab": {
          "base_uri": "https://localhost:8080/"
        },
        "id": "3euRfHl7pe2u",
        "outputId": "f571cace-c6f2-4bbb-b268-18fd68032eb5"
      },
      "execution_count": 10,
      "outputs": [
        {
          "output_type": "stream",
          "name": "stdout",
          "text": [
            "Python version               :  3.7.14 (default, Sep  8 2022, 00:06:44) \n",
            "Numpy version                :  1.21.6\n"
          ]
        }
      ]
    },
    {
      "cell_type": "markdown",
      "source": [
        "Provided everything was set up correctly, we can run the BigQuery query and get all the information we need to download the testing data from the IDC platform.\n",
        "\n",
        "For this specific use case, we are going to be working with the NSCLC-Radiomics collection (Chest CT scans of lung cancer patients, with manual delineation of various organs at risk)."
      ],
      "metadata": {
        "id": "aZOtlGtcmOq5"
      }
    },
    {
      "cell_type": "code",
      "source": [
        "%%bigquery --project=$project_id cohort_df\n",
        "\n",
        "SELECT\n",
        "  dicom_pivot_v11.PatientID,\n",
        "  dicom_pivot_v11.collection_id,\n",
        "  dicom_pivot_v11.source_DOI,\n",
        "  dicom_pivot_v11.StudyInstanceUID,\n",
        "  dicom_pivot_v11.SeriesInstanceUID,\n",
        "  dicom_pivot_v11.SOPInstanceUID,\n",
        "  dicom_pivot_v11.gcs_url\n",
        "FROM\n",
        "  `bigquery-public-data.idc_v11.dicom_pivot_v11` dicom_pivot_v11\n",
        "WHERE\n",
        "  StudyInstanceUID IN (\n",
        "    SELECT\n",
        "      StudyInstanceUID\n",
        "    FROM\n",
        "      `bigquery-public-data.idc_v11.dicom_pivot_v11` dicom_pivot_v11\n",
        "    WHERE\n",
        "      StudyInstanceUID IN (\n",
        "        SELECT\n",
        "          StudyInstanceUID\n",
        "        FROM\n",
        "          `bigquery-public-data.idc_v11.dicom_pivot_v11` dicom_pivot_v11\n",
        "        WHERE\n",
        "          (\n",
        "            LOWER(\n",
        "              dicom_pivot_v11.SegmentedPropertyTypeCodeSequence\n",
        "            ) LIKE LOWER('80891009:SCT')\n",
        "          )\n",
        "        GROUP BY\n",
        "          StudyInstanceUID\n",
        "        INTERSECT DISTINCT\n",
        "        SELECT\n",
        "          StudyInstanceUID\n",
        "        FROM\n",
        "          `bigquery-public-data.idc_v11.dicom_pivot_v11` dicom_pivot_v11\n",
        "        WHERE\n",
        "          (\n",
        "            dicom_pivot_v11.collection_id IN ('Community', 'nsclc_radiomics')\n",
        "          )\n",
        "        GROUP BY\n",
        "          StudyInstanceUID\n",
        "      )\n",
        "    GROUP BY\n",
        "      StudyInstanceUID\n",
        "  )\n",
        "GROUP BY\n",
        "  dicom_pivot_v11.PatientID,\n",
        "  dicom_pivot_v11.collection_id,\n",
        "  dicom_pivot_v11.source_DOI,\n",
        "  dicom_pivot_v11.StudyInstanceUID,\n",
        "  dicom_pivot_v11.SeriesInstanceUID,\n",
        "  dicom_pivot_v11.SOPInstanceUID,\n",
        "  dicom_pivot_v11.gcs_url\n",
        "ORDER BY\n",
        "  dicom_pivot_v11.PatientID ASC,\n",
        "  dicom_pivot_v11.collection_id ASC,\n",
        "  dicom_pivot_v11.source_DOI ASC,\n",
        "  dicom_pivot_v11.StudyInstanceUID ASC,\n",
        "  dicom_pivot_v11.SeriesInstanceUID ASC,\n",
        "  dicom_pivot_v11.SOPInstanceUID ASC,\n",
        "  dicom_pivot_v11.gcs_url ASC"
      ],
      "metadata": {
        "id": "_8hRj0E5FW0A"
      },
      "execution_count": 11,
      "outputs": []
    },
    {
      "cell_type": "code",
      "source": [
        "# this works as intended only if the BQ query parses data from a single dataset\n",
        "# if not, feel free to set the name manually!\n",
        "dataset_name = cohort_df[\"collection_id\"].values[0]\n",
        "\n",
        "dataset_name"
      ],
      "metadata": {
        "id": "oZApCCVLkZyb",
        "colab": {
          "base_uri": "https://localhost:8080/",
          "height": 36
        },
        "outputId": "2bc7f87c-4139-4b41-d6f4-b60dbecbee72"
      },
      "execution_count": 12,
      "outputs": [
        {
          "output_type": "execute_result",
          "data": {
            "text/plain": [
              "'nsclc_radiomics'"
            ],
            "application/vnd.google.colaboratory.intrinsic+json": {
              "type": "string"
            }
          },
          "metadata": {},
          "execution_count": 12
        }
      ]
    },
    {
      "cell_type": "code",
      "execution_count": 13,
      "metadata": {
        "id": "GNutD-SRN52T"
      },
      "outputs": [],
      "source": [
        "# create the directory tree\n",
        "!mkdir -p data models\n",
        "\n",
        "!mkdir -p data/raw \n",
        "!mkdir -p data/raw/tmp data/raw/$dataset_name\n",
        "!mkdir -p data/raw/$dataset_name/dicom\n",
        "\n",
        "!mkdir -p data/processed\n",
        "!mkdir -p data/processed/$dataset_name\n",
        "!mkdir -p data/processed/$dataset_name/nii\n",
        "!mkdir -p data/processed/$dataset_name/dicomseg\n",
        "\n",
        "!mkdir -p data/model_input/\n",
        "!mkdir -p data/totalsegmentator_output/"
      ]
    },
    {
      "cell_type": "markdown",
      "metadata": {
        "id": "0Qu6eXpHx6iV"
      },
      "source": [
        "## **Parsing Cohort Information from BigQuery Tables**\n",
        "\n",
        "We can check the various fields of the table we populated by running the BigQuery query.\n",
        "\n",
        "This table will store one entry for each DICOM file in the dataset (therefore, expect thousands of rows!)"
      ]
    },
    {
      "cell_type": "code",
      "execution_count": 14,
      "metadata": {
        "colab": {
          "base_uri": "https://localhost:8080/",
          "height": 982
        },
        "id": "V27IJihCi9Kv",
        "outputId": "d8cd3576-d489-42f4-e330-936dc177c7dc"
      },
      "outputs": [
        {
          "output_type": "stream",
          "name": "stdout",
          "text": [
            "Total number of unique Patient IDs: 127\n",
            "<class 'pandas.core.frame.DataFrame'>\n",
            "RangeIndex: 15678 entries, 0 to 15677\n",
            "Data columns (total 7 columns):\n",
            " #   Column             Non-Null Count  Dtype \n",
            "---  ------             --------------  ----- \n",
            " 0   PatientID          15678 non-null  object\n",
            " 1   collection_id      15678 non-null  object\n",
            " 2   source_DOI         15678 non-null  object\n",
            " 3   StudyInstanceUID   15678 non-null  object\n",
            " 4   SeriesInstanceUID  15678 non-null  object\n",
            " 5   SOPInstanceUID     15678 non-null  object\n",
            " 6   gcs_url            15678 non-null  object\n",
            "dtypes: object(7)\n",
            "memory usage: 857.5+ KB\n"
          ]
        },
        {
          "output_type": "display_data",
          "data": {
            "text/plain": [
              "None"
            ]
          },
          "metadata": {}
        },
        {
          "output_type": "display_data",
          "data": {
            "text/plain": [
              "   PatientID    collection_id                     source_DOI  \\\n",
              "0  LUNG1-002  nsclc_radiomics  10.7937/K9/TCIA.2015.PF0M9REI   \n",
              "1  LUNG1-002  nsclc_radiomics  10.7937/K9/TCIA.2015.PF0M9REI   \n",
              "2  LUNG1-002  nsclc_radiomics  10.7937/K9/TCIA.2015.PF0M9REI   \n",
              "3  LUNG1-002  nsclc_radiomics  10.7937/K9/TCIA.2015.PF0M9REI   \n",
              "4  LUNG1-002  nsclc_radiomics  10.7937/K9/TCIA.2015.PF0M9REI   \n",
              "\n",
              "                                    StudyInstanceUID  \\\n",
              "0  1.3.6.1.4.1.32722.99.99.2037150038059966416957...   \n",
              "1  1.3.6.1.4.1.32722.99.99.2037150038059966416957...   \n",
              "2  1.3.6.1.4.1.32722.99.99.2037150038059966416957...   \n",
              "3  1.3.6.1.4.1.32722.99.99.2037150038059966416957...   \n",
              "4  1.3.6.1.4.1.32722.99.99.2037150038059966416957...   \n",
              "\n",
              "                                   SeriesInstanceUID  \\\n",
              "0  1.2.276.0.7230010.3.1.3.2323910823.11504.15972...   \n",
              "1  1.3.6.1.4.1.32722.99.99.2329880015517990803358...   \n",
              "2  1.3.6.1.4.1.32722.99.99.2329880015517990803358...   \n",
              "3  1.3.6.1.4.1.32722.99.99.2329880015517990803358...   \n",
              "4  1.3.6.1.4.1.32722.99.99.2329880015517990803358...   \n",
              "\n",
              "                                      SOPInstanceUID  \\\n",
              "0  1.2.276.0.7230010.3.1.4.2323910823.11504.15972...   \n",
              "1  1.3.6.1.4.1.32722.99.99.1004190115743500844746...   \n",
              "2  1.3.6.1.4.1.32722.99.99.1031280376053401623619...   \n",
              "3  1.3.6.1.4.1.32722.99.99.1075071405629330534974...   \n",
              "4  1.3.6.1.4.1.32722.99.99.1125363119759695902111...   \n",
              "\n",
              "                                             gcs_url  \n",
              "0  gs://idc-open-cr/eff917af-8a2a-42fe-9e12-22bce...  \n",
              "1  gs://idc-open-cr/f8cbf725-621d-4e18-8326-41789...  \n",
              "2  gs://idc-open-cr/c73b3d12-78b1-4456-9a88-91ba2...  \n",
              "3  gs://idc-open-cr/48b4ae0a-6936-44b4-a6bd-27c92...  \n",
              "4  gs://idc-open-cr/3c36a30a-630b-4183-b87d-8a238...  "
            ],
            "text/html": [
              "\n",
              "  <div id=\"df-afd8bb76-1a55-45e0-9563-daa2488f493b\">\n",
              "    <div class=\"colab-df-container\">\n",
              "      <div>\n",
              "<style scoped>\n",
              "    .dataframe tbody tr th:only-of-type {\n",
              "        vertical-align: middle;\n",
              "    }\n",
              "\n",
              "    .dataframe tbody tr th {\n",
              "        vertical-align: top;\n",
              "    }\n",
              "\n",
              "    .dataframe thead th {\n",
              "        text-align: right;\n",
              "    }\n",
              "</style>\n",
              "<table border=\"1\" class=\"dataframe\">\n",
              "  <thead>\n",
              "    <tr style=\"text-align: right;\">\n",
              "      <th></th>\n",
              "      <th>PatientID</th>\n",
              "      <th>collection_id</th>\n",
              "      <th>source_DOI</th>\n",
              "      <th>StudyInstanceUID</th>\n",
              "      <th>SeriesInstanceUID</th>\n",
              "      <th>SOPInstanceUID</th>\n",
              "      <th>gcs_url</th>\n",
              "    </tr>\n",
              "  </thead>\n",
              "  <tbody>\n",
              "    <tr>\n",
              "      <th>0</th>\n",
              "      <td>LUNG1-002</td>\n",
              "      <td>nsclc_radiomics</td>\n",
              "      <td>10.7937/K9/TCIA.2015.PF0M9REI</td>\n",
              "      <td>1.3.6.1.4.1.32722.99.99.2037150038059966416957...</td>\n",
              "      <td>1.2.276.0.7230010.3.1.3.2323910823.11504.15972...</td>\n",
              "      <td>1.2.276.0.7230010.3.1.4.2323910823.11504.15972...</td>\n",
              "      <td>gs://idc-open-cr/eff917af-8a2a-42fe-9e12-22bce...</td>\n",
              "    </tr>\n",
              "    <tr>\n",
              "      <th>1</th>\n",
              "      <td>LUNG1-002</td>\n",
              "      <td>nsclc_radiomics</td>\n",
              "      <td>10.7937/K9/TCIA.2015.PF0M9REI</td>\n",
              "      <td>1.3.6.1.4.1.32722.99.99.2037150038059966416957...</td>\n",
              "      <td>1.3.6.1.4.1.32722.99.99.2329880015517990803358...</td>\n",
              "      <td>1.3.6.1.4.1.32722.99.99.1004190115743500844746...</td>\n",
              "      <td>gs://idc-open-cr/f8cbf725-621d-4e18-8326-41789...</td>\n",
              "    </tr>\n",
              "    <tr>\n",
              "      <th>2</th>\n",
              "      <td>LUNG1-002</td>\n",
              "      <td>nsclc_radiomics</td>\n",
              "      <td>10.7937/K9/TCIA.2015.PF0M9REI</td>\n",
              "      <td>1.3.6.1.4.1.32722.99.99.2037150038059966416957...</td>\n",
              "      <td>1.3.6.1.4.1.32722.99.99.2329880015517990803358...</td>\n",
              "      <td>1.3.6.1.4.1.32722.99.99.1031280376053401623619...</td>\n",
              "      <td>gs://idc-open-cr/c73b3d12-78b1-4456-9a88-91ba2...</td>\n",
              "    </tr>\n",
              "    <tr>\n",
              "      <th>3</th>\n",
              "      <td>LUNG1-002</td>\n",
              "      <td>nsclc_radiomics</td>\n",
              "      <td>10.7937/K9/TCIA.2015.PF0M9REI</td>\n",
              "      <td>1.3.6.1.4.1.32722.99.99.2037150038059966416957...</td>\n",
              "      <td>1.3.6.1.4.1.32722.99.99.2329880015517990803358...</td>\n",
              "      <td>1.3.6.1.4.1.32722.99.99.1075071405629330534974...</td>\n",
              "      <td>gs://idc-open-cr/48b4ae0a-6936-44b4-a6bd-27c92...</td>\n",
              "    </tr>\n",
              "    <tr>\n",
              "      <th>4</th>\n",
              "      <td>LUNG1-002</td>\n",
              "      <td>nsclc_radiomics</td>\n",
              "      <td>10.7937/K9/TCIA.2015.PF0M9REI</td>\n",
              "      <td>1.3.6.1.4.1.32722.99.99.2037150038059966416957...</td>\n",
              "      <td>1.3.6.1.4.1.32722.99.99.2329880015517990803358...</td>\n",
              "      <td>1.3.6.1.4.1.32722.99.99.1125363119759695902111...</td>\n",
              "      <td>gs://idc-open-cr/3c36a30a-630b-4183-b87d-8a238...</td>\n",
              "    </tr>\n",
              "  </tbody>\n",
              "</table>\n",
              "</div>\n",
              "      <button class=\"colab-df-convert\" onclick=\"convertToInteractive('df-afd8bb76-1a55-45e0-9563-daa2488f493b')\"\n",
              "              title=\"Convert this dataframe to an interactive table.\"\n",
              "              style=\"display:none;\">\n",
              "        \n",
              "  <svg xmlns=\"http://www.w3.org/2000/svg\" height=\"24px\"viewBox=\"0 0 24 24\"\n",
              "       width=\"24px\">\n",
              "    <path d=\"M0 0h24v24H0V0z\" fill=\"none\"/>\n",
              "    <path d=\"M18.56 5.44l.94 2.06.94-2.06 2.06-.94-2.06-.94-.94-2.06-.94 2.06-2.06.94zm-11 1L8.5 8.5l.94-2.06 2.06-.94-2.06-.94L8.5 2.5l-.94 2.06-2.06.94zm10 10l.94 2.06.94-2.06 2.06-.94-2.06-.94-.94-2.06-.94 2.06-2.06.94z\"/><path d=\"M17.41 7.96l-1.37-1.37c-.4-.4-.92-.59-1.43-.59-.52 0-1.04.2-1.43.59L10.3 9.45l-7.72 7.72c-.78.78-.78 2.05 0 2.83L4 21.41c.39.39.9.59 1.41.59.51 0 1.02-.2 1.41-.59l7.78-7.78 2.81-2.81c.8-.78.8-2.07 0-2.86zM5.41 20L4 18.59l7.72-7.72 1.47 1.35L5.41 20z\"/>\n",
              "  </svg>\n",
              "      </button>\n",
              "      \n",
              "  <style>\n",
              "    .colab-df-container {\n",
              "      display:flex;\n",
              "      flex-wrap:wrap;\n",
              "      gap: 12px;\n",
              "    }\n",
              "\n",
              "    .colab-df-convert {\n",
              "      background-color: #E8F0FE;\n",
              "      border: none;\n",
              "      border-radius: 50%;\n",
              "      cursor: pointer;\n",
              "      display: none;\n",
              "      fill: #1967D2;\n",
              "      height: 32px;\n",
              "      padding: 0 0 0 0;\n",
              "      width: 32px;\n",
              "    }\n",
              "\n",
              "    .colab-df-convert:hover {\n",
              "      background-color: #E2EBFA;\n",
              "      box-shadow: 0px 1px 2px rgba(60, 64, 67, 0.3), 0px 1px 3px 1px rgba(60, 64, 67, 0.15);\n",
              "      fill: #174EA6;\n",
              "    }\n",
              "\n",
              "    [theme=dark] .colab-df-convert {\n",
              "      background-color: #3B4455;\n",
              "      fill: #D2E3FC;\n",
              "    }\n",
              "\n",
              "    [theme=dark] .colab-df-convert:hover {\n",
              "      background-color: #434B5C;\n",
              "      box-shadow: 0px 1px 3px 1px rgba(0, 0, 0, 0.15);\n",
              "      filter: drop-shadow(0px 1px 2px rgba(0, 0, 0, 0.3));\n",
              "      fill: #FFFFFF;\n",
              "    }\n",
              "  </style>\n",
              "\n",
              "      <script>\n",
              "        const buttonEl =\n",
              "          document.querySelector('#df-afd8bb76-1a55-45e0-9563-daa2488f493b button.colab-df-convert');\n",
              "        buttonEl.style.display =\n",
              "          google.colab.kernel.accessAllowed ? 'block' : 'none';\n",
              "\n",
              "        async function convertToInteractive(key) {\n",
              "          const element = document.querySelector('#df-afd8bb76-1a55-45e0-9563-daa2488f493b');\n",
              "          const dataTable =\n",
              "            await google.colab.kernel.invokeFunction('convertToInteractive',\n",
              "                                                     [key], {});\n",
              "          if (!dataTable) return;\n",
              "\n",
              "          const docLinkHtml = 'Like what you see? Visit the ' +\n",
              "            '<a target=\"_blank\" href=https://colab.research.google.com/notebooks/data_table.ipynb>data table notebook</a>'\n",
              "            + ' to learn more about interactive tables.';\n",
              "          element.innerHTML = '';\n",
              "          dataTable['output_type'] = 'display_data';\n",
              "          await google.colab.output.renderOutput(dataTable, element);\n",
              "          const docLink = document.createElement('div');\n",
              "          docLink.innerHTML = docLinkHtml;\n",
              "          element.appendChild(docLink);\n",
              "        }\n",
              "      </script>\n",
              "    </div>\n",
              "  </div>\n",
              "  "
            ]
          },
          "metadata": {}
        }
      ],
      "source": [
        "pat_id_list = sorted(list(set(cohort_df[\"PatientID\"].values)))\n",
        "\n",
        "print(\"Total number of unique Patient IDs:\", len(pat_id_list))\n",
        "\n",
        "display(cohort_df.info())\n",
        "\n",
        "display(cohort_df.head())"
      ]
    },
    {
      "cell_type": "markdown",
      "metadata": {
        "id": "AolLtXOLVt7D"
      },
      "source": [
        "---\n",
        "\n",
        "## **Set Run Parameters**\n",
        "\n",
        "From this cell, we can configure the nnU-Net inference step - specifying, for instance, the type of model we want to run (among the four different models the framework provides), whether we want to use test time augmentation, or whether we want to export the soft probability maps of the segmentation masks.\n"
      ]
    },
    {
      "cell_type": "code",
      "execution_count": 15,
      "metadata": {
        "id": "TRmrt00589lv"
      },
      "outputs": [],
      "source": [
        "# FIXED PARAMETERS\n",
        "data_base_path = \"/content/data\"\n",
        "raw_base_path = \"/content/data/raw/tmp\"\n",
        "sorted_base_path = os.path.join(\"/content/data/raw/\", dataset_name, \"dicom\")\n",
        "\n",
        "processed_base_path = os.path.join(\"/content/data/processed/\", dataset_name)\n",
        "processed_nifti_path = os.path.join(processed_base_path, \"nii\")\n",
        "\n",
        "processed_dicomseg_path = os.path.join(processed_base_path, \"dicomseg\")\n",
        "\n",
        "model_input_folder = \"/content/data/model_input/\"\n",
        "model_output_folder = \"/content/data/totalsegmentator_output/\"\n",
        "\n",
        "dicomseg_json_path = \"/content/aimi/aimi/totalsegmentator/config/dicomseg_metadata.json\""
      ]
    },
    {
      "cell_type": "markdown",
      "metadata": {
        "id": "-n0qjPp1B_mv"
      },
      "source": [
        "## **Running the Analysis for a Single Patient**"
      ]
    },
    {
      "cell_type": "code",
      "source": [
        "import aimi.aimi as aimi\n",
        "\n",
        "from aimi import general_utils as aimi_utils\n",
        "from aimi import totalsegmentator as aimi_model"
      ],
      "metadata": {
        "id": "vPPZRieLM5K-"
      },
      "execution_count": 16,
      "outputs": []
    },
    {
      "cell_type": "markdown",
      "source": [
        "The following cells run all the processing pipeline, from pre-processing to post-processing."
      ],
      "metadata": {
        "id": "0pFSCy5HoOp_"
      }
    },
    {
      "cell_type": "code",
      "source": [
        "pat_id = random.choice(cohort_df[\"PatientID\"].values)\n",
        "pat_df = cohort_df[cohort_df[\"PatientID\"] == pat_id].reset_index(drop = True)\n",
        "\n",
        "display(pat_df.info())\n",
        "display(pat_df.head())"
      ],
      "metadata": {
        "colab": {
          "base_uri": "https://localhost:8080/",
          "height": 912
        },
        "id": "BTURQtGPgeQF",
        "outputId": "01dbbf40-7b33-447b-ec74-0d925818d5f8"
      },
      "execution_count": 17,
      "outputs": [
        {
          "output_type": "stream",
          "name": "stdout",
          "text": [
            "<class 'pandas.core.frame.DataFrame'>\n",
            "RangeIndex: 104 entries, 0 to 103\n",
            "Data columns (total 7 columns):\n",
            " #   Column             Non-Null Count  Dtype \n",
            "---  ------             --------------  ----- \n",
            " 0   PatientID          104 non-null    object\n",
            " 1   collection_id      104 non-null    object\n",
            " 2   source_DOI         104 non-null    object\n",
            " 3   StudyInstanceUID   104 non-null    object\n",
            " 4   SeriesInstanceUID  104 non-null    object\n",
            " 5   SOPInstanceUID     104 non-null    object\n",
            " 6   gcs_url            104 non-null    object\n",
            "dtypes: object(7)\n",
            "memory usage: 5.8+ KB\n"
          ]
        },
        {
          "output_type": "display_data",
          "data": {
            "text/plain": [
              "None"
            ]
          },
          "metadata": {}
        },
        {
          "output_type": "display_data",
          "data": {
            "text/plain": [
              "   PatientID    collection_id                     source_DOI  \\\n",
              "0  LUNG1-355  nsclc_radiomics  10.7937/K9/TCIA.2015.PF0M9REI   \n",
              "1  LUNG1-355  nsclc_radiomics  10.7937/K9/TCIA.2015.PF0M9REI   \n",
              "2  LUNG1-355  nsclc_radiomics  10.7937/K9/TCIA.2015.PF0M9REI   \n",
              "3  LUNG1-355  nsclc_radiomics  10.7937/K9/TCIA.2015.PF0M9REI   \n",
              "4  LUNG1-355  nsclc_radiomics  10.7937/K9/TCIA.2015.PF0M9REI   \n",
              "\n",
              "                                    StudyInstanceUID  \\\n",
              "0  1.3.6.1.4.1.32722.99.99.2637450287345712949340...   \n",
              "1  1.3.6.1.4.1.32722.99.99.2637450287345712949340...   \n",
              "2  1.3.6.1.4.1.32722.99.99.2637450287345712949340...   \n",
              "3  1.3.6.1.4.1.32722.99.99.2637450287345712949340...   \n",
              "4  1.3.6.1.4.1.32722.99.99.2637450287345712949340...   \n",
              "\n",
              "                                   SeriesInstanceUID  \\\n",
              "0  1.2.276.0.7230010.3.1.3.2323910823.11192.15972...   \n",
              "1  1.3.6.1.4.1.32722.99.99.1047379726618615859039...   \n",
              "2  1.3.6.1.4.1.32722.99.99.1047379726618615859039...   \n",
              "3  1.3.6.1.4.1.32722.99.99.1047379726618615859039...   \n",
              "4  1.3.6.1.4.1.32722.99.99.1047379726618615859039...   \n",
              "\n",
              "                                      SOPInstanceUID  \\\n",
              "0  1.2.276.0.7230010.3.1.4.2323910823.11192.15972...   \n",
              "1  1.3.6.1.4.1.32722.99.99.1015121484707197385457...   \n",
              "2  1.3.6.1.4.1.32722.99.99.1018583286797906874844...   \n",
              "3  1.3.6.1.4.1.32722.99.99.1035804194768725460776...   \n",
              "4  1.3.6.1.4.1.32722.99.99.1084659756242633708782...   \n",
              "\n",
              "                                             gcs_url  \n",
              "0  gs://idc-open-cr/09f598cd-e930-439b-8a40-8da73...  \n",
              "1  gs://idc-open-cr/a7a58dba-5044-412d-8864-a9f40...  \n",
              "2  gs://idc-open-cr/f315c3b9-edf6-4ea5-9155-e742f...  \n",
              "3  gs://idc-open-cr/bc4353a7-86de-412e-b519-bbbfb...  \n",
              "4  gs://idc-open-cr/d10e3860-9e3b-4250-a4b1-325ab...  "
            ],
            "text/html": [
              "\n",
              "  <div id=\"df-cb04be2d-54db-4522-9979-268a4dd85f94\">\n",
              "    <div class=\"colab-df-container\">\n",
              "      <div>\n",
              "<style scoped>\n",
              "    .dataframe tbody tr th:only-of-type {\n",
              "        vertical-align: middle;\n",
              "    }\n",
              "\n",
              "    .dataframe tbody tr th {\n",
              "        vertical-align: top;\n",
              "    }\n",
              "\n",
              "    .dataframe thead th {\n",
              "        text-align: right;\n",
              "    }\n",
              "</style>\n",
              "<table border=\"1\" class=\"dataframe\">\n",
              "  <thead>\n",
              "    <tr style=\"text-align: right;\">\n",
              "      <th></th>\n",
              "      <th>PatientID</th>\n",
              "      <th>collection_id</th>\n",
              "      <th>source_DOI</th>\n",
              "      <th>StudyInstanceUID</th>\n",
              "      <th>SeriesInstanceUID</th>\n",
              "      <th>SOPInstanceUID</th>\n",
              "      <th>gcs_url</th>\n",
              "    </tr>\n",
              "  </thead>\n",
              "  <tbody>\n",
              "    <tr>\n",
              "      <th>0</th>\n",
              "      <td>LUNG1-355</td>\n",
              "      <td>nsclc_radiomics</td>\n",
              "      <td>10.7937/K9/TCIA.2015.PF0M9REI</td>\n",
              "      <td>1.3.6.1.4.1.32722.99.99.2637450287345712949340...</td>\n",
              "      <td>1.2.276.0.7230010.3.1.3.2323910823.11192.15972...</td>\n",
              "      <td>1.2.276.0.7230010.3.1.4.2323910823.11192.15972...</td>\n",
              "      <td>gs://idc-open-cr/09f598cd-e930-439b-8a40-8da73...</td>\n",
              "    </tr>\n",
              "    <tr>\n",
              "      <th>1</th>\n",
              "      <td>LUNG1-355</td>\n",
              "      <td>nsclc_radiomics</td>\n",
              "      <td>10.7937/K9/TCIA.2015.PF0M9REI</td>\n",
              "      <td>1.3.6.1.4.1.32722.99.99.2637450287345712949340...</td>\n",
              "      <td>1.3.6.1.4.1.32722.99.99.1047379726618615859039...</td>\n",
              "      <td>1.3.6.1.4.1.32722.99.99.1015121484707197385457...</td>\n",
              "      <td>gs://idc-open-cr/a7a58dba-5044-412d-8864-a9f40...</td>\n",
              "    </tr>\n",
              "    <tr>\n",
              "      <th>2</th>\n",
              "      <td>LUNG1-355</td>\n",
              "      <td>nsclc_radiomics</td>\n",
              "      <td>10.7937/K9/TCIA.2015.PF0M9REI</td>\n",
              "      <td>1.3.6.1.4.1.32722.99.99.2637450287345712949340...</td>\n",
              "      <td>1.3.6.1.4.1.32722.99.99.1047379726618615859039...</td>\n",
              "      <td>1.3.6.1.4.1.32722.99.99.1018583286797906874844...</td>\n",
              "      <td>gs://idc-open-cr/f315c3b9-edf6-4ea5-9155-e742f...</td>\n",
              "    </tr>\n",
              "    <tr>\n",
              "      <th>3</th>\n",
              "      <td>LUNG1-355</td>\n",
              "      <td>nsclc_radiomics</td>\n",
              "      <td>10.7937/K9/TCIA.2015.PF0M9REI</td>\n",
              "      <td>1.3.6.1.4.1.32722.99.99.2637450287345712949340...</td>\n",
              "      <td>1.3.6.1.4.1.32722.99.99.1047379726618615859039...</td>\n",
              "      <td>1.3.6.1.4.1.32722.99.99.1035804194768725460776...</td>\n",
              "      <td>gs://idc-open-cr/bc4353a7-86de-412e-b519-bbbfb...</td>\n",
              "    </tr>\n",
              "    <tr>\n",
              "      <th>4</th>\n",
              "      <td>LUNG1-355</td>\n",
              "      <td>nsclc_radiomics</td>\n",
              "      <td>10.7937/K9/TCIA.2015.PF0M9REI</td>\n",
              "      <td>1.3.6.1.4.1.32722.99.99.2637450287345712949340...</td>\n",
              "      <td>1.3.6.1.4.1.32722.99.99.1047379726618615859039...</td>\n",
              "      <td>1.3.6.1.4.1.32722.99.99.1084659756242633708782...</td>\n",
              "      <td>gs://idc-open-cr/d10e3860-9e3b-4250-a4b1-325ab...</td>\n",
              "    </tr>\n",
              "  </tbody>\n",
              "</table>\n",
              "</div>\n",
              "      <button class=\"colab-df-convert\" onclick=\"convertToInteractive('df-cb04be2d-54db-4522-9979-268a4dd85f94')\"\n",
              "              title=\"Convert this dataframe to an interactive table.\"\n",
              "              style=\"display:none;\">\n",
              "        \n",
              "  <svg xmlns=\"http://www.w3.org/2000/svg\" height=\"24px\"viewBox=\"0 0 24 24\"\n",
              "       width=\"24px\">\n",
              "    <path d=\"M0 0h24v24H0V0z\" fill=\"none\"/>\n",
              "    <path d=\"M18.56 5.44l.94 2.06.94-2.06 2.06-.94-2.06-.94-.94-2.06-.94 2.06-2.06.94zm-11 1L8.5 8.5l.94-2.06 2.06-.94-2.06-.94L8.5 2.5l-.94 2.06-2.06.94zm10 10l.94 2.06.94-2.06 2.06-.94-2.06-.94-.94-2.06-.94 2.06-2.06.94z\"/><path d=\"M17.41 7.96l-1.37-1.37c-.4-.4-.92-.59-1.43-.59-.52 0-1.04.2-1.43.59L10.3 9.45l-7.72 7.72c-.78.78-.78 2.05 0 2.83L4 21.41c.39.39.9.59 1.41.59.51 0 1.02-.2 1.41-.59l7.78-7.78 2.81-2.81c.8-.78.8-2.07 0-2.86zM5.41 20L4 18.59l7.72-7.72 1.47 1.35L5.41 20z\"/>\n",
              "  </svg>\n",
              "      </button>\n",
              "      \n",
              "  <style>\n",
              "    .colab-df-container {\n",
              "      display:flex;\n",
              "      flex-wrap:wrap;\n",
              "      gap: 12px;\n",
              "    }\n",
              "\n",
              "    .colab-df-convert {\n",
              "      background-color: #E8F0FE;\n",
              "      border: none;\n",
              "      border-radius: 50%;\n",
              "      cursor: pointer;\n",
              "      display: none;\n",
              "      fill: #1967D2;\n",
              "      height: 32px;\n",
              "      padding: 0 0 0 0;\n",
              "      width: 32px;\n",
              "    }\n",
              "\n",
              "    .colab-df-convert:hover {\n",
              "      background-color: #E2EBFA;\n",
              "      box-shadow: 0px 1px 2px rgba(60, 64, 67, 0.3), 0px 1px 3px 1px rgba(60, 64, 67, 0.15);\n",
              "      fill: #174EA6;\n",
              "    }\n",
              "\n",
              "    [theme=dark] .colab-df-convert {\n",
              "      background-color: #3B4455;\n",
              "      fill: #D2E3FC;\n",
              "    }\n",
              "\n",
              "    [theme=dark] .colab-df-convert:hover {\n",
              "      background-color: #434B5C;\n",
              "      box-shadow: 0px 1px 3px 1px rgba(0, 0, 0, 0.15);\n",
              "      filter: drop-shadow(0px 1px 2px rgba(0, 0, 0, 0.3));\n",
              "      fill: #FFFFFF;\n",
              "    }\n",
              "  </style>\n",
              "\n",
              "      <script>\n",
              "        const buttonEl =\n",
              "          document.querySelector('#df-cb04be2d-54db-4522-9979-268a4dd85f94 button.colab-df-convert');\n",
              "        buttonEl.style.display =\n",
              "          google.colab.kernel.accessAllowed ? 'block' : 'none';\n",
              "\n",
              "        async function convertToInteractive(key) {\n",
              "          const element = document.querySelector('#df-cb04be2d-54db-4522-9979-268a4dd85f94');\n",
              "          const dataTable =\n",
              "            await google.colab.kernel.invokeFunction('convertToInteractive',\n",
              "                                                     [key], {});\n",
              "          if (!dataTable) return;\n",
              "\n",
              "          const docLinkHtml = 'Like what you see? Visit the ' +\n",
              "            '<a target=\"_blank\" href=https://colab.research.google.com/notebooks/data_table.ipynb>data table notebook</a>'\n",
              "            + ' to learn more about interactive tables.';\n",
              "          element.innerHTML = '';\n",
              "          dataTable['output_type'] = 'display_data';\n",
              "          await google.colab.output.renderOutput(dataTable, element);\n",
              "          const docLink = document.createElement('div');\n",
              "          docLink.innerHTML = docLinkHtml;\n",
              "          element.appendChild(docLink);\n",
              "        }\n",
              "      </script>\n",
              "    </div>\n",
              "  </div>\n",
              "  "
            ]
          },
          "metadata": {}
        }
      ]
    },
    {
      "cell_type": "code",
      "source": [
        "# init\n",
        "\n",
        "print(\"Processing patient: %s\"%(pat_id))\n",
        "\n",
        "patient_df = cohort_df[cohort_df[\"PatientID\"] == pat_id]\n",
        "\n",
        "dicomseg_fn = pat_id + \"_SEG.dcm\"\n",
        "\n",
        "input_nifti_fn = pat_id + \".nii.gz\"\n",
        "input_nifti_path = os.path.join(model_input_folder, input_nifti_fn)\n",
        "\n",
        "pred_nifti_fn = pat_id + \".nii.gz\"\n",
        "pred_nifti_path = os.path.join(model_output_folder, pred_nifti_fn)\n",
        "\n",
        "pred_softmax_folder_name = \"pred_softmax\"\n",
        "pred_softmax_folder_path = os.path.join(processed_nifti_path, pat_id, pred_softmax_folder_name)"
      ],
      "metadata": {
        "colab": {
          "base_uri": "https://localhost:8080/"
        },
        "id": "S7a6h_iINlvq",
        "outputId": "620d20ce-4c2c-475a-e53b-5204084d31f7"
      },
      "execution_count": 18,
      "outputs": [
        {
          "output_type": "stream",
          "name": "stdout",
          "text": [
            "Processing patient: LUNG1-355\n"
          ]
        }
      ]
    },
    {
      "cell_type": "code",
      "source": [
        "# data cross-loading\n",
        "aimi_utils.gcs.download_patient_data(raw_base_path = raw_base_path,\n",
        "                                     sorted_base_path = sorted_base_path,\n",
        "                                     patient_df = patient_df,\n",
        "                                     remove_raw = True)"
      ],
      "metadata": {
        "colab": {
          "base_uri": "https://localhost:8080/"
        },
        "id": "NZDxWkvCNlxw",
        "outputId": "69702680-0b06-4e5a-a64c-f199ffdeb560"
      },
      "execution_count": 19,
      "outputs": [
        {
          "output_type": "stream",
          "name": "stdout",
          "text": [
            "Copying files from IDC buckets to /content/data/raw/tmp/LUNG1-355...\n",
            "Done in 8.41874 seconds.\n",
            "\n",
            "Sorting DICOM files...\n",
            "Done in 1.33061 seconds.\n",
            "Sorted DICOM data saved at: /content/data/raw/nsclc_radiomics/dicom/LUNG1-355\n",
            "Removing un-sorted data at /content/data/raw/tmp/LUNG1-355...\n",
            "... Done.\n"
          ]
        }
      ]
    },
    {
      "cell_type": "code",
      "source": [
        "# DICOM CT to NIfTI - required for the processing\n",
        "aimi_utils.preprocessing.pypla_dicom_ct_to_nifti(sorted_base_path = sorted_base_path,\n",
        "                                                 processed_nifti_path = processed_nifti_path,\n",
        "                                                 pat_id = pat_id, verbose = True)"
      ],
      "metadata": {
        "colab": {
          "base_uri": "https://localhost:8080/"
        },
        "id": "FfsY-_EGNs19",
        "outputId": "fe36094f-62f9-45e6-c9f6-d2ae8cf319ff"
      },
      "execution_count": 20,
      "outputs": [
        {
          "output_type": "stream",
          "name": "stdout",
          "text": [
            "\n",
            "Running 'plastimatch convert' with the specified arguments:\n",
            "  --input /content/data/raw/nsclc_radiomics/dicom/LUNG1-355/CT\n",
            "  --output-img /content/data/processed/nsclc_radiomics/nii/LUNG1-355/LUNG1-355_CT.nii.gz\n",
            "... Done.\n"
          ]
        }
      ]
    },
    {
      "cell_type": "code",
      "source": [
        "# prepare the `model_input` folder for the inference phase\n",
        "aimi_utils.preprocessing.prep_input_data(processed_nifti_path = processed_nifti_path,\n",
        "                                         model_input_folder = model_input_folder,\n",
        "                                         pat_id = pat_id)"
      ],
      "metadata": {
        "colab": {
          "base_uri": "https://localhost:8080/"
        },
        "id": "0R547UiyNs4O",
        "outputId": "3a7dfb1a-984d-488b-d548-c8f600086147"
      },
      "execution_count": 21,
      "outputs": [
        {
          "output_type": "stream",
          "name": "stdout",
          "text": [
            "Copying /content/data/processed/nsclc_radiomics/nii/LUNG1-355/LUNG1-355_CT.nii.gz\n",
            "to /content/data/model_input/LUNG1-355_0000.nii.gz...\n",
            "... Done.\n"
          ]
        }
      ]
    },
    {
      "cell_type": "markdown",
      "source": [
        "The following cell runs the hybrid cardiac segmentation.\n",
        "\n",
        "Note that this operation can take up to 15 minutes:\n",
        "*   The first step, dealing with whole heart segmentation via a custom nnU-Net model, runs on the GPU and is usually pretty fast (~2 minutes);\n",
        "*   The second step, fitting the atlas to the target data, is CPU bound (and not really efficient nor multi-threaded) and it will take most of the time (~10 minutes);\n",
        "*   To the above two, the user needs to add the time to download all the necessary models for the pipeline to run.\n",
        "\n"
      ],
      "metadata": {
        "id": "LYlxAj05gY6w"
      }
    },
    {
      "cell_type": "code",
      "source": [
        "aimi_model.utils.processing.process_patient(pat_id = pat_id,\n",
        "                                            model_input_folder = model_input_folder,\n",
        "                                            model_output_folder = model_output_folder)"
      ],
      "metadata": {
        "id": "9Lw70nH9wlD9",
        "colab": {
          "base_uri": "https://localhost:8080/"
        },
        "outputId": "bfb57fc5-d264-4007-eeea-f37b13ff7773"
      },
      "execution_count": 22,
      "outputs": [
        {
          "output_type": "stream",
          "name": "stdout",
          "text": [
            "Running TotalSegmentator in default mode (1.5mm)\n",
            "Done in 530.68 seconds.\n"
          ]
        }
      ]
    },
    {
      "cell_type": "markdown",
      "source": [
        "---\n",
        "\n",
        "For the sake of this use case, keep only the cardiac structures segmented by TotalSegmentator.\n"
      ],
      "metadata": {
        "id": "yf08ZiR9LeOJ"
      }
    },
    {
      "cell_type": "code",
      "source": [
        "processed_seg_folder = os.path.join(processed_nifti_path, pat_id, \"totalsegmentator\")\n",
        "\n",
        "shutil.copytree(model_output_folder, processed_seg_folder)\n",
        "\n",
        "# keep only the cardiac structures for the sake of this use case\n",
        "structures_to_keep = [\"aorta\",\n",
        "                      \"pulmonary_artery\",\n",
        "                      \"heart_atrium_left\",\n",
        "                      \"heart_atrium_right\",\n",
        "                      \"heart_ventricle_left\",\n",
        "                      \"heart_ventricle_right\",\n",
        "                      \"inferior_vena_cava\"]\n",
        "\n",
        "nifti_to_keep = [os.path.join(processed_seg_folder, f + \".nii.gz\") for f in structures_to_keep]"
      ],
      "metadata": {
        "id": "vsViIeibKLb4"
      },
      "execution_count": 39,
      "outputs": []
    },
    {
      "cell_type": "code",
      "source": [
        "for f in os.listdir(processed_seg_folder):\n",
        "  path_to_file = os.path.join(processed_seg_folder, f)\n",
        "\n",
        "  if path_to_file not in nifti_to_keep:\n",
        "    os.remove(path_to_file)"
      ],
      "metadata": {
        "id": "4UwDi-SneHww"
      },
      "execution_count": 48,
      "outputs": []
    },
    {
      "cell_type": "code",
      "source": [
        "aimi_model.utils.postprocessing.nifti_to_dicomseg(sorted_base_path = sorted_base_path,\n",
        "                                                  processed_base_path = processed_base_path,\n",
        "                                                  dicomseg_json_path = dicomseg_json_path,\n",
        "                                                  pat_id = pat_id)"
      ],
      "metadata": {
        "id": "-4vilcX1KLiI"
      },
      "execution_count": 50,
      "outputs": []
    },
    {
      "cell_type": "markdown",
      "source": [
        "---"
      ],
      "metadata": {
        "id": "But1jZOmo1YN"
      }
    },
    {
      "cell_type": "code",
      "source": [
        "from pyplastimatch.utils import viz as viz_utils"
      ],
      "metadata": {
        "id": "SPAivMyyqReY"
      },
      "execution_count": 51,
      "outputs": []
    },
    {
      "cell_type": "code",
      "source": [
        "processed_nifti_path = os.path.join(processed_base_path, \"nii\")\n",
        "\n",
        "ct_nifti_path = os.path.join(processed_nifti_path, pat_id, pat_id + \"_CT.nii.gz\")\n",
        "platipy_output_folder = os.path.join(processed_nifti_path, pat_id, \"totalsegmentator\")\n",
        "\n",
        "\"\"\"\n",
        "alternative way of loading the resulting NIfTI files\n",
        "nibabel can sometimes take better care of the orientation of the\n",
        "converted/segmented images, but will orient the data differently by default\n",
        "\"\"\"\n",
        "\n",
        "#ct_nii = nib.load(ct_nii_path).dataobj\n",
        "#seg_nii = nib.load(seg_nii_path).dataobj\n",
        "\n",
        "ct_nii = sitk.GetArrayFromImage(sitk.ReadImage(ct_nifti_path))\n",
        "\n",
        "pred_struct_list = [struct for struct in sorted(os.listdir(platipy_output_folder)) if \"CN_\" not in struct]\n",
        "pred_struct_names_list = [struct.split(\".nii\")[0] for struct in pred_struct_list]\n",
        "\n",
        "pred_segmasks_nifti_list = [os.path.join(platipy_output_folder, struct) for struct in pred_struct_list]\n",
        "\n",
        "segmask_dict = dict()\n",
        "segmask_cmap_dict = dict()\n",
        "\n",
        "for path_to_segmask, segmask in zip(pred_segmasks_nifti_list, pred_struct_names_list):\n",
        "  segmask_dict[segmask] = sitk.GetArrayFromImage(sitk.ReadImage(path_to_segmask))\n",
        "  segmask_cmap_dict[segmask] = random.sample([my_reds, my_greens,\n",
        "                                              my_spring, my_blues], k = 1)[0]"
      ],
      "metadata": {
        "id": "gxrHpkeapMKe"
      },
      "execution_count": 52,
      "outputs": []
    },
    {
      "cell_type": "markdown",
      "source": [
        "In the next cell, we can visualise the result using a simple widget."
      ],
      "metadata": {
        "id": "5Ydjya0OX5yd"
      }
    },
    {
      "cell_type": "code",
      "source": [
        "_ = viz_utils.AxialSliceSegmaskViz(ct_volume = ct_nii,\n",
        "                                   segmask_dict = segmask_dict,\n",
        "                                   segmask_cmap_dict = segmask_cmap_dict,\n",
        "                                   dpi = 100, figsize = (8, 8),\n",
        "                                   min_hu = -1024, max_hu = 1024)"
      ],
      "metadata": {
        "id": "imBup5S2qcpM",
        "colab": {
          "base_uri": "https://localhost:8080/",
          "height": 701,
          "referenced_widgets": [
            "bc28cbfb2d7c45f090b5963d4c3112de",
            "4560bb69946a4c4f9edccc5431a21414",
            "06d248e18606428bb758beeb007d661f",
            "2336dc00ae3c44488cb570c028b6f7bc",
            "e7cfa86b630c4aeda1613e35f79d28ef",
            "ecf461d66ed0465da9db8c39236f6891",
            "97e211c8e98446b1a74710c55755ca20",
            "b02d40eb0d1048d79d254f5426ed8bfc",
            "0ad971e991e848ec9a2452f5f8fe2d69",
            "8b23dcf470cc4657be75ebb984fb9be0",
            "b006a31fa4754ce099ab4ad86075d549"
          ]
        },
        "outputId": "5ad7df57-f9e9-4e3b-d330-67511dc0c20e"
      },
      "execution_count": 53,
      "outputs": [
        {
          "output_type": "display_data",
          "data": {
            "text/plain": [
              "interactive(children=(Output(),), _dom_classes=('widget-interact',))"
            ],
            "application/vnd.jupyter.widget-view+json": {
              "version_major": 2,
              "version_minor": 0,
              "model_id": "bc28cbfb2d7c45f090b5963d4c3112de"
            }
          },
          "metadata": {}
        }
      ]
    },
    {
      "cell_type": "markdown",
      "source": [
        "---\n",
        "\n",
        "## **Data Download**"
      ],
      "metadata": {
        "id": "i2QqrdvXqQq0"
      }
    },
    {
      "cell_type": "code",
      "source": [
        "%%capture\n",
        "\n",
        "archive_fn = \"%s.zip\"%(pat_id)\n",
        "\n",
        "try:\n",
        "  os.remove(archive_fn)\n",
        "except OSError:\n",
        "  pass\n",
        "\n",
        "seg_dicom_path = os.path.join(processed_dicomseg_path, pat_id, dicomseg_fn)\n",
        "ct_dicom_path = os.path.join(sorted_base_path, pat_id)\n",
        "\n",
        "!zip -j -r $archive_fn $ct_dicom_path $seg_dicom_path"
      ],
      "metadata": {
        "id": "ARmBD0lHdz_2"
      },
      "execution_count": 54,
      "outputs": []
    },
    {
      "cell_type": "code",
      "source": [
        "filesize = os.stat(archive_fn).st_size/1024e03\n",
        "print('Starting the download of \"%s\" (%2.1f MB)...\\n'%(archive_fn, filesize))\n",
        "\n",
        "files.download(archive_fn)"
      ],
      "metadata": {
        "id": "8pE0X9kid0D-",
        "colab": {
          "base_uri": "https://localhost:8080/",
          "height": 52
        },
        "outputId": "88115341-fd56-4751-f662-5f69dca3ae11"
      },
      "execution_count": 55,
      "outputs": [
        {
          "output_type": "stream",
          "name": "stdout",
          "text": [
            "Starting the download of \"LUNG1-355.zip\" (22.9 MB)...\n",
            "\n"
          ]
        },
        {
          "output_type": "display_data",
          "data": {
            "text/plain": [
              "<IPython.core.display.Javascript object>"
            ],
            "application/javascript": [
              "\n",
              "    async function download(id, filename, size) {\n",
              "      if (!google.colab.kernel.accessAllowed) {\n",
              "        return;\n",
              "      }\n",
              "      const div = document.createElement('div');\n",
              "      const label = document.createElement('label');\n",
              "      label.textContent = `Downloading \"${filename}\": `;\n",
              "      div.appendChild(label);\n",
              "      const progress = document.createElement('progress');\n",
              "      progress.max = size;\n",
              "      div.appendChild(progress);\n",
              "      document.body.appendChild(div);\n",
              "\n",
              "      const buffers = [];\n",
              "      let downloaded = 0;\n",
              "\n",
              "      const channel = await google.colab.kernel.comms.open(id);\n",
              "      // Send a message to notify the kernel that we're ready.\n",
              "      channel.send({})\n",
              "\n",
              "      for await (const message of channel.messages) {\n",
              "        // Send a message to notify the kernel that we're ready.\n",
              "        channel.send({})\n",
              "        if (message.buffers) {\n",
              "          for (const buffer of message.buffers) {\n",
              "            buffers.push(buffer);\n",
              "            downloaded += buffer.byteLength;\n",
              "            progress.value = downloaded;\n",
              "          }\n",
              "        }\n",
              "      }\n",
              "      const blob = new Blob(buffers, {type: 'application/binary'});\n",
              "      const a = document.createElement('a');\n",
              "      a.href = window.URL.createObjectURL(blob);\n",
              "      a.download = filename;\n",
              "      div.appendChild(a);\n",
              "      a.click();\n",
              "      div.remove();\n",
              "    }\n",
              "  "
            ]
          },
          "metadata": {}
        },
        {
          "output_type": "display_data",
          "data": {
            "text/plain": [
              "<IPython.core.display.Javascript object>"
            ],
            "application/javascript": [
              "download(\"download_bde6b5fe-68f1-4143-9344-f59ceb653d0d\", \"LUNG1-355.zip\", 23423996)"
            ]
          },
          "metadata": {}
        }
      ]
    }
  ],
  "metadata": {
    "colab": {
      "collapsed_sections": [],
      "provenance": [],
      "machine_shape": "hm",
      "include_colab_link": true
    },
    "kernelspec": {
      "display_name": "Python 3",
      "name": "python3"
    },
    "language_info": {
      "name": "python"
    },
    "accelerator": "GPU",
    "gpuClass": "standard",
    "widgets": {
      "application/vnd.jupyter.widget-state+json": {
        "bc28cbfb2d7c45f090b5963d4c3112de": {
          "model_module": "@jupyter-widgets/controls",
          "model_name": "VBoxModel",
          "model_module_version": "1.5.0",
          "state": {
            "_dom_classes": [
              "widget-interact"
            ],
            "_model_module": "@jupyter-widgets/controls",
            "_model_module_version": "1.5.0",
            "_model_name": "VBoxModel",
            "_view_count": null,
            "_view_module": "@jupyter-widgets/controls",
            "_view_module_version": "1.5.0",
            "_view_name": "VBoxView",
            "box_style": "",
            "children": [
              "IPY_MODEL_4560bb69946a4c4f9edccc5431a21414"
            ],
            "layout": "IPY_MODEL_06d248e18606428bb758beeb007d661f"
          }
        },
        "4560bb69946a4c4f9edccc5431a21414": {
          "model_module": "@jupyter-widgets/output",
          "model_name": "OutputModel",
          "model_module_version": "1.0.0",
          "state": {
            "_dom_classes": [],
            "_model_module": "@jupyter-widgets/output",
            "_model_module_version": "1.0.0",
            "_model_name": "OutputModel",
            "_view_count": null,
            "_view_module": "@jupyter-widgets/output",
            "_view_module_version": "1.0.0",
            "_view_name": "OutputView",
            "layout": "IPY_MODEL_e7cfa86b630c4aeda1613e35f79d28ef",
            "msg_id": "",
            "outputs": [
              {
                "output_type": "display_data",
                "data": {
                  "text/plain": "interactive(children=(IntSlider(value=0, description='Axial slice:', max=101), Output()), _dom_classes=('widge…",
                  "application/vnd.jupyter.widget-view+json": {
                    "version_major": 2,
                    "version_minor": 0,
                    "model_id": "2336dc00ae3c44488cb570c028b6f7bc"
                  }
                },
                "metadata": {}
              }
            ]
          }
        },
        "06d248e18606428bb758beeb007d661f": {
          "model_module": "@jupyter-widgets/base",
          "model_name": "LayoutModel",
          "model_module_version": "1.2.0",
          "state": {
            "_model_module": "@jupyter-widgets/base",
            "_model_module_version": "1.2.0",
            "_model_name": "LayoutModel",
            "_view_count": null,
            "_view_module": "@jupyter-widgets/base",
            "_view_module_version": "1.2.0",
            "_view_name": "LayoutView",
            "align_content": null,
            "align_items": null,
            "align_self": null,
            "border": null,
            "bottom": null,
            "display": null,
            "flex": null,
            "flex_flow": null,
            "grid_area": null,
            "grid_auto_columns": null,
            "grid_auto_flow": null,
            "grid_auto_rows": null,
            "grid_column": null,
            "grid_gap": null,
            "grid_row": null,
            "grid_template_areas": null,
            "grid_template_columns": null,
            "grid_template_rows": null,
            "height": null,
            "justify_content": null,
            "justify_items": null,
            "left": null,
            "margin": null,
            "max_height": null,
            "max_width": null,
            "min_height": null,
            "min_width": null,
            "object_fit": null,
            "object_position": null,
            "order": null,
            "overflow": null,
            "overflow_x": null,
            "overflow_y": null,
            "padding": null,
            "right": null,
            "top": null,
            "visibility": null,
            "width": null
          }
        },
        "2336dc00ae3c44488cb570c028b6f7bc": {
          "model_module": "@jupyter-widgets/controls",
          "model_name": "VBoxModel",
          "model_module_version": "1.5.0",
          "state": {
            "_dom_classes": [
              "widget-interact"
            ],
            "_model_module": "@jupyter-widgets/controls",
            "_model_module_version": "1.5.0",
            "_model_name": "VBoxModel",
            "_view_count": null,
            "_view_module": "@jupyter-widgets/controls",
            "_view_module_version": "1.5.0",
            "_view_name": "VBoxView",
            "box_style": "",
            "children": [
              "IPY_MODEL_ecf461d66ed0465da9db8c39236f6891",
              "IPY_MODEL_97e211c8e98446b1a74710c55755ca20"
            ],
            "layout": "IPY_MODEL_b02d40eb0d1048d79d254f5426ed8bfc"
          }
        },
        "e7cfa86b630c4aeda1613e35f79d28ef": {
          "model_module": "@jupyter-widgets/base",
          "model_name": "LayoutModel",
          "model_module_version": "1.2.0",
          "state": {
            "_model_module": "@jupyter-widgets/base",
            "_model_module_version": "1.2.0",
            "_model_name": "LayoutModel",
            "_view_count": null,
            "_view_module": "@jupyter-widgets/base",
            "_view_module_version": "1.2.0",
            "_view_name": "LayoutView",
            "align_content": null,
            "align_items": null,
            "align_self": null,
            "border": null,
            "bottom": null,
            "display": null,
            "flex": null,
            "flex_flow": null,
            "grid_area": null,
            "grid_auto_columns": null,
            "grid_auto_flow": null,
            "grid_auto_rows": null,
            "grid_column": null,
            "grid_gap": null,
            "grid_row": null,
            "grid_template_areas": null,
            "grid_template_columns": null,
            "grid_template_rows": null,
            "height": null,
            "justify_content": null,
            "justify_items": null,
            "left": null,
            "margin": null,
            "max_height": null,
            "max_width": null,
            "min_height": null,
            "min_width": null,
            "object_fit": null,
            "object_position": null,
            "order": null,
            "overflow": null,
            "overflow_x": null,
            "overflow_y": null,
            "padding": null,
            "right": null,
            "top": null,
            "visibility": null,
            "width": null
          }
        },
        "ecf461d66ed0465da9db8c39236f6891": {
          "model_module": "@jupyter-widgets/controls",
          "model_name": "IntSliderModel",
          "model_module_version": "1.5.0",
          "state": {
            "_dom_classes": [],
            "_model_module": "@jupyter-widgets/controls",
            "_model_module_version": "1.5.0",
            "_model_name": "IntSliderModel",
            "_view_count": null,
            "_view_module": "@jupyter-widgets/controls",
            "_view_module_version": "1.5.0",
            "_view_name": "IntSliderView",
            "continuous_update": true,
            "description": "Axial slice:",
            "description_tooltip": null,
            "disabled": false,
            "layout": "IPY_MODEL_0ad971e991e848ec9a2452f5f8fe2d69",
            "max": 101,
            "min": 0,
            "orientation": "horizontal",
            "readout": true,
            "readout_format": "d",
            "step": 1,
            "style": "IPY_MODEL_8b23dcf470cc4657be75ebb984fb9be0",
            "value": 40
          }
        },
        "97e211c8e98446b1a74710c55755ca20": {
          "model_module": "@jupyter-widgets/output",
          "model_name": "OutputModel",
          "model_module_version": "1.0.0",
          "state": {
            "_dom_classes": [],
            "_model_module": "@jupyter-widgets/output",
            "_model_module_version": "1.0.0",
            "_model_name": "OutputModel",
            "_view_count": null,
            "_view_module": "@jupyter-widgets/output",
            "_view_module_version": "1.0.0",
            "_view_name": "OutputView",
            "layout": "IPY_MODEL_b006a31fa4754ce099ab4ad86075d549",
            "msg_id": "",
            "outputs": [
              {
                "output_type": "display_data",
                "data": {
                  "text/plain": "<Figure size 800x800 with 1 Axes>",
                  "image/png": "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\n"
                },
                "metadata": {
                  "needs_background": "light"
                }
              }
            ]
          }
        },
        "b02d40eb0d1048d79d254f5426ed8bfc": {
          "model_module": "@jupyter-widgets/base",
          "model_name": "LayoutModel",
          "model_module_version": "1.2.0",
          "state": {
            "_model_module": "@jupyter-widgets/base",
            "_model_module_version": "1.2.0",
            "_model_name": "LayoutModel",
            "_view_count": null,
            "_view_module": "@jupyter-widgets/base",
            "_view_module_version": "1.2.0",
            "_view_name": "LayoutView",
            "align_content": null,
            "align_items": null,
            "align_self": null,
            "border": null,
            "bottom": null,
            "display": null,
            "flex": null,
            "flex_flow": null,
            "grid_area": null,
            "grid_auto_columns": null,
            "grid_auto_flow": null,
            "grid_auto_rows": null,
            "grid_column": null,
            "grid_gap": null,
            "grid_row": null,
            "grid_template_areas": null,
            "grid_template_columns": null,
            "grid_template_rows": null,
            "height": null,
            "justify_content": null,
            "justify_items": null,
            "left": null,
            "margin": null,
            "max_height": null,
            "max_width": null,
            "min_height": null,
            "min_width": null,
            "object_fit": null,
            "object_position": null,
            "order": null,
            "overflow": null,
            "overflow_x": null,
            "overflow_y": null,
            "padding": null,
            "right": null,
            "top": null,
            "visibility": null,
            "width": null
          }
        },
        "0ad971e991e848ec9a2452f5f8fe2d69": {
          "model_module": "@jupyter-widgets/base",
          "model_name": "LayoutModel",
          "model_module_version": "1.2.0",
          "state": {
            "_model_module": "@jupyter-widgets/base",
            "_model_module_version": "1.2.0",
            "_model_name": "LayoutModel",
            "_view_count": null,
            "_view_module": "@jupyter-widgets/base",
            "_view_module_version": "1.2.0",
            "_view_name": "LayoutView",
            "align_content": null,
            "align_items": null,
            "align_self": null,
            "border": null,
            "bottom": null,
            "display": null,
            "flex": null,
            "flex_flow": null,
            "grid_area": null,
            "grid_auto_columns": null,
            "grid_auto_flow": null,
            "grid_auto_rows": null,
            "grid_column": null,
            "grid_gap": null,
            "grid_row": null,
            "grid_template_areas": null,
            "grid_template_columns": null,
            "grid_template_rows": null,
            "height": null,
            "justify_content": null,
            "justify_items": null,
            "left": null,
            "margin": null,
            "max_height": null,
            "max_width": null,
            "min_height": null,
            "min_width": null,
            "object_fit": null,
            "object_position": null,
            "order": null,
            "overflow": null,
            "overflow_x": null,
            "overflow_y": null,
            "padding": null,
            "right": null,
            "top": null,
            "visibility": null,
            "width": null
          }
        },
        "8b23dcf470cc4657be75ebb984fb9be0": {
          "model_module": "@jupyter-widgets/controls",
          "model_name": "SliderStyleModel",
          "model_module_version": "1.5.0",
          "state": {
            "_model_module": "@jupyter-widgets/controls",
            "_model_module_version": "1.5.0",
            "_model_name": "SliderStyleModel",
            "_view_count": null,
            "_view_module": "@jupyter-widgets/base",
            "_view_module_version": "1.2.0",
            "_view_name": "StyleView",
            "description_width": "",
            "handle_color": null
          }
        },
        "b006a31fa4754ce099ab4ad86075d549": {
          "model_module": "@jupyter-widgets/base",
          "model_name": "LayoutModel",
          "model_module_version": "1.2.0",
          "state": {
            "_model_module": "@jupyter-widgets/base",
            "_model_module_version": "1.2.0",
            "_model_name": "LayoutModel",
            "_view_count": null,
            "_view_module": "@jupyter-widgets/base",
            "_view_module_version": "1.2.0",
            "_view_name": "LayoutView",
            "align_content": null,
            "align_items": null,
            "align_self": null,
            "border": null,
            "bottom": null,
            "display": null,
            "flex": null,
            "flex_flow": null,
            "grid_area": null,
            "grid_auto_columns": null,
            "grid_auto_flow": null,
            "grid_auto_rows": null,
            "grid_column": null,
            "grid_gap": null,
            "grid_row": null,
            "grid_template_areas": null,
            "grid_template_columns": null,
            "grid_template_rows": null,
            "height": null,
            "justify_content": null,
            "justify_items": null,
            "left": null,
            "margin": null,
            "max_height": null,
            "max_width": null,
            "min_height": null,
            "min_width": null,
            "object_fit": null,
            "object_position": null,
            "order": null,
            "overflow": null,
            "overflow_x": null,
            "overflow_y": null,
            "padding": null,
            "right": null,
            "top": null,
            "visibility": null,
            "width": null
          }
        }
      }
    }
  },
  "nbformat": 4,
  "nbformat_minor": 0
}