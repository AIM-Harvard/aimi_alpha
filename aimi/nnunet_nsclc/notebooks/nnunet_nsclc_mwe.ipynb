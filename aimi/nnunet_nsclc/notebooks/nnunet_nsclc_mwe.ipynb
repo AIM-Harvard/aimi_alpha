{
  "cells": [
    {
      "cell_type": "markdown",
      "metadata": {
        "id": "view-in-github",
        "colab_type": "text"
      },
      "source": [
        "<a href=\"https://colab.research.google.com/github/AIM-Harvard/aimi_alpha/blob/main/aimi/nnunet_nsclc/notebooks/nnunet_nsclc_mwe.ipynb\" target=\"_parent\"><img src=\"https://colab.research.google.com/assets/colab-badge.svg\" alt=\"Open In Colab\"/></a>"
      ]
    },
    {
      "cell_type": "markdown",
      "metadata": {
        "id": "Pmb_HiJv7Sit"
      },
      "source": [
        "# **ModelHub - Lung Cancer/Nodules Segmentation**\n",
        "\n",
        "This notebook provides an example of how to run an end-to-end (cloud-based) data analysis using the nnU-Net liung cancer/nodules segmentation model.\n",
        "\n",
        "The way all the operations are executed - from pulling data to data postprocessing and the standardisation of the results - have the goal of promoting transparency and reproducibility."
      ]
    },
    {
      "cell_type": "markdown",
      "metadata": {
        "id": "CZnoRi9Y7nEB"
      },
      "source": [
        "## **Environment Setup**\n",
        "\n",
        "This demo notebook is intended to be run using a GPU.\n",
        "\n",
        "To access a free GPU on Colab:\n",
        "`Edit > Notebooks Settings`.\n",
        "\n",
        "From the dropdown menu under `Hardware accelerator`, select `GPU`. Let's check the Colab instance is indeed equipped with a GPU."
      ]
    },
    {
      "cell_type": "code",
      "execution_count": null,
      "metadata": {
        "colab": {
          "base_uri": "https://localhost:8080/"
        },
        "id": "non5qVLIcG4M",
        "outputId": "6f47ebc3-f4fa-4eae-883e-d1860db753de"
      },
      "outputs": [
        {
          "output_type": "stream",
          "name": "stdout",
          "text": [
            "Fri Sep 23 09:58:14 2022\n",
            "\n",
            "Current directory : /content\n",
            "Hostname          : e129b334b3ea\n",
            "Username          : root\n",
            "Python version    : 3.7.14 (default, Sep  8 2022, 00:06:44) \n"
          ]
        }
      ],
      "source": [
        "import os\n",
        "import sys\n",
        "import shutil\n",
        "\n",
        "import yaml\n",
        "\n",
        "import time\n",
        "import tqdm\n",
        "\n",
        "\n",
        "# useful information\n",
        "curr_dir = !pwd\n",
        "curr_droid = !hostname\n",
        "curr_pilot = !whoami\n",
        "\n",
        "print(time.asctime(time.localtime()))\n",
        "\n",
        "print(\"\\nCurrent directory :\", curr_dir[-1])\n",
        "print(\"Hostname          :\", curr_droid[-1])\n",
        "print(\"Username          :\", curr_pilot[-1])\n",
        "\n",
        "print(\"Python version    :\", sys.version.split('\\n')[0])"
      ]
    },
    {
      "cell_type": "markdown",
      "source": [
        "The authentication to Google is necessary to run BigQuery queries.\n",
        "\n",
        "Every operation throughout the whole notebook (BigQuery, fetching data from the IDC buckets) is completely free. The only thing that is needed in order to run the notebook is the set-up of a Google Cloud project. In order for the notebook to work as intended, you will need to specify the name of the project in the cell after the authentication one."
      ],
      "metadata": {
        "id": "0PKq2z2jkVJz"
      }
    },
    {
      "cell_type": "code",
      "execution_count": null,
      "metadata": {
        "id": "2DMUqTOVF5WP"
      },
      "outputs": [],
      "source": [
        "from google.colab import auth\n",
        "auth.authenticate_user()"
      ]
    },
    {
      "cell_type": "code",
      "execution_count": null,
      "metadata": {
        "id": "9Y43S1F35h8m"
      },
      "outputs": [],
      "source": [
        "from google.colab import files\n",
        "from google.cloud import storage\n",
        "from google.cloud import bigquery as bq\n",
        "\n",
        "# INSERT THE ID OF YOUR PROJECT HERE!\n",
        "project_id = \"idc-sandbox-000\""
      ]
    },
    {
      "cell_type": "markdown",
      "metadata": {
        "id": "oT7coYaGfd4t"
      },
      "source": [
        "Throughout this Colab notebook, for image pre-processing we will use [Plastimatch](https://plastimatch.org), a reliable and open source software for image computation. We will be running Plastimatch using the simple [PyPlastimatch](https://github.com/AIM-Harvard/pyplastimatch/tree/main/pyplastimatch) python wrapper. "
      ]
    },
    {
      "cell_type": "code",
      "execution_count": null,
      "metadata": {
        "id": "6NLhlFqyEgBf"
      },
      "outputs": [],
      "source": [
        "%%capture\n",
        "!apt install plastimatch"
      ]
    },
    {
      "cell_type": "code",
      "execution_count": null,
      "metadata": {
        "colab": {
          "base_uri": "https://localhost:8080/"
        },
        "id": "_ILwxgbcfcpr",
        "outputId": "4c4f1580-d78d-48ef-e3ba-ac690ef9cb02"
      },
      "outputs": [
        {
          "output_type": "stream",
          "name": "stdout",
          "text": [
            "plastimatch version 1.7.0\n"
          ]
        }
      ],
      "source": [
        "# check plastimatch was correctly installed\n",
        "!plastimatch --version"
      ]
    },
    {
      "cell_type": "markdown",
      "source": [
        "---\n",
        "\n",
        "Start by cloning the AIMI hub repository on the Colab instance.\n",
        "\n",
        "The AIMI hub repository stores all the code we will use for pulling, preprocessing, processing, and postprocessing the data for this use case - as long as the others shared through AIMI hub."
      ],
      "metadata": {
        "id": "MrNlgYZJIxkf"
      }
    },
    {
      "cell_type": "code",
      "source": [
        "!git clone https://github.com/AIM-Harvard/aimi_alpha.git aimi"
      ],
      "metadata": {
        "colab": {
          "base_uri": "https://localhost:8080/"
        },
        "id": "y5lBiCWMJF9d",
        "outputId": "db5e9f9c-2b5b-4b7e-f8ad-948a9f1bbc56"
      },
      "execution_count": null,
      "outputs": [
        {
          "output_type": "stream",
          "name": "stdout",
          "text": [
            "Cloning into 'aimi'...\n",
            "remote: Enumerating objects: 336, done.\u001b[K\n",
            "remote: Counting objects: 100% (336/336), done.\u001b[K\n",
            "remote: Compressing objects: 100% (249/249), done.\u001b[K\n",
            "remote: Total 336 (delta 184), reused 156 (delta 64), pack-reused 0\u001b[K\n",
            "Receiving objects: 100% (336/336), 2.82 MiB | 8.56 MiB/s, done.\n",
            "Resolving deltas: 100% (184/184), done.\n"
          ]
        }
      ]
    },
    {
      "cell_type": "markdown",
      "source": [
        "To organise the DICOM data in a more common (and human-understandable) fashion after downloading those from the buckets, we will make use of [DICOMSort](https://github.com/pieper/dicomsort). \n",
        "\n",
        "DICOMSort is an open source tool for custom sorting and renaming of dicom files based on their specific DICOM tags. In our case, we will exploit DICOMSort to organise the DICOM data by `PatientID` and `Modality` - so that the final directory will look like the following:\n",
        "\n",
        "```\n",
        "data/raw/nsclc-radiomics/dicom/$PatientID\n",
        " └─── CT\n",
        "       ├─── $SOPInstanceUID_slice0.dcm\n",
        "       ├─── $SOPInstanceUID_slice1.dcm\n",
        "       ├───  ...\n",
        "       │\n",
        "      RTSTRUCT \n",
        "       ├─── $SOPInstanceUID_RTSTRUCT.dcm\n",
        "      SEG\n",
        "       └─── $SOPInstanceUID_RTSEG.dcm\n",
        "\n",
        "```"
      ],
      "metadata": {
        "id": "Pcj1hYK7lzmA"
      }
    },
    {
      "cell_type": "code",
      "source": [
        "!git clone https://github.com/pieper/dicomsort dicomsort"
      ],
      "metadata": {
        "colab": {
          "base_uri": "https://localhost:8080/"
        },
        "id": "Py53FxrlD9eK",
        "outputId": "c40d501a-daaf-445a-f027-498f600ab772"
      },
      "execution_count": null,
      "outputs": [
        {
          "output_type": "stream",
          "name": "stdout",
          "text": [
            "Cloning into 'dicomsort'...\n",
            "remote: Enumerating objects: 130, done.\u001b[K\n",
            "remote: Counting objects: 100% (4/4), done.\u001b[K\n",
            "remote: Compressing objects: 100% (4/4), done.\u001b[K\n",
            "remote: Total 130 (delta 0), reused 1 (delta 0), pack-reused 126\u001b[K\n",
            "Receiving objects: 100% (130/130), 44.12 KiB | 461.00 KiB/s, done.\n",
            "Resolving deltas: 100% (63/63), done.\n"
          ]
        }
      ]
    },
    {
      "cell_type": "markdown",
      "metadata": {
        "id": "7ztrKrzSm1WT"
      },
      "source": [
        "We will also use DCMQI for converting the resulting segmentation into standard DICOM SEG objects."
      ]
    },
    {
      "cell_type": "code",
      "execution_count": null,
      "metadata": {
        "id": "iYf72nA8m0wh"
      },
      "outputs": [],
      "source": [
        "%%capture\n",
        "dcmqi_release_url = \"https://github.com/QIICR/dcmqi/releases/download/v1.2.4/dcmqi-1.2.4-linux.tar.gz\"\n",
        "dcmqi_download_path = \"/content/dcmqi-1.2.4-linux.tar.gz\"\n",
        "dcmqi_path = \"/content/dcmqi-1.2.4-linux\"\n",
        "\n",
        "!wget -O $dcmqi_download_path $dcmqi_release_url\n",
        "\n",
        "!tar -xvf $dcmqi_download_path\n",
        "\n",
        "!mv $dcmqi_path/bin/* /bin"
      ]
    },
    {
      "cell_type": "markdown",
      "metadata": {
        "id": "4JBJmF7rmz1S"
      },
      "source": [
        "---"
      ]
    },
    {
      "cell_type": "code",
      "execution_count": null,
      "metadata": {
        "id": "CthT1kRuywEh"
      },
      "outputs": [],
      "source": [
        "%%capture\n",
        "!pip install pyplastimatch nnunet ipywidgets"
      ]
    },
    {
      "cell_type": "code",
      "source": [
        "import shutil\n",
        "import random\n",
        "\n",
        "import json\n",
        "import pprint\n",
        "import numpy as np\n",
        "import pandas as pd\n",
        "\n",
        "import pydicom\n",
        "import nibabel as nib\n",
        "import SimpleITK as sitk\n",
        "import pyplastimatch as pypla\n",
        "\n",
        "print(\"Python version               : \", sys.version.split('\\n')[0])\n",
        "print(\"Numpy version                : \", np.__version__)\n",
        "\n",
        "# ----------------------------------------\n",
        "\n",
        "#everything that has to do with plotting goes here below\n",
        "import matplotlib\n",
        "matplotlib.use(\"agg\")\n",
        "\n",
        "import matplotlib.pyplot as plt\n",
        "from matplotlib.colors import ListedColormap\n",
        "from matplotlib.patches import Patch\n",
        "\n",
        "%matplotlib inline\n",
        "%config InlineBackend.figure_format = \"png\"\n",
        "\n",
        "import ipywidgets as ipyw\n",
        "\n",
        "## ----------------------------------------\n",
        "\n",
        "# create new colormap appending the alpha channel to the selected one\n",
        "# (so that we don't get a \\\"color overlay\\\" when plotting the segmask superimposed to the CT)\n",
        "cmap = plt.cm.Reds\n",
        "my_reds = cmap(np.arange(cmap.N))\n",
        "my_reds[:, -1] = np.linspace(0, 1, cmap.N)\n",
        "my_reds = ListedColormap(my_reds)\n",
        "\n",
        "cmap = plt.cm.Greens\n",
        "my_greens = cmap(np.arange(cmap.N))\n",
        "my_greens[:, -1] = np.linspace(0, 1, cmap.N)\n",
        "my_greens = ListedColormap(my_greens)\n",
        "\n",
        "cmap = plt.cm.Blues\n",
        "my_blues = cmap(np.arange(cmap.N))\n",
        "my_blues[:, -1] = np.linspace(0, 1, cmap.N)\n",
        "my_blues = ListedColormap(my_blues)\n",
        "\n",
        "cmap = plt.cm.spring\n",
        "my_spring = cmap(np.arange(cmap.N))\n",
        "my_spring[:, -1] = np.linspace(0, 1, cmap.N)\n",
        "my_spring = ListedColormap(my_spring)\n",
        "## ----------------------------------------\n",
        "\n",
        "import seaborn as sns"
      ],
      "metadata": {
        "colab": {
          "base_uri": "https://localhost:8080/"
        },
        "id": "3euRfHl7pe2u",
        "outputId": "486b1dd8-c3ce-4273-f767-d7395c91a890"
      },
      "execution_count": null,
      "outputs": [
        {
          "output_type": "stream",
          "name": "stdout",
          "text": [
            "Python version               :  3.7.14 (default, Sep  8 2022, 00:06:44) \n",
            "Numpy version                :  1.21.6\n"
          ]
        }
      ]
    },
    {
      "cell_type": "markdown",
      "source": [
        "Provided everything was set up correctly, we can run the BigQuery query and get all the information we need to download the testing data from the IDC platform.\n",
        "\n",
        "For this specific use case, we are going to be working with the NSCLC-Radiomics collection (Chest CT scans of lung cancer patients, with manual delineation of various organs at risk)."
      ],
      "metadata": {
        "id": "aZOtlGtcmOq5"
      }
    },
    {
      "cell_type": "code",
      "source": [
        "%%bigquery --project=$project_id cohort_df\n",
        "\n",
        "SELECT\n",
        "  dicom_pivot_v11.PatientID,\n",
        "  dicom_pivot_v11.collection_id,\n",
        "  dicom_pivot_v11.source_DOI,\n",
        "  dicom_pivot_v11.StudyInstanceUID,\n",
        "  dicom_pivot_v11.SeriesInstanceUID,\n",
        "  dicom_pivot_v11.SOPInstanceUID,\n",
        "  dicom_pivot_v11.gcs_url\n",
        "FROM\n",
        "  `bigquery-public-data.idc_v11.dicom_pivot_v11` dicom_pivot_v11\n",
        "WHERE\n",
        "  StudyInstanceUID IN (\n",
        "    SELECT\n",
        "      StudyInstanceUID\n",
        "    FROM\n",
        "      `bigquery-public-data.idc_v11.dicom_pivot_v11` dicom_pivot_v11\n",
        "    WHERE\n",
        "      StudyInstanceUID IN (\n",
        "        SELECT\n",
        "          StudyInstanceUID\n",
        "        FROM\n",
        "          `bigquery-public-data.idc_v11.dicom_pivot_v11` dicom_pivot_v11\n",
        "        WHERE\n",
        "          (\n",
        "            LOWER(\n",
        "              dicom_pivot_v11.SegmentedPropertyTypeCodeSequence\n",
        "            ) LIKE LOWER('86049000:SCT')\n",
        "          )\n",
        "        GROUP BY\n",
        "          StudyInstanceUID\n",
        "        INTERSECT DISTINCT\n",
        "        SELECT\n",
        "          StudyInstanceUID\n",
        "        FROM\n",
        "          `bigquery-public-data.idc_v11.dicom_pivot_v11` dicom_pivot_v11\n",
        "        WHERE\n",
        "          (LOWER(dicom_pivot_v11.Modality) LIKE LOWER('CT'))\n",
        "        GROUP BY\n",
        "          StudyInstanceUID\n",
        "        INTERSECT DISTINCT\n",
        "        SELECT\n",
        "          StudyInstanceUID\n",
        "        FROM\n",
        "          `bigquery-public-data.idc_v11.dicom_pivot_v11` dicom_pivot_v11\n",
        "        WHERE\n",
        "          (\n",
        "            dicom_pivot_v11.SliceThickness BETWEEN 0 AND 3\n",
        "          )\n",
        "        GROUP BY\n",
        "          StudyInstanceUID\n",
        "        INTERSECT DISTINCT\n",
        "        SELECT\n",
        "          StudyInstanceUID\n",
        "        FROM\n",
        "          `bigquery-public-data.idc_v11.dicom_pivot_v11` dicom_pivot_v11\n",
        "        WHERE\n",
        "          (\n",
        "            dicom_pivot_v11.collection_id IN ('Community', 'nsclc_radiomics')\n",
        "          )\n",
        "        GROUP BY\n",
        "          StudyInstanceUID\n",
        "      )\n",
        "    GROUP BY\n",
        "      StudyInstanceUID\n",
        "  )\n",
        "GROUP BY\n",
        "  dicom_pivot_v11.PatientID,\n",
        "  dicom_pivot_v11.collection_id,\n",
        "  dicom_pivot_v11.source_DOI,\n",
        "  dicom_pivot_v11.StudyInstanceUID,\n",
        "  dicom_pivot_v11.SeriesInstanceUID,\n",
        "  dicom_pivot_v11.SOPInstanceUID,\n",
        "  dicom_pivot_v11.gcs_url\n",
        "ORDER BY\n",
        "  dicom_pivot_v11.PatientID ASC,\n",
        "  dicom_pivot_v11.collection_id ASC,\n",
        "  dicom_pivot_v11.source_DOI ASC,\n",
        "  dicom_pivot_v11.StudyInstanceUID ASC,\n",
        "  dicom_pivot_v11.SeriesInstanceUID ASC,\n",
        "  dicom_pivot_v11.SOPInstanceUID ASC,\n",
        "  dicom_pivot_v11.gcs_url ASC"
      ],
      "metadata": {
        "id": "_8hRj0E5FW0A"
      },
      "execution_count": null,
      "outputs": []
    },
    {
      "cell_type": "code",
      "source": [
        "# this works as intended only if the BQ query parses data from a single dataset\n",
        "# if not, feel free to set the name manually!\n",
        "dataset_name = cohort_df[\"collection_id\"].values[0]"
      ],
      "metadata": {
        "id": "oZApCCVLkZyb"
      },
      "execution_count": null,
      "outputs": []
    },
    {
      "cell_type": "code",
      "execution_count": null,
      "metadata": {
        "id": "GNutD-SRN52T"
      },
      "outputs": [],
      "source": [
        "# create the directory tree\n",
        "!mkdir -p data models\n",
        "\n",
        "!mkdir -p data/raw \n",
        "!mkdir -p data/raw/tmp data/raw/$dataset_name\n",
        "!mkdir -p data/raw/$dataset_name/dicom\n",
        "\n",
        "!mkdir -p data/processed\n",
        "!mkdir -p data/processed/$dataset_name\n",
        "!mkdir -p data/processed/$dataset_name/nii\n",
        "!mkdir -p data/processed/$dataset_name/dicomseg\n",
        "\n",
        "!mkdir -p data/model_input/\n",
        "!mkdir -p data/nnunet_output/"
      ]
    },
    {
      "cell_type": "markdown",
      "metadata": {
        "id": "D7y3FRa7rbyr"
      },
      "source": [
        "Download the segmentation model(s) from Zenodo (the original source chosen from the nnU-Net developers).\n",
        "\n",
        "Note that this can either be very fast (2 minutes or even less, at speeds around 40MB/s) or very slow (up to 10 minutes, or sometimes more) - probably depending on the traffic on the Zenodo's end and other factors. If the download is taking a long time after the first minute or so, consider interrupting the cell execution and running the cell again."
      ]
    },
    {
      "cell_type": "code",
      "execution_count": null,
      "metadata": {
        "colab": {
          "base_uri": "https://localhost:8080/"
        },
        "id": "nJ79vTL5ef11",
        "outputId": "c0df4921-044a-4a19-ffd4-0c8f21bb0872"
      },
      "outputs": [
        {
          "output_type": "stream",
          "name": "stdout",
          "text": [
            "--2022-09-23 09:59:54--  https://zenodo.org/record/4003545/files/Task006_Lung.zip?download=1\n",
            "Resolving zenodo.org (zenodo.org)... 188.184.117.155\n",
            "Connecting to zenodo.org (zenodo.org)|188.184.117.155|:443... connected.\n",
            "HTTP request sent, awaiting response... 200 OK\n",
            "Length: 5006898593 (4.7G) [application/octet-stream]\n",
            "Saving to: ‘/content/models/Task006_Lung.zip’\n",
            "\n",
            "/content/models/Tas 100%[===================>]   4.66G  6.71MB/s    in 15m 49s \n",
            "\n",
            "2022-09-23 10:15:46 (5.03 MB/s) - ‘/content/models/Task006_Lung.zip’ saved [5006898593/5006898593]\n",
            "\n"
          ]
        }
      ],
      "source": [
        "seg_model_url = \"https://zenodo.org/record/4003545/files/Task006_Lung.zip?download=1\"\n",
        "model_download_path = \"/content/models/Task006_Lung.zip\"\n",
        "\n",
        "!wget -O $model_download_path $seg_model_url"
      ]
    },
    {
      "cell_type": "markdown",
      "metadata": {
        "id": "Bne4bNo5fAsx"
      },
      "source": [
        "Initialize the environment variables nnU-Net needs."
      ]
    },
    {
      "cell_type": "code",
      "execution_count": null,
      "metadata": {
        "id": "IIIjeFdUe1EA"
      },
      "outputs": [],
      "source": [
        "os.environ[\"RESULTS_FOLDER\"] = \"/content/data/nnunet_output/\"\n",
        "os.environ[\"WEIGHTS_FOLDER\"] = \"/content/data/nnunet_output/nnUNet\""
      ]
    },
    {
      "cell_type": "code",
      "execution_count": null,
      "metadata": {
        "id": "Wx8bWGVvew3P"
      },
      "outputs": [],
      "source": [
        "%%capture\n",
        "!nnUNet_install_pretrained_model_from_zip $model_download_path"
      ]
    },
    {
      "cell_type": "markdown",
      "metadata": {
        "id": "0Qu6eXpHx6iV"
      },
      "source": [
        "## **Parsing Cohort Information from BigQuery Tables**\n",
        "\n",
        "We can check the various fields of the table we populated by running the BigQuery query.\n",
        "\n",
        "This table will store one entry for each DICOM file in the dataset (therefore, expect thousands of rows!)"
      ]
    },
    {
      "cell_type": "code",
      "execution_count": null,
      "metadata": {
        "colab": {
          "base_uri": "https://localhost:8080/",
          "height": 788
        },
        "id": "V27IJihCi9Kv",
        "outputId": "19207726-f9b7-4c56-eb2b-a121abd71412"
      },
      "outputs": [
        {
          "output_type": "stream",
          "name": "stdout",
          "text": [
            "Total number of unique Patient IDs: 421\n",
            "<class 'pandas.core.frame.DataFrame'>\n",
            "RangeIndex: 51972 entries, 0 to 51971\n",
            "Data columns (total 7 columns):\n",
            " #   Column             Non-Null Count  Dtype \n",
            "---  ------             --------------  ----- \n",
            " 0   PatientID          51972 non-null  object\n",
            " 1   collection_id      51972 non-null  object\n",
            " 2   source_DOI         51972 non-null  object\n",
            " 3   StudyInstanceUID   51972 non-null  object\n",
            " 4   SeriesInstanceUID  51972 non-null  object\n",
            " 5   SOPInstanceUID     51972 non-null  object\n",
            " 6   gcs_url            51972 non-null  object\n",
            "dtypes: object(7)\n",
            "memory usage: 2.8+ MB\n"
          ]
        },
        {
          "output_type": "display_data",
          "data": {
            "text/plain": [
              "None"
            ]
          },
          "metadata": {}
        },
        {
          "output_type": "display_data",
          "data": {
            "text/plain": [
              "   PatientID    collection_id                     source_DOI  \\\n",
              "0  LUNG1-001  nsclc_radiomics  10.7937/K9/TCIA.2015.PF0M9REI   \n",
              "1  LUNG1-001  nsclc_radiomics  10.7937/K9/TCIA.2015.PF0M9REI   \n",
              "2  LUNG1-001  nsclc_radiomics  10.7937/K9/TCIA.2015.PF0M9REI   \n",
              "3  LUNG1-001  nsclc_radiomics  10.7937/K9/TCIA.2015.PF0M9REI   \n",
              "4  LUNG1-001  nsclc_radiomics  10.7937/K9/TCIA.2015.PF0M9REI   \n",
              "\n",
              "                                    StudyInstanceUID  \\\n",
              "0  1.3.6.1.4.1.32722.99.99.2393413539117143687725...   \n",
              "1  1.3.6.1.4.1.32722.99.99.2393413539117143687725...   \n",
              "2  1.3.6.1.4.1.32722.99.99.2393413539117143687725...   \n",
              "3  1.3.6.1.4.1.32722.99.99.2393413539117143687725...   \n",
              "4  1.3.6.1.4.1.32722.99.99.2393413539117143687725...   \n",
              "\n",
              "                                   SeriesInstanceUID  \\\n",
              "0  1.2.276.0.7230010.3.1.3.2323910823.20524.15972...   \n",
              "1  1.3.6.1.4.1.32722.99.99.2279381215866080725084...   \n",
              "2  1.3.6.1.4.1.32722.99.99.2989917765213423750108...   \n",
              "3  1.3.6.1.4.1.32722.99.99.2989917765213423750108...   \n",
              "4  1.3.6.1.4.1.32722.99.99.2989917765213423750108...   \n",
              "\n",
              "                                      SOPInstanceUID  \\\n",
              "0  1.2.276.0.7230010.3.1.4.2323910823.20524.15972...   \n",
              "1  1.3.6.1.4.1.32722.99.99.6468474582136099606367...   \n",
              "2  1.3.6.1.4.1.32722.99.99.1047764232230739912736...   \n",
              "3  1.3.6.1.4.1.32722.99.99.1064644568755722921755...   \n",
              "4  1.3.6.1.4.1.32722.99.99.1077431100943926205431...   \n",
              "\n",
              "                                             gcs_url  \n",
              "0  gs://idc-open-cr/553521b9-f9e8-4103-b04d-5f032...  \n",
              "1  gs://idc-open-cr/5bcda93e-ef26-4a58-a7b4-47832...  \n",
              "2  gs://idc-open-cr/2b028478-80a6-4cc4-95d8-36bd1...  \n",
              "3  gs://idc-open-cr/fdbe15bb-a030-4a8d-b041-b4a73...  \n",
              "4  gs://idc-open-cr/d17ff2f7-de4f-4084-b1bc-eed8a...  "
            ],
            "text/html": [
              "\n",
              "  <div id=\"df-2f6794f2-9d05-44ed-9605-0dbbf4b2a8b0\">\n",
              "    <div class=\"colab-df-container\">\n",
              "      <div>\n",
              "<style scoped>\n",
              "    .dataframe tbody tr th:only-of-type {\n",
              "        vertical-align: middle;\n",
              "    }\n",
              "\n",
              "    .dataframe tbody tr th {\n",
              "        vertical-align: top;\n",
              "    }\n",
              "\n",
              "    .dataframe thead th {\n",
              "        text-align: right;\n",
              "    }\n",
              "</style>\n",
              "<table border=\"1\" class=\"dataframe\">\n",
              "  <thead>\n",
              "    <tr style=\"text-align: right;\">\n",
              "      <th></th>\n",
              "      <th>PatientID</th>\n",
              "      <th>collection_id</th>\n",
              "      <th>source_DOI</th>\n",
              "      <th>StudyInstanceUID</th>\n",
              "      <th>SeriesInstanceUID</th>\n",
              "      <th>SOPInstanceUID</th>\n",
              "      <th>gcs_url</th>\n",
              "    </tr>\n",
              "  </thead>\n",
              "  <tbody>\n",
              "    <tr>\n",
              "      <th>0</th>\n",
              "      <td>LUNG1-001</td>\n",
              "      <td>nsclc_radiomics</td>\n",
              "      <td>10.7937/K9/TCIA.2015.PF0M9REI</td>\n",
              "      <td>1.3.6.1.4.1.32722.99.99.2393413539117143687725...</td>\n",
              "      <td>1.2.276.0.7230010.3.1.3.2323910823.20524.15972...</td>\n",
              "      <td>1.2.276.0.7230010.3.1.4.2323910823.20524.15972...</td>\n",
              "      <td>gs://idc-open-cr/553521b9-f9e8-4103-b04d-5f032...</td>\n",
              "    </tr>\n",
              "    <tr>\n",
              "      <th>1</th>\n",
              "      <td>LUNG1-001</td>\n",
              "      <td>nsclc_radiomics</td>\n",
              "      <td>10.7937/K9/TCIA.2015.PF0M9REI</td>\n",
              "      <td>1.3.6.1.4.1.32722.99.99.2393413539117143687725...</td>\n",
              "      <td>1.3.6.1.4.1.32722.99.99.2279381215866080725084...</td>\n",
              "      <td>1.3.6.1.4.1.32722.99.99.6468474582136099606367...</td>\n",
              "      <td>gs://idc-open-cr/5bcda93e-ef26-4a58-a7b4-47832...</td>\n",
              "    </tr>\n",
              "    <tr>\n",
              "      <th>2</th>\n",
              "      <td>LUNG1-001</td>\n",
              "      <td>nsclc_radiomics</td>\n",
              "      <td>10.7937/K9/TCIA.2015.PF0M9REI</td>\n",
              "      <td>1.3.6.1.4.1.32722.99.99.2393413539117143687725...</td>\n",
              "      <td>1.3.6.1.4.1.32722.99.99.2989917765213423750108...</td>\n",
              "      <td>1.3.6.1.4.1.32722.99.99.1047764232230739912736...</td>\n",
              "      <td>gs://idc-open-cr/2b028478-80a6-4cc4-95d8-36bd1...</td>\n",
              "    </tr>\n",
              "    <tr>\n",
              "      <th>3</th>\n",
              "      <td>LUNG1-001</td>\n",
              "      <td>nsclc_radiomics</td>\n",
              "      <td>10.7937/K9/TCIA.2015.PF0M9REI</td>\n",
              "      <td>1.3.6.1.4.1.32722.99.99.2393413539117143687725...</td>\n",
              "      <td>1.3.6.1.4.1.32722.99.99.2989917765213423750108...</td>\n",
              "      <td>1.3.6.1.4.1.32722.99.99.1064644568755722921755...</td>\n",
              "      <td>gs://idc-open-cr/fdbe15bb-a030-4a8d-b041-b4a73...</td>\n",
              "    </tr>\n",
              "    <tr>\n",
              "      <th>4</th>\n",
              "      <td>LUNG1-001</td>\n",
              "      <td>nsclc_radiomics</td>\n",
              "      <td>10.7937/K9/TCIA.2015.PF0M9REI</td>\n",
              "      <td>1.3.6.1.4.1.32722.99.99.2393413539117143687725...</td>\n",
              "      <td>1.3.6.1.4.1.32722.99.99.2989917765213423750108...</td>\n",
              "      <td>1.3.6.1.4.1.32722.99.99.1077431100943926205431...</td>\n",
              "      <td>gs://idc-open-cr/d17ff2f7-de4f-4084-b1bc-eed8a...</td>\n",
              "    </tr>\n",
              "  </tbody>\n",
              "</table>\n",
              "</div>\n",
              "      <button class=\"colab-df-convert\" onclick=\"convertToInteractive('df-2f6794f2-9d05-44ed-9605-0dbbf4b2a8b0')\"\n",
              "              title=\"Convert this dataframe to an interactive table.\"\n",
              "              style=\"display:none;\">\n",
              "        \n",
              "  <svg xmlns=\"http://www.w3.org/2000/svg\" height=\"24px\"viewBox=\"0 0 24 24\"\n",
              "       width=\"24px\">\n",
              "    <path d=\"M0 0h24v24H0V0z\" fill=\"none\"/>\n",
              "    <path d=\"M18.56 5.44l.94 2.06.94-2.06 2.06-.94-2.06-.94-.94-2.06-.94 2.06-2.06.94zm-11 1L8.5 8.5l.94-2.06 2.06-.94-2.06-.94L8.5 2.5l-.94 2.06-2.06.94zm10 10l.94 2.06.94-2.06 2.06-.94-2.06-.94-.94-2.06-.94 2.06-2.06.94z\"/><path d=\"M17.41 7.96l-1.37-1.37c-.4-.4-.92-.59-1.43-.59-.52 0-1.04.2-1.43.59L10.3 9.45l-7.72 7.72c-.78.78-.78 2.05 0 2.83L4 21.41c.39.39.9.59 1.41.59.51 0 1.02-.2 1.41-.59l7.78-7.78 2.81-2.81c.8-.78.8-2.07 0-2.86zM5.41 20L4 18.59l7.72-7.72 1.47 1.35L5.41 20z\"/>\n",
              "  </svg>\n",
              "      </button>\n",
              "      \n",
              "  <style>\n",
              "    .colab-df-container {\n",
              "      display:flex;\n",
              "      flex-wrap:wrap;\n",
              "      gap: 12px;\n",
              "    }\n",
              "\n",
              "    .colab-df-convert {\n",
              "      background-color: #E8F0FE;\n",
              "      border: none;\n",
              "      border-radius: 50%;\n",
              "      cursor: pointer;\n",
              "      display: none;\n",
              "      fill: #1967D2;\n",
              "      height: 32px;\n",
              "      padding: 0 0 0 0;\n",
              "      width: 32px;\n",
              "    }\n",
              "\n",
              "    .colab-df-convert:hover {\n",
              "      background-color: #E2EBFA;\n",
              "      box-shadow: 0px 1px 2px rgba(60, 64, 67, 0.3), 0px 1px 3px 1px rgba(60, 64, 67, 0.15);\n",
              "      fill: #174EA6;\n",
              "    }\n",
              "\n",
              "    [theme=dark] .colab-df-convert {\n",
              "      background-color: #3B4455;\n",
              "      fill: #D2E3FC;\n",
              "    }\n",
              "\n",
              "    [theme=dark] .colab-df-convert:hover {\n",
              "      background-color: #434B5C;\n",
              "      box-shadow: 0px 1px 3px 1px rgba(0, 0, 0, 0.15);\n",
              "      filter: drop-shadow(0px 1px 2px rgba(0, 0, 0, 0.3));\n",
              "      fill: #FFFFFF;\n",
              "    }\n",
              "  </style>\n",
              "\n",
              "      <script>\n",
              "        const buttonEl =\n",
              "          document.querySelector('#df-2f6794f2-9d05-44ed-9605-0dbbf4b2a8b0 button.colab-df-convert');\n",
              "        buttonEl.style.display =\n",
              "          google.colab.kernel.accessAllowed ? 'block' : 'none';\n",
              "\n",
              "        async function convertToInteractive(key) {\n",
              "          const element = document.querySelector('#df-2f6794f2-9d05-44ed-9605-0dbbf4b2a8b0');\n",
              "          const dataTable =\n",
              "            await google.colab.kernel.invokeFunction('convertToInteractive',\n",
              "                                                     [key], {});\n",
              "          if (!dataTable) return;\n",
              "\n",
              "          const docLinkHtml = 'Like what you see? Visit the ' +\n",
              "            '<a target=\"_blank\" href=https://colab.research.google.com/notebooks/data_table.ipynb>data table notebook</a>'\n",
              "            + ' to learn more about interactive tables.';\n",
              "          element.innerHTML = '';\n",
              "          dataTable['output_type'] = 'display_data';\n",
              "          await google.colab.output.renderOutput(dataTable, element);\n",
              "          const docLink = document.createElement('div');\n",
              "          docLink.innerHTML = docLinkHtml;\n",
              "          element.appendChild(docLink);\n",
              "        }\n",
              "      </script>\n",
              "    </div>\n",
              "  </div>\n",
              "  "
            ]
          },
          "metadata": {}
        }
      ],
      "source": [
        "pat_id_list = sorted(list(set(cohort_df[\"PatientID\"].values)))\n",
        "\n",
        "print(\"Total number of unique Patient IDs:\", len(pat_id_list))\n",
        "\n",
        "display(cohort_df.info())\n",
        "\n",
        "display(cohort_df.head())"
      ]
    },
    {
      "cell_type": "markdown",
      "metadata": {
        "id": "AolLtXOLVt7D"
      },
      "source": [
        "---\n",
        "\n",
        "## **Set Run Parameters**\n",
        "\n",
        "From this cell, we can configure the nnU-Net inference step - specifying, for instance, the type of model we want to run (among the four different models the framework provides), whether we want to use test time augmentation, or whether we want to export the soft probability maps of the segmentation masks.\n"
      ]
    },
    {
      "cell_type": "code",
      "execution_count": null,
      "metadata": {
        "id": "TRmrt00589lv"
      },
      "outputs": [],
      "source": [
        "# FIXED PARAMETERS\n",
        "data_base_path = \"/content/data\"\n",
        "raw_base_path = \"/content/data/raw/tmp\"\n",
        "sorted_base_path = os.path.join(\"/content/data/raw/\", dataset_name, \"dicom\")\n",
        "\n",
        "processed_base_path = os.path.join(\"/content/data/processed/\", dataset_name)\n",
        "processed_nifti_path = os.path.join(processed_base_path, \"nii\")\n",
        "\n",
        "processed_dicomseg_path = os.path.join(processed_base_path, \"dicomseg\")\n",
        "\n",
        "model_input_folder = \"/content/data/model_input/\"\n",
        "model_output_folder = \"/content/data/nnunet_output/\"\n",
        "\n",
        "dicomseg_json_path = \"/content/aimi/aimi/nnunet_nsclc/config/dicomseg_metadata.json\"\n",
        "\n",
        "# -----------------\n",
        "# nnU-Net pipeline parameters\n",
        "\n",
        "# choose from: \"2d\", \"3d_lowres\", \"3d_fullres\", \"3d_cascade_fullres\"\n",
        "nnunet_model = \"3d_lowres\"\n",
        "use_tta = True\n",
        "export_prob_maps = False"
      ]
    },
    {
      "cell_type": "markdown",
      "metadata": {
        "id": "-n0qjPp1B_mv"
      },
      "source": [
        "## **Running the Analysis for a Single Patient**"
      ]
    },
    {
      "cell_type": "code",
      "source": [
        "import aimi.aimi as aimi\n",
        "\n",
        "from aimi import general_utils as aimi_utils\n",
        "from aimi import nnunet_nsclc as aimi_model"
      ],
      "metadata": {
        "id": "vPPZRieLM5K-"
      },
      "execution_count": null,
      "outputs": []
    },
    {
      "cell_type": "markdown",
      "source": [
        "The following cells run all the processing pipeline, from pre-processing to post-processing."
      ],
      "metadata": {
        "id": "0pFSCy5HoOp_"
      }
    },
    {
      "cell_type": "code",
      "source": [
        "pat_id = random.choice(cohort_df[\"PatientID\"].values)\n",
        "pat_df = cohort_df[cohort_df[\"PatientID\"] == pat_id].reset_index(drop = True)\n",
        "\n",
        "display(pat_df.info())\n",
        "display(pat_df.head())"
      ],
      "metadata": {
        "colab": {
          "base_uri": "https://localhost:8080/",
          "height": 771
        },
        "id": "pekuBoTMmYsq",
        "outputId": "77e8858d-f483-4ccb-da91-9e5f2929fc4e"
      },
      "execution_count": null,
      "outputs": [
        {
          "output_type": "stream",
          "name": "stdout",
          "text": [
            "<class 'pandas.core.frame.DataFrame'>\n",
            "RangeIndex: 109 entries, 0 to 108\n",
            "Data columns (total 7 columns):\n",
            " #   Column             Non-Null Count  Dtype \n",
            "---  ------             --------------  ----- \n",
            " 0   PatientID          109 non-null    object\n",
            " 1   collection_id      109 non-null    object\n",
            " 2   source_DOI         109 non-null    object\n",
            " 3   StudyInstanceUID   109 non-null    object\n",
            " 4   SeriesInstanceUID  109 non-null    object\n",
            " 5   SOPInstanceUID     109 non-null    object\n",
            " 6   gcs_url            109 non-null    object\n",
            "dtypes: object(7)\n",
            "memory usage: 6.1+ KB\n"
          ]
        },
        {
          "output_type": "display_data",
          "data": {
            "text/plain": [
              "None"
            ]
          },
          "metadata": {}
        },
        {
          "output_type": "display_data",
          "data": {
            "text/plain": [
              "   PatientID    collection_id                     source_DOI  \\\n",
              "0  LUNG1-408  nsclc_radiomics  10.7937/K9/TCIA.2015.PF0M9REI   \n",
              "1  LUNG1-408  nsclc_radiomics  10.7937/K9/TCIA.2015.PF0M9REI   \n",
              "2  LUNG1-408  nsclc_radiomics  10.7937/K9/TCIA.2015.PF0M9REI   \n",
              "3  LUNG1-408  nsclc_radiomics  10.7937/K9/TCIA.2015.PF0M9REI   \n",
              "4  LUNG1-408  nsclc_radiomics  10.7937/K9/TCIA.2015.PF0M9REI   \n",
              "\n",
              "                                    StudyInstanceUID  \\\n",
              "0  1.3.6.1.4.1.32722.99.99.1704559671684861847194...   \n",
              "1  1.3.6.1.4.1.32722.99.99.1704559671684861847194...   \n",
              "2  1.3.6.1.4.1.32722.99.99.1704559671684861847194...   \n",
              "3  1.3.6.1.4.1.32722.99.99.1704559671684861847194...   \n",
              "4  1.3.6.1.4.1.32722.99.99.1704559671684861847194...   \n",
              "\n",
              "                                   SeriesInstanceUID  \\\n",
              "0  1.2.276.0.7230010.3.1.3.2323910823.23736.15972...   \n",
              "1  1.3.6.1.4.1.32722.99.99.1655065289210218059989...   \n",
              "2  1.3.6.1.4.1.32722.99.99.8140682527970102907627...   \n",
              "3  1.3.6.1.4.1.32722.99.99.8140682527970102907627...   \n",
              "4  1.3.6.1.4.1.32722.99.99.8140682527970102907627...   \n",
              "\n",
              "                                      SOPInstanceUID  \\\n",
              "0  1.2.276.0.7230010.3.1.4.2323910823.23736.15972...   \n",
              "1  1.3.6.1.4.1.32722.99.99.1248048172210705245536...   \n",
              "2  1.3.6.1.4.1.32722.99.99.1007940122465419627565...   \n",
              "3  1.3.6.1.4.1.32722.99.99.1046907903107937073434...   \n",
              "4  1.3.6.1.4.1.32722.99.99.1052565162914979129239...   \n",
              "\n",
              "                                             gcs_url  \n",
              "0  gs://idc-open-cr/27804123-8c0a-4483-ab9f-c9359...  \n",
              "1  gs://idc-open-cr/61d3f0ae-d268-4b3e-8c8f-e8cb7...  \n",
              "2  gs://idc-open-cr/e311d081-33be-41f9-95e0-1f2df...  \n",
              "3  gs://idc-open-cr/c5cabb56-3bc2-4ac1-9df3-9da44...  \n",
              "4  gs://idc-open-cr/494910c8-281a-4436-99ed-37912...  "
            ],
            "text/html": [
              "\n",
              "  <div id=\"df-fb29135f-4e61-4a21-97a9-23d4b5b79408\">\n",
              "    <div class=\"colab-df-container\">\n",
              "      <div>\n",
              "<style scoped>\n",
              "    .dataframe tbody tr th:only-of-type {\n",
              "        vertical-align: middle;\n",
              "    }\n",
              "\n",
              "    .dataframe tbody tr th {\n",
              "        vertical-align: top;\n",
              "    }\n",
              "\n",
              "    .dataframe thead th {\n",
              "        text-align: right;\n",
              "    }\n",
              "</style>\n",
              "<table border=\"1\" class=\"dataframe\">\n",
              "  <thead>\n",
              "    <tr style=\"text-align: right;\">\n",
              "      <th></th>\n",
              "      <th>PatientID</th>\n",
              "      <th>collection_id</th>\n",
              "      <th>source_DOI</th>\n",
              "      <th>StudyInstanceUID</th>\n",
              "      <th>SeriesInstanceUID</th>\n",
              "      <th>SOPInstanceUID</th>\n",
              "      <th>gcs_url</th>\n",
              "    </tr>\n",
              "  </thead>\n",
              "  <tbody>\n",
              "    <tr>\n",
              "      <th>0</th>\n",
              "      <td>LUNG1-408</td>\n",
              "      <td>nsclc_radiomics</td>\n",
              "      <td>10.7937/K9/TCIA.2015.PF0M9REI</td>\n",
              "      <td>1.3.6.1.4.1.32722.99.99.1704559671684861847194...</td>\n",
              "      <td>1.2.276.0.7230010.3.1.3.2323910823.23736.15972...</td>\n",
              "      <td>1.2.276.0.7230010.3.1.4.2323910823.23736.15972...</td>\n",
              "      <td>gs://idc-open-cr/27804123-8c0a-4483-ab9f-c9359...</td>\n",
              "    </tr>\n",
              "    <tr>\n",
              "      <th>1</th>\n",
              "      <td>LUNG1-408</td>\n",
              "      <td>nsclc_radiomics</td>\n",
              "      <td>10.7937/K9/TCIA.2015.PF0M9REI</td>\n",
              "      <td>1.3.6.1.4.1.32722.99.99.1704559671684861847194...</td>\n",
              "      <td>1.3.6.1.4.1.32722.99.99.1655065289210218059989...</td>\n",
              "      <td>1.3.6.1.4.1.32722.99.99.1248048172210705245536...</td>\n",
              "      <td>gs://idc-open-cr/61d3f0ae-d268-4b3e-8c8f-e8cb7...</td>\n",
              "    </tr>\n",
              "    <tr>\n",
              "      <th>2</th>\n",
              "      <td>LUNG1-408</td>\n",
              "      <td>nsclc_radiomics</td>\n",
              "      <td>10.7937/K9/TCIA.2015.PF0M9REI</td>\n",
              "      <td>1.3.6.1.4.1.32722.99.99.1704559671684861847194...</td>\n",
              "      <td>1.3.6.1.4.1.32722.99.99.8140682527970102907627...</td>\n",
              "      <td>1.3.6.1.4.1.32722.99.99.1007940122465419627565...</td>\n",
              "      <td>gs://idc-open-cr/e311d081-33be-41f9-95e0-1f2df...</td>\n",
              "    </tr>\n",
              "    <tr>\n",
              "      <th>3</th>\n",
              "      <td>LUNG1-408</td>\n",
              "      <td>nsclc_radiomics</td>\n",
              "      <td>10.7937/K9/TCIA.2015.PF0M9REI</td>\n",
              "      <td>1.3.6.1.4.1.32722.99.99.1704559671684861847194...</td>\n",
              "      <td>1.3.6.1.4.1.32722.99.99.8140682527970102907627...</td>\n",
              "      <td>1.3.6.1.4.1.32722.99.99.1046907903107937073434...</td>\n",
              "      <td>gs://idc-open-cr/c5cabb56-3bc2-4ac1-9df3-9da44...</td>\n",
              "    </tr>\n",
              "    <tr>\n",
              "      <th>4</th>\n",
              "      <td>LUNG1-408</td>\n",
              "      <td>nsclc_radiomics</td>\n",
              "      <td>10.7937/K9/TCIA.2015.PF0M9REI</td>\n",
              "      <td>1.3.6.1.4.1.32722.99.99.1704559671684861847194...</td>\n",
              "      <td>1.3.6.1.4.1.32722.99.99.8140682527970102907627...</td>\n",
              "      <td>1.3.6.1.4.1.32722.99.99.1052565162914979129239...</td>\n",
              "      <td>gs://idc-open-cr/494910c8-281a-4436-99ed-37912...</td>\n",
              "    </tr>\n",
              "  </tbody>\n",
              "</table>\n",
              "</div>\n",
              "      <button class=\"colab-df-convert\" onclick=\"convertToInteractive('df-fb29135f-4e61-4a21-97a9-23d4b5b79408')\"\n",
              "              title=\"Convert this dataframe to an interactive table.\"\n",
              "              style=\"display:none;\">\n",
              "        \n",
              "  <svg xmlns=\"http://www.w3.org/2000/svg\" height=\"24px\"viewBox=\"0 0 24 24\"\n",
              "       width=\"24px\">\n",
              "    <path d=\"M0 0h24v24H0V0z\" fill=\"none\"/>\n",
              "    <path d=\"M18.56 5.44l.94 2.06.94-2.06 2.06-.94-2.06-.94-.94-2.06-.94 2.06-2.06.94zm-11 1L8.5 8.5l.94-2.06 2.06-.94-2.06-.94L8.5 2.5l-.94 2.06-2.06.94zm10 10l.94 2.06.94-2.06 2.06-.94-2.06-.94-.94-2.06-.94 2.06-2.06.94z\"/><path d=\"M17.41 7.96l-1.37-1.37c-.4-.4-.92-.59-1.43-.59-.52 0-1.04.2-1.43.59L10.3 9.45l-7.72 7.72c-.78.78-.78 2.05 0 2.83L4 21.41c.39.39.9.59 1.41.59.51 0 1.02-.2 1.41-.59l7.78-7.78 2.81-2.81c.8-.78.8-2.07 0-2.86zM5.41 20L4 18.59l7.72-7.72 1.47 1.35L5.41 20z\"/>\n",
              "  </svg>\n",
              "      </button>\n",
              "      \n",
              "  <style>\n",
              "    .colab-df-container {\n",
              "      display:flex;\n",
              "      flex-wrap:wrap;\n",
              "      gap: 12px;\n",
              "    }\n",
              "\n",
              "    .colab-df-convert {\n",
              "      background-color: #E8F0FE;\n",
              "      border: none;\n",
              "      border-radius: 50%;\n",
              "      cursor: pointer;\n",
              "      display: none;\n",
              "      fill: #1967D2;\n",
              "      height: 32px;\n",
              "      padding: 0 0 0 0;\n",
              "      width: 32px;\n",
              "    }\n",
              "\n",
              "    .colab-df-convert:hover {\n",
              "      background-color: #E2EBFA;\n",
              "      box-shadow: 0px 1px 2px rgba(60, 64, 67, 0.3), 0px 1px 3px 1px rgba(60, 64, 67, 0.15);\n",
              "      fill: #174EA6;\n",
              "    }\n",
              "\n",
              "    [theme=dark] .colab-df-convert {\n",
              "      background-color: #3B4455;\n",
              "      fill: #D2E3FC;\n",
              "    }\n",
              "\n",
              "    [theme=dark] .colab-df-convert:hover {\n",
              "      background-color: #434B5C;\n",
              "      box-shadow: 0px 1px 3px 1px rgba(0, 0, 0, 0.15);\n",
              "      filter: drop-shadow(0px 1px 2px rgba(0, 0, 0, 0.3));\n",
              "      fill: #FFFFFF;\n",
              "    }\n",
              "  </style>\n",
              "\n",
              "      <script>\n",
              "        const buttonEl =\n",
              "          document.querySelector('#df-fb29135f-4e61-4a21-97a9-23d4b5b79408 button.colab-df-convert');\n",
              "        buttonEl.style.display =\n",
              "          google.colab.kernel.accessAllowed ? 'block' : 'none';\n",
              "\n",
              "        async function convertToInteractive(key) {\n",
              "          const element = document.querySelector('#df-fb29135f-4e61-4a21-97a9-23d4b5b79408');\n",
              "          const dataTable =\n",
              "            await google.colab.kernel.invokeFunction('convertToInteractive',\n",
              "                                                     [key], {});\n",
              "          if (!dataTable) return;\n",
              "\n",
              "          const docLinkHtml = 'Like what you see? Visit the ' +\n",
              "            '<a target=\"_blank\" href=https://colab.research.google.com/notebooks/data_table.ipynb>data table notebook</a>'\n",
              "            + ' to learn more about interactive tables.';\n",
              "          element.innerHTML = '';\n",
              "          dataTable['output_type'] = 'display_data';\n",
              "          await google.colab.output.renderOutput(dataTable, element);\n",
              "          const docLink = document.createElement('div');\n",
              "          docLink.innerHTML = docLinkHtml;\n",
              "          element.appendChild(docLink);\n",
              "        }\n",
              "      </script>\n",
              "    </div>\n",
              "  </div>\n",
              "  "
            ]
          },
          "metadata": {}
        }
      ]
    },
    {
      "cell_type": "code",
      "source": [
        "# init\n",
        "\n",
        "print(\"Processing patient: %s\"%(pat_id))\n",
        "\n",
        "patient_df = cohort_df[cohort_df[\"PatientID\"] == pat_id]\n",
        "\n",
        "dicomseg_fn = pat_id + \"_SEG.dcm\"\n",
        "\n",
        "input_nifti_fn = pat_id + \"_0000.nii.gz\"\n",
        "input_nifti_path = os.path.join(model_input_folder, input_nifti_fn)\n",
        "\n",
        "pred_nifti_fn = pat_id + \".nii.gz\"\n",
        "pred_nifti_path = os.path.join(model_output_folder, pred_nifti_fn)\n",
        "\n",
        "pred_softmax_folder_name = \"pred_softmax\"\n",
        "pred_softmax_folder_path = os.path.join(processed_nifti_path, pat_id, pred_softmax_folder_name)"
      ],
      "metadata": {
        "colab": {
          "base_uri": "https://localhost:8080/"
        },
        "id": "S7a6h_iINlvq",
        "outputId": "1121a5ec-ded2-4d7b-9ae3-f61e3efcad3c"
      },
      "execution_count": null,
      "outputs": [
        {
          "output_type": "stream",
          "name": "stdout",
          "text": [
            "Processing patient: LUNG1-408\n"
          ]
        }
      ]
    },
    {
      "cell_type": "code",
      "source": [
        "# data cross-loading\n",
        "aimi_utils.gcs.download_patient_data(raw_base_path = raw_base_path,\n",
        "                                     sorted_base_path = sorted_base_path,\n",
        "                                     patient_df = patient_df,\n",
        "                                     remove_raw = True)"
      ],
      "metadata": {
        "colab": {
          "base_uri": "https://localhost:8080/"
        },
        "id": "NZDxWkvCNlxw",
        "outputId": "695b9595-f43b-406d-c2a0-571f07607b41"
      },
      "execution_count": null,
      "outputs": [
        {
          "output_type": "stream",
          "name": "stdout",
          "text": [
            "Copying files from IDC buckets to /content/data/raw/tmp/LUNG1-408...\n",
            "Done in 23.7601 seconds.\n",
            "\n",
            "Sorting DICOM files...\n",
            "Done in 1.18644 seconds.\n",
            "Sorted DICOM data saved at: /content/data/raw/nsclc_radiomics/dicom/LUNG1-408\n",
            "Removing un-sorted data at /content/data/raw/tmp/LUNG1-408...\n",
            "... Done.\n"
          ]
        }
      ]
    },
    {
      "cell_type": "code",
      "source": [
        "# DICOM CT to NIfTI - required for the processing\n",
        "aimi_utils.preprocessing.pypla_dicom_ct_to_nifti(sorted_base_path = sorted_base_path,\n",
        "                                                 processed_nifti_path = processed_nifti_path,\n",
        "                                                 pat_id = pat_id, verbose = True)"
      ],
      "metadata": {
        "id": "FfsY-_EGNs19",
        "colab": {
          "base_uri": "https://localhost:8080/"
        },
        "outputId": "3a322b25-3261-4657-b8df-99901cf404c1"
      },
      "execution_count": null,
      "outputs": [
        {
          "output_type": "stream",
          "name": "stdout",
          "text": [
            "\n",
            "Running 'plastimatch convert' with the specified arguments:\n",
            "  --input /content/data/raw/nsclc_radiomics/dicom/LUNG1-408/CT\n",
            "  --output-img /content/data/processed/nsclc_radiomics/nii/LUNG1-408/LUNG1-408_CT.nii.gz\n",
            "... Done.\n"
          ]
        }
      ]
    },
    {
      "cell_type": "code",
      "source": [
        "# prepare the `model_input` folder for the inference phase\n",
        "aimi_utils.preprocessing.prep_input_data(processed_nifti_path = processed_nifti_path,\n",
        "                                         model_input_folder = model_input_folder,\n",
        "                                         pat_id = pat_id)"
      ],
      "metadata": {
        "id": "0R547UiyNs4O",
        "colab": {
          "base_uri": "https://localhost:8080/"
        },
        "outputId": "8e163c93-acaf-4136-960f-9cda4e2632d4"
      },
      "execution_count": null,
      "outputs": [
        {
          "output_type": "stream",
          "name": "stdout",
          "text": [
            "Copying /content/data/processed/nsclc_radiomics/nii/LUNG1-408/LUNG1-408_CT.nii.gz\n",
            "to /content/data/model_input/LUNG1-408_0000.nii.gz...\n",
            "... Done.\n"
          ]
        }
      ]
    },
    {
      "cell_type": "code",
      "source": [
        "# run the DL-based prediction\n",
        "aimi_model.utils.processing.process_patient_nnunet(model_input_folder = model_input_folder,\n",
        "                                                   model_output_folder = model_output_folder, \n",
        "                                                   nnunet_model = nnunet_model, use_tta = use_tta,\n",
        "                                                   export_prob_maps = export_prob_maps)"
      ],
      "metadata": {
        "colab": {
          "base_uri": "https://localhost:8080/"
        },
        "id": "-OCLqzAzNs6K",
        "outputId": "be7aed05-78c6-45f2-a17c-9c057cb36770"
      },
      "execution_count": null,
      "outputs": [
        {
          "output_type": "stream",
          "name": "stdout",
          "text": [
            "Running `nnUNet_predict` with `3d_lowres` model...\n",
            "Processing file at /content/data/model_input/LUNG1-408_0000.nii.gz...\n",
            "Done in 338.845 seconds.\n"
          ]
        }
      ]
    },
    {
      "cell_type": "code",
      "source": [
        "model_output_seg = os.path.join(model_output_folder, pat_id + \".nii.gz\")\n",
        "seg_nii_path = os.path.join(processed_nifti_path, pat_id, pat_id + \"_pred_nsclc.nii.gz\")\n",
        "\n",
        "shutil.copyfile(model_output_seg, seg_nii_path)"
      ],
      "metadata": {
        "colab": {
          "base_uri": "https://localhost:8080/",
          "height": 36
        },
        "id": "OdhLTfQRVYBR",
        "outputId": "6dbb33ba-73cd-4fcb-da21-18f0d0c5a811"
      },
      "execution_count": null,
      "outputs": [
        {
          "output_type": "execute_result",
          "data": {
            "text/plain": [
              "'/content/data/processed/nsclc_radiomics/nii/LUNG1-408/LUNG1-408_pred_nsclc.nii.gz'"
            ],
            "application/vnd.google.colaboratory.intrinsic+json": {
              "type": "string"
            }
          },
          "metadata": {},
          "execution_count": 28
        }
      ]
    },
    {
      "cell_type": "code",
      "source": [
        "if export_prob_maps:\n",
        "  aimi_model.utils.postprocessing.numpy_to_nrrd(model_output_folder = model_output_folder,\n",
        "                                                processed_nrrd_path = processed_nifti_path,\n",
        "                                                pat_id = pat_id,\n",
        "                                                output_folder_name = pred_softmax_folder_name)"
      ],
      "metadata": {
        "id": "4SVgqT_kNs8X"
      },
      "execution_count": null,
      "outputs": []
    },
    {
      "cell_type": "markdown",
      "source": [
        "Before running the conversion to DICOM SEG, update the JSON file used to generate the DICOM SEG object with the configuration of nnU-Net we are going to be using for the specific run."
      ],
      "metadata": {
        "id": "0UWyjE1505fV"
      }
    },
    {
      "cell_type": "code",
      "source": [
        "extended_model_name = \"nnU-Net \" + nnunet_model + \"_tta\" if use_tta else \"nnU-Net \" + nnunet_model\n",
        "\n",
        "aimi_utils.config.modify_dicomseg_json_file(dicomseg_json_path = dicomseg_json_path,\n",
        "                                            new_dicomseg_json_path = dicomseg_json_path,\n",
        "                                            SegmentAlgorithmName = extended_model_name)"
      ],
      "metadata": {
        "id": "-B-kePw4zyBL"
      },
      "execution_count": null,
      "outputs": []
    },
    {
      "cell_type": "code",
      "source": [
        "aimi_model.utils.postprocessing.nifti_to_dicomseg(sorted_base_path = sorted_base_path,\n",
        "                                                  processed_base_path = processed_base_path,\n",
        "                                                  dicomseg_json_path = dicomseg_json_path,\n",
        "                                                  pat_id = pat_id)"
      ],
      "metadata": {
        "id": "rQ9FSB77TH6g"
      },
      "execution_count": null,
      "outputs": []
    },
    {
      "cell_type": "markdown",
      "source": [
        "---"
      ],
      "metadata": {
        "id": "But1jZOmo1YN"
      }
    },
    {
      "cell_type": "code",
      "source": [
        "from pyplastimatch.utils import viz as viz_utils"
      ],
      "metadata": {
        "id": "SPAivMyyqReY"
      },
      "execution_count": null,
      "outputs": []
    },
    {
      "cell_type": "code",
      "source": [
        "ct_nii_path = os.path.join(\"/content/data/processed/%s/nii/\"%dataset_name, pat_id, pat_id + \"_CT.nii.gz\")\n",
        "seg_nii_path = os.path.join(\"/content/data/nnunet_output/\", pat_id + \".nii.gz\")\n",
        "softseg_nii_path = os.path.join(\"/content/data/nnunet_output/\", pat_id + \".npz\")\n",
        "\n",
        "\"\"\"\n",
        "alternative way of loading the resulting NIfTI files\n",
        "nibabel can sometimes take better care of the orientation of the\n",
        "converted/segmented images, but will orient the data differently by default\n",
        "\"\"\"\n",
        "\n",
        "#ct_nii = nib.load(ct_nii_path).dataobj\n",
        "#seg_nii = nib.load(seg_nii_path).dataobj\n",
        "\n",
        "ct_nii = sitk.GetArrayFromImage(sitk.ReadImage(ct_nii_path))\n",
        "seg_nii = sitk.GetArrayFromImage(sitk.ReadImage(seg_nii_path))"
      ],
      "metadata": {
        "id": "gxrHpkeapMKe"
      },
      "execution_count": null,
      "outputs": []
    },
    {
      "cell_type": "markdown",
      "source": [
        "In some cases, the nnU-Net model will fail in segmenting the pancreatic cancer from the CT scan. The voxels of the NIfTI volume resulting from the pipeline will therefore take only two values: 0, for background, and 1, for pancreas.\n",
        "\n",
        "In the next cell, we can visualise the result using a simple widget - after taking care of the potential aforementioned exception."
      ],
      "metadata": {
        "id": "5Ydjya0OX5yd"
      }
    },
    {
      "cell_type": "code",
      "source": [
        "_ = viz_utils.AxialSliceSegmaskViz(ct_volume = ct_nii,\n",
        "                                    segmask_dict = {\"cancer\" : seg_nii},\n",
        "                                    segmask_cmap_dict = {\"cancer\" : my_reds},\n",
        "                                    dpi = 100, figsize = (8, 8),\n",
        "                                    min_hu = -1024, max_hu = 1024)"
      ],
      "metadata": {
        "id": "imBup5S2qcpM",
        "colab": {
          "base_uri": "https://localhost:8080/",
          "height": 701,
          "referenced_widgets": [
            "c4b4278a358b420caec47465cf8c6395",
            "2617c19d723e4b95887d7aaaa63c3335",
            "320f62cc52d649eb80657e919c1a82ff",
            "e1ce05ab82144958b69be3391d9cc6d0",
            "15b9a8c0256a474481cb6b1411625148",
            "bd91a584e1054c57bda3a8cafb8b1e25",
            "04608274c895423babcf13b03cc29aad",
            "d35e5fc78c73424e9a277661e9c8216f",
            "5037719bc446438ebbe50d4caef8a3aa",
            "d6a4ec9517324ef2a8f190b18e61f6f3",
            "b926e5dd35354f39847af803c5869e71"
          ]
        },
        "outputId": "1fcf9ed4-1874-4f45-e36b-dc961a2ef39b"
      },
      "execution_count": 37,
      "outputs": [
        {
          "output_type": "display_data",
          "data": {
            "text/plain": [
              "interactive(children=(Output(),), _dom_classes=('widget-interact',))"
            ],
            "application/vnd.jupyter.widget-view+json": {
              "version_major": 2,
              "version_minor": 0,
              "model_id": "c4b4278a358b420caec47465cf8c6395"
            }
          },
          "metadata": {}
        }
      ]
    },
    {
      "cell_type": "markdown",
      "source": [
        "---\n",
        "\n",
        "## **Data Download**"
      ],
      "metadata": {
        "id": "i2QqrdvXqQq0"
      }
    },
    {
      "cell_type": "code",
      "source": [
        "%%capture\n",
        "\n",
        "archive_fn = \"%s.zip\"%(pat_id)\n",
        "\n",
        "try:\n",
        "  os.remove(archive_fn)\n",
        "except OSError:\n",
        "  pass\n",
        "\n",
        "seg_dicom_path = os.path.join(processed_dicomseg_path, pat_id, dicomseg_fn)\n",
        "ct_dicom_path = os.path.join(sorted_base_path, pat_id)\n",
        "\n",
        "!zip -j -r $archive_fn $ct_dicom_path $seg_dicom_path"
      ],
      "metadata": {
        "id": "ARmBD0lHdz_2"
      },
      "execution_count": null,
      "outputs": []
    },
    {
      "cell_type": "code",
      "source": [
        "filesize = os.stat(archive_fn).st_size/1024e03\n",
        "print('Starting the download of \"%s\" (%2.1f MB)...\\n'%(archive_fn, filesize))\n",
        "\n",
        "files.download(archive_fn)"
      ],
      "metadata": {
        "id": "8pE0X9kid0D-",
        "colab": {
          "base_uri": "https://localhost:8080/",
          "height": 69
        },
        "outputId": "f0186ad7-735c-4c07-fcf3-a1a1a42aef33"
      },
      "execution_count": null,
      "outputs": [
        {
          "output_type": "stream",
          "name": "stdout",
          "text": [
            "Starting the download of \"LUNG1-408.zip\" (24.6 MB)...\n",
            "\n"
          ]
        },
        {
          "output_type": "display_data",
          "data": {
            "text/plain": [
              "<IPython.core.display.Javascript object>"
            ],
            "application/javascript": [
              "\n",
              "    async function download(id, filename, size) {\n",
              "      if (!google.colab.kernel.accessAllowed) {\n",
              "        return;\n",
              "      }\n",
              "      const div = document.createElement('div');\n",
              "      const label = document.createElement('label');\n",
              "      label.textContent = `Downloading \"${filename}\": `;\n",
              "      div.appendChild(label);\n",
              "      const progress = document.createElement('progress');\n",
              "      progress.max = size;\n",
              "      div.appendChild(progress);\n",
              "      document.body.appendChild(div);\n",
              "\n",
              "      const buffers = [];\n",
              "      let downloaded = 0;\n",
              "\n",
              "      const channel = await google.colab.kernel.comms.open(id);\n",
              "      // Send a message to notify the kernel that we're ready.\n",
              "      channel.send({})\n",
              "\n",
              "      for await (const message of channel.messages) {\n",
              "        // Send a message to notify the kernel that we're ready.\n",
              "        channel.send({})\n",
              "        if (message.buffers) {\n",
              "          for (const buffer of message.buffers) {\n",
              "            buffers.push(buffer);\n",
              "            downloaded += buffer.byteLength;\n",
              "            progress.value = downloaded;\n",
              "          }\n",
              "        }\n",
              "      }\n",
              "      const blob = new Blob(buffers, {type: 'application/binary'});\n",
              "      const a = document.createElement('a');\n",
              "      a.href = window.URL.createObjectURL(blob);\n",
              "      a.download = filename;\n",
              "      div.appendChild(a);\n",
              "      a.click();\n",
              "      div.remove();\n",
              "    }\n",
              "  "
            ]
          },
          "metadata": {}
        },
        {
          "output_type": "display_data",
          "data": {
            "text/plain": [
              "<IPython.core.display.Javascript object>"
            ],
            "application/javascript": [
              "download(\"download_d7766368-114e-41f6-a4ba-767527d033c7\", \"LUNG1-408.zip\", 25207109)"
            ]
          },
          "metadata": {}
        }
      ]
    },
    {
      "cell_type": "code",
      "source": [],
      "metadata": {
        "id": "yRqbV46S4d8F"
      },
      "execution_count": null,
      "outputs": []
    }
  ],
  "metadata": {
    "colab": {
      "collapsed_sections": [],
      "provenance": [],
      "machine_shape": "hm",
      "toc_visible": true,
      "include_colab_link": true
    },
    "kernelspec": {
      "display_name": "Python 3",
      "name": "python3"
    },
    "language_info": {
      "name": "python"
    },
    "accelerator": "GPU",
    "gpuClass": "standard",
    "widgets": {
      "application/vnd.jupyter.widget-state+json": {
        "c4b4278a358b420caec47465cf8c6395": {
          "model_module": "@jupyter-widgets/controls",
          "model_name": "VBoxModel",
          "model_module_version": "1.5.0",
          "state": {
            "_dom_classes": [
              "widget-interact"
            ],
            "_model_module": "@jupyter-widgets/controls",
            "_model_module_version": "1.5.0",
            "_model_name": "VBoxModel",
            "_view_count": null,
            "_view_module": "@jupyter-widgets/controls",
            "_view_module_version": "1.5.0",
            "_view_name": "VBoxView",
            "box_style": "",
            "children": [
              "IPY_MODEL_2617c19d723e4b95887d7aaaa63c3335"
            ],
            "layout": "IPY_MODEL_320f62cc52d649eb80657e919c1a82ff"
          }
        },
        "2617c19d723e4b95887d7aaaa63c3335": {
          "model_module": "@jupyter-widgets/output",
          "model_name": "OutputModel",
          "model_module_version": "1.0.0",
          "state": {
            "_dom_classes": [],
            "_model_module": "@jupyter-widgets/output",
            "_model_module_version": "1.0.0",
            "_model_name": "OutputModel",
            "_view_count": null,
            "_view_module": "@jupyter-widgets/output",
            "_view_module_version": "1.0.0",
            "_view_name": "OutputView",
            "layout": "IPY_MODEL_15b9a8c0256a474481cb6b1411625148",
            "msg_id": "",
            "outputs": [
              {
                "output_type": "display_data",
                "data": {
                  "text/plain": "interactive(children=(IntSlider(value=0, description='Axial slice:', max=106), Output()), _dom_classes=('widge…",
                  "application/vnd.jupyter.widget-view+json": {
                    "version_major": 2,
                    "version_minor": 0,
                    "model_id": "e1ce05ab82144958b69be3391d9cc6d0"
                  }
                },
                "metadata": {}
              }
            ]
          }
        },
        "320f62cc52d649eb80657e919c1a82ff": {
          "model_module": "@jupyter-widgets/base",
          "model_name": "LayoutModel",
          "model_module_version": "1.2.0",
          "state": {
            "_model_module": "@jupyter-widgets/base",
            "_model_module_version": "1.2.0",
            "_model_name": "LayoutModel",
            "_view_count": null,
            "_view_module": "@jupyter-widgets/base",
            "_view_module_version": "1.2.0",
            "_view_name": "LayoutView",
            "align_content": null,
            "align_items": null,
            "align_self": null,
            "border": null,
            "bottom": null,
            "display": null,
            "flex": null,
            "flex_flow": null,
            "grid_area": null,
            "grid_auto_columns": null,
            "grid_auto_flow": null,
            "grid_auto_rows": null,
            "grid_column": null,
            "grid_gap": null,
            "grid_row": null,
            "grid_template_areas": null,
            "grid_template_columns": null,
            "grid_template_rows": null,
            "height": null,
            "justify_content": null,
            "justify_items": null,
            "left": null,
            "margin": null,
            "max_height": null,
            "max_width": null,
            "min_height": null,
            "min_width": null,
            "object_fit": null,
            "object_position": null,
            "order": null,
            "overflow": null,
            "overflow_x": null,
            "overflow_y": null,
            "padding": null,
            "right": null,
            "top": null,
            "visibility": null,
            "width": null
          }
        },
        "e1ce05ab82144958b69be3391d9cc6d0": {
          "model_module": "@jupyter-widgets/controls",
          "model_name": "VBoxModel",
          "model_module_version": "1.5.0",
          "state": {
            "_dom_classes": [
              "widget-interact"
            ],
            "_model_module": "@jupyter-widgets/controls",
            "_model_module_version": "1.5.0",
            "_model_name": "VBoxModel",
            "_view_count": null,
            "_view_module": "@jupyter-widgets/controls",
            "_view_module_version": "1.5.0",
            "_view_name": "VBoxView",
            "box_style": "",
            "children": [
              "IPY_MODEL_bd91a584e1054c57bda3a8cafb8b1e25",
              "IPY_MODEL_04608274c895423babcf13b03cc29aad"
            ],
            "layout": "IPY_MODEL_d35e5fc78c73424e9a277661e9c8216f"
          }
        },
        "15b9a8c0256a474481cb6b1411625148": {
          "model_module": "@jupyter-widgets/base",
          "model_name": "LayoutModel",
          "model_module_version": "1.2.0",
          "state": {
            "_model_module": "@jupyter-widgets/base",
            "_model_module_version": "1.2.0",
            "_model_name": "LayoutModel",
            "_view_count": null,
            "_view_module": "@jupyter-widgets/base",
            "_view_module_version": "1.2.0",
            "_view_name": "LayoutView",
            "align_content": null,
            "align_items": null,
            "align_self": null,
            "border": null,
            "bottom": null,
            "display": null,
            "flex": null,
            "flex_flow": null,
            "grid_area": null,
            "grid_auto_columns": null,
            "grid_auto_flow": null,
            "grid_auto_rows": null,
            "grid_column": null,
            "grid_gap": null,
            "grid_row": null,
            "grid_template_areas": null,
            "grid_template_columns": null,
            "grid_template_rows": null,
            "height": null,
            "justify_content": null,
            "justify_items": null,
            "left": null,
            "margin": null,
            "max_height": null,
            "max_width": null,
            "min_height": null,
            "min_width": null,
            "object_fit": null,
            "object_position": null,
            "order": null,
            "overflow": null,
            "overflow_x": null,
            "overflow_y": null,
            "padding": null,
            "right": null,
            "top": null,
            "visibility": null,
            "width": null
          }
        },
        "bd91a584e1054c57bda3a8cafb8b1e25": {
          "model_module": "@jupyter-widgets/controls",
          "model_name": "IntSliderModel",
          "model_module_version": "1.5.0",
          "state": {
            "_dom_classes": [],
            "_model_module": "@jupyter-widgets/controls",
            "_model_module_version": "1.5.0",
            "_model_name": "IntSliderModel",
            "_view_count": null,
            "_view_module": "@jupyter-widgets/controls",
            "_view_module_version": "1.5.0",
            "_view_name": "IntSliderView",
            "continuous_update": true,
            "description": "Axial slice:",
            "description_tooltip": null,
            "disabled": false,
            "layout": "IPY_MODEL_5037719bc446438ebbe50d4caef8a3aa",
            "max": 106,
            "min": 0,
            "orientation": "horizontal",
            "readout": true,
            "readout_format": "d",
            "step": 1,
            "style": "IPY_MODEL_d6a4ec9517324ef2a8f190b18e61f6f3",
            "value": 54
          }
        },
        "04608274c895423babcf13b03cc29aad": {
          "model_module": "@jupyter-widgets/output",
          "model_name": "OutputModel",
          "model_module_version": "1.0.0",
          "state": {
            "_dom_classes": [],
            "_model_module": "@jupyter-widgets/output",
            "_model_module_version": "1.0.0",
            "_model_name": "OutputModel",
            "_view_count": null,
            "_view_module": "@jupyter-widgets/output",
            "_view_module_version": "1.0.0",
            "_view_name": "OutputView",
            "layout": "IPY_MODEL_b926e5dd35354f39847af803c5869e71",
            "msg_id": "",
            "outputs": [
              {
                "output_type": "display_data",
                "data": {
                  "text/plain": "<Figure size 800x800 with 1 Axes>",
                  "image/png": "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\n"
                },
                "metadata": {
                  "needs_background": "light"
                }
              }
            ]
          }
        },
        "d35e5fc78c73424e9a277661e9c8216f": {
          "model_module": "@jupyter-widgets/base",
          "model_name": "LayoutModel",
          "model_module_version": "1.2.0",
          "state": {
            "_model_module": "@jupyter-widgets/base",
            "_model_module_version": "1.2.0",
            "_model_name": "LayoutModel",
            "_view_count": null,
            "_view_module": "@jupyter-widgets/base",
            "_view_module_version": "1.2.0",
            "_view_name": "LayoutView",
            "align_content": null,
            "align_items": null,
            "align_self": null,
            "border": null,
            "bottom": null,
            "display": null,
            "flex": null,
            "flex_flow": null,
            "grid_area": null,
            "grid_auto_columns": null,
            "grid_auto_flow": null,
            "grid_auto_rows": null,
            "grid_column": null,
            "grid_gap": null,
            "grid_row": null,
            "grid_template_areas": null,
            "grid_template_columns": null,
            "grid_template_rows": null,
            "height": null,
            "justify_content": null,
            "justify_items": null,
            "left": null,
            "margin": null,
            "max_height": null,
            "max_width": null,
            "min_height": null,
            "min_width": null,
            "object_fit": null,
            "object_position": null,
            "order": null,
            "overflow": null,
            "overflow_x": null,
            "overflow_y": null,
            "padding": null,
            "right": null,
            "top": null,
            "visibility": null,
            "width": null
          }
        },
        "5037719bc446438ebbe50d4caef8a3aa": {
          "model_module": "@jupyter-widgets/base",
          "model_name": "LayoutModel",
          "model_module_version": "1.2.0",
          "state": {
            "_model_module": "@jupyter-widgets/base",
            "_model_module_version": "1.2.0",
            "_model_name": "LayoutModel",
            "_view_count": null,
            "_view_module": "@jupyter-widgets/base",
            "_view_module_version": "1.2.0",
            "_view_name": "LayoutView",
            "align_content": null,
            "align_items": null,
            "align_self": null,
            "border": null,
            "bottom": null,
            "display": null,
            "flex": null,
            "flex_flow": null,
            "grid_area": null,
            "grid_auto_columns": null,
            "grid_auto_flow": null,
            "grid_auto_rows": null,
            "grid_column": null,
            "grid_gap": null,
            "grid_row": null,
            "grid_template_areas": null,
            "grid_template_columns": null,
            "grid_template_rows": null,
            "height": null,
            "justify_content": null,
            "justify_items": null,
            "left": null,
            "margin": null,
            "max_height": null,
            "max_width": null,
            "min_height": null,
            "min_width": null,
            "object_fit": null,
            "object_position": null,
            "order": null,
            "overflow": null,
            "overflow_x": null,
            "overflow_y": null,
            "padding": null,
            "right": null,
            "top": null,
            "visibility": null,
            "width": null
          }
        },
        "d6a4ec9517324ef2a8f190b18e61f6f3": {
          "model_module": "@jupyter-widgets/controls",
          "model_name": "SliderStyleModel",
          "model_module_version": "1.5.0",
          "state": {
            "_model_module": "@jupyter-widgets/controls",
            "_model_module_version": "1.5.0",
            "_model_name": "SliderStyleModel",
            "_view_count": null,
            "_view_module": "@jupyter-widgets/base",
            "_view_module_version": "1.2.0",
            "_view_name": "StyleView",
            "description_width": "",
            "handle_color": null
          }
        },
        "b926e5dd35354f39847af803c5869e71": {
          "model_module": "@jupyter-widgets/base",
          "model_name": "LayoutModel",
          "model_module_version": "1.2.0",
          "state": {
            "_model_module": "@jupyter-widgets/base",
            "_model_module_version": "1.2.0",
            "_model_name": "LayoutModel",
            "_view_count": null,
            "_view_module": "@jupyter-widgets/base",
            "_view_module_version": "1.2.0",
            "_view_name": "LayoutView",
            "align_content": null,
            "align_items": null,
            "align_self": null,
            "border": null,
            "bottom": null,
            "display": null,
            "flex": null,
            "flex_flow": null,
            "grid_area": null,
            "grid_auto_columns": null,
            "grid_auto_flow": null,
            "grid_auto_rows": null,
            "grid_column": null,
            "grid_gap": null,
            "grid_row": null,
            "grid_template_areas": null,
            "grid_template_columns": null,
            "grid_template_rows": null,
            "height": null,
            "justify_content": null,
            "justify_items": null,
            "left": null,
            "margin": null,
            "max_height": null,
            "max_width": null,
            "min_height": null,
            "min_width": null,
            "object_fit": null,
            "object_position": null,
            "order": null,
            "overflow": null,
            "overflow_x": null,
            "overflow_y": null,
            "padding": null,
            "right": null,
            "top": null,
            "visibility": null,
            "width": null
          }
        }
      }
    }
  },
  "nbformat": 4,
  "nbformat_minor": 0
}