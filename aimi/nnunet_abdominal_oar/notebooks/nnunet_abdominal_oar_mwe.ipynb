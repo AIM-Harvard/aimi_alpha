{
  "cells": [
    {
      "cell_type": "markdown",
      "metadata": {
        "id": "view-in-github",
        "colab_type": "text"
      },
      "source": [
        "<a href=\"https://colab.research.google.com/github/AIM-Harvard/aimi_alpha/blob/main/aimi/nnunet_abdominal_oar/notebooks/nnunet_abdominal_oar_mwe.ipynb\" target=\"_parent\"><img src=\"https://colab.research.google.com/assets/colab-badge.svg\" alt=\"Open In Colab\"/></a>"
      ]
    },
    {
      "cell_type": "markdown",
      "metadata": {
        "id": "Pmb_HiJv7Sit"
      },
      "source": [
        "# **ModelHub - Abdominal Organs at Risk Segmentation**\n",
        "\n",
        "This notebook provides an example of how to run an end-to-end (cloud-based) data analysis using the nnU-Net abdominal organs at risk segmentation model.\n",
        "\n",
        "The way all the operations are executed - from pulling data to data postprocessing and the standardisation of the results - have the goal of promoting transparency and reproducibility."
      ]
    },
    {
      "cell_type": "markdown",
      "metadata": {
        "id": "CZnoRi9Y7nEB"
      },
      "source": [
        "## **Environment Setup**\n",
        "\n",
        "This demo notebook is intended to be run using a GPU.\n",
        "\n",
        "To access a free GPU on Colab:\n",
        "`Edit > Notebooks Settings`.\n",
        "\n",
        "From the dropdown menu under `Hardware accelerator`, select `GPU`. Let's check the Colab instance is indeed equipped with a GPU."
      ]
    },
    {
      "cell_type": "code",
      "execution_count": null,
      "metadata": {
        "colab": {
          "base_uri": "https://localhost:8080/"
        },
        "id": "non5qVLIcG4M",
        "outputId": "3c1a7d19-1d45-4b63-9603-4c1c1caa5906"
      },
      "outputs": [
        {
          "output_type": "stream",
          "name": "stdout",
          "text": [
            "Thu Sep 22 09:36:34 2022\n",
            "\n",
            "Current directory : /content\n",
            "Hostname          : 45ab8fd7a666\n",
            "Username          : root\n",
            "Python version    : 3.7.14 (default, Sep  8 2022, 00:06:44) \n"
          ]
        }
      ],
      "source": [
        "import os\n",
        "import sys\n",
        "import shutil\n",
        "\n",
        "import yaml\n",
        "\n",
        "import time\n",
        "import tqdm\n",
        "\n",
        "\n",
        "# useful information\n",
        "curr_dir = !pwd\n",
        "curr_droid = !hostname\n",
        "curr_pilot = !whoami\n",
        "\n",
        "print(time.asctime(time.localtime()))\n",
        "\n",
        "print(\"\\nCurrent directory :\", curr_dir[-1])\n",
        "print(\"Hostname          :\", curr_droid[-1])\n",
        "print(\"Username          :\", curr_pilot[-1])\n",
        "\n",
        "print(\"Python version    :\", sys.version.split('\\n')[0])"
      ]
    },
    {
      "cell_type": "markdown",
      "source": [
        "The authentication to Google is necessary to run BigQuery queries.\n",
        "\n",
        "Every operation throughout the whole notebook (BigQuery, fetching data from the IDC buckets) is completely free. The only thing that is needed in order to run the notebook is the set-up of a Google Cloud project. In order for the notebook to work as intended, you will need to specify the name of the project in the cell after the authentication one."
      ],
      "metadata": {
        "id": "0PKq2z2jkVJz"
      }
    },
    {
      "cell_type": "code",
      "execution_count": null,
      "metadata": {
        "id": "2DMUqTOVF5WP"
      },
      "outputs": [],
      "source": [
        "from google.colab import auth\n",
        "auth.authenticate_user()"
      ]
    },
    {
      "cell_type": "code",
      "execution_count": null,
      "metadata": {
        "id": "9Y43S1F35h8m"
      },
      "outputs": [],
      "source": [
        "from google.colab import files\n",
        "from google.cloud import storage\n",
        "from google.cloud import bigquery as bq\n",
        "\n",
        "# INSERT THE ID OF YOUR PROJECT HERE!\n",
        "project_id = \"idc-sandbox-000\""
      ]
    },
    {
      "cell_type": "markdown",
      "metadata": {
        "id": "oT7coYaGfd4t"
      },
      "source": [
        "Throughout this Colab notebook, for image pre-processing we will use [Plastimatch](https://plastimatch.org), a reliable and open source software for image computation. We will be running Plastimatch using the simple [PyPlastimatch](https://github.com/AIM-Harvard/pyplastimatch/tree/main/pyplastimatch) python wrapper. "
      ]
    },
    {
      "cell_type": "code",
      "execution_count": null,
      "metadata": {
        "id": "6NLhlFqyEgBf"
      },
      "outputs": [],
      "source": [
        "%%capture\n",
        "!apt install plastimatch"
      ]
    },
    {
      "cell_type": "code",
      "execution_count": null,
      "metadata": {
        "colab": {
          "base_uri": "https://localhost:8080/"
        },
        "id": "_ILwxgbcfcpr",
        "outputId": "a7e2aedd-80d8-4dee-cb01-45fea0aaae78"
      },
      "outputs": [
        {
          "output_type": "stream",
          "name": "stdout",
          "text": [
            "plastimatch version 1.7.0\n"
          ]
        }
      ],
      "source": [
        "# check plastimatch was correctly installed\n",
        "!plastimatch --version"
      ]
    },
    {
      "cell_type": "markdown",
      "source": [
        "---\n",
        "\n",
        "Start by cloning the AIMI hub repository on the Colab instance.\n",
        "\n",
        "The AIMI hub repository stores all the code we will use for pulling, preprocessing, processing, and postprocessing the data for this use case - as long as the others shared through AIMI hub."
      ],
      "metadata": {
        "id": "MrNlgYZJIxkf"
      }
    },
    {
      "cell_type": "code",
      "source": [
        "!git clone https://github.com/AIM-Harvard/aimi_alpha.git aimi"
      ],
      "metadata": {
        "colab": {
          "base_uri": "https://localhost:8080/"
        },
        "id": "y5lBiCWMJF9d",
        "outputId": "c7709f17-3956-4d65-d82a-635195c84e56"
      },
      "execution_count": null,
      "outputs": [
        {
          "output_type": "stream",
          "name": "stdout",
          "text": [
            "fatal: destination path 'aimi' already exists and is not an empty directory.\n"
          ]
        }
      ]
    },
    {
      "cell_type": "markdown",
      "source": [
        "To organise the DICOM data in a more common (and human-understandable) fashion after downloading those from the buckets, we will make use of [DICOMSort](https://github.com/pieper/dicomsort). \n",
        "\n",
        "DICOMSort is an open source tool for custom sorting and renaming of dicom files based on their specific DICOM tags. In our case, we will exploit DICOMSort to organise the DICOM data by `PatientID` and `Modality` - so that the final directory will look like the following:\n",
        "\n",
        "```\n",
        "data/raw/nsclc-radiomics/dicom/$PatientID\n",
        " └─── CT\n",
        "       ├─── $SOPInstanceUID_slice0.dcm\n",
        "       ├─── $SOPInstanceUID_slice1.dcm\n",
        "       ├───  ...\n",
        "       │\n",
        "      RTSTRUCT \n",
        "       ├─── $SOPInstanceUID_RTSTRUCT.dcm\n",
        "      SEG\n",
        "       └─── $SOPInstanceUID_RTSEG.dcm\n",
        "\n",
        "```"
      ],
      "metadata": {
        "id": "Pcj1hYK7lzmA"
      }
    },
    {
      "cell_type": "code",
      "source": [
        "!git clone https://github.com/pieper/dicomsort dicomsort"
      ],
      "metadata": {
        "colab": {
          "base_uri": "https://localhost:8080/"
        },
        "id": "Py53FxrlD9eK",
        "outputId": "a2cd8f5d-aec1-4d09-b6c7-1499fbe8d22f"
      },
      "execution_count": null,
      "outputs": [
        {
          "output_type": "stream",
          "name": "stdout",
          "text": [
            "fatal: destination path 'dicomsort' already exists and is not an empty directory.\n"
          ]
        }
      ]
    },
    {
      "cell_type": "markdown",
      "metadata": {
        "id": "7ztrKrzSm1WT"
      },
      "source": [
        "We will also use DCMQI for converting the resulting segmentation into standard DICOM SEG objects."
      ]
    },
    {
      "cell_type": "code",
      "execution_count": null,
      "metadata": {
        "id": "iYf72nA8m0wh"
      },
      "outputs": [],
      "source": [
        "%%capture\n",
        "dcmqi_release_url = \"https://github.com/QIICR/dcmqi/releases/download/v1.2.4/dcmqi-1.2.4-linux.tar.gz\"\n",
        "dcmqi_download_path = \"/content/dcmqi-1.2.4-linux.tar.gz\"\n",
        "dcmqi_path = \"/content/dcmqi-1.2.4-linux\"\n",
        "\n",
        "!wget -O $dcmqi_download_path $dcmqi_release_url\n",
        "\n",
        "!tar -xvf $dcmqi_download_path\n",
        "\n",
        "!mv $dcmqi_path/bin/* /bin"
      ]
    },
    {
      "cell_type": "markdown",
      "metadata": {
        "id": "4JBJmF7rmz1S"
      },
      "source": [
        "---"
      ]
    },
    {
      "cell_type": "code",
      "execution_count": null,
      "metadata": {
        "id": "CthT1kRuywEh"
      },
      "outputs": [],
      "source": [
        "%%capture\n",
        "!pip install pyplastimatch nnunet ipywidgets"
      ]
    },
    {
      "cell_type": "code",
      "source": [
        "import shutil\n",
        "import random\n",
        "\n",
        "import json\n",
        "import pprint\n",
        "import numpy as np\n",
        "import pandas as pd\n",
        "\n",
        "import pydicom\n",
        "import nibabel as nib\n",
        "import SimpleITK as sitk\n",
        "import pyplastimatch as pypla\n",
        "\n",
        "print(\"Python version               : \", sys.version.split('\\n')[0])\n",
        "print(\"Numpy version                : \", np.__version__)\n",
        "\n",
        "# ----------------------------------------\n",
        "\n",
        "#everything that has to do with plotting goes here below\n",
        "import matplotlib\n",
        "matplotlib.use(\"agg\")\n",
        "\n",
        "import matplotlib.pyplot as plt\n",
        "from matplotlib.colors import ListedColormap\n",
        "from matplotlib.patches import Patch\n",
        "\n",
        "%matplotlib inline\n",
        "%config InlineBackend.figure_format = \"png\"\n",
        "\n",
        "import ipywidgets as ipyw\n",
        "\n",
        "## ----------------------------------------\n",
        "\n",
        "# create new colormap appending the alpha channel to the selected one\n",
        "# (so that we don't get a \\\"color overlay\\\" when plotting the segmask superimposed to the CT)\n",
        "cmap = plt.cm.Reds\n",
        "my_reds = cmap(np.arange(cmap.N))\n",
        "my_reds[:, -1] = np.linspace(0, 1, cmap.N)\n",
        "my_reds = ListedColormap(my_reds)\n",
        "\n",
        "cmap = plt.cm.Greens\n",
        "my_greens = cmap(np.arange(cmap.N))\n",
        "my_greens[:, -1] = np.linspace(0, 1, cmap.N)\n",
        "my_greens = ListedColormap(my_greens)\n",
        "\n",
        "cmap = plt.cm.Blues\n",
        "my_blues = cmap(np.arange(cmap.N))\n",
        "my_blues[:, -1] = np.linspace(0, 1, cmap.N)\n",
        "my_blues = ListedColormap(my_blues)\n",
        "\n",
        "cmap = plt.cm.spring\n",
        "my_spring = cmap(np.arange(cmap.N))\n",
        "my_spring[:, -1] = np.linspace(0, 1, cmap.N)\n",
        "my_spring = ListedColormap(my_spring)\n",
        "## ----------------------------------------\n",
        "\n",
        "import seaborn as sns"
      ],
      "metadata": {
        "colab": {
          "base_uri": "https://localhost:8080/"
        },
        "id": "3euRfHl7pe2u",
        "outputId": "b6b15c29-002a-4108-e3fd-e602db2b2c61"
      },
      "execution_count": null,
      "outputs": [
        {
          "output_type": "stream",
          "name": "stdout",
          "text": [
            "Python version               :  3.7.14 (default, Sep  8 2022, 00:06:44) \n",
            "Numpy version                :  1.21.6\n"
          ]
        }
      ]
    },
    {
      "cell_type": "markdown",
      "source": [
        "Provided everything was set up correctly, we can run the BigQuery query and get all the information we need to download the testing data from the IDC platform.\n",
        "\n",
        "For this specific use case, we are going to be working with the NSCLC-Radiomics collection (Chest CT scans of lung cancer patients, with manual delineation of various organs at risk)."
      ],
      "metadata": {
        "id": "aZOtlGtcmOq5"
      }
    },
    {
      "cell_type": "code",
      "source": [
        "%%bigquery --project=$project_id cohort_df\n",
        "\n",
        "SELECT\n",
        "  dicom_pivot_v11.PatientID,\n",
        "  dicom_pivot_v11.collection_id,\n",
        "  dicom_pivot_v11.source_DOI,\n",
        "  dicom_pivot_v11.StudyInstanceUID,\n",
        "  dicom_pivot_v11.SeriesInstanceUID,\n",
        "  dicom_pivot_v11.SOPInstanceUID,\n",
        "  dicom_pivot_v11.gcs_url\n",
        "FROM\n",
        "  `bigquery-public-data.idc_v11.dicom_pivot_v11` dicom_pivot_v11\n",
        "WHERE\n",
        "  StudyInstanceUID IN (\n",
        "    SELECT\n",
        "      StudyInstanceUID\n",
        "    FROM\n",
        "      `bigquery-public-data.idc_v11.dicom_pivot_v11` dicom_pivot_v11\n",
        "    WHERE\n",
        "      (\n",
        "        dicom_pivot_v11.collection_id IN ('Community', 'stageii_colorectal_ct')\n",
        "      )\n",
        "    GROUP BY\n",
        "      StudyInstanceUID\n",
        "  )\n",
        "GROUP BY\n",
        "  dicom_pivot_v11.PatientID,\n",
        "  dicom_pivot_v11.collection_id,\n",
        "  dicom_pivot_v11.source_DOI,\n",
        "  dicom_pivot_v11.StudyInstanceUID,\n",
        "  dicom_pivot_v11.SeriesInstanceUID,\n",
        "  dicom_pivot_v11.SOPInstanceUID,\n",
        "  dicom_pivot_v11.gcs_url\n",
        "ORDER BY\n",
        "  dicom_pivot_v11.PatientID ASC,\n",
        "  dicom_pivot_v11.collection_id ASC,\n",
        "  dicom_pivot_v11.source_DOI ASC,\n",
        "  dicom_pivot_v11.StudyInstanceUID ASC,\n",
        "  dicom_pivot_v11.SeriesInstanceUID ASC,\n",
        "  dicom_pivot_v11.SOPInstanceUID ASC,\n",
        "  dicom_pivot_v11.gcs_url ASC"
      ],
      "metadata": {
        "id": "_8hRj0E5FW0A"
      },
      "execution_count": null,
      "outputs": []
    },
    {
      "cell_type": "code",
      "source": [
        "# this works as intended only if the BQ query parses data from a single dataset\n",
        "# if not, feel free to set the name manually!\n",
        "dataset_name = cohort_df[\"collection_id\"].values[0]"
      ],
      "metadata": {
        "id": "oZApCCVLkZyb"
      },
      "execution_count": null,
      "outputs": []
    },
    {
      "cell_type": "code",
      "execution_count": null,
      "metadata": {
        "id": "GNutD-SRN52T"
      },
      "outputs": [],
      "source": [
        "# create the directory tree\n",
        "!mkdir -p data models\n",
        "\n",
        "!mkdir -p data/raw \n",
        "!mkdir -p data/raw/tmp data/raw/$dataset_name\n",
        "!mkdir -p data/raw/$dataset_name/dicom\n",
        "\n",
        "!mkdir -p data/processed\n",
        "!mkdir -p data/processed/$dataset_name\n",
        "!mkdir -p data/processed/$dataset_name/nii\n",
        "!mkdir -p data/processed/$dataset_name/dicomseg\n",
        "\n",
        "!mkdir -p data/model_input/\n",
        "!mkdir -p data/nnunet_output/"
      ]
    },
    {
      "cell_type": "markdown",
      "metadata": {
        "id": "D7y3FRa7rbyr"
      },
      "source": [
        "Download the segmentation model(s) from Zenodo (the original source chosen from the nnU-Net developers).\n",
        "\n",
        "Note that this can either be very fast (2 minutes or even less, at speeds around 40MB/s) or very slow (up to 10 minutes, or sometimes more) - probably depending on the traffic on the Zenodo's end and other factors. If the download is taking a long time after the first minute or so, consider interrupting the cell execution and running the cell again."
      ]
    },
    {
      "cell_type": "code",
      "execution_count": null,
      "metadata": {
        "colab": {
          "base_uri": "https://localhost:8080/"
        },
        "id": "nJ79vTL5ef11",
        "outputId": "8acb7edd-0a62-4d51-da6b-440350de4fc4"
      },
      "outputs": [
        {
          "output_type": "stream",
          "name": "stdout",
          "text": [
            "--2022-09-22 09:36:57--  https://zenodo.org/record/4485926/files/Task017_AbdominalOrganSegmentation.zip?download=1\n",
            "Resolving zenodo.org (zenodo.org)... 188.184.117.155\n",
            "Connecting to zenodo.org (zenodo.org)|188.184.117.155|:443... connected.\n",
            "HTTP request sent, awaiting response... 200 OK\n",
            "Length: 4987156551 (4.6G) [application/octet-stream]\n",
            "Saving to: ‘/content/models/Task017_AbdominalOrganSegmentation.zip’\n",
            "\n",
            "/content/models/Tas 100%[===================>]   4.64G  6.87MB/s    in 9m 13s  \n",
            "\n",
            "2022-09-22 09:46:12 (8.61 MB/s) - ‘/content/models/Task017_AbdominalOrganSegmentation.zip’ saved [4987156551/4987156551]\n",
            "\n"
          ]
        }
      ],
      "source": [
        "seg_model_url = \"https://zenodo.org/record/4485926/files/Task017_AbdominalOrganSegmentation.zip?download=1\"\n",
        "model_download_path = \"/content/models/Task017_AbdominalOrganSegmentation.zip\"\n",
        "\n",
        "!wget -O $model_download_path $seg_model_url"
      ]
    },
    {
      "cell_type": "markdown",
      "metadata": {
        "id": "Bne4bNo5fAsx"
      },
      "source": [
        "Initialize the environment variables nnU-Net needs."
      ]
    },
    {
      "cell_type": "code",
      "execution_count": null,
      "metadata": {
        "id": "IIIjeFdUe1EA"
      },
      "outputs": [],
      "source": [
        "os.environ[\"RESULTS_FOLDER\"] = \"/content/data/nnunet_output/\"\n",
        "os.environ[\"WEIGHTS_FOLDER\"] = \"/content/data/nnunet_output/nnUNet\""
      ]
    },
    {
      "cell_type": "code",
      "execution_count": null,
      "metadata": {
        "id": "Wx8bWGVvew3P"
      },
      "outputs": [],
      "source": [
        "%%capture\n",
        "!nnUNet_install_pretrained_model_from_zip $model_download_path"
      ]
    },
    {
      "cell_type": "markdown",
      "metadata": {
        "id": "0Qu6eXpHx6iV"
      },
      "source": [
        "## **Parsing Cohort Information from BigQuery Tables**\n",
        "\n",
        "We can check the various fields of the table we populated by running the BigQuery query.\n",
        "\n",
        "This table will store one entry for each DICOM file in the dataset (therefore, expect thousands of rows!)"
      ]
    },
    {
      "cell_type": "code",
      "execution_count": null,
      "metadata": {
        "colab": {
          "base_uri": "https://localhost:8080/",
          "height": 701
        },
        "id": "V27IJihCi9Kv",
        "outputId": "252f7875-01a2-4523-ac48-dc4131b19341"
      },
      "outputs": [
        {
          "output_type": "stream",
          "name": "stdout",
          "text": [
            "Total number of unique Patient IDs: 230\n",
            "<class 'pandas.core.frame.DataFrame'>\n",
            "RangeIndex: 13850 entries, 0 to 13849\n",
            "Data columns (total 7 columns):\n",
            " #   Column             Non-Null Count  Dtype \n",
            "---  ------             --------------  ----- \n",
            " 0   PatientID          13850 non-null  object\n",
            " 1   collection_id      13850 non-null  object\n",
            " 2   source_DOI         13850 non-null  object\n",
            " 3   StudyInstanceUID   13850 non-null  object\n",
            " 4   SeriesInstanceUID  13850 non-null  object\n",
            " 5   SOPInstanceUID     13850 non-null  object\n",
            " 6   gcs_url            13850 non-null  object\n",
            "dtypes: object(7)\n",
            "memory usage: 757.5+ KB\n"
          ]
        },
        {
          "output_type": "display_data",
          "data": {
            "text/plain": [
              "None"
            ]
          },
          "metadata": {}
        },
        {
          "output_type": "display_data",
          "data": {
            "text/plain": [
              "                   PatientID          collection_id         source_DOI  \\\n",
              "0  StageII-Colorectal-CT-001  stageii_colorectal_ct  10.7937/p5k5-tg43   \n",
              "1  StageII-Colorectal-CT-001  stageii_colorectal_ct  10.7937/p5k5-tg43   \n",
              "2  StageII-Colorectal-CT-001  stageii_colorectal_ct  10.7937/p5k5-tg43   \n",
              "3  StageII-Colorectal-CT-001  stageii_colorectal_ct  10.7937/p5k5-tg43   \n",
              "4  StageII-Colorectal-CT-001  stageii_colorectal_ct  10.7937/p5k5-tg43   \n",
              "\n",
              "                                    StudyInstanceUID  \\\n",
              "0  1.3.6.1.4.1.14519.5.2.1.3079771842656303813027...   \n",
              "1  1.3.6.1.4.1.14519.5.2.1.3079771842656303813027...   \n",
              "2  1.3.6.1.4.1.14519.5.2.1.3079771842656303813027...   \n",
              "3  1.3.6.1.4.1.14519.5.2.1.3079771842656303813027...   \n",
              "4  1.3.6.1.4.1.14519.5.2.1.3079771842656303813027...   \n",
              "\n",
              "                                   SeriesInstanceUID  \\\n",
              "0  1.3.6.1.4.1.14519.5.2.1.2744484960269153598786...   \n",
              "1  1.3.6.1.4.1.14519.5.2.1.2744484960269153598786...   \n",
              "2  1.3.6.1.4.1.14519.5.2.1.2744484960269153598786...   \n",
              "3  1.3.6.1.4.1.14519.5.2.1.2744484960269153598786...   \n",
              "4  1.3.6.1.4.1.14519.5.2.1.2744484960269153598786...   \n",
              "\n",
              "                                      SOPInstanceUID  \\\n",
              "0  1.3.6.1.4.1.14519.5.2.1.1030314217618762894573...   \n",
              "1  1.3.6.1.4.1.14519.5.2.1.1038145622828798280601...   \n",
              "2  1.3.6.1.4.1.14519.5.2.1.1150035677426433731975...   \n",
              "3  1.3.6.1.4.1.14519.5.2.1.1222638640273118995420...   \n",
              "4  1.3.6.1.4.1.14519.5.2.1.1275971662551159176203...   \n",
              "\n",
              "                                             gcs_url  \n",
              "0  gs://public-datasets-idc/b479e870-e944-4cc1-98...  \n",
              "1  gs://public-datasets-idc/5f1ffe0b-cd05-4578-b6...  \n",
              "2  gs://public-datasets-idc/65da2112-b9bd-4181-88...  \n",
              "3  gs://public-datasets-idc/832fdf23-d755-4dfe-8a...  \n",
              "4  gs://public-datasets-idc/27be54f3-7a8e-4d2d-a4...  "
            ],
            "text/html": [
              "\n",
              "  <div id=\"df-bdcf7758-d0df-4bab-8903-44e2e79d7756\">\n",
              "    <div class=\"colab-df-container\">\n",
              "      <div>\n",
              "<style scoped>\n",
              "    .dataframe tbody tr th:only-of-type {\n",
              "        vertical-align: middle;\n",
              "    }\n",
              "\n",
              "    .dataframe tbody tr th {\n",
              "        vertical-align: top;\n",
              "    }\n",
              "\n",
              "    .dataframe thead th {\n",
              "        text-align: right;\n",
              "    }\n",
              "</style>\n",
              "<table border=\"1\" class=\"dataframe\">\n",
              "  <thead>\n",
              "    <tr style=\"text-align: right;\">\n",
              "      <th></th>\n",
              "      <th>PatientID</th>\n",
              "      <th>collection_id</th>\n",
              "      <th>source_DOI</th>\n",
              "      <th>StudyInstanceUID</th>\n",
              "      <th>SeriesInstanceUID</th>\n",
              "      <th>SOPInstanceUID</th>\n",
              "      <th>gcs_url</th>\n",
              "    </tr>\n",
              "  </thead>\n",
              "  <tbody>\n",
              "    <tr>\n",
              "      <th>0</th>\n",
              "      <td>StageII-Colorectal-CT-001</td>\n",
              "      <td>stageii_colorectal_ct</td>\n",
              "      <td>10.7937/p5k5-tg43</td>\n",
              "      <td>1.3.6.1.4.1.14519.5.2.1.3079771842656303813027...</td>\n",
              "      <td>1.3.6.1.4.1.14519.5.2.1.2744484960269153598786...</td>\n",
              "      <td>1.3.6.1.4.1.14519.5.2.1.1030314217618762894573...</td>\n",
              "      <td>gs://public-datasets-idc/b479e870-e944-4cc1-98...</td>\n",
              "    </tr>\n",
              "    <tr>\n",
              "      <th>1</th>\n",
              "      <td>StageII-Colorectal-CT-001</td>\n",
              "      <td>stageii_colorectal_ct</td>\n",
              "      <td>10.7937/p5k5-tg43</td>\n",
              "      <td>1.3.6.1.4.1.14519.5.2.1.3079771842656303813027...</td>\n",
              "      <td>1.3.6.1.4.1.14519.5.2.1.2744484960269153598786...</td>\n",
              "      <td>1.3.6.1.4.1.14519.5.2.1.1038145622828798280601...</td>\n",
              "      <td>gs://public-datasets-idc/5f1ffe0b-cd05-4578-b6...</td>\n",
              "    </tr>\n",
              "    <tr>\n",
              "      <th>2</th>\n",
              "      <td>StageII-Colorectal-CT-001</td>\n",
              "      <td>stageii_colorectal_ct</td>\n",
              "      <td>10.7937/p5k5-tg43</td>\n",
              "      <td>1.3.6.1.4.1.14519.5.2.1.3079771842656303813027...</td>\n",
              "      <td>1.3.6.1.4.1.14519.5.2.1.2744484960269153598786...</td>\n",
              "      <td>1.3.6.1.4.1.14519.5.2.1.1150035677426433731975...</td>\n",
              "      <td>gs://public-datasets-idc/65da2112-b9bd-4181-88...</td>\n",
              "    </tr>\n",
              "    <tr>\n",
              "      <th>3</th>\n",
              "      <td>StageII-Colorectal-CT-001</td>\n",
              "      <td>stageii_colorectal_ct</td>\n",
              "      <td>10.7937/p5k5-tg43</td>\n",
              "      <td>1.3.6.1.4.1.14519.5.2.1.3079771842656303813027...</td>\n",
              "      <td>1.3.6.1.4.1.14519.5.2.1.2744484960269153598786...</td>\n",
              "      <td>1.3.6.1.4.1.14519.5.2.1.1222638640273118995420...</td>\n",
              "      <td>gs://public-datasets-idc/832fdf23-d755-4dfe-8a...</td>\n",
              "    </tr>\n",
              "    <tr>\n",
              "      <th>4</th>\n",
              "      <td>StageII-Colorectal-CT-001</td>\n",
              "      <td>stageii_colorectal_ct</td>\n",
              "      <td>10.7937/p5k5-tg43</td>\n",
              "      <td>1.3.6.1.4.1.14519.5.2.1.3079771842656303813027...</td>\n",
              "      <td>1.3.6.1.4.1.14519.5.2.1.2744484960269153598786...</td>\n",
              "      <td>1.3.6.1.4.1.14519.5.2.1.1275971662551159176203...</td>\n",
              "      <td>gs://public-datasets-idc/27be54f3-7a8e-4d2d-a4...</td>\n",
              "    </tr>\n",
              "  </tbody>\n",
              "</table>\n",
              "</div>\n",
              "      <button class=\"colab-df-convert\" onclick=\"convertToInteractive('df-bdcf7758-d0df-4bab-8903-44e2e79d7756')\"\n",
              "              title=\"Convert this dataframe to an interactive table.\"\n",
              "              style=\"display:none;\">\n",
              "        \n",
              "  <svg xmlns=\"http://www.w3.org/2000/svg\" height=\"24px\"viewBox=\"0 0 24 24\"\n",
              "       width=\"24px\">\n",
              "    <path d=\"M0 0h24v24H0V0z\" fill=\"none\"/>\n",
              "    <path d=\"M18.56 5.44l.94 2.06.94-2.06 2.06-.94-2.06-.94-.94-2.06-.94 2.06-2.06.94zm-11 1L8.5 8.5l.94-2.06 2.06-.94-2.06-.94L8.5 2.5l-.94 2.06-2.06.94zm10 10l.94 2.06.94-2.06 2.06-.94-2.06-.94-.94-2.06-.94 2.06-2.06.94z\"/><path d=\"M17.41 7.96l-1.37-1.37c-.4-.4-.92-.59-1.43-.59-.52 0-1.04.2-1.43.59L10.3 9.45l-7.72 7.72c-.78.78-.78 2.05 0 2.83L4 21.41c.39.39.9.59 1.41.59.51 0 1.02-.2 1.41-.59l7.78-7.78 2.81-2.81c.8-.78.8-2.07 0-2.86zM5.41 20L4 18.59l7.72-7.72 1.47 1.35L5.41 20z\"/>\n",
              "  </svg>\n",
              "      </button>\n",
              "      \n",
              "  <style>\n",
              "    .colab-df-container {\n",
              "      display:flex;\n",
              "      flex-wrap:wrap;\n",
              "      gap: 12px;\n",
              "    }\n",
              "\n",
              "    .colab-df-convert {\n",
              "      background-color: #E8F0FE;\n",
              "      border: none;\n",
              "      border-radius: 50%;\n",
              "      cursor: pointer;\n",
              "      display: none;\n",
              "      fill: #1967D2;\n",
              "      height: 32px;\n",
              "      padding: 0 0 0 0;\n",
              "      width: 32px;\n",
              "    }\n",
              "\n",
              "    .colab-df-convert:hover {\n",
              "      background-color: #E2EBFA;\n",
              "      box-shadow: 0px 1px 2px rgba(60, 64, 67, 0.3), 0px 1px 3px 1px rgba(60, 64, 67, 0.15);\n",
              "      fill: #174EA6;\n",
              "    }\n",
              "\n",
              "    [theme=dark] .colab-df-convert {\n",
              "      background-color: #3B4455;\n",
              "      fill: #D2E3FC;\n",
              "    }\n",
              "\n",
              "    [theme=dark] .colab-df-convert:hover {\n",
              "      background-color: #434B5C;\n",
              "      box-shadow: 0px 1px 3px 1px rgba(0, 0, 0, 0.15);\n",
              "      filter: drop-shadow(0px 1px 2px rgba(0, 0, 0, 0.3));\n",
              "      fill: #FFFFFF;\n",
              "    }\n",
              "  </style>\n",
              "\n",
              "      <script>\n",
              "        const buttonEl =\n",
              "          document.querySelector('#df-bdcf7758-d0df-4bab-8903-44e2e79d7756 button.colab-df-convert');\n",
              "        buttonEl.style.display =\n",
              "          google.colab.kernel.accessAllowed ? 'block' : 'none';\n",
              "\n",
              "        async function convertToInteractive(key) {\n",
              "          const element = document.querySelector('#df-bdcf7758-d0df-4bab-8903-44e2e79d7756');\n",
              "          const dataTable =\n",
              "            await google.colab.kernel.invokeFunction('convertToInteractive',\n",
              "                                                     [key], {});\n",
              "          if (!dataTable) return;\n",
              "\n",
              "          const docLinkHtml = 'Like what you see? Visit the ' +\n",
              "            '<a target=\"_blank\" href=https://colab.research.google.com/notebooks/data_table.ipynb>data table notebook</a>'\n",
              "            + ' to learn more about interactive tables.';\n",
              "          element.innerHTML = '';\n",
              "          dataTable['output_type'] = 'display_data';\n",
              "          await google.colab.output.renderOutput(dataTable, element);\n",
              "          const docLink = document.createElement('div');\n",
              "          docLink.innerHTML = docLinkHtml;\n",
              "          element.appendChild(docLink);\n",
              "        }\n",
              "      </script>\n",
              "    </div>\n",
              "  </div>\n",
              "  "
            ]
          },
          "metadata": {}
        }
      ],
      "source": [
        "pat_id_list = sorted(list(set(cohort_df[\"PatientID\"].values)))\n",
        "\n",
        "print(\"Total number of unique Patient IDs:\", len(pat_id_list))\n",
        "\n",
        "display(cohort_df.info())\n",
        "\n",
        "display(cohort_df.head())"
      ]
    },
    {
      "cell_type": "markdown",
      "metadata": {
        "id": "AolLtXOLVt7D"
      },
      "source": [
        "---\n",
        "\n",
        "## **Set Run Parameters**\n",
        "\n",
        "From this cell, we can configure the nnU-Net inference step - specifying, for instance, the type of model we want to run (among the four different models the framework provides), whether we want to use test time augmentation, or whether we want to export the soft probability maps of the segmentation masks.\n"
      ]
    },
    {
      "cell_type": "code",
      "execution_count": null,
      "metadata": {
        "id": "TRmrt00589lv"
      },
      "outputs": [],
      "source": [
        "# FIXED PARAMETERS\n",
        "data_base_path = \"/content/data\"\n",
        "raw_base_path = \"/content/data/raw/tmp\"\n",
        "sorted_base_path = os.path.join(\"/content/data/raw/\", dataset_name, \"dicom\")\n",
        "\n",
        "processed_base_path = os.path.join(\"/content/data/processed/\", dataset_name)\n",
        "processed_nifti_path = os.path.join(processed_base_path, \"nii\")\n",
        "\n",
        "processed_dicomseg_path = os.path.join(processed_base_path, \"dicomseg\")\n",
        "\n",
        "model_input_folder = \"/content/data/model_input/\"\n",
        "model_output_folder = \"/content/data/nnunet_output/\"\n",
        "\n",
        "dicomseg_json_path = \"/content/aimi/aimi/nnunet_abdominal_oar/config/dicomseg_metadata.json\"\n",
        "\n",
        "# -----------------\n",
        "# nnU-Net pipeline parameters\n",
        "\n",
        "# choose from: \"2d\", \"3d_lowres\", \"3d_fullres\", \"3d_cascade_fullres\"\n",
        "nnunet_model = \"3d_lowres\"\n",
        "use_tta = True\n",
        "export_prob_maps = False"
      ]
    },
    {
      "cell_type": "markdown",
      "metadata": {
        "id": "-n0qjPp1B_mv"
      },
      "source": [
        "## **Running the Analysis for a Single Patient**"
      ]
    },
    {
      "cell_type": "code",
      "source": [
        "import aimi.aimi as aimi\n",
        "\n",
        "from aimi import general_utils as aimi_utils\n",
        "from aimi import nnunet_abdominal_oar as aimi_model"
      ],
      "metadata": {
        "id": "vPPZRieLM5K-"
      },
      "execution_count": null,
      "outputs": []
    },
    {
      "cell_type": "markdown",
      "source": [
        "The following cells run all the processing pipeline, from pre-processing to post-processing."
      ],
      "metadata": {
        "id": "0pFSCy5HoOp_"
      }
    },
    {
      "cell_type": "code",
      "source": [
        "pat_id = random.choice(cohort_df[\"PatientID\"].values)\n",
        "pat_df = cohort_df[cohort_df[\"PatientID\"] == pat_id].reset_index(drop = True)\n",
        "\n",
        "display(pat_df.info())\n",
        "display(pat_df.head())"
      ],
      "metadata": {
        "colab": {
          "base_uri": "https://localhost:8080/",
          "height": 684
        },
        "id": "pekuBoTMmYsq",
        "outputId": "646d3467-40bd-44f3-c273-987e4057b2ff"
      },
      "execution_count": null,
      "outputs": [
        {
          "output_type": "stream",
          "name": "stdout",
          "text": [
            "<class 'pandas.core.frame.DataFrame'>\n",
            "RangeIndex: 52 entries, 0 to 51\n",
            "Data columns (total 7 columns):\n",
            " #   Column             Non-Null Count  Dtype \n",
            "---  ------             --------------  ----- \n",
            " 0   PatientID          52 non-null     object\n",
            " 1   collection_id      52 non-null     object\n",
            " 2   source_DOI         52 non-null     object\n",
            " 3   StudyInstanceUID   52 non-null     object\n",
            " 4   SeriesInstanceUID  52 non-null     object\n",
            " 5   SOPInstanceUID     52 non-null     object\n",
            " 6   gcs_url            52 non-null     object\n",
            "dtypes: object(7)\n",
            "memory usage: 3.0+ KB\n"
          ]
        },
        {
          "output_type": "display_data",
          "data": {
            "text/plain": [
              "None"
            ]
          },
          "metadata": {}
        },
        {
          "output_type": "display_data",
          "data": {
            "text/plain": [
              "                   PatientID          collection_id         source_DOI  \\\n",
              "0  StageII-Colorectal-CT-005  stageii_colorectal_ct  10.7937/p5k5-tg43   \n",
              "1  StageII-Colorectal-CT-005  stageii_colorectal_ct  10.7937/p5k5-tg43   \n",
              "2  StageII-Colorectal-CT-005  stageii_colorectal_ct  10.7937/p5k5-tg43   \n",
              "3  StageII-Colorectal-CT-005  stageii_colorectal_ct  10.7937/p5k5-tg43   \n",
              "4  StageII-Colorectal-CT-005  stageii_colorectal_ct  10.7937/p5k5-tg43   \n",
              "\n",
              "                                    StudyInstanceUID  \\\n",
              "0  1.3.6.1.4.1.14519.5.2.1.2564676639130103327764...   \n",
              "1  1.3.6.1.4.1.14519.5.2.1.2564676639130103327764...   \n",
              "2  1.3.6.1.4.1.14519.5.2.1.2564676639130103327764...   \n",
              "3  1.3.6.1.4.1.14519.5.2.1.2564676639130103327764...   \n",
              "4  1.3.6.1.4.1.14519.5.2.1.2564676639130103327764...   \n",
              "\n",
              "                                   SeriesInstanceUID  \\\n",
              "0  1.3.6.1.4.1.14519.5.2.1.4044511221239015971154...   \n",
              "1  1.3.6.1.4.1.14519.5.2.1.4044511221239015971154...   \n",
              "2  1.3.6.1.4.1.14519.5.2.1.4044511221239015971154...   \n",
              "3  1.3.6.1.4.1.14519.5.2.1.4044511221239015971154...   \n",
              "4  1.3.6.1.4.1.14519.5.2.1.4044511221239015971154...   \n",
              "\n",
              "                                      SOPInstanceUID  \\\n",
              "0  1.3.6.1.4.1.14519.5.2.1.1041890472948899882913...   \n",
              "1  1.3.6.1.4.1.14519.5.2.1.1046649912695632861377...   \n",
              "2  1.3.6.1.4.1.14519.5.2.1.1094486854485424200666...   \n",
              "3  1.3.6.1.4.1.14519.5.2.1.1142947662442436951673...   \n",
              "4  1.3.6.1.4.1.14519.5.2.1.1235733490234285501641...   \n",
              "\n",
              "                                             gcs_url  \n",
              "0  gs://public-datasets-idc/32c34ec7-74a7-427b-a6...  \n",
              "1  gs://public-datasets-idc/caf0a4c2-137e-41e0-b7...  \n",
              "2  gs://public-datasets-idc/eea652d6-9e55-420d-8f...  \n",
              "3  gs://public-datasets-idc/d362bf52-7e04-42af-a7...  \n",
              "4  gs://public-datasets-idc/bec27769-37ab-41b3-ab...  "
            ],
            "text/html": [
              "\n",
              "  <div id=\"df-18b964aa-2f05-4498-b1fe-1627910f1402\">\n",
              "    <div class=\"colab-df-container\">\n",
              "      <div>\n",
              "<style scoped>\n",
              "    .dataframe tbody tr th:only-of-type {\n",
              "        vertical-align: middle;\n",
              "    }\n",
              "\n",
              "    .dataframe tbody tr th {\n",
              "        vertical-align: top;\n",
              "    }\n",
              "\n",
              "    .dataframe thead th {\n",
              "        text-align: right;\n",
              "    }\n",
              "</style>\n",
              "<table border=\"1\" class=\"dataframe\">\n",
              "  <thead>\n",
              "    <tr style=\"text-align: right;\">\n",
              "      <th></th>\n",
              "      <th>PatientID</th>\n",
              "      <th>collection_id</th>\n",
              "      <th>source_DOI</th>\n",
              "      <th>StudyInstanceUID</th>\n",
              "      <th>SeriesInstanceUID</th>\n",
              "      <th>SOPInstanceUID</th>\n",
              "      <th>gcs_url</th>\n",
              "    </tr>\n",
              "  </thead>\n",
              "  <tbody>\n",
              "    <tr>\n",
              "      <th>0</th>\n",
              "      <td>StageII-Colorectal-CT-005</td>\n",
              "      <td>stageii_colorectal_ct</td>\n",
              "      <td>10.7937/p5k5-tg43</td>\n",
              "      <td>1.3.6.1.4.1.14519.5.2.1.2564676639130103327764...</td>\n",
              "      <td>1.3.6.1.4.1.14519.5.2.1.4044511221239015971154...</td>\n",
              "      <td>1.3.6.1.4.1.14519.5.2.1.1041890472948899882913...</td>\n",
              "      <td>gs://public-datasets-idc/32c34ec7-74a7-427b-a6...</td>\n",
              "    </tr>\n",
              "    <tr>\n",
              "      <th>1</th>\n",
              "      <td>StageII-Colorectal-CT-005</td>\n",
              "      <td>stageii_colorectal_ct</td>\n",
              "      <td>10.7937/p5k5-tg43</td>\n",
              "      <td>1.3.6.1.4.1.14519.5.2.1.2564676639130103327764...</td>\n",
              "      <td>1.3.6.1.4.1.14519.5.2.1.4044511221239015971154...</td>\n",
              "      <td>1.3.6.1.4.1.14519.5.2.1.1046649912695632861377...</td>\n",
              "      <td>gs://public-datasets-idc/caf0a4c2-137e-41e0-b7...</td>\n",
              "    </tr>\n",
              "    <tr>\n",
              "      <th>2</th>\n",
              "      <td>StageII-Colorectal-CT-005</td>\n",
              "      <td>stageii_colorectal_ct</td>\n",
              "      <td>10.7937/p5k5-tg43</td>\n",
              "      <td>1.3.6.1.4.1.14519.5.2.1.2564676639130103327764...</td>\n",
              "      <td>1.3.6.1.4.1.14519.5.2.1.4044511221239015971154...</td>\n",
              "      <td>1.3.6.1.4.1.14519.5.2.1.1094486854485424200666...</td>\n",
              "      <td>gs://public-datasets-idc/eea652d6-9e55-420d-8f...</td>\n",
              "    </tr>\n",
              "    <tr>\n",
              "      <th>3</th>\n",
              "      <td>StageII-Colorectal-CT-005</td>\n",
              "      <td>stageii_colorectal_ct</td>\n",
              "      <td>10.7937/p5k5-tg43</td>\n",
              "      <td>1.3.6.1.4.1.14519.5.2.1.2564676639130103327764...</td>\n",
              "      <td>1.3.6.1.4.1.14519.5.2.1.4044511221239015971154...</td>\n",
              "      <td>1.3.6.1.4.1.14519.5.2.1.1142947662442436951673...</td>\n",
              "      <td>gs://public-datasets-idc/d362bf52-7e04-42af-a7...</td>\n",
              "    </tr>\n",
              "    <tr>\n",
              "      <th>4</th>\n",
              "      <td>StageII-Colorectal-CT-005</td>\n",
              "      <td>stageii_colorectal_ct</td>\n",
              "      <td>10.7937/p5k5-tg43</td>\n",
              "      <td>1.3.6.1.4.1.14519.5.2.1.2564676639130103327764...</td>\n",
              "      <td>1.3.6.1.4.1.14519.5.2.1.4044511221239015971154...</td>\n",
              "      <td>1.3.6.1.4.1.14519.5.2.1.1235733490234285501641...</td>\n",
              "      <td>gs://public-datasets-idc/bec27769-37ab-41b3-ab...</td>\n",
              "    </tr>\n",
              "  </tbody>\n",
              "</table>\n",
              "</div>\n",
              "      <button class=\"colab-df-convert\" onclick=\"convertToInteractive('df-18b964aa-2f05-4498-b1fe-1627910f1402')\"\n",
              "              title=\"Convert this dataframe to an interactive table.\"\n",
              "              style=\"display:none;\">\n",
              "        \n",
              "  <svg xmlns=\"http://www.w3.org/2000/svg\" height=\"24px\"viewBox=\"0 0 24 24\"\n",
              "       width=\"24px\">\n",
              "    <path d=\"M0 0h24v24H0V0z\" fill=\"none\"/>\n",
              "    <path d=\"M18.56 5.44l.94 2.06.94-2.06 2.06-.94-2.06-.94-.94-2.06-.94 2.06-2.06.94zm-11 1L8.5 8.5l.94-2.06 2.06-.94-2.06-.94L8.5 2.5l-.94 2.06-2.06.94zm10 10l.94 2.06.94-2.06 2.06-.94-2.06-.94-.94-2.06-.94 2.06-2.06.94z\"/><path d=\"M17.41 7.96l-1.37-1.37c-.4-.4-.92-.59-1.43-.59-.52 0-1.04.2-1.43.59L10.3 9.45l-7.72 7.72c-.78.78-.78 2.05 0 2.83L4 21.41c.39.39.9.59 1.41.59.51 0 1.02-.2 1.41-.59l7.78-7.78 2.81-2.81c.8-.78.8-2.07 0-2.86zM5.41 20L4 18.59l7.72-7.72 1.47 1.35L5.41 20z\"/>\n",
              "  </svg>\n",
              "      </button>\n",
              "      \n",
              "  <style>\n",
              "    .colab-df-container {\n",
              "      display:flex;\n",
              "      flex-wrap:wrap;\n",
              "      gap: 12px;\n",
              "    }\n",
              "\n",
              "    .colab-df-convert {\n",
              "      background-color: #E8F0FE;\n",
              "      border: none;\n",
              "      border-radius: 50%;\n",
              "      cursor: pointer;\n",
              "      display: none;\n",
              "      fill: #1967D2;\n",
              "      height: 32px;\n",
              "      padding: 0 0 0 0;\n",
              "      width: 32px;\n",
              "    }\n",
              "\n",
              "    .colab-df-convert:hover {\n",
              "      background-color: #E2EBFA;\n",
              "      box-shadow: 0px 1px 2px rgba(60, 64, 67, 0.3), 0px 1px 3px 1px rgba(60, 64, 67, 0.15);\n",
              "      fill: #174EA6;\n",
              "    }\n",
              "\n",
              "    [theme=dark] .colab-df-convert {\n",
              "      background-color: #3B4455;\n",
              "      fill: #D2E3FC;\n",
              "    }\n",
              "\n",
              "    [theme=dark] .colab-df-convert:hover {\n",
              "      background-color: #434B5C;\n",
              "      box-shadow: 0px 1px 3px 1px rgba(0, 0, 0, 0.15);\n",
              "      filter: drop-shadow(0px 1px 2px rgba(0, 0, 0, 0.3));\n",
              "      fill: #FFFFFF;\n",
              "    }\n",
              "  </style>\n",
              "\n",
              "      <script>\n",
              "        const buttonEl =\n",
              "          document.querySelector('#df-18b964aa-2f05-4498-b1fe-1627910f1402 button.colab-df-convert');\n",
              "        buttonEl.style.display =\n",
              "          google.colab.kernel.accessAllowed ? 'block' : 'none';\n",
              "\n",
              "        async function convertToInteractive(key) {\n",
              "          const element = document.querySelector('#df-18b964aa-2f05-4498-b1fe-1627910f1402');\n",
              "          const dataTable =\n",
              "            await google.colab.kernel.invokeFunction('convertToInteractive',\n",
              "                                                     [key], {});\n",
              "          if (!dataTable) return;\n",
              "\n",
              "          const docLinkHtml = 'Like what you see? Visit the ' +\n",
              "            '<a target=\"_blank\" href=https://colab.research.google.com/notebooks/data_table.ipynb>data table notebook</a>'\n",
              "            + ' to learn more about interactive tables.';\n",
              "          element.innerHTML = '';\n",
              "          dataTable['output_type'] = 'display_data';\n",
              "          await google.colab.output.renderOutput(dataTable, element);\n",
              "          const docLink = document.createElement('div');\n",
              "          docLink.innerHTML = docLinkHtml;\n",
              "          element.appendChild(docLink);\n",
              "        }\n",
              "      </script>\n",
              "    </div>\n",
              "  </div>\n",
              "  "
            ]
          },
          "metadata": {}
        }
      ]
    },
    {
      "cell_type": "code",
      "source": [
        "# init\n",
        "\n",
        "print(\"Processing patient: %s\"%(pat_id))\n",
        "\n",
        "patient_df = cohort_df[cohort_df[\"PatientID\"] == pat_id]\n",
        "\n",
        "dicomseg_fn = pat_id + \"_SEG.dcm\"\n",
        "\n",
        "input_nifti_fn = pat_id + \"_0000.nii.gz\"\n",
        "input_nifti_path = os.path.join(model_input_folder, input_nifti_fn)\n",
        "\n",
        "pred_nifti_fn = pat_id + \".nii.gz\"\n",
        "pred_nifti_path = os.path.join(model_output_folder, pred_nifti_fn)\n",
        "\n",
        "pred_softmax_folder_name = \"pred_softmax\"\n",
        "pred_softmax_folder_path = os.path.join(processed_nifti_path, pat_id, pred_softmax_folder_name)"
      ],
      "metadata": {
        "colab": {
          "base_uri": "https://localhost:8080/"
        },
        "id": "S7a6h_iINlvq",
        "outputId": "70af2ef3-3e50-49cf-a829-ec318109e272"
      },
      "execution_count": null,
      "outputs": [
        {
          "output_type": "stream",
          "name": "stdout",
          "text": [
            "Processing patient: StageII-Colorectal-CT-005\n"
          ]
        }
      ]
    },
    {
      "cell_type": "code",
      "source": [
        "# data cross-loading\n",
        "aimi_utils.gcs.download_patient_data(raw_base_path = raw_base_path,\n",
        "                                     sorted_base_path = sorted_base_path,\n",
        "                                     patient_df = patient_df,\n",
        "                                     remove_raw = True)"
      ],
      "metadata": {
        "colab": {
          "base_uri": "https://localhost:8080/"
        },
        "id": "NZDxWkvCNlxw",
        "outputId": "d4ddcded-45d3-454b-800b-4e7ea99c0a24"
      },
      "execution_count": null,
      "outputs": [
        {
          "output_type": "stream",
          "name": "stdout",
          "text": [
            "Copying files from IDC buckets to /content/data/raw/tmp/StageII-Colorectal-CT-005...\n",
            "Done in 14.8455 seconds.\n",
            "\n",
            "Sorting DICOM files...\n",
            "Done in 0.519726 seconds.\n",
            "Sorted DICOM data saved at: /content/data/raw/stageii_colorectal_ct/dicom/StageII-Colorectal-CT-005\n",
            "Removing un-sorted data at /content/data/raw/tmp/StageII-Colorectal-CT-005...\n",
            "... Done.\n"
          ]
        }
      ]
    },
    {
      "cell_type": "code",
      "source": [
        "# DICOM CT to NIfTI - required for the processing\n",
        "aimi_utils.preprocessing.pypla_dicom_ct_to_nifti(sorted_base_path = sorted_base_path,\n",
        "                                                 processed_nifti_path = processed_nifti_path,\n",
        "                                                 pat_id = pat_id, verbose = True)"
      ],
      "metadata": {
        "id": "FfsY-_EGNs19"
      },
      "execution_count": null,
      "outputs": []
    },
    {
      "cell_type": "code",
      "source": [
        "# prepare the `model_input` folder for the inference phase\n",
        "aimi_utils.preprocessing.prep_input_data(processed_nifti_path = processed_nifti_path,\n",
        "                                         model_input_folder = model_input_folder,\n",
        "                                         pat_id = pat_id)"
      ],
      "metadata": {
        "id": "0R547UiyNs4O"
      },
      "execution_count": null,
      "outputs": []
    },
    {
      "cell_type": "code",
      "source": [
        "# run the DL-based prediction\n",
        "aimi_model.utils.processing.process_patient_nnunet(model_input_folder = model_input_folder,\n",
        "                                                   model_output_folder = model_output_folder, \n",
        "                                                   nnunet_model = nnunet_model, use_tta = use_tta,\n",
        "                                                   export_prob_maps = export_prob_maps)"
      ],
      "metadata": {
        "colab": {
          "base_uri": "https://localhost:8080/"
        },
        "id": "-OCLqzAzNs6K",
        "outputId": "79c85810-cca6-493d-b5b2-dc9912e48fb2"
      },
      "execution_count": null,
      "outputs": [
        {
          "output_type": "stream",
          "name": "stdout",
          "text": [
            "Running `nnUNet_predict` with `3d_lowres` model...\n",
            "Processing file at /content/data/model_input/StageII-Colorectal-CT-139_0000.nii.gz...\n",
            "Done in 6.25565 seconds.\n"
          ]
        }
      ]
    },
    {
      "cell_type": "code",
      "source": [
        "model_output_seg = os.path.join(model_output_folder, pat_id + \".nii.gz\")\n",
        "seg_nii_path = os.path.join(processed_nifti_path, pat_id, pat_id + \"_pred_abdominal_oar.nii.gz\")\n",
        "\n",
        "shutil.copyfile(model_output_seg, seg_nii_path)"
      ],
      "metadata": {
        "colab": {
          "base_uri": "https://localhost:8080/",
          "height": 36
        },
        "id": "OdhLTfQRVYBR",
        "outputId": "87962f1e-0a35-4279-d23a-8ff6004439bd"
      },
      "execution_count": null,
      "outputs": [
        {
          "output_type": "execute_result",
          "data": {
            "text/plain": [
              "'/content/data/processed/stageii_colorectal_ct/nii/StageII-Colorectal-CT-005/StageII-Colorectal-CT-005_pred_abdominal_oar.nii.gz'"
            ],
            "application/vnd.google.colaboratory.intrinsic+json": {
              "type": "string"
            }
          },
          "metadata": {},
          "execution_count": 77
        }
      ]
    },
    {
      "cell_type": "code",
      "source": [
        "if export_prob_maps:\n",
        "  aimi_model.utils.postprocessing.numpy_to_nrrd(model_output_folder = model_output_folder,\n",
        "                                                processed_nrrd_path = processed_nifti_path,\n",
        "                                                pat_id = pat_id,\n",
        "                                                output_folder_name = pred_softmax_folder_name)"
      ],
      "metadata": {
        "id": "4SVgqT_kNs8X"
      },
      "execution_count": null,
      "outputs": []
    },
    {
      "cell_type": "markdown",
      "source": [
        "Before running the conversion to DICOM SEG, update the JSON file used to generate the DICOM SEG object with the configuration of nnU-Net we are going to be using for the specific run."
      ],
      "metadata": {
        "id": "0UWyjE1505fV"
      }
    },
    {
      "cell_type": "code",
      "source": [
        "extended_model_name = \"nnU-Net \" + nnunet_model + \"_tta\" if use_tta else \"nnU-Net \" + nnunet_model\n",
        "\n",
        "aimi_utils.config.modify_dicomseg_json_file(dicomseg_json_path = dicomseg_json_path,\n",
        "                                            new_dicomseg_json_path = dicomseg_json_path,\n",
        "                                            SegmentAlgorithmName = extended_model_name)"
      ],
      "metadata": {
        "id": "-B-kePw4zyBL"
      },
      "execution_count": null,
      "outputs": []
    },
    {
      "cell_type": "code",
      "source": [
        "aimi_model.utils.postprocessing.nifti_to_dicomseg(sorted_base_path = sorted_base_path,\n",
        "                                                  processed_base_path = processed_base_path,\n",
        "                                                  dicomseg_json_path = dicomseg_json_path,\n",
        "                                                  pat_id = pat_id)"
      ],
      "metadata": {
        "id": "rQ9FSB77TH6g"
      },
      "execution_count": null,
      "outputs": []
    },
    {
      "cell_type": "markdown",
      "source": [
        "---"
      ],
      "metadata": {
        "id": "But1jZOmo1YN"
      }
    },
    {
      "cell_type": "code",
      "source": [
        "from pyplastimatch.utils import viz as viz_utils"
      ],
      "metadata": {
        "id": "SPAivMyyqReY"
      },
      "execution_count": null,
      "outputs": []
    },
    {
      "cell_type": "code",
      "source": [
        "ct_nii_path = os.path.join(\"/content/data/processed/%s/nii/\"%dataset_name, pat_id, pat_id + \"_CT.nii.gz\")\n",
        "seg_nii_path = os.path.join(\"/content/data/nnunet_output/\", pat_id + \".nii.gz\")\n",
        "softseg_nii_path = os.path.join(\"/content/data/nnunet_output/\", pat_id + \".npz\")\n",
        "\n",
        "\"\"\"\n",
        "alternative way of loading the resulting NIfTI files\n",
        "nibabel can sometimes take better care of the orientation of the\n",
        "converted/segmented images, but will orient the data differently by default\n",
        "\"\"\"\n",
        "\n",
        "#ct_nii = nib.load(ct_nii_path).dataobj\n",
        "#seg_nii = nib.load(seg_nii_path).dataobj\n",
        "\n",
        "ct_nii = sitk.GetArrayFromImage(sitk.ReadImage(ct_nii_path))\n",
        "seg_nii = sitk.GetArrayFromImage(sitk.ReadImage(seg_nii_path))"
      ],
      "metadata": {
        "id": "gxrHpkeapMKe"
      },
      "execution_count": null,
      "outputs": []
    },
    {
      "cell_type": "markdown",
      "source": [
        "In the next cell, we can visualise the result using a simple widget."
      ],
      "metadata": {
        "id": "5Ydjya0OX5yd"
      }
    },
    {
      "cell_type": "code",
      "source": [
        "# class #1\n",
        "spleen_nii = np.copy(seg_nii)\n",
        "spleen_nii[spleen_nii > 1] = 0\n",
        "\n",
        "# class #2\n",
        "liver_nii = np.copy(seg_nii)\n",
        "liver_nii[liver_nii != 6] = 0\n",
        "liver_nii[liver_nii == 6] = 1\n",
        "\n",
        "_ = viz_utils.AxialSliceSegmaskViz(ct_volume = ct_nii,\n",
        "                                    segmask_dict = {\"spleen\" : spleen_nii,\n",
        "                                                    \"liver\" : liver_nii},\n",
        "                                    segmask_cmap_dict = {\"spleen\" : my_greens,\n",
        "                                                        \"liver\" : my_reds},\n",
        "                                    dpi = 100, figsize = (8, 8),\n",
        "                                    min_hu = -1024, max_hu = 1024)"
      ],
      "metadata": {
        "id": "imBup5S2qcpM",
        "colab": {
          "base_uri": "https://localhost:8080/",
          "height": 701,
          "referenced_widgets": [
            "dc27df13104e4135a05b1e785574bb8d",
            "a984b2c119a24e3caee9481480085cc0",
            "a4dd754654b14ee9a78cd466c0b31f4e",
            "c64d2ae82d634568b351e97bbb8a5f40",
            "ca11451f90574120a8cb13c7a0f53284",
            "f892ed2ed1f64d208d86c63af3bb4291",
            "f0d3cd41d15f4a448b71b38aa698a1d7",
            "39b4c9ff126549c3a1a72e67351f7376",
            "c4ae7a6e845a4bd698dac8888f39f8bf",
            "3d49bfdb725c4838b61f874bb7eab470",
            "0adcd9d765d6435d9868c47a4736b489"
          ]
        },
        "outputId": "132c42f0-8308-4715-f706-c50f75a66e2d"
      },
      "execution_count": null,
      "outputs": [
        {
          "output_type": "display_data",
          "data": {
            "text/plain": [
              "interactive(children=(Output(),), _dom_classes=('widget-interact',))"
            ],
            "application/vnd.jupyter.widget-view+json": {
              "version_major": 2,
              "version_minor": 0,
              "model_id": "dc27df13104e4135a05b1e785574bb8d"
            }
          },
          "metadata": {}
        }
      ]
    },
    {
      "cell_type": "markdown",
      "source": [
        "---\n",
        "\n",
        "## **Data Download**"
      ],
      "metadata": {
        "id": "i2QqrdvXqQq0"
      }
    },
    {
      "cell_type": "code",
      "source": [
        "%%capture\n",
        "\n",
        "archive_fn = \"%s.zip\"%(pat_id)\n",
        "\n",
        "try:\n",
        "  os.remove(archive_fn)\n",
        "except OSError:\n",
        "  pass\n",
        "\n",
        "seg_dicom_path = os.path.join(processed_dicomseg_path, pat_id, dicomseg_fn)\n",
        "ct_dicom_path = os.path.join(sorted_base_path, pat_id)\n",
        "\n",
        "!zip -j -r $archive_fn $ct_dicom_path $seg_dicom_path"
      ],
      "metadata": {
        "id": "ARmBD0lHdz_2"
      },
      "execution_count": null,
      "outputs": []
    },
    {
      "cell_type": "code",
      "source": [
        "filesize = os.stat(archive_fn).st_size/1024e03\n",
        "print('Starting the download of \"%s\" (%2.1f MB)...\\n'%(archive_fn, filesize))\n",
        "\n",
        "files.download(archive_fn)"
      ],
      "metadata": {
        "id": "8pE0X9kid0D-",
        "colab": {
          "base_uri": "https://localhost:8080/",
          "height": 52
        },
        "outputId": "a9f65d15-11ea-4bc8-ff74-4f93dcd51d0a"
      },
      "execution_count": null,
      "outputs": [
        {
          "output_type": "stream",
          "name": "stdout",
          "text": [
            "Starting the download of \"StageII-Colorectal-CT-005.zip\" (15.0 MB)...\n",
            "\n"
          ]
        },
        {
          "output_type": "display_data",
          "data": {
            "text/plain": [
              "<IPython.core.display.Javascript object>"
            ],
            "application/javascript": [
              "\n",
              "    async function download(id, filename, size) {\n",
              "      if (!google.colab.kernel.accessAllowed) {\n",
              "        return;\n",
              "      }\n",
              "      const div = document.createElement('div');\n",
              "      const label = document.createElement('label');\n",
              "      label.textContent = `Downloading \"${filename}\": `;\n",
              "      div.appendChild(label);\n",
              "      const progress = document.createElement('progress');\n",
              "      progress.max = size;\n",
              "      div.appendChild(progress);\n",
              "      document.body.appendChild(div);\n",
              "\n",
              "      const buffers = [];\n",
              "      let downloaded = 0;\n",
              "\n",
              "      const channel = await google.colab.kernel.comms.open(id);\n",
              "      // Send a message to notify the kernel that we're ready.\n",
              "      channel.send({})\n",
              "\n",
              "      for await (const message of channel.messages) {\n",
              "        // Send a message to notify the kernel that we're ready.\n",
              "        channel.send({})\n",
              "        if (message.buffers) {\n",
              "          for (const buffer of message.buffers) {\n",
              "            buffers.push(buffer);\n",
              "            downloaded += buffer.byteLength;\n",
              "            progress.value = downloaded;\n",
              "          }\n",
              "        }\n",
              "      }\n",
              "      const blob = new Blob(buffers, {type: 'application/binary'});\n",
              "      const a = document.createElement('a');\n",
              "      a.href = window.URL.createObjectURL(blob);\n",
              "      a.download = filename;\n",
              "      div.appendChild(a);\n",
              "      a.click();\n",
              "      div.remove();\n",
              "    }\n",
              "  "
            ]
          },
          "metadata": {}
        },
        {
          "output_type": "display_data",
          "data": {
            "text/plain": [
              "<IPython.core.display.Javascript object>"
            ],
            "application/javascript": [
              "download(\"download_e2592e22-946d-4dc3-b0e0-3f4cc588c3ae\", \"StageII-Colorectal-CT-005.zip\", 15332656)"
            ]
          },
          "metadata": {}
        }
      ]
    }
  ],
  "metadata": {
    "colab": {
      "collapsed_sections": [],
      "provenance": [],
      "machine_shape": "hm",
      "include_colab_link": true
    },
    "kernelspec": {
      "display_name": "Python 3",
      "name": "python3"
    },
    "language_info": {
      "name": "python"
    },
    "accelerator": "GPU",
    "gpuClass": "standard",
    "widgets": {
      "application/vnd.jupyter.widget-state+json": {
        "dc27df13104e4135a05b1e785574bb8d": {
          "model_module": "@jupyter-widgets/controls",
          "model_name": "VBoxModel",
          "model_module_version": "1.5.0",
          "state": {
            "_dom_classes": [
              "widget-interact"
            ],
            "_model_module": "@jupyter-widgets/controls",
            "_model_module_version": "1.5.0",
            "_model_name": "VBoxModel",
            "_view_count": null,
            "_view_module": "@jupyter-widgets/controls",
            "_view_module_version": "1.5.0",
            "_view_name": "VBoxView",
            "box_style": "",
            "children": [
              "IPY_MODEL_a984b2c119a24e3caee9481480085cc0"
            ],
            "layout": "IPY_MODEL_a4dd754654b14ee9a78cd466c0b31f4e"
          }
        },
        "a984b2c119a24e3caee9481480085cc0": {
          "model_module": "@jupyter-widgets/output",
          "model_name": "OutputModel",
          "model_module_version": "1.0.0",
          "state": {
            "_dom_classes": [],
            "_model_module": "@jupyter-widgets/output",
            "_model_module_version": "1.0.0",
            "_model_name": "OutputModel",
            "_view_count": null,
            "_view_module": "@jupyter-widgets/output",
            "_view_module_version": "1.0.0",
            "_view_name": "OutputView",
            "layout": "IPY_MODEL_ca11451f90574120a8cb13c7a0f53284",
            "msg_id": "",
            "outputs": [
              {
                "output_type": "display_data",
                "data": {
                  "text/plain": "interactive(children=(IntSlider(value=0, description='Axial slice:', max=51), Output()), _dom_classes=('widget…",
                  "application/vnd.jupyter.widget-view+json": {
                    "version_major": 2,
                    "version_minor": 0,
                    "model_id": "c64d2ae82d634568b351e97bbb8a5f40"
                  }
                },
                "metadata": {}
              }
            ]
          }
        },
        "a4dd754654b14ee9a78cd466c0b31f4e": {
          "model_module": "@jupyter-widgets/base",
          "model_name": "LayoutModel",
          "model_module_version": "1.2.0",
          "state": {
            "_model_module": "@jupyter-widgets/base",
            "_model_module_version": "1.2.0",
            "_model_name": "LayoutModel",
            "_view_count": null,
            "_view_module": "@jupyter-widgets/base",
            "_view_module_version": "1.2.0",
            "_view_name": "LayoutView",
            "align_content": null,
            "align_items": null,
            "align_self": null,
            "border": null,
            "bottom": null,
            "display": null,
            "flex": null,
            "flex_flow": null,
            "grid_area": null,
            "grid_auto_columns": null,
            "grid_auto_flow": null,
            "grid_auto_rows": null,
            "grid_column": null,
            "grid_gap": null,
            "grid_row": null,
            "grid_template_areas": null,
            "grid_template_columns": null,
            "grid_template_rows": null,
            "height": null,
            "justify_content": null,
            "justify_items": null,
            "left": null,
            "margin": null,
            "max_height": null,
            "max_width": null,
            "min_height": null,
            "min_width": null,
            "object_fit": null,
            "object_position": null,
            "order": null,
            "overflow": null,
            "overflow_x": null,
            "overflow_y": null,
            "padding": null,
            "right": null,
            "top": null,
            "visibility": null,
            "width": null
          }
        },
        "c64d2ae82d634568b351e97bbb8a5f40": {
          "model_module": "@jupyter-widgets/controls",
          "model_name": "VBoxModel",
          "model_module_version": "1.5.0",
          "state": {
            "_dom_classes": [
              "widget-interact"
            ],
            "_model_module": "@jupyter-widgets/controls",
            "_model_module_version": "1.5.0",
            "_model_name": "VBoxModel",
            "_view_count": null,
            "_view_module": "@jupyter-widgets/controls",
            "_view_module_version": "1.5.0",
            "_view_name": "VBoxView",
            "box_style": "",
            "children": [
              "IPY_MODEL_f892ed2ed1f64d208d86c63af3bb4291",
              "IPY_MODEL_f0d3cd41d15f4a448b71b38aa698a1d7"
            ],
            "layout": "IPY_MODEL_39b4c9ff126549c3a1a72e67351f7376"
          }
        },
        "ca11451f90574120a8cb13c7a0f53284": {
          "model_module": "@jupyter-widgets/base",
          "model_name": "LayoutModel",
          "model_module_version": "1.2.0",
          "state": {
            "_model_module": "@jupyter-widgets/base",
            "_model_module_version": "1.2.0",
            "_model_name": "LayoutModel",
            "_view_count": null,
            "_view_module": "@jupyter-widgets/base",
            "_view_module_version": "1.2.0",
            "_view_name": "LayoutView",
            "align_content": null,
            "align_items": null,
            "align_self": null,
            "border": null,
            "bottom": null,
            "display": null,
            "flex": null,
            "flex_flow": null,
            "grid_area": null,
            "grid_auto_columns": null,
            "grid_auto_flow": null,
            "grid_auto_rows": null,
            "grid_column": null,
            "grid_gap": null,
            "grid_row": null,
            "grid_template_areas": null,
            "grid_template_columns": null,
            "grid_template_rows": null,
            "height": null,
            "justify_content": null,
            "justify_items": null,
            "left": null,
            "margin": null,
            "max_height": null,
            "max_width": null,
            "min_height": null,
            "min_width": null,
            "object_fit": null,
            "object_position": null,
            "order": null,
            "overflow": null,
            "overflow_x": null,
            "overflow_y": null,
            "padding": null,
            "right": null,
            "top": null,
            "visibility": null,
            "width": null
          }
        },
        "f892ed2ed1f64d208d86c63af3bb4291": {
          "model_module": "@jupyter-widgets/controls",
          "model_name": "IntSliderModel",
          "model_module_version": "1.5.0",
          "state": {
            "_dom_classes": [],
            "_model_module": "@jupyter-widgets/controls",
            "_model_module_version": "1.5.0",
            "_model_name": "IntSliderModel",
            "_view_count": null,
            "_view_module": "@jupyter-widgets/controls",
            "_view_module_version": "1.5.0",
            "_view_name": "IntSliderView",
            "continuous_update": true,
            "description": "Axial slice:",
            "description_tooltip": null,
            "disabled": false,
            "layout": "IPY_MODEL_c4ae7a6e845a4bd698dac8888f39f8bf",
            "max": 51,
            "min": 0,
            "orientation": "horizontal",
            "readout": true,
            "readout_format": "d",
            "step": 1,
            "style": "IPY_MODEL_3d49bfdb725c4838b61f874bb7eab470",
            "value": 37
          }
        },
        "f0d3cd41d15f4a448b71b38aa698a1d7": {
          "model_module": "@jupyter-widgets/output",
          "model_name": "OutputModel",
          "model_module_version": "1.0.0",
          "state": {
            "_dom_classes": [],
            "_model_module": "@jupyter-widgets/output",
            "_model_module_version": "1.0.0",
            "_model_name": "OutputModel",
            "_view_count": null,
            "_view_module": "@jupyter-widgets/output",
            "_view_module_version": "1.0.0",
            "_view_name": "OutputView",
            "layout": "IPY_MODEL_0adcd9d765d6435d9868c47a4736b489",
            "msg_id": "",
            "outputs": [
              {
                "output_type": "display_data",
                "data": {
                  "text/plain": "<Figure size 800x800 with 1 Axes>",
                  "image/png": "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\n"
                },
                "metadata": {
                  "needs_background": "light"
                }
              }
            ]
          }
        },
        "39b4c9ff126549c3a1a72e67351f7376": {
          "model_module": "@jupyter-widgets/base",
          "model_name": "LayoutModel",
          "model_module_version": "1.2.0",
          "state": {
            "_model_module": "@jupyter-widgets/base",
            "_model_module_version": "1.2.0",
            "_model_name": "LayoutModel",
            "_view_count": null,
            "_view_module": "@jupyter-widgets/base",
            "_view_module_version": "1.2.0",
            "_view_name": "LayoutView",
            "align_content": null,
            "align_items": null,
            "align_self": null,
            "border": null,
            "bottom": null,
            "display": null,
            "flex": null,
            "flex_flow": null,
            "grid_area": null,
            "grid_auto_columns": null,
            "grid_auto_flow": null,
            "grid_auto_rows": null,
            "grid_column": null,
            "grid_gap": null,
            "grid_row": null,
            "grid_template_areas": null,
            "grid_template_columns": null,
            "grid_template_rows": null,
            "height": null,
            "justify_content": null,
            "justify_items": null,
            "left": null,
            "margin": null,
            "max_height": null,
            "max_width": null,
            "min_height": null,
            "min_width": null,
            "object_fit": null,
            "object_position": null,
            "order": null,
            "overflow": null,
            "overflow_x": null,
            "overflow_y": null,
            "padding": null,
            "right": null,
            "top": null,
            "visibility": null,
            "width": null
          }
        },
        "c4ae7a6e845a4bd698dac8888f39f8bf": {
          "model_module": "@jupyter-widgets/base",
          "model_name": "LayoutModel",
          "model_module_version": "1.2.0",
          "state": {
            "_model_module": "@jupyter-widgets/base",
            "_model_module_version": "1.2.0",
            "_model_name": "LayoutModel",
            "_view_count": null,
            "_view_module": "@jupyter-widgets/base",
            "_view_module_version": "1.2.0",
            "_view_name": "LayoutView",
            "align_content": null,
            "align_items": null,
            "align_self": null,
            "border": null,
            "bottom": null,
            "display": null,
            "flex": null,
            "flex_flow": null,
            "grid_area": null,
            "grid_auto_columns": null,
            "grid_auto_flow": null,
            "grid_auto_rows": null,
            "grid_column": null,
            "grid_gap": null,
            "grid_row": null,
            "grid_template_areas": null,
            "grid_template_columns": null,
            "grid_template_rows": null,
            "height": null,
            "justify_content": null,
            "justify_items": null,
            "left": null,
            "margin": null,
            "max_height": null,
            "max_width": null,
            "min_height": null,
            "min_width": null,
            "object_fit": null,
            "object_position": null,
            "order": null,
            "overflow": null,
            "overflow_x": null,
            "overflow_y": null,
            "padding": null,
            "right": null,
            "top": null,
            "visibility": null,
            "width": null
          }
        },
        "3d49bfdb725c4838b61f874bb7eab470": {
          "model_module": "@jupyter-widgets/controls",
          "model_name": "SliderStyleModel",
          "model_module_version": "1.5.0",
          "state": {
            "_model_module": "@jupyter-widgets/controls",
            "_model_module_version": "1.5.0",
            "_model_name": "SliderStyleModel",
            "_view_count": null,
            "_view_module": "@jupyter-widgets/base",
            "_view_module_version": "1.2.0",
            "_view_name": "StyleView",
            "description_width": "",
            "handle_color": null
          }
        },
        "0adcd9d765d6435d9868c47a4736b489": {
          "model_module": "@jupyter-widgets/base",
          "model_name": "LayoutModel",
          "model_module_version": "1.2.0",
          "state": {
            "_model_module": "@jupyter-widgets/base",
            "_model_module_version": "1.2.0",
            "_model_name": "LayoutModel",
            "_view_count": null,
            "_view_module": "@jupyter-widgets/base",
            "_view_module_version": "1.2.0",
            "_view_name": "LayoutView",
            "align_content": null,
            "align_items": null,
            "align_self": null,
            "border": null,
            "bottom": null,
            "display": null,
            "flex": null,
            "flex_flow": null,
            "grid_area": null,
            "grid_auto_columns": null,
            "grid_auto_flow": null,
            "grid_auto_rows": null,
            "grid_column": null,
            "grid_gap": null,
            "grid_row": null,
            "grid_template_areas": null,
            "grid_template_columns": null,
            "grid_template_rows": null,
            "height": null,
            "justify_content": null,
            "justify_items": null,
            "left": null,
            "margin": null,
            "max_height": null,
            "max_width": null,
            "min_height": null,
            "min_width": null,
            "object_fit": null,
            "object_position": null,
            "order": null,
            "overflow": null,
            "overflow_x": null,
            "overflow_y": null,
            "padding": null,
            "right": null,
            "top": null,
            "visibility": null,
            "width": null
          }
        }
      }
    }
  },
  "nbformat": 4,
  "nbformat_minor": 0
}