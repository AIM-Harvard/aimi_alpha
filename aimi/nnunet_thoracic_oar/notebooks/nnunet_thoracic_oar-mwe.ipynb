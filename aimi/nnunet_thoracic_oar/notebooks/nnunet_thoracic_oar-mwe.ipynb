{
  "cells": [
    {
      "cell_type": "markdown",
      "metadata": {
        "colab_type": "text",
        "id": "view-in-github"
      },
      "source": [
        "<a href=\"https://colab.research.google.com/github/AIM-Harvard/aimi_alpha/blob/main/aimi/nnunet_thoracic_oar/notebooks/nnunet_thoracic_oar-mwe.ipynb\" target=\"_parent\"><img src=\"https://colab.research.google.com/assets/colab-badge.svg\" alt=\"Open In Colab\"/></a>"
      ]
    },
    {
      "cell_type": "markdown",
      "metadata": {
        "id": "Pmb_HiJv7Sit"
      },
      "source": [
        "# **ModelHub - Thoracic Organs at Risk Segmentation**\n",
        "\n",
        "This notebook provides an example of how to run an end-to-end (cloud-based) data analysis using the nnU-Net thoracic organs at risk segmentation model.\n",
        "\n",
        "The way all the operations are executed - from pulling data to data postprocessing and the standardisation of the results - have the goal of promoting transparency and reproducibility."
      ]
    },
    {
      "cell_type": "markdown",
      "metadata": {
        "id": "CZnoRi9Y7nEB"
      },
      "source": [
        "## **Environment Setup**\n",
        "\n",
        "This demo notebook is intended to be run using a GPU.\n",
        "\n",
        "To access a free GPU on Colab:\n",
        "`Edit > Notebooks Settings`.\n",
        "\n",
        "From the dropdown menu under `Hardware accelerator`, select `GPU`. Let's check the Colab instance is indeed equipped with a GPU."
      ]
    },
    {
      "cell_type": "code",
      "execution_count": 3,
      "metadata": {
        "colab": {
          "base_uri": "https://localhost:8080/"
        },
        "id": "non5qVLIcG4M",
        "outputId": "bb4460f0-5a71-4529-b3aa-e001a40b126b"
      },
      "outputs": [
        {
          "name": "stdout",
          "output_type": "stream",
          "text": [
            "Fri Sep 23 15:16:02 2022\n",
            "\n",
            "Current directory : /content\n",
            "Hostname          : 815cdaeb5772\n",
            "Username          : root\n",
            "Python version    : 3.7.14 (default, Sep  8 2022, 00:06:44) \n"
          ]
        }
      ],
      "source": [
        "import os\n",
        "import sys\n",
        "import shutil\n",
        "\n",
        "import yaml\n",
        "\n",
        "import time\n",
        "import tqdm\n",
        "\n",
        "\n",
        "# useful information\n",
        "curr_dir = !pwd\n",
        "curr_droid = !hostname\n",
        "curr_pilot = !whoami\n",
        "\n",
        "print(time.asctime(time.localtime()))\n",
        "\n",
        "print(\"\\nCurrent directory :\", curr_dir[-1])\n",
        "print(\"Hostname          :\", curr_droid[-1])\n",
        "print(\"Username          :\", curr_pilot[-1])\n",
        "\n",
        "print(\"Python version    :\", sys.version.split('\\n')[0])"
      ]
    },
    {
      "cell_type": "markdown",
      "metadata": {
        "id": "0PKq2z2jkVJz"
      },
      "source": [
        "The authentication to Google is necessary to run BigQuery queries.\n",
        "\n",
        "Every operation throughout the whole notebook (BigQuery, fetching data from the IDC buckets) is completely free. The only thing that is needed in order to run the notebook is the set-up of a Google Cloud project. In order for the notebook to work as intended, you will need to specify the name of the project in the cell after the authentication one."
      ]
    },
    {
      "cell_type": "code",
      "execution_count": 4,
      "metadata": {
        "id": "2DMUqTOVF5WP"
      },
      "outputs": [],
      "source": [
        "from google.colab import auth\n",
        "auth.authenticate_user()"
      ]
    },
    {
      "cell_type": "code",
      "execution_count": 5,
      "metadata": {
        "id": "9Y43S1F35h8m"
      },
      "outputs": [],
      "source": [
        "from google.colab import files\n",
        "from google.cloud import storage\n",
        "from google.cloud import bigquery as bq\n",
        "\n",
        "# INSERT THE ID OF YOUR PROJECT HERE!\n",
        "project_id = \"idc-sandbox-000\""
      ]
    },
    {
      "cell_type": "markdown",
      "metadata": {
        "id": "oT7coYaGfd4t"
      },
      "source": [
        "Throughout this Colab notebook, for image pre-processing we will use [Plastimatch](https://plastimatch.org), a reliable and open source software for image computation. We will be running Plastimatch using the simple [PyPlastimatch](https://github.com/AIM-Harvard/pyplastimatch/tree/main/pyplastimatch) python wrapper. "
      ]
    },
    {
      "cell_type": "code",
      "execution_count": 6,
      "metadata": {
        "id": "6NLhlFqyEgBf"
      },
      "outputs": [],
      "source": [
        "%%capture\n",
        "!apt install plastimatch"
      ]
    },
    {
      "cell_type": "code",
      "execution_count": 7,
      "metadata": {
        "colab": {
          "base_uri": "https://localhost:8080/"
        },
        "id": "_ILwxgbcfcpr",
        "outputId": "1edcd8b5-7c6f-4ec1-fce4-0b3fc7ab2431"
      },
      "outputs": [
        {
          "name": "stdout",
          "output_type": "stream",
          "text": [
            "plastimatch version 1.7.0\n"
          ]
        }
      ],
      "source": [
        "# check plastimatch was correctly installed\n",
        "!plastimatch --version"
      ]
    },
    {
      "cell_type": "markdown",
      "metadata": {
        "id": "MrNlgYZJIxkf"
      },
      "source": [
        "---\n",
        "\n",
        "Start by cloning the AIMI hub repository on the Colab instance.\n",
        "\n",
        "The AIMI hub repository stores all the code we will use for pulling, preprocessing, processing, and postprocessing the data for this use case - as long as the others shared through AIMI hub."
      ]
    },
    {
      "cell_type": "code",
      "execution_count": 8,
      "metadata": {
        "colab": {
          "base_uri": "https://localhost:8080/"
        },
        "id": "y5lBiCWMJF9d",
        "outputId": "9be54e85-36a9-4b87-a501-2e12718243d2"
      },
      "outputs": [
        {
          "name": "stdout",
          "output_type": "stream",
          "text": [
            "Cloning into 'aimi'...\n",
            "remote: Enumerating objects: 368, done.\u001b[K\n",
            "remote: Counting objects: 100% (6/6), done.\u001b[K\n",
            "remote: Compressing objects: 100% (6/6), done.\u001b[K\n",
            "remote: Total 368 (delta 2), reused 0 (delta 0), pack-reused 362\u001b[K\n",
            "Receiving objects: 100% (368/368), 3.02 MiB | 6.73 MiB/s, done.\n",
            "Resolving deltas: 100% (196/196), done.\n"
          ]
        }
      ],
      "source": [
        "!git clone https://github.com/AIM-Harvard/aimi_alpha.git aimi"
      ]
    },
    {
      "cell_type": "markdown",
      "metadata": {
        "id": "Pcj1hYK7lzmA"
      },
      "source": [
        "To organise the DICOM data in a more common (and human-understandable) fashion after downloading those from the buckets, we will make use of [DICOMSort](https://github.com/pieper/dicomsort). \n",
        "\n",
        "DICOMSort is an open source tool for custom sorting and renaming of dicom files based on their specific DICOM tags. In our case, we will exploit DICOMSort to organise the DICOM data by `PatientID` and `Modality` - so that the final directory will look like the following:\n",
        "\n",
        "```\n",
        "data/raw/nsclc-radiomics/dicom/$PatientID\n",
        " └─── CT\n",
        "       ├─── $SOPInstanceUID_slice0.dcm\n",
        "       ├─── $SOPInstanceUID_slice1.dcm\n",
        "       ├───  ...\n",
        "       │\n",
        "      RTSTRUCT \n",
        "       ├─── $SOPInstanceUID_RTSTRUCT.dcm\n",
        "      SEG\n",
        "       └─── $SOPInstanceUID_RTSEG.dcm\n",
        "\n",
        "```"
      ]
    },
    {
      "cell_type": "code",
      "execution_count": 9,
      "metadata": {
        "colab": {
          "base_uri": "https://localhost:8080/"
        },
        "id": "Py53FxrlD9eK",
        "outputId": "73ab3995-f7d7-4633-efb0-10421cf3202a"
      },
      "outputs": [
        {
          "name": "stdout",
          "output_type": "stream",
          "text": [
            "Cloning into 'dicomsort'...\n",
            "remote: Enumerating objects: 130, done.\u001b[K\n",
            "remote: Counting objects: 100% (4/4), done.\u001b[K\n",
            "remote: Compressing objects: 100% (4/4), done.\u001b[K\n",
            "remote: Total 130 (delta 0), reused 1 (delta 0), pack-reused 126\u001b[K\n",
            "Receiving objects: 100% (130/130), 44.12 KiB | 618.00 KiB/s, done.\n",
            "Resolving deltas: 100% (63/63), done.\n"
          ]
        }
      ],
      "source": [
        "!git clone https://github.com/pieper/dicomsort dicomsort"
      ]
    },
    {
      "cell_type": "markdown",
      "metadata": {
        "id": "7ztrKrzSm1WT"
      },
      "source": [
        "We will also use DCMQI for converting the resulting segmentation into standard DICOM SEG objects."
      ]
    },
    {
      "cell_type": "code",
      "execution_count": 10,
      "metadata": {
        "id": "iYf72nA8m0wh"
      },
      "outputs": [],
      "source": [
        "%%capture\n",
        "dcmqi_release_url = \"https://github.com/QIICR/dcmqi/releases/download/v1.2.4/dcmqi-1.2.4-linux.tar.gz\"\n",
        "dcmqi_download_path = \"/content/dcmqi-1.2.4-linux.tar.gz\"\n",
        "dcmqi_path = \"/content/dcmqi-1.2.4-linux\"\n",
        "\n",
        "!wget -O $dcmqi_download_path $dcmqi_release_url\n",
        "\n",
        "!tar -xvf $dcmqi_download_path\n",
        "\n",
        "!mv $dcmqi_path/bin/* /bin"
      ]
    },
    {
      "cell_type": "markdown",
      "metadata": {
        "id": "4JBJmF7rmz1S"
      },
      "source": [
        "---"
      ]
    },
    {
      "cell_type": "code",
      "execution_count": 11,
      "metadata": {
        "id": "CthT1kRuywEh"
      },
      "outputs": [],
      "source": [
        "%%capture\n",
        "!pip install pyplastimatch nnunet ipywidgets"
      ]
    },
    {
      "cell_type": "code",
      "execution_count": 12,
      "metadata": {
        "colab": {
          "base_uri": "https://localhost:8080/"
        },
        "id": "3euRfHl7pe2u",
        "outputId": "d5ed5b1a-2efd-44e4-c813-3506b1e2f73f"
      },
      "outputs": [
        {
          "name": "stdout",
          "output_type": "stream",
          "text": [
            "Python version               :  3.7.14 (default, Sep  8 2022, 00:06:44) \n",
            "Numpy version                :  1.21.6\n"
          ]
        }
      ],
      "source": [
        "import shutil\n",
        "import random\n",
        "\n",
        "import json\n",
        "import pprint\n",
        "import numpy as np\n",
        "import pandas as pd\n",
        "\n",
        "import pydicom\n",
        "import nibabel as nib\n",
        "import SimpleITK as sitk\n",
        "import pyplastimatch as pypla\n",
        "\n",
        "print(\"Python version               : \", sys.version.split('\\n')[0])\n",
        "print(\"Numpy version                : \", np.__version__)\n",
        "\n",
        "# ----------------------------------------\n",
        "\n",
        "#everything that has to do with plotting goes here below\n",
        "import matplotlib\n",
        "matplotlib.use(\"agg\")\n",
        "\n",
        "import matplotlib.pyplot as plt\n",
        "from matplotlib.colors import ListedColormap\n",
        "from matplotlib.patches import Patch\n",
        "\n",
        "%matplotlib inline\n",
        "%config InlineBackend.figure_format = \"png\"\n",
        "\n",
        "import ipywidgets as ipyw\n",
        "\n",
        "## ----------------------------------------\n",
        "\n",
        "# create new colormap appending the alpha channel to the selected one\n",
        "# (so that we don't get a \\\"color overlay\\\" when plotting the segmask superimposed to the CT)\n",
        "cmap = plt.cm.Reds\n",
        "my_reds = cmap(np.arange(cmap.N))\n",
        "my_reds[:, -1] = np.linspace(0, 1, cmap.N)\n",
        "my_reds = ListedColormap(my_reds)\n",
        "\n",
        "cmap = plt.cm.Greens\n",
        "my_greens = cmap(np.arange(cmap.N))\n",
        "my_greens[:, -1] = np.linspace(0, 1, cmap.N)\n",
        "my_greens = ListedColormap(my_greens)\n",
        "\n",
        "cmap = plt.cm.Blues\n",
        "my_blues = cmap(np.arange(cmap.N))\n",
        "my_blues[:, -1] = np.linspace(0, 1, cmap.N)\n",
        "my_blues = ListedColormap(my_blues)\n",
        "\n",
        "cmap = plt.cm.spring\n",
        "my_spring = cmap(np.arange(cmap.N))\n",
        "my_spring[:, -1] = np.linspace(0, 1, cmap.N)\n",
        "my_spring = ListedColormap(my_spring)\n",
        "## ----------------------------------------\n",
        "\n",
        "import seaborn as sns"
      ]
    },
    {
      "cell_type": "markdown",
      "metadata": {
        "id": "aZOtlGtcmOq5"
      },
      "source": [
        "Provided everything was set up correctly, we can run the BigQuery query and get all the information we need to download the testing data from the IDC platform.\n",
        "\n",
        "For this specific use case, we are going to be working with the NSCLC-Radiomics collection (Chest CT scans of lung cancer patients, with manual delineation of various organs at risk)."
      ]
    },
    {
      "cell_type": "code",
      "execution_count": 13,
      "metadata": {
        "id": "_8hRj0E5FW0A"
      },
      "outputs": [],
      "source": [
        "%%bigquery --project=$project_id cohort_df\n",
        "\n",
        "SELECT\n",
        "  dicom_pivot_v11.PatientID,\n",
        "  dicom_pivot_v11.collection_id,\n",
        "  dicom_pivot_v11.source_DOI,\n",
        "  dicom_pivot_v11.StudyInstanceUID,\n",
        "  dicom_pivot_v11.SeriesInstanceUID,\n",
        "  dicom_pivot_v11.SOPInstanceUID,\n",
        "  dicom_pivot_v11.gcs_url\n",
        "FROM\n",
        "  `bigquery-public-data.idc_v11.dicom_pivot_v11` dicom_pivot_v11\n",
        "WHERE\n",
        "  StudyInstanceUID IN (\n",
        "    SELECT\n",
        "      StudyInstanceUID\n",
        "    FROM\n",
        "      `bigquery-public-data.idc_v11.dicom_pivot_v11` dicom_pivot_v11\n",
        "    WHERE\n",
        "      StudyInstanceUID IN (\n",
        "        SELECT\n",
        "          StudyInstanceUID\n",
        "        FROM\n",
        "          `bigquery-public-data.idc_v11.dicom_pivot_v11` dicom_pivot_v11\n",
        "        WHERE\n",
        "          (\n",
        "            LOWER(\n",
        "              dicom_pivot_v11.SegmentedPropertyTypeCodeSequence\n",
        "            ) LIKE LOWER('80891009:SCT')\n",
        "          )\n",
        "        GROUP BY\n",
        "          StudyInstanceUID\n",
        "        INTERSECT DISTINCT\n",
        "        SELECT\n",
        "          StudyInstanceUID\n",
        "        FROM\n",
        "          `bigquery-public-data.idc_v11.dicom_pivot_v11` dicom_pivot_v11\n",
        "        WHERE\n",
        "          (\n",
        "            dicom_pivot_v11.collection_id IN ('Community', 'nsclc_radiomics')\n",
        "          )\n",
        "        GROUP BY\n",
        "          StudyInstanceUID\n",
        "      )\n",
        "    GROUP BY\n",
        "      StudyInstanceUID\n",
        "  )\n",
        "GROUP BY\n",
        "  dicom_pivot_v11.PatientID,\n",
        "  dicom_pivot_v11.collection_id,\n",
        "  dicom_pivot_v11.source_DOI,\n",
        "  dicom_pivot_v11.StudyInstanceUID,\n",
        "  dicom_pivot_v11.SeriesInstanceUID,\n",
        "  dicom_pivot_v11.SOPInstanceUID,\n",
        "  dicom_pivot_v11.gcs_url\n",
        "ORDER BY\n",
        "  dicom_pivot_v11.PatientID ASC,\n",
        "  dicom_pivot_v11.collection_id ASC,\n",
        "  dicom_pivot_v11.source_DOI ASC,\n",
        "  dicom_pivot_v11.StudyInstanceUID ASC,\n",
        "  dicom_pivot_v11.SeriesInstanceUID ASC,\n",
        "  dicom_pivot_v11.SOPInstanceUID ASC,\n",
        "  dicom_pivot_v11.gcs_url ASC"
      ]
    },
    {
      "cell_type": "code",
      "execution_count": 14,
      "metadata": {
        "id": "oZApCCVLkZyb"
      },
      "outputs": [],
      "source": [
        "# this works as intended only if the BQ query parses data from a single dataset\n",
        "# if not, feel free to set the name manually!\n",
        "dataset_name = cohort_df[\"collection_id\"].values[0]"
      ]
    },
    {
      "cell_type": "code",
      "execution_count": 15,
      "metadata": {
        "id": "GNutD-SRN52T"
      },
      "outputs": [],
      "source": [
        "# create the directory tree\n",
        "!mkdir -p data models\n",
        "\n",
        "!mkdir -p data/raw \n",
        "!mkdir -p data/raw/tmp data/raw/$dataset_name\n",
        "!mkdir -p data/raw/$dataset_name/dicom\n",
        "\n",
        "!mkdir -p data/processed\n",
        "!mkdir -p data/processed/$dataset_name\n",
        "!mkdir -p data/processed/$dataset_name/nii\n",
        "!mkdir -p data/processed/$dataset_name/dicomseg\n",
        "\n",
        "!mkdir -p data/model_input/\n",
        "!mkdir -p data/nnunet_output/"
      ]
    },
    {
      "cell_type": "markdown",
      "metadata": {
        "id": "D7y3FRa7rbyr"
      },
      "source": [
        "Download the segmentation model(s) from Zenodo (the original source chosen from the nnU-Net developers).\n",
        "\n",
        "Note that this can either be very fast (2 minutes or even less, at speeds around 40MB/s) or very slow (up to 10 minutes, or sometimes more) - probably depending on the traffic on the Zenodo's end and other factors. If the download is taking a long time after the first minute or so, consider interrupting the cell execution and running the cell again."
      ]
    },
    {
      "cell_type": "code",
      "execution_count": 16,
      "metadata": {
        "colab": {
          "base_uri": "https://localhost:8080/"
        },
        "id": "nJ79vTL5ef11",
        "outputId": "1d901aa6-1a03-4d76-b1e5-5cdc8c36c94b"
      },
      "outputs": [
        {
          "name": "stdout",
          "output_type": "stream",
          "text": [
            "--2022-09-23 15:17:08--  https://zenodo.org/record/4485926/files/Task055_SegTHOR.zip?download=1\n",
            "Resolving zenodo.org (zenodo.org)... 188.184.117.155\n",
            "Connecting to zenodo.org (zenodo.org)|188.184.117.155|:443... connected.\n",
            "HTTP request sent, awaiting response... 200 OK\n",
            "Length: 5019434005 (4.7G) [application/octet-stream]\n",
            "Saving to: ‘/content/models/Task055_SegTHOR.zip’\n",
            "\n",
            "/content/models/Tas 100%[===================>]   4.67G  19.0MB/s    in 5m 41s  \n",
            "\n",
            "2022-09-23 15:22:51 (14.0 MB/s) - ‘/content/models/Task055_SegTHOR.zip’ saved [5019434005/5019434005]\n",
            "\n"
          ]
        }
      ],
      "source": [
        "seg_model_url = \"https://zenodo.org/record/4485926/files/Task055_SegTHOR.zip?download=1\"\n",
        "model_download_path = \"/content/models/Task055_SegTHOR.zip\"\n",
        "\n",
        "!wget -O $model_download_path $seg_model_url"
      ]
    },
    {
      "cell_type": "markdown",
      "metadata": {
        "id": "Bne4bNo5fAsx"
      },
      "source": [
        "Initialize the environment variables nnU-Net needs."
      ]
    },
    {
      "cell_type": "code",
      "execution_count": 17,
      "metadata": {
        "id": "IIIjeFdUe1EA"
      },
      "outputs": [],
      "source": [
        "os.environ[\"RESULTS_FOLDER\"] = \"/content/data/nnunet_output/\"\n",
        "os.environ[\"WEIGHTS_FOLDER\"] = \"/content/data/nnunet_output/nnUNet\""
      ]
    },
    {
      "cell_type": "code",
      "execution_count": 18,
      "metadata": {
        "id": "Wx8bWGVvew3P"
      },
      "outputs": [],
      "source": [
        "%%capture\n",
        "!nnUNet_install_pretrained_model_from_zip $model_download_path"
      ]
    },
    {
      "cell_type": "markdown",
      "metadata": {
        "id": "0Qu6eXpHx6iV"
      },
      "source": [
        "## **Parsing Cohort Information from BigQuery Tables**\n",
        "\n",
        "We can check the various fields of the table we populated by running the BigQuery query.\n",
        "\n",
        "This table will store one entry for each DICOM file in the dataset (therefore, expect thousands of rows!)"
      ]
    },
    {
      "cell_type": "code",
      "execution_count": 19,
      "metadata": {
        "colab": {
          "base_uri": "https://localhost:8080/",
          "height": 982
        },
        "id": "V27IJihCi9Kv",
        "outputId": "1064f106-7a8e-4a11-dcdf-486b43620c8b"
      },
      "outputs": [
        {
          "name": "stdout",
          "output_type": "stream",
          "text": [
            "Total number of unique Patient IDs: 127\n",
            "<class 'pandas.core.frame.DataFrame'>\n",
            "RangeIndex: 15678 entries, 0 to 15677\n",
            "Data columns (total 7 columns):\n",
            " #   Column             Non-Null Count  Dtype \n",
            "---  ------             --------------  ----- \n",
            " 0   PatientID          15678 non-null  object\n",
            " 1   collection_id      15678 non-null  object\n",
            " 2   source_DOI         15678 non-null  object\n",
            " 3   StudyInstanceUID   15678 non-null  object\n",
            " 4   SeriesInstanceUID  15678 non-null  object\n",
            " 5   SOPInstanceUID     15678 non-null  object\n",
            " 6   gcs_url            15678 non-null  object\n",
            "dtypes: object(7)\n",
            "memory usage: 857.5+ KB\n"
          ]
        },
        {
          "data": {
            "text/plain": [
              "None"
            ]
          },
          "metadata": {},
          "output_type": "display_data"
        },
        {
          "data": {
            "text/html": [
              "\n",
              "  <div id=\"df-4a6c810c-b2f4-4ef6-bc1b-52a8688efa36\">\n",
              "    <div class=\"colab-df-container\">\n",
              "      <div>\n",
              "<style scoped>\n",
              "    .dataframe tbody tr th:only-of-type {\n",
              "        vertical-align: middle;\n",
              "    }\n",
              "\n",
              "    .dataframe tbody tr th {\n",
              "        vertical-align: top;\n",
              "    }\n",
              "\n",
              "    .dataframe thead th {\n",
              "        text-align: right;\n",
              "    }\n",
              "</style>\n",
              "<table border=\"1\" class=\"dataframe\">\n",
              "  <thead>\n",
              "    <tr style=\"text-align: right;\">\n",
              "      <th></th>\n",
              "      <th>PatientID</th>\n",
              "      <th>collection_id</th>\n",
              "      <th>source_DOI</th>\n",
              "      <th>StudyInstanceUID</th>\n",
              "      <th>SeriesInstanceUID</th>\n",
              "      <th>SOPInstanceUID</th>\n",
              "      <th>gcs_url</th>\n",
              "    </tr>\n",
              "  </thead>\n",
              "  <tbody>\n",
              "    <tr>\n",
              "      <th>0</th>\n",
              "      <td>LUNG1-002</td>\n",
              "      <td>nsclc_radiomics</td>\n",
              "      <td>10.7937/K9/TCIA.2015.PF0M9REI</td>\n",
              "      <td>1.3.6.1.4.1.32722.99.99.2037150038059966416957...</td>\n",
              "      <td>1.2.276.0.7230010.3.1.3.2323910823.11504.15972...</td>\n",
              "      <td>1.2.276.0.7230010.3.1.4.2323910823.11504.15972...</td>\n",
              "      <td>gs://idc-open-cr/eff917af-8a2a-42fe-9e12-22bce...</td>\n",
              "    </tr>\n",
              "    <tr>\n",
              "      <th>1</th>\n",
              "      <td>LUNG1-002</td>\n",
              "      <td>nsclc_radiomics</td>\n",
              "      <td>10.7937/K9/TCIA.2015.PF0M9REI</td>\n",
              "      <td>1.3.6.1.4.1.32722.99.99.2037150038059966416957...</td>\n",
              "      <td>1.3.6.1.4.1.32722.99.99.2329880015517990803358...</td>\n",
              "      <td>1.3.6.1.4.1.32722.99.99.1004190115743500844746...</td>\n",
              "      <td>gs://idc-open-cr/f8cbf725-621d-4e18-8326-41789...</td>\n",
              "    </tr>\n",
              "    <tr>\n",
              "      <th>2</th>\n",
              "      <td>LUNG1-002</td>\n",
              "      <td>nsclc_radiomics</td>\n",
              "      <td>10.7937/K9/TCIA.2015.PF0M9REI</td>\n",
              "      <td>1.3.6.1.4.1.32722.99.99.2037150038059966416957...</td>\n",
              "      <td>1.3.6.1.4.1.32722.99.99.2329880015517990803358...</td>\n",
              "      <td>1.3.6.1.4.1.32722.99.99.1031280376053401623619...</td>\n",
              "      <td>gs://idc-open-cr/c73b3d12-78b1-4456-9a88-91ba2...</td>\n",
              "    </tr>\n",
              "    <tr>\n",
              "      <th>3</th>\n",
              "      <td>LUNG1-002</td>\n",
              "      <td>nsclc_radiomics</td>\n",
              "      <td>10.7937/K9/TCIA.2015.PF0M9REI</td>\n",
              "      <td>1.3.6.1.4.1.32722.99.99.2037150038059966416957...</td>\n",
              "      <td>1.3.6.1.4.1.32722.99.99.2329880015517990803358...</td>\n",
              "      <td>1.3.6.1.4.1.32722.99.99.1075071405629330534974...</td>\n",
              "      <td>gs://idc-open-cr/48b4ae0a-6936-44b4-a6bd-27c92...</td>\n",
              "    </tr>\n",
              "    <tr>\n",
              "      <th>4</th>\n",
              "      <td>LUNG1-002</td>\n",
              "      <td>nsclc_radiomics</td>\n",
              "      <td>10.7937/K9/TCIA.2015.PF0M9REI</td>\n",
              "      <td>1.3.6.1.4.1.32722.99.99.2037150038059966416957...</td>\n",
              "      <td>1.3.6.1.4.1.32722.99.99.2329880015517990803358...</td>\n",
              "      <td>1.3.6.1.4.1.32722.99.99.1125363119759695902111...</td>\n",
              "      <td>gs://idc-open-cr/3c36a30a-630b-4183-b87d-8a238...</td>\n",
              "    </tr>\n",
              "  </tbody>\n",
              "</table>\n",
              "</div>\n",
              "      <button class=\"colab-df-convert\" onclick=\"convertToInteractive('df-4a6c810c-b2f4-4ef6-bc1b-52a8688efa36')\"\n",
              "              title=\"Convert this dataframe to an interactive table.\"\n",
              "              style=\"display:none;\">\n",
              "        \n",
              "  <svg xmlns=\"http://www.w3.org/2000/svg\" height=\"24px\"viewBox=\"0 0 24 24\"\n",
              "       width=\"24px\">\n",
              "    <path d=\"M0 0h24v24H0V0z\" fill=\"none\"/>\n",
              "    <path d=\"M18.56 5.44l.94 2.06.94-2.06 2.06-.94-2.06-.94-.94-2.06-.94 2.06-2.06.94zm-11 1L8.5 8.5l.94-2.06 2.06-.94-2.06-.94L8.5 2.5l-.94 2.06-2.06.94zm10 10l.94 2.06.94-2.06 2.06-.94-2.06-.94-.94-2.06-.94 2.06-2.06.94z\"/><path d=\"M17.41 7.96l-1.37-1.37c-.4-.4-.92-.59-1.43-.59-.52 0-1.04.2-1.43.59L10.3 9.45l-7.72 7.72c-.78.78-.78 2.05 0 2.83L4 21.41c.39.39.9.59 1.41.59.51 0 1.02-.2 1.41-.59l7.78-7.78 2.81-2.81c.8-.78.8-2.07 0-2.86zM5.41 20L4 18.59l7.72-7.72 1.47 1.35L5.41 20z\"/>\n",
              "  </svg>\n",
              "      </button>\n",
              "      \n",
              "  <style>\n",
              "    .colab-df-container {\n",
              "      display:flex;\n",
              "      flex-wrap:wrap;\n",
              "      gap: 12px;\n",
              "    }\n",
              "\n",
              "    .colab-df-convert {\n",
              "      background-color: #E8F0FE;\n",
              "      border: none;\n",
              "      border-radius: 50%;\n",
              "      cursor: pointer;\n",
              "      display: none;\n",
              "      fill: #1967D2;\n",
              "      height: 32px;\n",
              "      padding: 0 0 0 0;\n",
              "      width: 32px;\n",
              "    }\n",
              "\n",
              "    .colab-df-convert:hover {\n",
              "      background-color: #E2EBFA;\n",
              "      box-shadow: 0px 1px 2px rgba(60, 64, 67, 0.3), 0px 1px 3px 1px rgba(60, 64, 67, 0.15);\n",
              "      fill: #174EA6;\n",
              "    }\n",
              "\n",
              "    [theme=dark] .colab-df-convert {\n",
              "      background-color: #3B4455;\n",
              "      fill: #D2E3FC;\n",
              "    }\n",
              "\n",
              "    [theme=dark] .colab-df-convert:hover {\n",
              "      background-color: #434B5C;\n",
              "      box-shadow: 0px 1px 3px 1px rgba(0, 0, 0, 0.15);\n",
              "      filter: drop-shadow(0px 1px 2px rgba(0, 0, 0, 0.3));\n",
              "      fill: #FFFFFF;\n",
              "    }\n",
              "  </style>\n",
              "\n",
              "      <script>\n",
              "        const buttonEl =\n",
              "          document.querySelector('#df-4a6c810c-b2f4-4ef6-bc1b-52a8688efa36 button.colab-df-convert');\n",
              "        buttonEl.style.display =\n",
              "          google.colab.kernel.accessAllowed ? 'block' : 'none';\n",
              "\n",
              "        async function convertToInteractive(key) {\n",
              "          const element = document.querySelector('#df-4a6c810c-b2f4-4ef6-bc1b-52a8688efa36');\n",
              "          const dataTable =\n",
              "            await google.colab.kernel.invokeFunction('convertToInteractive',\n",
              "                                                     [key], {});\n",
              "          if (!dataTable) return;\n",
              "\n",
              "          const docLinkHtml = 'Like what you see? Visit the ' +\n",
              "            '<a target=\"_blank\" href=https://colab.research.google.com/notebooks/data_table.ipynb>data table notebook</a>'\n",
              "            + ' to learn more about interactive tables.';\n",
              "          element.innerHTML = '';\n",
              "          dataTable['output_type'] = 'display_data';\n",
              "          await google.colab.output.renderOutput(dataTable, element);\n",
              "          const docLink = document.createElement('div');\n",
              "          docLink.innerHTML = docLinkHtml;\n",
              "          element.appendChild(docLink);\n",
              "        }\n",
              "      </script>\n",
              "    </div>\n",
              "  </div>\n",
              "  "
            ],
            "text/plain": [
              "   PatientID    collection_id                     source_DOI  \\\n",
              "0  LUNG1-002  nsclc_radiomics  10.7937/K9/TCIA.2015.PF0M9REI   \n",
              "1  LUNG1-002  nsclc_radiomics  10.7937/K9/TCIA.2015.PF0M9REI   \n",
              "2  LUNG1-002  nsclc_radiomics  10.7937/K9/TCIA.2015.PF0M9REI   \n",
              "3  LUNG1-002  nsclc_radiomics  10.7937/K9/TCIA.2015.PF0M9REI   \n",
              "4  LUNG1-002  nsclc_radiomics  10.7937/K9/TCIA.2015.PF0M9REI   \n",
              "\n",
              "                                    StudyInstanceUID  \\\n",
              "0  1.3.6.1.4.1.32722.99.99.2037150038059966416957...   \n",
              "1  1.3.6.1.4.1.32722.99.99.2037150038059966416957...   \n",
              "2  1.3.6.1.4.1.32722.99.99.2037150038059966416957...   \n",
              "3  1.3.6.1.4.1.32722.99.99.2037150038059966416957...   \n",
              "4  1.3.6.1.4.1.32722.99.99.2037150038059966416957...   \n",
              "\n",
              "                                   SeriesInstanceUID  \\\n",
              "0  1.2.276.0.7230010.3.1.3.2323910823.11504.15972...   \n",
              "1  1.3.6.1.4.1.32722.99.99.2329880015517990803358...   \n",
              "2  1.3.6.1.4.1.32722.99.99.2329880015517990803358...   \n",
              "3  1.3.6.1.4.1.32722.99.99.2329880015517990803358...   \n",
              "4  1.3.6.1.4.1.32722.99.99.2329880015517990803358...   \n",
              "\n",
              "                                      SOPInstanceUID  \\\n",
              "0  1.2.276.0.7230010.3.1.4.2323910823.11504.15972...   \n",
              "1  1.3.6.1.4.1.32722.99.99.1004190115743500844746...   \n",
              "2  1.3.6.1.4.1.32722.99.99.1031280376053401623619...   \n",
              "3  1.3.6.1.4.1.32722.99.99.1075071405629330534974...   \n",
              "4  1.3.6.1.4.1.32722.99.99.1125363119759695902111...   \n",
              "\n",
              "                                             gcs_url  \n",
              "0  gs://idc-open-cr/eff917af-8a2a-42fe-9e12-22bce...  \n",
              "1  gs://idc-open-cr/f8cbf725-621d-4e18-8326-41789...  \n",
              "2  gs://idc-open-cr/c73b3d12-78b1-4456-9a88-91ba2...  \n",
              "3  gs://idc-open-cr/48b4ae0a-6936-44b4-a6bd-27c92...  \n",
              "4  gs://idc-open-cr/3c36a30a-630b-4183-b87d-8a238...  "
            ]
          },
          "metadata": {},
          "output_type": "display_data"
        }
      ],
      "source": [
        "pat_id_list = sorted(list(set(cohort_df[\"PatientID\"].values)))\n",
        "\n",
        "print(\"Total number of unique Patient IDs:\", len(pat_id_list))\n",
        "\n",
        "display(cohort_df.info())\n",
        "\n",
        "display(cohort_df.head())"
      ]
    },
    {
      "cell_type": "markdown",
      "metadata": {
        "id": "AolLtXOLVt7D"
      },
      "source": [
        "---\n",
        "\n",
        "## **Set Run Parameters**\n",
        "\n",
        "From this cell, we can configure the nnU-Net inference step - specifying, for instance, the type of model we want to run (among the four different models the framework provides), whether we want to use test time augmentation, or whether we want to export the soft probability maps of the segmentation masks.\n"
      ]
    },
    {
      "cell_type": "code",
      "execution_count": 20,
      "metadata": {
        "id": "TRmrt00589lv"
      },
      "outputs": [],
      "source": [
        "# FIXED PARAMETERS\n",
        "data_base_path = \"/content/data\"\n",
        "raw_base_path = \"/content/data/raw/tmp\"\n",
        "sorted_base_path = os.path.join(\"/content/data/raw/\", dataset_name, \"dicom\")\n",
        "\n",
        "processed_base_path = os.path.join(\"/content/data/processed/\", dataset_name)\n",
        "processed_nifti_path = os.path.join(processed_base_path, \"nii\")\n",
        "\n",
        "processed_dicomseg_path = os.path.join(processed_base_path, \"dicomseg\")\n",
        "\n",
        "model_input_folder = \"/content/data/model_input/\"\n",
        "model_output_folder = \"/content/data/nnunet_output/\"\n",
        "\n",
        "dicomseg_json_path = \"/content/aimi/aimi/nnunet_thoracic_oar/config/dicomseg_metadata.json\"\n",
        "\n",
        "# -----------------\n",
        "# nnU-Net pipeline parameters\n",
        "\n",
        "# choose from: \"2d\", \"3d_lowres\", \"3d_fullres\", \"3d_cascade_fullres\"\n",
        "nnunet_model = \"3d_lowres\"\n",
        "use_tta = True"
      ]
    },
    {
      "cell_type": "markdown",
      "metadata": {
        "id": "-n0qjPp1B_mv"
      },
      "source": [
        "## **Running the Analysis for a Single Patient**"
      ]
    },
    {
      "cell_type": "code",
      "execution_count": 21,
      "metadata": {
        "id": "vPPZRieLM5K-"
      },
      "outputs": [],
      "source": [
        "import aimi.aimi as aimi\n",
        "\n",
        "from aimi import general_utils as aimi_utils\n",
        "from aimi import nnunet_thoracic_oar as aimi_model"
      ]
    },
    {
      "cell_type": "markdown",
      "metadata": {
        "id": "0pFSCy5HoOp_"
      },
      "source": [
        "The following cells run all the processing pipeline, from pre-processing to post-processing."
      ]
    },
    {
      "cell_type": "code",
      "execution_count": 22,
      "metadata": {
        "colab": {
          "base_uri": "https://localhost:8080/",
          "height": 964
        },
        "id": "pekuBoTMmYsq",
        "outputId": "b9313b12-841f-462b-9b90-dcd3bdf6c5b1"
      },
      "outputs": [
        {
          "name": "stdout",
          "output_type": "stream",
          "text": [
            "<class 'pandas.core.frame.DataFrame'>\n",
            "RangeIndex: 136 entries, 0 to 135\n",
            "Data columns (total 7 columns):\n",
            " #   Column             Non-Null Count  Dtype \n",
            "---  ------             --------------  ----- \n",
            " 0   PatientID          136 non-null    object\n",
            " 1   collection_id      136 non-null    object\n",
            " 2   source_DOI         136 non-null    object\n",
            " 3   StudyInstanceUID   136 non-null    object\n",
            " 4   SeriesInstanceUID  136 non-null    object\n",
            " 5   SOPInstanceUID     136 non-null    object\n",
            " 6   gcs_url            136 non-null    object\n",
            "dtypes: object(7)\n",
            "memory usage: 7.6+ KB\n"
          ]
        },
        {
          "data": {
            "text/plain": [
              "None"
            ]
          },
          "metadata": {},
          "output_type": "display_data"
        },
        {
          "data": {
            "text/html": [
              "\n",
              "  <div id=\"df-2e1e81dd-4aad-42fb-a083-a75762bb33fe\">\n",
              "    <div class=\"colab-df-container\">\n",
              "      <div>\n",
              "<style scoped>\n",
              "    .dataframe tbody tr th:only-of-type {\n",
              "        vertical-align: middle;\n",
              "    }\n",
              "\n",
              "    .dataframe tbody tr th {\n",
              "        vertical-align: top;\n",
              "    }\n",
              "\n",
              "    .dataframe thead th {\n",
              "        text-align: right;\n",
              "    }\n",
              "</style>\n",
              "<table border=\"1\" class=\"dataframe\">\n",
              "  <thead>\n",
              "    <tr style=\"text-align: right;\">\n",
              "      <th></th>\n",
              "      <th>PatientID</th>\n",
              "      <th>collection_id</th>\n",
              "      <th>source_DOI</th>\n",
              "      <th>StudyInstanceUID</th>\n",
              "      <th>SeriesInstanceUID</th>\n",
              "      <th>SOPInstanceUID</th>\n",
              "      <th>gcs_url</th>\n",
              "    </tr>\n",
              "  </thead>\n",
              "  <tbody>\n",
              "    <tr>\n",
              "      <th>0</th>\n",
              "      <td>LUNG1-369</td>\n",
              "      <td>nsclc_radiomics</td>\n",
              "      <td>10.7937/K9/TCIA.2015.PF0M9REI</td>\n",
              "      <td>1.3.6.1.4.1.32722.99.99.2929053067929872639366...</td>\n",
              "      <td>1.2.276.0.7230010.3.1.3.2323910823.6720.159725...</td>\n",
              "      <td>1.2.276.0.7230010.3.1.4.2323910823.6720.159725...</td>\n",
              "      <td>gs://idc-open-cr/31fb0196-6f93-4c8e-9419-caeb0...</td>\n",
              "    </tr>\n",
              "    <tr>\n",
              "      <th>1</th>\n",
              "      <td>LUNG1-369</td>\n",
              "      <td>nsclc_radiomics</td>\n",
              "      <td>10.7937/K9/TCIA.2015.PF0M9REI</td>\n",
              "      <td>1.3.6.1.4.1.32722.99.99.2929053067929872639366...</td>\n",
              "      <td>1.3.6.1.4.1.32722.99.99.1195454375425244022392...</td>\n",
              "      <td>1.3.6.1.4.1.32722.99.99.1223086301425002332323...</td>\n",
              "      <td>gs://idc-open-cr/cc6737b5-9bf8-40d8-9649-27b08...</td>\n",
              "    </tr>\n",
              "    <tr>\n",
              "      <th>2</th>\n",
              "      <td>LUNG1-369</td>\n",
              "      <td>nsclc_radiomics</td>\n",
              "      <td>10.7937/K9/TCIA.2015.PF0M9REI</td>\n",
              "      <td>1.3.6.1.4.1.32722.99.99.2929053067929872639366...</td>\n",
              "      <td>1.3.6.1.4.1.32722.99.99.2264528188900807658868...</td>\n",
              "      <td>1.3.6.1.4.1.32722.99.99.1025763072065997123229...</td>\n",
              "      <td>gs://idc-open-cr/5efd264a-eaa8-403c-a39e-5a00d...</td>\n",
              "    </tr>\n",
              "    <tr>\n",
              "      <th>3</th>\n",
              "      <td>LUNG1-369</td>\n",
              "      <td>nsclc_radiomics</td>\n",
              "      <td>10.7937/K9/TCIA.2015.PF0M9REI</td>\n",
              "      <td>1.3.6.1.4.1.32722.99.99.2929053067929872639366...</td>\n",
              "      <td>1.3.6.1.4.1.32722.99.99.2264528188900807658868...</td>\n",
              "      <td>1.3.6.1.4.1.32722.99.99.1025878422847329731393...</td>\n",
              "      <td>gs://idc-open-cr/4a8f5abf-c2c6-4624-a4c0-b75a1...</td>\n",
              "    </tr>\n",
              "    <tr>\n",
              "      <th>4</th>\n",
              "      <td>LUNG1-369</td>\n",
              "      <td>nsclc_radiomics</td>\n",
              "      <td>10.7937/K9/TCIA.2015.PF0M9REI</td>\n",
              "      <td>1.3.6.1.4.1.32722.99.99.2929053067929872639366...</td>\n",
              "      <td>1.3.6.1.4.1.32722.99.99.2264528188900807658868...</td>\n",
              "      <td>1.3.6.1.4.1.32722.99.99.1039200525324158945462...</td>\n",
              "      <td>gs://idc-open-cr/cfb52894-8293-4958-99e5-d1903...</td>\n",
              "    </tr>\n",
              "  </tbody>\n",
              "</table>\n",
              "</div>\n",
              "      <button class=\"colab-df-convert\" onclick=\"convertToInteractive('df-2e1e81dd-4aad-42fb-a083-a75762bb33fe')\"\n",
              "              title=\"Convert this dataframe to an interactive table.\"\n",
              "              style=\"display:none;\">\n",
              "        \n",
              "  <svg xmlns=\"http://www.w3.org/2000/svg\" height=\"24px\"viewBox=\"0 0 24 24\"\n",
              "       width=\"24px\">\n",
              "    <path d=\"M0 0h24v24H0V0z\" fill=\"none\"/>\n",
              "    <path d=\"M18.56 5.44l.94 2.06.94-2.06 2.06-.94-2.06-.94-.94-2.06-.94 2.06-2.06.94zm-11 1L8.5 8.5l.94-2.06 2.06-.94-2.06-.94L8.5 2.5l-.94 2.06-2.06.94zm10 10l.94 2.06.94-2.06 2.06-.94-2.06-.94-.94-2.06-.94 2.06-2.06.94z\"/><path d=\"M17.41 7.96l-1.37-1.37c-.4-.4-.92-.59-1.43-.59-.52 0-1.04.2-1.43.59L10.3 9.45l-7.72 7.72c-.78.78-.78 2.05 0 2.83L4 21.41c.39.39.9.59 1.41.59.51 0 1.02-.2 1.41-.59l7.78-7.78 2.81-2.81c.8-.78.8-2.07 0-2.86zM5.41 20L4 18.59l7.72-7.72 1.47 1.35L5.41 20z\"/>\n",
              "  </svg>\n",
              "      </button>\n",
              "      \n",
              "  <style>\n",
              "    .colab-df-container {\n",
              "      display:flex;\n",
              "      flex-wrap:wrap;\n",
              "      gap: 12px;\n",
              "    }\n",
              "\n",
              "    .colab-df-convert {\n",
              "      background-color: #E8F0FE;\n",
              "      border: none;\n",
              "      border-radius: 50%;\n",
              "      cursor: pointer;\n",
              "      display: none;\n",
              "      fill: #1967D2;\n",
              "      height: 32px;\n",
              "      padding: 0 0 0 0;\n",
              "      width: 32px;\n",
              "    }\n",
              "\n",
              "    .colab-df-convert:hover {\n",
              "      background-color: #E2EBFA;\n",
              "      box-shadow: 0px 1px 2px rgba(60, 64, 67, 0.3), 0px 1px 3px 1px rgba(60, 64, 67, 0.15);\n",
              "      fill: #174EA6;\n",
              "    }\n",
              "\n",
              "    [theme=dark] .colab-df-convert {\n",
              "      background-color: #3B4455;\n",
              "      fill: #D2E3FC;\n",
              "    }\n",
              "\n",
              "    [theme=dark] .colab-df-convert:hover {\n",
              "      background-color: #434B5C;\n",
              "      box-shadow: 0px 1px 3px 1px rgba(0, 0, 0, 0.15);\n",
              "      filter: drop-shadow(0px 1px 2px rgba(0, 0, 0, 0.3));\n",
              "      fill: #FFFFFF;\n",
              "    }\n",
              "  </style>\n",
              "\n",
              "      <script>\n",
              "        const buttonEl =\n",
              "          document.querySelector('#df-2e1e81dd-4aad-42fb-a083-a75762bb33fe button.colab-df-convert');\n",
              "        buttonEl.style.display =\n",
              "          google.colab.kernel.accessAllowed ? 'block' : 'none';\n",
              "\n",
              "        async function convertToInteractive(key) {\n",
              "          const element = document.querySelector('#df-2e1e81dd-4aad-42fb-a083-a75762bb33fe');\n",
              "          const dataTable =\n",
              "            await google.colab.kernel.invokeFunction('convertToInteractive',\n",
              "                                                     [key], {});\n",
              "          if (!dataTable) return;\n",
              "\n",
              "          const docLinkHtml = 'Like what you see? Visit the ' +\n",
              "            '<a target=\"_blank\" href=https://colab.research.google.com/notebooks/data_table.ipynb>data table notebook</a>'\n",
              "            + ' to learn more about interactive tables.';\n",
              "          element.innerHTML = '';\n",
              "          dataTable['output_type'] = 'display_data';\n",
              "          await google.colab.output.renderOutput(dataTable, element);\n",
              "          const docLink = document.createElement('div');\n",
              "          docLink.innerHTML = docLinkHtml;\n",
              "          element.appendChild(docLink);\n",
              "        }\n",
              "      </script>\n",
              "    </div>\n",
              "  </div>\n",
              "  "
            ],
            "text/plain": [
              "   PatientID    collection_id                     source_DOI  \\\n",
              "0  LUNG1-369  nsclc_radiomics  10.7937/K9/TCIA.2015.PF0M9REI   \n",
              "1  LUNG1-369  nsclc_radiomics  10.7937/K9/TCIA.2015.PF0M9REI   \n",
              "2  LUNG1-369  nsclc_radiomics  10.7937/K9/TCIA.2015.PF0M9REI   \n",
              "3  LUNG1-369  nsclc_radiomics  10.7937/K9/TCIA.2015.PF0M9REI   \n",
              "4  LUNG1-369  nsclc_radiomics  10.7937/K9/TCIA.2015.PF0M9REI   \n",
              "\n",
              "                                    StudyInstanceUID  \\\n",
              "0  1.3.6.1.4.1.32722.99.99.2929053067929872639366...   \n",
              "1  1.3.6.1.4.1.32722.99.99.2929053067929872639366...   \n",
              "2  1.3.6.1.4.1.32722.99.99.2929053067929872639366...   \n",
              "3  1.3.6.1.4.1.32722.99.99.2929053067929872639366...   \n",
              "4  1.3.6.1.4.1.32722.99.99.2929053067929872639366...   \n",
              "\n",
              "                                   SeriesInstanceUID  \\\n",
              "0  1.2.276.0.7230010.3.1.3.2323910823.6720.159725...   \n",
              "1  1.3.6.1.4.1.32722.99.99.1195454375425244022392...   \n",
              "2  1.3.6.1.4.1.32722.99.99.2264528188900807658868...   \n",
              "3  1.3.6.1.4.1.32722.99.99.2264528188900807658868...   \n",
              "4  1.3.6.1.4.1.32722.99.99.2264528188900807658868...   \n",
              "\n",
              "                                      SOPInstanceUID  \\\n",
              "0  1.2.276.0.7230010.3.1.4.2323910823.6720.159725...   \n",
              "1  1.3.6.1.4.1.32722.99.99.1223086301425002332323...   \n",
              "2  1.3.6.1.4.1.32722.99.99.1025763072065997123229...   \n",
              "3  1.3.6.1.4.1.32722.99.99.1025878422847329731393...   \n",
              "4  1.3.6.1.4.1.32722.99.99.1039200525324158945462...   \n",
              "\n",
              "                                             gcs_url  \n",
              "0  gs://idc-open-cr/31fb0196-6f93-4c8e-9419-caeb0...  \n",
              "1  gs://idc-open-cr/cc6737b5-9bf8-40d8-9649-27b08...  \n",
              "2  gs://idc-open-cr/5efd264a-eaa8-403c-a39e-5a00d...  \n",
              "3  gs://idc-open-cr/4a8f5abf-c2c6-4624-a4c0-b75a1...  \n",
              "4  gs://idc-open-cr/cfb52894-8293-4958-99e5-d1903...  "
            ]
          },
          "metadata": {},
          "output_type": "display_data"
        }
      ],
      "source": [
        "pat_id = random.choice(cohort_df[\"PatientID\"].values)\n",
        "pat_df = cohort_df[cohort_df[\"PatientID\"] == pat_id].reset_index(drop = True)\n",
        "\n",
        "display(pat_df.info())\n",
        "display(pat_df.head())"
      ]
    },
    {
      "cell_type": "code",
      "execution_count": 23,
      "metadata": {
        "colab": {
          "base_uri": "https://localhost:8080/"
        },
        "id": "S7a6h_iINlvq",
        "outputId": "c10fcd99-8397-4647-fbc0-39eca7a8ce37"
      },
      "outputs": [
        {
          "name": "stdout",
          "output_type": "stream",
          "text": [
            "Processing patient: LUNG1-369\n"
          ]
        }
      ],
      "source": [
        "# init\n",
        "\n",
        "print(\"Processing patient: %s\"%(pat_id))\n",
        "\n",
        "patient_df = cohort_df[cohort_df[\"PatientID\"] == pat_id]\n",
        "\n",
        "dicomseg_fn = pat_id + \"_SEG.dcm\"\n",
        "\n",
        "input_nifti_fn = pat_id + \"_0000.nii.gz\"\n",
        "input_nifti_path = os.path.join(model_input_folder, input_nifti_fn)\n",
        "\n",
        "pred_nifti_fn = pat_id + \".nii.gz\"\n",
        "pred_nifti_path = os.path.join(model_output_folder, pred_nifti_fn)\n",
        "\n",
        "pred_softmax_folder_name = \"pred_softmax\"\n",
        "pred_softmax_folder_path = os.path.join(processed_nifti_path, pat_id, pred_softmax_folder_name)"
      ]
    },
    {
      "cell_type": "code",
      "execution_count": 24,
      "metadata": {
        "colab": {
          "base_uri": "https://localhost:8080/"
        },
        "id": "NZDxWkvCNlxw",
        "outputId": "19887010-6415-4a24-9a49-f9dc29308033"
      },
      "outputs": [
        {
          "name": "stdout",
          "output_type": "stream",
          "text": [
            "Copying files from IDC buckets to /content/data/raw/tmp/LUNG1-369...\n",
            "Done in 9.14699 seconds.\n",
            "\n",
            "Sorting DICOM files...\n",
            "Done in 1.25875 seconds.\n",
            "Sorted DICOM data saved at: /content/data/raw/nsclc_radiomics/dicom/LUNG1-369\n",
            "Removing un-sorted data at /content/data/raw/tmp/LUNG1-369...\n",
            "... Done.\n"
          ]
        }
      ],
      "source": [
        "# data cross-loading\n",
        "aimi_utils.gcs.download_patient_data(raw_base_path = raw_base_path,\n",
        "                                     sorted_base_path = sorted_base_path,\n",
        "                                     patient_df = patient_df,\n",
        "                                     remove_raw = True)"
      ]
    },
    {
      "cell_type": "code",
      "execution_count": 25,
      "metadata": {
        "colab": {
          "base_uri": "https://localhost:8080/"
        },
        "id": "FfsY-_EGNs19",
        "outputId": "8055ff2f-79e7-4557-97eb-813df37ab8b8"
      },
      "outputs": [
        {
          "name": "stdout",
          "output_type": "stream",
          "text": [
            "\n",
            "Running 'plastimatch convert' with the specified arguments:\n",
            "  --input /content/data/raw/nsclc_radiomics/dicom/LUNG1-369/CT\n",
            "  --output-img /content/data/processed/nsclc_radiomics/nii/LUNG1-369/LUNG1-369_CT.nii.gz\n",
            "... Done.\n"
          ]
        }
      ],
      "source": [
        "# DICOM CT to NIfTI - required for the processing\n",
        "aimi_utils.preprocessing.pypla_dicom_ct_to_nifti(sorted_base_path = sorted_base_path,\n",
        "                                                 processed_nifti_path = processed_nifti_path,\n",
        "                                                 pat_id = pat_id, verbose = True)"
      ]
    },
    {
      "cell_type": "code",
      "execution_count": 26,
      "metadata": {
        "colab": {
          "base_uri": "https://localhost:8080/"
        },
        "id": "0R547UiyNs4O",
        "outputId": "03371d12-3752-42f3-eaf4-c847b82b2dd1"
      },
      "outputs": [
        {
          "name": "stdout",
          "output_type": "stream",
          "text": [
            "Copying /content/data/processed/nsclc_radiomics/nii/LUNG1-369/LUNG1-369_CT.nii.gz\n",
            "to /content/data/model_input/LUNG1-369_0000.nii.gz...\n",
            "... Done.\n"
          ]
        }
      ],
      "source": [
        "# prepare the `model_input` folder for the inference phase\n",
        "aimi_utils.preprocessing.prep_ct_input_data(processed_nifti_path = processed_nifti_path,\n",
        "                                            model_input_folder = model_input_folder,\n",
        "                                            pat_id = pat_id)"
      ]
    },
    {
      "cell_type": "code",
      "execution_count": 27,
      "metadata": {
        "colab": {
          "base_uri": "https://localhost:8080/"
        },
        "id": "-OCLqzAzNs6K",
        "outputId": "ca1335ee-c0ed-4400-926a-32cb2e82fa16"
      },
      "outputs": [
        {
          "name": "stdout",
          "output_type": "stream",
          "text": [
            "Running `nnUNet_predict` with `3d_lowres` model...\n",
            "Processing file at /content/data/model_input/LUNG1-369_0000.nii.gz...\n",
            "Done in 158.939 seconds.\n"
          ]
        }
      ],
      "source": [
        "# run the DL-based prediction\n",
        "aimi_model.utils.processing.process_patient_nnunet(model_input_folder = model_input_folder,\n",
        "                                                   model_output_folder = model_output_folder, \n",
        "                                                   nnunet_model = nnunet_model, use_tta = use_tta)"
      ]
    },
    {
      "cell_type": "code",
      "execution_count": 28,
      "metadata": {
        "colab": {
          "base_uri": "https://localhost:8080/",
          "height": 36
        },
        "id": "OdhLTfQRVYBR",
        "outputId": "e28d68b7-57d5-4137-dd6c-67589a102cb7"
      },
      "outputs": [
        {
          "data": {
            "application/vnd.google.colaboratory.intrinsic+json": {
              "type": "string"
            },
            "text/plain": [
              "'/content/data/processed/nsclc_radiomics/nii/LUNG1-369/LUNG1-369_pred_thoracic_oar.nii.gz'"
            ]
          },
          "execution_count": 28,
          "metadata": {},
          "output_type": "execute_result"
        }
      ],
      "source": [
        "model_output_seg = os.path.join(model_output_folder, pat_id + \".nii.gz\")\n",
        "seg_nii_path = os.path.join(processed_nifti_path, pat_id, pat_id + \"_pred_thoracic_oar.nii.gz\")\n",
        "\n",
        "shutil.copyfile(model_output_seg, seg_nii_path)"
      ]
    },
    {
      "cell_type": "markdown",
      "metadata": {
        "id": "0UWyjE1505fV"
      },
      "source": [
        "Before running the conversion to DICOM SEG, update the JSON file used to generate the DICOM SEG object with the configuration of nnU-Net we are going to be using for the specific run."
      ]
    },
    {
      "cell_type": "code",
      "execution_count": 30,
      "metadata": {
        "id": "-B-kePw4zyBL"
      },
      "outputs": [],
      "source": [
        "extended_model_name = \"nnU-Net \" + nnunet_model + \"_tta\" if use_tta else \"nnU-Net \" + nnunet_model\n",
        "\n",
        "aimi_utils.config.modify_dicomseg_json_file(dicomseg_json_path = dicomseg_json_path,\n",
        "                                            new_dicomseg_json_path = dicomseg_json_path,\n",
        "                                            SegmentAlgorithmName = extended_model_name)"
      ]
    },
    {
      "cell_type": "code",
      "execution_count": 31,
      "metadata": {
        "id": "rQ9FSB77TH6g"
      },
      "outputs": [],
      "source": [
        "aimi_model.utils.postprocessing.nifti_to_dicomseg(sorted_base_path = sorted_base_path,\n",
        "                                                  processed_base_path = processed_base_path,\n",
        "                                                  dicomseg_json_path = dicomseg_json_path,\n",
        "                                                  pat_id = pat_id)"
      ]
    },
    {
      "cell_type": "markdown",
      "metadata": {
        "id": "But1jZOmo1YN"
      },
      "source": [
        "---"
      ]
    },
    {
      "cell_type": "code",
      "execution_count": 32,
      "metadata": {
        "id": "SPAivMyyqReY"
      },
      "outputs": [],
      "source": [
        "from pyplastimatch.utils import viz as viz_utils"
      ]
    },
    {
      "cell_type": "code",
      "execution_count": 33,
      "metadata": {
        "id": "gxrHpkeapMKe"
      },
      "outputs": [],
      "source": [
        "ct_nii_path = os.path.join(\"/content/data/processed/%s/nii/\"%dataset_name, pat_id, pat_id + \"_CT.nii.gz\")\n",
        "seg_nii_path = os.path.join(\"/content/data/nnunet_output/\", pat_id + \".nii.gz\")\n",
        "softseg_nii_path = os.path.join(\"/content/data/nnunet_output/\", pat_id + \".npz\")\n",
        "\n",
        "\"\"\"\n",
        "alternative way of loading the resulting NIfTI files\n",
        "nibabel can sometimes take better care of the orientation of the\n",
        "converted/segmented images, but will orient the data differently by default\n",
        "\"\"\"\n",
        "\n",
        "#ct_nii = nib.load(ct_nii_path).dataobj\n",
        "#seg_nii = nib.load(seg_nii_path).dataobj\n",
        "\n",
        "ct_nii = sitk.GetArrayFromImage(sitk.ReadImage(ct_nii_path))\n",
        "seg_nii = sitk.GetArrayFromImage(sitk.ReadImage(seg_nii_path))"
      ]
    },
    {
      "cell_type": "markdown",
      "metadata": {
        "id": "5Ydjya0OX5yd"
      },
      "source": [
        "In some cases, the nnU-Net model will fail in segmenting the pancreatic cancer from the CT scan. The voxels of the NIfTI volume resulting from the pipeline will therefore take only two values: 0, for background, and 1, for pancreas.\n",
        "\n",
        "In the next cell, we can visualise the result using a simple widget - after taking care of the potential aforementioned exception."
      ]
    },
    {
      "cell_type": "code",
      "execution_count": 34,
      "metadata": {
        "colab": {
          "base_uri": "https://localhost:8080/",
          "height": 701,
          "referenced_widgets": [
            "86a013f2593940468e9e5349f96dd2e7",
            "c56261f706a742d2b4e1c20a350107d9",
            "0ab6436d951a4694b9b2332c9d7703d8",
            "838f3ca257a34a93b85400247bb0c201",
            "66bc56dc21344f1ca438ac43c8c62b72",
            "37e6c62033bd43a790b7734f221903a2",
            "3a817821347b4fa9979543d01cd4faae",
            "7296d2ce6ead444ea56d0031058e73fe",
            "09fca696bc464cb2b89a41ca5d0458b9",
            "4d5fd02ff10c438ca1839139d542e8eb",
            "5b9928d67aa544868abe8973bf37bf1d"
          ]
        },
        "id": "imBup5S2qcpM",
        "outputId": "0febf991-29eb-4d18-da63-8c00f66a4042"
      },
      "outputs": [
        {
          "data": {
            "application/vnd.jupyter.widget-view+json": {
              "model_id": "86a013f2593940468e9e5349f96dd2e7",
              "version_major": 2,
              "version_minor": 0
            },
            "text/plain": [
              "interactive(children=(Output(),), _dom_classes=('widget-interact',))"
            ]
          },
          "metadata": {},
          "output_type": "display_data"
        }
      ],
      "source": [
        "# class #1\n",
        "esophagus_nii = np.copy(seg_nii)\n",
        "esophagus_nii[esophagus_nii != 1] = 0\n",
        "esophagus_nii[esophagus_nii == 1] = 1\n",
        "\n",
        "# class #2\n",
        "heart_nii = np.copy(seg_nii)\n",
        "heart_nii[heart_nii != 2] = 0\n",
        "heart_nii[heart_nii == 2] = 1\n",
        "\n",
        "# class #3\n",
        "trachea_nii = np.copy(seg_nii)\n",
        "trachea_nii[trachea_nii != 3] = 0\n",
        "trachea_nii[trachea_nii == 3] = 1\n",
        "\n",
        "# class #4\n",
        "aorta_nii = np.copy(seg_nii)\n",
        "aorta_nii[aorta_nii != 4] = 0\n",
        "aorta_nii[aorta_nii == 4] = 1\n",
        "\n",
        "_ = viz_utils.AxialSliceSegmaskViz(ct_volume = ct_nii,\n",
        "                                    segmask_dict = {\"esophagus\" : esophagus_nii,\n",
        "                                                    \"heart\" : heart_nii,\n",
        "                                                    \"trachea\" : trachea_nii,\n",
        "                                                    \"aorta\" : aorta_nii},\n",
        "                                    segmask_cmap_dict = {\"esophagus\" : my_greens,\n",
        "                                                         \"heart\" : my_reds,\n",
        "                                                         \"trachea\" : my_blues,\n",
        "                                                         \"aorta\" : my_spring},\n",
        "                                    dpi = 100, figsize = (8, 8),\n",
        "                                    min_hu = -1024, max_hu = 1024)"
      ]
    },
    {
      "cell_type": "markdown",
      "metadata": {
        "id": "i2QqrdvXqQq0"
      },
      "source": [
        "---\n",
        "\n",
        "## **Data Download**"
      ]
    },
    {
      "cell_type": "code",
      "execution_count": 35,
      "metadata": {
        "id": "ARmBD0lHdz_2"
      },
      "outputs": [],
      "source": [
        "%%capture\n",
        "\n",
        "archive_fn = \"%s.zip\"%(pat_id)\n",
        "\n",
        "try:\n",
        "  os.remove(archive_fn)\n",
        "except OSError:\n",
        "  pass\n",
        "\n",
        "seg_dicom_path = os.path.join(processed_dicomseg_path, pat_id, dicomseg_fn)\n",
        "ct_dicom_path = os.path.join(sorted_base_path, pat_id)\n",
        "\n",
        "!zip -j -r $archive_fn $ct_dicom_path $seg_dicom_path"
      ]
    },
    {
      "cell_type": "code",
      "execution_count": 36,
      "metadata": {
        "colab": {
          "base_uri": "https://localhost:8080/",
          "height": 52
        },
        "id": "8pE0X9kid0D-",
        "outputId": "ce6e2f01-4b81-4247-cc66-24e806ec3d9d"
      },
      "outputs": [
        {
          "name": "stdout",
          "output_type": "stream",
          "text": [
            "Starting the download of \"LUNG1-369.zip\" (30.6 MB)...\n",
            "\n"
          ]
        },
        {
          "data": {
            "application/javascript": "\n    async function download(id, filename, size) {\n      if (!google.colab.kernel.accessAllowed) {\n        return;\n      }\n      const div = document.createElement('div');\n      const label = document.createElement('label');\n      label.textContent = `Downloading \"${filename}\": `;\n      div.appendChild(label);\n      const progress = document.createElement('progress');\n      progress.max = size;\n      div.appendChild(progress);\n      document.body.appendChild(div);\n\n      const buffers = [];\n      let downloaded = 0;\n\n      const channel = await google.colab.kernel.comms.open(id);\n      // Send a message to notify the kernel that we're ready.\n      channel.send({})\n\n      for await (const message of channel.messages) {\n        // Send a message to notify the kernel that we're ready.\n        channel.send({})\n        if (message.buffers) {\n          for (const buffer of message.buffers) {\n            buffers.push(buffer);\n            downloaded += buffer.byteLength;\n            progress.value = downloaded;\n          }\n        }\n      }\n      const blob = new Blob(buffers, {type: 'application/binary'});\n      const a = document.createElement('a');\n      a.href = window.URL.createObjectURL(blob);\n      a.download = filename;\n      div.appendChild(a);\n      a.click();\n      div.remove();\n    }\n  ",
            "text/plain": [
              "<IPython.core.display.Javascript object>"
            ]
          },
          "metadata": {},
          "output_type": "display_data"
        },
        {
          "data": {
            "application/javascript": "download(\"download_66240a5e-b8bc-46f2-91f0-f06339419ba7\", \"LUNG1-369.zip\", 31309396)",
            "text/plain": [
              "<IPython.core.display.Javascript object>"
            ]
          },
          "metadata": {},
          "output_type": "display_data"
        }
      ],
      "source": [
        "filesize = os.stat(archive_fn).st_size/1024e03\n",
        "print('Starting the download of \"%s\" (%2.1f MB)...\\n'%(archive_fn, filesize))\n",
        "\n",
        "files.download(archive_fn)"
      ]
    }
  ],
  "metadata": {
    "accelerator": "GPU",
    "colab": {
      "collapsed_sections": [],
      "include_colab_link": true,
      "machine_shape": "hm",
      "provenance": []
    },
    "gpuClass": "standard",
    "kernelspec": {
      "display_name": "Python 3",
      "name": "python3"
    },
    "language_info": {
      "name": "python"
    },
    "widgets": {
      "application/vnd.jupyter.widget-state+json": {
        "09fca696bc464cb2b89a41ca5d0458b9": {
          "model_module": "@jupyter-widgets/base",
          "model_module_version": "1.2.0",
          "model_name": "LayoutModel",
          "state": {
            "_model_module": "@jupyter-widgets/base",
            "_model_module_version": "1.2.0",
            "_model_name": "LayoutModel",
            "_view_count": null,
            "_view_module": "@jupyter-widgets/base",
            "_view_module_version": "1.2.0",
            "_view_name": "LayoutView",
            "align_content": null,
            "align_items": null,
            "align_self": null,
            "border": null,
            "bottom": null,
            "display": null,
            "flex": null,
            "flex_flow": null,
            "grid_area": null,
            "grid_auto_columns": null,
            "grid_auto_flow": null,
            "grid_auto_rows": null,
            "grid_column": null,
            "grid_gap": null,
            "grid_row": null,
            "grid_template_areas": null,
            "grid_template_columns": null,
            "grid_template_rows": null,
            "height": null,
            "justify_content": null,
            "justify_items": null,
            "left": null,
            "margin": null,
            "max_height": null,
            "max_width": null,
            "min_height": null,
            "min_width": null,
            "object_fit": null,
            "object_position": null,
            "order": null,
            "overflow": null,
            "overflow_x": null,
            "overflow_y": null,
            "padding": null,
            "right": null,
            "top": null,
            "visibility": null,
            "width": null
          }
        },
        "0ab6436d951a4694b9b2332c9d7703d8": {
          "model_module": "@jupyter-widgets/base",
          "model_module_version": "1.2.0",
          "model_name": "LayoutModel",
          "state": {
            "_model_module": "@jupyter-widgets/base",
            "_model_module_version": "1.2.0",
            "_model_name": "LayoutModel",
            "_view_count": null,
            "_view_module": "@jupyter-widgets/base",
            "_view_module_version": "1.2.0",
            "_view_name": "LayoutView",
            "align_content": null,
            "align_items": null,
            "align_self": null,
            "border": null,
            "bottom": null,
            "display": null,
            "flex": null,
            "flex_flow": null,
            "grid_area": null,
            "grid_auto_columns": null,
            "grid_auto_flow": null,
            "grid_auto_rows": null,
            "grid_column": null,
            "grid_gap": null,
            "grid_row": null,
            "grid_template_areas": null,
            "grid_template_columns": null,
            "grid_template_rows": null,
            "height": null,
            "justify_content": null,
            "justify_items": null,
            "left": null,
            "margin": null,
            "max_height": null,
            "max_width": null,
            "min_height": null,
            "min_width": null,
            "object_fit": null,
            "object_position": null,
            "order": null,
            "overflow": null,
            "overflow_x": null,
            "overflow_y": null,
            "padding": null,
            "right": null,
            "top": null,
            "visibility": null,
            "width": null
          }
        },
        "37e6c62033bd43a790b7734f221903a2": {
          "model_module": "@jupyter-widgets/controls",
          "model_module_version": "1.5.0",
          "model_name": "IntSliderModel",
          "state": {
            "_dom_classes": [],
            "_model_module": "@jupyter-widgets/controls",
            "_model_module_version": "1.5.0",
            "_model_name": "IntSliderModel",
            "_view_count": null,
            "_view_module": "@jupyter-widgets/controls",
            "_view_module_version": "1.5.0",
            "_view_name": "IntSliderView",
            "continuous_update": true,
            "description": "Axial slice:",
            "description_tooltip": null,
            "disabled": false,
            "layout": "IPY_MODEL_09fca696bc464cb2b89a41ca5d0458b9",
            "max": 133,
            "min": 0,
            "orientation": "horizontal",
            "readout": true,
            "readout_format": "d",
            "step": 1,
            "style": "IPY_MODEL_4d5fd02ff10c438ca1839139d542e8eb",
            "value": 54
          }
        },
        "3a817821347b4fa9979543d01cd4faae": {
          "model_module": "@jupyter-widgets/output",
          "model_module_version": "1.0.0",
          "model_name": "OutputModel",
          "state": {
            "_dom_classes": [],
            "_model_module": "@jupyter-widgets/output",
            "_model_module_version": "1.0.0",
            "_model_name": "OutputModel",
            "_view_count": null,
            "_view_module": "@jupyter-widgets/output",
            "_view_module_version": "1.0.0",
            "_view_name": "OutputView",
            "layout": "IPY_MODEL_5b9928d67aa544868abe8973bf37bf1d",
            "msg_id": "",
            "outputs": [
              {
                "data": {
                  "image/png": "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\n",
                  "text/plain": "<Figure size 800x800 with 1 Axes>"
                },
                "metadata": {
                  "needs_background": "light"
                },
                "output_type": "display_data"
              }
            ]
          }
        },
        "4d5fd02ff10c438ca1839139d542e8eb": {
          "model_module": "@jupyter-widgets/controls",
          "model_module_version": "1.5.0",
          "model_name": "SliderStyleModel",
          "state": {
            "_model_module": "@jupyter-widgets/controls",
            "_model_module_version": "1.5.0",
            "_model_name": "SliderStyleModel",
            "_view_count": null,
            "_view_module": "@jupyter-widgets/base",
            "_view_module_version": "1.2.0",
            "_view_name": "StyleView",
            "description_width": "",
            "handle_color": null
          }
        },
        "5b9928d67aa544868abe8973bf37bf1d": {
          "model_module": "@jupyter-widgets/base",
          "model_module_version": "1.2.0",
          "model_name": "LayoutModel",
          "state": {
            "_model_module": "@jupyter-widgets/base",
            "_model_module_version": "1.2.0",
            "_model_name": "LayoutModel",
            "_view_count": null,
            "_view_module": "@jupyter-widgets/base",
            "_view_module_version": "1.2.0",
            "_view_name": "LayoutView",
            "align_content": null,
            "align_items": null,
            "align_self": null,
            "border": null,
            "bottom": null,
            "display": null,
            "flex": null,
            "flex_flow": null,
            "grid_area": null,
            "grid_auto_columns": null,
            "grid_auto_flow": null,
            "grid_auto_rows": null,
            "grid_column": null,
            "grid_gap": null,
            "grid_row": null,
            "grid_template_areas": null,
            "grid_template_columns": null,
            "grid_template_rows": null,
            "height": null,
            "justify_content": null,
            "justify_items": null,
            "left": null,
            "margin": null,
            "max_height": null,
            "max_width": null,
            "min_height": null,
            "min_width": null,
            "object_fit": null,
            "object_position": null,
            "order": null,
            "overflow": null,
            "overflow_x": null,
            "overflow_y": null,
            "padding": null,
            "right": null,
            "top": null,
            "visibility": null,
            "width": null
          }
        },
        "66bc56dc21344f1ca438ac43c8c62b72": {
          "model_module": "@jupyter-widgets/base",
          "model_module_version": "1.2.0",
          "model_name": "LayoutModel",
          "state": {
            "_model_module": "@jupyter-widgets/base",
            "_model_module_version": "1.2.0",
            "_model_name": "LayoutModel",
            "_view_count": null,
            "_view_module": "@jupyter-widgets/base",
            "_view_module_version": "1.2.0",
            "_view_name": "LayoutView",
            "align_content": null,
            "align_items": null,
            "align_self": null,
            "border": null,
            "bottom": null,
            "display": null,
            "flex": null,
            "flex_flow": null,
            "grid_area": null,
            "grid_auto_columns": null,
            "grid_auto_flow": null,
            "grid_auto_rows": null,
            "grid_column": null,
            "grid_gap": null,
            "grid_row": null,
            "grid_template_areas": null,
            "grid_template_columns": null,
            "grid_template_rows": null,
            "height": null,
            "justify_content": null,
            "justify_items": null,
            "left": null,
            "margin": null,
            "max_height": null,
            "max_width": null,
            "min_height": null,
            "min_width": null,
            "object_fit": null,
            "object_position": null,
            "order": null,
            "overflow": null,
            "overflow_x": null,
            "overflow_y": null,
            "padding": null,
            "right": null,
            "top": null,
            "visibility": null,
            "width": null
          }
        },
        "7296d2ce6ead444ea56d0031058e73fe": {
          "model_module": "@jupyter-widgets/base",
          "model_module_version": "1.2.0",
          "model_name": "LayoutModel",
          "state": {
            "_model_module": "@jupyter-widgets/base",
            "_model_module_version": "1.2.0",
            "_model_name": "LayoutModel",
            "_view_count": null,
            "_view_module": "@jupyter-widgets/base",
            "_view_module_version": "1.2.0",
            "_view_name": "LayoutView",
            "align_content": null,
            "align_items": null,
            "align_self": null,
            "border": null,
            "bottom": null,
            "display": null,
            "flex": null,
            "flex_flow": null,
            "grid_area": null,
            "grid_auto_columns": null,
            "grid_auto_flow": null,
            "grid_auto_rows": null,
            "grid_column": null,
            "grid_gap": null,
            "grid_row": null,
            "grid_template_areas": null,
            "grid_template_columns": null,
            "grid_template_rows": null,
            "height": null,
            "justify_content": null,
            "justify_items": null,
            "left": null,
            "margin": null,
            "max_height": null,
            "max_width": null,
            "min_height": null,
            "min_width": null,
            "object_fit": null,
            "object_position": null,
            "order": null,
            "overflow": null,
            "overflow_x": null,
            "overflow_y": null,
            "padding": null,
            "right": null,
            "top": null,
            "visibility": null,
            "width": null
          }
        },
        "838f3ca257a34a93b85400247bb0c201": {
          "model_module": "@jupyter-widgets/controls",
          "model_module_version": "1.5.0",
          "model_name": "VBoxModel",
          "state": {
            "_dom_classes": [
              "widget-interact"
            ],
            "_model_module": "@jupyter-widgets/controls",
            "_model_module_version": "1.5.0",
            "_model_name": "VBoxModel",
            "_view_count": null,
            "_view_module": "@jupyter-widgets/controls",
            "_view_module_version": "1.5.0",
            "_view_name": "VBoxView",
            "box_style": "",
            "children": [
              "IPY_MODEL_37e6c62033bd43a790b7734f221903a2",
              "IPY_MODEL_3a817821347b4fa9979543d01cd4faae"
            ],
            "layout": "IPY_MODEL_7296d2ce6ead444ea56d0031058e73fe"
          }
        },
        "86a013f2593940468e9e5349f96dd2e7": {
          "model_module": "@jupyter-widgets/controls",
          "model_module_version": "1.5.0",
          "model_name": "VBoxModel",
          "state": {
            "_dom_classes": [
              "widget-interact"
            ],
            "_model_module": "@jupyter-widgets/controls",
            "_model_module_version": "1.5.0",
            "_model_name": "VBoxModel",
            "_view_count": null,
            "_view_module": "@jupyter-widgets/controls",
            "_view_module_version": "1.5.0",
            "_view_name": "VBoxView",
            "box_style": "",
            "children": [
              "IPY_MODEL_c56261f706a742d2b4e1c20a350107d9"
            ],
            "layout": "IPY_MODEL_0ab6436d951a4694b9b2332c9d7703d8"
          }
        },
        "c56261f706a742d2b4e1c20a350107d9": {
          "model_module": "@jupyter-widgets/output",
          "model_module_version": "1.0.0",
          "model_name": "OutputModel",
          "state": {
            "_dom_classes": [],
            "_model_module": "@jupyter-widgets/output",
            "_model_module_version": "1.0.0",
            "_model_name": "OutputModel",
            "_view_count": null,
            "_view_module": "@jupyter-widgets/output",
            "_view_module_version": "1.0.0",
            "_view_name": "OutputView",
            "layout": "IPY_MODEL_66bc56dc21344f1ca438ac43c8c62b72",
            "msg_id": "",
            "outputs": [
              {
                "data": {
                  "application/vnd.jupyter.widget-view+json": {
                    "model_id": "838f3ca257a34a93b85400247bb0c201",
                    "version_major": 2,
                    "version_minor": 0
                  },
                  "text/plain": "interactive(children=(IntSlider(value=0, description='Axial slice:', max=133), Output()), _dom_classes=('widge…"
                },
                "metadata": {},
                "output_type": "display_data"
              }
            ]
          }
        }
      }
    }
  },
  "nbformat": 4,
  "nbformat_minor": 0
}
