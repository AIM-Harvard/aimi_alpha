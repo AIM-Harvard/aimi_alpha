{
  "cells": [
    {
      "cell_type": "markdown",
      "metadata": {
        "id": "view-in-github",
        "colab_type": "text"
      },
      "source": [
        "<a href=\"https://colab.research.google.com/github/AIM-Harvard/aimi_alpha/blob/main/aimi/platipy/notebooks/platipy_mwe.ipynb\" target=\"_parent\"><img src=\"https://colab.research.google.com/assets/colab-badge.svg\" alt=\"Open In Colab\"/></a>"
      ]
    },
    {
      "cell_type": "markdown",
      "metadata": {
        "id": "Pmb_HiJv7Sit"
      },
      "source": [
        "# **ModelHub - Cardiac Substructures Segmentation**\n",
        "\n",
        "This notebook provides an example of how to run an end-to-end (cloud-based) data analysis using the PlatiPy hybrid cardiac substructures segmentation pipeline.\n",
        "\n",
        "The way all the operations are executed - from pulling data to data postprocessing and the standardisation of the results - have the goal of promoting transparency and reproducibility."
      ]
    },
    {
      "cell_type": "markdown",
      "metadata": {
        "id": "CZnoRi9Y7nEB"
      },
      "source": [
        "## **Environment Setup**\n",
        "\n",
        "This demo notebook is intended to be run using a GPU.\n",
        "\n",
        "To access a free GPU on Colab:\n",
        "`Edit > Notebooks Settings`.\n",
        "\n",
        "From the dropdown menu under `Hardware accelerator`, select `GPU`. Let's check the Colab instance is indeed equipped with a GPU."
      ]
    },
    {
      "cell_type": "code",
      "execution_count": null,
      "metadata": {
        "colab": {
          "base_uri": "https://localhost:8080/"
        },
        "id": "non5qVLIcG4M",
        "outputId": "2fa12492-c853-4f60-db11-bab727e249f1"
      },
      "outputs": [
        {
          "output_type": "stream",
          "name": "stdout",
          "text": [
            "Thu Sep 15 14:50:39 2022\n",
            "\n",
            "Current directory : /content\n",
            "Hostname          : 8ea850de62b8\n",
            "Username          : root\n",
            "Python version    : 3.7.13 (default, Apr 24 2022, 01:04:09) \n"
          ]
        }
      ],
      "source": [
        "import os\n",
        "import sys\n",
        "import shutil\n",
        "\n",
        "import yaml\n",
        "\n",
        "import time\n",
        "import tqdm\n",
        "\n",
        "\n",
        "# useful information\n",
        "curr_dir = !pwd\n",
        "curr_droid = !hostname\n",
        "curr_pilot = !whoami\n",
        "\n",
        "print(time.asctime(time.localtime()))\n",
        "\n",
        "print(\"\\nCurrent directory :\", curr_dir[-1])\n",
        "print(\"Hostname          :\", curr_droid[-1])\n",
        "print(\"Username          :\", curr_pilot[-1])\n",
        "\n",
        "print(\"Python version    :\", sys.version.split('\\n')[0])"
      ]
    },
    {
      "cell_type": "markdown",
      "source": [
        "The authentication to Google is necessary to run BigQuery queries.\n",
        "\n",
        "Every operation throughout the whole notebook (BigQuery, fetching data from the IDC buckets) is completely free. The only thing that is needed in order to run the notebook is the set-up of a Google Cloud project. In order for the notebook to work as intended, you will need to specify the name of the project in the cell after the authentication one."
      ],
      "metadata": {
        "id": "0PKq2z2jkVJz"
      }
    },
    {
      "cell_type": "code",
      "execution_count": null,
      "metadata": {
        "id": "2DMUqTOVF5WP"
      },
      "outputs": [],
      "source": [
        "from google.colab import auth\n",
        "auth.authenticate_user()"
      ]
    },
    {
      "cell_type": "code",
      "execution_count": null,
      "metadata": {
        "id": "9Y43S1F35h8m"
      },
      "outputs": [],
      "source": [
        "from google.colab import files\n",
        "from google.cloud import storage\n",
        "from google.cloud import bigquery as bq\n",
        "\n",
        "# INSERT THE NAME OF YOUR PROJECT HERE!\n",
        "project_name = \"idc-sandbox-000\"\n",
        "#project_name = \"sage-buttress-323909\""
      ]
    },
    {
      "cell_type": "markdown",
      "metadata": {
        "id": "oT7coYaGfd4t"
      },
      "source": [
        "Throughout this Colab notebook, for image pre-processing we will use [Plastimatch](https://plastimatch.org), a reliable and open source software for image computation. We will be running Plastimatch using the simple [PyPlastimatch](https://github.com/AIM-Harvard/pyplastimatch/tree/main/pyplastimatch) python wrapper. "
      ]
    },
    {
      "cell_type": "code",
      "execution_count": null,
      "metadata": {
        "id": "6NLhlFqyEgBf"
      },
      "outputs": [],
      "source": [
        "%%capture\n",
        "!apt install plastimatch"
      ]
    },
    {
      "cell_type": "code",
      "execution_count": null,
      "metadata": {
        "colab": {
          "base_uri": "https://localhost:8080/"
        },
        "id": "_ILwxgbcfcpr",
        "outputId": "1fd4cfb4-1422-4609-bdbe-487fd52753a0"
      },
      "outputs": [
        {
          "output_type": "stream",
          "name": "stdout",
          "text": [
            "plastimatch version 1.7.0\n"
          ]
        }
      ],
      "source": [
        "# check plastimatch was correctly installed\n",
        "!plastimatch --version"
      ]
    },
    {
      "cell_type": "markdown",
      "source": [
        "---\n",
        "\n",
        "Start by cloning the AIME hub repository on the Colab instance.\n",
        "\n",
        "The AIME hub repository stores all the code we will use for pulling, preprocessing, processing, and postprocessing the data for this use case - as long as the others shared through AIME hub."
      ],
      "metadata": {
        "id": "MrNlgYZJIxkf"
      }
    },
    {
      "cell_type": "code",
      "source": [
        "!git clone https://github.com/AIM-Harvard/aimi_alpha.git aime"
      ],
      "metadata": {
        "colab": {
          "base_uri": "https://localhost:8080/"
        },
        "id": "y5lBiCWMJF9d",
        "outputId": "07610a4a-2678-444f-aaf2-b3b27a95eba8"
      },
      "execution_count": null,
      "outputs": [
        {
          "output_type": "stream",
          "name": "stdout",
          "text": [
            "Cloning into 'aime'...\n",
            "remote: Enumerating objects: 138, done.\u001b[K\n",
            "remote: Counting objects: 100% (138/138), done.\u001b[K\n",
            "remote: Compressing objects: 100% (95/95), done.\u001b[K\n",
            "remote: Total 138 (delta 65), reused 94 (delta 32), pack-reused 0\u001b[K\n",
            "Receiving objects: 100% (138/138), 769.42 KiB | 3.81 MiB/s, done.\n",
            "Resolving deltas: 100% (65/65), done.\n"
          ]
        }
      ]
    },
    {
      "cell_type": "markdown",
      "source": [
        "To organise the DICOM data in a more common (and human-understandable) fashion after downloading those from the buckets, we will make use of [DICOMSort](https://github.com/pieper/dicomsort). \n",
        "\n",
        "DICOMSort is an open source tool for custom sorting and renaming of dicom files based on their specific DICOM tags. In our case, we will exploit DICOMSort to organise the DICOM data by `PatientID` and `Modality` - so that the final directory will look like the following:\n",
        "\n",
        "```\n",
        "data/raw/nsclc-radiomics/dicom/$PatientID\n",
        " └─── CT\n",
        "       ├─── $SOPInstanceUID_slice0.dcm\n",
        "       ├─── $SOPInstanceUID_slice1.dcm\n",
        "       ├───  ...\n",
        "       │\n",
        "      RTSTRUCT \n",
        "       ├─── $SOPInstanceUID_RTSTRUCT.dcm\n",
        "      SEG\n",
        "       └─── $SOPInstanceUID_RTSEG.dcm\n",
        "\n",
        "```"
      ],
      "metadata": {
        "id": "Pcj1hYK7lzmA"
      }
    },
    {
      "cell_type": "code",
      "source": [
        "!git clone https://github.com/pieper/dicomsort dicomsort"
      ],
      "metadata": {
        "colab": {
          "base_uri": "https://localhost:8080/"
        },
        "id": "Py53FxrlD9eK",
        "outputId": "7eb10ca1-6451-4e16-b4a5-26488334c938"
      },
      "execution_count": null,
      "outputs": [
        {
          "output_type": "stream",
          "name": "stdout",
          "text": [
            "Cloning into 'dicomsort'...\n",
            "remote: Enumerating objects: 130, done.\u001b[K\n",
            "remote: Counting objects: 100% (4/4), done.\u001b[K\n",
            "remote: Compressing objects: 100% (4/4), done.\u001b[K\n",
            "remote: Total 130 (delta 0), reused 1 (delta 0), pack-reused 126\u001b[K\n",
            "Receiving objects: 100% (130/130), 44.12 KiB | 1.00 MiB/s, done.\n",
            "Resolving deltas: 100% (63/63), done.\n"
          ]
        }
      ]
    },
    {
      "cell_type": "markdown",
      "metadata": {
        "id": "7ztrKrzSm1WT"
      },
      "source": [
        "We will also use DCMQI for converting the resulting segmentation into standard DICOM SEG objects."
      ]
    },
    {
      "cell_type": "code",
      "execution_count": null,
      "metadata": {
        "id": "iYf72nA8m0wh"
      },
      "outputs": [],
      "source": [
        "%%capture\n",
        "dcmqi_release_url = \"https://github.com/QIICR/dcmqi/releases/download/v1.2.4/dcmqi-1.2.4-linux.tar.gz\"\n",
        "dcmqi_download_path = \"/content/dcmqi-1.2.4-linux.tar.gz\"\n",
        "dcmqi_path = \"/content/dcmqi-1.2.4-linux\"\n",
        "\n",
        "!wget -O $dcmqi_download_path $dcmqi_release_url\n",
        "\n",
        "!tar -xvf $dcmqi_download_path\n",
        "\n",
        "!mv $dcmqi_path/bin/* /bin"
      ]
    },
    {
      "cell_type": "markdown",
      "metadata": {
        "id": "4JBJmF7rmz1S"
      },
      "source": [
        "---"
      ]
    },
    {
      "cell_type": "code",
      "execution_count": null,
      "metadata": {
        "id": "CthT1kRuywEh"
      },
      "outputs": [],
      "source": [
        "%%capture\n",
        "!pip install git+https://github.com/pyplati/platipy.git\n",
        "!pip install pyplastimatch nnunet ipywidgets"
      ]
    },
    {
      "cell_type": "code",
      "source": [
        "%%capture\n",
        "!pip install matplotlib==2.2.3"
      ],
      "metadata": {
        "id": "I4TXDbhVeDGW"
      },
      "execution_count": null,
      "outputs": []
    },
    {
      "cell_type": "code",
      "source": [
        "import shutil\n",
        "import random\n",
        "\n",
        "import json\n",
        "import pprint\n",
        "import numpy as np\n",
        "import pandas as pd\n",
        "\n",
        "import pydicom\n",
        "import nibabel as nib\n",
        "import SimpleITK as sitk\n",
        "import pyplastimatch as pypla\n",
        "\n",
        "print(\"Python version               : \", sys.version.split('\\n')[0])\n",
        "print(\"Numpy version                : \", np.__version__)\n",
        "\n",
        "# ----------------------------------------\n",
        "\n",
        "#everything that has to do with plotting goes here below\n",
        "import matplotlib\n",
        "matplotlib.use(\"agg\")\n",
        "\n",
        "import matplotlib.pyplot as plt\n",
        "from matplotlib.colors import ListedColormap\n",
        "from matplotlib.patches import Patch\n",
        "\n",
        "%matplotlib inline\n",
        "%config InlineBackend.figure_format = \"png\"\n",
        "\n",
        "import ipywidgets as ipyw\n",
        "\n",
        "## ----------------------------------------\n",
        "\n",
        "# create new colormap appending the alpha channel to the selected one\n",
        "# (so that we don't get a \\\"color overlay\\\" when plotting the segmask superimposed to the CT)\n",
        "cmap = plt.cm.Reds\n",
        "my_reds = cmap(np.arange(cmap.N))\n",
        "my_reds[:, -1] = np.linspace(0, 1, cmap.N)\n",
        "my_reds = ListedColormap(my_reds)\n",
        "\n",
        "cmap = plt.cm.Greens\n",
        "my_greens = cmap(np.arange(cmap.N))\n",
        "my_greens[:, -1] = np.linspace(0, 1, cmap.N)\n",
        "my_greens = ListedColormap(my_greens)\n",
        "\n",
        "cmap = plt.cm.Blues\n",
        "my_blues = cmap(np.arange(cmap.N))\n",
        "my_blues[:, -1] = np.linspace(0, 1, cmap.N)\n",
        "my_blues = ListedColormap(my_blues)\n",
        "\n",
        "cmap = plt.cm.spring\n",
        "my_spring = cmap(np.arange(cmap.N))\n",
        "my_spring[:, -1] = np.linspace(0, 1, cmap.N)\n",
        "my_spring = ListedColormap(my_spring)\n",
        "## ----------------------------------------\n",
        "\n",
        "import seaborn as sns"
      ],
      "metadata": {
        "colab": {
          "base_uri": "https://localhost:8080/"
        },
        "id": "3euRfHl7pe2u",
        "outputId": "04ecd326-6f81-40f8-c942-3692c51af5ae"
      },
      "execution_count": null,
      "outputs": [
        {
          "output_type": "stream",
          "name": "stdout",
          "text": [
            "Python version               :  3.7.13 (default, Apr 24 2022, 01:04:09) \n",
            "Numpy version                :  1.21.6\n"
          ]
        }
      ]
    },
    {
      "cell_type": "markdown",
      "source": [
        "Provided everything was set up correctly, we can run the BigQuery query and get all the information we need to download the testing data from the IDC platform.\n",
        "\n",
        "For this specific use case, we are going to be working with the NSCLC-Radiomics collection (Chest CT scans of lung cancer patients, with manual delineation of various organs at risk)."
      ],
      "metadata": {
        "id": "aZOtlGtcmOq5"
      }
    },
    {
      "cell_type": "code",
      "source": [
        "%%bigquery --project=$project_name cohort_df\n",
        "\n",
        "SELECT\n",
        "  dicom_pivot_v11.PatientID,\n",
        "  dicom_pivot_v11.collection_id,\n",
        "  dicom_pivot_v11.source_DOI,\n",
        "  dicom_pivot_v11.StudyInstanceUID,\n",
        "  dicom_pivot_v11.SeriesInstanceUID,\n",
        "  dicom_pivot_v11.SOPInstanceUID,\n",
        "  dicom_pivot_v11.gcs_url\n",
        "FROM\n",
        "  `bigquery-public-data.idc_v11.dicom_pivot_v11` dicom_pivot_v11\n",
        "WHERE\n",
        "  StudyInstanceUID IN (\n",
        "    SELECT\n",
        "      StudyInstanceUID\n",
        "    FROM\n",
        "      `bigquery-public-data.idc_v11.dicom_pivot_v11` dicom_pivot_v11\n",
        "    WHERE\n",
        "      StudyInstanceUID IN (\n",
        "        SELECT\n",
        "          StudyInstanceUID\n",
        "        FROM\n",
        "          `bigquery-public-data.idc_v11.dicom_pivot_v11` dicom_pivot_v11\n",
        "        WHERE\n",
        "          (\n",
        "            LOWER(\n",
        "              dicom_pivot_v11.SegmentedPropertyTypeCodeSequence\n",
        "            ) LIKE LOWER('80891009:SCT')\n",
        "          )\n",
        "        GROUP BY\n",
        "          StudyInstanceUID\n",
        "        INTERSECT DISTINCT\n",
        "        SELECT\n",
        "          StudyInstanceUID\n",
        "        FROM\n",
        "          `bigquery-public-data.idc_v11.dicom_pivot_v11` dicom_pivot_v11\n",
        "        WHERE\n",
        "          (\n",
        "            dicom_pivot_v11.collection_id IN ('Community', 'nsclc_radiomics')\n",
        "          )\n",
        "        GROUP BY\n",
        "          StudyInstanceUID\n",
        "      )\n",
        "    GROUP BY\n",
        "      StudyInstanceUID\n",
        "  )\n",
        "GROUP BY\n",
        "  dicom_pivot_v11.PatientID,\n",
        "  dicom_pivot_v11.collection_id,\n",
        "  dicom_pivot_v11.source_DOI,\n",
        "  dicom_pivot_v11.StudyInstanceUID,\n",
        "  dicom_pivot_v11.SeriesInstanceUID,\n",
        "  dicom_pivot_v11.SOPInstanceUID,\n",
        "  dicom_pivot_v11.gcs_url\n",
        "ORDER BY\n",
        "  dicom_pivot_v11.PatientID ASC,\n",
        "  dicom_pivot_v11.collection_id ASC,\n",
        "  dicom_pivot_v11.source_DOI ASC,\n",
        "  dicom_pivot_v11.StudyInstanceUID ASC,\n",
        "  dicom_pivot_v11.SeriesInstanceUID ASC,\n",
        "  dicom_pivot_v11.SOPInstanceUID ASC,\n",
        "  dicom_pivot_v11.gcs_url ASC"
      ],
      "metadata": {
        "id": "_8hRj0E5FW0A"
      },
      "execution_count": null,
      "outputs": []
    },
    {
      "cell_type": "code",
      "source": [
        "# this works as intended only if the BQ query parses data from a single dataset\n",
        "# if not, feel free to set the name manually!\n",
        "dataset_name = cohort_df[\"collection_id\"].values[0]\n",
        "\n",
        "dataset_name"
      ],
      "metadata": {
        "id": "oZApCCVLkZyb",
        "colab": {
          "base_uri": "https://localhost:8080/",
          "height": 36
        },
        "outputId": "c8b9651b-9fc7-41d5-df94-0d6903d5d4fb"
      },
      "execution_count": null,
      "outputs": [
        {
          "output_type": "execute_result",
          "data": {
            "text/plain": [
              "'nsclc_radiomics'"
            ],
            "application/vnd.google.colaboratory.intrinsic+json": {
              "type": "string"
            }
          },
          "metadata": {},
          "execution_count": 13
        }
      ]
    },
    {
      "cell_type": "code",
      "execution_count": null,
      "metadata": {
        "id": "GNutD-SRN52T"
      },
      "outputs": [],
      "source": [
        "# create the directory tree\n",
        "!mkdir -p data models\n",
        "\n",
        "!mkdir -p data/raw \n",
        "!mkdir -p data/raw/tmp data/raw/$dataset_name\n",
        "!mkdir -p data/raw/$dataset_name/dicom\n",
        "\n",
        "!mkdir -p data/processed\n",
        "!mkdir -p data/processed/$dataset_name\n",
        "!mkdir -p data/processed/$dataset_name/nii\n",
        "!mkdir -p data/processed/$dataset_name/dicomseg\n",
        "\n",
        "!mkdir -p data/model_input/\n",
        "!mkdir -p data/platipy_output/"
      ]
    },
    {
      "cell_type": "markdown",
      "metadata": {
        "id": "0Qu6eXpHx6iV"
      },
      "source": [
        "## **Parsing Cohort Information from BigQuery Tables**\n",
        "\n",
        "We can check the various fields of the table we populated by running the BigQuery query.\n",
        "\n",
        "This table will store one entry for each DICOM file in the dataset (therefore, expect thousands of rows!)"
      ]
    },
    {
      "cell_type": "code",
      "execution_count": null,
      "metadata": {
        "colab": {
          "base_uri": "https://localhost:8080/",
          "height": 982
        },
        "id": "V27IJihCi9Kv",
        "outputId": "55094ff4-944d-4aed-e14a-263d38e848fa"
      },
      "outputs": [
        {
          "output_type": "stream",
          "name": "stdout",
          "text": [
            "Total number of unique Patient IDs: 127\n",
            "<class 'pandas.core.frame.DataFrame'>\n",
            "RangeIndex: 15678 entries, 0 to 15677\n",
            "Data columns (total 7 columns):\n",
            " #   Column             Non-Null Count  Dtype \n",
            "---  ------             --------------  ----- \n",
            " 0   PatientID          15678 non-null  object\n",
            " 1   collection_id      15678 non-null  object\n",
            " 2   source_DOI         15678 non-null  object\n",
            " 3   StudyInstanceUID   15678 non-null  object\n",
            " 4   SeriesInstanceUID  15678 non-null  object\n",
            " 5   SOPInstanceUID     15678 non-null  object\n",
            " 6   gcs_url            15678 non-null  object\n",
            "dtypes: object(7)\n",
            "memory usage: 857.5+ KB\n"
          ]
        },
        {
          "output_type": "display_data",
          "data": {
            "text/plain": [
              "None"
            ]
          },
          "metadata": {}
        },
        {
          "output_type": "display_data",
          "data": {
            "text/plain": [
              "   PatientID    collection_id                     source_DOI  \\\n",
              "0  LUNG1-002  nsclc_radiomics  10.7937/K9/TCIA.2015.PF0M9REI   \n",
              "1  LUNG1-002  nsclc_radiomics  10.7937/K9/TCIA.2015.PF0M9REI   \n",
              "2  LUNG1-002  nsclc_radiomics  10.7937/K9/TCIA.2015.PF0M9REI   \n",
              "3  LUNG1-002  nsclc_radiomics  10.7937/K9/TCIA.2015.PF0M9REI   \n",
              "4  LUNG1-002  nsclc_radiomics  10.7937/K9/TCIA.2015.PF0M9REI   \n",
              "\n",
              "                                    StudyInstanceUID  \\\n",
              "0  1.3.6.1.4.1.32722.99.99.2037150038059966416957...   \n",
              "1  1.3.6.1.4.1.32722.99.99.2037150038059966416957...   \n",
              "2  1.3.6.1.4.1.32722.99.99.2037150038059966416957...   \n",
              "3  1.3.6.1.4.1.32722.99.99.2037150038059966416957...   \n",
              "4  1.3.6.1.4.1.32722.99.99.2037150038059966416957...   \n",
              "\n",
              "                                   SeriesInstanceUID  \\\n",
              "0  1.2.276.0.7230010.3.1.3.2323910823.11504.15972...   \n",
              "1  1.3.6.1.4.1.32722.99.99.2329880015517990803358...   \n",
              "2  1.3.6.1.4.1.32722.99.99.2329880015517990803358...   \n",
              "3  1.3.6.1.4.1.32722.99.99.2329880015517990803358...   \n",
              "4  1.3.6.1.4.1.32722.99.99.2329880015517990803358...   \n",
              "\n",
              "                                      SOPInstanceUID  \\\n",
              "0  1.2.276.0.7230010.3.1.4.2323910823.11504.15972...   \n",
              "1  1.3.6.1.4.1.32722.99.99.1004190115743500844746...   \n",
              "2  1.3.6.1.4.1.32722.99.99.1031280376053401623619...   \n",
              "3  1.3.6.1.4.1.32722.99.99.1075071405629330534974...   \n",
              "4  1.3.6.1.4.1.32722.99.99.1125363119759695902111...   \n",
              "\n",
              "                                             gcs_url  \n",
              "0  gs://idc-open-cr/eff917af-8a2a-42fe-9e12-22bce...  \n",
              "1  gs://idc-open-cr/f8cbf725-621d-4e18-8326-41789...  \n",
              "2  gs://idc-open-cr/c73b3d12-78b1-4456-9a88-91ba2...  \n",
              "3  gs://idc-open-cr/48b4ae0a-6936-44b4-a6bd-27c92...  \n",
              "4  gs://idc-open-cr/3c36a30a-630b-4183-b87d-8a238...  "
            ],
            "text/html": [
              "\n",
              "  <div id=\"df-42abc63c-3823-48ad-9cb5-1429caf3f05a\">\n",
              "    <div class=\"colab-df-container\">\n",
              "      <div>\n",
              "<style scoped>\n",
              "    .dataframe tbody tr th:only-of-type {\n",
              "        vertical-align: middle;\n",
              "    }\n",
              "\n",
              "    .dataframe tbody tr th {\n",
              "        vertical-align: top;\n",
              "    }\n",
              "\n",
              "    .dataframe thead th {\n",
              "        text-align: right;\n",
              "    }\n",
              "</style>\n",
              "<table border=\"1\" class=\"dataframe\">\n",
              "  <thead>\n",
              "    <tr style=\"text-align: right;\">\n",
              "      <th></th>\n",
              "      <th>PatientID</th>\n",
              "      <th>collection_id</th>\n",
              "      <th>source_DOI</th>\n",
              "      <th>StudyInstanceUID</th>\n",
              "      <th>SeriesInstanceUID</th>\n",
              "      <th>SOPInstanceUID</th>\n",
              "      <th>gcs_url</th>\n",
              "    </tr>\n",
              "  </thead>\n",
              "  <tbody>\n",
              "    <tr>\n",
              "      <th>0</th>\n",
              "      <td>LUNG1-002</td>\n",
              "      <td>nsclc_radiomics</td>\n",
              "      <td>10.7937/K9/TCIA.2015.PF0M9REI</td>\n",
              "      <td>1.3.6.1.4.1.32722.99.99.2037150038059966416957...</td>\n",
              "      <td>1.2.276.0.7230010.3.1.3.2323910823.11504.15972...</td>\n",
              "      <td>1.2.276.0.7230010.3.1.4.2323910823.11504.15972...</td>\n",
              "      <td>gs://idc-open-cr/eff917af-8a2a-42fe-9e12-22bce...</td>\n",
              "    </tr>\n",
              "    <tr>\n",
              "      <th>1</th>\n",
              "      <td>LUNG1-002</td>\n",
              "      <td>nsclc_radiomics</td>\n",
              "      <td>10.7937/K9/TCIA.2015.PF0M9REI</td>\n",
              "      <td>1.3.6.1.4.1.32722.99.99.2037150038059966416957...</td>\n",
              "      <td>1.3.6.1.4.1.32722.99.99.2329880015517990803358...</td>\n",
              "      <td>1.3.6.1.4.1.32722.99.99.1004190115743500844746...</td>\n",
              "      <td>gs://idc-open-cr/f8cbf725-621d-4e18-8326-41789...</td>\n",
              "    </tr>\n",
              "    <tr>\n",
              "      <th>2</th>\n",
              "      <td>LUNG1-002</td>\n",
              "      <td>nsclc_radiomics</td>\n",
              "      <td>10.7937/K9/TCIA.2015.PF0M9REI</td>\n",
              "      <td>1.3.6.1.4.1.32722.99.99.2037150038059966416957...</td>\n",
              "      <td>1.3.6.1.4.1.32722.99.99.2329880015517990803358...</td>\n",
              "      <td>1.3.6.1.4.1.32722.99.99.1031280376053401623619...</td>\n",
              "      <td>gs://idc-open-cr/c73b3d12-78b1-4456-9a88-91ba2...</td>\n",
              "    </tr>\n",
              "    <tr>\n",
              "      <th>3</th>\n",
              "      <td>LUNG1-002</td>\n",
              "      <td>nsclc_radiomics</td>\n",
              "      <td>10.7937/K9/TCIA.2015.PF0M9REI</td>\n",
              "      <td>1.3.6.1.4.1.32722.99.99.2037150038059966416957...</td>\n",
              "      <td>1.3.6.1.4.1.32722.99.99.2329880015517990803358...</td>\n",
              "      <td>1.3.6.1.4.1.32722.99.99.1075071405629330534974...</td>\n",
              "      <td>gs://idc-open-cr/48b4ae0a-6936-44b4-a6bd-27c92...</td>\n",
              "    </tr>\n",
              "    <tr>\n",
              "      <th>4</th>\n",
              "      <td>LUNG1-002</td>\n",
              "      <td>nsclc_radiomics</td>\n",
              "      <td>10.7937/K9/TCIA.2015.PF0M9REI</td>\n",
              "      <td>1.3.6.1.4.1.32722.99.99.2037150038059966416957...</td>\n",
              "      <td>1.3.6.1.4.1.32722.99.99.2329880015517990803358...</td>\n",
              "      <td>1.3.6.1.4.1.32722.99.99.1125363119759695902111...</td>\n",
              "      <td>gs://idc-open-cr/3c36a30a-630b-4183-b87d-8a238...</td>\n",
              "    </tr>\n",
              "  </tbody>\n",
              "</table>\n",
              "</div>\n",
              "      <button class=\"colab-df-convert\" onclick=\"convertToInteractive('df-42abc63c-3823-48ad-9cb5-1429caf3f05a')\"\n",
              "              title=\"Convert this dataframe to an interactive table.\"\n",
              "              style=\"display:none;\">\n",
              "        \n",
              "  <svg xmlns=\"http://www.w3.org/2000/svg\" height=\"24px\"viewBox=\"0 0 24 24\"\n",
              "       width=\"24px\">\n",
              "    <path d=\"M0 0h24v24H0V0z\" fill=\"none\"/>\n",
              "    <path d=\"M18.56 5.44l.94 2.06.94-2.06 2.06-.94-2.06-.94-.94-2.06-.94 2.06-2.06.94zm-11 1L8.5 8.5l.94-2.06 2.06-.94-2.06-.94L8.5 2.5l-.94 2.06-2.06.94zm10 10l.94 2.06.94-2.06 2.06-.94-2.06-.94-.94-2.06-.94 2.06-2.06.94z\"/><path d=\"M17.41 7.96l-1.37-1.37c-.4-.4-.92-.59-1.43-.59-.52 0-1.04.2-1.43.59L10.3 9.45l-7.72 7.72c-.78.78-.78 2.05 0 2.83L4 21.41c.39.39.9.59 1.41.59.51 0 1.02-.2 1.41-.59l7.78-7.78 2.81-2.81c.8-.78.8-2.07 0-2.86zM5.41 20L4 18.59l7.72-7.72 1.47 1.35L5.41 20z\"/>\n",
              "  </svg>\n",
              "      </button>\n",
              "      \n",
              "  <style>\n",
              "    .colab-df-container {\n",
              "      display:flex;\n",
              "      flex-wrap:wrap;\n",
              "      gap: 12px;\n",
              "    }\n",
              "\n",
              "    .colab-df-convert {\n",
              "      background-color: #E8F0FE;\n",
              "      border: none;\n",
              "      border-radius: 50%;\n",
              "      cursor: pointer;\n",
              "      display: none;\n",
              "      fill: #1967D2;\n",
              "      height: 32px;\n",
              "      padding: 0 0 0 0;\n",
              "      width: 32px;\n",
              "    }\n",
              "\n",
              "    .colab-df-convert:hover {\n",
              "      background-color: #E2EBFA;\n",
              "      box-shadow: 0px 1px 2px rgba(60, 64, 67, 0.3), 0px 1px 3px 1px rgba(60, 64, 67, 0.15);\n",
              "      fill: #174EA6;\n",
              "    }\n",
              "\n",
              "    [theme=dark] .colab-df-convert {\n",
              "      background-color: #3B4455;\n",
              "      fill: #D2E3FC;\n",
              "    }\n",
              "\n",
              "    [theme=dark] .colab-df-convert:hover {\n",
              "      background-color: #434B5C;\n",
              "      box-shadow: 0px 1px 3px 1px rgba(0, 0, 0, 0.15);\n",
              "      filter: drop-shadow(0px 1px 2px rgba(0, 0, 0, 0.3));\n",
              "      fill: #FFFFFF;\n",
              "    }\n",
              "  </style>\n",
              "\n",
              "      <script>\n",
              "        const buttonEl =\n",
              "          document.querySelector('#df-42abc63c-3823-48ad-9cb5-1429caf3f05a button.colab-df-convert');\n",
              "        buttonEl.style.display =\n",
              "          google.colab.kernel.accessAllowed ? 'block' : 'none';\n",
              "\n",
              "        async function convertToInteractive(key) {\n",
              "          const element = document.querySelector('#df-42abc63c-3823-48ad-9cb5-1429caf3f05a');\n",
              "          const dataTable =\n",
              "            await google.colab.kernel.invokeFunction('convertToInteractive',\n",
              "                                                     [key], {});\n",
              "          if (!dataTable) return;\n",
              "\n",
              "          const docLinkHtml = 'Like what you see? Visit the ' +\n",
              "            '<a target=\"_blank\" href=https://colab.research.google.com/notebooks/data_table.ipynb>data table notebook</a>'\n",
              "            + ' to learn more about interactive tables.';\n",
              "          element.innerHTML = '';\n",
              "          dataTable['output_type'] = 'display_data';\n",
              "          await google.colab.output.renderOutput(dataTable, element);\n",
              "          const docLink = document.createElement('div');\n",
              "          docLink.innerHTML = docLinkHtml;\n",
              "          element.appendChild(docLink);\n",
              "        }\n",
              "      </script>\n",
              "    </div>\n",
              "  </div>\n",
              "  "
            ]
          },
          "metadata": {}
        }
      ],
      "source": [
        "pat_id_list = sorted(list(set(cohort_df[\"PatientID\"].values)))\n",
        "\n",
        "print(\"Total number of unique Patient IDs:\", len(pat_id_list))\n",
        "\n",
        "display(cohort_df.info())\n",
        "\n",
        "display(cohort_df.head())"
      ]
    },
    {
      "cell_type": "markdown",
      "metadata": {
        "id": "AolLtXOLVt7D"
      },
      "source": [
        "---\n",
        "\n",
        "## **Set Run Parameters**\n",
        "\n",
        "From this cell, we can configure the nnU-Net inference step - specifying, for instance, the type of model we want to run (among the four different models the framework provides), whether we want to use test time augmentation, or whether we want to export the soft probability maps of the segmentation masks.\n"
      ]
    },
    {
      "cell_type": "code",
      "execution_count": null,
      "metadata": {
        "id": "TRmrt00589lv"
      },
      "outputs": [],
      "source": [
        "# FIXED PARAMETERS\n",
        "data_base_path = \"/content/data\"\n",
        "raw_base_path = \"/content/data/raw/tmp\"\n",
        "sorted_base_path = os.path.join(\"/content/data/raw/\", dataset_name, \"dicom\")\n",
        "\n",
        "processed_base_path = os.path.join(\"/content/data/processed/\", dataset_name)\n",
        "processed_nifti_path = os.path.join(processed_base_path, \"nii\")\n",
        "\n",
        "processed_dicomseg_path = os.path.join(processed_base_path, \"dicomseg\")\n",
        "\n",
        "model_input_folder = \"/content/data/model_input/\"\n",
        "model_output_folder = \"/content/data/platipy_output/\"\n",
        "\n",
        "dicomseg_json_path = \"/content/aime/aime/platipy/config/dicomseg_metadata.json\""
      ]
    },
    {
      "cell_type": "markdown",
      "metadata": {
        "id": "-n0qjPp1B_mv"
      },
      "source": [
        "## **Running the Analysis for a Single Patient**"
      ]
    },
    {
      "cell_type": "code",
      "source": [
        "import aime.aime as aime\n",
        "\n",
        "from aime import general_utils as aime_utils\n",
        "from aime import platipy as aime_model"
      ],
      "metadata": {
        "id": "vPPZRieLM5K-"
      },
      "execution_count": null,
      "outputs": []
    },
    {
      "cell_type": "markdown",
      "source": [
        "The following cells run all the processing pipeline, from pre-processing to post-processing."
      ],
      "metadata": {
        "id": "0pFSCy5HoOp_"
      }
    },
    {
      "cell_type": "code",
      "source": [
        "pat_id = random.choice(cohort_df[\"PatientID\"].values)\n",
        "pat_df = cohort_df[cohort_df[\"PatientID\"] == pat_id].reset_index(drop = True)\n",
        "\n",
        "display(pat_df.info())\n",
        "display(pat_df.head())"
      ],
      "metadata": {
        "colab": {
          "base_uri": "https://localhost:8080/",
          "height": 964
        },
        "id": "BTURQtGPgeQF",
        "outputId": "bd4efdbf-40e4-41cf-e16b-a4ff515a82cf"
      },
      "execution_count": null,
      "outputs": [
        {
          "output_type": "stream",
          "name": "stdout",
          "text": [
            "<class 'pandas.core.frame.DataFrame'>\n",
            "RangeIndex: 97 entries, 0 to 96\n",
            "Data columns (total 7 columns):\n",
            " #   Column             Non-Null Count  Dtype \n",
            "---  ------             --------------  ----- \n",
            " 0   PatientID          97 non-null     object\n",
            " 1   collection_id      97 non-null     object\n",
            " 2   source_DOI         97 non-null     object\n",
            " 3   StudyInstanceUID   97 non-null     object\n",
            " 4   SeriesInstanceUID  97 non-null     object\n",
            " 5   SOPInstanceUID     97 non-null     object\n",
            " 6   gcs_url            97 non-null     object\n",
            "dtypes: object(7)\n",
            "memory usage: 5.4+ KB\n"
          ]
        },
        {
          "output_type": "display_data",
          "data": {
            "text/plain": [
              "None"
            ]
          },
          "metadata": {}
        },
        {
          "output_type": "display_data",
          "data": {
            "text/plain": [
              "   PatientID    collection_id                     source_DOI  \\\n",
              "0  LUNG1-034  nsclc_radiomics  10.7937/K9/TCIA.2015.PF0M9REI   \n",
              "1  LUNG1-034  nsclc_radiomics  10.7937/K9/TCIA.2015.PF0M9REI   \n",
              "2  LUNG1-034  nsclc_radiomics  10.7937/K9/TCIA.2015.PF0M9REI   \n",
              "3  LUNG1-034  nsclc_radiomics  10.7937/K9/TCIA.2015.PF0M9REI   \n",
              "4  LUNG1-034  nsclc_radiomics  10.7937/K9/TCIA.2015.PF0M9REI   \n",
              "\n",
              "                                    StudyInstanceUID  \\\n",
              "0  1.3.6.1.4.1.32722.99.99.2478224849816276412720...   \n",
              "1  1.3.6.1.4.1.32722.99.99.2478224849816276412720...   \n",
              "2  1.3.6.1.4.1.32722.99.99.2478224849816276412720...   \n",
              "3  1.3.6.1.4.1.32722.99.99.2478224849816276412720...   \n",
              "4  1.3.6.1.4.1.32722.99.99.2478224849816276412720...   \n",
              "\n",
              "                                   SeriesInstanceUID  \\\n",
              "0  1.2.276.0.7230010.3.1.3.2323910823.23408.15972...   \n",
              "1  1.3.6.1.4.1.32722.99.99.2910936700174194202833...   \n",
              "2  1.3.6.1.4.1.32722.99.99.3631014714041668019975...   \n",
              "3  1.3.6.1.4.1.32722.99.99.3631014714041668019975...   \n",
              "4  1.3.6.1.4.1.32722.99.99.3631014714041668019975...   \n",
              "\n",
              "                                      SOPInstanceUID  \\\n",
              "0  1.2.276.0.7230010.3.1.4.2323910823.23408.15972...   \n",
              "1  1.3.6.1.4.1.32722.99.99.1401893232600672379868...   \n",
              "2  1.3.6.1.4.1.32722.99.99.1045610775438006684042...   \n",
              "3  1.3.6.1.4.1.32722.99.99.1111115642964982084419...   \n",
              "4  1.3.6.1.4.1.32722.99.99.1174762546665195830791...   \n",
              "\n",
              "                                             gcs_url  \n",
              "0  gs://idc-open-cr/5e64b9ef-d40b-4fdc-8973-d361b...  \n",
              "1  gs://idc-open-cr/0bc0d361-5b05-4db8-a90e-d6788...  \n",
              "2  gs://idc-open-cr/8c3f76c7-da6b-47c8-b716-4d84d...  \n",
              "3  gs://idc-open-cr/4741fc68-23a1-4015-b540-224e6...  \n",
              "4  gs://idc-open-cr/1f3db776-23fc-45ab-97bc-c51d3...  "
            ],
            "text/html": [
              "\n",
              "  <div id=\"df-cbe15c25-df29-45af-94cf-2a2fafa316c7\">\n",
              "    <div class=\"colab-df-container\">\n",
              "      <div>\n",
              "<style scoped>\n",
              "    .dataframe tbody tr th:only-of-type {\n",
              "        vertical-align: middle;\n",
              "    }\n",
              "\n",
              "    .dataframe tbody tr th {\n",
              "        vertical-align: top;\n",
              "    }\n",
              "\n",
              "    .dataframe thead th {\n",
              "        text-align: right;\n",
              "    }\n",
              "</style>\n",
              "<table border=\"1\" class=\"dataframe\">\n",
              "  <thead>\n",
              "    <tr style=\"text-align: right;\">\n",
              "      <th></th>\n",
              "      <th>PatientID</th>\n",
              "      <th>collection_id</th>\n",
              "      <th>source_DOI</th>\n",
              "      <th>StudyInstanceUID</th>\n",
              "      <th>SeriesInstanceUID</th>\n",
              "      <th>SOPInstanceUID</th>\n",
              "      <th>gcs_url</th>\n",
              "    </tr>\n",
              "  </thead>\n",
              "  <tbody>\n",
              "    <tr>\n",
              "      <th>0</th>\n",
              "      <td>LUNG1-034</td>\n",
              "      <td>nsclc_radiomics</td>\n",
              "      <td>10.7937/K9/TCIA.2015.PF0M9REI</td>\n",
              "      <td>1.3.6.1.4.1.32722.99.99.2478224849816276412720...</td>\n",
              "      <td>1.2.276.0.7230010.3.1.3.2323910823.23408.15972...</td>\n",
              "      <td>1.2.276.0.7230010.3.1.4.2323910823.23408.15972...</td>\n",
              "      <td>gs://idc-open-cr/5e64b9ef-d40b-4fdc-8973-d361b...</td>\n",
              "    </tr>\n",
              "    <tr>\n",
              "      <th>1</th>\n",
              "      <td>LUNG1-034</td>\n",
              "      <td>nsclc_radiomics</td>\n",
              "      <td>10.7937/K9/TCIA.2015.PF0M9REI</td>\n",
              "      <td>1.3.6.1.4.1.32722.99.99.2478224849816276412720...</td>\n",
              "      <td>1.3.6.1.4.1.32722.99.99.2910936700174194202833...</td>\n",
              "      <td>1.3.6.1.4.1.32722.99.99.1401893232600672379868...</td>\n",
              "      <td>gs://idc-open-cr/0bc0d361-5b05-4db8-a90e-d6788...</td>\n",
              "    </tr>\n",
              "    <tr>\n",
              "      <th>2</th>\n",
              "      <td>LUNG1-034</td>\n",
              "      <td>nsclc_radiomics</td>\n",
              "      <td>10.7937/K9/TCIA.2015.PF0M9REI</td>\n",
              "      <td>1.3.6.1.4.1.32722.99.99.2478224849816276412720...</td>\n",
              "      <td>1.3.6.1.4.1.32722.99.99.3631014714041668019975...</td>\n",
              "      <td>1.3.6.1.4.1.32722.99.99.1045610775438006684042...</td>\n",
              "      <td>gs://idc-open-cr/8c3f76c7-da6b-47c8-b716-4d84d...</td>\n",
              "    </tr>\n",
              "    <tr>\n",
              "      <th>3</th>\n",
              "      <td>LUNG1-034</td>\n",
              "      <td>nsclc_radiomics</td>\n",
              "      <td>10.7937/K9/TCIA.2015.PF0M9REI</td>\n",
              "      <td>1.3.6.1.4.1.32722.99.99.2478224849816276412720...</td>\n",
              "      <td>1.3.6.1.4.1.32722.99.99.3631014714041668019975...</td>\n",
              "      <td>1.3.6.1.4.1.32722.99.99.1111115642964982084419...</td>\n",
              "      <td>gs://idc-open-cr/4741fc68-23a1-4015-b540-224e6...</td>\n",
              "    </tr>\n",
              "    <tr>\n",
              "      <th>4</th>\n",
              "      <td>LUNG1-034</td>\n",
              "      <td>nsclc_radiomics</td>\n",
              "      <td>10.7937/K9/TCIA.2015.PF0M9REI</td>\n",
              "      <td>1.3.6.1.4.1.32722.99.99.2478224849816276412720...</td>\n",
              "      <td>1.3.6.1.4.1.32722.99.99.3631014714041668019975...</td>\n",
              "      <td>1.3.6.1.4.1.32722.99.99.1174762546665195830791...</td>\n",
              "      <td>gs://idc-open-cr/1f3db776-23fc-45ab-97bc-c51d3...</td>\n",
              "    </tr>\n",
              "  </tbody>\n",
              "</table>\n",
              "</div>\n",
              "      <button class=\"colab-df-convert\" onclick=\"convertToInteractive('df-cbe15c25-df29-45af-94cf-2a2fafa316c7')\"\n",
              "              title=\"Convert this dataframe to an interactive table.\"\n",
              "              style=\"display:none;\">\n",
              "        \n",
              "  <svg xmlns=\"http://www.w3.org/2000/svg\" height=\"24px\"viewBox=\"0 0 24 24\"\n",
              "       width=\"24px\">\n",
              "    <path d=\"M0 0h24v24H0V0z\" fill=\"none\"/>\n",
              "    <path d=\"M18.56 5.44l.94 2.06.94-2.06 2.06-.94-2.06-.94-.94-2.06-.94 2.06-2.06.94zm-11 1L8.5 8.5l.94-2.06 2.06-.94-2.06-.94L8.5 2.5l-.94 2.06-2.06.94zm10 10l.94 2.06.94-2.06 2.06-.94-2.06-.94-.94-2.06-.94 2.06-2.06.94z\"/><path d=\"M17.41 7.96l-1.37-1.37c-.4-.4-.92-.59-1.43-.59-.52 0-1.04.2-1.43.59L10.3 9.45l-7.72 7.72c-.78.78-.78 2.05 0 2.83L4 21.41c.39.39.9.59 1.41.59.51 0 1.02-.2 1.41-.59l7.78-7.78 2.81-2.81c.8-.78.8-2.07 0-2.86zM5.41 20L4 18.59l7.72-7.72 1.47 1.35L5.41 20z\"/>\n",
              "  </svg>\n",
              "      </button>\n",
              "      \n",
              "  <style>\n",
              "    .colab-df-container {\n",
              "      display:flex;\n",
              "      flex-wrap:wrap;\n",
              "      gap: 12px;\n",
              "    }\n",
              "\n",
              "    .colab-df-convert {\n",
              "      background-color: #E8F0FE;\n",
              "      border: none;\n",
              "      border-radius: 50%;\n",
              "      cursor: pointer;\n",
              "      display: none;\n",
              "      fill: #1967D2;\n",
              "      height: 32px;\n",
              "      padding: 0 0 0 0;\n",
              "      width: 32px;\n",
              "    }\n",
              "\n",
              "    .colab-df-convert:hover {\n",
              "      background-color: #E2EBFA;\n",
              "      box-shadow: 0px 1px 2px rgba(60, 64, 67, 0.3), 0px 1px 3px 1px rgba(60, 64, 67, 0.15);\n",
              "      fill: #174EA6;\n",
              "    }\n",
              "\n",
              "    [theme=dark] .colab-df-convert {\n",
              "      background-color: #3B4455;\n",
              "      fill: #D2E3FC;\n",
              "    }\n",
              "\n",
              "    [theme=dark] .colab-df-convert:hover {\n",
              "      background-color: #434B5C;\n",
              "      box-shadow: 0px 1px 3px 1px rgba(0, 0, 0, 0.15);\n",
              "      filter: drop-shadow(0px 1px 2px rgba(0, 0, 0, 0.3));\n",
              "      fill: #FFFFFF;\n",
              "    }\n",
              "  </style>\n",
              "\n",
              "      <script>\n",
              "        const buttonEl =\n",
              "          document.querySelector('#df-cbe15c25-df29-45af-94cf-2a2fafa316c7 button.colab-df-convert');\n",
              "        buttonEl.style.display =\n",
              "          google.colab.kernel.accessAllowed ? 'block' : 'none';\n",
              "\n",
              "        async function convertToInteractive(key) {\n",
              "          const element = document.querySelector('#df-cbe15c25-df29-45af-94cf-2a2fafa316c7');\n",
              "          const dataTable =\n",
              "            await google.colab.kernel.invokeFunction('convertToInteractive',\n",
              "                                                     [key], {});\n",
              "          if (!dataTable) return;\n",
              "\n",
              "          const docLinkHtml = 'Like what you see? Visit the ' +\n",
              "            '<a target=\"_blank\" href=https://colab.research.google.com/notebooks/data_table.ipynb>data table notebook</a>'\n",
              "            + ' to learn more about interactive tables.';\n",
              "          element.innerHTML = '';\n",
              "          dataTable['output_type'] = 'display_data';\n",
              "          await google.colab.output.renderOutput(dataTable, element);\n",
              "          const docLink = document.createElement('div');\n",
              "          docLink.innerHTML = docLinkHtml;\n",
              "          element.appendChild(docLink);\n",
              "        }\n",
              "      </script>\n",
              "    </div>\n",
              "  </div>\n",
              "  "
            ]
          },
          "metadata": {}
        }
      ]
    },
    {
      "cell_type": "code",
      "source": [
        "# init\n",
        "\n",
        "print(\"Processing patient: %s\"%(pat_id))\n",
        "\n",
        "patient_df = cohort_df[cohort_df[\"PatientID\"] == pat_id]\n",
        "\n",
        "dicomseg_fn = pat_id + \"_SEG.dcm\"\n",
        "\n",
        "input_nifti_fn = pat_id + \".nii.gz\"\n",
        "input_nifti_path = os.path.join(model_input_folder, input_nifti_fn)\n",
        "\n",
        "pred_nifti_fn = pat_id + \".nii.gz\"\n",
        "pred_nifti_path = os.path.join(model_output_folder, pred_nifti_fn)\n",
        "\n",
        "pred_softmax_folder_name = \"pred_softmax\"\n",
        "pred_softmax_folder_path = os.path.join(processed_nifti_path, pat_id, pred_softmax_folder_name)"
      ],
      "metadata": {
        "colab": {
          "base_uri": "https://localhost:8080/"
        },
        "id": "S7a6h_iINlvq",
        "outputId": "248da3ef-f546-4c29-ca78-c6ddd6c19800"
      },
      "execution_count": null,
      "outputs": [
        {
          "output_type": "stream",
          "name": "stdout",
          "text": [
            "Processing patient: LUNG1-034\n"
          ]
        }
      ]
    },
    {
      "cell_type": "code",
      "source": [
        "# data cross-loading\n",
        "aime_utils.gcs.download_patient_data(raw_base_path = raw_base_path,\n",
        "                                     sorted_base_path = sorted_base_path,\n",
        "                                     patient_df = patient_df,\n",
        "                                     remove_raw = True)"
      ],
      "metadata": {
        "colab": {
          "base_uri": "https://localhost:8080/"
        },
        "id": "NZDxWkvCNlxw",
        "outputId": "38e164a3-ebb8-4214-c68f-91783e145918"
      },
      "execution_count": null,
      "outputs": [
        {
          "output_type": "stream",
          "name": "stdout",
          "text": [
            "Copying files from IDC buckets to /content/data/raw/tmp/LUNG1-034...\n",
            "Done in 25.7324 seconds.\n",
            "\n",
            "Sorting DICOM files...\n",
            "Done in 1.04826 seconds.\n",
            "Sorted DICOM data saved at: /content/data/raw/nsclc_radiomics/dicom/LUNG1-034\n",
            "Removing un-sorted data at /content/data/raw/tmp/LUNG1-034...\n",
            "... Done.\n"
          ]
        }
      ]
    },
    {
      "cell_type": "code",
      "source": [
        "# DICOM CT to NIfTI - required for the processing\n",
        "aime_utils.preprocessing.pypla_dicom_ct_to_nifti(sorted_base_path = sorted_base_path,\n",
        "                                                 processed_nifti_path = processed_nifti_path,\n",
        "                                                 pat_id = pat_id, verbose = True)"
      ],
      "metadata": {
        "colab": {
          "base_uri": "https://localhost:8080/"
        },
        "id": "FfsY-_EGNs19",
        "outputId": "201b0a6c-4e3e-4c48-e3c6-6982ce460247"
      },
      "execution_count": null,
      "outputs": [
        {
          "output_type": "stream",
          "name": "stdout",
          "text": [
            "\n",
            "Running 'plastimatch convert' with the specified arguments:\n",
            "  --input /content/data/raw/nsclc_radiomics/dicom/LUNG1-034/CT\n",
            "  --output-img /content/data/processed/nsclc_radiomics/nii/LUNG1-034/LUNG1-034_CT.nii.gz\n",
            "... Done.\n"
          ]
        }
      ]
    },
    {
      "cell_type": "code",
      "source": [
        "# prepare the `model_input` folder for the inference phase\n",
        "aime_utils.preprocessing.prep_input_data(processed_nifti_path = processed_nifti_path,\n",
        "                                         model_input_folder = model_input_folder,\n",
        "                                         pat_id = pat_id)"
      ],
      "metadata": {
        "colab": {
          "base_uri": "https://localhost:8080/"
        },
        "id": "0R547UiyNs4O",
        "outputId": "d253d4f9-b071-42a7-ec29-e90fe51bd481"
      },
      "execution_count": null,
      "outputs": [
        {
          "output_type": "stream",
          "name": "stdout",
          "text": [
            "Copying /content/data/processed/nsclc_radiomics/nii/LUNG1-034/LUNG1-034_CT.nii.gz\n",
            "to /content/data/model_input/LUNG1-034_0000.nii.gz...\n",
            "... Done.\n"
          ]
        }
      ]
    },
    {
      "cell_type": "markdown",
      "source": [
        "The following cell runs the hybrid cardiac segmentation.\n",
        "\n",
        "Note that this operation can take up to 15 minutes:\n",
        "*   The first step, dealing with whole heart segmentation via a custom nnU-Net model, runs on the GPU and is usually pretty fast (~2 minutes);\n",
        "*   The second step, fitting the atlas to the target data, is CPU bound (and not really efficient nor multi-threaded) and it will take most of the time (~10 minutes);\n",
        "*   To the above two, the user needs to add the time to download all the necessary models for the pipeline to run.\n",
        "\n"
      ],
      "metadata": {
        "id": "LYlxAj05gY6w"
      }
    },
    {
      "cell_type": "code",
      "source": [
        "aime_model.utils.processing.process_patient(pat_id = pat_id,\n",
        "                                            model_input_folder = model_input_folder,\n",
        "                                            model_output_folder = model_output_folder)"
      ],
      "metadata": {
        "id": "9Lw70nH9wlD9"
      },
      "execution_count": null,
      "outputs": []
    },
    {
      "cell_type": "markdown",
      "source": [
        "---"
      ],
      "metadata": {
        "id": "yf08ZiR9LeOJ"
      }
    },
    {
      "cell_type": "code",
      "source": [
        "processed_seg_folder = os.path.join(processed_nifti_path, pat_id, \"platipy\")\n",
        "shutil.copytree(model_output_folder, processed_seg_folder)"
      ],
      "metadata": {
        "colab": {
          "base_uri": "https://localhost:8080/",
          "height": 36
        },
        "id": "vsViIeibKLb4",
        "outputId": "1fb70cc6-ab45-4d7b-e643-0c5c6d508f38"
      },
      "execution_count": null,
      "outputs": [
        {
          "output_type": "execute_result",
          "data": {
            "text/plain": [
              "'/content/data/processed/nsclc_radiomics/nii/LUNG1-034/platipy'"
            ],
            "application/vnd.google.colaboratory.intrinsic+json": {
              "type": "string"
            }
          },
          "metadata": {},
          "execution_count": 25
        }
      ]
    },
    {
      "cell_type": "code",
      "source": [
        "aime_model.utils.postprocessing.nifti_to_dicomseg(sorted_base_path = sorted_base_path,\n",
        "                                                  processed_base_path = processed_base_path,\n",
        "                                                  dicomseg_json_path = dicomseg_json_path,\n",
        "                                                  pat_id = pat_id)"
      ],
      "metadata": {
        "id": "-4vilcX1KLiI"
      },
      "execution_count": null,
      "outputs": []
    },
    {
      "cell_type": "markdown",
      "source": [
        "---"
      ],
      "metadata": {
        "id": "But1jZOmo1YN"
      }
    },
    {
      "cell_type": "code",
      "source": [
        "from pyplastimatch.utils import viz as viz_utils"
      ],
      "metadata": {
        "id": "SPAivMyyqReY"
      },
      "execution_count": null,
      "outputs": []
    },
    {
      "cell_type": "code",
      "source": [
        "processed_nifti_path = os.path.join(processed_base_path, \"nii\")\n",
        "\n",
        "ct_nifti_path = os.path.join(processed_nifti_path, pat_id, pat_id + \"_CT.nii.gz\")\n",
        "platipy_output_folder = os.path.join(processed_nifti_path, pat_id, \"platipy\")\n",
        "\n",
        "\"\"\"\n",
        "alternative way of loading the resulting NIfTI files\n",
        "nibabel can sometimes take better care of the orientation of the\n",
        "converted/segmented images, but will orient the data differently by default\n",
        "\"\"\"\n",
        "\n",
        "#ct_nii = nib.load(ct_nii_path).dataobj\n",
        "#seg_nii = nib.load(seg_nii_path).dataobj\n",
        "\n",
        "ct_nii = sitk.GetArrayFromImage(sitk.ReadImage(ct_nifti_path))\n",
        "\n",
        "pred_struct_list = [struct for struct in sorted(os.listdir(platipy_output_folder)) if \"CN_\" not in struct]\n",
        "pred_struct_names_list = [struct.split(\".nii\")[0] for struct in pred_struct_list]\n",
        "\n",
        "pred_segmasks_nifti_list = [os.path.join(platipy_output_folder, struct) for struct in pred_struct_list]\n",
        "\n",
        "segmask_dict = dict()\n",
        "segmask_cmap_dict = dict()\n",
        "\n",
        "for path_to_segmask, segmask in zip(pred_segmasks_nifti_list, pred_struct_names_list):\n",
        "  segmask_dict[segmask] = sitk.GetArrayFromImage(sitk.ReadImage(path_to_segmask))\n",
        "  segmask_cmap_dict[segmask] = random.sample([my_reds, my_greens,\n",
        "                                              my_spring, my_blues], k = 1)[0]"
      ],
      "metadata": {
        "id": "gxrHpkeapMKe"
      },
      "execution_count": null,
      "outputs": []
    },
    {
      "cell_type": "markdown",
      "source": [
        "In the next cell, we can visualise the result using a simple widget."
      ],
      "metadata": {
        "id": "5Ydjya0OX5yd"
      }
    },
    {
      "cell_type": "code",
      "source": [
        "_ = viz_utils.AxialSliceSegmaskViz(ct_volume = ct_nii,\n",
        "                                   segmask_dict = segmask_dict,\n",
        "                                   segmask_cmap_dict = segmask_cmap_dict,\n",
        "                                   dpi = 100, figsize = (8, 8),\n",
        "                                   min_hu = -1024, max_hu = 1024)"
      ],
      "metadata": {
        "id": "imBup5S2qcpM",
        "colab": {
          "base_uri": "https://localhost:8080/",
          "height": 701,
          "referenced_widgets": [
            "17f8b93486bb4ad2a2e944c58da7d4d1",
            "239b633e3bf74213a10c9a6ee1769cfd",
            "d6dc51cf18f049bca687229ed5c5752b",
            "621015014ee942aa972d37095d4afc0d",
            "0463060cc8de4187849772448d16e569",
            "6175a2cbbf004f8aaddb267a89a6fd75",
            "b68e93735aa648b1930e107b51cb406f",
            "d05790b826694bc685063adac4058220",
            "ef5c7e47ecb248649c43a2bc90120857",
            "beb59a8f107341dba7d437140674358f",
            "266ed542b6c24ffc8f3c8419ad654587"
          ]
        },
        "outputId": "1be585ef-a27d-4989-961a-b24e63caf997"
      },
      "execution_count": null,
      "outputs": [
        {
          "output_type": "display_data",
          "data": {
            "text/plain": [
              "interactive(children=(Output(),), _dom_classes=('widget-interact',))"
            ],
            "application/vnd.jupyter.widget-view+json": {
              "version_major": 2,
              "version_minor": 0,
              "model_id": "17f8b93486bb4ad2a2e944c58da7d4d1"
            }
          },
          "metadata": {}
        }
      ]
    },
    {
      "cell_type": "markdown",
      "source": [
        "---\n",
        "\n",
        "## **Data Download**"
      ],
      "metadata": {
        "id": "i2QqrdvXqQq0"
      }
    },
    {
      "cell_type": "code",
      "source": [
        "archive_fn = \"%s.zip\"%(pat_id)\n",
        "\n",
        "try:\n",
        "  os.remove(archive_fn)\n",
        "except OSError:\n",
        "  pass\n",
        "\n",
        "seg_dicom_path = os.path.join(processed_dicomseg_path, pat_id, dicomseg_fn)\n",
        "\n",
        "!zip -j $archive_fn $ct_nifti_path $seg_dicom_path"
      ],
      "metadata": {
        "id": "ARmBD0lHdz_2",
        "colab": {
          "base_uri": "https://localhost:8080/"
        },
        "outputId": "06f94e31-644e-4827-d365-60ac0ec27a0f"
      },
      "execution_count": null,
      "outputs": [
        {
          "output_type": "stream",
          "name": "stdout",
          "text": [
            "  adding: LUNG1-034_CT.nii.gz (deflated 1%)\n",
            "  adding: LUNG1-034_SEG.dcm (deflated 99%)\n"
          ]
        }
      ]
    },
    {
      "cell_type": "code",
      "source": [
        "files.download(archive_fn)"
      ],
      "metadata": {
        "id": "8pE0X9kid0D-",
        "colab": {
          "base_uri": "https://localhost:8080/",
          "height": 34
        },
        "outputId": "e33f4d79-d1c9-483c-8377-095ea0a1ffc1"
      },
      "execution_count": null,
      "outputs": [
        {
          "output_type": "display_data",
          "data": {
            "text/plain": [
              "<IPython.core.display.Javascript object>"
            ],
            "application/javascript": [
              "\n",
              "    async function download(id, filename, size) {\n",
              "      if (!google.colab.kernel.accessAllowed) {\n",
              "        return;\n",
              "      }\n",
              "      const div = document.createElement('div');\n",
              "      const label = document.createElement('label');\n",
              "      label.textContent = `Downloading \"${filename}\": `;\n",
              "      div.appendChild(label);\n",
              "      const progress = document.createElement('progress');\n",
              "      progress.max = size;\n",
              "      div.appendChild(progress);\n",
              "      document.body.appendChild(div);\n",
              "\n",
              "      const buffers = [];\n",
              "      let downloaded = 0;\n",
              "\n",
              "      const channel = await google.colab.kernel.comms.open(id);\n",
              "      // Send a message to notify the kernel that we're ready.\n",
              "      channel.send({})\n",
              "\n",
              "      for await (const message of channel.messages) {\n",
              "        // Send a message to notify the kernel that we're ready.\n",
              "        channel.send({})\n",
              "        if (message.buffers) {\n",
              "          for (const buffer of message.buffers) {\n",
              "            buffers.push(buffer);\n",
              "            downloaded += buffer.byteLength;\n",
              "            progress.value = downloaded;\n",
              "          }\n",
              "        }\n",
              "      }\n",
              "      const blob = new Blob(buffers, {type: 'application/binary'});\n",
              "      const a = document.createElement('a');\n",
              "      a.href = window.URL.createObjectURL(blob);\n",
              "      a.download = filename;\n",
              "      div.appendChild(a);\n",
              "      a.click();\n",
              "      div.remove();\n",
              "    }\n",
              "  "
            ]
          },
          "metadata": {}
        },
        {
          "output_type": "display_data",
          "data": {
            "text/plain": [
              "<IPython.core.display.Javascript object>"
            ],
            "application/javascript": [
              "download(\"download_1da3c487-9848-4cf2-859a-7530f1a1a6fa\", \"LUNG1-034.zip\", 26491298)"
            ]
          },
          "metadata": {}
        }
      ]
    }
  ],
  "metadata": {
    "colab": {
      "collapsed_sections": [],
      "provenance": [],
      "machine_shape": "hm",
      "include_colab_link": true
    },
    "kernelspec": {
      "display_name": "Python 3",
      "name": "python3"
    },
    "language_info": {
      "name": "python"
    },
    "accelerator": "GPU",
    "gpuClass": "standard",
    "widgets": {
      "application/vnd.jupyter.widget-state+json": {
        "17f8b93486bb4ad2a2e944c58da7d4d1": {
          "model_module": "@jupyter-widgets/controls",
          "model_name": "VBoxModel",
          "model_module_version": "1.5.0",
          "state": {
            "_dom_classes": [
              "widget-interact"
            ],
            "_model_module": "@jupyter-widgets/controls",
            "_model_module_version": "1.5.0",
            "_model_name": "VBoxModel",
            "_view_count": null,
            "_view_module": "@jupyter-widgets/controls",
            "_view_module_version": "1.5.0",
            "_view_name": "VBoxView",
            "box_style": "",
            "children": [
              "IPY_MODEL_239b633e3bf74213a10c9a6ee1769cfd"
            ],
            "layout": "IPY_MODEL_d6dc51cf18f049bca687229ed5c5752b"
          }
        },
        "239b633e3bf74213a10c9a6ee1769cfd": {
          "model_module": "@jupyter-widgets/output",
          "model_name": "OutputModel",
          "model_module_version": "1.0.0",
          "state": {
            "_dom_classes": [],
            "_model_module": "@jupyter-widgets/output",
            "_model_module_version": "1.0.0",
            "_model_name": "OutputModel",
            "_view_count": null,
            "_view_module": "@jupyter-widgets/output",
            "_view_module_version": "1.0.0",
            "_view_name": "OutputView",
            "layout": "IPY_MODEL_0463060cc8de4187849772448d16e569",
            "msg_id": "",
            "outputs": [
              {
                "output_type": "display_data",
                "data": {
                  "text/plain": "interactive(children=(IntSlider(value=0, description='Axial slice:', max=94), Output()), _dom_classes=('widget…",
                  "application/vnd.jupyter.widget-view+json": {
                    "version_major": 2,
                    "version_minor": 0,
                    "model_id": "621015014ee942aa972d37095d4afc0d"
                  }
                },
                "metadata": {}
              }
            ]
          }
        },
        "d6dc51cf18f049bca687229ed5c5752b": {
          "model_module": "@jupyter-widgets/base",
          "model_name": "LayoutModel",
          "model_module_version": "1.2.0",
          "state": {
            "_model_module": "@jupyter-widgets/base",
            "_model_module_version": "1.2.0",
            "_model_name": "LayoutModel",
            "_view_count": null,
            "_view_module": "@jupyter-widgets/base",
            "_view_module_version": "1.2.0",
            "_view_name": "LayoutView",
            "align_content": null,
            "align_items": null,
            "align_self": null,
            "border": null,
            "bottom": null,
            "display": null,
            "flex": null,
            "flex_flow": null,
            "grid_area": null,
            "grid_auto_columns": null,
            "grid_auto_flow": null,
            "grid_auto_rows": null,
            "grid_column": null,
            "grid_gap": null,
            "grid_row": null,
            "grid_template_areas": null,
            "grid_template_columns": null,
            "grid_template_rows": null,
            "height": null,
            "justify_content": null,
            "justify_items": null,
            "left": null,
            "margin": null,
            "max_height": null,
            "max_width": null,
            "min_height": null,
            "min_width": null,
            "object_fit": null,
            "object_position": null,
            "order": null,
            "overflow": null,
            "overflow_x": null,
            "overflow_y": null,
            "padding": null,
            "right": null,
            "top": null,
            "visibility": null,
            "width": null
          }
        },
        "621015014ee942aa972d37095d4afc0d": {
          "model_module": "@jupyter-widgets/controls",
          "model_name": "VBoxModel",
          "model_module_version": "1.5.0",
          "state": {
            "_dom_classes": [
              "widget-interact"
            ],
            "_model_module": "@jupyter-widgets/controls",
            "_model_module_version": "1.5.0",
            "_model_name": "VBoxModel",
            "_view_count": null,
            "_view_module": "@jupyter-widgets/controls",
            "_view_module_version": "1.5.0",
            "_view_name": "VBoxView",
            "box_style": "",
            "children": [
              "IPY_MODEL_6175a2cbbf004f8aaddb267a89a6fd75",
              "IPY_MODEL_b68e93735aa648b1930e107b51cb406f"
            ],
            "layout": "IPY_MODEL_d05790b826694bc685063adac4058220"
          }
        },
        "0463060cc8de4187849772448d16e569": {
          "model_module": "@jupyter-widgets/base",
          "model_name": "LayoutModel",
          "model_module_version": "1.2.0",
          "state": {
            "_model_module": "@jupyter-widgets/base",
            "_model_module_version": "1.2.0",
            "_model_name": "LayoutModel",
            "_view_count": null,
            "_view_module": "@jupyter-widgets/base",
            "_view_module_version": "1.2.0",
            "_view_name": "LayoutView",
            "align_content": null,
            "align_items": null,
            "align_self": null,
            "border": null,
            "bottom": null,
            "display": null,
            "flex": null,
            "flex_flow": null,
            "grid_area": null,
            "grid_auto_columns": null,
            "grid_auto_flow": null,
            "grid_auto_rows": null,
            "grid_column": null,
            "grid_gap": null,
            "grid_row": null,
            "grid_template_areas": null,
            "grid_template_columns": null,
            "grid_template_rows": null,
            "height": null,
            "justify_content": null,
            "justify_items": null,
            "left": null,
            "margin": null,
            "max_height": null,
            "max_width": null,
            "min_height": null,
            "min_width": null,
            "object_fit": null,
            "object_position": null,
            "order": null,
            "overflow": null,
            "overflow_x": null,
            "overflow_y": null,
            "padding": null,
            "right": null,
            "top": null,
            "visibility": null,
            "width": null
          }
        },
        "6175a2cbbf004f8aaddb267a89a6fd75": {
          "model_module": "@jupyter-widgets/controls",
          "model_name": "IntSliderModel",
          "model_module_version": "1.5.0",
          "state": {
            "_dom_classes": [],
            "_model_module": "@jupyter-widgets/controls",
            "_model_module_version": "1.5.0",
            "_model_name": "IntSliderModel",
            "_view_count": null,
            "_view_module": "@jupyter-widgets/controls",
            "_view_module_version": "1.5.0",
            "_view_name": "IntSliderView",
            "continuous_update": true,
            "description": "Axial slice:",
            "description_tooltip": null,
            "disabled": false,
            "layout": "IPY_MODEL_ef5c7e47ecb248649c43a2bc90120857",
            "max": 94,
            "min": 0,
            "orientation": "horizontal",
            "readout": true,
            "readout_format": "d",
            "step": 1,
            "style": "IPY_MODEL_beb59a8f107341dba7d437140674358f",
            "value": 45
          }
        },
        "b68e93735aa648b1930e107b51cb406f": {
          "model_module": "@jupyter-widgets/output",
          "model_name": "OutputModel",
          "model_module_version": "1.0.0",
          "state": {
            "_dom_classes": [],
            "_model_module": "@jupyter-widgets/output",
            "_model_module_version": "1.0.0",
            "_model_name": "OutputModel",
            "_view_count": null,
            "_view_module": "@jupyter-widgets/output",
            "_view_module_version": "1.0.0",
            "_view_name": "OutputView",
            "layout": "IPY_MODEL_266ed542b6c24ffc8f3c8419ad654587",
            "msg_id": "",
            "outputs": [
              {
                "output_type": "display_data",
                "data": {
                  "text/plain": "<Figure size 800x800 with 1 Axes>",
                  "image/png": "iVBORw0KGgoAAAANSUhEUgAAAzgAAAKMCAYAAAAnoB1VAAAABHNCSVQICAgIfAhkiAAAAAlwSFlzAAAPYQAAD2EBqD+naQAAADh0RVh0U29mdHdhcmUAbWF0cGxvdGxpYiB2ZXJzaW9uMy4yLjIsIGh0dHA6Ly9tYXRwbG90bGliLm9yZy+WH4yJAAAgAElEQVR4nOy9e3RW1bU2vnbehCQv4RKSGCQCQYhSAZFG6xCLDmg9eqpQe6DQQhUOdrSipZza1lu1QC/6iS1iayXcCsTKpUV/iJSverDFWqXqhwoUBOMFRTgGwyWAITGX/fsDt2cxnXOuuXZeCEnmM0ZG3nfvteaa67L3fp45995vEIahUSgUCoVCoVAoFIq2gLSWdkChUCgUCoVCoVAoUgUVOAqFQqFQKBQKhaLNQAWOQqFQKBQKhUKhaDNQgaNQKBQKhUKhUCjaDFTgKBQKhUKhUCgUijYDFTgKhUKhUCgUCoWizUAFjkKhUCgUCoVCoWgzUIGjUCgUCoVCoVAo2gxU4CgUCoVCoVAoFIo2AxU4CoVCoVAoFAqFos2gRQVOEAQ3B0GwKwiC2iAIXgyC4Ast6Y9CoVAoFAqFQqFo3WgxgRMEwThjzGxjzExjzOeNMZuNMU8FQXBGS/mkUCgUCoVCoVAoWjeCMAxbpuEgeNEY83IYht/75HuaMWa3Mea3YRj+H0fdwBjTwxhz5KQ7qlAoFAqFQtF+0ckYszdsKcKoUMRAeks0GgRBB2NMqTHm3mhbGIZNQRCsN8ZcgpTPNMZkWpvONMbsONl+KhQKhUKhUCjMWcaYPS3thEIhRYsIHGNMvjEmYYypBNsrjTH9kfJ3GGOmn2ynFApF+8XxxPCJ3yUBy6heVDYMw0+3YTbsbXZdriznC7Rn+6FQKBQpgt4xo2hVaCmB44t7zfHndSJ0Msa830K+KBSK0xxpaccfL7TFBvxszGdFTQR7uy0yYF17O6wL/9v1sHax8nZZrn3or10ugi2U7PJhGKoYUigUCkWbQksJnCpjTKMxphBsLzTGfAALh2FYZ4ypi75TpEShULQPuM4BnECRiAHf9mBbESghBUUGJ3ikbUnrUwKLgwoghUKhULQmtMhb1MIw/NgYs8kY86Vo2ycvGfiSMWZjS/ikUChaD9LS0kwQBCYtLe3Tv+h7XLFAlcFuG6NswM9xb3uL2qVuN+OyLlQdu4/2PjiO2J9CoVAoFK0JLXmL2mxjzNIgCP6fMeYlY8x/GWM6GmMWt6BPCoXiNIEtVqhnVmxwAgW7bYwTGph9DJwP0Gfs2RvMF/u2Myhy7O0un7lb6Kjb16ht3Fw0NjYiI6NQKBQKRcuhxQROGIYrgyAoMMb8zBjT3RjzmjHmqjAM4YsHFApFGwZGnqWAz7U0NTWhJF/y4D33nI2rbWgbq0M9y4PVwZ6TsTMp3O12Lp99bk+jnvGxxzQ9PR3te1NTk7gdhULRurFp06ZO5vgbbjXlqzhZaDLG/E9paanohRct9js4zUEQBJ2NMdUt7YdCoZAjIujUbVI24D5McEA7aWlpnwocTmDANiMSH9XF2pO87cz+DMk9FCucyLD7g72ZjesTlYmBfZEKHa6c60UN1BvhVPgoFK0SXcIwPAw3btq0Kc0Yc2cikbg+CIIMY4w+JK04WQjDMKxvbGwsN8bcU1payl5MWstb1BQKRSuC5EF2V9aGupWKApal4cQI96C/5AF+SnRBESS9lY7yD2alOGERtWuLPdfLDGy4fPfph+2P/R0+06NvcVMoWjXuzMjImNK9e/ePO3bsWBMEgR7MipOCMAyDjz76KPnBBx9Mqa+vN8aYX3DlNYOjUCiaDReJ556d4cg0la2hbvdyZXsoSF8kYPch7u1evuWx29UoO5EgsgUOZjcqy/lIfZbaw8QSJdhgXzXLo1CcdvhMBmfTpk2dE4nE/+vRo0fGGWecsb+lHFO0L+zbty9v79699Y2NjaXc7Wp6r6RCofAClhWInqPBIvTGfFaAuG69sutwflDbXBkYrA0f8SEB9lyKJAMFQd1ax9V1ZZ9gWddzRhI0J1gWrR17LcH9CoXitEP3IAgyOnbsWNPSjijaDz7JFGaY4898kdBb1BQKhRfgA+4uUeEjNiS3iWGiSNoGtGPXp/ZRZSR2YX1pf1ztubI4ceFzO5tdDo6lnaXBbq/jQL3YQN/WplCcdkgzxgR6W5riVOKT9RYYR5JGBY5CoSABo+nY7V822cbEjp21wW61cj0kb4O6fQq2CYHd7oW1LYHrFjvs2SJJloq7Hc0lEiRiBJsnu12uPPadK8tt575jvkT7scyOih6FQqFQYFCBo1AoTkBEJLHbnqhnXDiRgYkRGy5y7hJFcJ9LIEmfheF8pvyjfOK2cYLJJ2vkGnupDdsv2y689dDeT4kWuF6idqJnhOztsG5U1v4PkUgkPv2sYkehOH1QUVHRobKy8pRwzMLCwoaSkpKPT0VbitYDFTgKRTsHRlwhsMyHTWzjRPdhGdh2nAyLpC2KxEtt2X3HHsSXigrX7XyUPSwjJhVs0HcpuAyS7Secr2htcbft2TZgG5QQhII6LS3NJBKJE9rRFxUoFC2DioqKDoPOHzSwrrbulDw8l5mVGW7dsvVfKnIUNlTgKBTtELY44chunOcoqEwCJLscaW+OSOB8wmxKMjBxxYBtw/aDa4uy55ONsduibgX0gU+7NrC5jmPTVyDDMVexo1CcOlRWVqbX1dYFl00bWZPbM/+kHnwHd1el/f3BJ5OVlZXpcQTO+vXrO1555ZX9hw0bVr1hw4Y3fet/8YtfLNm4cWPnv/71r69ffvnlKXnZwhe+8IVzBw4cWPP73/9+dyrstVeowFEo2gFg1B7eVoQRYNetVdJ2o7q+4DIX0rZdt8vFvQ0tzlg0F77Cj7t1TALp7W4wK0SNMWVbOp/UrX2SW/zgj6YqFIqTj9ye+U0FJT1O63tHFyxYkD9x4sR9K1euzN+1a1dGcXFxvbRuRUVFh1dffTXn+uuv3zd//vz8yy+//L3m+FJbWxtkZWXpCSpF0NdEKxTtANFzNdRLAyj4kkGuPJe5iODyzXVLFnebnAsYeW4OGfa5fYwClgE5GeLK5zkdrjzMDKbKH5cgol5MYH9PS0v79O9Ui1OFQnH6obq6Om3t2rXdpk2btm/48OHVZWVleT71y8rK8kaMGHHo+9///odr1qzpdvTo0RNOLBUVFR2+9KUv9U0mk0NycnKGfOUrXzl79+7dnyYWbrnllh79+/c/b/bs2flFRUWDksnk50ePHl388ssv5yxevPiMIAhKgyAo3blzZ4eGhgYzduzY3kVFRYOysrI+X1xcPPDnP//5Gakai7YIFTgKRRsEJHRwnw3s9h6sLCSu0qyH6zYvjBBLRBjlJ2abKiMh7FJIb8OiBABVlvIRjhGWccE+Q7jmJSrjag/apDImrud5KJ+kcwFvB4S+RsdGIpEwiURCxY5C0U6xePHi3D59+tQOHjy4bsKECfuXLVuWL72dtampyaxYsSJ/woQJB4YMGVLbu3fvuqVLl+ZG+xsbG82oUaP6HTp0KP2pp57auWbNmjfee++9zNGjR/e17bz33nuZq1evzv3jH//45saNG7fPnz9/9wUXXPDRN77xjap3331387vvvru5b9++Hzc2NgZFRUX1y5cvf+u1117712233bb3nnvuKVq4cGHuZ71TGKO3qCkUbQbw7WeUqIBkDyOr9u1Q2APdEL7P6Lj8iXNLGHVbFCS6nB0o3nyeCZI8KA+3wXG2b/XCBIbkVkLbLuajfbsW9MX20d4f/a6NRMRJx8xHxFC3FUZvY5PMKQX4bJg+r6NQtA+Ul5cXjBs3br8xxowZM6b6pptuKl63bl2na6655oir7hNPPNH52LFjaaNHj642xpixY8fuX7p0acHNN998wBhj1qxZ07mioiJ7x44dW/r161dvjDFLly5958ILLxzw7LPPJqPnderr64MVK1a806NHj4bIdkZGRpidnd3Uq1evT7elp6eHDzzwwN7oe//+/Q9s3LgxZ9WqVbnf/va3D6ZqTNoSNIOjULRSUFkaLmuBRfVtguvKeEDASL2LLNtCg8scUM9b+D7T4RIZ0lviKB+bAwkpt/vt6pc0Q0Vle6DogWLLnmduDqVjw93Ohok5rL79X5qlcmWsEomE3sqmULRxbN68OXPLli3JyZMnHzDGmIyMDDNy5MiDCxcuzJfU//3vf583cuTIAxkZGcYYY/7zP//zwCuvvNJx27ZtmcYYs23btqzCwsKPI3FjjDGlpaW1nTp1aty6dWt2tK1Hjx4f2+KGw7333lswYMCAz+Xm5g5OJpNDli9fnr9nz55Mj263K2gGR6FoZcAyKMZ8Vhhw0fpov50ZwMrY3+0Id1zih91yxYkwrD5lD+uLvR2rH+2PxokSVlgdLkviEmEuG5wd2GcO0lvvXP3E5g2uNarPcM1RD/zbmTZX5keSSbLLU75IxofKcioUitaLuXPnFjQ2Nga9e/ceHG0Lw9B06NChaf/+/Ym8vDzy5QiVlZWJp59+OrehoSF49NFHP30OprGx0ZSVleX/9re/3SP1Izs7W5Qynj9/fu7MmTN7zpgxY/ewYcOOdunSpemee+7p/sorr3SUttXeoAJHoWgFsG+jgaQYI58R4txaBdvhbnuD5I+61c22Cz/HzaJQbVB2sP5RfnEknrpNDCPF0vYl5TChFieT5NO2Xd5nHWHCE7OLtUf5IRGNkno+t7PBYEH0WcWOQtF6UV9fb1atWpU3ffr096+++upqe9/o0aP7LVq0qNutt976IVV/4cKFeYWFhR8/9thjJ7xW+s9//nOXhx9+uPCBBx7YM2DAgNrKysoOb775ZkaUxdm0aVPWkSNHEueff/4xzr+MjIwm+MPFzz//fM6QIUOO3n777Z/6tWvXLs3eMFCBo1CcxrBvFYLbJSQLEyip8Mm2DX2ifOWEEue7ZB+M/vuMjY9YoPqHwVfAUPZd7aeirI3mrhFK6GDtuASxj4Cj1gTnm49du579nI6KHYUCx8HdVSf9MYg4baxYsaLr4cOHE1OnTq2CmZqrr776YHl5eT4ncB555JH8a6655uBFF11Ua28/++yz6++5556iVatWdRk7dmx1SUnJsW984xtnz5kzZ3d9fb2ZOnVq74suuujoZZddxv5eTq9evT5+5ZVXcnbu3Nmhc+fOTWeccUZDSUlJ3eOPP5732GOPdS4pKalbtGhR3tatW5NFRUX646YEVOAoFKcp7GcAOOHAkTjX7V5UlN0lqLAofFyiR5FOTLD4kG97DCjh4xIBGFGnbtfCvtvtwLpYW9w+2JeTDdgXbo1I1ltz/Ehllsp1O51kfG3BAyOtCkV7R2FhYUNmVmb49wefTJ6K9jKzMsPCwkLRcyzGGLN48eL8oUOHHsZuQxs7duzBsrKy7i+++GL2xRdf/JlMy3PPPZfcuXNn9rx583bBfXl5eY2XXHLJ4d///vf53/jGN6rXrFnz5o033tjz3/7t385NS0szl112WfW8efOcv5Vzxx13fHD99df3ueCCCwbU1tam7dixY+sPf/jDD1977bXkpEmTzg6CwIwaNerA9ddf/+EzzzzTRdrv9oagNUafgiDobIypdhZUKFohuIebqdu6YJYECiPuFrZou6tMBOr2Lbif85+Cq23OV8oHl7jgyrqyT3GyL9RtZ/C7XZ56Rgj6bNdramo64Xkt161erlvApFlE6pY0iXiI/KbWL1aeGhP4hjWsL9yap+bBzt7Y/urb1xRtHF3CMDxsb9i0aVP/9PT0v5SUlBxNJpMnZDMqKio6VFZWnpIgemFhYUNJSYlmMtoJampqsioqKnIaGhquKi0t3UGV0wyOQtHCkPz4pktAuKLs8BYuaaTaBpUBsT9HRJwiuNgtSNB/rI9YtgnLHp3MzIZLANi+cdkxrJ7LPtc/SnD5zrErUwJtRcReOvaUeKTmE65TV5YM9sX2T5J5wsQn14foeyQiE4nECeVU8CjaM0pKSj5W0aFoSehrohWKFkL0Y4PG+D24bJNemwhKMycu4kb5wWWDqIwEBpeYo8pSAsAluqK6nN+wLNzGZRA4n7jsF/zuEhfQPtZvTlTBNcKNmwQ+wgn7zIlZKVyCBLZlf8bmCBPgmEjChJk9/kEQmEQiYdLTNYaoULQ2jB8/vlcymRyC/Y0fP75XS/unkEHPvgrFKQa8bQgjaFjUGUa9o+02XJF+uxwX2Yb1XOTXJX4kRN+VuXKJNMq2pB+UMHMJNioT01zxANuXjif8DueE649EnGJEX3qrmrQN2B+sLy5QokV6HFHbqIwdVz463jWjo1C0Dtx///1777zzzkpsX25urj5010qgAkehOAWwSRAlNCji6kOO496iJa3n8g/LJHGk1pfsUu262uKEJNduc/Zz9STbXDYk/Zf6x7UvuXUNs2WLCZjp4OpTbVBCj8pWSbKD0vGiBCSXMeNsxBW8CoXi5KOoqKihqKhI/NICxekJvUVNoTgFCILgM29Fc5WnylG3UEmj41F5ScaGi3A3B1wk3PaDA3VrnousS/2h4BI9nIDh5hMTCphY5Hx1ZZtc9nxuxbO3S4WqZG5cmTxXfQ4+x0gcHzjA9ZrqY0qhUCgU/wsVOArFSURaWtoJt6RFcN0uZIzfLVZcXe62rOi/RNBIbtmxt/u0C9vAnnHAynD2JdtdZBPLtkXbqdv7uFv/OPLuGnMuUybNSlE+Yv7EATfvzQGXAcJ8kNrCylNzh32P6vtkb4w5/kIC7LygUCgUitRAz7AKRYoRZWvgW5Woe/6xzxRpchFxSNzg7UJU+1LiJs1ASWxI7Eq+u7ZRwtBFSl3ZK+y2KVd2x9WWdL80y+HKcknmlxpfSRkfXylw4lua6bS3Nee2PU4MRft9xGYkdDSbo1AoFKmFChyFIkWIRI1EmFDZCeyZAIxQuki1/dyD721HFCiSjRFO161aPu1jz11QZbD2qYwKNp52n+DzFT63/2F2KaJOrQUppGIV+w/3cwLaNbZw7KIMBTfnPhlDqi5WT5rF4mzFzUZhfttrCLMZnTvsoIhCoVAo4kNfMqBQNBOQyNnCAhMiFMHFQIkgiMiG/cOGmG1uH7YdZoHi3G6FkWD7szTLg/kouT3Itkm1BUWM1C7nOyWkXFkAzneJP77gBB+X+bPbjCsqfLJ5cP5cxxs8HrC1iwlQ13y4BLdLzMCy0HZ6erppamrSt64pWjX0hz4VLQ0VOApFTMCotjF4BsDeLrGJETVI7FxZGYoIQlBtUWV8o+YUQbb75MoqcO2eDMA5pAgvNXZUX+1yVH0M2BqLMiTQV4kwkwoRLIuFrUOXaIR2o4BAKudUGgiQwKeeRLBF/tmf4fxh5W2RdCrXv0LRXFRUVHQ4f9CggbV1dafk3suszMxwy9at/zodRc6vfvWr/F/96lc99u3blzFjxozdhw4dSl+3bl3XHTt2bG9p39o6VOAoFJ6AwobLZJwqfyhhZfvjm53ACC7WBkVkpZmV5sB125I0s8ABkn2XTSpL45oXKVxiUmpD6kNcks1lCKEPUl/jtsllHrnMVXP8c4ljqq4tGl3rW6E4HVFZWZleW1cXzL7kkpqSrl1Oaiqy4lB12i0bNyYrKyvT4wic9evXd7zyyiv7Dxs2rHrDhg1v+tRdsmRJ14cffrjw9ddfz25sbAzOOuusulGjRh388Y9/vK+wsLDxwIEDaXfccUevmTNn7p4wYcKhbt26NU6fPr27r4+KeFCBo1B4wH7zEZdtiYDd+oSVw+C6hYyKrsO2fLI9mN8YIZRkcqhov902Bygq7PYxv6VZpDjg6nIZDOg7LBMXUpvS7FFz/IBjC9cnRJS9iG7BgseRNBNCwdW+yxaWsaSOBc6ea4xdgRH72Ik+NzbqbwwqWg9KunZpGpyXd1ov2gULFuRPnDhx38qVK/N37dqVUVxcXC+pN3Xq1KK5c+d2v+GGGyp/+ctfvt+rV6/67du3Z5WVlRXMnz8/7+6779731ltvdWhoaAj+4z/+o7p3794iu4rUQV8yoFAIIH3bkSvqCvdj5e192C1AUpIHy0rFBUaSU5EJ8ckaULenuUSfD/GHtu19XBaAE6nSMYrmVSK8OKGArTXfebKJdPQfbqPqUPW4uj6wxSz2mQO3HqB9+7trXiXzJhFXcY5r+HZGhUIRH9XV1Wlr167tNm3atH3Dhw+vLisry5PU+9vf/pZ86KGHuk+fPn33vHnz3r/iiis+Ovfccz/+2te+dvipp556a8qUKft/85vf5H3hC18YYIwxn/vc5wYFQVC6c+fODradmpqaoF+/fgO++c1v9o62bdu2LbNjx45D5syZI/JFQUMFjkJBIAiCT3/HxiY1MNIMyVdU1/5PAYt+2/9tG9htT5zv0rYpMk+JDNgG11fOZygUuMyTJPNFkVBO2EntQRLvmpM4wtLlg89+V3Yg+h43s8URflfWT5LditBckcS1g80vt90F+FIA+9yArUNqbXIZqKhcdF7S39JRKOJj8eLFuX369KkdPHhw3YQJE/YvW7YsX/Jyj/Ly8rxkMtl06623fojtz8/Pb5w8efKB1atXv2GMMRs2bHj93Xff3dy3b98TbqFLJpNheXn524899ljeH/7wh64NDQ1mwoQJfS699NLD//Vf/7U/JZ1sx9Czo0KBwH7dMyS10TZjTiQ1EjIKhRKXncCIPrQX+QLfnoaVwTJCVB1KsLkyK5QokJJoLsMlIaQYOBLvm3GB26B/ktuspJkXX3IfV0hJxCz0CQpbKrsF158kY8EJUZ/5wr5Tohn2I9rPZVmwrCAl4risINU3bI1Av6MgjEKh8Ed5eXnBuHHj9htjzJgxY6qPHDmSWLduXSdXvbfffjvzrLPOqsvMzCRPSDk5OWFBQUGDMcZ07969oVevXg3p6Z99KmTo0KHHbrvttj1Tp07tfcMNN/Tcu3dvh/Ly8l3xe6WIoGdGhcKCHRW1yQcFCeFxZVoktnwJM1ZGUoci37ZPVGTZJdAwwucjTlxRborgu8bY1S/MJ4m/1H7bf4pcS+xK1iUcc7jf/u6bDXIJKsnYwX75iCtqXdm2KFFh/6eCDFQ70vOBtA4X5IDbqXWiv6GjUPhh8+bNmVu2bElOnjz5gDHGZGRkmJEjRx5cuHBhvqtuGIbNv//WwowZMyr79OlTV15efsbDDz+8q3v37qf1c0utBfqSAYXCuAUFlaGgyIlE2LiyOJCAYdFkGDGG2zA7lH+S6DhmH9rEyDKWPYKg6vtmJDA/qQyXLyiyz5F5V7sUKbfnExu/VAle15xgfnL1OB8lx4QUdhucmOEyf9TxRIES8a62Jb5h9rH2bXuwvn07rUKhoDF37tyCxsbGoHfv3oOjbWEYmg4dOjTt378/kce8HKFv3761mzZtyqmrqwu4LI4Ue/bsSX/nnXcyE4mE2blzZ5Yx5nBzbSo0g6NQkJFRjshzZB0TQVx03Id4S6LsmDCS2OLEmTQCDcGNjysLEEeQUL7ASDw1J3EINtYGVYbb7mqbyzRRtrh1QWUDfNej6/iRQNKmT/9T1SYljqB4wbJHsBxmh1uv3Hfq2AmCQPQyFIWiPaO+vt6sWrUqb/r06e9v3LhxW/T3z3/+c1tBQUH9okWLunH1r7vuugM1NTVps2bNKsD2V1VVeaVTr7vuuuJzzz332G9/+9t3fvGLXxS98sorWT71FTg0g6No15DcGkQRKwkJocpQ2Ru4D8touG69iT5jbcB9mA1XlBgDFg2XtGfX9SHbWGTeztJg48WNgy1YIWnn1oDUX6quNMsjAeUjNjf2WMFxiJPVoNqjMk+UAKDWCpY5cc0J1h7VLyhWpAKFWm+cX9R6hLahX5g/XAYtmmeFoqVQcaj6pAfR47SxYsWKrocPH05MnTq1CmZqrr766oPl5eX51AsEjDFmxIgRH914440fzJw5s+eePXs6jBkz5mCvXr3qX3/99cyysrKCoUOHHr377rv3SXy59957C1599dWcV155ZVu/fv3q161b1+Vb3/pWn1deeWVHVlaWpmKbARU4inYJ+351GA3FyE/0ux02oaFIF0e8fMgntx0TPxjpo4SUi1BzJBOKNIzESm1S0WxOWLiEJdzuymBhIocqQ/UDs01F9O3ff6F89kWcsZf2I/LLdwx8/OWOC5c4jvyLAIk9FlSgxDhmlxM8ts3o9jDfvmPb4TqRjjcsF53n9PdzFKcShYWFDVmZmeEtGzcmT0V7WZmZYWFhYYO0/OLFi/OHDh16GLsNbezYsQfLysq6v/jii9kXX3zxMcrG3Llz95SWltbMmzfvjD/84Q8FTU1NpmfPnnWjRo06OGXKFNEb0F599dWsn/3sZ2fNmTPn3X79+tV/4tt7gwYNOu8HP/hBj7lz5+6R9knxWQSpSvefSgRB0NkYU93SfihaF2yyAt88ZBNZjKhgZIuLwLoIHEc2sYg3tt22RWVdKF9dkWKunxKbmFixv3MkFAL2P5o7TkS4IvZwny1wYF8w25TwooQYVsdFcrltWD3MP2w/9d2VPZFmVjg/pH2KS+ixvnGiJAIMGmCvfKba5MY2bj8xH+x1Twkw13g0NTWJRJhCgaBLGIYnPBuyadOm/unp6X8pKSk5mkwma+19FRUVHSorK09JEL2wsLChpKTkY3dJRVtATU1NVkVFRU5DQ8NVpaWlO6hymsFRtAvYmQcqiosRn2ifDZjJiLbBz1CkcKTSrgt/5R3awnzC/MDGQEpuIOGjhAdGHGEZaM8ua48VZpcTDVx/JQKEs2PPAzbP0vnAymL+QTGLlcX8pepRIgwKRGwtY+1zBJrb7oJvPegLJ77sNqh2Yb+oNQ8FBeYXbMvVN1tUc6LStg/rS8YOW6cqchQnGyUlJR+r6FC0JPQlA4o2jSDwe+hWeuGXlKPIOyyDESrKX6w+RVI5oUB9pvpGibmoXRdxokimbcPezpE319i72pIC66dPm9F2LmsitQMBBbtPebhNMv92HQjJuvWFqx1Y1meMm+tTqvrostWc9eFqU38kVKGgMX78+F7JZHII9jd+/PheLe2fQgbN4CjaLGzy7SLeLkKNZXgw0kxlgWA5zmcsCoxlQDAfOf8liJsBsvvdXMIs9RMThb9Z/UQAACAASURBVL6RfBdcmResvE9WgYviS0GtNWq+uIwGtj26ZRNb53Z7lG+pFARRW5xAj2tL6qvkXOLrE5bdtH2E7cJtXFCAyyDG8VWhaOu4//779955552V2L7c3Fx9oK2VQAWOos2Cu+XEmM+Schcp9BUJkERQBAZu4wgHJ6DstlxluWwPVYbyhfIjKuOCdGxd/ebquMbBRyDa31NBEClhKPUh+h7ZcgEj0PYxAH3xycpBH7h15ZMtpeq4+uvKkPhkilzHsN2eXc7+bRpfsZcqcYhltqJMjj6Xo1CciKKiooaioiLxSwsUpyc0R61oU7Bvv7AFC0eMqNtbbMCsjRQUWaSyP/Y2jghy0VrKD2qbjx2Xzxzs/mCZF0ldX8InmTfJmFHj50PSfdFc0mn7h0X/bbi2URkArC3fdjC/sTrSNeaznij79rrmxCx1HEI7lP/U8eMKgkhAnU8g0tLSTCKRSHmmTaFQKFoSKnAUbQaQbHC3ZkSfpdFqSSbE1RZXF2sffpaIIYwUcf41JzoPy0qEGEYcuTZs21gGjvKJ6wNXRpJZ882SSAUq9V1SFmsf2oD7OaEZV1DC9qENTtjD8q7jkhpfybxTa4wqg7VHCUgISUaI22a3L12DXF+4dvW5HIVC0VagZzNFq0eUscFeJkDd2uMi9nEECVYGthU3gm3b4chztI8SV1yE2yXI7DZ8bu+xy2Ik0d4uJfKSLJekL9J2IkiILEfoKaHGiTSsvE8mwacPVPu+4wvXKyxHkWxfv7msCiY+uKAHFvDg2uF8pdrC+oIFXag6kgCMSwS5giBpaWkmPV3vXlcoFK0bKnAUrRpRxNHnNhFXxsHnthEMURn4Q32cXy5b2Hcswo2JFKq/ttjDhAaVPeHGQCKMoM+YYJJExmG70IZUzEn2Scmi7/4IVLYCI91c9sPHL3t8MGHM2cXmJ262x1U/TiYO28YJHYlYdwkwWKY5a8O13lxiyyf4QLWh2RyFQtGaoWEaRasDRlypyKyPiMDsQcHjSxKkt89IiAtnR3JbS1SPI/7Qvg+BprJMlC/2tjjZIKodyl9KRNjfpRk2n3KUaIy2SdcpZj8VvnKZC3u/j19Uv30yK7AM5Ztr7TdXeNm2JLDblAj+VPgngTSTB+fLtT4UCgz6Q5+KloYKHEWrAxV9luBUXqQ5ccT5TpFAjDBywIgWzNbALI5rHKnINyac4LZUErm4QlBSXuqnKwLvyhBi7cXNFMUtG/mQ6rbC8H/fHmZvS0X/KLjmjjoGUwEqOyopC4Fl6KCQ43z3OZ7hOQrbL8kYKhQ2KioqOgw+f9DAY7V1p0S9Z2dlhpu3bP2XihyFDRU4ilYF7LYJH1IjIZRxIpY+GYC4iCNAIDBixGU2fNun2qBs2wLLlRVqjl92O642fDIZPrdG+YpwLiMWl5xzY+DrG9wW1zcokl3loD+uecWyEVw2UeoXNhYwkBC9hpk651DZSJgFo9rm/Iv2QR+wutT6twMkQRCYxkb9CRCFG5WVlenHauuCJXddU3Nen/ymk9nW9neq0ib9Ym2ysrIyPY7AWb9+fccrr7yy/7Bhw6o3bNjwpk/dJUuWdH344YcLX3/99ezGxsbgrLPOqhs1atTBH//4x/sKCwvb5cFyyy239Fi3bl3XHTt2bG9pX1TgKFoNEonEp58hucAECXbhjy729m9T2HbsetJoLyQOcSOtGAHBtmF2XcRdSuooSAiwb/aDizJj+zGyj/WPIpzQNtVHmD3zicS7Mm6USGquyONAiSPYFkfkKSLuKgfbbE4WJwiCz4gF+9jBjmfsGPDNrFBz0lzALBcnqFwCFzsmqEANlrVxCa0I0flToZDgvD75TRd97szTmugvWLAgf+LEiftWrlyZv2vXrozi4uJ6Sb2pU6cWzZ07t/sNN9xQ+ctf/vL9Xr161W/fvj2rrKysYP78+Xl33333vjj+1NXVBZmZmS2SKq2trQ2ysrLaTJpWnyJUnPbA3o7m+h7Vwy7G1C+zc7YiMkKBIk6UsMBIjf1SAqqcC9i4YL5RpM03km9/lmQzsAi1JEOD+Qwj83Cf/efy00ViOXLpQ4BdIhCScFdGgyKxmF0JqPmK9lHrmLIl2e+yiRFyCLgGJOvbZ8xcWRKsTVtIcuMq8YUrLzlmqeMM65drzqM3VioUrR3V1dVpa9eu7TZt2rR9w4cPry4rK8uT1Pvb3/6WfOihh7pPnz5997x5896/4oorPjr33HM//trXvnb4qaeeemvKlCn7o7L33XdfQc+ePQdmZGR8vri4eODvfve7bratIAhK77vvvoIRI0b0y87OHnLHHXecKa03e/bs/CuuuKJvdnb2kN69ew989NFHu0T7GxoazNixY3sXFRUNysrK+nxxcfHAn//852fYNkaPHl385S9/ue9tt93W/Ywzzji/b9++A3/0ox+dWVJSMgD2uX///udNmzath2xkTw/oWUpx2iIIgk+zNlH0FgJGbeHFGXsOICrrS/q4dmAbEsKCETubcNhiIE4EH5J8GJnlBAJmC/PR9hNu4yLS2HZIeLF9EnGA+UAJPbtvnF2OxFKgRJfLdzjWVDvYfpcQwPZzYgobTymhxupz/ee2Naeuzz67Pbus1BeqPhSiVPZGap9qL4JExEuyWdx6xwJPCkVrwuLFi3P79OlTO3jw4LoJEybsX7ZsWb4kQ1leXp6XTCabbr311g+x/fn5+Y2flOt611139bz55psrN23atG3SpEkfTps2rc+TTz7ZyS4/a9asHl/96lcPbtq0aduUKVOqfOqNGTPm4Msvv7x9xIgR1d/5znfOrqysTBhjTGNjY1BUVFS/fPnyt1577bV/3XbbbXvvueeeooULF+baNjZu3Nj5jTfeyFq3bt0bTzzxRMWUKVOq3n777axnn302GZV5/vnns994443s7373u1XiwT0NoLeoKU5LUFmH6PYyCWA0PLLhIsqwLLRH7adsuOxL2om2Y/ttUBFZKJw4W1CYSEg5t93VH+iTXUcS/ab66dou6QuWIZGSOl9S7DvOnF3Kls9YUHMIyW+cNQL9sAWsbU/iJ5UFooII3PqPhAcFTgxi/mF1sXZhuTgBDcxGnGPCJwiEHcsKRWtBeXl5wbhx4/YbY8yYMWOqb7rppuJ169Z1uuaaa45w9d5+++3Ms846q851K9mcOXO6jxkzZv/tt9/+oTHGnH/++ZUvvfRSx1//+teFI0eO/LSNa6+99sC0adM+zfqMGzfubEm9cePGVX33u989YIwxDz744J4lS5ac8dxzz3UcM2bM4czMzPCBBx7YG5Xt37//gY0bN+asWrUq99vf/vbBaHt2dnbT8uXL37VvTfviF79YvWDBgvzLL7/8PWOO38Z30UUXHTnvvPNa1UscNIOjOK0Ao8SQmLvID0ZEfaKMGJmFxMTHlg9cZFrqh2+EmsokuepJt1NCLirvmh+s31zmwiUAOUgi39Q2F+y1xEXPXWIwTptxI+3SsaREK5xzV39cwozah322v8NjyzUumNiKMweSzEpcWxhcQvxkCJHmrjGFoiWwefPmzC1btiQnT558wBhjMjIyzMiRIw8uXLgw31U3DEPRYn/rrbeyhg4detTedskllxx98803s+1tF1544Udx6g0ePPhY9Llz585NOTk5jR988EFGtO3ee+8tGDBgwOdyc3MHJ5PJIcuXL8/fs2dPpm3jnHPOqYHP3dxwww1Va9as6VZTUxPU1tYGTzzxRLfrr7++VWVvjNEMjuI0g4TsYtFeVwQZ1vPJTgTBZx9upvzC6nP7Jb7Y5aXCApbHhKGrTSzKDsUnJIyYAIHjJxE1sB+uueK2+wgoH1Dz67IH15bUVyoTJilrb5fWsY8XCZpLcCUZAyob4To+uWMT2vJBczOD0Ddp9sZnXqg60Afp2oKQnIcVitMNc+fOLWhsbAx69+49ONoWhqHp0KFD0/79+xN5eXnkyxH69u1bu2nTppxUvRAgJycn1ps7MjIyPtN2dIvd/Pnzc2fOnNlzxowZu4cNG3a0S5cuTffcc0/3V155paNdPplMfqbtb37zm4duueWW8JFHHsnNzMxsamhoCCZOnHgQljvdoRkcxWkD6p5u6uIb94LK3boB23C1yUWMKR854sn5AwWG1G+XiKHawuDTd1ge7uPKUZkUH5EEMybcOqL6FBeQUGP7sTLRdk6gUPaMaZ7/knWCzaftsyvb4cqKcJk5ar1hdeHx4hJ7rjmixB8GKPw5AeOz9jhfOPicU12+uNaZvnxA0RpQX19vVq1alTd9+vT3N27cuC36++c//7mtoKCgftGiRd24+tddd92BmpqatFmzZhVg+6uqqhLGHBdCL7zwQo69b+PGjTklJSXHsHoR4taz8fzzz+cMGTLk6O233/7hpZdeemzgwIF1u3btynTXPJ7N+vrXv15VXl6et3Tp0vyRI0cezMnJaXXRC83gKFocQRCc8NpmjGCH4Ym/5yCNdMJ2KOIctWG3R2VA7LKQcLsyKVibXD0Mrmi0TTo54uKTvcF8hogiR7BPWB99BB0sDwUqRpglAkga1bfbldrm+sKJShgNh6KuOXCtOW69ScfGZQPrExwbrD3sOOSOTwmwte3qJ3b+aU72g6qDjUN0DuTOJRjsetgxhfliZ8S4+cX6mkgkTFNTU7PXq6L1Y/s7VSdd8cZpY8WKFV0PHz6cmDp1ahXM1Fx99dUHy8vL86kXCBhjzIgRIz668cYbP5g5c2bPPXv2dBgzZszBXr161b/++uuZZWVlBUOHDj1699137/vBD37wweTJk8++4IILar7yla8cfuyxx7o+/fTTuatXr36D8y9uPRslJSV1jz/+eN5jjz3WuaSkpG7RokV5W7duTRYVFYmeo7npppuqhgwZMtAYY55++ukd0naNMaa2tjbthRdeOOF2ui5dujQNGDCgzsdOc6ECR9FioKJ91EUY+8E86kf0wjA84fduIIGBhJgiLTbZtOvbvkbbKdGD9Q/acokcieBxCSxoiyI6XGSbi4ZzkXkOHNGCvtr7YH3YR44oS3zBiKvPfp82XcKTivRzxJ6zSwl9iZih6tttUgQd6xN2bErFJ7W2uX5S4I5XSlDbvlO/0QM/c2LIJYSh8KD6CEVyc0QYF6CgYJ/b9cdB2x8KCwsbsrMyw0m/WJt0l24+srMyw8LCwgZp+cWLF+cPHTr0MHYb2tixYw+WlZV1f/HFF7MvvvhiMmMyd+7cPaWlpTXz5s074w9/+ENBU1OT6dmzZ92oUaMORq+Jvu666w7t3bt390MPPVR411139SwqKvr4wQcffMf1EoO49Wz88Ic//PC1115LTpo06ewgCMyoUaMOXH/99R8+88wzXdy1jRk0aFDdBRdccLS6ujp9xIgRH7lr/C/efffdzEsvvfQ8e9sll1xy5IUXXhALtFQgaI1RliAIOhtjqlvaD0V8BEGARiOxclyk2UWOse1YXRdZgHWgfYpocdFyuM/XZ1iHI7sY8cKEJOdztJ8SMhLChfmDtQ99gWW5eYzIpqvv0D/MH6rP1JrA6sJ2MdLrmjduXWCCmRPRLhEDEdmCP46LtSk5Nu1MLOe77bNrvVBjIZ1vrC7mD/cDwRQ4uz7zgNWJO6eYPdc4c9uo+tF2/XHQNoEuYRgetjds2rSpf3p6+l9KSkqOJpPJWntfRUVFh8rKylMSRC8sLGwoKSlpVW/4Ot3R1NRkiouLB06ePPnDGTNmVLa0PzZqamqyKioqchoaGq4qLS0ls0uawVGcckjFjV3eV4jHKQ+JLNznE8G0y0h9oQSP/d3lh2SsOLLusuVL0Ll2McLsY4fym5ovan6p/mG2uHGTbrPtuODqZwRYxpf4Ssr5jJvtAxzPVATVuKCBtHycMqk+D/muxzjgxFjcrI4PJMedou2hpKTkYxUdrRN79+5NX7x4cbeqqqqMm2++udW9PS2CChzFKQdFhOBnY3BiSkUxJbDr+pBgKfGBNppLuihIMze+NiNIiTX0h5tbiR2XPXufT59d68VXZPlCmo3i1iTlLwRcg651GLcvnC/c3FHbuAwCtbagTeibPe7U2HIC4GSJsVTVaa5/vse5jz17XKOsnYocRWvA+PHje61evToP23fttdfuX7Zs2Xun2qdTiaKiosFdu3ZtmD179rsFBQUn3MaXTCaHUPUef/zxiquuuuootf9UQwWO4pQiujfbJhcuAhY3ihllCaLPmL3mEj+f+vaFX0pepJFqV1ZD4htGBDnCiNngbENI7EDyKcnEuLImVH0sG8X1yQUpcYwjQKSRfyyTg42vXcfeHif6breH2YP9wPzG5gCzActTgQbbln38+WRY4DHiGgNJP6l62Fxx8MmIuxAEgfiWMtc5BxszFTmK0x3333//3jvvvBO9LSs3N7fNP1QWhuEmat9LL720ndpXXFx8WmXsVOAoTgkgKfCNMkPyhZEx2F5zIpBUxgjajV5kYJejosS+GRfYJhbtx3ymxkUigChb0C+MIGJjRM0Nt6+5GRaX0KJEE1eHyiz4ZFYgaeX6CG275o4SJC4bvmsxFeRUItglfrjWqd2Wz9r3gX18U8EBaty5NeUTAKHOVbA9aX9c48kdN1yQIPJVMzmK0x1FRUUNRUVF4pcWtCcMHDjwlL4JrTnQl9YrTiqCIEB/38a+0PkQTYmwMcac8AY1KnsASaErUmy3AfdREXLYrziRXYoIu4ShPWaUOIJjAfvvIuz2n90WLMP5B4UrB5dP9quqYX+gz7CMPU7cOpRsg+1y+7B1g22Tkl67HmyHEmYQ0og7Nlbc+FG+UWUgOP+xMbX9kfadgsRfeOxgx3IYfvb5Mx8BL/Up2u86ZiQ2uHNQBGrMsfNjWlqa/maOQqE4qdAzjOKkIZFIkBE++3NckQOFiV2Oi+xKSWO0z74Qc+SduphjdiUEkyMW0Ae7vxTpsG24osrUuPhEmSUR8+i/3S71q/SSeZO2ydlxkU3MD07cunzm/IIiHJblMgFcW9I1EgdwHXKCh2vHJZSi+pLt0r645huWkYol1xzBLIfLDibWYKDAdR6C213HNmbPZ+1h6y6RSJDlFQqFojlQgaM4KbB/f0ZCTCWZDXs7RfSxbIQkI4Jts33nCAIVucREFhRyrn77kjysPQkp4sYV890XEiLo8hUrR9mP255dN26kHwO1XmGbPnYkItnXvi84IeGaS5eIlUBiwydrFWcfbAdug2JPWhcbLxjgcdmI6zu3dihfqayOK+CkmRyFQnEyoGcWRcqRKoLIRazti70kGh2XoEjKcaQFii4fseISFBLhiJVzCTyJIILtcuQVEjK7PS7K7Ir6u/rfHDLpAy5LA8mtK2Mk8TNOwEC6/jDYxxvWjiSIQPlIrS1XBgY7pmBAwmdcsTJclkWS4aL6w/nmAjbO1PmPO3+4zoncXEjO767zEayrIkehUKQa+pIBRUoRBPhv3HCkWUoUuIuyRMRIiAWMREoECRRcrnalBCmynwpwfZdkZiBxchFQuB2OEyyDkcfmEEHMD2ou47QD68Ql0y4B3By/uLqYuHAR4bgZPIm4wtaHNDDhW9bOJjRH+Ena9wmswPOcROTB75K3qUnXh+/4u4CtbShOU3W8K1oe+kOfipaGChxFygAjqDYoUgtJon1rGxX55rZTEW6OYEObXP/slxdIgGUapJFTbLv9fAqVYeEiulA8uIgFZoubD+r5GdgXKamDZThbXFtxyJrPvGG+poqw+fge+cCNFSeqMPJv+4AFLqRzRvUDO0ZhXe64lR6Pdn8psk1llKIy3HlC2j/KJwjX2FK+u+bJZ12eDMFB9Vl/K6ftoKKiosOg888fWFdbe3LujQXIzMoKt27Z8i8VOQobKnAUKQH8vRmbKEXfo/1UBiO6wFHkyhjzGQLNlaUinhyBkkbcoV2XeKKyOFgZKXniyJSrD5xdSQRZSr648hLhykXF4Vzbb6aSjJXLd1fGghs7F4mk+sdtd0XAubawOaeEhe0H1bYNShT4iA7sOzf3nMi3y2LngzgihfMJ206dT6B9ro92HXu7KyDBBXB8+4Htg8caVg/rQ3R+5/oQ2ZX+Do/i9ERlZWV6XW1tcNkNM2u69uhzUifz0N530v6+aHqysrIyPY7AWb9+fccrr7yy/7Bhw6o3bNjwpk/dJUuWdH344YcLX3/99ezGxsbgrLPOqhs1atTBH//4x/sKCwvb/O/lYLjlllt6PPDAA2cac/x4LigoqB8+fHj1nDlz3j/VY6ICR9Fs2PdPu0ihfZGD4KKxFAnDLvq+EW/oO2zXtu/qHyVkoLBzkWAXoYU+xIlwY9kNqc3mkHjKD1gvDrHmhJRLuHFk2NU+bMfVxzgEWDqe0BZFPu2+So4ZiXjHgg+wHXsf9AuW54IZEeAr4aUi2yWmuLoUXD5H82GfAznxyfmNHbNc+3HFG9yH+UfVoc6fHIIgYK8TitaDrj36NBX0GXBaE/0FCxbkT5w4cd/KlSvzd+3alVFcXFwvqTd16tSiuXPndr/hhhsqf/nLX77fq1ev+u3bt2eVlZUVzJ8/P+/uu+/eF8efurq6IDMzs0XSmLW1tUFWVlaz2+7Xr1/tM888s7OxsTHYvHlz1pQpU4onT57c+89//vPbqfBTCn2yTxEb9m8ZcKQMEjlXtJnbJ40WcxdTioy5SDsmCOztElACiSI5tl8um9R2SKY4e5TQ8ekvRmziZCA4geWKUlPjKxEudnlMOPnMhUQIwrKYfxyJhWV8xT13HEVkkxJt9vi4BDkcC2odYgRest6oNUb11WceuVsvsXMbdY6BnynxSdmF26EfcMwk50HMb8onah92LEuOMbgG7LlOS0vT10grTiqqq6vT1q5d223atGn7hg8fXl1WVpYnqfe3v/0t+dBDD3WfPn367nnz5r1/xRVXfHTuued+/LWvfe3wU0899daUKVP2R2Xvu+++gp49ew7MyMj4fHFx8cDf/e533WxbQRCU3nfffQUjRozol52dPeSOO+44U1pv9uzZ+VdccUXf7OzsIb179x746KOPdon2NzQ0mLFjx/YuKioalJWV9fni4uKBP//5z8+wbYwePbr4y1/+ct/bbrut+xlnnHF+3759B/7oRz86s6SkZADsc//+/c+bNm1aD8n4JBKJsFevXg19+vSpv/baa49cc801B//xj390ltRNJVTgKGIBChuOXNrbXRFWCSTEx0d0RLY4P1yEE/Mv2mcTO64s9B0jPy5yC7dxZIPaL50HKRnyJdxS+GRXOEiEsERg+LZDiU1MhMGy1PrgIBV3VD37MyfEfIIUENT6cW33OQ/ECRa4fKF8oEQXdbxxxzjlo+uYo4QvnFfX8ewKLEC/YXBL6icE9kPRCkUqsHjx4tw+ffrUDh48uG7ChAn7ly1bli/JHJaXl+clk8mmW2+99UNsf35+fuMn5breddddPW+++ebKTZs2bZs0adKH06ZN6/Pkk092ssvPmjWrx1e/+tWDmzZt2jZlypQqn3pjxow5+PLLL28fMWJE9Xe+852zKysrE8YY09jYGBQVFdUvX778rddee+1ft91229577rmnaOHChbm2jY0bN3Z+4403statW/fGE088UTFlypSqt99+O+vZZ59NRmWef/757DfeeCP7u9/9bpV4cD/Bzp07O2zYsKFLRkbGKc9K6S1qCm9ILjhc9F0S1cYioZRAwmy5SFxc37h9MIop8cElVjByIImMQgIlIVUYQZG24RJTvoLThk9/ubnByrqyDpwv2BhI4Mq0UGsCE86cf6caPsdcGMpfDsDZozIk3Hj5HJeuuUpVYADb7kvqOeHDnT+x8q7ADPQ57rEgKe9z7lMofFBeXl4wbty4/cYYM2bMmOqbbrqpeN26dZ2uueaaI1y9t99+O/Oss86qc91KNmfOnO5jxozZf/vtt39ojDHnn39+5UsvvdTx17/+deHIkSM/bePaa689MG3atE+zPuPGjTtbUm/cuHFV3/3udw8YY8yDDz64Z8mSJWc899xzHceMGXM4MzMzfOCBB/ZGZfv3739g48aNOatWrcr99re/fTDanp2d3bR8+fJ37VvTvvjFL1YvWLAg//LLL3/PmOO38V100UVHzjvvPNEzThUVFdnJZHJIU1NTUFdXFxhjzIwZM3ZL6qYSmsFReEH6ewUcAbMvnhGwCyR1wfe9yFEkiCpD+YxFr6XCSkpeuIs5FFDYdknbnA+wj5Kxi/b5ZlQkxEUayZaQQaxPlC9x/PFFXLImIZ5ROa5tTqy5jjWK+NvHNbfG7UwF1haXKfCBz7pwjaevP5z4ira5sibS9l3zhM2X7/EDy1HnCt8Ah23HtWYUilRh8+bNmVu2bElOnjz5gDHGZGRkmJEjRx5cuHBhvqtuGIaixfjWW29lDR069Ki97ZJLLjn65ptvZtvbLrzwwo/i1Bs8ePCx6HPnzp2bcnJyGj/44IOMaNu9995bMGDAgM/l5uYOTiaTQ5YvX56/Z8+eTNvGOeecUwOfu7nhhhuq1qxZ062mpiaora0NnnjiiW7XX3+9OHtTXFxc+9JLL21/7rnntk+ZMuWDL37xi4fvvPPOWM8kNQcqcBRi2BFXV2QzKkNlW+y36dhlXRcyye0Ztn/YZ8oGRziwfS5fuL5FtqiHjan+SMkgJiAxe1JS54r+Uv5ydSV+Y/sp36XZM2rspGuLI/WwDDdPnMDHyrvmSkrOuX5BIc+Nia8IkfYR++wSC662qPMQJ3Z9ghLcWFCZEcymj+CJG/DhIF1zkvN/BCxTR11HqDmLxk2fyVGkCnPnzi1obGwMevfuPTg9Pb00PT299NFHHy146qmnuu7fv59daH379q19//33M6PsRHORk5MT640a2G1fEaeYP39+7syZM3ted911VWvXrn3jpZde2v71r399f319/Qk+J5PJz7T9zW9+81CHDh3CRx55JHfFihVdGhoagokTJx6E5Ti/Bg4cWHfRHo2UZQAAIABJREFURRfVPvzww3sSiUT4ox/9SPT8TiqhAkchAvYyAVuoRJBE8+z6sCyW3aHscATZRXIpH4MgQN/eE4affc0pRlRskmgTKNgGVo/rGxRL0BY3bhSJ48SeRMhSpBHzl7JDEZ+oHBxvqh3MFuUbRFzhZm9zEfc40WeX0HMdN66Iuf3Z55fkffvCZYoom/AYxoIU0mMGjhPWpmvtwHa4PkjGHbMlDexg7btEELZfKi6obb7HDHZuocaEm5s4x5JCYaO+vt6sWrUqb/r06e9v3LhxW/T3z3/+c1tBQUH9okWLunH1r7vuugM1NTVps2bNKsD2V1VVJYw5LoReeOGFHHvfxo0bc0pKSo5h9SLErWfj+eefzxkyZMjR22+//cNLL7302MCBA+t27dqV6a55PJv19a9/vaq8vDxv6dKl+SNHjjyYk5MTO5Jy1113/c+8efO679q1K8NdOnXQZ3AUTtjiRkIEbPLsEhk2WYG/geOKgmMkHZIfF8GH9WA/7H3wP9YPjOjaooe6OGPt275ioAge5RsX1eYyIdQYu+xzfbTtc+U4YYf1ndpGCSRoiyOCnD82KJEosQvtUGsN64e9XSp0KWBzSs0ftm5dxx0lrjEyy50P4HcXOab66WrTmP99kxrnp4uMN4ecwzmBARTOtkuAR75Fdu2sC3es23OPZaNtP+G6pcaRE1fweqE4vXFo7zsnPYgep40VK1Z0PXz4cGLq1KlVeXl5J7zG+uqrrz5YXl6eT71AwBhjRowY8dGNN974wcyZM3vu2bOnw5gxYw726tWr/vXXX88sKysrGDp06NG777573w9+8IMPJk+efPYFF1xQ85WvfOXwY4891vXpp5/OXb169Rucf3Hr2SgpKal7/PHH8x577LHOJSUldYsWLcrbunVrsqioSPQczU033VQ1ZMiQgcYY8/TTT++Qtovhy1/+8kfnnHNOzU9/+tMzy8vL32uOLR+owFGwsCO7EqKBkQvfSClFZjny46onJcTwAusipxwBxC7imADDymOCz+UTB9fcuIg9VcbeLo1cYwRNKiyk7WIig1obWBmpIMCIm6+YoMAJRzh2FHmU+oH9AKNr/ClxxfWFgktEU+VdotoGt4ao8hIxz/ngEvzSNl1++4pXrA6cT9ccQB8psUi1L/GTW/+JRMI0Np7WP7HSblFYWNiQmZUV/n3R9KS7dPORmZUVFhYWNkjLL168OH/o0KGHobgxxpixY8ceLCsr6/7iiy9mX3zxxWTGZO7cuXtKS0tr5s2bd8Yf/vCHgqamJtOzZ8+6UaNGHYxeE33dddcd2rt37+6HHnqo8K677upZVFT08YMPPviO6yUGcevZ+OEPf/jha6+9lpw0adLZQRCYUaNGHbj++us/fOaZZ7q4axszaNCgugsuuOBodXV1+ogRIz5y1+Dxve99r3Lq1Kl9fvrTn/5Pv379RL811FwEcchSSyMIgs7GmOqW9qOtQxL1dokOuyxWnrMnESVYpBBrk4o+c3ARd8yOS+BgZTB7UuLGzQNnPw6gTYrkceSPm1PXfHNrRCqmfYQUFDyu+lLSS/lN+WsLJ7iPio5z/YV9xspJBAvWFzu6Lp0bakylgoebPwyudUY9awj74QpowGdPOOHiI+4oSOu5xosTx1wb9g+ucnV9jkvJuVIzOacMXcIwPGxv2LRpU//09PS/lJSUHE0mk7X2voqKig6VlZWnJIheWFjYUFJSIspMKGRoamoyxcXFAydPnvzhjBkzKlvaHxs1NTVZFRUVOQ0NDVeVlpaS2SXN4ChQ2OKGKwMvWvDiiREz7iKJ2aJEFlYXqwc/Qz8pwAgiF0m3fcZIpjTazdmh+km14RpjqWiFNuG8SiLjEvKFCQpfG3ZZ6A8c21TAV0By++PUxchoc0QstIGNlY/whp8pexyp5upyZaE/8PiAAkRyXEGbPtuxctK2UrlmKduYiDuZoPoLzwPw/A99S8V6V6QeJSUlH6voaJ3Yu3dv+uLFi7tVVVVl3Hzzzd6/fXO6QAWO4jPAxA0lZFyEBNrlyIx9obXrw4sct48i+T7Rda4/WESRE3mw79Ceyx+MdLl8h+TAJZJcYtYuGxFDuy4HaXSdI9TQnmT+OLJGCTJMjGPtc3ZccJG65gikOL5gPjSnbango4QsRm7h+sPm084YSX12bceEWXOEd1zRIF0bWFmJkJMEYCTne1cQwVdA2ecaqp+RrWgNKBSpwPjx43utXr06D9t37bXX7l+2bNkpe46kJVBUVDS4a9euDbNnz363oKDghNv4ksnkEKre448/XnHVVVcdpfafaqjAUZwA7IKCXSSloKKUVEQV1o32URfMaL/9nxJSLhLL2YMkymcsJAQoGl+KdGCiEJaHPsO+uEQrJQahHSnJwtrB5kI6Py5wa8TuAyUaJWNm+0mBWuPQV4mtOKJDOn4S25xdKeGmRDQ1/nbb0r5Q/bDPXZRNao4lbUoFN/TJpy4X5OCEIvYZ8wFrjzo32Pspm9ixj/nMQbI27Zc+GGP0mRxFynD//ffvvfPOO9HbsnJzc9v8IgvDcBO176WXXtpO7SsuLj6tMnYqcBSfgoqWxYlcYgSWIjERonu4OVtY+9HFzhZhNqmRRlgxgWS3A98sZPfPFQ21+0sJvKgM9Zpq7DM1FtAXag6ocaDGXLIWKFKLzQUX5eXAiV1KXNki0o5yu4geJu4xAWq3SQG2x5E+OAfc+ofb4gKbH2w9YfD1AzsGOIEqBXesxBF/2LHOzRc8Dqh+UGsGCwbActRxQwVCuHGl+kQd55xNyfEM+0CdF6hj0hhDPuOlIkeRChQVFTUUFRWJX1rQnjBw4MC6lvZBCv0dHIUx5rMXPJ8IJiRakBhj5J+64FPk3nUR5og3LCch+JQPWLtYOe5iDYkLR/JgmxxxdEV1qf75RFg5cYK1jxE1SPw4wo/5IhF7nK+cGMLadpF6+zjg/G+O8MDajHyjiLSUzNt2KRFF+UAd8/Y2TNhL1hrmByeyXMcFVg76Te2j1g/c5jvH1HkS24cJXcp3e5tkXKigAFXPJUCoNuw/7tilgF1vYLs+v+mkUCjaLvRMoCAvghzx5citNPIICZJdliJa8OJGEQsq6s2BIgIUIaYgERYSMUCRZAmpofrhEngu21gfJKSEI0xRWy47UvII1xRFvH0gFZUuf3yInUvIcfNDBQOoaLrEJgZX/6kAgMse5yc2hlz7PnMt9a85oII1WLlU+BdnvdvtU0Kf8k+6VuF213qH9bi1l6pggkKhaL1QgdPOASPQVBkILJsgIbrYZ0jmXRdSHz8p/yihZZeFZMsn6gwj15hdl49YX1wE1S4rHbfmQGLTJaoouxiJ4TIGEviKpKgtbBs3xhKRG9nk5t+1TqFtCWmWriEXYHupJt4waIKJHOl5y6eci4ynijxjawg7r1K+UULC55yMwSUeJPXttqlzKyWcKNj2qGPS9kFFjkLRvqECpx2DughA4uAiMZKLrm0Xu7BJI8dcNJwjnTbxlESxfaOrGPnxIRepEiMSkUnNrcsWR7Zd4+UT1XVB2u7JIjiYiJFmMnyzVJJsD3VMSrMcvmVc/kjm+mSST0iAqfUiFec+27Fy0rISUewjeCl/fMrFDSRQcGXmfOaH6os993q7mkLRfqEvGWinwN5YFid74HMbAydO7Da4iKoraoxFee1or0SswUgh1b5dluoTLMchshs9QMuRZi66LfUB6wfsIyzrCxdhoaLV2DxgPmPb7bcruQQDtoY5f6F/rgyET5RakoHBysO54954yK1FrH3YhivA4bLpmldsTqljmLJlf5cee656dvAEfub6zc0pnCtq7G3fOGDrjVrTkrIUXH7GsWHboa41XHvcHKelpekrpFsA+kOfipaGCpx2DsmFCSMc0XeKeEblKBIgIbawfew7R7ggyeDILeYD7C98CxfWJ6oPXL8oMYGReI5M+IhUrm2XDew3RyR1IFwCFxMRmLCD5TESKukX5Vsc8uYbLHDt9zmOqN+EsctLST8XXHD5RrXvuw/OpYvgYqLMR+TY7VF+UfMD68YNDEBfqHbhucne5hJh0H+XH1E5W5hxotjnHAF9oARr1DYH7G2XilOLioqKDoPPHzTwWG3dKblPMDsrM9y8Zeu/VOQobKjAaYeA0VI72u0T+cUIOCYuMBtUW67f28Eiq1jb0Tab7FG+YUIN2gnD8IRXUbvIeRxQxAC2A32mSCscDwlB5sQb1jbXHkcQ7ToUiYNrkpp7zi5sIw7Z8SX2UkIJ15FLlGDCjfLPt5+ceOB8wspTY4/ZgJ+xftmkOtqOiRDKDx9xRB1/0uPadSxRx4ZrbUOCjwkd7viEvlCf7bLQJtUPzrZrPXHiDSvLXV+oNoMg0CzOKUZlZWX6sdq6YMld19Sc1yf/pA789neq0ib9Ym2ysrIyPY7AWb9+fccrr7yy/7Bhw6o3bNjwpqTOzp07O/Tv33/Q888/v33o0KHHuLLjx4/vvXLlyvwFCxa8PXny5IP2vltuuaXHAw88cKYxx3/HqVOnTg19+/atHTVq1MEf//jHH2ZnZ6s6bwZU4LQzuH4ZmoucUXWizzZc5Ie6mMHbszBAEsRF9Lhf8eaIvHQcfEQERdYhsXERXZdPdnnbR470uwizpB9U+1jb0X6KzHKgSBfmu9RPaR24fqgy3HqA5TjfqDmWEFyXKKNEMjyu4xB+1zxSxyS3DfqNzRsUgi7/sOM3IsNSUQP95ECJCegX/MytD247doxJ+8CJUh8BzR33PqLd3s4dm1ibKnJaBuf1yW+66HNnntY/TLRgwYL8iRMn7lu5cmX+rl27MoqLi+tTZfvIkSNpTz75ZO6NN974wZIlS/KhwDHGmH79+tU+88wzO5uamoJ9+/al//d//3en2bNnn7ly5cq8f/zjHztzc3N10caEPoHXjgAvpPCCAy8K0T4O8EKVqgsI5yvnIxcFhfalwgD6gJXl/MdsuoQMB+rCLiEvXOS2ubDbgOPlIug2KNEMSThFfqm5cvlOHQNceSl85ojbF7c+VQYLQMSxyyEV6wwLOGDAggXYsefjo8/5kPNZUj5qQyLemwPYpzjn/qh8nH5ix6hkfrHrgM+YpPqcp2jdqK6uTlu7dm23adOm7Rs+fHh1WVlZXirtL1myJLdv3761P/vZzz54+eWXc958880MWCaRSIS9evVqKC4urv/CF75w7Cc/+cm+9evX76yoqMiePn1691T6096gAqedgLoQuC4kPrYiYNHVOPW5/c1BnHGQRIRtpNpHipxhEWwI11hKMgQ+vnL7XBFsX/tYWawvUuHi256kLhQ3EoINiaP0OPXpJ9e2BL6E20VgJZkXWF5inxI5mGiyfYgzlpgvnO9xzhvU+dFXaEh9kta1gw82fIM5cduXblORo4iwePHi3D59+tQOHjy4bsKECfuXLVuWn8os39KlS/PHjRu3Py8vr/Hyyy+vnjdvXr6k3pAhQ2ovu+yy6j//+c+5KXOmHUIFTjsAjJhRRAJenFwXJY6USSLcUrKLResk5IMiu7B9LpPjinhz/bTHO47w4IgnN0+u9qBfPgIFts3dfgL3Q9IJy/hGZbn5o9a3bZ8jmS7BJ/HPJyNjjwE3t3Bfcwitb6YQAvPd3k4df5Tg4443SeaJOzdIjyVum90naQDG53xo98PuA/VZ4jN1HuF8ofZL1gt2HvC9jth+cPV8EdVLS0tTkaMwxhhTXl5eMG7cuP3GGDNmzJjqI0eOJNatW9cpFba3bt2auXnz5o6TJk06aIwxEyZMOLB8+XKxgDrnnHNq9+7d2yEVvrRXqMBp47DJHEU24DMsPhFvjCTCixy8wEftYn9cRI/KDMG2JcIF1rN9ooiWjz3bJkb4XbD7yhEOWM7HrhRwnKg54si4SwRi9bC5oIQBBjguvkIO7qeOCxcJ5wg8176UzLrGXgruuKL84Eg39R3z3bXWIeCYwuPeJ7DhIxaovkmAneekosTlG1XPtU6pcyH0mWsbnjdd6wSW445pbB4lxzzcZow54SUVaWlp+hs57RybN2/O3LJlS3Ly5MkHjDEmIyPDjBw58uDChQtFWRYXysrK8ocNG3b4zDPPbDDGmK9//evVR48eTTz55JMiAdWc4JXiOPQlA20Y9gndGINehLCLC/yMkQ7st0Yg2eFeJ2zXdwkKn8ih/R0TGLAMbCcSfFh/sYeP4VvVMFIL2+P6hPlj23X1h7OH1XGVaQ4wYSolb67+YmU5UPPtqgPrY7C3R+uE85sT8hwRh21J7FLHOkZapetHMkeudUwRa3gOcc1RdJ5xlaeEGNzOfW8OOJEA1yZ2nMAxhH5hY82tWdc+ylcqWADtQf+4qDW2JjCxRK1fCq51a4z+Rk57xty5cwsaGxuD3r17D462hWFoOnTo0LR///5EXl5e7JcjNDQ0mD/96U95VVVVGenp6aXR9sbGRrNo0aL8r371q0dcNnbu3Jl91lln6WuvmwEVOG0UVOROEmmzQV24KDJGXVwlRIkjSVh7LrEGiQJGWGFfsPbs+lD82K+Otu26/KPGEfMHzgk1XlhbLnGAjTXmBzaeWNuc2JSsCWytSvpO+U2RpMiWTY6ptc/NBeYLR9CxsbHHB5ah6lLkl/vuIoUuYSEh+tRadZWljjfYvouUS4ivPe8UmedEm0s0SNcf1wdu3VA+YmPvOs9zAs4m//b6oc5rWB9dY0b5JSlDiTnqvErZV5HT/lBfX29WrVqVN3369Pevvvrqanvf6NGj+y1atKjbrbfe+mFc+3/84x+7fPTRR4nnn39+e3p6+qcL8dVXX83+/ve/36eqquq9/Px8UkC9+uqrWc8991zn733vex/E9UGhAqfNQvJr5j6RSexixhFajCxSgBd2SthAoiyNTsLyGPmnLojcZxsUUeDGiKvLkUyOBEj8o8QMR3Y4e5S4ocpxNuFnl6DhxtW13faPI5ARIZYQVeg39AEjpC6xhtmjykpFDGcTE/twH9U/+7tEeNm+uMSjaw5tO1j70A/KNkWQpSTdp47UJjxGfY5VyXHHnZN8+23X8bnGYD5h26h1BM81ipbH9neqTvp9gHHaWLFiRdfDhw8npk6dWgUzNVdfffXB8vLyfInA2bZtWxbcVlpaWvv73/8+f/jw4dWXXHLJCb+R8/nPf772Jz/5Sc8FCxZ0u+OOOz40xpjGxsbgvffeS4evie7fv/+xGTNmqMBpBlTgtEG4CLAvmeWIK3Yh8yED2IXV1bbdHkXcKVFktxGHtEBIBAwGSPqpizNHFDCS5opCQx+4eY1DsGH/XGPuI4AgOMEhXd8uMuwCta6oMi4b9jasnN2OFJzoxMr6tiMVV3HXkAvYuHPHPecXJXqkxwHXvm1fsh64dSMJukDfXcDWLWUPO89yQQ5Xe64+SIIAnPBzrXmf66HCjcLCwobsrMxw0i/WJk9Fe9lZmWFhYWGDtPzixYvzhw4dehi7DW3s2LEHy8rKur/44ovZF198Mfsjnt/5znfOhtt27ty5dcOGDV3mz5//DtyXSCTMlVdeeeiRRx7JjwTOm2++mdW7d+/BiUTC5OTkNPbt2/fYtGnT/kd/6LP5CFrjQR0EQWdjTLWzYDtF9OyNlMj4wIeASNqwy8BbvbA2qbZdJIWLRlPbfcQFtd+XaGPbKb+w7S6ib9eFWQnYX4y8YL7FEWScQOZErnTOXDahfa4/1PcgCE54loyyTQUVJPPIrYuofbgdsxdt5zJR8Jk9rC9wHOBtTHZZH5JOBQqovlH24ogJu0x0yylll5oPTqRSx4S9Jlzrl+tHcwI1VPs+519s3u0yLgGCiWpuLXDndFgWtkH5aszxuW+NfOgUoksYhoftDZs2beqfnp7+l5KSkqPJZLLW3ldRUdGhsrLylATRCwsLG0pKSvR5lXaCmpqarIqKipyGhoarSktLd1DlNIPTxiARN8Z89mJjkzUfYO34EHu7DnyeJYJNOiiyaNvBvlMRXa7PsC0qWogRUkwkYJ8xIiiNZsKosu94U0ICkleJaHKRFm6NRHNrk3U4xxSJcwkmjmhT42XbkAh0aAu24yJ4WJ8wEkfNO9YnLFgg7b/tAydsXSIVG3N4fGD7fM5BkvJQ6GHnAVi2OaKBAkbepWJJYteuT7WHgTsOsH2YCKTqcO26jmcJOEEI98P1BdugzneKeCgpKflYRYeiJaHvSWwjCILA+/3+FDmU1IFtU98pm/DiG/kAH2qN+mWTX0iQqAtlVJ/qa2Sb6pfdFkb2ODGF2YC+wbIY8YP9dF3QbWACjCqH9YEiYjYJtH3mhCLWlt0O5Ue0PRX1sPGlIrsSoiUhQq76VFvcusP2u/oE/ZWuHYqAY31zfYfCAu7zIbyYLSm5tsfUd+yoMYfluO1xxQ02f9Sxy9mi1gE8J3FzLxUB2LkPg32+x86z1DqnIDn2sTr6GzkKY4wZP358r2QyOQT7Gz9+fK+W9k8hg2Zw2gDsk7mdkaAu+NRFDSPDGLmCr3jGhEQEF0GyLzz2K5fhRZp7aQIUDNF37JW90X9snLB2ITA/7HGDfaP8hb66yA5H9LD5ptYARoKo/mDlXILQB5E9+MpxjkT5iNmoPLcGKZuwTYlPEgLls53yQypWbfgQUtgeJsZhWWoNYWvSXvPYOuRIvguwDep4wfopaRfONdYO7Dtl13X+xLZxoowbB2weo3OktP/cWrDLuHyXzC02zpgfsN2oru2H6xxob7fPcY2Nsd8SrGjluP/++/feeeedldi+3NxcXRitBCpwWjngrQIYoYggIXqQAHAk2xYJFLF3XXwpXyBJwC5Utn2K6EtJMtVHn4sxJDkRoCiSEHHKFlYWXsw5H+061Jhi5aLPGHnD7GN9dYk4l7/2djg+nB82kbPbtPvjEprQtuTZG4xINgfYsWn30YZrXn3KRG1xQQYXuPMIJTai7xLSza0j13nKJayo4w3zxe4XVtdVhzt/2z7CtQz3S9t2nbuwNqm27TapduMII2o71ldsLXDHCdVH26ai/aGoqKihqKhI/NICxekJvUWtDcJ1kXTVhfU40keJFIxQwIuHC9iFkhNtrrJUOZcPEns+0ck4fkjakghYaftcxBPahISLInoQUjGGtU2RM1e/JO3D/RIh6GrfRfykQsOnjsQOnD/MLhfsgJ9doo/ygduP+cTto0gw5gd2fGBz7eo3VYbzHzuOpQEDCtQxIT3fSuA7T5RPlG0qmJGqsZG0LfVXoVCcvvAWOEEQXBYEwZNBEOwNgiAMguBasD8IguBnQRD8TxAEx4IgWB8EQQko0y0IgkeDIDgcBMGhIAgWBUGQ09zOtDdwF24ocnwucBLCLrGJXdg4EiDxDdrDvlPbJOB8dflMXYCpSCesh/kS56ItEYacb6lAc8SAa1/UP2xNcFF47DO0KfWNI8Eu+KwTqi7VJlyrPgEBTphKSGZzRJjveQETZlJQ5xKf+ZOcCyTziZ0j4wY+oE2Jn5Qdalwk8+Q7JxIfJQG7uEE9DipyFIrWizgZnI7GmM3GmJuJ/bcaY75vjLnRGHOxMeYjY8xTQRDYP4j0qDFmgDHmCmPMNcaYy4wx82P40q4BL/AR6YK3ZMCLLRVlj/bBz1wEjopsU1FSyo6rn3GzM65yLhIgIXJxRBskP1IBh4ktyo5UvPgINyieYTnpWMYhDj5iD4qgyGdMGHFj74rocutNshapIIBEXGP9hb65yDwneLiyPvu5OtR2n/VBjTPXhivo4DqvYXUoSNYNFYzCjj3Mlq/Ys9dGc85bti3ufEPVwfbZ22CgjrOJ2Y6+c/3hbFJvi1MoFKc/vJ/BCcPw/xpj/q8x6AknMMb8lzHmF2EYPvHJtuuNMZXGmGuNMSuCIPicMeYqY8xFYRj+v0/KTDXGrAuC4EdhGO6N3532g0QigYoIW+RQ98zDV8hKRIpd1t7HEQX4nIJtD76SMyqHPasQhvT9/1jf7Qu+pH+cTfs7drF1kWW7ng8RhOMa2bAfyndd+OOSGAhs/rF90Bes776Raoo0USQV7ndto+q6/JMKbC5ggAUQfPyLbPgID44Eu4i4lEDb/eJ+I0fiLyxPrUFsndnHCVbHXp/U3EiDBNAuHAvYH+y7qx1XOe5cR/kKv3PnM84n2x53LnD5Ix0byh51vHF2XeMK3+KpUChaB1L9koE+xpjuxpj10YYwDKuDIHjRGHOJMWbFJ/8PReLmE6w3xjSZ4xmf/w8aDYIg0xiTaW3qlGK/Ww1sIWCTfkgAbJETbYfEOAJ1YYQnf0xMUBcZjlQY89kfHIzqcQ8yS3zHRA5WFyMimKCIPkc+S3//IbIJ/9vjCL9DQH/tMcfqRBdi7C13mD1OMFLtwLfPccDEjP2mPLsMtl4oYkGJJWjLR4xh4yUBRqxdpJAiwVLRBPdxx6nEJ3uf9Mc+OYEiFfJS0hv9x0QHdT6QCl/XOc8F6TnRbgtbh/CciR1/Pscb3GaLTcwHiV14XuHEDQQ2Z7a/8LwP5xGOB3ZuofymrkUuf20kEgn9jRxP6A99KloaqV583T/5D1+vV2nt626M2WfvDMOwIQiCA1YZiDuMMdNT5WRbABQ58KJhixzsQmGDirhxRMJuA7OLERN4wcZIGJd5osbBJnmYgMAulljbsDzXXwnJx8bORYYpkshd1DG/KQLC1be3U8QKE68uUgPnCPYXI+mU3xRJ4sYUjjlWH/qD9QUrH4fwUPPCHZuwPLVG4VxSx5Jrzl3lov/Y2+moPrv8tb+nikhS5BaOjWtdUOVsf7ljkjuPSvqKiR+sTy5wIgg7trHjklqTdnlurql1RtXH1iB2TbHtc8KQOgdR45LK9dheUFFR0WHQ+ecPrKutlUeLmoHMrKxw65Yt/2pNIuc3v/lN3k9+8pOeR44cea2lfWmraC2vib7XGDPb+t7JGPN+C/nSYrAvlMaYE25XikCRdO4CCS8Gkoghd0GC5TACQPXPti0pg/3HLnqUX5jFQUvjAAAgAElEQVRdSshIL3KQwHKkCLv4SkUW1iZcI9AfaMN1cXeBqovNBwbu9cmccOLgS7Jdc4sRPEiiOBFF+WgfExwJpsYTrjN4LLj6LO0/Vc8YPPKObbf3SdeWpBx3PGBzw4k+yia3xik7nACBxwQ3l1LA8yx27vcZT+qcifWN8wnaxj5T5altlA3YZxekwhwrr+BRWVmZXldbG1x2w8yarj36nNT7+w7tfSft74umJysrK9PjCJz169d3vPLKK/sPGzasesOGDW9K6uzcubND//79B0Xfu3Tp0jhgwICPZs2a9f6ll156zNcHxclBqgXOB5/8LzTG/I+1vdAY85pV5gy7UhAE6caYblb9ExCGYZ0xps4qnyJ3Ww+oCxR3oYBknbtAnS4nbwmBh+UwQsKtEUpUwLaw9iW+Q/LDkT0fcBFQypfos12fIx5xfePa993vmj+qvpSo2PU5UUKtiVSdf+JGhjlSjYkcbJ+kDy7fqPUUFy6RSZ2/fAm3JCATB82py0ESoLG3+9jlghvSucWCRa5zDFef8kcCSVCOKie5Dpwu18nWgq49+jQV9BlwWv8w5oIFC/InTpy4b+XKlfm7du3KKC4urpfWXb169RtDhgw5tmvXrg7Tpk3r9dWvfvWcHTt2/Cs/P/+07nMqUFdXF2RmZp7WB0KqXxHyjjkuUr4UbQiCoLM5/mzNxk82bTTGdA2CoNSqN+ITX15MsT9tBtizHzAyaYybvGNlqG0SSC5O0oukry9cBA4bG/uzlNRLSRf0yW6bEkzSiKrUH6quLwm162GRYB9fuCg31h6sy5WXguqDK1LfHBITx3dqHxd9lxzb0n64shZUHS5bAUFF8VNFcCOfXIibtaLOUy5i7TqP+GRYMF+oMi5fOMLuI1J8wYkHbBvlHxb48mkHBgSw8YHzrG9Wazuorq5OW7t2bbdp06btGz58eHVZWVmeT/2CgoKGXr16NVx22WU1s2bN2r1///70Z599tuPatWs7BUFQWlVVlYjKvvDCC9lBEJTu3LmzA2brlltu6dG/f//z5syZk3fmmWcOSiaTQ771rW/1amhoMHfddVdhfn7+4G7dug2+7bbbTniUo6KiosOXvvSlvslkckhOTs6Qr3zlK2fv3r07Hdr93e9+162oqGhQp06dLrjmmmvOPnjw4KcLedWqVZ1LS0vP7dSp0wVdu3a9YPjw4f22bdv26XPvO3fu7BAEQemCBQtyL7roonMzMzM/P3v27PycnJwhixcvzrX9eeSRR7pmZ2cPse23FOL8Dk5OEAQXBEFwwSeb+nzyvVd4/MwwxxhzVxAEo4IgGGSMKTfG7DXGrDbGmDAMXzfG/MUYsyAIgi8EQXCpMeYhY8yKUN+ghgJGm23AqD72UDbMdHCCwDdaZtvjLhx2Hfs/Bu7CGvcCjWV74lywsX5i/toXQrs9jqDY+6l+cZFsyh9sfrDP0DZFoLgXLVD1OJLHZVIosuGy5VpDFKRCgmqbKw9FN5xHuI3qK9UXqj5mAwITgXA+Ux0YsetL1p2rPThmdh/gfs4G9WIL7jiRBjGoY8QnCET1QRrMkoI610JwogJbx3DNuo5p6A88n2Frh1tfkj5w8xSGoYqcNoLFixfn9unTp3bw4MF1EyZM2L9s2bL8uG/MSyaTTcYcz2zE9Wf37t2ZTz31VJe1a9dWLFy48O0//vGP+cOHDy95//33OzzzzDM7pk+f/v6sWbOK/vrXv3Y0xpjGxkYzatSofocOHUp/6qmndq5Zs+aN9957L3P06NF9od01a9bkrl69uuJPf/rTmy+++GLOT3/60zOj/UePHk37/ve/X7lx48bX161btzMIAvO1r32tb2PjiYmoGTNmnPW9732vcvPmzf8aP378oZEjRx5YunTpCaJwyZIlef/+7/9+MDc3t8VfPRjnFrULjTF/s75Hz8YsNcZMMsbMMsd/K2e+MaarMeYfxpirwjCstepMMMdFzTPm+NvTHjPHfztHgYA6kVOENToBYydn7M1ULlJIXXiiFwJQhIATUj7RcayO1A518cUuktTFlmrfmBPfCoZdPKP90Vi5hB12oaVIBvSLusBz5Ms1DrC/ru02QcRIAhQz0dgkEgkRIef6RZHNyC70C26Ddqi1y/lIHZfRdqw9iW1KoMO1QR0XUlEP/aX8s7djtrn5wY4Zbo1jAt3lV7QPewlLNA/cszjYPMJjJtpuzykmMH1FBjd/2DjBcxFVjzvGoe9coAy2T/nM9cslVCV2XIIVOzbs7fA8RNXF6jdHOCpOH5SXlxeMGzduvzHGjBkzpvqmm24qXrduXadrrrnmiI+dqqqqxMyZM3skk8mmYcOGfbR58+bsOP40NTWZZcuW7crNzW0qLS2tnTt37pG33347a8OGDRWJRMIMHjy4bs6cOd3Xr1/facSIER+tWbOmc0VFRfaOHTu29OvXr94YY5YuXfrOhRdeOODZZ59NXn755TWR3RUrVrwTiY7Ro0cf+Pvf//7p24gnTZp0yPbj0Ucf3dWjR4/Br7zyStZFF130KXe/8cYbKydOnPhp2e985zsfXnHFFZ979913M3r37l2/Z8+e9GeffbbLE0888Uac/qca3mGIMAw3hGEYIH+TPtkfhmH40zAMu4dhmBWG4ZfDMHwD2DgQhuH4MAw7hWHYJQzDyWEYHk1Rn9oU7CwAPMFiZC6qQ0Uhoou+Mf97EcZO/nabWLQsqo89JI5d2F0E2u6P7ZftC3ZRgW1ICRy23UVA7f8UEeRgz5ctdrAxp4iMixhjbWLjYtu0+xz5Bd+OBetSgo8i+NQ42OPuIkiUoID2qLWMrStqbKEdFwGy+0L1lQNGjrHjCCOI2JqBPlLrmdoP23IRWKrfXB8oHznyip0TuPUJ7VPrw97v6ht3XpKcg+y6VFvU+d0eG2rdc8DO+ZxfUlFJjSl2DNrb/3/23jxIsqrKHz9ZuWdlLV1LVy/0ZtOg0Nq/sVFjNGRGx4URUBwMncEFg++4YCAuYzi4AA5jYI8x2oIa4iDTMzhhYAR/GEoQarhroMYMMQOKoo0sLQ1d3V1dXfuWVfn7A8/rT37qnPtuZu+QJyIjM9+7795z1/P5nLu8mLKzbFAz+nNY1oHbaagvoGSz2WXX2nL6yH333Ve8//77K1dcccUhEZF8Pi8XX3zx6Fe+8pWB2Dj+6q/+6tmVSuXPBgcH/7/f/va35X//939/eN26dbVWdVq7du08znwMDg4ubNmyZQbb2sDAQG3//v05EZEHHnigNDQ0NK/kRkRk+/bts11dXYu/+tWvyl68q1evnh8ZGcnr/1/96lfFiy++eNMZZ5zx3Gq1+mebN29+rojIww8/jK9nkRe96EVT+P9lL3vZ9ObNm2e+/OUv94uI3Hrrrf1r1qyZ/+u//utTAs+fLqeoPSMFp8E9YMukQP/zCWuWYbeMDMatEpp9iDUGaWDJyo+ld8gT54FcDyCGiFbot1XeHJbDWWXj6WDlzfrtlYtXFlYYCyghQbbqko8e9yQEvkKEy8qjJR4B4/hD7cTTOwZshdqjlV+vnqy2w2laIC+U1zQ9LPHaGl9LA8BpwuVkAV/WV8c0Kw8WOeQx0KpPq+/hu8JCenEcMeTCypf+bva52Gc9MpbW3mLiTGvLGiaTaXzpKseTNp5j3FbdhPT02lrMmIRpczgN234J6OkrX/rSlwYXFxczGzZs2KbX6vW6FAqFpZGRkWx/f3/qQQG33Xbbw9u2bZsdGhqq4cEC2Wy2rvGpLCwspHb0XC7X0NgymYx5bWlpqamB14oDdXvta1975tq1a+e/+MUvPrpu3bqFpaUlecELXnDu/Px8QzrVanVZY3/b29528Ctf+crgjTfeuO9rX/ta/9/93d8dPFWWcJ4aWrRlmcQYPTYAPBBjI4s1aBYQ8IxBGsht1uhbRssDrx6os+JJA3QxnsBYQBELPiwjjflC3TxDHMpjDHBhoIKfZgeoEGALkQVP12ZBH8ZptaFm2mIaCLTahaVLrMToFgJfHtj3ysIrHyZQMUQolIdYwGg9Z/WjGCIZ0iEtrDcOppGb2PhjJLbMeaxIGw9DY3yrfY3TiCUwXjwxY78V1uuPXpu0yiMtPatM9dlW+nxbTq4sLCzInXfe2X/99dc//vOf//wB/fziF794YHBwcOG2227ri4ln48aN8+eee+4cn5o2NDRUExHZs2dPMkvyP//zP5VjmwuRc889d3Z4eLjw0EMPJence++9pYmJiezznve8qOOq9+3bl3300UdLH//4x5983eteN/H85z9/dmRkJHry453vfOfIk08+WfzkJz+58g9/+EP5ne9850greTke0p7BOQXFMkDHgiwcrTQLEo/W4FvPh/LVTJoWOIkBNaHwad5Vy+B7BtIjlRYpQlKSBiI4biud2LbjlXfI8xqSULoxOsUCUYvAHAtwarWdZkAb6+oRl1b0igGLzYwZae2m1fEnBHyb7duhtunpmUbK+OCQWF28/5pmq/F511hvT0J11Gp/i40zrf20EkdIQuUcImGolzcuN6vLM0UOP/HIcXeit5LGHXfc0Ts+Pp5973vfe5Bnai688MLR22+/feDDH/7wgVZ1Ovfcc+dWrVo1f+211675l3/5l70PPPBA6Qtf+MJQq/F58rrXvW58y5YtM3/7t3/7rM997nN/XFhYkPe+970bXvCCF0yef/750zFxDA4OLvb29tZuueWWwTPOOGPh4YcfLnzsYx87I1aHwcHBxVe96lWjN9xwwxkveclLxjdv3hx9zPbxljbBOQ3EM9ihAZvvHQ1otcCz5cGK8WY3Y8wtYOB5lj3goPeaJUuesB5emmnxh+LgZ9OAWrOeZkzf0jstLowz5KXl9K36iNHNa/dHQ+Jj2qBFKEN6pl3H+146FqlpNp9e+DTihGlZ9Rwi3DH17uU/Te8YabY/pb3sk58Npam/vfT4Gf7tAf20NmSN7xah0vChcvHGm2YJlUc+WnVehJw6IYklSp5tSCOMx8op8nSVoaGhWrFUqv/ktuuP+ayFJcVSqa6zJjGya9eugRe/+MXj1jK0N77xjaO33HLLql/+8pflF73oRS29tLNYLNb/8z//8+Grrrpqwwte8IJzt27dOnXdddc9ccUVVzyrlfg86ejokG9+85sPvfvd7173qle96uyOjg45//zzx7785S/viY0jm83Krl27Hv6Hf/iH9du3bz9348aNs5/97Gf3XHTRRWfHxvH3f//3B7/1rW/1vf3tbz/YWk6Oj2ROx06aeerdOmMnW4/jIdbSIA+MxgzyzZKJELC1Tj/yjGom4x9AENJJ0wndj81LzHOcF++ZWPDJIB49vlzGoXqNBckYr1fe1ulhnE4saEDgay2BtPLFOltpc15iybtH0jjekL4isuy0LUynGSITIrgh8BkC5mlilZ/1X8PqgQ7eQReWfqhnCORZbdzLi9ffPGLAB4DwGBMztmiZZLNZF9wyqcMwzRIjr25DunpjLevGebJE909iuvpcmt4sISIrsrwPeW2Bx06vX3Danq6Wjl7aof7NZevp4onXnp5G0lOv18fxwr333vvsXC737S1btkxWKhU8KVd2795dGB4ePiFO9KGhodqWLVvmT0RabVkuX/ziF/s+/vGPr3vyySfvL5VKx70TTE9Pl3bv3l2t1WoXbN++/UEvXHsG5xQSNlz4zaAODXBanJ4RwP8iNkBm44XhLWCBefCMkqenpsd6oCFKMz4e4E1LV5+NJYWoD4IIftbS2zLwrH8aubHagJVfPMq7GVDDwDGkA+fJCmc9z/FYJwZaesbEj3kK6e8RVCstvu/p5YXx+omVD69vxZYLXm8GrIbCxIQPxRNDpmJ0TiPCGM7ql0iMLNLm6cmEitP3gLyVJwtYW+XhtccQqQmFSWtLfN+qNyYmXnl5dirtd0zb9PpmqD9z3Dz+xpA/Kx68pm2kLSJbtmyZb5OOp7dMTEx07NmzJ79z587Vb3nLWw6eCHLTjLQPGTiFxDPgIrbx8ACcZ3DxvmU4Le+kZdxCIJzBghWXJahDWn5CwJTzFQIKlj5pZYrPeSRFw6SRHuueB9w8Xb17nF/vFDwPbKSRVAvYeOXG5WXFGyI1Vr647q3ysoAogo9W68jKA+oQIkkxQBavN0PSrP4Wascx10P54rTxWihuLy8h/Xn2JtRWQv2CdY+RWPIRqqe0eD3A7tWxVfYYJ/fJNDLEebDG2BABiamPZvMfGz/GlUaOvHJOC2uNJTFl2pbTUy677LL1lUrlz6zPZZddtv5k63eqyPXXX79q27Zt5w4ODi588pOffPJk68PSXqJ2ikisERIJz+DEeL+stC2gHuPlw3AWMcPweD2ko5euB4pjgJyVbhrJaKUc9blQeqyjBUo4f2n5YEDM6YSMeKjOmilzfhaFQRjrzPkLiRK2GJDF8eGR554jIATIOA86M4Z5Cr3IMtQGYuvJA5oegY0hx2mAzWvTFvAO6cPPpfWBZvThvFiETMOFwDsLj28hsuHFZaWX9pJgK7/a5jR+1E3EfvEwksS0dJhQ8nXUJ3Qdn+Ny4+dbaQsx6XN74DS1Diy9WdLGXY73dMRVEdLUErXTWfbu3ZsbHR01X3S0YsWKxbVr17b8rpu2HL20l6idRtIMuVEJGcVmSU4ILIfiZ6CDeoWAVRrw0TS8uC3dPCKg9yxS2KqOMRIDXC1iyOkfizpOA88h3a3rMel58aSRCM679eLVEAEOAWwGpVY8IQLMz8SCIi9/oby0IlYbRz1DBMXSjckc6mw9G9ILn7PS5rjTxKrHEHHBZyzCYsXv1bOlcyt1GEtuMc1m+yCmFZOO14ZQz1D8XnxWWR7tGBsjHgHB9Fvtf97YcbTxtuXky9q1a2ttEnP6S3uJ2ikgzRIcC3h5YZpJsxnPUxoAT4uvlfympZ/mPbOut0JmvPAx5deMbmnxxLQbDeOB+VZIDLY/j+hiOO8/6xhKK1a8dmkRSZaQ99cLG6u3B7pbkVYcImnpxsR3tHV0PAFf7HgQau+heo59NkSGYsaH2HqwnAihccn6nxY+tr5i25VXlt7vUPxpup9o8sRyqrzosC1teSZLuxeeAoKeav0fA1xFfK9rq2AmzWvrxRMC0lYabOw4PQQnITDvXY/xFIY8bZimVQ6eN9yKnz2Habp7omG95SNePtLi47CcJwYNIfDeKrBgbzZfi32+WYlpP156XlvwgGxs2TCA9fTz2lsakLb6mhcu5r6IvXfOklB/9sosjSSEwD72vVCZchu22qMV9milmfEkRrxxywvrXfPImzdLkWYfrLrhMT4mb559s+o4Ns6QzWrG+YL/2wcNtKUtJ1/aBOckSiaTSU644iNsYzxz+jxLq15Eja9erzfsLWBQ4gFdjCctHdYX0/AMb4hAxJAcjjvGo89AJ7ZuOF/efY4n1oNrGfs0wBjrVeSjrS2Q2AxYjwEaXD9c3mnAD/fVpKUZ8mhbbdxLOwTuYnS20rbIv9dOvTrAduE5D2LiQb1C97w23gxA9+LidsdxZzL2iWhcBvxMqOy8NK0xJC2fMUS5WfGIpwf6+VmPTHGeLTJikRNLJ4to6LiCbdJ7niU0xsX0yVA5W6dgekTM04n7l9rSY0mG29KWtjQnbYJzkgQHeSU5KhYI9zyeeN9Kw0qPCQzHyYO7vjMCjxpOA5EIOEOgwyubNLHitQCJ6sxhGMSGgLtl/C3A7xEIC3x54CON5GF8HgCzdNffaWWbBlg4XOga6xMClVb82oYYDFnvs7H0RH28d4GE+k8oH2ngl9uU9aJcq6y53NPauJWfNB25bBCQcTyehMCtXktrI9w2vfzx9Zh2xX3bAqteP2L9Q20jlixaANh7VtuKVX+YplUmXt1xe/KeD8VntR8M59238s91ENMuYhw0Xru3wqmg/WVSEiKRVruy0mkvV2tLW06OtHveSRYLtDXjfbLuW4AJ73mGyEsHT57SZzhuT2dML2Q4WDxDaaUdEm9mzDNGni4hcM56xsaT5hnka2mgyyvTUFlb7SNE5kIEMO26V29W2wvVM4MMFQUpHtnx6jy2LL02nNaWWVevzi2g57VfjDM2/Xq97i6diSGsaeK1Jfwf02+tMco6bMJLF3VP67d8LQ3cxoxbaeOc1y7TxibvfogsI8E4FnWM+sSMZ62Q4NDYHytW/jEOtntW2wzlgwlgGqlsS1vacuKlfYraSRDPCHoDPk6hxxiqNFDpAcpmwFIozWbFMmCewbaMhqd7iAhZ4CtGr5BgehZY9XSIBX0hgOXpapVLCCzptWbbQygsv+Gc04olq15e8DumztMAKJaNV59W/TKgCr2wltOLbQOermn5VEFvdYz3GfWLBeCcfhqoTSMjVt2GxgzWOdSPWW/PiRDTF7zwHoC2ntPw1jHoXh4wDf6dJh6o57zg/Vb6rDcGpZVrGnkNjSmeDbHi8tKI0YPvW/Y2lNbTVXbv3l0YHh4+IRhzaGiodjJfKnrXXXd1XXzxxWcdOHDg/wYGBhZPlh5taZQ2wTkJEjIOHvCOAa4qFohrxviFQIilUzMGL0bfUDgr/TRJy09MmnyNwZClY8hDGWN80/JgpcnPWNe9+FEPTx8LXBxNW7P0iPV8eiApVFYxZR/SOVT3HAbzkAbo0tqJl44nsaAew1rPaxxWfmL08PRptS9bEmqrHulISzem/beql6VPWhxpdZ1Wn8dCQu3WInBW/psZ563wsW2tlTbZTBppEmp7zwTZvXt3Ydvznrt1Znbu+DRGknKpWL/v/l/9uhWS873vfa/z1a9+9bNf+tKXjv3oRz96SK9/8IMfXHP33Xf3Pvjgg79Ji+MVr3jF5GOPPXZfX1/fSSU3mUxm++233/6Ht771rYdPph6nirQJzgmWkBcv9BJC/X0sPL0hby1+pxn/UF6aBWyxYDYtDMfnAdK0PHC6FuhPA5/NllGzxjtGF/SgxoL7kJc21AZjyTk/E5KYNp8WJgZopoULAdtQ+Vn9mOshBGKtMsQ4cb+Gpss6Wde8fKTVu6V7SJoluRaZCumMz7E0S7RD7deqT4/oeuVoPe+lzXnz0go5FFoB1EfjnNDnPVuTplusfeC2HtLFSqvZdhQr3tiswnttn84yPDycm5mdy/zHxy+aPmfTwHHN9G8eOdjx9k/eVRkeHs61QnBuvfXWgcsvv3z/17/+9YFHH300v3HjxoVmnp+bm8uUSqX6+vXr2+/NOcWkTXBOsHieXf7t/VdJ8+y1eg8NW5r3rFXwEgIxGM4CBJ4ObFgskGEZ71jPpwcevPhZLLDbLGkLhfFIiQc2FBxbeevo6JDFxcVlpwvFEDrvXmiZGuYDf3tvXo8hBKFrIYKm8ev/kB6oD8YRanMhEJpGLkPpWvmyyJMFsFk3r81Y8Vrp4nNpZBj7OvddT8/YMccjJKyfR0YsXRWkclyxhFHbk5W3kITS4N9pZR8joWc9YhZjb7Ae9AAYHhs4H94YHSKkabYU4w0RIe4LVvvD9pHWFp5pcs6mgaUXPGf1Kbtka2xsrOOuu+7qu+eee36zf//+/C233NK/Y8eOfTfffHP/zp07V4s8NSsiInLTTTc9evXVV49kMpntO3bs2POd73yn5+c//3nXlVdeOfzyl798ApeoWbM/N9xww8ovf/nLQ3v37v2ViMill166cWxsLHveeedN3XrrrUPz8/OZd73rXcOf+tSnnrzqqqvOuOOOOwZKpdLSRz/60b3ve9/7Rk5OCZ3e0j5k4AQKnwqlA6F1KpT+9kCXZRBQYo1NM78tgoXXUTcPiFjxom74nWbwYvKNhgfT8YwU6+KBPSsOriMvX16eMU0PWGYy9vGjDBpCos96x+suLS1JNptdlifMJ7fhUH5YR6sPcJtmAsZxsE4oMUDCauNeHwu1FavOuc3EkDqvP6SROA9QMXnwiGqoj6XVs9XWvD5s5Zfj9QBoK4A9BPy9/GK63hjIzzJRYsG9NFimaWOkVS8WSeNPWplYz6eNo16b4d/637IHGFbHGA3jERGuQ74XIiwhcmORpJj2aNV7qG1YcbVPVDu1ZNeuXSs2bdo0u23btrk3v/nNI1/72tcGlpaW5Iorrjj0jne8Y/jMM8+cfeyxx+577LHH7rviiisO6XOf/vSn17zuda8bvffeex+48sorD7aa/i9+8YvuJ554ovCDH/zgwX/+53/+42c+85k1L3/5y7esWLGi9rOf/ey3l19++YEPfehDG/7whz/kj02On1nS7m0nQTyj4Bk8EVkG9kIDcWzaXnoxQC0NjMeC7JjrlhH2jBKnnQYg+BlOK6RnGglSsV7i2oqR9XRMA25W+TCIx3v6YWMc0isNfFrvmuAysYgbOgXYQcCS1p6tsGm6h9p2Wh+wnrOeZfBmPWfdt9qpBWBDeUm7FyofT+9Q+2K9rTg5fq9ssCw5PY/EKbjmMdcjHaH6snQJtQVPt9CYj2mpQ8IrU48cYBhON9TuYoTbGx6Gw+lyfVl66X+rTcWUm2ffvDq13vcWsmkWgfPyYYVpy6klt99+++Cb3vSmERGRN7zhDWMTExPZu+++u6tardar1epSNputr1+/vrZ+/fpatVpNGsUll1xy6H3ve9/IOeecM380hxv09PTUdu3atWfbtm1z73//+0c2btw4OzMz07Fjx459z33uc+duvPHGJ/P5fP373/9+9Vjk95kmbYJzgsQDdyrWdWtw5nuWxBgITwcLhFk6hgwA/vf0TCNFVtrNeL/SSE6obFsBgq2ECXn+ENygYUUgxWlZRDkN9Oh1j0DG5sfKH4t11C/mtaOjQ7LZbAPRwWv8W5+xiBjXr1ffTHJiHAAeYOcys+rDek7FOhLaIqzWszEkIu0ZL6yVLwwXKiMrTeuZ0H8mIiHxADff9/LBZCg0jnjg2eqTPBZap6Q1k3aMhEhYjIRskt5nHWPsAscVIsEWKUprt5bdSbM3uAzVamvcnr02H2PX2oTn1JD77jh2l30AACAASURBVLuveP/991d0Ziafz8vFF188+pWvfGUg7dnzzjtv6ljosGXLlhldLSEiMjAwUHvOc54zo/9zuZz09vbW9u/f357BaUHae3BOgFhg0wtjSYgopKWJ/z3y4YHgNNB0rMA+h/fKi8uhGYPtAVgrHINLSz/WMyYfDNpCBpEBF6dtPcPpYjqeWHmx8m+BsRB59YAGgzwkKHpvaWkpIUPZbHZZOS8uNi7p9khfCOh4gCsGsFnPWOUVal8hsqnPczuw6jaUl5i65+dj8xsbxiKYCPKY9KJOfM1bymvlKUSKPGLC91m8dhUDfq1ysMZXJrUWsI8F182MvUdDprzxA+Py7JFHeGPycrTXWMcY25AWbzO2vlnb2JZjK1/60pcGFxcXMxs2bNim1+r1uhQKhaWRkZFs6NlqtRo8OKGjo6PO9buwsLCsUeVyuYZAmUxG8vn8smvPlMMpjrW0Cc4JEvbOxT6TBkK8+DwDit9WOjG6HG/xgHyz4D0Uvz7fjDRL8Kx6ik0zNqxFgljXGMDPcVphPBJkge4YcJnL5ZIZGY5X07RmaGq1mplHXW7Cm7ixDy0tLTUQJCy/NNLqlU9ImiVMnEarIIjz5cWflpZF+mLAX4jYWP2bSa4FNpnghPabYVqhmV8mBplMpql30DAh9Z6xyjsUr17n8sNlalZcnnh9v5m2HCLlXhvy7J5XXlbcR0MEWqlHT4+YcLH6tEnOyZWFhQW58847+6+//vrHL7zwwjG8d+mll55522239RUKhaVWicXg4GDt4MGDeVyafd9991WOXvO2NCNtgnOcBQ0te2RRYoyN9xx+W8bPM7Ihz21Ix6M1OqxLSA/WnU8wCumiZe4BnBjA7xnIZskHf7NOXAahurbSCZ3slFZf3GZCnkwLoHoEJ5vNmjMwqmcul5N8Pt9wj8tBn0fig2CYAabO/qBu2HYWFxeTU+JEjiwVWlxcdIF7TD3EECNPNE8hcmrVi+fA8O5b4tWvFY4/PKZZIFAJAy+5FJGGesIlh0xy9TlsC0hmrVPuNC6tc4uYYZvBtLLZbMM9lcXFRZME6zXWg8cJLCuPqKSREG4r1vjPz3nEPY0Ae+NQSNLCcn+NJXuefs3o4vUZzCu265DuadIseXy6ym8eOXjct0G0ksYdd9zROz4+nn3ve997sL+/v2FJwIUXXjh6++23D1x11VXDjz/+ePGee+4pb9q0aaG3t3exXC5HNdBXvvKVEx/5yEdy11577arLLrts9Jvf/Gb3j3/8455qtXrcT5R7+OGHC/fcc08Zr23dunWuu7v7GTcN1CY4x1EQxOrv0JGzaV42CwSrhAwbgxGOS5/njeBWnCGdmhEGL55HMgQwPUBqpRUCECEdLYPHxCFkzCzgY6UbKk8GG1ZYNtJ6H0FmrGFmQdBpEU2cZcH0crmcFAoFyeVyDfqgzvrRY6lxyRISEiUheB/36yDpyeVyDbppXCJPee4wHQXBep3BtXUKFm5MxrLHevQAWOigBe/UOL3GpBjfq2EBeA+IqzDZDpEpJikYDy415LanJJVn4pA8cF1iGVskCe9xXbBoGGwLSEiw3WkZY3vHMPjOIUuso9BD/dYbx6zxDsdJnKHE5xmsY/1xOkgyQ2OXp583zrJe3Ja8cdRqxx7R8ATT8vqQ1VdDRC5EpLzx37PBll6Y96eTDA0N1cqlYv3tn7zrhMxalEvF+tDQUPR7aHbt2jXw4he/eJzJjYjIG9/4xtFbbrll1bZt22bOP//8sQsuuODsiYmJrB4THRP/85///NkdO3bs2blz56qdO3euvuCCC0avvPLKfV/96lcHm8lXK/KJT3xi3Sc+8YmGa9/+9rd/9+pXv3ryeKd9qkmmVYB6MiWTyXSLyFhqwJMslpfeA/DePe+5ZrxrIUIQo0to8Gdd2BiHnrfSjg3Pz4UMl/624o4lPCFiKGIDBesZBs5W+jHtJKY8MT3PyGJY7x6DQwSu2WxWcrlcAzDU8DiDs7i4KLVaTWq1WuIJx7JQIInXFfhiGWsYPl2NwT4fTKDpcL6wrapuuIxNvfmYfq1WW3YyHpYdlzmWPQN0LS8tQ2wD3GYR3Go4Breqp9eXmWRg+aHumE5HR4fk8/llZFLTZfKjz+NSQiYvWo8aP5MnLmetUy4fJCUh0edxFkhEkvrW/zxLpPnAtsnkCklU2rI5FI8oIJmyADLH773PituHNQ5x/BjWGmssW4K/0fER0tmKN80+Wc+ljd/W2MZEKFRG7BgKjele/XrkRq+dRgSnp16vj+OFe++999m5XO7bW7ZsmaxUKrN4b/fu3YXh4eET4kQfGhqqHc1pZm05vWR6erq0e/fuaq1Wu2D79u0PeuHaMzjHSazBOgRmEair8HtKrDis5zRub+D2dAp5tqw4eABPA8o8wFtGgsslTdLWpHP5MukJ6YnPWHFj/J4hxN+h/Fq68vMx5cF54bQ4nxqGwTWSB8u7rsRGP/o8AlMEsUwOLOLF161ysuoM84OCJAvjQlCu+VA9NK/5fH4ZmLcIDtYXetaZPHCb4/plIsdx6HVcmoX3ua8j4WYArASC6xjTxxkuJgZ6X8MwSVCyWKvVlpFIfB7rgpcicj65rLl88CQintVRoGrlg9tQrVZLZhxVsK3X6/WE/GpbwPwrIUa9sS6sMVTTZuHx1CJxSPJ4fLPIjtX2WI+0MdHSIWQDrDRDBCsmTU4D/1tL+Di//D+Ub25LofRReNkpt10MdxqRnGjZsmXLUR2h3Ja2HK20Cc5xEGvA9sLF/E8DxvrbAuehuPi5NO+YJUxEPCJk/Q/pGCJsKGkEzyJLbFRbMWyWsOHme1Y5cflzOVhxxeiC+dQ4mYSx151/IwFAkLy0tCT5fH4ZqFxcXJSFhYWGZWBcDxaJwTKxdON9GdZx01immUymAUSjjuxhRoJj7QlBAoHxK1DGQxI0PZ79wPq0PPxMpBC04kwUg36L4GBeuX4xXdxPgunzmMKzTVrPuFyQ60JJgJIob+YF846OCquMvDbP+UMdrTJVcqK/rfLBJZWoo9YJLofMZrMNZB7zwMvfrDxY1ywiY40Xx0JC4xu2d2usDv1PSy/mf0ycng3xCIuIPdMaSifGVnjpcNv05OlKctpy7OSaa65ZdfPNN6+27p133nmTP/nJT3afaJ1OdWkTnOMgHlANhWWjH5tODPnR/2kDdUhCxoD1jjEYIR1jJMb4xZRHWlwxdZJWtnwtRNQ4jGWM04RBgrUpX8Q+plnvo8cbZ28YICIgVYKDHm2LXFrxI/BVPRRoMkHSdHHWQeO2yksBNuqu9/FENSZluCQLQR4CXS5TBue8pIxnLzh/WK56HTe9czlhXlkHi/RYRBN10DLhuuB9UDxjg+0H47cICMfLM1C8fJPJJ4ZTcqoAkfeGhYTrTnVbWFhouIbxI9lH0baIZcAzPLx3JgRorX7D8XOZp0nMmN/MeBeKx0sTwx9LsuaNM9a90LPN6MPtW5+3frelLUcrH/jABw685S1vGbXudXZ2ttmxIW2Ccxwl5BXDMGikjueg6MXfrKHxwnpGN4boxcRvpYXx63VN39tAGyKGrep0LIx0bLpeeTLwUmBmnWQmIgm54CU5GhcDe1yixeWnAJTvYbpMnvL5fLK3g0GzRXB4iRbOnohIA4BkkiIi5swDl6fGrfGhZxWBKc6u4AwFgmwubySCXB5MDDQtiwRaeuNvXC6F6TDBwfrj+sT/ln4YlvXR694MEhJr7wACK12eGdPZNyxfbCNpSwNVZySWWE56H9sPkzokwUi2lFhns9mk3TFBxessIQLLZY3hLYKSFn/avVjyhOnHkCm0efgc59tL3yuDtHBpEjPWx6ZzLGxLW9oiIjI0NLQ4NDR03E9hezpJm+AcYwntxRAJGxvvWQ+oHw0xiQX5nrEL6cZp8H4FK2yaHmniEQHLGMUaTOsZC0Bw2lzOXv2lPZt2jUG0tYFciYTOAuBzDC4RSOISI7ymeyss76UFwJEoKeBTYIr7YzQ9/eg1zBcTFrwusnzvCqfPe0cwjJKz+fl5E8hi+eBBBPo8p6/CdcIzG0wAOQ5daoV5xDyzaBqol3UP99ggyPfixDAhcIx5wfccManSdunNiGD5MLnF8RKX7mFZ8t4xi0Bbx05jOXE582wMkyCtKya/mUwmOQ4dyU2tVlt2qp+GCS1Tw3D8O0RyeBki12vaOG7pExOPpbdHhkKkjuPy2mysLcM4rT5g6c3tjPW28meVDRNvbY/8EuO2tKUtrUub4BwH8bxfIaLgDcq45CIG+Kbp46VnAW3UNc34hQgYP5MmbAg8EpQWt2VoUTxPe6hurHzyJmI2mM0QS8/ocx0iwFPgYi31wRkA1ZWBHM6K4ElnDDAR4GJerb08mHahUGi4j+AO48QZFtzfY5U5AmMkB9byL5Ejp6EhsGcwms/npVAoNIAMi/TxqVpMSrDeeVmcBWys9ub1L24XOD6gMGDGeK1N2B5YjCEy+lEwr+WqxJoPOdAZMJ6hwdk1vq/tw9rDpeWMdW/ti9Iwer9Wqy1b5oj54dlPrHsmwfW6PXupMzv6rb81P/l8XhYWFhqe5aWSDL4tIqFlyvXKhMCzJV6dc9iOjo5l/cOKO9RuOG6P7Fg6hcKFbAbqi2UTso1M3KxnQn3aum71cXZstqUtbTk20iY4x0jQMIa8QHid/1tg1/JQ4v00nTyPb8hg8D1vZik0QLPhYh1CRogNn0fKLCMeKn8GRhYgCMVv1YEVf5peDExD7QWNIhIJJBC8TIeBp8iR5TU8S8LASYEgpo/hEEQgecLZINRTP0po8H0zWJb6XKFQaFh+pLMAOBugwuAU6w2JiX5UB953Mzc3l8SDuuFJahyfnqSG5IZnn7i9a91g/XpgkEEU/8Y2wXnn9mqBTq9eOX79bfUVnIVhIq26IYFBkoLtCMtEiQC2bTyGXNNFIqXXLO83pokEVQkJnoqn9arPKZjnPIhI0k71nsat7UvLVe+hvtxnCoXCshme+fn5ZcQO249Vbl57wrLmsrHCaF49m+QREgbxTA6seDDPls6Wrp491TrzbI/VtmPsi6d7yHZ6ts+7ZpG9trSlLUcnbYJzjKUZzxKD35BBCaUXAnne4B3ydlmGgQd0C4CxEUkbrNNAnBW/dT2G/MWAypAwaPSIG8fvGVZLLwQH+h9JA++X4Rmc0B4TTYf3KbAOHjBWXTQ+nZmxliExQUIAg4RF9+AUi0XJ5/NSKpWkUCg0fDA85l/BDJIozA/qosBVAej8/LzMz8/L3NxcQnr099zcXAJS0avO7UnBPfYvBMv6LD6HdWP1R6+vMFnVusd6screaofN9Elsf7q/BNsD7qHS9JHA4owi5kPrtlgsJnWsH20DGrdHoJBI638kFZhXPAwDZ2GstqD/dSaTw2rZ8fJJJPisg5ImJFlYh/islnM+n1+2LFSfQzKOwkCZr4WIAcbRCsBOsyOe8FjMNoGdZ1YeVdIcVpaeXn8I2QguzxhbYpGvNCLWlra05eikTXCOg8QC6JDhiZXQIKy6WOHSvFMcLuS18uIM5Yv1SiMCloTCeV7MZsQiH6yjpbOVNs6kWSSQPZ8iRzaY4/s7cEZPpPGdJQqEGPhwnrDN4VIwJsXqVUZdVV8lKOg5xrRxSY4u/cKPgttisSilUqkB0CKoxbR5P41VB1j2uPQOSQ+CVi2z2dlZWVhYkNnZ2eQzPz8vs7OzMjc3lwBg9KSzTliWSERVP1yWh3WkcVmkU+PlU7o0bSSeSKxwnxTXOwJlC1Dqdd4zxW0Xl1phOWv+i8Vi0gaw3rXOy+VyQnB0OZt+I6HhfHJ7xNmGtHEJ+wsvOcRZxvn5+eR7bm5OZmdnZXp6WmZnZxv6GTsMmIwqWcFZGFzyqP0ZyRH2df3mGSpO1yPOXA48xnCfZwKRZidixmDsq169aNvj5y1HQLPCeWYdLJIXSoftghcn6+DlhW0LkuS2tKUtrUub4BwD4YHeGxw9D9qxEG9QtojN0YL9YyWxhMYztCED3MozXtg0g+ZJKH9o3HgmQqTxlCj0VCuYYZIjcgSwxRhgkSMvMORjiBVooHeeywRnjxDU6pIbBLGVSkVKpZJUKpXknpIYBbS4DAlnpdT7jaJgj8ke5lfvoSCAQkBoefWV5ExOTsrU1JRMT08nAFdBsBIkBtu4FEl1ymSObELXOmQgzDM8Ws7WXhbMD5I+rUs8VELzi+Ae6xDD4ElgTDI0jAXUkJTk83mpVCpJvZdKpYTY6EdJr7Y/bv9cX1xvuDyMxXNucJvA/0yA6/V6Qz1re5ienk4Ij350BhD3lHG7U12R3CCZxfqxyCzOlDJJ8pZFYt5xLGMyo3KsxnhvjEwbr/nZkD5MCmJ1SQvfjH20yKKVppVGTNynO8HZvXt3YXh4+IRgzKGhodrJfKnoXXfd1XXxxRefdeDAgf8bGBhonxRxikib4BwjsQbGVslEs+IZLL4Xus5eu1YNH3r2Yp4LGYWY8kvzNjZLaFpJ3wrP5YtEgEkMe2z1vvUOGlyuwl5H/UYQqOmx911Bk4JMBGAIrBBUI+jGfQS4vKhcLku1Wk0Arn7Ug89g2SIi7GXn2Q7ez2ERHK53BowaDpdH4fI3jVvB7NTUlExOTsr09LRMTk7KxMSEjI+Py8zMTMNJWAo29a33CFY1ft6TgUQVZ5tUbyWaSoJwnwiTUowX84nL9TRNrEdsk1xe3vIvXaZYLBYTMqP1X61WpbOzs2EZGhM/rE+sYyQbqjvXJ7dL/s0OJ01Hw2m8GBaXiWEb1WdwCZuSG20XSoKRAON+N2yX2ue1HJmsaPtDss/77fAZdgJYJFTTtgiY54DBuk4jTt44a/XNWCLg6WTF7UmzYUJlYdnStPCWc4jtilV2Twdys+15z906Mzt3/AGQiJRLxfp99//q162QnO9973udr371q5/90pe+dOxHP/rRQ3r9gx/84Jq7776798EHH/xNWhyveMUrJh977LH7+vr6Tiq5yWQy2/V3Z2fn0saNG2evueaaJ9/ylrccPpl6nSxpE5yjFGvwx3sonsEIgfAQyOZB1ALbHoFhPULpoKfcA5CcvrcsQdOyAAobYMugcNhQmfDsA8fl6Ra6FyJvVvnjumvek8Ab6a3lXrhhmY9pFrHfV4P6IEiygBwe1axpYJq8REiJTGdnp5TLZSmXy9LZ2SnVajX5rd55BLMIWHF5D4Jnq0/gcyjWbExHR+MJT5YwgMdN5HhynOa3s7NTenp6pF6vJzM2c3NzCcE5dOiQjI2NJWRHl7YtLS3J/Px8Q1qYP24LnCesK6wXnDVCwX5pzb7kcrmknHTpIYbBTfZMKjGeQqGQEJmenh7p7u6W7u5uqVaryWwNElkmWFj/WM9McFCYCMfstdA40UFggXs+hlvbPLdFnUnL5/PS1dXVQLLn5+eTup+YmJDp6emE+OgHDx8QkYY+r2lZhxRgvfMSPl7CpkTH24vH5WONkWwPYgA/flvtku0OXg/ZHSV/XBfe8tRQXnk20LPFIZLm6Rpqg6i3R77xG8MgKT/dZHh4ODczO5f5j49fNH3OpoHjmonfPHKw4+2fvKsyPDyca4Xg3HrrrQOXX375/q9//esDjz76aH7jxo0L6U8dkbm5uUypVKqvX79++XKDkyA33XTTo5dccsnY4cOHs5/73OdWvv3tb3/WWWed9dsXvvCFMydbtxMtbYJzlJLmhcJBNI0UxN73gDZei/U6ecbCIkacL9aTB2dv4LcGeIyTQa9nHCx9MC+WcfTKgsEPG3r95qVFIbKm3wookYjg7AfrjBuaMQ+aPoJ09OoimFR9FZSp8AwBH9eMOhcKBalUKsuITE9PT+Kx5/0yIkdObMNZA494YH6w/DE8e9M5j1i2Me+S4GVK1j0EjRi+UChIuVyW3t7ehMSgJ//w4cPJR/fv6KZ1PBkL2wHnHfOjJEzLk73zVr9QQoPtTNuO/rbeP6QzUbjUrFgsSldXVwOR6ezslEqlkpBZnPnCekdAj7M0mieRI8d3cx64LhjoYbxWuaEgWAw5SDBO7pOqK8an13SWUsNrn9JljSMjI3L48GGZnJyUmZkZmZmZSZa0aV1onOrwQOKH5Tk3N9cwTuKBHXocu9YlziziLJjVfkK2Is3p5JUnjlshIuOlzXFwWLzuSYzdsq574tnR2OdibGna9dNJztk0sPSC56w+ZZdsjY2Nddx1111999xzz2/279+fv+WWW/p37Nix7+abb+7fuXPnapEjsyI33XTTo1dfffVIJpPZvmPHjj3f+c53en7+8593XXnllcMvf/nLJ3CJmjX7c8MNN6z88pe/PLR3795fiYhceumlG8fGxrLnnXfe1K233jo0Pz+fede73jX8qU996smrrrrqjDvuuGOgVCotffSjH937vve9byQ2TytWrFhcv359bf369bXPfOYze3ft2rXyu9/9bleb4LSlKQkNcB7B4P8eWbGE47M8ZpZxitFTxN7c2MrAj3m1ZnJCxMfy8ulv79kY4sLl6xHDUH5ElgNiLGPL8OoyHmsPhT7Lx9gqycE40YOOOiuIRb2wDPUee+f1voIpXa6mS4x6e3ulq6srmalh7zyXB280R7DLumH5cF2xJx9JHQNdLBsNz+FwaZc+g/d5OR/vcejo6GiYMcE9DyKSeNQ7OztlcHCwYYZHSc/ExIRMTk7K+Pi4TE1NyezsbEOdY3lh3pj843IpbxzhuHimSwE1zgTorFx3d3cyO6efarUq3d3dDQcC8DJDJYGoi9XnMC+8LwV15ecsL3barB7WpRUnn4LmjTOYDhNnnTFEoqrkMpfLSblclhUrVsjKlStldnZWZmZmZGpqSiYmJuTw4cMyPj4u09PTyYEGODOr4wWSHSXKOFbojC6eaIcnDyopssiN5jM0tjY7/vNY6JFXa6zmOvLGdZ7J47bPpCiNPOF/dkCklUGozKz42KaFiGEojbYcG9m1a9eKTZs2zW7btm3uzW9+88g//uM/rrvxxhv3XXHFFYd+/etfl3/4wx/2fP/73/+diAguP/v0pz+95rrrrnv8C1/4wp58Pi+/+93viq2k/4tf/KJ7zZo1Cz/4wQ8e/OEPf1j9wAc+sPGXv/xl9SUvecnEz372s99+9atf7fvQhz604aKLLhrfvHlzUzNLCwsL8vnPf35ARKRQKDwjG1Gb4ByFhIhDrKeIAXJogI/1XFnEgPXiuBRoNOOVSpM0chUjrRoZfdbSwSoTS0+LaFk6YTroeUfvKnrR8QhijAvJB+5x4aUsmqbVHhiAa7wYv8hTAEr3Tuieia6uruS7s7NTSqXSspOsMF6NE//jfSYRLJZnPk30Ge9ZBc9YLqo7gl2LqDLQ4lkHTkfrEtNQoFmpVJYdWjA1NSXj4+PJsiXdx6GzPLo8SdsAzlJZ5WuRa6tNqG5KYvXAB52d09k4XWamZEZnZ/BEOJHle6TYKWGVF5Yxh8VljEzqvbLn+udlZnidl9tZgsslNZ60tukRLyyDTCaTHLJQrVZlxYoVUqvVkn07Y2NjCQHWfTxKZFR/XIqms7HoDEGirGMGktBSqdRwXDrOBIbsUUi8+1gHMUDdI8H4jEd0vDYXo3soTR5bY+Pi8dGKi8vFG8NidW3L0cntt98++KY3vWlEROQNb3jD2Hve856Nd999d9dFF100Ua1Wl7LZrLn07JJLLjmEsyqtEpyenp7arl279mSzWdm2bdvcTTfdtGpmZqZjx44d+0REbrzxxie/8IUvrPr+979f3bx582hMnO94xzue9a53vas+NzfXsbS0JGvWrJm//PLLD7Wi3+kubYJzgiQNRHueIGvQVGll8AsZpmM5kIbiizWiLM0+Y3mRQ15lT880L6eGZXCBsza4Zh/30fC7PbBs+BQ1BCjoERRZ/iJP1AnBkR7fW6lUpLu7W3p7e6W7uztZdqSbwnFvhuXNxpkC9rYzefAEZySsuvCIqTWDhPExILfAhtUuEIBrHfC7R1gXJHHWfqVisdgAQtWTj6dwTU9PJ0uXlPDgkcW4jMzzwOMH93Yp4dJDHiqVinR1dTUsPcTTzax2q+l4/cYiWTHecr7u9W8rTEwfbmZMi22z1nNWH2GHAM7siEiyzLG/v79hr47u7VICjAeKKIHBkw/5FDX98HJYzZ8u4VQCFdrPJXL0TqoYO2BdiyUr+JwnlnPKe97Le8z4b6Vn6RFqwxif52Bry7GR++67r3j//fdXvvWtbz0k8tRs/MUXXzz6la98ZeCiiy6aCD173nnnTR0LHbZs2TKDTpeBgYHas5/97GQpWS6Xk97e3tr+/fvzZgSG3HDDDX98zWteM/773/+++OEPf3jdZz7zmT1DQ0On7DLB4yltgtOieN4p9lJaYZqRGO+WBxBjpVXCgc/G3mMw1Ex8+Lx3D+NJCxMjIUODgFuBIc7WaHj2tCJQReCBy2UQrGo8uudDQYlFoNAzq2CIT7fSPRW6SbxcLjfso9F48OWCFhnQdNgL6S0ps8pQw6eF4XLRskvzgFr1ZQFxnC3g65gu/0YCgHsdlJAiyNSXmXZ1dSXhdYYHSY6+dweJEJ6e5y3P4hPt8FMsFhNCU61WG16wieWp9c1efiZSmC6Wm1XuXP5WnWAf89qD13d5SaLqby1Z4/Q1XCtjX4gUWX1CpNERovt3uru7G2b5Dh8+LIcOHUqIjrYJnH3B5YX8Ph8kPToG4JLEWq22bN9grB2xxt+YsgsRXqtfhp6Prau0sd5yaHjhML6QjYp11sQQJbzWJjjHXr70pS8NLi4uZjZs2LBNr9XrdSkUCksjIyP2VO+fpFqtBqd3Ozo66lxnCwsLyyo3l8s1BMpkMpLP55dda2alw+rVqxe2bt06t3Xr1rkVK1Y88jd/8zdbfv3rXz+wdu3aU+IQhBMpbYLToijwUUkzwpaEvEIhsGAB7dh0GbDHxsH5szy2nvHj9EIzIiHj1Uw+Q8Y6heqJ1AAAIABJREFUpIdV7hwe843EBt/pgbMt1rHOSlDwJDPc+K3liW9BVzBsERwE27hfp1qtSn9/vwwODsrAwID09vYmS5FwfT/OKuEeFE8QFFpEI7RBnAFys8vUYgb8tJkAbrsM0GO82Eg+MSz2E2xD6C3XdlMoFKSzs1O6u7tF5Mix2Ho6lx5TrcvY9IQ21AnJjR7brDMzDG41POqpaSJpQ5KMZFufF5EEaGs4FWvjvwWkmZSgxIylOPNppZv2n9PDNoB58sYdjM+LW8sX87iwsJD0PSVYemhDb2+vrFy5UiYnJ2VsbExGR0fl8OHDyb4dPZxgcXGx4QRGrR8ca7QP6+EWun8un8835BP7erNOIs+GMFnxSFQofo/oWHHH2BTNK9cztn2OwyN5IZ1DZMkTLJtWbXtb4mVhYUHuvPPO/uuvv/7xCy+8cAzvXXrppWfedtttfYVCYalZ26QyODhYO3jwYB4dLffdd1/l6DVvTl72spdNn3vuudMf//jHV+/ateuPJzr9ky1tgtOCoGFq1rPkDcQ8kPFSBwtEeeQhVmIBPoYNETmLOGDeQukxeQrlwwIjIQMX8zzf42uolxIb9Y6Wy+WGtfG4aZjX5COpUWCKuuBRwJiWZdStJUu5XE4qlYr09PRIf3+/rFq1SlavXi29vb0NpEaJl560ZLW9kHhL0dBIW0SE98do/vhdHqG+hGXKZYOAnNuhtZeJ82Pdwz1NFhBigKj7cngPEu8pwX6hcSpZxnx4BzhoflHwnUqYN9yngXpjXNgOcakd78NiEuA5AiwCwzOOWN5Yr5hPbJ+858sDvCgeAcJ0sfxYFhcXl50SiMu+eC8Q/uf2xG1CSSK2XX1J7sDAgCwsLMjMzIyMj4/LyMiIDA8Py8GDB5OjpxcWFpJ08/m8lMvlhjap/VtJEY5dSnQ0DO7/inEisHB94DX9HXoWf6eRFbwXcmawreKwMe2H7YFFRiy76NkQtgleOeD/VhxBp4L85pGDra39PM5p3HHHHb3j4+PZ9773vQf7+/sblm9deOGFo7fffvvAVVddNfz4448X77nnnvKmTZsWent7F8vlchTAeuUrXznxkY98JHfttdeuuuyyy0a/+c1vdv/4xz/uqVarJ3yp2NVXXz381re+9czrrrtu36ZNm5o6qOB0lzbBaUEsIJ/mdfEGVlzD7RGWtAGcr3uGhI0DhmUvayiuNN04fotMxBgNTzgua8NxmkctZNg8g4iAD/c36EsddYaFyQ2GY0KDsyUIMjQ/ekyvbvyfnJyUQ4cOJQCnXq83zAQMDAzIqlWrZHBwUFasWCHd3d1SLBaTfPHRsUwsrPLx7ik4s+rGIrWaXxSPVFjgEesSZ69EGoG9RaJQ+EWTIpIs27HaSYgYKZjE30gccG+UB4YQvGNaSNT0OTyq2NJBZ4mYwGBYzgcumeKy0/LCpZT8LObBEk4vtq9jH9FwmCcmfEyG8D+OtfjiTc4LpoNlgeXWzNI0vs7tGsddvbawsJCQDz0UoqenR1avXi0bNmyQ/fv3y759+2T//v0yNjaWvGC0Vqsle+j0yOhSqZQsf8PDC5RI67JJbaM6k8uzGmljsndf86Xlb4XzbKVlC/EZy66k6aP38HmrLSp5j42b7R0uSbTCeWNrTFmfDjI0NFQrl4r1t3/yrhMya1EuFetDQ0PRS7B27do18OIXv3icyY2IyBvf+MbRW265ZdW2bdtmzj///LELLrjg7ImJiaweEx0T//Of//zZHTt27Nm5c+eqnTt3rr7gggtGr7zyyn1f/epXB5vJ17GQN7zhDePXXHPN3LXXXrv6v/7rv/ac6PRPpmROx86UyWS6RWQsNeCxT9ckCc0OSiFw7w3YzcQXEx69SJqeNaBbXjKLEHgDNqeL4T3DEYrLK/OQEbT0CBlk1gHBpi4D4v0vuA4eCYpuNMf3heAL/fR5BMYq+Xw+mYUZGhqSarUq8/PzcuDAAdm3b59MTk5KvV6Xrq4u6evrk/7+fhkYGJCenp5kX42mp3lDwKGgJkascuHZxTQPo0c0NV6v/pW08HIpnY3CfolExOpjVjtmQBLSka9Z/Rbr1SIaCGb1vz7HpBvJEO/R4vsI3HiJIc4e4eyMyJEXfipJZGFSHiNc3t54x/cw7/ifl1B5bQ7bOPcrdCKExBs3rL0+KF77T5tBsoQJOxL3ubm5ZEZn//79Mjw8LIcOHZLZ2VkRkWTpmjph9KhofCeTpqGnKWpfwhloPsLc658WEcJ6t2xLqF3wGB8arz1bFCJJFsmw9Ec7GWq/Xn48fdPsFgqPjycZr/XU6/VxvHDvvfc+O5fLfXvLli2TlUplFu/t3r27MDw8fEKc6ENDQ7VWXvLZltNTpqenS7t3767WarULtm/f/qAXrj2DcxQSY7xVPGPP/9Oexf/eoJdGvCwDjsYkhohYBigNAHkAE/PtebysuKxnYwxNjJFgEIkeT913gJt6MU5ceoYv4MNZE53lwfTQ26xkSpeb6WxMvV5PXrY5MzMjHR0d0tXVJStWrJBqtZqAFRExAV2zpFTFC5tGbhAUemTT+o2gGpdIIShHkG4BcAb/qLPV9rz7GAaJlAVUuA3y/gsG6PiNIByBmCchoKVlZPU5PJ0PSaO1HBbvWWVhtac08pI23ln5YUJn1QOPhx65yeVyy2bZLOF0UCzyiNIKqeG0RY7sydL4dAzSJafd3d2yYsUK2bdvnxw8eFAmJiYaDgfhdqn1jmWCLxzV2WAVaxmsVT5ef9F7aX0Or8WSBSuMNw5w/F6/StNRr1vtmNsoPxOa+fOESddJJjhNyZYtW+bbpKMtJ1PaBOc0kDSA7wmDqBhAaw3UXvpMcmLEA9it5tHT3YrTAqQsbERwM7iePMUkRb18uMyHATmebsQnHbF3Ua8hGNWlJPl8PtmUXqvVkj1ApVIpIVG6fweXR1mi+rUCwmKNdVrc1nIyi9Tw0jNrX1JIrHYRcgSkkXsrXQUxDKi8dozAFfdk6DIh1jUUlwXqEMghUdHZRATvHujjemawFUNyWKc0TzQ7WjzRuKxldfrbOrgDZ1y1DngZHMcVase8nM2a2fT6S9rYiTrrfx1n9CAJPfq7u7tb9u/fnxxGgOXIzhodK/DFwvV6PSFA+Xx+GVlkvSxdrTy14vxiiQH3IfLcio0KtWXPsRBDnKxrofxhOFzS2JZnllxzzTWrbr755tXWvfPOO2/yJz/5ye4TrdOpLm2CEymWwQ15eq3n0+L3AAJ7cfS+N2h7XqjQIG+lHQrLabXiXfLSCekfk4/YtNOMkYKBfD6fzIzU60/N3OgyDjX8eGwrLl/TJR/8Yj40UhbQVmKipyZpGqVSSTo6OqRarSaANZNpXFrCnmtPFHh5JCdURq1sQOa4eK8JbmjnU78YQHDbYUAZAhwMLLz2FiIyDKw9AmLlWcPh7JPOtmC98Us0rbiRZPASNpzd0DJUssx7itKcDZg+l5fnWLDK0nK6eGNoM+OrJUx88Fl0MvByNgaRR7O5W/sWL0nU+rGcD7ycC5/VuNABoMe/V6vVhOTokjUsg5mZmWRGUdsBOmq03Wnf031AeDw51rfXLrHNWfctwXYQ44iyntdvHk9ZZ2sMibV9MTq2or83bnhjcJvgPPPkAx/4wIG3vOUt5ss+Ozs7T78TKE6AtAlOExICVfrfGvjTPHQxxgIHa03H2oDN4oERS/c03aw0PL3xeSsfmKbn8WM9Le9VjGfOM2zeswiseeZGCYfO3Gj8uhRNQYHus0HwgB8uX8yz3qvVaskxwUtLS4nnnWcJNCwe9ax68b4BBlqWd5nBtgXSmwV9GgeTFQVpSA6xDkJeVIzbKkN8DsEi7jXBtoXkQsGntjlLD6vte2Af9eR2jX0ZiR5vmLfi9K5hGesHyzcEmqy40vpZM84RJe8i0jCTxGOERyxjAGVonNMPt3OeWWVionFbpIRJCBNIa4zjfZBWfNbMjxJf7FOFQkEGBgaS5auHDh2Sw4cPJ+PP5OSkzM/Py+TkZHIQRalUSpbP8ktCdSxTEoTOE17y6rU9rw5Cz/L47hFjvRfqC5ad4XBpbY7zgf9jbI+lh3U9ZBdxfGgTm2euDA0NLT5TX9jZqrQJToSgp5WNrEcg8F7I6KcNlHpdjaEHnkIkhNPC8GkSQ9ZiSJP1HOaJy87SL60MQoYUhcMhyEXvJs7EzMzMNLxVHtMuFArJUdFKbKyNumkgmYmd7sHRE9QUjLDgIQIKVlgsUqLlEFp+4tUbL+uJIczodcblfEhq1JhbQAb3UGB+Qu0Gn7WIrZY7Liuy9qKkESxrHNB76Mm2+hHqhS/yxLfVW0v5RCSVgCGY198W+NZ0dP8W6oiAmgkqgj3OC4N0BuU8Znhjk+rHhNwbg/nbA5J6TWdms9lsw5HcOMOjz2BdYD1xn0OSw+FRB2tvD/Yvzq/qhtd19lbHoZUrV0p3d7fMzMzIxMSETExMSDabTV4YquNTJnPEMYP7A3UM03ajjpWFhQWZm5tL+lPsXjGsGwbvWA9cl9bYnmZTMO4Q8dL/+vH2ylnP8W/rHqbPNtzSH+9xXGnjRlva0hZb2gQnQtiIp5ER/G8N6h4YVHBlgcbYtbe4xMKK37oW8rR5XicrTFqaeD0tLR7ILcPYDGHjsJwWgm59XwzutbHIiu7NKRaL0tHR0XBENC/pYAnpqwcHrF69WjZu3ChnnHGG9Pb2NhBB6xl8SzlvgmYSo9e4ftNmZzTvVhiMi5ef8dIzJDZW/Ao4rHrCk40YWDKIRn0QxHBb8MhziDTzUjgrPPdlfMO8Cr8HRcPrdT4FT59H8OP1N9y/xEdQixw5ARBBPO93wrxZYx+XmbWHhYEae6R5PxLWE59Kh/nXGTkL1OK+Jm+5FOuuZEfj1Wd0LNCZNbyOZW3N5KAu+N8igdaSNku0jrgvdnR0JEdFd3Z2SrValc7OTllaWkrIzuzsbEKKlpaWGk5cUyeNvmRWxzg9ba2joyM5kjqN9FvlzbYmhqBjnCFikWbTuI/zs56uVn5CYzGm69kt1j8tHbb/3rjUlra05Yi0Cc5RSBrh0Xuxg5IH+psZ2CwixgM5hwkN1mworAEYw/JzVnwc1hLPkDUzsIc8hgyEdYmUHulcry/fa4NloRtxdfmaFTY2j6hHoVCQFStWyLp162TdunUyNDQk3d3dyVvIreVmCPrUm4z3kRhoOPy2ltR4YpF4FIwbZ8RCe2q4ntSgI0BlffG/pY9FZHAmAsMxULXiwz7CpEaFAbwVp5a1HjeO7y1RQuO9Twnzw/2WgZv+x9PSsF60fesSSN2fgeQd68oaIzxQigRUATiDcCwPrB+LuFpkCMUilKgjL0lEQmsRI8w3xoszNZonJYcIRFFHawmoxh97RDsvmdTnkbiizta4trCwIBMTEzI5OSmzs7MJSdF8LC0tJWOZzuKpU2d+fj65rm1X24I1i8P/PcGxHL95rE+zgZyu5t1KL2aMwzibEa8/sHh2IfS851Bqk5y2tMWXNsFJkdCgmDbAWINwM+J5G0Ppxgx6aQNwM+HRAIWeixXPA8xhLLDp6R4iZQr+FXCqcZ+fnzfJDS9jy+VyyZIOnbmJzTeWWy6Xk1KpJH19fbJu3TrZuHGjDAwMuEvTGPQx6LbqzDP6nnfbEosU8UfjxQMXEDSH6oMFyx7BInu8redQmOBwWVigLJPJJF57DIPPWARfgR8v4ROR5MCKSqWSeNeV5GgYPjACgT/WA9cblit6+PVZLT+c7ZudnZWpqSk5fPiwTExMJKdp4QyaR355Bg7BmAJyfQ77dAisWeML74NBAsTpWDryvbR2bo35PM5o3SrpQaAfGhOtuDQ+zY8lWAa41BOPfbZm3bSuBwcHkyVqi4uLMjo6mpAcLRMtaz2EQmexNX/6Ilrt2yJHjrFOm3FqBYxjmwiNcx7Z8RxsabrE2GrP3jVD6mLj9XRrE5y2tCUsbYJzjCVtYD2WcXsenzSPlyWhMLG6N+vBazUdTSsENjGMdw+93LgBGz3oDFLx2GYkQ95+G84ffmucuVxOOjs7pb+/X9atWyebNm2SlStXJiemsVdY4wgRBG+pDIexvOmW8H4C9CBbRAev8YwNl4XlgbXKDD3Tlq6WN9iLB8E4e5IZJFn7LlQwLJc5kl0FjJVKRcrlcnLqVWdnZzK7pct+dCYP9xohAOVyxzanBELLXZ9BEK6zj9qG8b1OeES1Vc+eWMuzvH0FWG58jccsrBdrVsUDuPrbWuroOWk8XfCagn4VJRtIanEPjZZFqOxQ0oiC6oEzo5q+3sO8aN51yauSskwmI6OjozI1NdWwXE7LU9seHsSg7QiXO+K7wNAZESue0yktTLPCfdyK39PPa8MhOVri4bW/trSlLfHSJjgtig5AljfOEwRXFhlA7yZ74tM8ThaYs9Llayq4PtkzKCFD4xGvZgjL0TwTCmORDjXSuIk2k8k0vO0bDT56TPHIaJ3pQU8o5oO9uqyvkptVq1bJ+vXrZePGjdLf3y/FYrGhPkJlYnnFLcCp15kopAFXLC8mL7h5nXXUcAgyrbZpkQ68b3m6eQaLwbCWCxMszCvq4s3oaDyYntWeGGgrGNTnRUSKxaJ0dnYmHvJarSZTU1OyuLiYzKZg3LqfIpRH3ROCpAa97Xg6lgLVTCbTcOKf7sPo6uqS2dnZBmKP7UMJvUVmWZh8WGVlkV0V7re4FAvjUf0ZXGO/8cYtjA/HYB4nOV5t9/rfIqH4sdoHllsMqVFZWlpqmBXlvuzlNZ/PS19fnxQKhYRk79mzR/bv3y/T09OJrrovR9uEEpx6/cgpczhuKjHno6ZDtgZFx1b9zfe8Zy2HBJL7ELFmm2vpyGOIR6Kt682SPBbL4eLpdirL7t27C8PDwycEYw4NDdXaLxVtC0ub4ATEWwKi1zzPr4o1yFoDbshzibpYAMAiWN4AGDL2ng4WcGUJxWmF5bxgHGnpeHFa4NnSQ4EFzsIoONBTgtDzjkBNN9wiuZmbm1tm0DlPXrl0dDx1mMCGDRtk06ZNcsYZZ0hPT08CfpFUhNqXpoWACu/x3gEWvqZAFkkdEgW9bu2N0d+cvlU+XttHnTRfWJ6hJU4e6eClSh6AsUi9Rd6tPqLXkBxoeeI7jBRI6qyfgsP5+fmkPBm4Wkdbq/CxwVpGunySyy+bzcrs7GxCcLRPKunBfPMMHZaLnrrGJNkC8yGAaxEcfh73mXAbZxLLcXjtBWfDMM/YXhkEW2OixoEERwVnNpCIaZ16+3Cs/o59K+QwwDzqNW0PPT09Ui6Xpbe3V3p7e+Whhx6Sxx9/XCYmJpLjo7Vt8t6wjo6OpK3iQSHYRvjwAZzF45km/GZ9OS8s/Dz3S6s8PZLilR3bdov4Ytvx8hZq19Z1K5+h8SrGdp5o2b17d+G5z3ve1rnZ2RPCwoqlUv1X99//62ZIzqWXXrpxbGws+73vfe8PeP2uu+7quvjii886cODA/w0MDBy3Y5k/+MEPrrn77rt7H3zwwd8crzSe6dImOAGxvDwiYS8Q37fE8wjFkI+YeFh/TwdMU6TRC2h5tyxDH5Ne7ICM6XB4zxCq4U0jnBqvLs/RWRglNgg4sVwU8CjQ1yNV5+bmZG5urmETONefZ6jr9aeWgPT29srZZ58tmzdvlsHBQSmVSsn+CxFJvPdWG7PKgoGUyBFy4y1RE2lcfobABYkNP5PJHDlxygIGuEdC9WcwhzM8qD+TGgaTIXCEdc15RY89x4FHBGMcvKcK4w6BdhY8ZEHBpogkG/31uj6vZYBt2+qTvCwS96Tw+5dUD5ztQaKPswNcVyHgqGSB0/LKigkXl21oPPX2e6gOlljkDMcL3sPj9RfWCfPGDgRc1sd64ewOzpjgsyESr3F4bZ7zyzoVi0Xp6+uTUqkk1WpVKpWK7NmzR0ZHRxOHDdankhz96Ix1vV5vOE5fCTWXFROBkN3ybKBVDyGCYI2Xof4ais8jkSFbFkM8Yu1FqCxOVYIzPDycm5udzZz///5punfNpuP6EsrDTzzS8ZPbrq8MDw/nTodZHJzdb8vxlTbBcSQN4Iuk7wVIu8bpWQOcdz02/mZ1QTDhEQ78TjM03jVrYGYyw4bH86R58XHcuqxCT68SEfMFmZg//a2kSMnN/Pz8spkeL7+YB42rp6dHzj77bDn77LOlr68vOYlN40SPMD8v0ghwdMC0DjgI5QmXl+GLNhX8ct2j6FIVLnvuGzzLg2HwZakIqBDoYr49bymScgT6SIaQNKngkb9MUjEe1BuJhcbNpIvBNgJzrVs8AloJhbWXg8sFZxxUXy5nTJ/zw/01n89LqVSSbDYrk5OTy8qF93hgHpUccFvFcCzYPlg4PBMbbC8cJ+eTdeVlldaMD0rssjEub46DibU+g/WlSxTZMWHZASZTOLPHfQYdF9i+M5mnnBPlclnWrl2bLLvdu3ev7N+/P9mXo2Wu8eA+RR3/VAct00KhICKNM1eqm9XHkcir8DiP7Y9tsVcnnrAtY8Lq2TOLlDVLbqz4WxVu46ciyRER6V2zaWlw07mnNZr/zne+U/3oRz+69oEHHujs7e2tXXDBBaM333zz3u7u7iURkS9+8Yt9X/rSl4YeeeSRUrlcXvrzP//z8VtuueWPa9eurYkcmRH6+te/vvuf/umf1v7+978vf+Yzn3ls586dq0VEMpnMdhGRm2666dGrr7565OTl9OknbYITEG8w9cB9SGIGN2+AZXDr6Wnp7Q20afF4pMoCMK0M2jFkjXVpxkCw0UdvtRph7/02miYadvVi8jPN5FeXuPX09Mj69evlzDPPlP7+/gRQ4ktEkXxYcYWMPAJzBQ9MFhCUIHBm4IfgEYGIteeBCT+CXu86ljPnh4EKe60xv0wMkBCE2gtuota4vPhZVB8sY9Vb84WzarpPS4m2xqtefAaB2Acx75o3Pt3NA4QoFtkulUoiIgnQ9hwIHB8SbNUxRKgZgGMaFhHD+LRvWG2T25i1PwWlVqsl5e/phW2ZyQvWE+fTIzxcFip4jLeOAZgfrx55hhOX22FfxHxYJKFQKMjAwIAsLi4mM3n79u1LlqypThoeZ/v4mGncy4gvReb0rXbBZaX9J4Y043Ucx60+GyIlmDbbmlC75rg5/ZC9tfJtXfPI7qlKbJ4u8sADDxRf//rXb7nmmmv2/sd//Mej+/bty73vfe9bf8UVV6y/8847HxURWVhYyFx33XV7t27dOvvkk0/mP/ShD6277LLLNv74xz9+COO69tprz9ixY8fjZ5111lylUln69a9/PfzDH/6w5/vf//7vRET6+vpOayJ4Kkqb4BjSDFhP89bExptGStJ0sP4fzeAXAtb4v5U4jyZ/zZIcJDd8YpS+1ZtnYhDw6MwGLini2RI0Qp5e6t3s7e2VNWvWyKZNmxJyo2AGp609I6o6WvvDQpuWsSyUtCm48sqaiQmLtaSGl/hhuYTqjMEMz8qkEet6vd5QJ7xEjskbgkJvOZwHkCzQj9c4nwoG5+bmpFwuJ4cMKMjWfV9YpqwDkgnNj0VEWB/MF35wyWU+n0/2k+HyI02PZ86wHXFdIDC3+iruKfMICuuteliefu9ZTzT8wsJCQx60r2N6Kh4h4+VyGodXNihaf7iHRWdDcDywluR5OmLf1rgxDP7GciwUCtLX1ycijfUzMTGR9CtMR/OJxFb3Y2E/W1hYSPLPujdjY7n8YsiLdz8tfY9QeulYz8UQmmbi8JwUbXJz9PKjH/2ot1Kp/BleW1paSgr/hhtuWHXJJZccuu666/aLiDz3uc+d27lz5x9f85rXnD09Pf1YpVKpv//9709mXc4555z5m266ac9f/MVfPGdsbKyjp6cn6XTXXnvtE69//evH9X+1Wl3KZrP19evXHzm2si3HVNoEhyQNiLGEBhkehNIAvjWQtyIK3kLEJ+QtakZiwh/tQGyVY8irp//V2PJJabznxvJwqpHG04IQdFhA18u7ej57enpk9erVsnHjRlm9enXy1nD2fFtLLDwAy4CSwQ+WgYIfvablYaWBcXh6IZlQnayZLat+mLggaOQZNQt0oJcX7ykg5DQVSOpvvW+dpIXxcflYREb1RvLAoksbZ2ZmErKsRzXrXi7tt5h3i2Dwb9Qz1BZVNy2LYrGY7EUbHx+X6enpZDbJI+x4DWf9FLBbxwVj++a6YZKDbQNBO7dvbmO4bI/7gbb1er3eMOvAhFdnKtSpwWXL6TEZV72wjK19X1yWPOuiceKyVSUZOIuFbQBncESOtGvMBwqSk6WlpYTk6Ey1zubNzMw0jI/1+pE9Oaq/EmIlOVx+THgx7yGwjv2Kr1thQzYBr3F6qAP3+xBRsuJJ+83/MV2rD6M+IXvTJjytyQtf+MLxf/u3f9uD13760592vuc979kkIvLAAw9Ufv/735e/8Y1v9Ol9bZcPPvhg8fnPf/7sT3/608r111+/5re//W15fHw8p/3loYceKmzfvn1Wn3vJS14ydYKy1ZY/SZvgHCexDLmImAMjLz+xxPLqMBjQ6xZQs+JjndKWAKGuaV4qj6iFPFyhOC3gaYEmBDjqJceTz/SkNF7zbhlRBCoi0rBHJs0I4T09vUiPgV69erUUi8XkON408YgoEgL09uLsBR/paoE/NqxpQB+XgVmGHMNq2VlLxRBgIYjSuPW0Jq8Nc9nhJn4mGXiQgbWB3poRQaJr7bPBctR4tbw1LdR1fn4+8YoXi0WpVqtSLpeTutPDJZTseC+wVBCOy5Cw3PUblxbhLKbO3FSrVSkWi1Kr1WRkZEQmJyeTF31iOeB7cbRtaNyFQqHhdDhMO5/PS71eb9ivxs4Erk/tp1zG2uat/oLAHuvHGld5nOS9VLonRvcW4YwEtkWcScNxAfuehrVmdLA8uSxwzME9OnzUNxMsLRtcWiZikxxMU+PVcUpnGJeWlmR4eFhmZmaWHTdeKpUanCX8UlotL61Tnc2x6t5zxvF/bjd3AAAgAElEQVQ4ZI2vaXYulG++HrqHaXm2Fu+xaHu09PbIkGVj9HfIkdGWeKlUKktbt26dw2uPPvpoQX9PT093XHbZZQc+9KEP7ednzzzzzPnx8fGO1772tVte+tKXju/ateuRoaGh2iOPPFK49NJLt8zNzTVUUldX13E9bKEty6VNcAwJAVYVD+Difyu8NyBagxaTCfby4AAbGiQ1HD/PoDUEBqx0uRxQYghZmkEJ3eNywesK5nTPS6FQSIDW7OyszM/PJ+FDhhMJDm4EtpaSWV49Bci9vb1y1llnybOe9Szp7+9PlgRx2giYvTLGuFEnBcWaJs5c6VIo9nIrMOdN0ApguR7Zk2uVF/7n+sF86W/e98FtUPOlgl5ua3kdA2NuLwg0EBTi0hysXy0/EWm43tHRkQB7vad58fqR9rHJyUmpVCpSrValVCpJV1eXdHR0JDM8SggsUqZxKpHSU/fQg69lzHWvs5jFYlHK5bJ0dXVJvf7UUqSpqamG999YY5k1o2ctAdS0q9WqLC4uyvj4eELiuI64vjh+JB84k4HP8FJLva6gGmdpuT44f/ofgbqCddxkr/EgGWGHifZBPGpZy9QbTzRtTAOPstclhPzeLSbb2ka0/ViztV7ey+WybNq0STKZjJRKJdm3b5+Mj48n7XJ+fj5ZcovLd3F/Ip7AyCcUog5cJ9Y975rVZkLgn8f8UJxs8ziONPtl5cfSyyMxIf28tEM6taU12bp16/Tvf//7MpMglf/+7/8uHz58OPfZz3728TPPPHNBROTnP/95JSbuQqGwFLu0ti2tSZvggFgeGv3vDT444OB/fJ6f88iE5SkKGQFO1wqj19JIkAI/XuNu5cUjFpZuzZBEC+TGeLQ4Hwo8isVicqyzztygJ9GKE5d4qJFWMKIA0CONrFNHR4d0d3fLWWedJVu2bJHe3l7J5/MNQBI9vfj8wsJCA3hiksFvENfrCsL4VDR9FgGwPqPeas0XzwJZ9aDXLf2YzKi+eB89wnrPAqk888PH0CoAxCV4ePIT13W9Xm84PhlPjcM4lfj19vYmHmglxwoY+cQ5JZqW/kg+tBwUEJZKJenv75fFxUWZmZlp0E/js46rVs/5zMxMQzu0llciwcG9GdPT0zI1NdVQPkgisF6svsgAXcG3pst64fJIjQfbk8aJ6eh9q3x5Jlb11GWo+gwTRnSCWASL2yLOfmn/wjEXZ2mw3SvA1wNOcOZNZ5L13TLYR1gnjV+XFOJYxuDZInPYBvEez85pXebzedmwYUPyYtC9e/fKyMhIg85IYPRIey1znc3k+raWn3oOAU/Qpng2NhTGio/FGpe5TtiuejaYdQkRTUsvxhVW3Gm28WTJ4Sce8Y+0Ow3S+NjHPrbvL//yL5/9tre9bf273/3uA11dXUv33Xdf+bvf/W737bffvmfz5s3z+Xy+/q//+q9DV1999f7//d//LX/6059eExP3xo0b5x9//PHiPffcU960adNCb2/vYrlcPnUq72kgbYITEB7MVKwBx7uf5mnx4ghds+KKGdR4wOSB0SN4MfGxPir8G8vFy5tVvrH5Q0DB77mxNsBz/hX0ord2cXGxYVkbxuGVYzablXK5LOvXr5fNmzdLb29vcgobgzHOAxIHDsfGEoGUAjEEUiyex4iXUynI4sMU1PAjKVbQWKvVZHZ2tiEOXM6GJyspoLNmDbgusY0jWBKRZB9JsViUfD6fgFckb+jB15kArSMkAUh6lMSUSqVkqZXmS3/jUdlcl54XV8tpampKstmn3gJfLpelXC7L3NyczM7OJvnUMtZjzbVN8l6N7u7uZWlwX9P9FAo4Z2ZmZGZmRqampmRycjJZHofE1Fu+iHlbWlqS2dnZRCcmrUraFIxr/el/jlf7GBIRPaId9/not87K6tI6neWYnJyU2dnZJCzOlmi9aZuxThNEYoXL+nRWTOsDP1xe1rioZYfpF4vFhpkZ3AfFbQiJFc4s88wmOjE0Hp2JDNktFV1iuHLlymQ87OjokAMHDjTUp7ZP7Ku47E/LEE+ts/ZpcVtg8WyNXgvZyVC4tLKwyEOa/fLij3nGIj+eXiinEqkRERkaGqoVS6X6T267Pmo242ilWCrVh4aGjvlm/Re96EUz3/72t3/30Y9+dO0rX/nKZ9frdVm3bt3c61//+kMiImvWrKl9/vOff/SGG25Yu2vXrpXnnHPO9I033vjHN7/5zWemxX355ZePfuMb3+i94IILzp6YmMi2j4k+9pI51TpGjGQymW4RGTsO8Qb/tyKeV8oDQK2my54wLw6PdKXFHdIrlMc0SSMxzZAt9JQq6FAQrV5Sb/kXfusyHosgWd5R1U//Z7NZqVQqsnLlStm6dats3LgxAd8aB+/54Pg0HwoM8L7qhOQBl6Th8pBmp8DRi6v/NW8I4DQvWjYzMzMyPT2dzCbgEhzco4LvHcKZCiZ9CDb5erFYTPTQY44VLCopETlCTLXucMkhLtXSmT4mhfoyVn1HzMTERALm8/m8lMvlBLDNz883kGisSwbNCpZxk3+hUDCf17QQaPNeI17+xLOU2geQ4M/OziYzUnpPwbUHQHFWRNsc1hG2RySmuByT6xRnZnAZm+qh9d3Z2SmFQqFhNkb1QeeDkmxdcod55j0sOKOFeuE3L/XUtqafUqkk5XJZqtVqcvy81p/WtT6D6SBI1t9YB1ovTFK4n2K5WUsvRY4sZ8S2pHEhIeV9UloOs7OzcujQIfnjH/8ojz76qOzfvz/ZH4d7HJVcIvnRNqvOEO33OC5wf0mzA+gE8hxEHFfIHmrbtcJ4zkpM/2jtNtZtjN0OORT5/jGWnnq9Po4X7r333mfncrlvb9myZbJSqczivd27dxeGh4dPiBN9aGiodjq85LMtx0amp6dLu3fvrtZqtQu2b9/+oBeuPYPzJ/EGN70X67FpJb1jEbfniWLxBr9jQYq8GZGjEc/AsH68hEREErCAIICJIOuMQBKBRwxRUKNXLBZlxYoVsmHDBlm7dq2USqWGONLqCmcvUE8EkqivkjsEL/jNz6BoOAvcWHsm6vV6MtOgn6mpKZmYmEgIgJY9Al6cvWBwo3lEgIa6o/cbvcEi0kBqFciVy2Xp6OhIwK/OimA7UXBaqVSkVCpJZ2dnQnS0DS0uLsrk5KRks1mZmppKZgoymUySD/3NS4y0DLmeEeQz0OUywNkiJBTsxcfllDpbgeWq7V/3TaiOWh+4RIrfX4JATgmsAm8ewxhU4z4RJWMM5LSdIRnJZrMJaanXj+zn0X6E+45wNkdJDxIenrUVkYZ0sK/gB+sNy1jbiH5XKhXp6uqSxcVFqVarSV/Uj5YpkmfsD9gmdaawWCwm7Rb3Y/GMrKaF+2K0Xrnfa55xbxGWi+ZT/2s82p/6+/sT8jw3NyeHDx9O6k0F2ye2W21DOPOq+niz2R6BwbzrN5IMlGaJh2W/OM3YOC17irpacXm2AMkXkxvW61SSLVu2zLdJR1tOprQJTkBwIPIIiTcTYw3A3oCExv5oByr29BwtcbIIhjcQh2ZGOD5Pdyt9KwxeV+OpXngRafDwegbQ0ksBNB8LrWl7XkPNv77rZu3atbJ+/XqpVqsN4E/DWuvsMT8MiPAbZ4HwOFrraFv0djLJsWZIuO1g3vRdLocPH5bDhw/L2NiYTE5OytTUVLLkSQEULjPiMkJyw15Q1g9102uafwv0IYjnk5+wbPGlr/l8Xrq6uqSzs1PK5XLicc/lcjIxMSHZbDYhcwjutexxNs3z9lp9B4E5khlcSmW9MBHLE/ceYdy410vBZLlcllWrVkm1Wk1AqBJUXarGG96RmGh94wtLvdm+NIcR1i/mXfOCs0m5XE4mJycbALzWqfZ9dETgvVC9aHnivh4kO9ZyVJz10TGnUqnI9PS0rFixYtlMj85saFw606j9QOsWZ52VQOXz+eTQCW13FiHR39pesI9oWF4uimXBjhckTrqcr1QqyeDgoGQymYRATk5OJiQ5k8kkzgFMX+vFGqOQxHDb8OxIaBz37BQ7EbhNWn3TstshYdKYRpSs6yxpeW1LW9oSljbB+ZN4A6v+ZoKiYT2Aivc5bm8wb4XcWGCKvT6x8XjX0rxWFgn09EOC4JUPGxcvXv3oSWm6xhyBQ+j0Hq5jBfxqpHFJmz7H5Bb11SVN69atk82bN8vg4GAD8LL0x3JR3T1yo2BCwyPY4jpA3azZGwX4Io0Az9JpcXFRpqenZWxsTIaHh2V4eFgOHz4ss7OzDbNjVlnrdQU/uJzGa19M/nlPiYbR+sVr9fpTS6IymSOzUthvdQaGPwcOHJBSqZQce4xLihTsKcHBOBREI5DjfPDMhgqWG3q0ue6sPHL/QKCI+1wQ1BYKBRkfH5dNmzZJZ2enTE1NyaFDh2RkZCSZoVpaWkpAOh+kMD09ncyGaV1qH7GIqi4pU9295Uh6XR0LKEiIeWmmPoNLHbHOdRbF6sNMXlCY2KMe9fqRl4SqdHR0yPj4uHR2dkomk0lOxuvt7ZWenp5khkfTzuVyySyjzogtLCwkfVJnF3UZpC7/xFkt1VPHLCQRWuZY9uxcsAg4j2fatpXkKEHWet+7d29CijWs7sfBeLX94qyy1ouOs14d8FiQ5gTke57DQe9hfkM2kNOwiJQVt0egOKxFvlAH7lvY948GP7SlLU9naRMcWT71jAOfZZTxOUuswQfT8YxqGvFJ8zBh3GmGIDSgYj5C+UTDwAOt55lHYOvlwSsT1kNBPpMbXXKjhtUyeqgL6qMGGpfrWAQJ86ykpLe3V571rGfJpk2bZGBgIEmDCUbImOIJTUiM9BmcYcIZGCs+XpKHx7rqc5pPBHAan4L6gwcPyr59+2Tfvn0JGLYOH0BSgUvnrPzofa9/YV4R4KqOuEQMywbbHsaJQJ3JlcanS7AmJiYa2gSGY4DIe1BCoMVacqfhcKO45RDgexqHNeOih1nwMsH5+XkZGxuTsbExmZiYkJGRERkdHU1AquZVCVexWExAaKlUklKplJBsJHJLS0eOIUayhmQFZ1PwRC3sY5nMU7M3lUpl2THI+lJcfU7rUPXmmSQNgwcUYPi5ubkEZPMMLR4qgfWMY4qKpjs6Oirj4+NJPpSc9PX1ycqVK2VoaEi6u7uTPWFKfLLZbDJLMzc3l3zm5+elXC4nZLNcLidLQfVACCa6uPQRl8hhWSFhQQIdsjWYVj6fl7Vr1yZxPPHEEzI+Pp60C1yeJ3JkfNH6xNPzuD+wY5D1YNtgiWX3vPE/ZHMtW4tpWLaLiZJnX7Hfc/xWHkM2LIZAtaUtz1RpE5w/ieeFCQ1W/Az+ZyCPwh4uz8OEz4YG7ZjwrLcH2psRBJhe/BbJw29OP/Y+GnFdoqLkBg2qBTR5PwACcjW8usZfwaFHHPWZUqkka9eulQ0bNkh/f3/DSVG8PAzzwGXCS66QpPARtdbyMmumCDfR6z4djRtf7KjP60bt+fl52b9/vzzxxBNy4MABGR8fl7k583UAiT4KbBTkqSdaT+pSPTEfWh/YLywgrdeZ7GK67C3mctclQ1heHD9u9PfIBYZHnbC+8HQ2BP5cbggIPeKLYJb7gpYntgnec6bAvVQqycLCgkxOTiazcJovfMkm7lPSe5VKRXK5nExPTyd72zSsti8lxViOWkaqA592h/u/FJArmWKSru2E+yDv78B9ODg7opv+tX3wElZ1HOBMKc446OwNtgUkSfp7bm5OpqenZWJiQg4dOiQHDx6UwcFB6e/vl97e3uQ48N7eXunu7k5OtMODBrTvqhNH28nk5KTMzc01tG0sI3R+6BJK1Q3L2SJ4Go7HLP2t4+2aNWsa9vPgu46svqz5Qv3UKYX7r1A8mxSyVWl2mq9ZjpVQWkwsLAzg9VGPiOg1JHkYp0ekLP28MmhLW56J0iY4fxJr8Al5jDyCYYUPkYk0UhEaFPl+KE0rfIxHDPVt5hlPDysOy1CEBNdzK7Cp149spmYvOOrqeSoRaOJsAetpEdJcLicDAwOyfv166e3tTV4squlo3GzELaKjYBTJil7DE5/SjJqWkc5u6clj2E7w9CQFhTMzMzI+Pp6QmYMHD8rBgwcbCAp7MFVQNzy5CZcycVnihnksAw3LS7fS2rWSDWupk5IOnDVAAoB6IWnx+q/VZrWeNQ5ryRqn67VJrUclSGntGuNjZwHuM9J3+mDb1N/a7hVk63Kqzs7OhHTo0cwMqvH0PgS7OKuH4BeJJLZHTVeJEx/igKfIaTvBE9YYaHJd6z6rmZmZBoKnfQzBprZhfR4dIUygtR60nnDGRI+uPnz4sAwMDEh/f3+y3GzFihXS2dkp+Xy+4YWrSEx01rWzszMhmbhEVMuR7YF+cB+X6sT6Y316JEfLolQqycqVKxtOr1PdkWhjeWm6SBqx3TOZtfod94+QffTGihi7hWHTbGNILFvH8aeRFMs+evluk5u2tOWItAkOSZqXRcMwKAsNLCGPU5qkxc3enJj4YsNi+GaeCUlaXmLC4OwNAkDejB3jzVMDhu96wL07FvjE3wo61q5dKytXrmw4opiNG54uhLqwTggqFAzw7I1n5PAYZDzCFQG/htflI3rM8/j4uIyOjsrBgweT5TYKpPD9PZ7Rt0C/AjAFc3hfl1MhKdDnFEwi4WDhGTB8HsGS14eQULLnlPXkvPEsAoLk0AwRhsf64/rBtmHNyqFeVp4UjIo81SY6Ozulr69POjs7ZWxsrGH2BfVBYqmEVkSkVCotmwHk/sFEVnVEsK/lgySIgbXO3JVKpYYZI56dwzit/V1Y99gmdBZHT/zTcsNZP13epif2aVng7Ajn35rxrdfryWySEsOZmZmGWZilpSXp7++XSqWSzHZqf9N+o0vCdBZOyZ+WjRILi+CoIKHAGTYtd2tmjAWJYmdnpwwODibLO/FdPuzsQKKp/R6XoDLJ4TSt9q+/LQLAz4fsqGefY2y2Z7NatfcxNquZZ9vSlmeyPOMJjkdaLIkhGrHEKOSJbVZCaVvhYuPz9OF4POPipRcikfgc3+f15egJxpkICwx76Siwwb0p1hHH3vPFYlH6+vrkjDPOSNbUI3BgYxxbBypIbHhWQgXBtc7Y4IlGWJ5aZkps1LM8MjIiBw4ckAMHDsjo6KjMzMwk+5EsIKrpcfnwEi8EolwWqjsDSwaIHmBB77AFNlVHTIt1w/LhesL0MU1c4meFZZKDH2uPgArOpHBbQcKD+WVipmEQXJZKJenr65NVq1ZJNptteI8JEmjcrF+v1xPgjGQIN7MjGLWO/9a247UNXJ6G9aHkolwuJ4BZSQI7NjQdrBMPJHM/0b7F7VfLQfOJ9YBlhvnheua6wlmZ2dlZmZycTA4Y0OWwQ0ND0tXVlZwap6RKy0DLs1wuS6VSSfr65ORk0raxbWj6uvQQ37Vk9Q9eXqb30WGERCSXy0lPT48sLT31stfp6Wk5dOjQslPptIyxfWicvGQ0ZHesdp7mxDgWwnWK6bMurB/HEwqXZsPxvhU3y/Esk7a05XSQZzzBUWGQHjOY8B4IBuZMWkLgxvLG4rOWviGS4cWVNuiF0tP7nofNAnuxg7ze4yU7WJZIRHD/hgIA60CAUF5EGt97gy+kC5Eb1TOfz0t3d7ds3LhRVq9evQwkIqHQdC1DyV7+TObI/g0mc5wPBF6FQkGq1WqyqVqk8ahk9b7rqWgTExMyPj4uTzzxhDz++ONy4MCBBFhpWbKHFfPPdZPJHHknDAN1rk8te80/xo37Gaz2omkxsLXIgH6jHiKy7KAFBfFcLwjukDToPa4X3uyudYtjANY3g3oUJggaJ5cfL5vSZ/QFmStWrJChoSEZGhqSqamphvauMzhK7HXvFfaBhYUFGR0dlcXFxQSQKtnGE+sQOOuMqLXUj19WijN5mUwmeT9RpVJJCDjGoXEyOMcwuCwOy16XYuK7bFQwHxonbujnd2Mx+cWlX0ygMT7VYXJyMlm2NjY2JtPT07J582YZGBiQcrn8/7P35mFyVlX++HmrutaupZfqru5sJIQEJDEaUfmBog8i4oIsIw4Mw0jQccAFGGcGx4ijPhlQRNFRh2cmCj5xARTmO6MDMgwy48IoIESEhC0NZOlsnfRWVd1V1V3L+/uj87n51On7vlUdBNTkPE8/XfXWfe89dz+fc84915yRwrlCETFn5gBccTbHdV0plUqzXGt5TsACZPsNxCAHdWJiKxzAU0dHh9TrdRMyvlwuNwBhtuDwnUywSgGAMVhmvmz7SDOgoEnvzV71t5FXOp2f1/qu+fPiV68/GpQ348mW3xGAc4QOZzrsAY7Xgue3ELKWjNPzgmfT+vgtNjZtuNfCa1vYW+Hdi59mC7yIXVvtx5dfXW0aN6151AQggvC94InBjU1zq/lBOezehI0fkZpsLi7IA/wFg0FJJBLS398vS5YsMYe3kSe3m9YS29qT3wN44rtNWMDWACoYDEokEpFUKiXRaFRc96DWF24jkUhEYrGYTE9PNxx83rZtmzz//POSy+Vkampq1hkGm0WMgQULpsFg0AiEXmOF2x7CqhcQZl74/Aa3AQMAzCEOOKC1xbpuEOBhedNzWfMO4QzlcDoteGsBhceeFh5Rf/DBmm4e27b5zG5m4AGXzfb29kp3d7d0dnYaF6gFCxZIqVQybk4c2hf3/RSLRSOsAvSMjY011BUWCdd1G+58wTNbn8ViMclkMuK6ja5b6AsIvOFwWGq1mrlAloMBaBc4dnniec3jDOVXKhXJ5XIyOTlp3O7AN/oV//ncD/rQ5r7KY4af8dxElDS2WsF6UygUZHh4WPbt2yfj4+Pymte8Ro466igJhUIyNjYmhULBWNJcd8ZttFabuVgUADYQCMj+/ftNEBBWMDAgBV9sOWKQzeMR45sBDbcx5kI4HJZMJiNLliyRfD4vQ0NDs6zY7Eao5yW71aIcrQSw7Rl67uj9k39D/7Wyv4K4DW2/2T5z3rxv2H7X64wfKPKrt1e6lxvcDAwMhIeGhl4SGTObzVaPXCp6hDQd1gDHJlTrjYrJa3G0AYdWQIONn1YWNJvg5QW6bPW1/e4HDFhAwabkt/DrDcerXjbBwKtNICzYhGObhUFviFwO/pCfPsvjBZR4I8Lt3osWLTJuGjYrAviBxQCCDbuIsEUCApFXH+k2DYVCEo/HJZ1OSyQSMQIjC42RSETS6bQJ+Tw0NCR79uyRHTt2yI4dO0wEJM4fQg3zxn0LYYujOwEgacumDSzofrS5HPEZCwZStvYQkVluU9wP6FvbGSZYqfR64DiNblksNLNlx+YSaXM3g+DGVjG8i/tcWADU81rPbxDXORgMmvDEPT09kslkJJFISDQaFceZCYPe399vwJy24qBsnBfBXTlDQ0PmbAjXBe9UKhVjIUTdIUAHAgETDQyX4MKCsnPnThkdHTXKAZyPgXvcxMSEOUyv6426I2gE6sKRASGogxh8wc2KAS+7qTKgYuDMz3h94nEtcjCiHy5WFZEGBQBAVD6fl3K5LPl8XkZGRiSXy8kb3vAGWbBggXR3d0soFJLx8XGZnJw0dWZrTTKZlM7OTqlWqzI6OtoQYU3PPW39tikYAIj0GOX2Zysr1qH+/n4Tcpz7FOMC440DE5RKpYZzXZj74MlmjdKkgYTX3mvbC1jpoPNqBmya8dQMlOh1wwaKGHB75dPs+csBdAYGBsKvWvXKlaXy1KEdRpojxaIR97HHN21uFeS85S1vOaZSqTj333//gP7tnnvuSbzjHe849sEHH3zyxBNPLOnf77///vib3vSmV9x3331Pn3baaZP695NOOml5Mpms3Xvvvc8dWm3+uOjpp58OX3XVVfMfeuihZC6Xa+vo6KiuXLly8ktf+tKu1atXl5vncOh0WAMckDb/2jQqrSwStkXISyjxepdBDJ57gQA/LZEGblrotwmBGhB48eb33AtYMQ+aXxs40e8zQIAwojXbXC8byNGbmMhBC4SINFg82N1Nt0soFJJ0Oi19fX3S09MjwWDQUwCzCcS6btjU+XJFW3vwuIRLWjwel2QyaYRCaNzhchWJRCSZTEqpVJJdu3bJ7t27Zffu3bJr1y7jksbnIrQl0dZP+uwBnkHQZIHPVlevjVz3hw1Ms+DjNVb0e0jDbku6fb0EA+2Kh/z5vIOeU+xyhXy4ngC8mvQZCgabtrELnpAG51ZSqZRks1nJZDKSTCZnCZiIhob6wGrEVjnk1d7eLvF43LgXIeoYxh/AABOEWPDNcxRCdUdHh4gcDBGcy+VMvq7rSqFQMGdVmDduBw1E29vbTV3Ap23dZisP5pyINFx0iv7QvHOfY1ywi6BWcoAX5p/BhoiY9Qbnc2CtWr16tcyfP9/Uq62tzdyZg7abnJwUx3EklUpJKpUyoNIWRprHMiwvNisOW3P0WmnbF1mR0tfXJ/l8XiqViuTzebMOsYWNwR1bVwGOHccx4EjE7n5q61uv9UDXw7bX+u2ten/Tbeo1zmz5+QEoL9fCQ6GXA9QwDQ0NtZXKU86GT51ZPH5JprVDsYdIT24dDqy55q740NBQW6sA55JLLhles2bN0ueeey60dOnSCv928803Z1asWFG0gRsRkVNOOaV47LHHlm666aaMBjjPPPNM+KGHHkreeuutzx56jf54aGpqynnb2962/Oijjy7fdtttzy1cuLCybdu20F133ZUeHR21Hyr+HdIRgONBrSyUh5qXH9mABz43W/RsC7UXkNAbhd9i36wOOl+/jccGPLw2GBZetNbRBnA0n17CqwYUyJfPj3htoIFAQOLxuGQyGclkMtLe3m6EH03a8sWCko0Xr0ACejOE/z2ET1hucEkg3yWSSCSkVqvJ7t27ZevWrTI4OCj79++X0dFR4+qi+bVpbLlNtMCPOunzIjoPG9mAtwZcNgsiC/96bGlrkG5DdkHyGvsMVlggZr45jQ0c6jVD58n56cPqNnDObYTxhLETDoclFotJIjNVfoEAACAASURBVJGQzs5O6ezsNOextCAO8MHtA2K+2MKZzWZlenq64e6cev3gzfU8z2AZiUajRmmA8VEul2VkZMSArkQiIel02kTict0Z1zX8B1hE/qwwACCEu2h7e7s4jmMAhU0wZlAHAMLtzudC+B0eH7Y2Q9/rueO6M5YsHhs8btlKgjrt3bvXWFAmJycNyEmlUqYNYIliKwgAKZQ04IXnE+qKfoVbLuYC2hb14s+6ztpVEEEHent7TcjoQqEw61wSj3vUGesez3e9tmvS+4YNiPi96/e7LU9Or+enLa3futfqfqq/673Aa7/+faHjl2Tqr3tFv31jeBnpggsuGP/Yxz5WXb9+feb666/fg+e5XC5w9913d37mM5/Z6ff+X/zFXwxfd9118wqFwmAymTQTYf369ZlMJlM577zzcqVSybnyyivn//CHP+wqFArBZcuWlT73uc/tOvPMMwsiIl/72te6r7766oUbNmx4/qqrrlq4d+/e8AknnDDxve99b9tRRx1VERH5+c9/Hl+7du38p556Kl6tVp3jjjuu9JWvfGXwjW98YxFlDg8PB6+44ooF//3f/90xMTERXLRo0dS6det2/tmf/Vlu7969wQ9+8IOLHnrooWShUAguXLhw6m//9m/3XnrppaMiIl/60pcy119//bw9e/Y8zrLHaaedtrSrq6t2xx13bHviiSciV1xxxYLf/va3iVKpFDj66KPL11xzzc5zzjmn0KydN27cGB0cHIzcd999W5YvXz4tIrJ8+fLpt73tbbMsXy8GzVazHibkJay08l6rgMUmYM9lYdPP/RZlvRm3Uh5+93tnrhqkZnXwSqMFEGzAfEGfyMGIafjzcifTZXG+fPYAggRCJvsFKoBglEqlzIV98BvXpAVYPksBAqABgOOD716bHO4lSSaTxnIDlxV25cFBbUTNeu6552Tr1q3GcoNLBVEvDRT0cy1cs7DJWlyvPGyWEFu/czsB3LLwyGcYWNBHmawF1ryjHzSA1cKXDUjxGPBTMHjNHQYuaC8N1jkdl6kFdXbZC4fD0t7eLh0dHdLZ2SldXV3S2dkpyWSyIZIe94ENRDOI4LpACEYUNri8wcqBOWhbm9gShzaFG9Xg4KCMjo6K67rS3t5uLE21Ws2cV3Fd1wTOwFwFTxx8A9aIaDRqXOE4gqDuY6wB4B/unOBfXxLMbqy2vrftH9yWOggKj0XuW7TP5OSkDA4OyqZNm+Sxxx6TLVu2yMjIiIiIxONxU0+2POPi0Gg0ai7XtQm/eixz9Ei2FIIf22cvoR6At6urSzKZjKRSKeOOqcewBjsM2LHm+7W5budW9qlDAQKt5H2o+Xp991O4eAGu32eQ8/tIoVBIzjvvvJHvf//73Ty2N2zY0Fmv1+UDH/jAqN/7f/mXfzkyPT0d+Pa3v92JZ/V6XX7wgx90n3/++SNtbW1yySWXLHrkkUcS3/nOd55/5JFHnjznnHPG3vOe9yzbtGlTBO+Uy+XADTfckN2wYcPWe++995ndu3eHL7/88gX4PZfLBS+66KKR//3f/33m5z//+dNHH310+Zxzzlk2NjYWEJmRh9761rcue/jhhxM33XTT1kcffXTzunXrdgaDQVdEpFQqBVavXl384Q9/OLBx48YnLr744uGPfOQjS37605/GRUQuvvjisfHx8ba77roriTKHhoaC999/f/qiiy4aERHJ5/OBt7/97bl77rnnmYceeujJ0047LXfBBRcsGxgYOBihxYP6+/urgUBAbrnllk5t6X8p6IgF5wD5aYL8Fo9mv2uNi87/UPK1aSW5LLzr9buXlrkZ+NLCohePrSy2XiBHC3DY8OAKw5F4Wl3ctWADgOM4B6N+AdzYwAooEAiYQ9IQ9CCU28r0442FJg1umGedZzQalY6ODuPXX6lUpFQqSbFYNIflYd0Jh8MyMjIiTz31lDzzzDMyNDTUcJGgFpo1YGBeNT9a04rFi8eJBhgsRPopGNhqgcAANuDJYIRdsKDh1iDFcRzjCsT10UEg9Pxgtzu25rB1R5NuL9baczsjf5HZdydx+dwPsNrAAgL3JFj0AHz1mAKxdQJlMJ967GLc9/X1STQalVgsJmNjY+YyWO5/pEdIZ1gauP2q1aqMjIxIqVQyB/0TiYS5i2lqakocZ8a9EsJ8LpeTUqnUUAbaEWsCgBa7XnHZXD8NMhlYwq1KpNGawSCb2wttyuOI+58BM0i7uzHVajWZmJiQnTt3SrlcllwuJ7lcTpYvXy5dXV0NZ/RgeZmampJyuWwuMS2Xy8aaa+tbkA6DzfOJedVthzbhelWrVRNZsqenxwSq4AARGANQLDFvOo3rug3p2PWU5zTIJvzb+kOPby/woGkuIMJv79b7ptc+rd/R6b3WTdu+cQQAzaZLL710eP369dm77747CavKd7/73cwZZ5wx3t3d7Wt1ymaztbe97W1j3/nOdzIf/ehHR0RE7rrrruTu3bvDl1566fDAwED43/7t3zLPPvvs44sXL66IiKxbt27ovvvuS69fvz7zz//8z7tERKrVqvPNb35zx4oVK6ZERD74wQ/u+9KXvjQP5Zx11lkNVpJbb711ezqd7rrnnnuSf/Znf5b70Y9+lNq0aVP7o48+unnVqlVTIiLHH3+8cdNbsmRJZd26dUP4fvzxx++77777UrfddlvXqaeeWuzp6am96U1vyt1yyy1dZ599Ntqgs6Ojo4o2Oemkk0onnXSSWXy/+tWv7r777rs777jjjvQnP/nJ/X7ttGTJkso111yzY926dQtuuOGGeStXrpw85ZRTCpdccskI8/li0WENcH4XWp+5CPOHUp4NvOi89CJnAyIi9jDVtgVSl603FA2SWqFmmk8ui90nAAI43LHWhHrlDz45P9wd4TiOOchss9zoTQF1x9mbdDptrDdwo2EXLS93LRC0zuCFy+B2YAErEolIR0eH9Pb2iuu6Mjk5ae7TQLheHDAPBGaiKv32t7+VzZs3y86dO83BZG4vBiE2nlmzqg/O62hlWpBlgRxCsE7DQiNrY8Efzl/w2PUaMziTFA6HzUWKHJ1L5OB5Bw6THAqFpFgszrqkUisE9Hhlnvk33cYQpjlIhrZqcJl4l8cvjwM+a5NMJs1/uCuiTnpMgQAEbesS1xn1Q3vFYjEJhULS3t4u6XRahoeHZc+ePQ3BB6CYALCBsAyrCi7CRVQwdgmNRqNSLBZNuXC7rFQq5sJZlMHjw3EcGR4elmKx2BARDXPLBi40qNF/U1NTDaDI5i6lgQvfG6WVB7pcrgeDDLbmFYtF2bdvnxSLRRkeHpbR0VFZsWKF9PT0NIS1B1/cPgxyeAzZrHhoK66XDhaixw/XnccYW3EQpAKXgKIczANed9majPGJsaQVT7Y5wuNYz1XmUYMbJhuQaGX/9wIffvloUGmrG6f1AjVe/Oo0R0DObFq9enV59erVkzfffHP3mWeeWdi8eXNk48aNic9+9rNbWnn//e9//8h73vOeZU888URkxYoVUzfffHPmda973cTKlSunvv/976drtZocf/zxK/md6elpp7Oz0yz40Wi0DnAjIjJv3rzK6OiokcsHBwfbrrrqqvkPPPBAcnR0tK1Wqznlcjmwffv2sIjIb37zm1g2m50GuNFUrVZl7dq1/T/60Y86h4aGwpVKxZmennZisZiZUBdeeOHolVdeeVSpVNoRi8XcH/zgB91nn332KNaIXC4XuOqqq+bdd9996f3794dqtZozNTUV2LFjR8RWpqa1a9fuv+yyy0b+67/+K/nAAw8kfvSjH3V+/etf77/tttuePffcc/Ot5HGodFgCHNvCqBeHVsCIVxovwcFrgbGBFq+8NI82oOMFYvzAD3+3CZI2IcmPV7/8OQ8bbxy2GRo8/uO2tIEC/s/nd1hziDCp2prBQE7zHYlEpL+/X3p6eiQWixkhjC1O2LC9LEHY3OE+xAKQ3ug40hUsN319feI4jtGg4xxNIBCQZDIp/f39Uq/XZfv27fLoo4/KY489Jnv27DHghtsZliy0B7cvu4ZA6LJttNx2EKIYsACceLWxFqb1eGNhBc/0vRlcfnt7e8MFkTYXKvASDoelu7tbHMcxd3cwX6gzl2ETXEEsQFYqlYb2AEDjKF4sfDPw4894F+MLAAOWm66uLkmlUgZ8YExpwRB8A6TqMa7XIF0/13VN/jjQj4ttd+7cKRMTE7NAKoRatsSCAEQmJiZMH9VqtYYIc5VKxQAczpvXADwrFosm9DXPsUgkYg7uawBvEzo5ehgDUgBj9IPrug3gDNYLdqVlwKvHMcY9u2PV6zMXZvIcwLmnUqkkhUJBxsfHZfny5ZLNZqW9vb0h9DnfkRMIBAxgZLDG/YpgENwnGmRpNzUNjPh3jN1qtWpCRwPk7Nu3z6TTQVS8rGJ6LUf7sbLDpmDQfarXEttepvvFKx2TbQ+y8YHfbXu2Vzo/QOYFlvRz7XZ8BODMpve97337165du2hsbGzH+vXrMwsXLpx65zvf2fRsiYjIWWedle/v75/+xje+0f2Zz3xm77333tvxpS99abuISKFQCASDQXnggQee1C7BqVTKLERtbW0NnaKB6IUXXrhkbGys7frrrx9cunTpVDQadU855ZTjpqenHRGRWCzm26mf/vSn+2666abea6+9dnD16tWlZDJZv/zyyxfifZGZ80hXXnnlUbfffnv6DW94w+TGjRsTX/nKVwbx+4c+9KEF999/f+raa6/dedxxx03F4/H6eeedt5TzaEadnZ31Cy+8MHfhhRfm6vX6rlNOOWXZ5z73uf4jAOdFIi8hFsQLkh/IYPJaAHUavwXQK60XaPLSSHlpknTeeuG0aXu88rDVzVa+DYQhjV74eUMTOShc803pui0grLMLmi2kNNyToDXXoZH96hEMBg3AgGCnNfX8Hm/+HKUKWkytXQa/vLlBAMJdF52dneK6rgwPD0s+n28Iw9ve3i7z5s1Ytp988knju79//34THUpvmI4zY/HhyE0i0gC8GMg4jtNwVxC09qiv13zSgiWeg3eEYuY+YDcZBij4rtsb5bJgxi5IDLZQ93A4bCJPQTDk+YY+ZksdBCxtgeLy0XdcbwZWNpcz7nPWsrOLJgIJtLe3G5CTTqeNmxcLfjaLg57ztna0rXVaoETgAliMQqGQseTooBVwpWOgwMBTW2T1msZgAxYSgB/MKQbucG/DGTvcT6WFV695z+6weMbARwNTBsNsheAIenyAn+egbe3jfkfdEJxh37595uLTRYsWSW9vr+l/PhPFZbe1tZnxDT55rOMZ+AmFQg1jGuk0ELfti5wX3A77+vpkcnLS/FWr1VkR02wuaOCF5xr6QJdv22f99kZbv9vWLgZaXuXo9/34aWW/1p/9yE9m4DX2CLDxpksuuWTs6quvXnTTTTd13XHHHd1r1qzZ52W51BQMBuWCCy4YvvXWWzPz58+vtLW1uRdffPGYiMiJJ55YrNVqsmfPntDb3/72iUPl7ze/+U3i+uuv337++efnRESeffbZ0Pj4uJHbX/3qVxeHhobCjz/+eMRmxXnwwQcTp59++viHP/zhUZGZvXjr1q3RY445xricxeNx94wzzhi/9dZbuwcGBiKLFy8ucxCDRx55JHHBBReMvO997xsXmbHo7Nq1q+n5Gy8KBAKybNmy8iOPPJI41DxapcMO4NiEUb/FSWt//RYfmzChvzcT+P00NX486AXfC0jp+urvXiDnUKkZrzoNAxzW5LImHguQ3vx0mGUAGX0RKFsZmvGGcuB20dXVZc7vsPDHwph+l4ViPluk68s8QNhKJBLS0dEh6XRaHMcxt57D9SQYDEo8Hpfe3l4Jh8OyadMm+e1vfytbtmyRoaEhk06Pe97kIXSzgIFD3dp1RINMri9rWvEbtzHzwEKBdttCGuaHXem0VUKDF31Bo1f5GB8QihmwIG/WrusxyAKjzl+DKdQPAivqzQIlW4y4jQCI4/G4+UNgAQSS4PVFa9aZN80n950mr74AT47jSEdHhyxYsECCwaCMjIyYe2u4v1A/dknDnNbjzrZO8pxhZQHqirbVZVUqFWOh5DkK8gJ4NkCL57qt8Y4eOwxWmD/drjo/nvssrIKfsbExcd0ZF7rx8XHJZDLS1dUl6XTazFkWyBmc2XjRfV+v1xsiqzG/WvHEpN1RsTYhZPnw8LBRtAAoAryzMoLXE235cxxn1lk/7jcNNECt7GVe+yqDe05re9+LL+bDr/xWefaay83295cD6Dy5dfhFD2T1QspIp9P1M888c/Saa65ZMDk5GbzssstG5vL+ZZddNvJP//RP86699tr5Z5111mgikXBFRFatWjV11llnjX7gAx9Y8rnPfW7wxBNPLO7Zs6ft3nvvTb3qVa8qXXDBBblW8j/qqKPKt956a/dJJ51UHB8fD3784x9fEI1GzSL2rne9a+K1r31t4bzzzlv6hS98YecrXvGK8uOPPx4NBAJy3nnn5Y8++ujyj3/8486f/OQn7d3d3bXrr78+OzIy0nbMMcc0lHPRRReNnH/++cu2bNkSfe9739sQYGHx4sVTd911V+e555477jiOXH311fNd120Jhf/qV7+K/cM//MO8iy66aHTVqlWlSCTi/uQnP0nefvvtmY985CN7W8njhdBhB3Cakd68RLxdr7SQZ1twmy0qtsVoLouxTXhtlbw2A6/fbQBN8+BXltemJHJwg+QNGlpRaGtt6fQf9x/O19gOnHMfe/HOvOFsSyKRmKUp5/oxMYgBz/jjunB7IH0gEDAhf3EPRrFYlFwuZ8L0snWnvb1dBgcH5fHHH5fnnnvOWG5s52rACzTi2uWH20YLHV7gRruYcZ1Y+MAfC8C2OaA3ZRaybAI8hEto6/G7FlA0b7gUldueLVjQYONeDs2zBnD8nl4jGFxrAdgWOMN1Z9zCIpGIOV+EQAKpVEri8fiscxh41zbfvIAl8637l93r9JqItkqn08a9bGxsTAqFQkNo6KmpKdNWDEg41LsNNOIZyuP0eswiTw3abWHfbeurBs98YajNPVOPJw43r+ujLX58Fo37Du/BdVSvVfX6zAWsuDMI7l+Tk5NSLpeN8sVmDdbrE4dm5jGCZ+wazP3g1X42AhDu7OyUTCYj4+PjxqWWwRfmGLv3ou9QHyatZNF10OTV362865eH37tzTT/XNL/L914Mymaz1Vg04q655q74S1FeLBpxs9nsIYXp+uAHPzh8++23Z9785jfnFh8ICNAqLVu2bPqkk07K//KXv0z91V/91TD/dvvtt2/7xCc+0f/JT35y4b59+0KdnZ3VV7/61ZPnnntuS+BGROSb3/zmtksvvXTxySeffHxfX9/0Zz7zmV2f+tSnFnCa//zP/3zuox/96ML3v//9S0qlUnDRokXldevW7RIRufbaa/ds27Ytcs455yyPRqP1iy66aP/pp58+ns/nGybVu9/97kI6na5u27YtumbNmgaQ9/Wvf33w4osvXnzaaacd19HRUb3iiiv2TkxMtHSHzZIlSyqLFi2a/vznP9+/a9euiOM4Mm/evKmrrrpq96c//emh5jm8MHJeDlT/QslxnJSItDxILO/7fmeyLaKsObRtmlrQ02Bnrguq1vDpNF7l6Xxaqeuh8qbzbgbU+B0WCrGhQRBgbTy0eTqEqBZesEk2C/3cSn84zoxLTk9Pj5xwwgmyZMmSWUIJkwYt/Bz1YyuTF8iMxWLS29srHR0dEgwGpVwuy9jYmIyPjxs3D4Cbjo4OmZiYkJ/97Gfy61//Wvbu3WsECZuVChapeDxubknXYAhWA9a6g2ygTgvPNgWBFvgAAlho5by4fTVwYMEVv8MlSQcNYE08CO3X0dEhxWJRxsfHjTsa8oGrEg64s/tNIBAw57iQN/jjEMWaBwhvwWDQABekY1ci7iNERYNbWiKRMGGV4ZrEAh8DMw0u0bdIp/tOzyN8Zxcs7ks8w6Wc4+PjZpwidDkfdIfbkZ6b7IrHz/XaZrNMIT+2DAQCAdO+uB/K5gbJdUH9mUd9LkuDKeQXDocbXGDBG1uf2L0OFhUd0Q7lh8PhhkAMzEtbW5upWyKRMCG8582bZ8YKu3/pucK82dYfAH8dhQ3kFUCFwSu+ox0HBwdl8+bNMjIyYiymHKRE390DizzqAgCEs1S2OnHdtJUKz217qNde5bePIj+d3ot4DHFaXbZfeXMlvz3vECntum7DmYmNGzce19bWds+yZcsm4vF4w630AwMD4aGhoZdEiZ7NZqutXvJ5hP7wqVgsRgcGBhLVavXtJ5xwwtNe6Q47C85cwI3f7zbtqC2NFzUDHrZFV6fRWjq/RVhrd/3Ij29epL1481q8/QjaPj6ky/75Ogoau7Fh09MuaNgUbSDEVk8bEA0EZg7rdnd3S09PT0MggVbrxdpKFiq9NJDQenZ1dUkwGDQHjHEzOCxKHR0dkkwmZWpqSh599FF5+OGHGwIKoEwOz4w/CBPs6qYBm3bjazbeteZatwG3L4TRYDBoQg1rAUD3E+ettd8i0iAAQfsuMtPfbClgjTTaAYAjmUxKOp2WeDwu5XJZ9u/fbw66gycuj4EXwBHOFEGQ5TMmbL2r1WoNfYW+5Ys7YbGJx+MG2Oh7YXgs2dreyz2S03I+WohHO8GdCHVBmwJMsMCez+elVCo19K1tbjDwBzgtl8sm8ha/y258eJfHNIMkPOM8NKBjcIW2gMVXp8U80MAGcwzrEM8XVrSgntzmbHHkfsJhfw2wGPyCz6mpKQMkK5WKzJs3ryHohJcySrvnaTc1DfqY+Kwa56XXWbR7NBqVnp4eyWazpl85gAral/cobj8GgQhC0cr+aAMz+K/HebM9TT+37R0akOu2b3U/9NqX9He/fdyrjV5KWrZs2fQR0HGEXk46rACOHwjxAj6HAkRs79s02vy+Tdi1CZSaXy+tkI0fLIxamPTiybZheAnlcyVepCEYwbLBZxVYcGFwAwEAmzwLHvzXrGy/zQSgK5lMmuACtnz1ZullxWGBzkZoi1QqZaKlTUxMSKFQMBdzOo5jzty0t7dLoVCQxx57TH7xi1/I4OCgcV8Doe20+xNchxjkaD5FpMGCAxAA4Rx9g7bkg9k24ROAFYIc58ECDpfP/vcMEjFeOMIWLHuwtrDLD8rgPkAZsVisAUBAez42NiZjY2NSLBZNW7LQ5bquOcweiURMiOZqtWosFzoilRZwMY5B0FrznTb4D7c0uC/xHGaLDerF7kZsReA21X2uBV/wh3dYcaCBYygUkkQiIbVaTVKplIyOjpo+9JoTUFxEIhFzKH16elr2798v4+PjDffZ6PEF/hgss8uTbltdJp8VwfrCh+Fta6StzUKhkJRKpQYAAgCllS5sYRI5aA1h4Dw9PSMTYn5yeRqcsRsvrCDZbNa403LkOg2+9PzTaxOfj9Hrom3fsu0ZGCdY0wqFglQqFRN1z9YfDKA5/DjmMvPExAqIZvt0s73L1te2vVzvlZzOD2B4yRe6DBuQ8dq7/d7xK/MIzaYLL7xw0Q9/+MNu22/nnHPOyK233rrjpebp95HuueeexJ/8yZ8s8/q9WCw++lLyo+mwAjhemg/bIu21wPFzDSj8QAye8SJsS+cFIlrR2uj3bYuvLU9Oy9osv7rayrXV1U/Qx2dscNA4slDNAAgCFVtsNBjS5dgsA/jvdbYA5cKNKZPJSF9fX4MrjC6HiQUZ/K7d0liYxDsoL5vNiohIoVCYdc8NLtGLRqOyZ88eeeKJJ+TXv/61PP/887MEIpGD4WrRt9wuCB/L/PP5EwgY7FIDkGMTNnkMsZBnG1fME/rYFvUMvyEtBEK46bA7Dt/9wWOSwRML+wji0NXVJblcTmq1moyNjUmlUjF3DDH40wApnU6bg/4YGxMTEyZkMQvneB8CG4Ml/B6JRBrc0PCHSzxh4fCybOl66rNE+MyhhVlzbxvP/BnjB8InxgSPMRGRZDIpCxculHK5LHv37m2IUgde2O2xVqtJsVg0roCdnZ2STCalra3NgHuMf+aJ680uTeFwWKrVqkxOTjYAPvAOywjywPyMRqPGEoMzV5zGpjyxtR8DcIBcnht6XeS5AIsPgzQuC/2KPkC/TE5Omvc5KEsqlWp437aHcb9yOts6hXJtShqvvalWq0k4HJaenh5zkSuUAMgLwEVEGvoH64wO988uf7ym858NBPBnP8DmBxA4D9s+ju+t5mGjVgBYK3k3A3pHyE5f/OIXd3/yk5+0nhHp7Oz0v+TuMKI3vvGNk7/+9a+ffLn58KLDBuDYhFyb1oXJC7DYFk+dvw30eD3zAjt+/Hil0UKkjV+/RU4LT3NZuHlj8VtEub1Y6BE56JrGG6z2icfmrTc2G2nwZWtvBoK6XAAKCAq82Wufcz9iNyGUzRt0MDhzOR8uEC0UCuYOCwhI0WhUurq6JBQKybZt22Tz5s3y1FNPya5duxrOiHiNa9vYEJFZoXyhddXtDOGLo8ixoAViVyIum0ELjzP+jTXeNkGMgU69XjfuWq7rmjtV2D2NQZ2e9zj3Uq/XpVAoGDcfPvsgctA6AsEV56NSqZSEQiGjkc7n81IoFGad90DZrCnX/QKwlU6nJZFImFDQ6XRaUqmUCQjB6wz+s6VGAzkdjIPHIpePvmR3IOSFZyxQ8zzhcYx8EV2tUqmYM15w1YKwyncvOc7Bc0iTk5PmDBS3k821DooBnlN8mai2aPKY4DGCUMwauGCNQv0ZrNjmNPLjMjgt88DjXr+v5yr3oQ5Igf6YmpqSXC7X0G6BwIw7q1Zk8NjUVibbGGC+GZBx39jWQTyv1+tGeVMsFmVycrLhDjIeS1w2ry1YJwFmRWQWuG4mvHsBh1aF/mb7jN/v/L7X/t5MgejHk5diwkuOOULeNH/+/Or8+fMPKWjB4USJRMJduXKl9ZLR3wc6bACOiL+w7gcoWgEbOq2fBkWTbQFrBYS1rn4UZQAAIABJREFUom2yCfNefNk0X7a8vKgVEGUDHAwUWIhg1zUI13MBN1ymbfG3AU38BsGgq6tLuru7TbhZvzqDtDChN27bGIGLTiwWk+np6YbLCR1nJugAIrghWtozzzwjO3fuNO5rXoAWPOjvHFYbAiafK9Ftx30HV0IvMGLbVBng2IQY9DkLiCwIaj7YmgeXOxa+bHOSw8wC2ABQ4nA7n+FhjTlASCaTkUwmI67rSrFYlHw+L/l8XiYnJw244fKZ9JiDwAZLUiqVkmQyaS4sbW9vN+d69PjUY00rDvi+Ee5PLWxzm9rmCbc/p0EdIVDz2AkEAtLd3S1TU1MSDAZNBC30AfJjYR75sfVE88j8oGxYhNjlKhqNNoSk5nHJ5YkcFJLBl25HDuSgrRsMclj453NvNiDDvGh3O7xvW9+5DP0bQFo+nzfrZltbm/T09MwCyNqay4oDkYOg2QsQoC24b5qBnLa2NnM5bS6Xk1KpZIKh8HkyvT6ywgRlwtoP4MlrkBdQaJV4fIG0suJQgAiT31rtl5dtX29FPvF6/wgdoT9mOqwAzlzoUBeAF3Ph8FqctNCk32mFJ94cWgGCfuCqFeJNH3mwaxoL4NiE+c9vE9P8NwOJtjbjzRh30NisN/yZXbNsAMeLV7jHxGIxcRxn1s3rOKMQDM7cNfLkk0/Kk08+KXv27JFCodBwzkBvfLwhs/UE50ZQLwgJHKnJpvnHc5B2QfPSHKJdvQATu/VxBCjkDd61cAlAoscOl4l0KIe1wuVyedYdHTzGGAQiPHNPT48JiTw6OmoO1LNLmhaO9BxFW8KtqrOzU7q7uw24gasVBxPgd1kA1XOSXfs0oOExYHO19HqOdzXIYmEe7+J7Mpk07pYof2JiQiqVyqxzQMwn30ODcYU21FZTDfCQpr293ZzrKBaLDSBH10v3kQ7EwP/5M7c9u1HqMabnkT7ToonBoi5HuyGibRgcFotF044IVpFIJMyY0HXX7cch0XVav/HhVR/uv2g0Kh0dHdLd3S35fN5YnnlM6XHI7Yq1AACe22wue52Ndy9LvJeiwgtYtLJP6/L1Z3xvpiTR6fS630pdjtAR+mOlIwDnAHlpL/0Wt7kucn5gwC+9BhO2svUC5wVK/BZZP+G0Gf9+dWLS2lEIE9CgQouKDcxmKeC66rz9yLYJ8G/czoic1tnZKbFYrOV2w3dsmKgLCzi6PxFBCj77cOfB2QJs5Pl8Xp566il5/PHHZXBw0BzURd5s9dDtgTpDIw3hGkEadGhe8I4LHV33YCQ7LVRzu7IQ2kybqkE1Cy+BQGCW5p3bjQ+Tc6Q8LTDr/tXgB+c/bO5xaEtYWBCEIBgMytjYmOzdu1fy+XzDmTDd/5pYiI9Go5JMJiWZTJpw34lEwowFPW70nNGgkuvMEbtYmcB52cgLxOu6sWDNbczCvOu60tHRYcrm4Au6fIwvtAsEX3YJ4z7h8awBdiQSkXQ6bdaOQCBgIo2xdZDHJ7dRJBJpGFe6XN2GUAggwAQO+zPg5HWOx59uc722MV94znUHeOe5X6lUpFQqydjYmGlPDvTAygLwh/YDOMMY1fVEuRxBj+ujxwynwVxKJpOSyWQkl8sZ11DwwfnrfZRBDtqb57VN0eK1J3jtn/q9VvdvvzxeCNnmCf7b9jD813vNETpChyMdVgDHT4Cfi/Dup7Hyy8dPu6MXK82nBl9e/PsBAJ2P1+9eAE5vun718tPmYSPEJiVy8HxHrVabZT3gzc2r/jYeNX+2zcIGBGG9wT00iEKmtcYsoNgEB6TRkcCYT1gGcI8GzoFAyMBmn8/nZevWrfLwww/Lzp07pVQqNbh2QUgBD9rKxUIigCTcQ9iPHTyifD7Ujv5AMANtTdPCom0MaM022gK8gxeOrKTdzZAvC6D4AwDQ2l89BhkkcKheHhcsKKAPEbJ7dHTURNvysih6jQWct0omk0abHY1GjZWOBWIWGhngMMhg3rXbFD/TfDEo9nIv8iK0sW43zgNntXhu1Ot12bdvnxWYskuqFra1kI107e3tMjk5afKAQN/Z2WmCBgQCAXN/FOYX6s9rDQJXxGIxE3SCQa/jOMbVC2sVhHaEukbeetyKzAZmDM64bxhw8Dhg8M0Amtd8pEWQhWAwKLFYzJxLchynIcw+lwnCmqCBVzNwi3yYH9Sb5zpcfycmJmR0dNQAT+TNSh085/HFc5P/OK2tXbz2UqS1fbeRF+jAb37gw+t7q+/57cs6jY20BfQIHaE/ZjosAI5tEdMbpteiYdOEtCJge5HXIub1HgumuuxmWihb2bZy/MrWv7cKtLzywibIwoxtk0e52v3Ib2G2AQhdTxvw0eMiGo3KvHnzpKenR+LxeAO44ndZWPEqk28W5zbgsiKRiDlPwmFRASaGh4dl+/bt8vTTT8uOHTuMQMfjQGs0+XcWcCGQaxcYpIfABoEP1iu8wwfDWUut3aF0m2pwqgEEC3EQrnTEMO5/CL4s8DHPfHcN94uO3sXtwGdDWIir1+syMTEh09PTRriFq5VNyGM3IC4b+fHZGLgRxeNxo2nn9YiBCrtOcdtqwM19wWlYo+7nnqYFaC4TpIEJnjHIZJ5SqVSD9WliYkJyuZwJiYz3bRYBHqecN54BNDLQSCQS0tHRISJiLnJFAAk9XriMer3eoGTQ/aDBDcYr1zccDouImDww1rjPOAoZjxMoFdjNjeeSBrcczRBzF5+np6dlfHx81pqr+0YDKe5LPX503+gxwWCDhWked7CI9vf3y8jIiImshrkBEIk21GVwsAo9B0B63nkps5ia7V2cF/rKK73ep70UIPodXYbffsbrhC1/mzxwBNgcocOJDguAo8m2GGjihZ6/4339uVl+unxdVisCua08L/BhS++n9Zkr7yyo+oEsW115s8VmjD/erPiuB9aGNtNg6fK8+NdpICx1dHRIf3+/CVXbrK205hCfWTjlsiHYQ7uKuuIMB9zAisWi7N27V7Zv3y7PP/+87Nq1S4rF4ix3IRFpELJEGu9FQZn69m8N7vAbgAxbL9ra2szt5rrNWWjTwAPtYAOS+KytTkgHQKE1+Ay4dHs6jmOioOkISxBOWbvObkcc4ICFonK5LOVy2QhVONTOPHA9+b/NdQ2AhkNAx2KxBmFbrwnctyxY2QAPA01O4wdyuB48ljmdnneoH7uCiTQCHQ3WAoGZ8187d+40bcugE2sCu6dyvXkcQ9jlscTKCFyYijHtODPWC64rv++6rgFcyEMHaGBhn+cMxhz4xp1dHPyC+0fPByY9PrntGOTo+aCfI598Pi/79+83l3/CUqXPcXH/Mni38aznOPeP3mu0khBjBeHEh4eHZXh4uKE9GOQxkEReCD2u+8NL2Nf7hQYU/J/T2EjXz1ZOq4o4Ls+Wj609+R0vPue6L78YNDAwEB4aGnpJZMxsNlt9qS8Vff3rX3/sypUri9/61rcGX8pyXyp65plnwscdd9wrf/nLXz558sknl15ufg6FDiuAY1v8mml0vMBHq2W1+pteeLQQyJoapLPVgxdETqMXOBsPXoul16bB+Xl913ljUdbuSVpbirQQVHUoYtsC7tceui66PfFbOByWbDYr3d3dDYfwRRqFPa1tbrapssDEIAQRmpA/fi+VSrJr1y7ZunWr7Ny5U/bt22dcOZC3FijZnUePFbSzjVctwIlIA8iB8KCtMMwHnzFgQQQCGfOJMm3ARwsbDHz5T7cphDYI3QxudJl411Y2lwFtP18mirJ4zIIwRiEkcxtwf7e3t0tXV5d0dXWZe3S0JcE2d3UduAybhRAgw0aHosm1ASzkxVp7PVbQh8Fg0Nz1w6HGGWTW6/UGKwvPV7Qxj119IN51Z8IlT0xMSCqVMgADQAbWFa6Trg9b9tDefC5FryHcDkjHyg0eSyDUl9tHj33b+mETWtEnGvSwoiCfz8vw8LDEYjETlU9bPdDeUOrou4DQDjah22st5s8Aw6h7JBIxd4xNTk4at1u0nc2Nj5UPrCTDnOTxBL74fc03txPza+tjvTfb9ne/517t4/WuDYR5lef1ux8vLybIGRgYCL9y1StXTpWnWtf8vgCKRCPupsc3bW4V5LzlLW85plKpOPfff/+A/u2ee+5JvOMd7zj2wQcffPLEE0/8vRPsL7zwwqN+8IMfZL75zW8+//73v3/sd5Hne97znsW5XC543333PYdnS5cund6+fftj/f39f7Dhsg8rgOOnlfFL3wyseFGr4MhLk+dX3qEsajZQ9btc5OaycLKQCi0d2potOFpY9curld/0ZsbpEAY4m81Ke3u72Vw5H37mVQ6DJ7hTaMAqIg0CDjZ913XNTe7btm2T7du3y/Dw8CzLjc0lg/Nhvljg1ACZXUr4He0yhvy1SxjnoXlhN0SQBqq2duS+1oIG/tgNCxHocDh9YmJiFvjgOtsEB21BhLUH9WdBSUetY165XB36tq2tTeLxuHR1dUkmk5F0Om3OX+mxwXlrMKnBhB4P3MfasiLif95mOpyQWK0stVq14R2QzksDZW5DVmZwQIhYLCbxeFwikYiUSiXznC0z7KrEZ2ZQJsY03MDQ1rVaTUqlkuTzeUmlUiYiIbuL8ZrOSgWuhw3M8Zrlt/aykI4zQTpYCvcfSAvh2kqE/Hk+87gAoNLWOIC+fD4vIyMjxroEwKaJQR/vmTr/VoR0jANuHx4XyWRSenp6ZHh42ARo0CBRh9zG++h39B9fFmoDOXPZ+7k+um66LzTp9crWRjq9H2/N9lNb3oeyV/4uaWhoqG2qPOW86cp3FzsXZl5Uv7ixweHAL756Z3xoaKitVYBzySWXDK9Zs2bpc889F1q6dGmDH+TNN9+cWbFiRfH3EdwUCoXAnXfe2XnZZZft3bBhQ+aFAhy2YGtqa2uTRYsW/cGCGxERuxPpETKktTZaA9TKe3MpS2uPvPLxEtz9FjgbL7pefoupTdvFz70ESq/ysNnrA/w6/KlNGGulPbzazsYvXGe6urqkp6fHWG90Pq2AKU7HAI0FUggRGsBVq1UZHx+XwcFB2bFjh+zfv9+c99D1sVlBbPW0jV0GCra02hIEi462tNl44PZFGdp9C+n4v41//Z2BCFtD+vr6pLe3V2Kx2Kx7MXSbt8KzbXzxuMQzPY5QtgaDOBvU3d0tvb290tnZKalUylxoaSvTC1ByPTjSmg30+lFbKCxtkVjD32NP75dKKC7hWHvDc82XJp6/aBvddmxpS6fT0t7ebqxuGPtTU1PGAgZXPpxPikajEo/HDZiNxWISiUQkEokYkFiv140FB+G7MW6x1vAfACv/cf/p+Yn0NksGgwIANhExEQvBZygUmjWW8D6fU9LrBbenHtMcaj4SiRhXNFhqcG5sdHTUnHuBm5cm21gEPzpMvJcQbxO6ec7h91AoJD09PZLJZCQejxtAoy1oen9ihQ6PL30+q9X92itds/lkW6Ns+fnx0Qq48dvPvcbIXMp5sahzYabes2xe7cX8OxQAdcEFF4x3dnZW169fn+HnuVwucPfdd3e+613vGnv3u9+9pLe3d1UsFlu9fPny49evX9/lld9HP/rR+atWrTpOPz/22GOP/7u/+7t+fP/yl7+cOfroo1dEIpHXLFmyZMV1113XMxe+N2zY0Ll06dLyunXr9j788MOJZ599NsS/79+/P3juuecuTqVSr47FYqvf9KY3Ldu0aVMEv3/ta1/rTiaTr77lllvSS5cuXRGNRk/40z/908X//u//3v0///M/HY7jnOA4zgl33XVX8plnngk7jnPCr371K7MBPPLII9FTTz31mEQisbq9vX31CSeccOwTTzwRkd9TOqwsOCLe51q8BGab4I6F1/abLV+vvJptDH7UKiDRAlkr+fo992oPr+e2PNlywQd2eYPXgify0edduJ6t8MS/8XdEZOrv7zehbbXbCPMBbbX2e2fysrjgPdZOOs6M9nliYkJ2794tzz77rOzdu9dc4qnzZdck5MMCAQtkzC/KYp40IOC0HLgA+ek8WLDjMQchD+cg9LjwsiLosaaFDAif8XjcAAYcKC8UCg11YV7Bl59WHoI2C+oaTKAubOXh8nR7wMrU1dVlglfAQoh0NqsK11WDNfQd5opN0ObxoikQCMr2YkgGn9s167eHHxs05YuIOAFHTn5FlxH+WyG2KIAAcFzXlVQqJd3d3Q13B+k5CwEdl3ZqZQfPx7a2NqlUKqbMcrks4+PjDX3A+WNOcf9xH9ra1HGchoAnel7zusJrG6w3qI8GwSDUA+MKY43HJspjVzkRMVH5AoGAFIvFhnYFz1NTUzI+Pm5AJgNMPcd0f/CahfbzE7r1nqYFcOQZCASko6ND+vr6ZGJiQqampkx0QtQR7cdlMl/MG1vKvNYPzsOrvzW1ui+3Qponr/2jWZle+7rfXuwHmA4nCoVCct555418//vf777uuuv2YM3csGFDZ71elw984AOj3/ve9zrXrl27t6Ojo/Yf//EfHR/5yEeWLF++vHzqqacWdX5r1qwZufHGG/ueeOKJyIoVK6ZEZsDAli1bYmvWrHlORORf/uVfuq677rp5X/ziF3eceOKJxYceeih+5ZVXLm5vb69ffvnlI63w/e1vfztz/vnnj3R3d9fe/OY359avX5/54he/uAe/X3DBBYu3bdsWvf32259Np9O1j3/84wvOPPPMZVu2bHkiEom4IiLlcjlwww039P/rv/7rtt7e3urChQsr5XI5UCgUgt/73ve2ioj09vbWtm/f3gCetm7dGnrrW9963Iknnli4++67n+no6Kj99Kc/TbBHw+8b/dEDnFYWMD/Nh9eC7be4+H1vBoz0ZslCqg1k+IEWDTC0kOklSDbL26stm4EjbMzYxG2bPEcqarZJ+hHXoRmoDQQCEovFpKenRxYsWGDCy/ImKeLtrqPrznxynbUAxzenw7Vm3759MjAwINu3bzduaTaQhXccxzEAol4/GHkMFhd+j/sZQjdfKApeqtVqw8FxrSm1RZfi/mIQAcEEgi23E37zaj8GtHosh8NhSafT0t/fbwBDuVyeBV7xGcK1FtK5/RkEMTDUwRlCoZDEYjEpFAoNYIbHBfgMhUIGiC1YsEAWLFgg8Xjc1A3CGQMqFtxEpOHMj3Z7s40NJj3Oke/j+9ukODIb3LBga/qpVpf/2zwsb3xlj9QObGa6L22gigGAXlva29slk8mY/oflBfWF6xTaHvfnsJDLbYxD8wgsgHMnyFefz8AYB09sGfQTyDkd1x3ruu4TWI8w7nQ78RhnKye3Fc8F9DO3EcYuQBHGk55f9XpdSqWSDA8PSyAQMHcuxWKxWTzBWsPtjbEaiUTMuSYvkNPsOdqzWq1KKBQy53DQzxxNkt9naz/PCe3SptdNpEd/ab68yLaf+4ETv73Tti7pz3rMefHI40bvS3PZJw9nuvTSS4fXr1+fvfvuu5NnnnlmQUTku9/9buaMM84YX758+fS6deuGkPb444/fd99996Vuu+22LhvAee1rX1s+9thjSxs2bOgC4NiwYUP3qlWrJleuXDklIvL5z39+3j/+4z/uvPjii8dFRI477rjpJ554Yuhb3/pWTysAZ9OmTZHHHnus/c4773xOROTP//zPR9euXbvwC1/4wp5AICCbNm2K/O///m/Hvffe+/Tpp58+KSJyxx13PL9kyZJVt9xySwfc2arVqnPjjTduP+mkk4wLXjQarU9NTTl+Lmk33HBDbyKRqP3nf/7n8wBLq1atmmqlrV8u+qMHOCAvLYnXgqLTeGlJ/Ba0ZgK/jbR2iQUZvfH6lc+biRYO+V39m9/CbBOsbHWyCZnMN2spbUKDrp9tobe1hxc/trogDcBNJpORxYsXSyaTmaU11+/5aTx1X8FVRG+qrus2aFlLpZKMjIzI888/L1u3bpVCoWBtY97YQIjGVq/XjWUAd9wwiOL+065N2CRZuEckI133QCBghE0OKAABjusK8JDJZMzZGPQ7BCi//tHjCq6EuKeor69PMpmMhMNhyefzDTxyX0FrDaGK+5APP3M98Z8VDSCcHWFhlNvQcRyJxWKSSqUkk8lINpuVnp4eSSQSEg6HreCeQ6ajruwqpa2GGrzzWLWBCuSzcfu01KfLIqLXPsy32Wui67rywFNj8v+t6JXa1Kz93Sq8czsiD4A1hApm7R9cMQFS6vWDIZtx8SfGM1tkMI9wZ1UgMHNuB9Y8nMHRkfXQf9zWNlCN9sRcYKsZjzH0AVsb+GyRJoAS8KGBNlsLmRhsAay5rmuitaHNq9VqQzRE1LlcLsvo6KgMDQ1JOp02552YACy0Qg7zVoeyhlKFLbw8BmyWN5GD4d6TyaTMnz/fRCzEmRwOJGDbF1iRwyGwuZ1sPOj29NpT9V7mJQvo9F57oJeMwW3mlUbz6bUX22QCGzDz4+VwoNWrV5dXr149efPNN3efeeaZhc2bN0c2btyY+OxnP7ulWq3K2rVr+3/0ox91Dg0NhSuVijM9Pe3EYjFPE/Z73/vekVtuuSXzxS9+cU+9Xpf/+I//6Prwhz88JCKSz+cDg4ODkb/+678+6mMf+9hReKdWqzmJRML/YOoB+td//dfMKaeckseh//e+9725yy+/fPGdd96ZPPvsswuPP/54NBgMuqeeeuok3unr66stXrx46sknn4ziWSgUcg/lfNGmTZtir3/96wsAN38IdNgAHJHmLlqtCsXN8mIh1yutDYB4aYtsC6VfWbYFuFWNjh9w8eLf9l2nZQ1bM7CIjYnrpIEO8zaXxZo1rRDiERY6m802ROPRbcoCJvPOafQzW0hXCCUiB11ZxsbGZPfu3bJnzx6ZmJhoEHSRD4coRl30/RsIbQ3wwC5uyAd/EBbh3qO1tXy4l8cQ8tbuWegHFj5B7e3tEo1Gzb0cEIY4SpINzDLQYH98tBvKRp1ZMIM1C3lDKGM/f9SHQaMGg3y+g89p8HjV44BBWDabld7eXkkmk6a/0AdMtrNDrImH4C4i5owYtxXzjvo0asADsnkkKLWpHKUVmQE6rjhOQFx3tntfvV4TEcfTegNiAZJBL7cLxiwAZyKRaIjYNzExYfoZ45EjKfIYAHFbwooTCASMNYBBFIMUfOc5ISINl3Uy7xrQ4I8P6vO40MI+58nR4PBfa+RtgjP45fGP52xZ5fIZwLvujFVpcnJShoeHTUAVVsLY3G+RD3hid0OUw+HTNbD1ItS3ra1N0um09PX1SalUknK5LJOTk2Y94f7iuuMz8uJ1gtfbVniwKVT4v+09/Z/XBL/6a/DRrJ1s5el1Gc+85A2u6xGaofe97337165du2hsbGzH+vXrMwsXLpx65zvfWfjUpz7Vd9NNN/Vee+21g6tXry4lk8n65ZdfvnB6etpTkFqzZs3otddeu+D//u//4sVi0RkaGgqvWbNmVGTmbI+IyJe//OXtp5xyyiS/19bW1lR4qVarcscdd3QPDw+H2traTsDzWq0mN998c+bss88utFrnSCRStymjmlE0Gv2DATagwwrggLwAi5e2zGsB8dLktKJBsZGXNqZVkNOMP1t5zchPm6TzaaU83qy0cAyyCbut8MjaMxuA1HwHg0FJJpOSzWalv79f0ul0A1+2vNk6wJuiLT0LTbzRaiBRLBZleHhY9u3bJ6Ojo0aIZTCmwQyeQWBBfuVyWUTEuJ6xkMzvuu7BOz/Ak44yxZ9ZkIEAoy0JyEtbmAC0IACx1pfBjbaAMLEm1nEcKZfLUigUJJ/PSzwel2q1KoVCwbg5aYEazyKRSEPfQdjV41B/50PhWlOtx10gEJB0Oi2ZTEZ6enqks7Oz4bwDC5JcP7bocL48Zng8cPQ1kE0IOvhMpDiyn1LPWGscpzWhjMuw5W8jjD3UVUfICofD0t7ebtoUlkENDjBWeNyhPdB/uKtIRGaFodZtysTtCnAEIMsWRraooA9wdg8upl4RH1mw5D5iAI5n4JnnLFtheByCL5HGyzlt85D5mp6elkKhIMPDw7OsOCwA8/sAnSKNIe4BanhcaJBjs0bxGliv142yKZvNyvj4uAmLjzmvFTNcZ/DEc57njhfNZR+z7Sd67dP7td7b/PJvlZrNzWbv8Nw93OmSSy4Zu/rqqxfddNNNXXfccUf3mjVr9gUCAXnwwQcTp59++viHP/zhUZGZdWvr1q3RY445xtPysXTp0srrXve6wre//e2uUqkUOPnkk/Pz58+viogsXLiw2tPTU3n++ecjH/rQh0bnyuftt9+enpycDP7yl798kgHRo48+GrviiiuWDA8P71i1alW5Vqs5P/3pT9vhorZ3797gtm3bIitWrCj75R8Oh916ve47MFeuXFn8wQ9+kJmamnL+UKw4cwI4juOsFZE/EZHjRKQkIr8Skb93XfcZShMVkRtE5AIRiYjIf4vIh13XHaI0i0TkX0TkVBGZEJFvi8ha13Vf1NNKfgDmdznZefO1LZpeIIbf9crTKw8vkOPH4wuhVtqM+UB7sHZfa9e0MN2K9k2X18rvKCcSiUh3d7f09fVJV1dXw4F6r7rYrBO2/CH8aIDDriuoJ0c3ghuXLW9+h3nQZ0TwjO8T0WAEAhz45bZmwYSFMAY43Ba6jbQm33VnXPCaAZxmfc3CaqVSkXw+L2NjY8YaMDExYdzPwC8LO1WyQNjmEtddC2vcjtq1jMFmIDBztskGbjAeuAxdL37OpMGPSKPlQr+rx2gw2CblYExgraFWlYOuarDoiErjmOf7pwLSG45KrdLc9ZpdFjXAxh8feC8WixIMBg1IZdJgX7tOAWBgfCWTSfMc7cFgwdb2sPpB0GcLJuYzj1f0QTQalUqlMuvMnFYoaJCuQQ2TbV3kNkA5ej3lOuk1S+dfLBZlZGREMpmMRKNRqyst0vJ/Bh16zeT1gknXEXngXXzH2axcLif5fN642sJNzWbBw/scnluDxGZ7ou03vX81I91OXvk1Ayhz2e+86uQ1prwyV8m8AAAgAElEQVTA2YtFY4PDL3qk3hdSRjqdrp955pmj11xzzYLJycngZZddNiIicvTRR5d//OMfd/7kJz9p7+7url1//fXZkZGRtmOOOcY3v/PPP3/0uuuum1epVJxrr7224QLQT3ziE7uvvvrqhel0unbWWWflyuVy4IEHHoiPjY21ffaznx3yylNE5Fvf+lbm1FNPzfG5GRGR17zmNeWrr7564Te/+c2utWvX7j/ttNPGP/ShDy2+8cYbt6dSqdrf//3fL+jt7a1ceOGF4375H3XUUVM///nPU4899likt7e31tXVNUsIueqqq/Z961vf6j3rrLOOvvrqq/d0dnbWfvGLX7S/8Y1vnHzVq171e3kWZ64WnDeLyI0i8vCBdz8nIvc6jnO867owu31FRN4lIu8VkZyI/LOI/LuIvEFExHGcoIj8WET2isjJItIvIt8RkYqIfPKFVMZGrQj7zRYKrzR6ATzURdKmGbLlYcvHa9H0KqsVYOOnqbK1gY1Xr8WeNzQWBmxp5gqgbHl41ZetNzikrvPR9bcJK7b8IQhrNw0tgNTr9QZBvVAoNIRu1em1Zpu14nqT5/Q4GMxtzpGcNPjRbcAClrayePUzCxau6zbcQ6KFRN1PXv0KvqExnpyclNHRUSMA4XAyXO7QBuB/ampKHMdp0LIz8NHCNzTWWlOu+4b7HKHGs9msZDIZc5A7FAoZ64AeM9wWrNHXlky0KQ5g60sueY1oAATBoFTaorLxsR0y44Ym0ghsRAB8XFcMmMFn5nfL04PSdvxCSbnlhvI08TiFIK4tChrkRKMzbuKoH7eNzXqCvkRf48wG/sOyx2AE495LyQLAosMNw2LB84b7BLzY3H9sa5kGOJxWtxPzwOXq9mbQoN8TaYzuh3YeHx+XkZERSSaTJow10upxyC50WDdEDrqs6rVJ71n6nA4Tu4umUinp7++X0dFR2b17txnnWFPZFU4DVQajvN5p65atH1ohr/2vGajxS9OMWpFhbLzZfnspQI2ISDabrUaiEfcXX70z/qIXJjMXfWaz2UNSkH/wgx8cvv322zNvfvObc4sXL66IiFx77bV7tm3bFjnnnHOWR6PR+kUXXbT/9NNPH8/n8/abkw/Q+973vrG1a9cuCgQC7p//+Z83gIq/+Zu/GY7H4/WvfvWrfevWrVsQi8Xqy5cvL11++eW+4GZwcLDtZz/7Wfob3/jGVv1bMBiUM844Y/y73/1uZu3atftvu+22bX/1V3+18LzzzjumWq06r33tayfuuuuugWYWlyuuuGL4/vvvT5588snHF4vFwJ133rll2bJlDaClr6+vds8992z527/92wVnnHHGscFgUI477rjiqaeeOuGX98tJzgsZ7I7j9IjIPhF5s+u6v3AcJy0i+0XkQtd1/+1AmuNE5CkROcl13Qcdx3mHiNwlIvPcA1Ydx3EuE5EviEiP67pNL2pyHCclM+CpWbqGz7ZNBqQ3G9tv+GzbfPw2sFZ49AIqXhuhjedWF3A/kOKVXgOcuWqZoHnDvRXValXK5XLDRgV3j2AwKNPT0zI9Pd2g8bcJwn5txEKjrmN7e7ssW7ZMjj/+eOnp6Wk4+G0bC6wp1S4vIrPPH0ATzBst0jHAKBQKMjAwIIODgzIyMmIADv9pjbOuH9Iwr8xnKBSSzs5Oc8cIt6sGz+APwrqO/mYDpiz8aGuP48y4/eAek3q9bsrXAjzzbBtfOv9QKGQARFtbm6kb33uC/mALi64HzlCw6xSeTU5OytTUVINrGQRq5IP00WhUOjs75aijjpJ58+YZ3vRdLQy+MRbgUgi++R4VbheRg+5ByNsmjDMALrYl5fHNg+K6dXEcCLksZGJ+o894vmggJLJixUJJ1gpNhS5tDeB6VatVE84YIGVsbEwGBgZkeHh4Vlvw2bhwOCzhcFiCwaDkcjmTB/oX9yN1dHQ0hEzGRZJ8/k3zC7DlOI4ZS9zm6H9YCmOxmCSTSQMW9NqggZR2sePxzhYHPteDfHje8Xxjy6je8zggAK9BaINoNCrz5s2To48+WubNmyepVGoWkOdQ/lgPANaRX6VSMdHqNDHI5XWE+4Dd0AKBmVDXW7Zskaeeesq0K0eHw97BhDUrGo2K4zimv3l8oE7gS39vtq/pvRb9ot+3yQmtAhVbes2bXrf1e3786zV3DpR2XTfPDzZu3HhcW1vbPcuWLZuIx+MNblADAwPhoaGhl+QYRDabrbZ6yecR+sOnYrEYHRgYSFSr1befcMIJT3ule6GDL33gP3wKTxCRkIjchwSu6z7tOM4OETlJRB488H+TSy5rMuPG9i8iskJEHtWFOI4TkRl3N1CyFeb0guK1GPBC4QVsmuXh9cwmmLYKnrTmr1l99GLYDMj4fdblegEwL9J5MkiA0GIL+SoingK95o83fT8wy/zj7EJfX58cc8wxBtxA0LS1l9ZEan5sZ3L82h6fq9WqDA0NyZ49e2RsbMyciWFNJ2+g3DbMD9dfWy3gFgVXD4AXCDksKEHA0JpR/OfnNm28rU04Hwa3xWLR8MTCF2uObfVkgRD54P4TBgu67SFg6cAIfB6GL0tsa2uTYrEo+XxeHKdRO49yNIhMJBKyZMkSOeqoo0w+EMbZemMbZyzQQlBj3tFX3F6YQ9x/3A/Q6GuaqbstQpdtDWx4U+Cu5qd44fLRtgy8Oaw4A+poNCrt7e0yOjpqQAmEaQ7OoIGGnv/1+sxZHpxHY4UC0unIeQxGAKhQJtoaygdWuOACTYBebmMeswycwT9c8TAXGaTB1RHjAjygTF4jdZQ2jGW0G8YIeOG1t1wuGwtOe3u7xONxo+zR7ppcpg74gLy5HvZxNzuiI/cf3ovH47J48WIpFArmfB3KZBCqgQsrP8Afnx3S/HD98Nm25zYDR/qzbc/QbpVMXuV7zTMbT17tzM/1fvFi0rJly6aPgI4j9HLSIQMcZ0YV+E8i8kvXdTcfeNwnItOu62p/v6EDvyGNNskN0W82Wisin5kjfw3fvSZ1M0Bjy8uW1kv4ty1OtoXV7x0/kONHepFj7Y0tn1aEFs2nVzq9SGODZ0040jE/+s9WDyavw6s2QOY4M9Gturu75ZhjjpG+vr6GcKc2VyQ/yw0ELtSPQ76y8KHbFjQxMSG7du2S8fHxBtc0Frx1ezYD3XoThdChwUwoFBLXdRvAAAvJSKfzQ/10G3N5Xpr7Wq0m4XBYYrGYEfIQBliDQxYsefzwWEDdGMyJiHEl4vbkvmPri8jBkLhwW0wkEuK6rkxMTFjde/RYRXtGo1GJx+PS0dFh3ALh7sR9x3lxnzAQ0MLjbyeel8nCpNTqNenr7pJMKW7aFnlifunxgLIAapoBdpsW/iC4ceSpLUOSnd8jiyKTnusagCrX3Qac+TcAzEgkYsYlgIbrupJMJk049GKx2HBeTV9Ii9DSaH8dSZDvkOG2ggIEl4tyiGmb5ZJD3XsJmuibWCwm7e3tEovFGqzXPDbRp5gvfG8YymOebQIzxiJcNRE+mvnkOVYqlWR0dNSM/e7u7gYXRwZ64BPfeR3ksy+cDnWyrQ22tQTpOjo6ZMmSJTI9PS27d+82/Q1PABFp6BtuO+af9xHd1rq/9NjkftTp+LMug8e5bY5pss0LL2WWjWfOxwt02cr3WgeO0EtLn/jEJ/q+9rWv9dt+e+1rXzvxi1/8YuCl5umPgV6IBedGEVkpIm/8HfHiR58XkS/T96SI7JxrJl5CstYg2cCRJq+FxGvB0IK2H08sNNqEkWZlNeO7VWoGpljYZJ5sGws2eS3scVlaQOKN1K9Oum62DcFxZjTByWTSXLgYi8XMhgrBXaTxEC3nozcfreXFRZJ+AiSoWq3K6OiojI+PG9cO3uDRBrpdvdoB/EAIAr8s0PCYamtra6g/8sRvLGBz+Sz0MGkNuQY+zFcoFBLHcRq07Hr+Qeuq257D03I0JcdxjFZ3cnKyQeDEf4AlbhPuR7Q3u/GxWwz+YOWCFSAcDks8HjcacLgnIrAAt4W2aoiIhCNhea66t2HMsyLAdV2pTk5JW82RQN2RkVxeQj1hyRTbZ0XW47mDd5NSkte9aqE88vjOhrHJ7W4bY43uaWThmJ6WfXtGRPq7ZWF4okHTb5vXzA8LxdxHSAPLA37ny2oBGnEhJAAAyufxUqvVZGpqSiKRiIRCoQZ3JqxDWuBnkI71gnngdmIwymPM1r4YH93d3ZJOpyUYDMq+ffskn89bwQp4gdID57fgehUKhRoiJ2reMJ5hyeK7sPS+gvpNTEzI2NiYpNNpSSaTxp1U18m2NoKwxmvXV3zm/tbrhB4zWE9xfxYsesViUarVqnGfZeAmIg3rr9dc8gIMtj3aBm5s+7Xtd25rnaet33if0/OF1zK/PdkG0prJM0fAzctPH/vYx/ZfdNFFY7bf2tvbj8T1PkQ6JIDjOM4/i8iZIvIm13UZaOwVkbDjOB1uoxUne+A3pHm9yjJLv80i13WnRMQceJqLkD6X9M0WskMps9niwRuA7Tnz4rUZzCVf5k2/rzd6/Vx/9mofDXjwnwUCfsb11BpNr3p71UmnxfttbW2SSCSkt7dXFi5caKIs2TZdL7ceEIM1FvRZmLP1P29auMwOWkmupwYGzdoB9QuHw54aXq3ZFxHrOwxyNE/8O4Mv2zPdduy+AlAwPT0tuVyuARyxpUa7hQFccNhn7nPXnXGDKxaLDb/jM1t1UA7ceETEuBuVSqUGFz7uRz1GILwmk0lJp9NGc67PL2Fcs3Dsuq6EwiHJhSZl+JmZ2+WdgCOOiVpGSgLXkUDwwHtVV/btG5HuRQkJTsw+86qFbLdel3iI5+2M65nXGnVwnCEP/H4wz2q5LEM790nX8qwkahOzxqYWhJEvwCLziXcBYNgtC31Tq9WkWCxKIBAwoBjnjwBouBy8A4CgrZOaGNxUKhUplUqGV803g38WTG11bWtrk2QyKV1dXdLT0yPRaNSEP9ZrI77znS8AMmgfDbz0HMTFwiJirE82d1L+gxUnn89LLpczUdX8SAMetAvzjzRsxeb3eU7pfQhzJhKJSG9vr7F4wSLFEdN4PqHfq9WqmX+svNBleNXrUEivEfjsVW/bd52X/vxiyT5H6OWlbDZby2azLV34eYRapzmF13Nm6J9F5FwReYvrultVko0yEw3tNHrnWBFZJCIPHHj0gIi80nGcXnrvdBHJi8iTc2Pfm+ailfACAXPVbOiFDP9tGpxWgIoNiHiBC7+NWwvNXmUcCtnq6ZdWWwW0EK3dPebCn1ebBAIzh4G7urpk/vz5ks1mGyIi2bRefvWEkK3Bmq6TJtQRPuUjIyNGWIPQZMtb14f/eJPnw+ZcH5t2mcGGdhsEP9rlyQa+dF/ZNnQWhiC0xmIxSaVSJrobAysGV3rMoCy0E2vw9WFir/6CIB2LxYxWHP0yOTkpExMTxkLAUds0OMIdLh0dHdLZ2SkdHR0G4KAObPnhfnYcR0LhkFQiFXny2eck2HagHxzUlcbPgY8Bx5Fg8EC/uI488dzzEktHJRCcHUSDx+NscHsQ6PBjrzxcd+aPyXEcqVUqsvmJQQlG263rJc9r2/iwWQkBDDXVajWZmJiQfD5vIuVFo9GGwA2cJyxB2pLGfNncIlFWqVRqsH6wpUy3J/LBWESaUCgk8XhcUqmUdHV1GatIoVAwIaXR7nous9BerVZlampKSqWZCLF8wJ/XMJTJF/Hqsye2NcR1D17+OT4+LhMTE1Z3Mu5Pr7WSLaJ+a6TtPxNAq+M4kkqlJJvNSjablVQqJY7jNLgD6/DWsK4yOOUx1epe+EL3S9s+4NVuh2JF8VNu+u1BR+gIHS40VwvOjSJyoYicLSIFx3FwZibnum7Jdd2c4zg3i8iXHccZlRnQ8nURecB13QcPpL1XZoDMdx3H+bjMnLu5RkRuPGCp+Z2RtkhoLQ4v2Ici6OtNXVs6bPzM5bvekPVzv3e9qFldbXVA+V4LdqvAza9tbIIwNu5W8vR7jtC98+bNk4ULF0oqlZoFbrCh28AA58kgBN+1K5UW6ridoHkdGxuT8fFxo91k4TsQOHjRoOaH66gFf47u5dXuLBixr7puXwhZtvIhONisbSyY4V0+R4B3Y7GYRCIRGR8fl3w+L/V63ZyXqNfrxiVFjw8IfOzzrwEKlw3hhoVXjuomIuYAM7eTdvOzgcpwOCwdHR3S09Mj3d3dBuCg7byAjYhIKBySyVBRNj711IHn0oRccQKBA8aUgxa5Xw08LicvXSXVcq1hDPN/ERHnQBnugfdRHne9fV1A/7PLjYjQfTq//O0uecMre8UlNzDHaQymoME396nIwbNEAK02UA2XLQ5nDK0+8488cJ4EwSgYWDFfKKeh1iRg87hmSxzSwdLA0coA4hOJhCSTSQkGgzIxMSG5XE6Gh4cll8tZ5ynGFtqElSKu6zZECdPrDMY10nMABl6/bUoLRLUsFAqSy+Ukm82aNuY20Z/RJjzmuX21NZl50XnZ9ia4qnV3dxuXu1Kp1HAeB5ZYbi/uB7YCYr1m8tsPvfZC/t1vP57LHm5Lo2UYP970s1bB1RE6Qn+sNFeA86ED/3+mnl8iIhsOfP6YiNRF5P8JXfSJhK7r1hzHOVNmoqY9ICKTMnPR56fnyEtLxJNam+r1ItDKImTL1+u518Jn2+hti77m10ZeoIGFHC9h2698zb8XkOD8vBZtW71s/t2Oc1Dbrl04dFn47AXYwCPAzaJFi2Tx4sXS1dUlIo0hYvmzF/EZAY7oBEHOq991HSCEw3rDWlwuQwMMPh+k80Z76gs/0dbapQbPARQgpOj2gCZUtwG3McpiwMfCbCAwcyAY0Zk4bHI0GpUFCxbI+Pi4uK5rzhbk8/mGW+lRV/zhfAVruyG4lMvlWcK04zgSjUYbAknATZAFXMdxjNsTtPhcd10eBOje3l5zoScADvKzWeKCwaAMuvtl+zM7D/ZLwBHX9MFBl7CG8X3Aa8xxHBH34Hz55bO/lZOWr5J60TVWOT2vHHFEnICIW5d63ZVAYPYYta9pjjjO7KhrjWntihlOZxMKbedXQADFeI60UAjgP7twoW3b2tokHo+bi1bz+bxpEwAfBBHQ0c9A+I3HC4CAPqMGEM1Rz/Ad42F8fNzcdVUqlWR6enrWusXWJ5GDSgjMV/DB5aJdQqGQpFIpCYVCMjk52aDsYDDEaxfXS2TGAopLh/P5vFkrNY+2fuZ1hp9xOi8BXq/p+jfUr7u72/C5detWswYA4EDJg/YCoAmHw0ZpxIDZNu5b2f/9gAPn6wVMdD01AOU54/e+137ttx961ecI+DlCf4w0J4Djum5zPaPrlkXkIwf+vNJsF5F3zqXsuVAzUMDkJdzypNcLgNci5pdOa8O9eGFBzi9v/Ztt0dV1s+Xltyj6aY6abRIQ2EGs2dcWD11fFpT1Bq/JSxuITTydTsvSpUtl6dKl0t3dLY7jNNzXoDdlrTFjXtj1gtsA/DFI0X2FDbZcLsv4+LiMjo42HJIXkVl5MD/gQYMWkJcrigafyMt1ZzTinA+DKX32RKfDORMuDyGRIehBIMTvAFWVSkUCgYCkUimJx+Piuq7s37/f3FyOMLgcxle7MqHONi070qNv4K6D+0rK5bLx44cgjfaYnp42h7rh6qMBIEIad3d3S19fn3R2dpoIXxBOdT/iWTAYlN8UnpOpMb4bzZWD19LMXLY5U8+Z7wEnIPUD99cASxwcFzPj/IGBTXLs0qOlazrREMLXtH2lLG9ckZH/27xPZkAL1iO2djlSr2thr1G7fnBs60tBZ7stNpR/YMwyaOa2wW/ausaBKTRARV+gTHZbrNfrZkzhnh3MX/RTpVIxwSRQP47GxmOgUqkYlzjtroh2SSQSkkgkJBKJmPYvl8smFDMOy/M9PLqfNDBvAKk0zrUrHMB1sViUcrlsrF167GI+8F7DYKdUKsnIyIiJqgZrGu9ftn3Ftn/gHfSRft8m5PMY4jUWQKW3d8azvVaryc6dO009eW2G9Ze9APA+r9ngRe/n+O8Fdrz2cQ3KbO3itV/pz5ynzlePk/+fvXcPsqwqz4ffvc/91qdPX6Z7eu7MBQLD6AhKRX/GwkgZyWCpaLCUyBCLoAhFMKkIhWUIMkrAmMLEKAao8W5hWUSDlF9iaT41UeqTn8pNmXFkYAZmmu6evpw+93P2/v4451nn2W+vfc6ZAVHHWVU93bP3Xmu96/4+721pIYouh7+3ndOn0ql0sqYX5RKm34bUSxqjmUC9mfQqq9cGFQYQwjYgmxSrVxm2TUtv0P2kVL0kVrYNMAwQaZp7gUwcYHy4MIPKh7hmtsPo4f/jJ5PJGM0NQvdqnwgR+wGhGQ02TdOHvWboQCczBzC7goS0XC6vyIO6PM8LmOAwEGSmn/sCdXGwABv96FNEqmIzOP6tLyjVjAH6Fxcu8sWUKBOAju80iUQiRjOSzWbNreVwckafoC42Q0Nf2Xw0QCM7ODP4BKh1XTfA1LZaLaNRqlQqgf5mJhLzBP47MD3KZrNGO8Vmczy2zIz/tPSk1BYRBEG3oG325Yvf1rh0nmEoNfjG73abHTnwzGFZHh+T9a2xAO1mLjvSATYr745q95Md3Og+Dj5v08x7ldZKgk4NTnguaUDEY8wCEd5bOEQ05rRIV0vK/ROLxQL3MM3Pz68IUc5gg9cLaHLdti8fwkdjPnEkveHhYRkaGpJ4PC61Wk2OHDliAlfY7v1aMUbSjfbH48z9ilDr6Mt4PC7ZbNYIEGxaXv5b7ye83ur1uhSLRXnuuedkfHxcstnsijWlGe7u/AkGHOD+4W/ZzI9NQ/VZpwEPykKYf9/35bnnnpNqtWrWPu+bANONRsNocdjUEGXrdRB2ttn6UX+n56gthQEZ/U4DpTBepB99Njr7teVUOpVOhvR7AXB4EfcCLPrwOR4JRz8goes/3nJtiTc+Xa9us/5/WP22AzisPb3o1BIm/kFZYRsw5wHzrA/XXnS4bvuSvImJCdm4caMUCoUVt3n3o5/Lspl46cQMGrcPh6nvty/VW1xcNMxVP8majTngbzixqZkGTdA4QCINhrBer0ulUjFaEwZt3CfMYOEdohmhTjhC82WFADlsBgRQ5TiOAQa4HwRt1YCT+x708DhoOrUGDJJ/vtwR7wF+4JSOdsJ8D2MHh/V0Oi3pdFry+bwxdUIkNtSrzf5iiag83ZwR13WlMhe4CFxE9LxzxO0haPB9T8SEbCZG1nXErzdlemZG4pNRmWqNBOZtoAaldXEcAGutIRb1/yC4cToaJts+yWBHj49m2HldoY/BkLIAgcdapOuvBnAJBt0WSZCDDpTLZRNhTAN39mNiczCeR9Dw8TxKJBKSyWQkm82auQwTN6wLpp/ntP5huthXEHMrlUqJ67ZNP1mDqUEX95seG92X3AeVSkXm5+dlaWkpcI+TDXTZ9n18j/HD//EewhDOr/dV25mGuRSLxWTVqlXmrqS5uTkjMIKQAf2t7z9ioRlriXTf9DqbeiXbPmX7phfo0LSE1TMozQxIe5X5Qqf9+/fHp6enXxQec2JiovliXyr6ile84vTt27eX77nnnkMvZr2DpCeeeCJ+xhlnnP0///M/j7/yla+s9M9xfOkTn/jE6I033riuWCz+9IUu+4VMJyXA4cPwRBZ0L4nJiUg6bBKiXqBkECa+34YYlt92uA1Cb6/Ujx4GCjbpGIMALX3UP/1AouM4xvl7/fr1Mjk5aS6FszFJYYmZVf5huvuZWnBCmNtisWgiQaFfbIkZGqYJ9TBDopmlsH5hsAapb6vVksXFRSmXyyZqlEjQXFIzNWgPt4EvRdT9zP5BGGvHafu75HI5KRQKBiho4MJMJlJYv9tM67i/bAw1QBjyM6DUpkjJZFJyuZwMDw+bm98R9Yt9kBjIx5JROeLNy8EnnxbHcUUc6QCYtuZDAnfNtP8Ozm+YggUBjU6u44jnuuLVWvLk04dkcs1w4MZ70NbtF65XqI5e+5sNaIspR/d5GFAG466/B/OaSqUCYbZ5H+E1yVpVMM18oS3GDXm1WSf3i6ZZZKXJKOYKLnSFxgimjpgTMKdDVD+AZfSBrpPPBBbqcH85jmN8iwAAK5WKueiyVquZ9avPL71f9DvfoGleXFw0wiGbgKffOctrktcVnuvQ3nrfYIGEnl+pVEomJycNwJuZmQlEpGRtPfY0gGbWsoadwWFp0Pe2c6rfmdvvzA4rxwaWwniBE+FfTiTt378//pIdZ2+vVGsvCqJKJRP+zx5+5NFBQc5rX/vaLY1Gw/n+97+/4gLNb33rW9k3vOENp//oRz96/LzzznvBwcGJJsdxzhER+fa3v/2LP/7jPy7heaVScVavXv2SxcXFyH/8x3/s27VrV3Hz5s31p5566merV69uiojcf//9uYsuumjbzMzMT8fGxn5vwlGflACHkwYO/d7rQ8CWBpHA9NqwwjYgPO8libGVH1Z3mOQmrG29wEOv/rC1kw9R/gF9tvazpB3PtRkbf6//DzOVXC4nq1evlvXr10smkwmUg8QMBpeh6WYmSjMKtrbrAw4HPMy1EILYxrgjPxhAzTC7bvcyT+1zY+t/3a/wMYH5WTKZNKGaS6WSlEolA1LwjQYOmk5EsGJJO9etmVvHcUzI3yNHjpjIY/DdgZO0rkf3ky0AAvsScD6t0UK5YPjRPmagNdMJp/F8Pi9jY2OSy+WMRkwHHxARiSfj4vueHGrOyoFfHmw/N5oTaD8Y5JiRk+PjQbraHEc6bRJPYomoNOut4DzqAYDD1nfwe8dKn+OIeG5MXLcprVZzhaCC15b2jUAd3NfpdNqE8GY/NXbuZ4FDvV43Yb1ZMOD7XZNFDtstEpwvqBdzE3RxKGKMK97H43HJ5XLmPqdoNCpDQ0OSSqXEcRzj68WXdTJgR39o4QGAjOM4BqyBtlQqZYJZYI0A3LBfmV5/rJGy+c/w93hfLpdlcXFRKt0BMX0AACAASURBVJWKuUBX5+M5gj7l/+s9EOXrvYLLC1vvyIu2oL9RTqvVkueee85odQASGeTgfAAw1X3S70zvl/qBH3122PJooGfr535l6ve/iTQ9PR2tVGvO3g/uKp+5aezXelHl40/OurtvuT89PT0dHRTgXH755bO7d+/efODAgdjmzZsDN/nefffdY2eddVb5twncIE1OTtbvvvvuMQY4n//854fT6XRrcXHRSEOj0aisX7++aS8lPFWrVSeZTP5mJs2vIZ2UAEdvDLZFbgM9vTa4MJBkYxh6ASOUGwYmBpEo9ZLQDQrmuC4b+NEHjZbe9esDW7ttdTLtYFrB1DCzEWZuwbRFIhHJZrMyMTEhmzZtkvHxcRGRQDnMTPWS4KE8Zl5tSTP1Yf1fq9WMlgRME9fJZTCDCIYHDvypVEoqlUqAoUO/sd8C6mfzOG6v67pSLBZlbGws4E/CF+khFKvuO80M4W/NTGnQqP0xlpaW5PDhwzIyMmL8WtLptJRKJWP+BkBn61MeW/QnS8qZTj1+GF8wjzBr0kwZ/Dfy+bwUCgXJ5/MyNDQk+XzeMLorwLvryPee+ok0y/VOWe1nIkK+NZj76B/zVLUQIMihdwAZvH/gOxHHE/ne/ofk/5z2suAlsp4v0WRKGpWy+ZZpcRxoZLrPgvXZk+/78sOfPSPn7FgrMX85YFalNWJgNtkkkscmHo/L0NCQWbvxeFyq1aoBmJh/EBhUq1UTlUybMmpgrgUhoIcBE0fjYm0kvq/X61IqlYxPTzqdNpEBc7mcpNNpE80P5pmgh+eY3i947rGvEDQ0kUhECoWCCZQCbXCpVDJAiO9rYtDG684mKNBAw/PaEQaXlpakWCwak7juPFkZuMB2ZvA80tpVvUfos1GPGc8T3u+Gh4fN+DWbTZmenjZBNjhgBPqH76jCmOixCEv6vLad35xsz/U+1KssDf7wnd7b+XlY39mAU6999YVKZ24a817+B6t/6zQGb3/72xeuu+665p133jl22223HcHzxcVF94EHHihcffXVRy666KJNDz74YK5YLEbWrVtX++u//uujV1555TFbeVdfffWa733ve7mHH374F/z89NNPP/Oiiy6a/9jHPnZEROTjH//42L/8y79MPPPMM4mpqanalVde+dz1118/Myjdf/ZnfzZ3zz33rFpeXn46m836IiKf/exnx/7sz/5s7o477liN79hEbXR0tHXRRRdtExEZHx9/qYjIW97ylrmvfe1rB1/xilecfsYZZ1Si0ah/3333jWzbtq3y4IMP7rvpppsmvvSlL40eOnQokc/nW6973esWPvnJTx7O5/O/VrD6QqeTEuAMIrXoJxnh53rT1Uxsv41FP7cx17Z6RYL+EFxP2KbXK4XR2+v7QQEXl68ZWxxwtvbp8vmAZkZAf6/70nVdyeVyMjU1JVu2bJG1a9dKNBo1gILz60NB06XNXzTTzPlYSiiycryQDwwDHOy1JsZ2kKM+doRetWqV5PN5c+khm5WBaQcDYpsr+H+r1ZJisSjNZtNIaMFE4v6OSCRiNE7Q1IARg4ZHzwkdflYzTwwwHccxlx7mcjkZGxsz0mhmhPW4IGmGCX2nTVDQXrbH1yaTYcAU7WATPNd1DdPH5eDv/3nyJ+L7qMcRp6M9CSYbg6G1OVjzIvC94TEEIHGc7rciErj4MwiaW3Le5rT87y/q4jWbpi7HwR050GKJAV5d8KTTyjn10MOHZOPWtTLhLhtgxfMb/aijGDIAdZx2NDLHaftoLS8vS6PRMD4uvu9LqVSSpaUlWVhYMAACF8aiTPxmJ3Zep4h0hjFlXyuAGZQD/x02g1tYWDBgZ3x8XEZGRozpGMBNuVyWUqlk6tF30/AcY/rQ9lQqJel02tCAMMmzs7MmKhto1wITDpXO7dYCHoxP0HyxzfgvLi7KwsKCZLNZo63U6xnlc11hAIf3Q+3/ovco7hOdNxqNmj0PkTJh0uh5ngE52Ls5KARADoKFgAYGs4OkfuBG98Eg/EG/upBsJrphgKXX3xjz42n3yZJisZi89a1vnfvKV74yeuuttx7B+tm7d2/B8zx597vffewLX/hC4YYbbjg6PDzcuu+++4bf9773bdq2bVv1/PPPL+vydu/ePffJT35y8rHHHkucddZZNRGRH//4x8l9+/aldu/efUBE5FOf+tTIrbfeOnX77bc/fd5555UffPDB9LXXXrsxk8l411xzzdwgdJ977rnlb33rW/XPfe5zhauuuurY/v374z/+8Y9zn/70p59mgMNp8+bN9b179x7YvXv35p/97GePDg8PtzKZjBn0r33ta6N//ud/PvPf//3fBpy5ruv/4z/+46Ft27bVnnjiicS11167/n3ve9/aL3zhC08fV0f/htNJB3BsG8bxbCJakmUDD5phQ/4waRRLFHtJi7RDLh9EvTahMElNWPtt0h5bH+i22+jQ78P6i80S+LANO+D4UAxjlJnGTCYja9askc2bN8vatWslmUyuuONCH7BsosJlIdQsDkKmD2PIEmidbO2v1+tSLpdleXnZaCc0CAJQs7Xb932pVCoyPT0tqVQqEA4XDFE8HpdisbiCHi5bjwnKZX8DSKMhmWaQAGYAwEO3Q5v06br4B/mWlpaMJgRO5ktLS4F5oPsEjCubDrIWyyacsIFszSzY5iHAEZhzaAv4BnVdXps2tw0eBPPLVUClH2OBftISeEfaV421wY3n++ISyHFExHMc+eGzj8j/2fASadXbTCz8EojNCdbm81roApuVfSLi+wBCvBaJBqerFeuW7xstg81ciiXzAJCIFgathohIqVSSaDRqfEVYi8YXyrL5JNYg6ocpk0gXCMFnJp/PG2CBeYa28L6B+oeGhlaEtl5eXpa5uTmp1+smPHF3/LjPg9pQ1IF88LlJp9MSiURkbm5OZmZmTMhp1uJirYCRD2PCdTRIOxj2ZHl5Webn52V4eNiMh17v+owCCNJ7G77FWoaZGJ7z3sfAi7/hPuPgM5gn69atM/137NgxQwfohjAIfct7KOaezRTXNm462dqqx9j2XIMUGz/Bz237k+YVetFoG2v97vclXXnllbN33nnnxAMPPJDbtWtXUUTk85///NjrX//6hW3bttVvvvnmaXx75plnPvftb3976Mtf/vKIDeCce+651dNPP72yd+/ekdtvv/2IiMjevXtHd+zYUdq+fXtNROSjH/3o1Ic//OHDl1122YKIyBlnnFF/7LHHpu+5557xQQGOiMill146+7nPfW7sqquuOnbnnXeOvuY1r1mEr40tdYQjLRGRqamppvbB2bBhQ/XTn/70YX72oQ996Dn8ffrpp9fn5uaeff/7379eRE4BnN9kCjtIBs1j22D65bVJSfTzQaQ2vTaxQZMNQNmkRzbwottsa1u//tUgiL/TBwl/p6XhNuaZ6Wc6EomEiZg2OTkpqVTKWgfKCrMVBx2suQmTjrHJhW38uR5cGgmnYJs0VUtQdV+CDmhT2BQMjL7toObymSYGaVoDBQCGKFAsLWXNkwaPjhN0LNchtRncIlUqFXnqqaekWCwanwvP84zEnMtB3+q7b1hy77ruCuZOM1yatrDwvcwg8ZxgyT6YYxGRaCwiP68cFs/z2+AmoLmxaXLxnLUkGvy0/Wva4IPXlmO+CQYtaCc34kqz2g2Vi/4REfH84Li1y2xrhLrzXUuIvQ4tyNelof3MF9935PAz89JaPSyrI8UA6OO5yfMAfcz/x5zmQAM8tvC5wfzFOMCMMxaLGfCBbxiUM01ag4E1D4Yevi0QAtgYVMdxjB8Z6MOFngyceI9lhlSDY9AFUytcFtpoNGR+ft60i4UGAF4acOi5jGTTvuoEoMYgjsdMa1ZAL+9rtv3aZu7Ld/OwFpb7RO+zeg9MJBKyZs0aE2xgaWnJ+N7g/iLMAxZQQCMEbVG/s9r2zJZH7yk2fiLs3SB8jAZfYXSHgep+tJ3saefOndWdO3eW7r777tFdu3YVH3300cRDDz2Uvemmm/Y1m0254YYbVn/9618vTE9PxxuNhlOv151UKhVqovW2t71t7otf/OLY7bfffsTzPLnvvvtGrrrqqmkRkaWlJffQoUOJv/qrv9pw3XXXbUCeVqvlZLPZ4zLhu+KKK+b27Nmz9vHHH49/5StfGbv99tufF+jYsWPHCsD27//+77l/+Id/WH3gwIFkqVSKtFotp1arOcVi0c3lcr8zZmonHcARWbmha+ZdL/iwDaLXxqCTbSO3fd8LvISBEtv7sLoGlTSFPe+34Q26ueNvlrxrJicMeLEkzzYOuvx8Pi/r1q2TiYkJyWazhunsBzI1s6FBTpjfjS3hsLTRighqMJNgeiC5RL26L/S3ut+QD6Zv2s6fy0WZbEYWlgB0GPxgXPjOHU2X4zgB4KRNZ0AD/m42m1IsFg0jh2fc/xq0c35mSjVdeg1q8MnaHjiD634X6Zoo4TeiSjEA9jxPxHFk7sisOG7bNK1NH8BAN/nmtk5H2poSoW9ZcyLmfZ9lrVIbeOi11w233qaiDVhWAqZufbwXdLU0qXRaSk6inV98iZTmTZnN8rLMHEvI5NjKcN2sxcWzsD4HmMZ3ANoLCwsyOzsr8/PzUiwWAxe2gpGFhgDznLUBPPdtAJ3phcmmiATM6vR8h3YpEokYTW2xWDTCCB3NToNtTiiXgSA0MgBtEDzo/VPP9bC5z3n4t/4W+xbu8clms4HIdhw4wdaXTAfvs3q/CxOW6KT3at6X8CyTycjU1JTRsi4uLpq/ITSBcAd5dfho3TdhZ4gNIPY7f3v1fa8262/D6g+js9/3v6/pXe9618wNN9ywfn5+/uk777xzbN26dbULL7yw+MEPfnDyrrvuWrVnz55DO3furORyOe+aa65ZV6/XQztw9+7dx/bs2bP2Bz/4QbpcLjvT09Px3bt3HxNp+/aIiHz84x9/6tWvfnWJ80Wj0eNCl5OTk63zzz9/4fLLL99Yr9edt73tbYsLCwuR/jntKZ1OBxiBJ554In7JJZdsvfTSS2duueWWZ8bHx5vf+c53stddd93GWq3m5HK5E63qRU8nJcAR6S216Lep2L4J22TCgEw/egb5/nikKjagFHZw/TroReJNVPs5iHQlh4PYETNAsh3YYIpXrVola9askaGhIXNIhTHvWnqqD14dVCCMPp1YA4V2ggZmeFj7AMbLZrfO7QyT7iHBqdkGGhnkAEwBDMCEx1YuM1dsvmYzyWJJMujRAEf3KTNAYKQAbJhmZuSYfu4vjBt8J2yAX4MjPfZh/YC+4kAPMK/BnPF9XyLRiFSjbclxNjcqjdpyF8hYkiMOgZaOJkT8AOhxHDtA6vZh4MmKb1zXlXKkKqlEUhq1ttM8nOglUC4ATBDwdMGXI+lc1rybb0bl2V89a3Ju3zYh1eWitFqeILv2y9AaEw3WGeijbwEg4btSLpdlenpannvuuYBvmA4PzXWjnH5jzXMS2iGYqLJvDdYMvkfoZgAraGtLpZIV3Oh9RQtRtOZVRMxdOvgJ04DrZNsztWAnTOgDGmu1mpRKJXMJLodD5zZr3yIbM81joIUsNm17r3OK32mt8fDwsExNTZk5t7CwYHxyWFuD9mCcUaY+m8Lq1yDO9k63+3jOdFtb9bNBygzjfU4lkcsvv3z+xhtvXH/XXXeNfPWrXx3dvXv3c67ryo9+9KPsBRdcsHDVVVcdE2mvwSeffDK5ZcuW0Mhqmzdvbrz85S8vfvaznx2pVCruK1/5yqU1a9Y0RUTWrVvXHB8fb/zqV79KvPe977UGKjhOumcvueSSre9973uPhl18zSmRSHgiYoB9r/TDH/4w7XmefOYznzmEdfqFL3xh5HmS/BtJJy3A4aQZe5tExrZZ9ZIC470NRAziYxJWfxj9YXX1KzNs47Uxgf0kPIN+r0GDZow1c4NkY5bDyoavSKFQkA0bNsjY2FjgosawOph+/Uz7j/SiwQbQOLEfwNzcnMzNzRkzF3wP5l4ffswIMX02BkC3kcfXJpHEQR8Gcmz9jPaCOdWmZyiX69FrQNPLc4P9JdjnCe98v+tzg29gksdjxiDONi5sgsL+FJox0+0HwInFYsYvib8REfGSvjx84ICkkmn5+b6ibN+W7pS1UkPCoMX3PWk0G50vHAI5PBay4v/ttiG8dfv/rutKNBILfPPIr34lL9t6urjNqPie1w5jYPxwgvS0x6jrI9TVcjny2IFZ8VstdXtOu4zH9k3LmZvHpVourdBQskBDmwHZwAXACR/E8H2amZmRp59+WhYWFgLvOdAHQjYzI87+HjzG0HZy8AkRMf45uJMnk8kYPxhojUTEaHhw942IGHM2lMGhrZF4LWOOa/ABxhsAwhYGmueoba/nNoVplxlI2bTtjUZDyuWy0UBj7uPSVKxD+Dfx+acZe72ncP9gHLXm3XZuoGzdRtQbi8VkbGzMtKPRaMji4qLZ83zfN6AYNMCPi8vudR7a9mh97vYSnDDdYef7IO/6pUEBzYmCr9/1lM/nvV27dh275ZZb1pZKpch73vOeORGR0047rfrNb36z8F//9V+Z0dHR1m233TYxNzcX3bJlS8/yLrnkkmO33nrrVKPRcPbs2RO4APT6669/9sYbb1yXz+dbb3zjGxer1ar7wx/+MD0/Px+96aabpsPKtKW3vvWtS88+++zPCoXCQOZtW7ZsqTuOI1/96leHL7744sVMJuOFRUQ7/fTTa81m0/nIRz6y6uKLL1747ne/m/3sZz87fjz0/bakkxLghG1MvZ7ZDlt9ENvK0fl7PRt0AwuTfOky+6VB+yFM8qbzh9GgmXM+yPigFglGxbExoTjktFRCl4vQvRs3bpQNGzZIMplccUBqZltEAs7vIkHzBqZVm0zov9n3QvtmoE6EQj506JCJusTl8PwKm2eaGeLytdSTv9EMAI8dh+IOA/0YJ/SFBg825qperwdACB/g2tlcm76BEWHHYbzj/kGbtbkYm/GwLT+PrfbzwBixeSGby+j7beLxuCQSiQDDbKTp0azsP+iJ67b9o35+oCoa1ECj45C5V25yXEaj0+J2IpkJvvMBQfw28CGQ050XbXCDKRBPD8vjP18wbWz/9qRWOSZOFXewOOJGo+J7bO7DzFl3jiXTGXl0/3QbFDHzLARyOqQ+fmBGztg2KdUOI+k4TkC7grEFwOY5hPnDcxL96rqu1Go1KRaL8uSTT8rRo0cDkRFN4AQ1l3n82VwNY5tMJgNBB3hu8zzAWslmsyZaV6lUklarJYlEQoaGhiSXy5mgB+Vy2dwjlcvlDH1sVqYZWy30wHyFWaSImH7UF19qQYHeD8Lu70Lf2IQVvE4QjrtUKkm1WpVsNisibVCQSCSMkz7GiduDMsKEQOhzvVdrIZfWxvP+rAUYAFjJZFLGx8fNWEIThX4FiEYbEbiFaeB905Z68QW29/ydBmv6nf6O50xYeShr0DP/xUiPPzk7uJ33b6iOK664Yvbee+8de81rXrO4cePGhojInj17jhw8eDDxpje9aVsymfQuvfTSmQsuuGBhaWmppynYu971rvkbbrhhveu6/jvf+c4Ffvf+979/Np1Oe3fcccfkzTffvDaVSnnbtm2rXHPNNccFbkTaa6BXYAGdNm3a1Pjrv/7rZ2+++eY111577cY3v/nNc1/72tcO2r79wz/8w8pNN9106J//+Z8nP/KRj6w599xzlz/0oQ8dvvrqqzcdL52/6eT8LqJ2x3GGRGSxx3vrM5tUZhApCKdeQCSMjucjfTleyYpmVF/IZKM5jEEGCAFDyFI6mDtwJDIGDhy9q9FoGEYE38ZiMRkeHpYNGzbIjh07ZHJycoXvCYMPzbDrwwIHPTs19wJ6fPCibLSR6y+Xy3Lw4EF5+OGHjZkEM1/MmDOTBaYINCFiEEuq+YfHR9MKppGZJa4fjBfqZyYLIAI0wokYvgbcfi2hZ3Crzcz0GgJ4YOaIxwpMC9PI8wt+EtVqVRYXF402iH1n9DjiN6S4YGb1mINRymQyMjo6KlNTUzIxMWEYIjBQ/nBW7v1//j/DJHXnGUvVO79X3EETlO6fecawVIpzHaDDANU3QCkejcm+pzQo9k11AD6++LJh1Wpxao54Xks8z5en5xptgzQaayLAEAttjmaguDEAYO28IpPrV8twypUzC1Vj6oULZmGuhR8G7prJZrpKpZI89dRT8uijj8ry8vKKNY6x5rFlgYqe14hOBsaXmVmex8xEI7JbJpMxoCCdTsv4+Lhs27ZNxsbGZGlpSZ566ik5dOiQzM3NGboQFAAJc40BlGZqYRoH537XdU2YedbkoP+wR3A9aCvu1GG/E+TBmCL4CWtqMYczmYxMTk7KaaedJuvWrTN0AcChXoA7DluPPtWAFv2A+tEfyM/mu7bE+wQ/w/8xRrVaTY4dOyZPPPGEPPnkk2Zf5T3N8zwTVALnDe9vSBoEagGUTicCKmznjG3fCgM0mp5e4NKW+tCY931/iR889NBDZ0Sj0W9t3bp1OZ1OV/F8//798ZfsOHt7pVo7PgbrBFMqmfB/9vAjjw560eep9LudyuVycv/+/dlms/kn55xzzi/CvjspNTic9OIPAzdhIETbcx8P4Oi1iYRtTGEbURit+rlNQmhrl0361K9dYdIhTRPTYntn86MADdzHNkYel3lOTk7Kxo0bZWRkZAUzgu80ExDWDjAwNlM6LhNJawJs71utlpRKJZmZmZFSqRTIw9JnRA5jEMcMGsxgYE6GaGwMhlAuAAj3NxxroangdqJennsMANEO0IxvQAv/X0ciYxDFUmcGalpyqw9vMGhom54XzWbTmCXGYjHJZDLGz8k231A/ABBru9AOzRzA5wZ3ksCUhefQUjQvv9w3Z/K4kaCfhchK7Q3/7XeimjniiOd78vNfVcSNDwfmYRewdPL6vohfbOuITH+JCL7zuyDHcdtamrbWsRPFz/fFdR1p34FDJkoGuHToc7oUe7yODRDq0rR186S0lhfFS+QD0nGe2wxieb3znMOcFpGA7w00oLy/ceQunViohfWCNYBIbAza2VyRowVyJDS+dBQ+WYlEQsrlsszNzcn09LTMzc1JuVyWeDwu9XrdrFeeV+ynZmNguT2oA/MVAAxl8RritgOUDQ0NmYhu2lwOGhotIGLND76BYCoej0symTSaEMwdCEu0OR603bb1rfdn7CVINo00t5NBDb9DXfF4XEZGRmTjxo1SLpdlZqZ9pyLGGuCsVqsZYRJf6spjxn/3OgfDBGPcJ7Zybf/XZWlgo/vUlgb5ZpD3x5O2bt1a/9nDjzw6PT39ovCYExMTzVPg5lTS6aQEOLYN1LbRaIas1zubBMr2bVgdnPoBKzwP25jCNtd+7epXTr9Ne1CwhDz6R2Tl7ctcvmawuRx8n0gkZHR0VFavXi2rVq2SWCwWCAHL/aZtpDVQRWJTJG6rjXlyHCegFWIpJfcFIh4tLi6uuDMH7QQjocO7QhoNph3SxXK5bJgl/IBh43ZrySPbyXuet8IMzyYl1cCDx8bGYLBGCs+Z2bAxtixt5TrxPQM4ngtsLhePx42PBPoRUn497jam0CZs4HoSiYRhMFOplAGbXF652ZJmuRRkOLTTPxQfHDWNQI+PIAMi4lUr4tcqgiYEtCQCbNHVDvGy5TziO5SvG/4ZH3qeSMS1rN1AQb65ftQ1beuMle+zEZ64vifVRkOk0TBaBh0WXSfuM8x5MM4AFEtLS7K0tBRYj2zKyBo6roeZZzCuuNwRZmashWQNKfKwZpG1LVijALy4M2Z+ft74q7hu9yJRPd/0/0Enkue1oxguLS1JvV43WhzsF9pvSO99aG86nTZ3gnG/aA0J+tK2F2AcEWkQPivYB7F/QujAwI3NRXn96TmAckQkcImw3v+5rxjcaLpZCxWPx2VsbMyEkMbY8x6E8wN7I9pki1anadFt4d86X79nulzbWW4DTmFndz9eoVfdzzdt3bq1fgp0DJauv/76yU984hPWizrPPffc5e9973v7X2yaToZ0UgIckeNb2GFgohf44Do0c6QZ4n5lhNUZJt0ZpG2DfNNLEmUra9A+5b7UBxUffLZ8OFy4DLQ7EmnfWj0xMSETExOSyWQCGgEkrSEKO1xQX5gEWGt9NGACzbq9YMxwh0QYMwLJMJyiYWoFJg927tC2sI8KJz6MQTcDDGbIwYDY2hLWV6CZmQH+DowG14NxA02aUeB+Z7NABmdgrACqGHzCRA0XLOKeC/QZj4cOW803srNJj247mET81uZu3cAKai631R+23g17YU0APAZYdDGHOE73d1g+JMcJaoJEOpeDSvtOHNdxBQBIUysWih3paLcNUb54ni+e1wYALgEbm1+IyErtDfuEgNGF5mBxcVHK5XKAocVvjI9Nq6HnSTweFxFZoeVjMG8zhWSaeJ/BvGg2m1IqlWRpaclEd/M8z0RdY81Ir6RBD/JC24SoZdx/LFhgkIN57rpuINoc2qbbz3smnwv4DTqwxkAL7zGpVCpw548GJ7qNei5gXPV+xt8h2c4PDdDYJDiVSsnExITMz89Ls9k0YfVZm406+M6rsPlrS7rvuH910u3vxWscDy/Tq94wgGQbk1PpxU3XXXfdzKWXXjpve5fJZH5n7p35bUsnJcCxbQj9wEGvxT0I6BmkPtvBcSIbWNjGZTucWEJt20jDyuL/9+ubQYAXM/8MSHhz5cMFUlr+JpFIyPj4uKxevVoKhULAVKpXvbYDR0uOw6TLvdob9k2j0TCMme2CQGZG4AOAqERgTPC377cv96xWq8bGnetFn4XRyu/B4GhAqOcL/61NQMB42STRkOryfT9oq/aF4LrRZp4fzOBppk5EAgwc/J0AKhkIoa06PCZHYeO+4noAaBjggIkK9JOIuL4rqaG01Jbb4brb5l16PNpgpVf4aJGu9kUEZmysJzEqGgNytIYnLGkm0/N9cT0RJbIYlwAAIABJREFUT3xxHTFR1lagpl7rWjrzgMaO/es0c6/7mLV/PL4ACNCCMmhGgo+ViKxg2BnMwqSKBQVaMq7nPpfJpp0iYjQ78Nmr1WpGmAGNDcA5gyceB5sQjPdrzsd9CvMpTkwXNBF4htDStrtzbPWzOSn6kulAcIVEIhEImoA1UqvVAgAy7PzAnqDrR3tYizNI6iWwAYArFAqyevVqY5IHc0jsWRzSG8DYpvW19Zut3rBkA3dhIMMGRAZJvb49XnpPpV9/mpiYaE1MTBzXhZ+nUv900gGcXoxqGHPai0HvJ13RZWmJvg1Q2DbGMKDTi96wMvX7MM2DriNMqsMSwrAybHTYNCn60NKgjCXsTAfuN1i7dq2sWrVK0ul0qFRUM+VcDzO/OJiZyerVP1wOMxlMPxjzUqkkCwsLgYhPmnnh/gWjpp2yWarM5j5MI/veaMCI78AwaNMxDfSYrrB247f2HxBp27wzgOJx5TmEem2BJrifGo1GQIKOtqC9i4uLJoCDBm4aUPm+bzVn0gAReaAdglYIzB/7HzmOI61IS5q1pqxJjMqB4mFxXYskdyXeCSQTIlrEYo7WKSDkPaKs6eQrHQza7Mbi0qpVRXxfPBFxPU88x2n76sCJp1O4g3yOEwA6vu+LdMbIa2FetQMTANgwWBVZGaqYNWRI8IeoVqvmUs9isWjWiQZLer4zcAIAgqkYBAq1Ws18x74m2hwTcxzrUaQbUhhho6PRqFQqFVleXjamaezsD41HYKxpPuq9J0wQgHmnGW7ey1APayVqtVrAlwSJzXGZLm4/6MFvCFfgl8YAB+acyWRSIpFIIPx8L2DAbeA2cVRKvefYzGvDtPC8VyeTSZmcnDTjBNAHXynWGMOcUURWBLnR5dvAqk76/OFvbYBSl2fjD/S5Y8tno0ObU59Kp9LJmk46gNNr0YusPBTxjPPzM96AbfWEvdfl2ui0gRfdhl6Ajem1bXD68NDtD6ujF4Di8m0083NW9fM3Npr15s8MtOu2IxatW7dO1q5dK9ls1jDHYUlL5210cju0D4lOOBhQdliduDcC5ioiwfslNAAEI4b24L4L/p7zs9mF7/sBSaQN8DmOI7VabQXAYKCJaGd43mteQJILJgQJwCyVShnJp2ZMwEyCeQFtMOnT48VMDjNxYCzh+KxBDTOq6D+UqaNMsRkKM9DQ3iDAwMjIiOTz+UAEJlNmrCmt1kpptCMIwQywgXtmRIB4GNhY55Tf1q4gsbkaymXAwxoejajatDkylW3KkUhaGqVSG+T4fvtbzxG3A3L8QJ52YaZtRBt++yLi+0GTNGaAmWmGRoT9SjA2ABQLCwsyMzMjc3NzUiqVDDhl0ISx5P0MYwrgBGGJNhfTAIfnBs8LjnaG+cd+X67rSqlUkmKxGNDWYr/QAgW0HWWCfgYlvH/iPX602R9/y3sJ+h/AziasCHvGew7aw5ov+AQCyGHvicfjZv2zYEcDAH0eiUhgjbJGivcjvGdQo5P2zUE+tCWfz8vU1JQBrUtLS2Yuoq/Y7I7XMwdi0O3SSZ+Z3Oawd/pMtSXb+a37rxdw6XUGn0qn0smWTjqAg9Rvs+gl4dB/24BIPylMmLQlDNTYaOgFSnSdOtkkmzY6+yVmtPXGiB8tPeO+Yf8KG7CytQsMJBieaDQq4+PjsnnzZsnn8yIiATMokd4BBXqNH18KiLbY+i/sUNGmMxxcAM6syMf2/DiQAIrAXHGIVOTBIc9Ah/Mzs8S089/8DTObWqMGxtFmkw/GD6YwzJyKiGkHTHg4tLTjOCaSG5g53/dXMHFMH+rjtqEd+s4KHsNed3/gNztG85jz2gUzms/nZWhoyABrtAP+VS23KSK+NBtN2Tq+XvbPPC2I/NwFNyIBuzLzxCIVpmeumW+O+OJx1sB7gA3zf1FzwEfYZ5iU+YYO6IWk40vD2iKNklynrckB7uES8L1DY8fAlAE9zBm15hQah3K5LKVSyVyqyfNRm1GJBINa4HusbQAHPVfwAxCk1xnPWy0QQdAJ1+0G/0BgAQgLOGoZfmDqCA0HS9N5jdp8QCDgYCBgOytsZpT6PERZnEcnrd3CeoaWhkEX2ppKpUxUOT4jdP8xfViD3BZ9rjDwQh5OXL42aeW9IBqNyujoaMB0tVarSSqVEsdxzLjAHBDCGu0PZBMm2ejp9VyDDNs5pesIqzOMr+gFbG080inAcyqdTOmkAjg2yYRmaAfJy/l7lRsmodL5uUy9iYfl04DCRr8tj41+/b0tDQqmBgUp2q5e02N7xlJDlqpnMhlZt26djI2NBaTstjJ7tUWPEw5wlrrqw1iXb9PeIC+0GJVKRUqlkjEp4YOWaWRfBa4f0lHdljDmjqWODDi4D7QkFEw+aGTNEDNIzCwwqLIBIKYNIZUBEpaXl2Vpacn0ETNUGmBoevlbz/MMQ8m0cbvCxg906jHUAE6kbYaTzWZleHjYmETCTA1mLZ7nSalUknGnKMPbJuWXB2bEwwWadJknTMh8kc4/jA6cIIYgzUs3n7/CvM11Ou/87reBcSfNUBvMSMeEbGW4XcfthId2HCayS5DTLRXPfF+1QXw5MF2XNWOj4ohvwAXmCmtz8X/MKQ14MUegccEYYXy1WRcABTvBJ5NJSafTZh5jrWnzSQbpAA8sgEDd+A3tEEwXYU4HMyZb+Qzu9BoSkUB9vEcwCGB69PzmtQpApvcDbcrFeyzPCV4jvJb421QqZQRXeM7mXqlUSpaXlwPjx8x12FnA7WK6WavF48FtspWp91uMcSwWk0KhIPV6XUqlkhw9etTMG+yFrVbLaL5tANF2fun6Nb22M0a3O+xMGyTZeJZefMOpdCqd7OmkAjhhoIJT2OLu9d3xSmrCvu8FfvibftKhfnnCGLtB26G/tdFk2zz79TUOdn3QMaPBJkCe55lLPScnJ02UMWaCRVZGOwtrmz5McEhrMyhbf9n6T9vDw4YbZmYMGvAdmCib9gf12jQKrtu9DBOBCXTf2g41XZ7OB7MfzdAwvSiD24K6tKMxnnmeJ+l0WgqFgsRiMTly5IiJhMUABvXaJMjcB6y9YgaSQRlLdzWTyQykZpS5HjA6MEPK5/OSzWaNZFq3sdFoSKPRkFiyIa2OL4o4bVDS1qagv3qsab/TnwQm+gUNMMDGaX/t+74JThAwW+s89z2Mf+f+m86PGAo1julVP8oOPvVKS/JspCCbNoyK65YD8wZ9zffNcJ/jb92/GCv+TmSlmRJf+MpaIjiUc8QzvoMG8xAMdaPRMHSyGSKeoR5oKCuVihSLxcAllzYzJm6r1qbqdWVba9xW237M64PrtwlDOK8WEvB6soEDaE8RypsBDsJZw0xN0x92PoSdT7a9EM8xT3g/03uT3r/RBoxjoVCQ8fFxWVhYkFKpZMplE1QG5LY+0fT26ne9t+qzIYx/6QdIws79XuezrR3Hw3OcSqfS70I6qQAO0iDM96CpHzDQG1W/fGFl9drIwt6FSX9sQMS2uYXRNmh7Btl88Z22HedyNcCBw6fjtMN7jo2NyejoaCAc7CB9GzYPmGHQzLUNDGl6WVPBzBmHdIUNuu0Q6wce0R94BpOvoaGhgMMz1839qPsCDB+bmWBMWKJrGxtbP4M2ZkK5nRwogSXoyGsz90B9tgNf9w2PC5udiay8SJTf6/+zdB0SfjxLp9OSy+WkUCgYbRT8OtBehMVdXl7utLPDuJIWJthOtEFWfOA4vbUxYcn3UV7n/xxtzRfJF/IS86PSkIZI50abSDwpXrEh0LwEyOW+ta1tp106wI3nd9RIYIKX5uXQ0aTsOHOkvabdiIgj4raa0mzUTL8zo495Bj8PDonu+93AEO32Bi/HBDAB06pN0zzPC6xF9nfDHAYAwrtoNBrw7wHNyWRSEomEZDIZ8w187QBwwtYEP2OAH8bgauDDz/T3PI95zeE77jv9N9fD+7AtP8YM9fEegLpdtx1sgAFOr7r5mW6rps+WTwu3WMOv6+K/YRmwatUqmZmZsV6Eiv0c8wraW71/DZLCzu+wd7Z8g563nDcMVL4Yaf/+/fGT+aLPV7ziFadv3769fM899xx6Mes90XT//ffnLrroom0zMzM/HRsb+41GbLv44os3Li4uRr797W8f+HXWc9IBnDCm9Hg32H7JBiLC6rd914tBD5Ns9QNbvQ6U423rIJuvrscGJiBhC3OOxd/sGIwDCkz96tWrJZfLGWaED5gwyX8Yjba6Nd1gjPhbDRi4bWDOoMGBH4EN4HBiZtnGUIB5Y0d3+PdosMR9qKNXQRKp/Vb0fRXsD4C8YJx0GxiocBvB8FSrVZmfn29rN2IxKRaLK6KccR/gb5guQTOizeG4Ph1YAYyxHjdmzDC2bJrEDDcYtKGhIRkeHpZCoWAYNvbdcF3XXMTaaDSkEXFNn8YyCWlW7GetATdda68OnfZv8TwsEIE2XwMY8sWXeDYpq2LD0qgjrHe7P548sizidfxxPN+U3u7ndikG3ASWRhsQiU/ARtp36ZjaHUf8yrL85ImWKc/3RbaesVbGko40VVh3zEGYBPE9Msw8czho1tBhfCFYAAjh76vVqqmP9wusE8yZZDIpmUzGzFcw7JFIxGjwcHkmQtSXSiXjf6P3JjNGtA75xyb44PWlk02AwSHMEQRAgynk1UBBlwtzUgiSOOgChCM6IhsDRLxLJBKBSIcadIT1jY0mXrOgnX9zXu3PxEnv6ei3kZERGR8fl9nZWanX6+YdzHexf2kLA00/j2O/MzOMH+l15ob1nY3v0GPP9YaV9UKn/fv3x8/ecfb2WrX2oiCqRDLhP/LwI48OCnJe+9rXbmk0Gs73v//9FRdofutb38q+4Q1vOP1HP/rR4+edd17lhaf2xJLjOOfg72w229q6dWv1pptueuaNb3xj8TdJ14mkz3zmM4dejHl40gEcJJsGote7sMVv25h5U+HNSW+8g9IXBhJs9QwKwsI2Pv7bVpetvcyo95qU/B1LLnFAauYE9UJ6ymYPrutKNpuViYkJmZyclFgsZkBDvzZrmjRt7AMAGnuVp5kEfWCjTTBPYw2Uzo8Ee3VIgm2Hpv4Nkxg9RigX4Yx1NKBmsynlctlcdMhSbAY6tjFmporBKr5nxkED2GazKcvLywawQGoOpgd0A2iA/kQiIaVSKWB/j6hmvu+bPtB2+khaa6PHgcM9g3YwqGBih4eHZXx83Jgjcb9wf0GiX/K6Wq3ViWE5HJkVv+mJ4+j52lmXnQhr4iAKmd5j1N8+A3HfAB/ji0OaG0ccEceRdclxaTbaEd7a5nOtrh+OZc57nieuuF3TNacNxHxf8E8nmEFXg0MzRVynHWAgGo1INNrVLjmOIwf2PSMLayZlQ6LLf6C/wEiWSiWZmZkx2j+sJ5E204y9QjOymHcAOewjg3nAWkvf9w0oACjGPEDwA2aw4c/Df4u0AyIgEALoYM1MmGZY70Xoe71P6L2bQTqAeCKRMP5guC9I04Bntj0P33J9rEHjBADH+wTvgVhDHJ4b72xRHnkvsO3rWqDBeWz9qv0TbSar/AzjOTU1ZUxoOVoeADD2BeyfPOdsvEEvYaLtLA8728MATFg53G4bcBz0vO93zg+Spqeno7Vqzfmjay8qF9aN/Vovqpw/NOt+747/SE9PT0cHBTiXX3757O7duzcfOHAgtnnz5ga/u/vuu8fOOuus8m8TuEG64447Dr7pTW9anJ6ejl5//fVrLrnkki0PPfTQY2eeeeaLqr16vml0dPRF0SD1F3//jiWbNOx48nDiQwI/vQDG8dTNQKDXBt6v/EEBjw20aEmojS5Ns7aJDjuY2KHY1gabGQUz3YlEQkZGRmRqakry+bw5cBmgsESd69Z9adM0iATNlpgZ1v3M9PEFfwBjAAkAEjgoQSdrQbRZXDweN4cn/AZSqZRhqsE4LC0tyeHDh41WRJvB4FDTF/rxb2iWtAYDNEJ6y3+LdCOXMRjS/c1MP4MCvqwTbeRytTlIvV6XWq0W0K6AeYVfE2gEs8nMrK2vUQ4kyzy/0b+QficSCcnlcpLP5yWfzxtQ5fu+ibjEzuRwWk4mkh3mu6NlDJj8tQEHgAO0Ip7fBgzaBM3vAIku8HFELcU2kOkgJMfpgAuAp4gjmwtrxSMNXXu+dNdgsKzub8/zxPc88XwwcPxF5+9Asxxxnc6cjrgyNjEia7ItcRyYTUXEddt0zh4+Ij87EjR14jFA8AhcTMmRzxBNDRfi6ghsmA+pVMpE+QKjzvWwMALzF2UAUC0vLxtGHUwtAHQqlTJ3cCH0NLQdYIzB4OsLQlEf7wk8HqCFGUzsX9jD4vG48UmcmpqS8fFxicfjUiqVZHFx0awRLTDh8ljAwPMDawz7iz4b0EcYB46yBg2cTSDBgVS4H/Rv275rY965XxmwYB/ittuEV9hr0Ke4ADSVSplvAJK1dhf7vwZftnNH06/PPn22hJ1jtsR7fz/gYiuLx5fPkEH5iUFTYd2YN751qvXr/DkRAPX2t799oVAoNO+8884xfr64uOg+8MADhT/90z+dv+iiizatWrVqRyqV2rlt27Yz77zzzpGw8q6++uo1O3bsOEM/P/3008/8m7/5m9X4/8c//vGx00477axEIvGyTZs2nXXrrbeOHw/dhUKhtX79+ubLX/7y6t133/10tVp1v/nNbw498cQTccdxzvnf//1fM4lnZ2cjjuOcc//99+dsZX3iE58YzeVyL/3yl7+c37hx4/ZUKrXzT/7kT04rFovuP//zP4+uWbPm7KGhoZfu3r17HQsQZ2ZmIm9+85s3Dg0NvTSVSu38oz/6o62PPPJIQpf7ta99bei00047K51O73z1q1+99amnnorhm4svvnjj6173us34f6vVkg9+8IMT69ev3x6Px1+2evXqsz/wgQ9MHk/f2NJJpcGxLU7bJhmW1wYCbM95Mw7L14+2sG9YImaT/PQCTnozDXs+CKDSG6iNqe3VDgYNGtDY2sPSQ8dxpFAoyNTUlIyNjUk0Gg2EhQ7b/G3+JzYAA0ZEAxoGCrb+5kMPF8KJiGHiIdGtVCqGYQZN2ryJaQMThb+TyaS5SwdO0tx+1ppwAkOox4xNLhgY4W/kQT/x2DMYqdfrAe0Pnus5AGaAD9FUKmUNZY1nDJyYWeFxQduj0agJAAA/mGKxKAsLC1Iul40vDZgR9A3u2sH48xyJRqOSSqVk1apVMjY2JtlsdgXQQ1+BDp6HkWjbT6rdx75syKySGb8oleVy29zLJxjhi/gWDc0KLU7gjpygIVobK3U1OZ3/SSKbkvWpVUZzg7tpgEqeKTod8zRDjYjvd7xz2qnleeKKI74BMB2pv+8FsQ5M2VyMT/seHdcNznXPa0m7CxxplIryk2czsnMqGMoZYDGVSplxghkRjxOYZy1ciEQiBljzXTPVatXMK2bgeF3yHMNa4/uWeB5jPkFbxHOahS+6Hq2h0WauvJ9qZhNgDuB7fHxcMpmMOI4j1WpVisWiMevjtchniN4z0H96z+S9IGxtA9TH43HzHWvnATbxHgBNnyPazJXp4GTbuzkYhe477nfbXmkzSZ2cnJTp6WkjZOG5CfqxP8I8UQNHTmHndS/QofPqfGH8TVidvcrnOl5oUPO7kGKxmLz1rW+d+8pXvjJ66623HsF82bt3b8HzPHn3u9997Atf+ELhhhtuODo8PNy67777ht/3vvdt2rZtW/X8888v6/J2794998lPfnLyscceS5x11lk1EZEf//jHyX379qV27959QETkU5/61Mitt946dfvttz993nnnlR988MH0tddeuzGTyXjXXHPN3PG2IZPJeCIi9Xr9hBUV1WrV/Zd/+ZdVX/ziFw8sLS1F3vGOd2x+wxvesDmfz7e+8Y1v7N+3b1/isssu2/yqV71q+YorrpgXEXn729++8eDBg8l77733l/l8vvW3f/u3a3ft2rV13759jyUSCR/l/uM//uPE3r17n3RdVy677LJN11xzzdpvfOMbT9rouPrqq9d86UtfGr/lllsOvfa1r10+fPhw7LHHHkueaLuQTiqA02sTsC1o26bEefDbJonpVWcYYLAlnRd0asmWje5e9XIZ+lAZlJawcvSBYgNTzOCE0WKrq9lsSjwel5GRERkdHZVcLhe6aYf1E54z82Kjz9Z226GEsnD3hYgEpLS+7xvJJ6S6LKVjZkW3BUxOMpmUXC4nw8PDIiLmkGUppW6vbZw0CIQU2hbRTTNDPNcZKOE98jHo0Qc1O/mzaQyYUDZXYYAFZhaSWQ2GGJglk0kZGRmRiYkJyeVy4jiOVCoVmZ2dlbm5OROOmiW9fC8H+h0mKtCiDQ0NyejoqIyMjAQuoeT2gTkCiALD40WiEom0t9NGoyn1ekMmUnlZHInL/NxC29TLY4Ou7h9eyJro4qI2kLGuT3OLTdf0rdloiu8j6AH5vjmOtKrVwN01KB/93K60jYFc1xPxHfE6GphunSC9/b3juLJpbaFzmHjitbRU2W2XJa54ni9epSRP1yZly1DXx4q1svgbkcrY74PXA7QJkKhrbTHyNxoNw2yz1kFkpU8Pa3fArAP4uK5rzNoqlYpUKhWjnbBpDcPOIwYQqAfPkQ9lYk3AP4jvY4L2CCaVME+FhpEFBAADqEcLurhefKPv4WEtD48Vr08IfrD2UH6r1Qrcicbj2et80/uU7mNuA9/fZQM7aAOPD/aefD4vY2NjsrS0FIh0iVDgfO8XfsKCDfQDDDZAxu0Oa7PtnNVn/qC8hz5HdDm/D+nKK6+cvfPOOyceeOCB3K5du4oiIp///OfHXv/61y9s27atfvPNN0/j2zPPPPO5b3/720Nf/vKXR2wA59xzz62efvrplb17947cfvvtR0RE9u7dO7pjx47S9u3bayIiH/3oR6c+/OEPH77ssssWRETOOOOM+mOPPTZ9zz33jB8vwCkWi+773//+NZFIRF73utedsA9Os9l0PvOZzzwNUPaGN7xh/r777hs9evToz/L5vHfOOedU//Vf/7X43e9+N3fFFVfMP/LII4nvfOc7w//5n//5iwsuuKAkIvLVr371V5s2bdrxxS9+cfgv/uIv5lHuv/3bv5lyr7jiiuc+9rGPTdlomJ+fd++5556Jj370o0+jH84666za61//+uUTbRfSSQVw+qVeTC3/1u8GZfyRzyaBOR6AZGNC+wEpTe+g9NuAAcoLk071Orj17zBJVVifeZ4nqVRKRkdHJZ/Pm4vW8I7NTbgsHAAoV5sn8UHNIT9tfahpxIHNdtg4sCFhLhaLBqBpMy58H9ZPACFoV6VSMWZuoJeZ814HaNicYICAvuELRvuVx2OJ/tbmIfhOgxddjqZR35GimRbH6WpzMA4jIyOyatUqGRoaMlL2sbExmZ2dlZmZGZmfnzdmTZFIRNLpdMCHC+Amn88bQAMTJ9x5w7QNlUWibk2qjZgsJrvrwnVdiaYy8vQ85mBEIpE2sKjX6pJPpkRGRI7NzUv7ok20zRcGDRwcAMkz68+MhvlaOg7/0PL44ks6l5GJ9LD41S649Dz4nviCaQM6RBRD5AuZvvnitzGJOL4TUCAZ6t2IrJkalojrSsRrdoINBOdJt/y2mV37nchzh47Ilu3jK/wZWAuAH54DPJ/0etZz0nVd4zsjIoEyIakHINDaDb5oGOHZMfdgqsiCDAY4PN+5TL3vsxBArx/ec3heIvQ1m8eJtAMkxGIxA2SgYYLml9toE5LYaIMgA88AFqvVqlkb2tQN4JDBJO+/YYw0Aw9+r/d0TbsWQGDP1P3P5WsTNgiYRkZGZG5uzvQvXwINE2TM7TBzLhtPEJbC+t+WBikv7CzjOTUISPp9STt37qzu3LmzdPfdd4/u2rWr+OijjyYeeuih7E033bSv2WzKDTfcsPrrX/96YXp6Ot5oNJx6ve6kUqlQc7i3ve1tc1/84hfHbr/99iOe58l99903ctVVV02LiCwtLbmHDh1K/NVf/dWG6667bgPytFotJ5vNDuyPcsUVV5x25ZVX+rVazS0UCs1/+qd/OnjeeedVnnjiifiJ9EEymfQAQkTa0ejWrFlTz+fzpp3j4+ON2dnZmIjIww8/nIxEIv75559fwvvJycnWxo0ba48//ngyrNypqanGsWPHrHjjpz/9abJerzsXXnjh0om0oVf6vQI4YSlMcqSBgi2PTmHM/yB5ezHcYdKZQcvmcvR3vUAO5wljUvvVr9ukmWYGLa7rytDQkBQKBWOGwUwEytPmWsxY4zmbpvHhzr5BtnG2MeCQ8kNjw9LBSCRiHHz1xZ340c+5/ThkYY62vLxMoYe7oMTmS6SZBN3nyMMmGfABgGmJjUHjcsIYDxuA1eNr62umD3WyyQmDVZaQM+OLKGfZbNZI54eHhwP31iwtLZnL+tAXpVLJgJvh4WFZvXq1jI2NSTKZDJisMNOcrsakMPW4xMcPS+XZ9dI6ulk8P2LoqtXjInMVGWrFZdGtdkBv+16cerUuQ4mkVLIpWV5cFhH0pyPtAARd3xkRCfytAwdgqDlwgd8xeYtnk7IqNSR+tQ1m2hJ8r2OmpiLkeb44Ls2dINYyz3zHF/FEfJf2tM6vSDQu+eG0xJrVtqTf6QKYNo1tYNauI+jL0/5OxO9oS+AbVqvVjA+JyEqGFvNBmz+KdIUEzFizTxsYdtYQeZ5npPM8p6Gx4Yt4fd83dyMhAAYz3swMY131ShrYoY28JlhLjDZD+AEtpeM4xlwMocwhvKhWqyZ8NdaBBojafEsLRfhv3/fNRcYAfByOm394P7HtKyiX+0Ofd7b+4f2Ey4TJaa9zUreVn0MLNjw8LIuLi1KpVAIaat570ccM5J9PGuQs1XPEJnTUeWxl9eMPft/Su971rpkbbrhh/fz8/NN33nnn2Lp162oXXnhh8YMf/ODkXXfdtWrPnj2Hdu7cWcnlct4111yzrl6vh3bg7t27j+3Zs2ftD34C7xFYAAAgAElEQVTwg3S5XHamp6fju3fvPibS9u0REfn4xz/+1Ktf/eoS54tGowNPoJtvvvnQhRdeuDQyMtKampoy0kmbYKUXrWF1d/bNFc/C1s7xlBs2zzOZzK8NVZ9UAOf5bDiD5O0lcdEgQSfbs0ElOINI7LWERpety+glzdHfayYjjF7NtDKjajus+Dsw8LFYTMbHx2V4eNhITvnw04eyljQyLTi4dOoFTsFks88M7PthngZzLwCfeDwu6XTaSPlEJCC9ZDtxDQi47XBu1hGM8A36gc1sNDOlxwjtwXMOfqCZBQaD6IOw8dVzjZkBHluYntnGnhPax5JSdjKH9B5zAhoXRD1zXdc4n8diMcnlclIul40Uu9FoSCqVkunpaQOix8bGZNWqVZJKpQxTyD436I/JtY9KdHhGxHEkNfW0rJ96WjxjbtYGLJt3xuSn/5OUHz+9WrpooW0qVqvUZdhJSzGyLI7riNfwxHGddsQy6QAJ9IOZ52pukmbH96WrufF8ceMRWZMekValJb4v0g500A2/DD8cx3HbwQPsFfRO7UpFxBE3EpFcPi15tyaOwwdrF+SYaG0dgNNd/0F/tFqtJuVy2VyWCS2bdnjHXqL9W1jjg4ATmMvwZ8NcYg0Q1gyHdOdQ6pxwj046nZZMJmP+RoQ3NmHT2hL0jRbQYC3Y/EMAbkTEACzWRlarVVlcXDQBFCB4SSaTBtxDowOND8JIA7RxEAfbetQAEn3GGhwO+IC5hn6GeR2bkvViytHvtnMK7WaAowET+ozbNGjC99lsVkZGRmR+fl4WFxcDGhtuH9OA57Z22drB72zg1va9TYik69L5bWd+r3dcz/MFbL9L6fLLL5+/8cYb1991110jX/3qV0d37979nOu68qMf/Sh7wQUXLFx11VXHRNpz/8knn0xu2bIlNLLa5s2bGy9/+cuLn/3sZ0cqlYr7yle+cmnNmjVNEZF169Y1x8fHG7/61a8S733ve4+dKL2rV69uwORNPxcROXz4cFxEKiIiDz74YPpE6wlLO3bsqLZaLee73/1uBiZqR48ejRw8eDBx1llnVfvlt6Xt27dXk8mk98ADDwydccYZsy8kvScVwBEJN9GxARLbIu9Xlu253qhsIMC22ejvbFIa28Zoo71XPVyWPli1ZKfXBmejy0Y3P8ehqM22UAZHFPJ9X/L5vLn3BowDvtWHrk2KpqW3sJVmDYA2a+D2acYEZWUyGUkkEkbLAtv3VColuVxOstlsQOLJdPFhrOcK3oGJspnjaWkqaAK9iAjEZbP0W5vf4G4QPc44uGFHz/3GCaCSAaweA9Dgum5AKg+mh5kDDXIxX3AzPZgWbYbEjAbaCmYvk8kEIp2h3IWFhUBELgbArAHgwAIHj/2BrClnJLX2l9RXMLuh9eK0/VHaNLWZ/GbTF9/3pNVsyURkWGKxqDzjzkur2hDf8cVxnU7I6DY46Bh5tYvrAAbPA7iQtmbF7xildcDKadk10ijD7wamTy3jf9M2UxMB7+50tCtmCdBScDuARZw2FY5LgTE6301ODEm8WRbHcWmOB7WKQf8SvwN4MI8iEovFzRwDwIGvDe7DWV5eNveQALgyw4s5lk6npVAoyNDQkDEvxBgiL+pBABAODa21MSgT4aDhF5jL5YzJG8BFqVQyF33C3A1rXgt18LftvGDNqu/7gXtoOCUSCavfULPZlPn5eSkWiwbgwMwyk8mY/Qn0Io/eQ3mv5f0B6xXaIKwXHfCB2681t3ofYUGN7ZzTdbPQJAxEwISQx5X3WZvGCmOVSCSMFnhmZkaWlpaMBo0vfmVNOGtGUX6/8znsvO8FymwCyzCAFMbXhNV9PGDwZEv5fN7btWvXsVtuuWVtqVSKvOc975kTETnttNOq3/zmNwv/9V//lRkdHW3ddtttE3Nzc9EtW7b0LO+SSy45duutt041Gg1nz549gQtAr7/++mdvvPHGdfl8vvXGN75xsVqtuj/84Q/T8/Pz0Ztuumk6rMxBUjab9V/ykpeUbr/99smtW7fWjhw5Ev27v/s7q8/L80lnn3127Y//+I8X3vve92785Cc/+dTQ0FDrAx/4wNpVq1Y13vGOdyycSJnpdNq/6qqrjv793//92ng87p9//vnLR48ejT788MOp66677nkBnpMG4JyIhEMvcg2IwkCN7ZneoG3SEJvkJGxzwyGhNyfNxIbRxG3S+XR9+pDR5fQCPJwPhxozvxrgcHt1SGLXdWVyclLGx8dXRC8Ssd9noOlF/XzZH6SzTBvn0X+zcyy0N7gAEI7FYJBwKCaTSdNWZsjRTphA6Qv0WLqsQZoeM5QJYOW6rtFO6LHTmpqAiRId+jxP8Iz7h0Nzoy1shqIZQ73ewGSA8dEgk8cRwA2AF9J4MFaIsgVmlrU3qMtxnIBUmVM0GpXVq1cHwlHDYVxLYRlM2QQR0OAc+MlrpNkOHCO5kbg4h54VEYB3V1otR6Y2Tspoa87Usd1dJfviSdn/k/3tfmeQ43bhDfrE873AvaBDw0MyKtnO+HhSqVQFZmBdQNdlyHxfJBpPyKHZmjFHc5zgntX+u7NfdGpvg5r2x47ryObVAPF18SPRziu3A26CPm3t8vwO0BNDn3SAWSTiSiqVMvMJ4MBx2gEjOFgH5iYc/EEvNBbwoxoZGTHrlGmBoARAp1armUht2WxWstmsmT+Y78PDw+L7vhFoADAfPXpU6vW6LC8vm/kj0r3wUq9XXuv8m0Egg3TsBQywkc9xumHXbREJsS/VarWAvxECE2QyGQN+FhcXAz46WOs2/0HsGZ7nBTQ4ADgcdATgS+8xtvWFetBebqtNK8JmYrxv8PrX65aBB/ZCPUb4LhaLSTablbGxMTl27JgJTILLk1mjDAGarkOPCf/fdvbb5gO/s50DTLfuC9u3+qy3nelh/MrzTfOHZn/tV5E83zquuOKK2XvvvXfsNa95zeLGjRsbIiJ79uw5cvDgwcSb3vSmbclk0rv00ktnLrjggoWlpaWVKl5K73rXu+ZvuOGG9a7r+u985zsDDP/73//+2XQ67d1xxx2TN99889pUKuVt27atcs011zwvcIN0zz33HHz3u9+98VWvetUfbNy4sfaRj3zk8Fve8patL0TZnL785S8f/Mu//Mt1b33rW7c0m03n3HPPXb7//vv3I4LaiaTbbrvtSDQa9T/60Y9OXXfddbHx8fHGZZddNvN8aXVeiEn8YifHcYZEZDHkXb+81ufYLPqBGlseXe4gfWqjox8ACftW57FtprYUVkYvQMP5AMJEgqYVCNXq+8H7S7heMCx8S3wymZSdO3fKGWecYZgSNq/STIGWnOFAR/38DYMOBAoI6w/kgXP68PCwrFmzRur1ujn4IP3M5XKydu1aOXz4sNx7773y2GOPycLCQkDKB2dhNjuB1gVaC+0Lo4EsvhMRY57leV7gYlFbHzF41PVqvwGWZiIMKteP9cHmIug3HbWJ1xLKA10MbNmRm83UIpGIMRlBuF4OMLBp0yYThIKZGZ77tj5E/wAYQpvFdxfhtvp8Pi+5XE5arZasTR2S1Npf0nzz5eDPzpdavNXWxDht0y03EpX/9yfPiEibGd2yeUyipTkpl0sBbVgylZJYPCZ+LCEP/XxWfjV7uNtnHfDhSBtYnDayVhxHxPd843PD2ikAhzbo4jnQBhkST8vRxZa0KuU2eKHy2zm72hxHyIHaEYkk07JxJCKRDu2uiqjWnkcRU3e735nZ4+ABXQCfSCTkNS9dLc8cPiSHDx+Ww4cPG5OvVqslxWJRSqWSAQjYJzBPYYYIvwkEJUkkEqYMmLjBDK1UKsnCwoLMzc3JwsKCuK4ro6Ojks1mJRKJmLtkAK5Bg+d5BiBgXmEtcbRDrG2sSVwAinXF8573JTafY8ZV/6DvEEQATDvWAOrDHoY1jv0im80aocjy8rIJc82O+ZpB5r/j8bhMTEzIxRdfLBdddJHU63V55pln5Nlnn5VyuSyRSERGRkZk48aN0mw25bnnnpMjR45IpVIx/cTzhs9OvfdiL2HQhD2VhWIarOC37lesbf0tEpvSzs7OyoEDB2Tfvn0m2ADmku/7JqQ8ADALtXqd/WHAQp/7tjIGPdNtdeqkgRTXYfubUt73/YAj+EMPPXRGNBr91tatW5fT6bQxUdq/f3/87B1nb69Vay+KeiiRTPiPPPzIo4Ne9Hkq/W6ncrmc3L9/f7bZbP7JOeec84uw704aDY5Ox7sZaOYdz/ox+0i2fLaN2/Z9r/J6taNXmYPk71WurYywMln6DykZmGaWkGlAyIeciBiGFoc4HxjcNma2kcA8ANyIBCPnaGkYayl6tTMWixnzNIADtAvfg4ngxG0Fs4XQxciDOrgsfegzowLQiJvL2UcB+Rgg4TcYIZQVNo7cF5Cs6/HFGHMbeSz0gcnvweDzD+eBBgymSq7rGsY2kUgYsyEAHg1ybeMcxhho8Aew2GXGgyGs549tlFYjKpmNPxevmpHpn58rtWSrC0ScjkmX78n/edkG8fz2+NSKi1JsNlbUXa1UpFqpSCQSle2bhuSl28+W//vzeZFWq3shqLQBR6VcEdftBhkQCTJzovxzRBypxYbMs+VyU1rVMmmHOmZwoFnEaJGk039jq4YlF/fbXkKtuvi+E9DUcF9Lx5Su3d9dGgtuTaTjPeQ7ntRbcVmOBCXFuKw1k8kEwC7WHsYEpkLQzqXTaclms1IoFGR0dNRoUSEI0AAWplmLi4vmfqmhoSETbjwWi8ni4qJhWhEGGlHBYILGGkaWnrOGF8AlGo0axhr+QAAayWRSGo2GzM3NSbFYDAgoMGd5/9LajX4CLwYJIl2hCgQd2I80oNJJC5HQt6yt0toG276PvUNrOcLOPQYvTB/axaCSE/YmnT/MrI2FKtjbUqmUDA0NSSqVkkqlYsrDdygT30PzGJZ6vRtEcNkr9eJRepWrhWi2c+d4aeG0devW+iMPP/Lo9PT0i8JjTkxMNE+Bm1NJp5MK4NiYq+eT+i1wGyg6nvz4xibJ0mXo9vTKM2iySW/60WPLi/+zCRgYDVt7NHOAAwgScxEJMMHaBEH3A7QJOuKQrpc37jApGfKCPkRhYkd5fTDwhZK6f1gKiUMS4IbBlx4HDRoQUQl9BQaF+5gPXLSfGQ5dro3Z4Hw20BI2JzSDpL/hfuX33AfsAO37vpTLZdNumOUxeA6jwQZ4ODHDhPmKu4IAGNkkxXVdqWR8kaUpaT6RlFYzJsWMI45nDxfrNCrSqtfFq9elUa8FGET92/Pq4jQbUlloybqJMfE6kGOp4sncM9PUX454HvcpDMlEoomU+IHoa47MH1li2NPu524Wox3qQJ12PZ26CmMFGY61pNWoi++4K+YitDhdbY5injyRTNOR9IZnBBoc3/clMjcm5Vq+A4aCwQGGhoaMNgEaNIAKNmvkcN6swclkMsasFRJ1zAVoVeAr02q1zKWZhUJBCoWCASOxWEwWFhakUqkYzTPWFKT3yWTSfM+CC/zgQmBoKEF3LpeTXC5nLqgtl8sGeOl5jPWihVY893lcwsyVOYoi3+9j89nTeXm9Ih/AUa1WC9TNQietjdLzX5tUhQkgmAZbn/DZIBL0y+LEtPRKEGbA3yqbzcr8/PwK7Tbv5yyo473neM7yQdKJfK/POQ1kmcbnA2bC0tatW+unQMdg6frrr5/8xCc+sdr27txzz13+3ve+t//FpulkSCcNwAmTRodJpjifZoj0xhDGJOl6+wEe2/swqRl/p5k5ft+v/n519aI3jK6wPGz/3KtuMOwcsQimR4hUxky51sTY6uTQvnjOmgFbm8M2eg2aIBlmPxI2t2KAw2NlA1m2uvm9nrdMC/wAtA+PYSDJ34aZC8dxjFO0lrTqMdL+LFo6C5NBfVCCRpZw6vHmaHJaG2TrC5gXVSoVSafTK6KqaTDIABV12MrG/znYRCwWC2jowLyyf8ByypOinxc/6ov4QR8DBrJgBBkkoU+ZPs1cJCuzpqxCOielwohU54+J47Qv3uwCCQAMV6LRmDxTdKRR7kYedTptR5Q1B+uRAJIbidBlo46J3pbI5WQ03pRWsyFCd9p01xX+7oCrRqce3xff7wR/8EWGN+wjatqaHV/aGqZ2G7vtBtgQCa7VTCZj5i36GZoQOM5D0s5rX481myyJiKRSKXPXViqVMuAa2kOYbwHQwITWcRwDrhCVDGuC78QBCGIBDQBZPp83/mMwc9XzEuvCBuQ1uAn7sQk4WLCh145ee5jLev0DLFYqlUDIfN77kVcHQ+A2aJBjS7wvY/yxv9kAHb7n+Yo5xXXYhCOgA+MH365nn302EIwB+QFq+Xk/LYmNH2Gajwdk2PgU3RZbHj3OTPuvE+ycSr3TddddN3PppZfO295lMpnji9F8Kpl00gAc3jw048+Mnohd+6E3DH1QhJWl3/Wij+vu9U0/UBIG3HptdnoD1Uy0rp/7KMxml/+vD0IchjbbZMdxjLbF931jTz86OirxeDxwIWNYHzHjxaFhNXNrK4dNtvS48PyBrwAkw9weJNSPtnBZ2gQLTDv7qrCpGucBs87jgT7ji/Zw2IMxZGZQt53NUfgdpKVhB68ea90mkeCFe+hfLh9MGxgtgDHWuKEMBnEAmfjRUfAYZOhxtDFXPEbaJ0AzaHx/CANCjA3GjqXhzChzZC1mdvVexT/wz2hUS3LWaEL+bzEq0kI0LbRVBM79h4+155PrQAMDNY0vju+ITy6xjusbszShsQS4caJRmco0pdXyBaZokYgrHEiAfXDcpiNj67rmzxw6GxoemxZXpOuwjvmQSCQCknEbo8oCB4AUDkShwaVmsOHnBW1gPB4PhKc+duyYzM3NGY0KfL6y2awJAw9TRtwvw2HIOagJC3ow1s1mU8rlsimbfYzQVswBmwltu49XhkDmNYj/8xoPE3iZeWFhfFm4xnt7s9k0WidEZkNerGnuex1cRterE+rFfsaBBWzmZ9gvbAl9yGeKFoLYhA6u60omk5Hh4WETOROBK7g+rFV9jmp/n17JBlL0WOjnYUBK/30834SB41PpxUkTExOtiYmJgS/8PJUGSycFwAmTSvRLYYucGQ7bpjJofb02J5vkpFcZNoDCNOt29Mqr26mZQ51XgwXOw0wb3mkJHtcDBoMZe2hvCoWCiMiKKEFcDxhhMMxgWrRZGmtYNH3cJzaAAzohiU2lUiui6LBTPTu9cshr3W78nw8QHQqWwQn3JYdfBQOmtRkIXc2aEW47j7+2UWdGhhmBMKCkaYZJEIMo5GXmnp8jXC/6B74VyWTSAIvh4WFZtWqV8bPI5XImepONkWTGjAGmBhI8NmCO0Yc8bwHKNGDj8ecxQn6YOGk/B9Ywct+jfAaWXqslL9uQlIefrorvY26KRONJefJIew64jtMOANBptwnzLI54ynBNhEGQmPwibXCzfiTaWTNtDc1Kn5t2uSIisbojo+ufEN/vluc4bQ1Nd57w3sg+ae3+wKWVCJEOkIP9gaMZinQBB5uDYeyYOUOfAmyKSEAIgbpnZ2fNWAOsILpaPB6XoaEhM99ExISuxpgyeIMzOvY1TryeAM7hUwb/MtCg5yZrZNEXLNBo92fLaBl4f9H7Nu9B7fFZeVUAC0iYHtRTq9VkcXFR5ufnxXXdFXd2eZ5nAiwgAh2vMy0EsZ2fPIZYg2iHbT9DObZ9CX2uo3KGaXrRz9Fo1Jg+Li0tregrzBto93iceK8A3XxOh/ES+L8+m21A9XiSLstWDtdxCticSidLOikAjt5AekkowqQbXJZIkDE8ngVvAwy8wdg2mTB1vS2/ritMmmNj3MPaHQbkdJm2shgMoB2QfvMt4Ppb2KfDHGB0dNQ4GmsatKQdBz/fd8EHp41+2/jb+kRL8gBcmFkFHRy1DY7/fKBrxoFNx5BsoBF14xAVEWk0GrK8vGyYCpudOX5ze3HAc1laEslmaZqpAPOowY5mKvWhzn2s7f257WgrEqTrMOMpFAoyOTkphUJBstmsCSLBEekw95jRYhCHvmW/DB3VT48T8sDJmCW4PE6QDGvQC+aQGUb+jbHQppp63rSZrZaI+LIsaVlcrIjvd8bf72hkHJGI77CLTXtcu9hCvM5L13HE8zvApgNYkrmcTGU88X1PnI52aOUcck1h6YZIdvLJFWBGRO8daswB3DrzDACX5xLGF+uaQTEHhWCtHV8uCc1ZsVgMhHIGaIGm5ujRo1IqlQJjBBA+NDQkmUxGMpmMuK4r1Wr1/2fvzaMsraqz8f3eeaxbt6q6q3qkoelB6G5pIPKLLD5FYalIRAMGJC5syHIxBGIU1rIJUVkdiRgUI1kO7QIXCUaMuhyIYWHiH0ZjHNGPQcVuEGhoumvomu48vr8/qp5Tz911zntvNYhWf31YTd173/OeYZ9z9tnP3vvsI7OzszI9Pb1o3vB+oc/i+P7CBZ28PpE/m82a0M1s8dD8SvMPnrPsEmrjZzyP9N4A3gBlgU56TWONlUolKRQKxqqF1Gg0pFKpmHUDKxcrS7isoDajPWyx1WtP0wd9xVzg/NxGbVXk9c//+vr6pL+/X8bHxztcJcPhsLHasbJNB4qw9cfWJh4n17u2vV+/a/udn3EdQSmorOPpeFpO6ZgAOJyCBHTXgg3SaGiGpAXkXjQeLi2Nq0zX+xq09NIX/U63MjQD7KVvejNhDZzW6GMzAN3i8bjkcjnp7+83AorLR5o1ZoimpIVDfX8E9yOoXzamDs0fa+e4P6ifAZYunwVqvfnpTZvbaXMn4w1Va2N1X7QgAA0m5+f+YAz5O7dJu5q4+ou22/rG9dqUBwAhCMPdbDbN2QwONqABLUcx4r7oNvFf3R70l4G6BlK2PrA7Co+HvpCR5yorTzSdtFuT7/sy1Zo7l1YuVaXdqHfSH1YVTwQQx4MlxZ93VvNEGA7DarNmVb8kQm0JiTfvlrb4bqSOusSTTKspiYEx8aILZ4cX6NlpHVr0XfEW8AKtwGBgwxp45GP3Ut/3zcF3WGFKpZLMzs4adzCAAwCVQ4cOGesNrEIIXhCLxUzYaLgolstlKRaLBsza5jUrIhjoMH0Y5DSbTSkUCosiMCIKGyfNN9gqjjnNoNm2t7CiATSBNV27lSGxZWJhCD1zESvuD2KFDCyvsGC6eDmXB36BvvBcsPUnSNi3uYdhvLTV2vY+W/6hYMEdZ5iTuBeH6YQx0EqWoP3WtVfbaORKLjmil3Jt5RwHNcfTsZSOKYDTbYH3or2wvas1IEt9J6hNR5Nswnm38oJooIVhzexcmwoLIFpQYUFSC0vsmoB7ZrLZrNnsRDpdCJBQB7sF2DZGlxAe1Hfbbxq0sZDMrkY2UMVlcPtsAh589/WhdE0/CDRcHwssLCzgN66Ly+A+uAA26tX9DgIvWuurXcVsQAPzCII/NPsi0nHhI/qhAbWe2ywwMUjkvusEwUVbcLS1AH3SgqKNDtqCZBsXtI2f4XM4EpFiKCOlmafm64PVBS/P/W+haQtAxPPmx9TBFlatykvcb0i72RIJdZ5pmuu3Z8oDYMq02pLoH5dwqigMXjqXFIOaTmFyjhad4465r+edBjiazgwwYTngqGSIloa7c6rVqkxPT8vk5KRMTEwYaygssZlMRrLZrBFe4a6Gf3ynDfoSBHR4bdrmu+fNuYCVSiXjkhePxxe5fPG8xZzCetA8ybb22cLDc5Z5Nt7XVl7Qh9cEAGW5XDaBBpAfaxeKKqxh2/rgMddrg+tiS48NnNjczLhs7jO+A6zYeAHzuWg0KrlcTjKZjFG8Me208gLR9vRcDtqbu8kKQe+63tM8pZeydJnHgc7xdCykYwrgcArSnLieuxa3FgA1w7W9dzSMywUigjQ7R/PMVX9QcrXX8zpvn9faRt0OvAPtKSIhJRKJRe+xWwYfStcBAnRELSQNPLptCPo3Fqq04MKCu82C4wKK3BZcGIcQxbh4z0VvLkOXhb+saeTx0GBFZLFrmos2LAy4wA3KBM1ZAGOBgoU9F4DGc1hxOBy21vBrOmsBict2rQnQAcBZ04iFcE0HDVht4MvGJ3SbuC/RWFy8cESaXlieeOwFyieiEY7nibmwU0Q4xAD9Qq/5IrnBfklKQ+Zc0kLzAGm+rEUAd+5zvBGS1PCzEopV55+J8PmbhdTJA+f+mR+k3aZzafPrGXMM7yzU3RnBjWkOYRyCdKVSkZmZGSmVSsY1CmPXbDalWCzK1NSUuXcGQQEQnTCfz0sulzMubDMzMwZcs+DP4ymyMN9ZEcKCM37Xmn3kRZCCWCxmAA6i9+l1gjNqsHB2UJ3qZLcpWBWwNjRoZ9dKttLaACeDStwTlEgkOtaFyIIVS8SuANAKA66H1y32CJ4DOi8SwEc3MMWKB83zdJnhcNiEiy4UCuZ+LtDVdr5OW9Y1j3PJDi8mBe0VNvnmpZYNjqfj6Q81HXMAxwZOXMx0KdoKm/aIyw0CRba6g+qwCZBB7wXlsW0EQYK+67urP6zRgoCtgR6Xx0J1Mpk0goU2+7vqApBiC4/Nd503E62VZIDk0gyKSEe/2A0E+SDA27T8XKbW3qJeaAgRUQn++pxPayjh3qKFYiTOzwIDgz2t7dVgCPn4OcrkfmohngEUgxt854hILjpx21mY5SAL0MrrNrBAzMILW6u0oIq6YrFYh8DCAIetUqCldunjxG3XApDNksfvhEIhmZKU7Pvl8+L7IvF4TESq88YaXlcLrmYU73nhoz9/ASiMPr4nEvIkEk/JQHTBzW0ukEBnMIGFuTpXYqgVkvy6feJ5us1z7cDfTrCj3KoaEWk1IvM0n6svFo1Kw++0zLloY/sMSwJf5Alwg3wIa1woFGR2dtYECRARo2AZGBiQ/v5+iUQiMj09LdPT0x2Xb6J9WqHCa8+mLPC8ziAB3DfmIeVy2fCDVCq1aN3wWozFYiYoA89V5nNYI3CtKpVKVj4FOnB9aBtbgPS8gLCqlLEAACAASURBVCtarVYzCiemib6fi8csiE9q/gHFiA7A0W63O6JWMijSQUF4nABs8K5tLWp+kk6npa+vTyYmJgzA4X0MQBS/ufbMoL3bJYeAHnr+2/Zi1z7m2rd5b+Ck98QXk/bv3x87ftHn8fT7TMcEwLFpRvmZa9G6vuu8rnL5WdBznXphUL0yGC1s2upwCQi91KHpx/XZAAW7Tej3sFnheyaTkf7+fslkMmZjdIENbFBI2lebNZW8QaNePlBv22xcY8/CP7txsEDBmyVbMLhcLpMFkEgk0nFruud1npfRwj5AJMqxjRXTHvkrlUqHdYIFAk0bDizAZaN/6DtbMvQzABO2wIlIRyQrG6BFu+H6As07XIjwDg5Ga8GN5xrTHEIXa29ZOLWtF263i9Y8XzRQ1OOB8eRxtc1XpEQiJk8cmJ2vUMTz53mKiHieL774cxd2KgvOXHZv7rk3b/nxfAnHk7K2D2MbFpvM5RkrzjxtWiFZseY3TjAz1/65+3Ha7cW/42/h0GophCISCompFwoL7jfTQs+JhXIXXKVguUGEM7ZgiohxW6tUKmb8se6GhoZk/fr1MjAwIL7vy9jYmBw8eNBEzWKehfmglSVokwYk3AYGCfjOc6Farc6P99w5IJxtqVQqHUqcWq0ms7OziwKe6HmD+QjwgfJRDrfD9j6X4eKFzWZT6vV6xxke9InBjj4naeOzPL5a0cI0ZwUBwBnzfA1kdGI+xTwAZek9v9lsSjKZlFwuJ4lEwowH04F5NtrIZbhkExe99e88x4L2+CBZhr9zeUE0CpJfekn79++Pbd+xfVutWnvxJqoeUjwR9x979LHHX06Q86pXvWrLtm3byp///Oefe7nqXEpas2bN9quvvnr0gx/84Njvuy0iIhdffPGGmZmZ8He+852nXHleapoue4CjBW4kLYxzsjGLbuXzd80cgpiAq038HrczqKxeNUIuZukCK3jHBgSD6GjbtPX9B3rjwSYVjUalv79f+vr6jPUG/1jYs901oDdEbouu00YLFoJtdGXhU/cFmzny8eFn0IG1+lw//qH8SqVi7knhcyZ4j89wILACBAvuKwtLSNrCoa1IHHkMwhIf5u42v7U7hraoMY0Z9OAzXH8gGNTr9Q6BEDSuVCom/HUymZRMJmPuPtGbsAbWur2YnzY3FhZcuExuM5fFY2qjkxZmUL+ev7bxG5CSvPq0tfLzJ8YphoAnvjHY+OL783ObuglY4hvLzfx/nkjfQL8MROvieTg07gu/vNB2uNp4kqiHJLdm30IFFMRg4d258z6IorYwJ0V8vy0IFT33D/RbOFPTJoHUZV3meSGyAKRx5gEXT+L8A861tVotmZ6eltnZWeOSls1mTQjgtWvXSj6fl2q1KuPj43Lw4EGZmZlZZDVB+/UaYhcw3TbQFC6Weq6ILIRUhrsTXLtSqVSHaxaDp3K5vMg1Fn85aiV4C9NW94uFXt0+5p+837H1HOef0H/t+qUDwCAxsOK1xKAoFosZnsh7C7/D5fLadSUNcCKRSAffZWAExQnmSjablWKxKKVSaVGQExtYsPEGF2gMSjY+bOMhOjG/0fW49sSgupeaRkdHI7Vqzfs/7/mTcn7d0O/0osqp5yZC3/vkv6dGR0cjvQKc173udSc3Gg3v+9///n797KGHHsq86U1v2vKjH/3oV2eddVblpW/x0tJdd901+J73vGdDUJ4nnnjisS1btnT0/ac//emvs9nsH8wloZ/73OeeezFz6mjSsgc4ruTaKF3gxqZRcmk5XHW5mIStPpfGpdfUTftiE/SYeWvNkk27pJmyZpYaeGi3JN02CNDsnpZOpzusCGgfC3zYUFjja+sz33XgEmZtgoaLvhrgoA3Q6kJ7ybS1Cd7amgQBgTWreixQN/8WiUQ63LyQz7axs6DB8wH1c3QwPAOo0IIJ01gLoegjH67V4Irr10KiBnVILMwUCgU5fPiwJJNJGRgYMBcMcvtswqMulwGYzaVIJy0k6Gf6PdsaCvqN5xSPo+/7IvWKnLllUEQ8+fWz07CLCP8RAcyYAx4dK84XY9nB7wtjx/3pFBABRNLNtqSGnxcJAbjMvefrSvibAjf+vGVnoZYFcIP6bOchND/Ad56reD8ej5uIiqxF54P7oVDI3J3keXNuRytXrpSRkRFptVoyMTEhk5OTJmy0FpaxLvT6tLmR8djq+aEFW34X7/PdP1A2ALxoawYrWHR4febFOuqcdk/ltmkBn+cG6MqXNOOsE7fLFnGQQYGLX/EejPfwVytMUKfe63gtaXCgFQwAyGyBsrUJihVYjdkdmvdInje6LN0enVwygqYJ08XGY/Cejae5eJmtLa66l5ry64baKzat/oO7wPLKK6+c2LVr18annnoqunHjxgY/u+eee4ZOPfXU8h8CuBERueqqqybf+ta3zuD7RRdddPLWrVsrH/3oRw/it9WrV5tFV61WvUQi4fNvfwhpcHDwZZ8HvV23+wecWMPk0pJwvqByuqUghmIDCkF1683QxXh6EZRs9bo0cPyei1acz+Y6ozca3qy1CxTn53+4Y4APqYosHODU/eD7QjTtbPTCM7QJwpTN/YXfZaGj3W4bDSyDFQY4uAQQd22gbciDjd0m/DC99Lhwu1CWTQPLZUPggQCi69TCG7uZQUDUoCOIVvp31xrjNrOLn2vOMlDCAfIjR47IoUOHZHR0dFH4WdscZ9CGxNGO+DfuA89FjDU+I7GgqceJaetKrjXFn33fl1a9JmdsHZKT1/VLOBojQiHfnLXG9N2fAyOdAIZe80REeP4sfDdAxBPJtFqSzI1JKIb9nSO1LU58Bw4Pv+fN9aV4cINU2rH59SHz+RZH7kLSrouwEMDNEH9F5ty6UqmUpFIpSafT5m4sXoO4pwruRn19fcYNDCGlS6VSx5kP5hV67SSTSXN/DQuuPH+18MtzlNc8nnHiOapd5Zjv8gXDIovPyHHZnQB28f6l8+If+AL+sWutnutYb7y+9TpxzXkbHfh9tEXTgD+jLZq+LlrYLPAog8cLboN8WSzvScx/mf4usKvniY1Pu9qv+b9L/rGVa0u2cdFjcCymyy67bDqfzzf37t07xL/PzMyEHnzwwfyb3/zmqT/5kz85ceXKlTuSyeTOzZs3n7J3794BV3nXX3/9mh07dmzVv2/ZsuWUm266aRW+33nnnUMnnXTSqfF4/PQTTzzx1Ntvv31Ft7ZmMhl//fr1TfyLRqN+Mpls4/t73/vetW984xs3vv/97x9ZuXLljo0bN24TmXNR27Nnz0qUMzExEb788stPGBwcfGU8Hj9906ZNp95///05EZH3ve99q7du3XoK17tnz56Va9as2Y7v3/rWt7Lbt29/RTKZ3JnNZk87/fTTt+7bty/G799xxx1DIyMjO5LJ5M4LLrjgpCNHjpjN9uKLL95w3nnnbcT32dnZ0Nve9rYNqVRq54oVK3Z86EMfGu5Gi6WmY8aCYxNQgvIhr+19nc/1rtZyLEXb4dIWBaUgkBP0DrfPJkgtJXG92HSxEWmAw4mZfzgcNkIGIlRp5s11cD1BiQVTvcnZLCvdyoEwxf7uLChwuFDcUYPn3Bct0HNfbWPDz/g9LQxqYYrpZZtPNk0g2sJCFdfrApC90FKPB+rU/UXitrNbCg6T47LFarVqgCUDbFvbuW5tmbLNU1e7ggAL3gGQds1TzsftcNXfbrdEamXZtHGF1MKzcmi0IM1KSUSFaPbngY3nSceJHO7ZXJFex+fOque+JOsiyaExCadKVII3n58ioln6tjAGTCtP6q24tGK+eF7n+QQN2HX/52gwlweuRJgTyAMrTiaTMRHJAH5gOYDlhsGO7/vm/E6hUDDnK7SmnecJWzHi8bj4vm/CUeux57F28VnbPGEXXz6s7+KNLFyzSyvawH/1mtbl4Tu7auk6YrGYJBIJw7fZcmPjFUGWziAeovkoK8c0SNPKB6a/prHuM/NwtvjzXIjFYgZEw/WR6c3t1ZHrNJDVc0HvCToF/daLzMD12N5zAc6jkQ2WU4pGo3LJJZcc+dKXvjR4++23H8K433vvvfl2uy1/8Rd/MfmFL3whf/PNNx/u7+9vff3rX+//y7/8yxM3b95cPffcc8u6vF27dh351Kc+NfLLX/4yfuqpp9ZERH72s58l9u3bl9y1a9dTIiKf+cxnBm6//fbVd9xxx4Gzzjqr/OMf/zj1nve8Z0M6nW7fcMMNR15Mf374wx/2ZbPZ1oMPPrjP9rzVasl55523qVQqhe++++6nt2zZUn3kkUeS4XC4p0FuNBryjne8Y+Pll18+8aUvfem3tVrN+8EPfpDmOXPgwIH41772tYGvfe1r+2dmZsLXXHPNhiuvvHL9Aw888LStzOuuu27tj3/84+z999//5KpVq5q7d+9e86tf/Sq1bdu2RfQ92nRMAJxuAgXncQltR7ugbZq4IM3J0YKgXt+z0aIbyOmlTE1LbA4uCw6/x5uT7y9c7plKpcwGyJYWJH6Pw3t2oyk2G7hNsWbdBi5sY8XCtXaN4baFw3P3UsDfXZ8ZsmkwbZ9t5bNgwBsmb9667SyY2IAW16WTSyhgumqauwQm25kVXa+ui7XRHGoWY1Gv1020Obje6DkDoVa3BzTUAES7e9j6uhQttC7PxR9slh7XGs+1C7JuOCttCcnhw760quX5/CIisNzMgx1vDkgstAsWHaZ1p9sh9yE78qyEYh0eG/NAyBcGOQBJi9u8EHRAxJNmISfizb230M+25IaHRfxOwRcuQ8wTIOTrM37atRDuaCJiQA6HKmZ3LwTdEBFjvcE7DGbYXUz3k88Too1Yby4XIpuCo4Ny87/jTBG3SfMdJHY3g2DdOXZuV2u2TvI8QD9cYB9WMi7X5naG+vWhf70Xu/gN3gOtue8uvuNqh36H8+t5h4SxjEQiBuDEYjFzborPY6J8nme9ABAbAHI9D+pTEL/hvL0Col7rX87p6quvnti7d+/wgw8+mL3wwgsLIiL33Xff0Bve8IbpzZs31/fs2TOKvKeccsrYd77znb77779/wAZwzjzzzOqWLVsq995778Add9xxSETk3nvvHdyxY0dp27ZtNRGRj3zkI6v/7u/+7vl3vetd0yIiW7durf/yl78c/fznP7/ixQKcZDLZvv/++59NJBLWAfvmN7/Z99hjj6V/8YtfPL5jx47afJ96DsgwOTkZLhaL4be85S3TAHCnn356h499vV4PffGLX3z6xBNPbIiIfPzjHz9w6aWXbjpw4MBz69ev73CXm5mZCX35y18e+uxnP/v0RRddVBARuf/++5/esGHDjqX1PDgte4Bj00q5GIVLa2ET3PQ7/F63DUNksdaey7S1T29Ern7YBFrbhqGZv2buLuZr2zRcGjYGOcin3Xe0qxYATn9/v8RiMQMCtIbfBnR031005Hbju81y4AKD3BdssHzoV7uGVCoV47+v267boOcQCwpom9bG6vMJKA905bMA2Ki1Sx8LjZoGOLtgs1LZ6GQDLNqSwvWxRl0DB2jYuT9oN/zjGbQwPTS4QRn6MLIWOHiO4NwWtxf1BK1RtMuV9DkSLUAyvdniaHOX8TxP1sUKEl6Vkajny7MHGuI36+J589hm3qDT9ufATsgTEbqocy4ssy++35ZQqBP8LVzo6Zv86LbvL14fC5afxdYc32de4Ym0ojIxvUL8aGveGLTwbGt/TZrNxXML58zYPZQ/Q+hHmGLf9zvm+lw75g7312o1aTQaHeONd6H8wD06ANTgaXoNQNAVmbt8tt1umzN4iUTCgClcbonE4IGVHjY3R8wBABw+AM/vclCBXhQJzMuYx7B7lmsv0OWA93G79ZrSbp/cfq1E0WDK9o5W5Njy2dqu/7qsSdhfbK6S4EfpdFqy2awkk0kT1lt7L/B+p+USVzuRbG51SwEj+l0tS9jKtckbOrl+PxbSzp07qzt37izdc889gxdeeGHh8ccfjz/88MOZW2+9dV+z2ZSbb7551Te/+c386OhorNFoePV63Usmk06m//a3v/3Iv/7rvw7dcccdh9rttnz9618fuO6660ZF5tyxnnvuufhf//Vfn/De9773BLzTarW8TCbzos+mbN68uewCNyIiP//5z5PDw8N1gJulpuHh4dbFF1985E//9E83n3322bPnnnvu7BVXXDF1wgknGIY3MjJSB7gRETn33HNL7XZbHnvsscT69euLXN6vfvWreKPR8M4555wS17Fhw4ajap8rLXuAI9KbqdbGcPBuN8ZiAxPIx+9rYY9/4zbYAJlm/LoOW3moS7fT5hLl6o+t3y6mBgaOsrFJsoBuowUEAWy02WxW8vl8R6hfrenDxoJ3bUKqjYHjGW86vHmgPVyebjvKqdfrRqDCO+yPDjep2dlZqVarizYO1MVaZ6YPa4GRbC5++rN+B0I6b8ie53X4w3MZGmggsVVKjyULfDzPtL+6vusG7dBaXBbcYrGYsbhxRDn0E+Fz+/r6JJ1OmzNGtoATNsFD95HHiUFUkOuYdrPTzyHU8aFu2wF67rv+znwAiUHusDcj+Q19kmxn5ZdPT8zl82UBN8yDjrbflpCEZM4jzJO1q3ISblZNHs/jiG4iiIK2wEowdn7H987kzQMsf77eOQA1RytPxPfk4OG1Eor4i95n0nGfMXcY2ADc1Go1Y9WAQgGhnxOJRMeZFcx7Bi2YDwA8fI4Ez6CZZ16B71jLmDPVatXcAxOPxyUSiXS0We8FWD/cZz7Yzi64+h4ZphX6aOPhmo8xv8Rc1Lyb+QSXwWXzvgX+sDCWCwDQpvDSe1e3PYeBj02BYXtXf8Z46T5wPTw2ImKCJSDptY5AA+l02kTa4/Kw7rW3ACfX+kbiuafpoPfybvKOjW62fY6fBQHFYzVdccUV4zfffPP6qampA3v37h1at25d7YILLij87d/+7cjdd9+98rbbbntu586dlWw2277hhhvW1et1J+F37do1edttt639n//5n1S5XPZGR0dju3btmhSZs1iIiNx5553PslAvIhKJRF40kVOpVGC0tGQyGVhHKBTy9Vg3Go2Ovn71q1995gc/+MHot771rdzXvva1gdtvv33NAw88sO/1r399R3/+kNKyBzg2YXcpmg+8I2IX/G1AIQgQ2QRlV7m6DJfGx6b50nXxM2zY+nd+LwhkuZiw3lDA0PkQPm+GiLgDS43v+xKNRmVwcFCy2ayEQqEODauNubMAYhPURRZrDCEc2IIKaLoxXVkYhUtUpVKRWq1mfPfxHH7oCEVbLBZNm9H+Vqtl/Lehceb7IgCaOEoThBd2eeG2+r5vBHtonln41vNVj7FtTHneaBcQnhs8Bgx6XPUw0ON6IVxh7BCulV1yWIhLJBIyMjIiq1atkpGRERMmmucAEs8ZFlBBT52f++aaG5q+LOAhsf8+CzsspEH4hWANYRz014CIhUf8HqlMy44TM1KplOefdQbFmKOvJ8+MVuWklZk5sNEoGwwEQANLDn4LhebAji++tNutjnkhzsAFi/lk+fCwTNXTc/kXuXeDrot5nQ00ApBUKhVzWSfOywDshEIhqdfrJq/mCWydZEVDrVYzZ3JgQazVauJ5nplfAL8MpgEKAMIARgBwOsdhwYKIOajBAvMfPR/wLj+38WnQUQc6wbgwKOE5hbpsyhfbfgSexWHabfvjwrxyB/bhPtqsKgz2dB5e17ouV1tc7cRvfPeYnpdYs7iLKxaLSblcNs85giTapy3zNn7r2lfxl/vk4t/6uws88fcgAKbLONbTlVdeOXXLLbesv/vuuwe+8pWvDO7atWssFArJj370o8z5558/fd11102KzPH0p59+OnHyySc7I6tt3Lix8Ud/9EeFf/7nfx6oVCqhV7/61bNr1qxpioisW7euuWLFisZvf/vb+LXXXjv5cvUP6bTTTiuPjo7GHn300bjNirNixYrmxMRElPerRx55JKXznX322ZWzzz678pGPfOTwaaedtvW+++4bAMA5fPhw7Jlnnolu2LChISLy3e9+Nx0KhWT79u1VXc4pp5xSi0Qi/ve///00QnuPj4+Hn3nmmfgf//EfF16qfi97gKOZfFA+zu967vpdbxpBdfM7Wlhx1ediXrY6OWmAp9/r1i+RTouPiz78DtfHh2F5k4TwEI/HjUAgIibULw76atM82gHBQru3cWKBkhM2JRZEgzSBnPQGBJADLS1r6VqtlpTLZanX61IsFjvmA2uj4RKD8pFwSZy2jDCtWejVwjgS6mLBmfutXWF66bcN7PJfDbptWmsuC9Y4WzhbgEMWClFeKpWSgYEBGR4elpGRETN3kIfrA23ApBmsscCr1wue8zxyCRYa8DCduRy+G0WXyevNFR3PxQ9835dGrSx/tHVI/vexwx20arfbEsvlZdtQU07flBe/3ZQnC0kpTUzI3LkctIEDdsxbfdrBbr0L/efnC58nn9ko9ZYvLfHFj84FPFgAUXxuZ+Ev01DzFnbj8v0FlzPcRQJQA8EUAJnnVyQSkWQy2aFIgEAKqyGvV621Z5AssuB+pkGwTi6ejP7gOVud0GcGQcxrwEN5nfHcZOWEC+Tr9mB+uvpj48sIsMDl28AWAziUpZUfXK4tsSCuAZENICNpBYStTq4bNGJXUU7YSxCxLxqNGh6jASPysmJO95XBfLe9VtPURg/dJ34/qGz+rsehmzzVa5p6buJ3Hqn3xdSRy+XaF1544eSHP/zhtaVSKXzNNdccERE56aSTqv/xH/+R/6//+q/04OBg6x/+4R+Gjxw5Ejn55JMDy7v00ksnb7/99tWNRsO77bbbOi6r3L179wu33HLLulwu13rLW94yU61WQz/84Q9TU1NTkVtvvXXUVeZLkd785jcXzzzzzMIll1yy8aMf/ejzr3jFK6qPPvpoIhQKySWXXDJ7/vnnF26++ebIBz7wgZHLL7986oEHHuj77//+7xzc55544onYP/3TP61429veNr1+/frG448/nnj22Wfj73jHO8zZoVgs1r788ss3fPzjH39+ZmYmfOONN66/4IILJvX5G5E5uv/Zn/3ZxAc+8IG1Q0NDzVWrVjV27969plc5rde07AGOTfsRlMeWelnM3bQtQe3T2qWl1G9jyvwsSEPWK5PSTNFWp03IA7NmTSb6yecpmPFnMhnp6+vrsPzoDVZv0EGboMjiA/mcn4UHFhxszFyPLQBOtVo1ggf7n8OCUqlUjF821ysiiywSrr5yO2zJtZnrZNtQdZ+Ybnpzs9FCt8P2jAUslM3vhEIhYwGzATRoPXlsQqGQ5PN5WbFihQwNDUkul5NkMrlIcRAE6Gwbv+6jDYh0EyrYOqPXiQ0AMZ24zyz06vpZKORxbbda0m6V5PRtq+bLaovvt6XVakvYb0p1dlaKhRnxPE9OyoflYHSFHHlhfH7ui8zdUeMQZgJYBppYn1ohtVJuvl1z4KDq+dKIzLsnitfxzpzFZh78RmNyxikj0q7OLhKmTf9IWOTfbO5fItJhTcHFkwA/SNqlEYAbVlUeL1wKypZhgAte38xbUKZe3+B7tjNkLrCMvmEu8R6i5ybzDgb0+h/PM80bXSBNJ5vLsGsPtCkR+C+3F981H2IFg95DmY747mq3K3H7eK8SWcy/PM8z1ngEs8B77JrI461d/3SdtmSjYy/v2frkKlsD0qXQrNc0PDzcjCfi/vc++e+LrAC/ixRPxP3h4eGjuvfl3e9+98SXv/zlode85jUzG+atD7fddtuhZ555Jv7Wt751cyKRaL/zne8cP//886dnZ2cXm+8pXXHFFVM333zz+lAo5P/5n//5ND973/veN5FKpdqf/OQnR/bs2bM2mUy2N2/eXLnhhht+p+AG6YEHHnjq+uuvX3fVVVedWKlUwuvXr6/u2bPnoMhcwIDbb7/9wCc+8YmRT3ziE6ve+MY3Tl177bWH77vvvhUiIul0ur1v377E5ZdfvnF6ejqyYsWKxq5du8ZvuummcZS/fv362kUXXTR90UUXbZqdnY2ce+6505///OcPuNrz6U9/+vl3vetd4UsvvfTkdDrdvvbaaw8XCoWXFJN4LxVSfzmT53l9IjIj4tbyqPzm80vZ35cCOHHebuXZnnfbnGyaIFveXjY5aB3ZOtNuz11YCcFCRIwwm0wmTZSxVqslyWRSNm7cKK961aukv79fqtXqIsFBZMH6ozdTEbsri00jxa5eTAMIOjbBQmsYPW/OXSWfz8vIyEhHe1mzXCqV5NChQ/Lkk0/Kr3/9axkfHzeXeHazoITDYbNhQkjj+m0CldZyuIQMFhC0XzzapoUoXfdS5kw3K048Hu+4w4b7gTFhoTWRSMjq1atl3bp1snLlSsnn82ZO2YQ5rlf3QQNPppU+78AWFRtIRD0a4CDx/NP5dcIcZVqwYMTCKZfN9Oe5aDt/0je4Ug6U4jI7NjFPu7C13Z7nycjQAfGidcG9ONKKSG1qpRgLkIjUK1kpRxcsLQuXcC5c7olIbqhirqm+hJNpOX1t53ksDW6gNEHZsJDOzs7KzMyMOYDPFplGo2EspXg3FAoZrTv4Cegci8UknU7L1NSUPPvss3Lo0CEplUqGDqlUylh/eAxg+UHbfH/OZTSRSJh5q8M7w60L4wK3XChboOhhkG+7LJPnAVsd8By01KDb87wOPot/bJHSc1x/D4fDkkql5OSTT5bt27dLOp22ziERCQz9z/WxZUnzOyTQC/ltGl4NblhJovc/zdPwHfNMR66Dm3E0GpVqtSqHDh2SJ554Qg4cmJPbWq2W2Rc8z5N4PC6JRMLMR7hN2vYaW9v1778LAOKihU4WcJXzfX+W8zz88MNbI5HIQ5s2bSqmUqkOV6T9+/fHRkdHXxYl+vDwcBOuTsfTy5/e9773rX7wwQf7n3jiiV+9HPWVy+XE/v37M81m841nnHHGE658y96CE6S56UVb0ssC15qPXspeapt6Sl+6LAAAIABJREFUYWLdNGKczyaU4XNQXs6j62M3HBaYtbaV88NVB2Chv79fUqnUonCvHHmGLTjdxgh1aVCHzYnfdwE/fOexxedGoyGlUkkKhYLR0LZaLSNANhoNKZfLi1wT+J/eyLnNenNngThovLkM5NWCL5dn09Qy3W3jj3ZoYd3WDq7DJvhAAOC2scUG0bNQRjgcllwuJwMDA9Lf3y/ZbNaEp2XLEyeXJcw1B/g9reHW60oLVmyh47URtL5cLjAoD/XryxJZGOE5qq2WDKJQZ7PZlNkjY7K+f0B+mcxIq1IUMWGiURasMyFpVpISDbek1QyL34hJu56U6VZ2vv3ztIstWGk655UnoRBAZkiEIq15nogXjko6m5Zms7hoLFBOvV5fxGM9b8E1KpVKied5RniEcKndCxko4WwKFCfJZNLc51IqlToubER9rrVjU7BowM5rHeexRKQDLDGA0a5cAB485rwG0RduI7cV7/H8YKHdtY7xXUekwzscUCFov9J8zpUnSPGDPrCFBLRynVUTWXBBta152z6u69RrlNc93NSgZGHLM7v7Yb6ywkHTkvtt25f0dxv4s+0PGtAFpV7lgKNNmzZtqh8HHcfT7zMte4ATJLRqM3PQ+3qx28oOYjbd0lIYhU1AW2pihmXrW7cNSCfWVodCC2GI9ZkKXTeYfDKZlL6+PhM9TYc45ehT+nbpoA0Zv3Gd+KsP1mLz7rbRMSBpNptSqVSkUChIX1+fEcJwqSB8/1EfWyJYGLGdy2C3Fd5QXQIt94F/s7nI9LKZ8ndbfq151L7v2nqKd1nw4LGB4GYDsNDIQxDDfMnlciZymvaVtwEcFgjxm+6XFlxtFiXttsZ1cH5eFzyvGDTxePBn0CpIw2uzbvL4sJsn2gTBC+dT2u22zE5Pyua+lPyy2BbPa1loN2dtGSsMylAzIrVSv5SjONOBs0Not99BOwZnADdohzdv9fFFZHBkSE6IF6TdXgCG6CsL8Uwj9CORSHTcbQOggDFny40W0rX1KxwOS39/v6TTafE8TwqFgpRKpY5+AEzb5gmACytQ+DdtbUX7eP7hPW1hxrt6joOP2IA08wE9LppHMBhnN2Oe3xpEoB0Yh25ryrY2bXMbdWuhXIMTXkuslOEAEvgdKQg8uPZiKFl0v2Ctg2dCOp2WRCIh5XK5Y1x47G0WbN2OXpJLhgkCO0F7fBA99F7xYsDN8bS0tHv37pG77rprle3ZmWeeWfze9763/+Vu07GQlj3A0aBDC4XdNE38LpJmAvp5rwtfM6Re3+sFdLi0U/zMttEE5Xd9R34IDuzipS/BRB4O1et5C9abfD5v3NaQGIjwwVrW1nM7XO1D23ncEd1IZLGw6wIRurxWqyWFQqEj2lK5XDb++xBSYrGYoQ2XG4/HJRaLGauPBgos4DGt+U4Q9IlDu+oxw8ZqG0cICvy7TRHAZelx1a6CWihngYAPUNuEePSZ3XPQv0gkYu6dyGQyHa5Feny5P9DUI2khg8NVuwAMygIo5bq0YAihR9fB9WvXNBZitTCv1ys/15pl/qv/MUhmoa9Wq8opq2LymzERv9lQrjyeNJsNCYXCMlHJSSjiiWcsMCw84W9bms2WtNuY/20JhSLz7m8IPz0XvOD/27ZSGpWS+P6MtFp+xwW8mANsvQOd8Bd9SCaTps9QKjDNeA1gzsJSgzWYSCTMX1w03Gq1JB6Py8TEREcAA5tF1HamDnMPdbrGkC8g5TIwVzAe3H5tEdblogwGIlwnz0Uuh/+BBlymtmoC3LDbHs9p1KGtoLY5qcdXr2c9pqFQyBzsF+mMWMi8Em3oBrJsv7NFRlvUmCY4hxOLxczVAHzmBuMLV0aMK88jfNZjqvPw2Ol3Gdzb3PaYtgwag8aA24V6Qe/j6Xeb3vve946/853vnLI9S6fTgSGg/xDSnXfe+cKdd975wu+7HTote4Aj4naXceVbimaiG9jhZGNg/F0zFy3gLiVp4ZzbqjeNbiCvG3izAUUtqOlnoVDIaOWj0aik02mjNYW21VaXtt7YaKQ3Q90+3rhFFp9/YIYfVDbXUalUZHp62mxstVqtw53G8xbCYnP72+25M0q8wcdiMQmHw1KtVhcJdfzZdt+EBkJ6PHQoWtvYaDBosx7wHGIAxnTlZNsYbQDO8xbOA+h7I+BChHNP6XTagEY9R21uNKC37gvyQJDj97iNNiGS15kuG311PddCMOezuVTZaIfPbAFgQU8LctwPm4Ww3W7LjnUJCUfCcriVlcMHRufH1DdlhsOheWsNznf4IoK+LYzlHDCZa9fcWHoL+UMh+eNTBufcOSulRQBGC+esKNCWXOSDggHnG2KxmNRqNWPlQf9RBgTSZDJphNJUKmU08OFwWJLJpKxYscJEXJuenjZuqeBRWFuw2rLbEYNYm6LABlB5LPAMfUD7bTyQBXsGNdpCpeeyBth6H8Sa5nK0xQlnBRFBzZZY6HbxVxuI5786oW4eB9CfLcGapvpcm+6/3o+5r0F7PIAeooDqdQqAwy6Eet7r9uB32z6r39H7lObxmu/3IgPwe5xs/O54+t2k4eHh1vDw8HEk+RKnZQ1wghiRXtiaGekU9ExrOPTvNmZuA12u70tNrrb28rsN5Nna6+qvFnhtAiUEEw4ukMlkJJfLSTwe79j49buuNtpSkLCtBVfWtNv63W0jaLVa5mJBHHxlcAWAA21xqVQyG54N2OoNWfdZv8s012Oh+8L0gVDgorcLXLvGBm120dy1JllQ4QShjvsVjUbNnRPaNc02jiILZwwYMDFdPM/rELLxTx/odwmHbL3h31y00J9tVhsee7RFX16KMnTb0WfuIxJrXnVkr1AoJLVaVcLNsKxORSRx0rA8tf8FmXMr8wRnZxbowed6WLCeuy9n7tlcdLZNW9bKcHJ+jrfb0qyVpTVvndGRykATFgpZQMZzdpdCm9LpdMcYRCIRcxaHLaSRSERSqZT09fVJKpUyF8bCEsF328DlNhqNSrFYNIfHAawSiYRUq1WZnZ01rqkaWHB/+JkNMDDvwsW1GpC6AKH+rseXhX4NOvQz3/cXnUHC3GGa67D/WoDmMV2YO4vBg57XPM7spmwrG/TSwJP7xGtPr10NEHVbND+1rWMAPQAcXRaAPwNu0N3GU210dNGWf3spZQDXHuD6/Xg6npZLWtYA56VKQUwhaJG7tDKcXICil/q7lXk0qVfGqIGaTfCz3cugXcs8b849DbdAwz3NxVBtArJNE9aN+QZtBEEbh63/EAYY1NiSPoTLG7hNaLaBDiTbhsSftTBu0+TbPrvox3O5lznPbXCV5wKZmoZaAIMVJ5lMSjwet0bT06CQQQPTRLubAJxiLBEoggWzSCRiLnZl4VqDDwhNSKjbNke01Qbt4UPoyIe/Wuuvy3UJLSw8w6LH8wPPqpWS5JO+bNm8av4dbw7FUAp5fBZOpAWQwv3zPInHYjIUa0q73jDt18K4zY0KdHHNFRExY89n2BjApFIpA3A4uhoifzHAQZSrZDLZMR+11bVQKBhggvakUikjvOLOHdtFlN3Ghf+JLAQf0PSy0VHvObp8HUGM1yeHq7YFYGEwrJ+FQqGOc0ncVxs/DRLc9XPUq12I8dwG4JkuGuTohLmg22NrP9POZgWCu1w0GnXyb22ZY0WI3ld0vbbUK/h5KZNrXI+n42k5pWUNcHpZhEGaC/69V5BxtBoUfn40mhlXP20C60vFnGyaHg1w2MoAcMNR1mDSz2QyHXeY2DYt3vRtPuNoi63PQUASAoNtA9V58dmWR2uhdZ0QzjXAQV7WHgb5NbvACergZ/zPZs1yuRmgjyxw4velzh8bMGUhjbXKOFfEGm3OE4lEjAABkKE1zLZ5znVrkIPf6vW6lEolKZfLUqlUjMsRNPJwLYErU19fn/T19Uk4vHAZJ6yTADcsqDOIYEGcBXot3PCZAf7Lc4QtNUxzTX8ePxZE+eA0nwkQEalXK5IM1Uy7NPiwzVW9zsPhsMTDcWk2FtxLQXvuF1tY2CWNhXO0jetggIMxAl+p1+tSq9XMeTiAV7Q5kUhINptddA4HAqoGf81mU4rFoqkP0doQQQvzEa6qADo875lOfE6CgRu7NmJ+6jnEc8aWtHJBKzw4n7YQYT1pC7OrfPTZZWHU79ie6fXKbdZKIF0Wrxf+zvRzgRi9p+g1yGXbXA11m/hOJa3g4/XDeyKDeE0XlMNlaHp1Sy7Ay+0Oqp9/03+Pp+NpuaZlDXB0CmIINsGNmREnXUYQ0+6VAQUxGy5TCxq2Orkc24bg0prxby5B3/YeGDUDEJtGGkIKBHxsKJlMRjKZjLk3hyMhIUG4ZQGJ26LHTtNLt9cGeLTLgksbZhP48dlmKcEGDe0eAxzdZhsQ1S4WrrbZ5i/3UQs2Oh9/5r/60K6ed7b1oTdk7QrFiS1W7EomIh1zCoAG/7iNtr66vjOd8LxWq8nk5KRMTk7K1NSUTE9Py+zsrFQqFanVauYyVwh/qVRKRkZG5MQTT5ShoSHJZDIdtNFCN/rIwTVstGfgx21kEMMgJxQKLQKDDGb1OtaCM37jua+1z9wvBiQMQGBpcmnZOfEcbjabBoQATFarVePuibzRaFSSyaS0220TqQtCOYNjkQXXO0RW8/2FKHxQusBKDLcqzCk+J2cLDJDNZo11h63UrVbLACMGWKFQqOPuFHarY1ChE4NHBjKsiNG8Ro83/morj06wvoiIoQvc8XDWiIGDLosBDoMIBiUaJPD7bKHVfXHtRXpu2qJP6v7qOa/Ls+27Nv6H9cVKCk6gBfrKPNxGN26/tlZy2/RnHl/dZt1fnYLoqZPmmfrv8SADx9NyTcsa4Ni0HS4mZksuoKIFUJ3XVYatfbY8R/NOUL3dNgnX+5qp2ZicyAL4gHCAzY03Zp3wPJlMSj6fN+dvWLhjYYk1y1qI0nXYBF8bTbqNmWvTs9GOw6a6zoFAMIZ/P4ePZgDD9Lb5nLOAbNPsaYDGwqlOehw1sEH7bO9praoWIHj8dT1MR9QFIMTnbjC3QNtGo2FABwsDDIS4bP4MDbiIdIAO3/dlZmZGnn76aXnmmWdkYmJCisVix8WtukzP8+SFF16QAwcOyObNm+XEE0+U4eFhyWQy0m7PBZ2AwI1gE57ndRwwBkBh2ugxYjCB5xoQ2tYkaAra8Ri4rHagC8CjDmLBASpYIy6ycMCdrbO6fxqcAcwg4mCtVpNisWjCMsNqJrLg3pnP581dWXxeBmc/ND3xPRaLLToTwxY5WIIAbphWXC4sd4jahf4gXDxf6Iiy9biBTgiKAGDHIEZHY+M+8dkpPVc0/UUWwtNrVy2OHolyec1DQGfwyuXy2gP/x3zT85H3INucsPFLvefoZ9w+zQe5Hbo9ulw8t7mcYQ4z7XTwE3Z1xXO4zmp3NMwPPRc0YHLtabptmrYuutt+d33WfMSVuskg3dLxiz6Pp993WtYAR8QOHmwakqWWw+/rz5zfJSAH1bsUDYytP67PmmHaGJ4GgSzkuzQ5+MwuJLyR6Xqx2bdaLRM9DSFZ+RwLbwz6kKvuR6+bAfcJSftAuzRV/L5NEx4OL1w6py1NnueZaHHw+a/VaqZ+24bLLiP6mW3zd40zCyLaNUW/080VwvWcaQlBXguJnB9Cl0hnAAAWlJCXNYQ43D09PS2Dg4PGtcgGZjA+ENxarZYRqgHG4RI3OTlpAE6hUOi4TNE1Bo1GQ0ZHRzsEH1gE4J6kQT40+hq4ssCGxMItuzLx3GPBS9MJZXCZWjmgBW+eVyzswbLDgIrbwEm75fAYop1wFYPlplKpSLFYlNnZWZmampJSqSS1Wq1D2I9EIjI+Pi65XM6crUmlUpLJZGRoaEhyuZxpg16zEPB5/GCpAthwgTMW+hOJhKTTaUmlUh2WWKY3ytD3sICO0PB7nmeAHYfFZz6r5xwDAl7b+I5/WqsOAFir1Tp4NeaoPj+ozzPhr7bkgn6Y9zZlCPcFZWpXPC7T9r5t79K/cz3YZ3Q+l2BvW3v8TCt/bPskEuYTt4FdKjFfMMfwOyxlLsCnE/Iw0OK2cDu7laPnkm2/d9V/NGn//v2x7Tu2b6tVa0dfyBJSPBH3H3v0sceXM8hZs2bN9quvvnr0gx/84Fi3vHfdddfgLbfcsq5QKPzfl6NtyzUte4CDpBf9Ut6zCbha+F0qiHGBEs20g9rB7/ei4bHVEcS8liJA8+Zi05yxSwkLwBAY4CJhC9MLbTHq0H7oLnCpNzydbCCFy3DRzLbhcpnIwwIi8sTjcSMgzczMOIGzi9YshLIArMeJf2PtoLascH5b/7Qwq9vHQhG317UueBNm+sKdh4VMJLaOQfNeLpdlenq6wy3IpomGdhyCdKFQkFarZe5bQvS7sbExGRsbk3K5vOhyTJegKTIHcuDOBqGcgZstkpleL1pg0/MNQrMLnNqEOZeVhl3ltMaax5QVFUHCnBYS8Q4EOBb8+SwKwCa7jiEIQLPZlGq1KtVqtSMogIhIoVCQqakpE7kMZ2hWrlwp69evl2w2aywy2lLAcwg0wNzR+Rkg6/7BipNIJIzVRo8XAAPOY6B/oCNc8+Ayp9vJYJZpza5r4KXasqLbjrmDyF6oDwCNgyGgHAAuzEfQCWPHig7QEdYq11rBWTWeV2iPPruj+YaNx+t/nA/t4vXElhbQSSfmmWwld1mxtZVbux+inzyW6DMrgWxjrf/a9vqgvchFy16e6zXPv9v4wFLT6OhopFatef/nPX9Szq8b+p3Gm556biL0vU/+e2p0dDTSK8B53eted3Kj0fC+//3vL7pA86GHHsq86U1v2vKjH/3oV2eddVblaNv1m9/8JrZ169btP/jBD3716le/ums5P/3pT3+dzWZ/L7G5lwKullM6ZgDO0WobgkCFyNEvchcjcmmxXEJ8EGBbCrPTfXIxOOS1MV581wIWNhswfeRBuN9kMtnhcmET7tg9xuWKpNvLgoJuey/j1o2RuzbVIJcLCGbQALOlwAYcuc8u4GPrq0sI5fJtzzVwdM0Bm3Bho40uU78vshCGV48rEp9DwLtwAysWix0ubaAphEcEDIAwXa1WDZgSESNMl0olc4mjbVxdfeO5DuFJH8zmdjPQ1InnjW0ceE5o4Z3LQzksfGnFAbtAMZ21AKjPe+j1jraw4KpppQVQBhrsfsfgAgIgAA/KgAWOrX3T09MGuK5evVry+by59FNr3hkE20Cmrc0M3EKhkCQSCcnlcpLJZKRcLnfQj+tEP5jnoC98HshGN73uQTP+jLrY0uTiC9wWG3hzrU22OLGLFednoKjfx3etcNHJBWjYuq3nWC98XPPQIHBj4522NtneQcIYwdVRrxfOB4sNj6GLDuhrED92Jc3PeumXbR71Wt5SUn7dUHvFptV/cId4rrzyyoldu3ZtfOqpp6IbN25s8LN77rln6NRTTy2/GHCzlFStVr1EIuGvXr262T338bSUZJc4jsGkN+0g4KDzv5g6g5hOL+3oJmh2Sy5NmK0d+ndXedBcs/8xC7HYcAFwcKke+7SjLHzXloKl0n8p77o2e/2+a2yCxgxuLnzPhutd1vzpswWc11WXpqetD7qfrr7zcxaQtPDK9bqECA04NWjldmMeaa2xyJz1pFwuS6FQMBYUnOk4cuSIvPDCC/LCCy/I6OioHDlyRAqFggFBmIcAPbAWuNqtx5y/czQ33X5NU6YNC/pB6xdCDc8DLZCz9Yv/2pQPLCDrOvl33VYuR5fHgjcDEj1+/JeFaHbV0eGK8Q+AB0EfyuWyFItFmZ6elrGxMXnhhRdkfHzc3EVjo6sGiyLitPbod5BisZj09/fLwMCAZDKZDndHbYFkIMMWSLiyAkTaXBbRNm0J0MEcNI/Q7cU4MHjnseDf2CrMlhm+TNcGcDlymJ4jNpq6AJZNieN6l0GPaz5yGzXvQcJv2oJne8elhOH2Ih/vdUw3BpwYgyA+7gKiLrrZaNZtz+ulfhe4OhbTZZddNp3P55t79+4d4t9nZmZCDz74YP6KK66Y+Pa3v50544wztiQSidNHRkZ27Nq1a93s7KyZIGvWrNm+e/fukbe//e0b0un0zlWrVm3/2Mc+ZsrbunXrdhGRs88++xTP88541atetUVE5OKLL95w3nnnbXz/+98/snLlyh0bN27chvL27NmzEu9PTEyEL7/88hMGBwdfGY/HT9+0adOp999//4Kfrkpf+MIX+k855ZRXxOPx09euXbv9xhtvXMWusf8vpmPGgiMSLJTjuU2YDdKYvJhFvxRNke13m3BpY2q9aH1sZWuG6WqPFuCYcYssHHJl1x0AHNxGDw2ky7VGa2JdbYE22Sacc172dQ7aNILqs80B7Q7GdMGmBytONBqVarW6qE6XMM3tc216vLm7tH5BtOK6+DyBzuMCAa6ykLSwoAUIjIlN0NbvworDPuipVEpKpZI888wzMj093XFIPZlMSn9/vykf8xTBBFwCAmvweTwAlvjSUfzOQrxtnrAgKSIdAQHYHUa7UfKaswmaelz0WDOdbfk08GFLAdOFAQ2Xz+PF4xm0llhARiQztuhxmby2GIBFIhGZnZ2V6elpyWazkkqljBadk21u2tYXW6+QB+9GIhHp6+uTlStXmvXL0dm0gofbz+AKdGQBG2DVBQYY1GiAw23U8xlAi9cKg1A9thgT/PV93wAzDV5gSbO5OyIf1hzPGRFZBAg5acDJdGOaMVhG+dwPphXGSa+HoDbYZAKuS69R1Md7jG0vxTxBG3Ee0BWVLEh+6UVmQF9se5ceU1sZ3UDSsZSi0ahccsklR770pS8N3n777YcwP+699958u92Wc845p/j6179+6+7duw/ee++9zxw+fDjynve8Z/1VV121/qtf/eozKOezn/3syO7duw9+6EMfOvTFL34x//73v/+E888/v/DKV76y9t3vfvfXr33ta1/xjW98Y9/OnTsr8XjcEP+HP/xhXzabbT344IP7bO1rtVpy3nnnbSqVSuG777776S1btlQfeeSRZDgctgqVDz30UObaa6/d8Pd///fPvf71ry/85je/SVx//fUniIh8/OMfP/RS0m45pWUNcLQ2yMWo8Nz22cWcNGPoNQUxIy4/SKPl6oOuI8hVSud3CWEuAZvrYVrozR2MnsPjgoHDlx0Ap5tQ6aIJC8Qu5s0boxbieUNB2b1YPmxzy7b5aWEvFouZyE+4MHApoJaFUS08agEC+Vy0sdWB31iIsGl3uVxNMxbCdLkQ4PkMgdbEIjHo1eNRr9clEolIuVw249hoNGRqakqee+45KRQKHcJzpVIxGnEEJuBIUhC2bMIlCzFoczQalVwuJyMjI5LP5yWRSHSMC9OGy2Lacj2NRsOMi6ad5y2Eq9Vjzu4wHDUN/eHLKBl8sEsaC4OgObv+6bHhNWOzSHHfmU/wWPu+b0Ch7/uSSCRMNDJEymNLBwvifH6IBUq0zeWCpsGL1rIjuQRg/BaLxWRwcNBEYisUCossTGzJwpzQblC63dxOzGcXKOTPHJaYrUU8btx3bgM/1zQTkY6zQhr4ep63yHKlLRY8t2wJc5td3PgZymEQzc/0HoX64TaneRm7BnJ+TkHhu3X/WJGHeliZx+XxvsbzjnkPWx858fho+nWTWWxAbSn7G9dvq+NYTFdfffXE3r17hx988MHshRdeWBARue+++4be8IY3TP/jP/7jyre+9a2TOJOyffv22ic+8YnnLrjggi3lcvnZVCrli4i89rWvndm9e/e4iMiHP/zhw3v37h3+9re/3ffKV75yfGRkpCkismLFiub69es73M+SyWT7/vvvfzaRSFgFzG9+85t9jz32WPoXv/jF4zt27KiJiJxyyinO80V79uxZff311x++4YYbjiDvoUOHDt56661rjwOcZZ5sgpwGJy6Bz8Y8kGzCkM7HzNMFqLqBEBdjc6VuGpcgRsX1aIDAzJnr4jsQtPWG87XbbaPhDIVCJgoSHyLXmzC3S2Sxpo03P87nAp6oQwuQ3G+9ITCtbMKbbg+3SQt1nueZQAM4e6Q1kNwfFnq0kMhCtw3U2YRrXQ+3XwvxqN8m+LDQ7xofFmyQF9GF9JigDFuZnud1aJ9DoVBHmGicr4G7WbFY7BDyMO/K5bI5n1Or1Yx7ZCKRMOc2SqVSTzQNhUKSzWZlzZo1sm7dOsnlcosCHvC5Mgi/ELgQcYqjKiGPtpq02+2OMtmdSR9URnvZXU7PEwaYSDYBCe1CPRx6V48xH6LnMcea4bEDqAmHwx0CvO/7ks1mTbl8+B/BHzCW7LbF1h+MJ+YZQB/KR7m28QS9OB8HSUCbwb/S6bQMDg5KOByWyclJmZ6eNnMINEObNS9FHWg3hFpWWjBvYFpiPvAYIbw3It3xHGFhOWj98/oGnfG+VnAgQYEAgGXbQ/k701Hnce3Teq5pPoR2oGzcQYS9hd8vl8uLxht/NV/l52gzt4OTVjww3fCclSjg69gv+f4kHZpe09D2m/5r2wNs4EXTWYOaoLpt+Y6ltHPnzurOnTtL99xzz+CFF15YePzxx+MPP/xw5tZbb923e/futfv27Ut+4xvfGEB+yC5PPPFE/PTTT6+KiGzfvt0c0guFQjI0NNQYGxvrKldv3ry57AI3IiI///nPk8PDw3WAm27p17/+dfLnP/955pOf/OQq/NZut71areYVCoXQ7yt4we87LWuAoxlhr9oHF2gJyud6poVMF/joVZuiny+lfVy3jZHZ6NKN4YHZY3PVgI43JdYuxmIxSafT5sA3j48NrOhNpRtotQnK3fquy9H00PNIzxO96WnBDt8RVhXncGwWFt1/G20YFOJzEKjhfmqacjmcR4NafsYXstrmDru52MaO5wpbHph+7XbbbP4IRQsBGcCHy0XQAAgL5XK5AyQiNDf6Gw6HTZjh4eFhE3Cg0WhYrTY4Q9XX1yerV6+WE+fvv8EFkBCsPc8zoIvdqqAWpOlNAAAgAElEQVTtxvkGjmQFWmkQzfRDpCq0C+/w3EG/tECvhWWmHQNnlMPAm8vTVknuH/qmLzDkA9XcZgjx0WhU4vG4tFotw0vi8bgkk0mZmZmRqakpabfbUi6XO+YkygS4gdKEwaZeEzzveN6jTAamOly5XhOYCwB5CICg57kNNDI4q9frpm7Oi+9oB0c8w3igzHq9btrBz2w8TK8/jB/PLR5jbbUAHQAmsC5t4ESDG1fSfJnpjHmmeTC3C2ehoLjg+7OYtnoOcGIQg79sOUTSFhaeY1rBx3SIRqMdbn5MXw7EYwsYYaORHmfXnqbbr9vFdLXxcl2fBsPHarriiivGb7755vVTU1MH9u7dO7Ru3braBRdcUPirv/qr0OWXXz5+0003LYoqdvLJJxtLSjQa7SD6PL26aqpTqVQgUZPJ5JKQZaVSCd90000HL7vssuml1nUsp2UNcLSw6BLWkWwbgq0snR+fdT4XWLCVZ3vmagvnw0ZjY3C91K0FI9t7tr4xo+NDwTaNG57xRhmJRCSdTnecW9BMn9utGaumgw0M8l8tPOu+i3ReuKlppttkozVvzEFMHwIZ7v7RGmVXuXpj1t91f1GX7ruNliwIcFl602MBwdZWrRnltvFmyNY6CNssWOr3otGooZems76zplKpdAQOYLqGQp03y+O9wcFB2bRpk4iIHDp0aNFBdYxZJpOR/v5+GR4eltWrV8vIyIhkMhlJpVISj8eNgIJ+4Z4TkYUD41qQhADLc4HXAwusPJcBGlgo02OlATAAtR5fBqAYC9ZKMyBh2jOIwl+UxRYMnquw4qDP+tLWaDRqLtPEvVFQhkxNTUmlUjHKAj7PxgEK+MwfC9jcZrSJAYdrPoss3KWDPgGkJhIJaTQaEovFpFgsdgAQjDtozNYQz/MMYOXzGGg7BHoGuBgvpiePM/MeG8/TYK7bc5dSiUEDA/Ve+DWXZfvd9o4um8E2vAcwFrjzx3aAX9NEW5z5L+exARb9PpevrWa8zsEf8DtcEbF22OLtGqtuYEa3x5bHNTZBZQbJMMdiuvLKK6duueWW9XfffffAV77ylcFdu3aNhUIh2bZtW3nfvn3Jbdu29WRBsSWcuWm1Wkv29TvttNPKo6OjsUcffTTeixXnlFNOKe/bty/xYtp7LKZlDXBcKUg7wX+7ASKX0NjtnSCmouvtJb+L8WnA1k3AdwEkFz1Y0BSxR+2CwAHBAMIEBHy+LA/v29zQbC4Aml78OQio2Pq2lGTbCHsdKxHpEMzgpsNt1uOggZ8NPOBvEC305q5/d7Wf28Pjy/VpMKuFI9aC2jZaCHacD64cDIpQFoQ/1nijbris2WgDYbNSqcjs7Ky0Wi3jrtbf3y8nnXSSpNNpOXLkiBSLRQNyotGoZLNZEz1rcHBQ8vm8sdxAY6zBPlziULd2C9MAlbXOcFnDQfZEIrHIZYrXhRZm9HxgAAkBEHTkcWDBGeXrNcll8l+0jaOHMb/gw+4Y31qtZiLgMWBKJBLG0pvJZKSvr08mJyelUCiY8zkiYqw9aCPq4MsWXcKgdiPiPDZ+2G63TahqFlrj8bjEYjEzbuxmhHJ4/BnkMQjkZ8wLmbfagAvy8DP9V/ff9RwJa1KvJf4cCoVM33l+9SJ867r4XRuPwDOsD+whcPVlIMjeAhywQgepCGqfjRdze/GubUw0EGWLMfgcA3/MGbZudks2GrnGMghk6nG10T8IJL2YNPXcxO88Uu+LqSOXy7UvvPDCyQ9/+MNrS6VS+JprrjkiInLLLbccfu1rX7v1iiuuWH/NNdeMZ7PZ9iOPPJL8z//8z75/+Zd/OdBL2WvWrGkkEon2t771rb4NGzbUU6mUPzg42FPI7De/+c3FM888s3DJJZds/OhHP/r8K17xiuqjjz6aCIVCcskll8zq/LfccssLl1566ck33nhj/R3veMdUKBSSn/3sZ8nHH388edddd73QS50HDx6M/e///m+Sf9u0aVN9xYoVf3BhvntNyxrg8CbVi6bCps3SQmIQgNH5bc/5bzcwpIUWV7m6/BebmFFqgYmZvhZwORwqBFQwbNxnAf9wuJ+wQKcFee2KslRmCuFGt5NTkAaTy9HJJkjybywsoS/cH7h22CKpIU+3jVPX45onvNHyM21NsdHIJliILA6tirbwd6Y7b+ZsHWCXPT7UzlpoCKxw/8EzCF7aQghQwhYR9vlvNBoyOzsrlUrFWIZyuZwMDAxILpeTeDwuAwMDUi6XjSALVyTc2wQ3KAh3fNAa/2q1mlQqFZmZmekAAgzkWFOLNuISSBb8OaIV043HQUdf6gaEmW6ceK1pkMRzXIcO1tYam+slhDnUUy6XZWZmRgqFgjlnE41GJZlMGrrG43FD/8HBQRMWHJY6ETFriQEIgAIL45qn2hQGmgY8DxuNhhSLRROwAlYizGHf74w2ptcauyTicuN6feFssF6DoCefhdO8UtMY7bXxChe40XsS5od2UdV8DyHSOVCMzoc2wALm4uXM8/U+w30CD0mlUjIwMGCCe2DdYJx4LAEkXRHKuM06BQF8V9KAlMdMnz+CFZr5p3Y7RTts7ey273fbN7sBYL0OgmScXtPw8HAznoj73/vkv6eOupAlpHgi7g8PDx/VPTLvfve7J7785S8PveY1r5nZsGFDQ0TkrLPOqjz00EO/+Zu/+Zs1559//lbf92XdunW1t73tbZO9lhuNRuW222577o477lj1sY99bM0ZZ5xR/MlPfvKbXt9/4IEHnrr++uvXXXXVVSdWKpXw+vXrq3v27Dloy3vxxRfP/tu//duTt9122+pPf/rTI5FIxD/xxBOr73rXuyZ6re9zn/vc8Oc+97lh/u1Tn/rU09ddd13Pff5DS95LJTS/nMnzvD4RmdHa0iBAYWOm+rMGSjaGzs9sdXN6KWjbi8bG1m+9Ael3XHVogQea1lQqZQQLbC6RSMQc9KxWq1Kr1Yw2fPXq1XLOOefIunXrRETMeQUWPNinH4eyWahy9UO33eb6hGfs242y+cyGK3UDnXpjYyGr3Z47S3D48GH5xS9+IdPT0x0CPbeNy9J9cIEbkU53uyCBiJ/zBqvr14kFa7aiQDDSQiMEW9Zi4n2EcI5Go1Kv1zsOXPOhe2z8ABMQfKFFBpCempqSYrFo2s1thJCDA/E4IB2PxyWXy0kul5NsNmtcouDXz1Gq0A/cZ4TzB2gXwuaOj4/LY489JmNjc27a/f39Mjg4KNlsVnzfN0K8toLMzs7KzMyMzMzMSKlUEs/zJJvNGhAGjTW757FWmOcZu5LxPxacITxrFy5EZ2OhE/ODL3bkyyv1fMW8Z7ct8IBGo2EO5+OyzlqtJuFw2ARtAMDJZDKSy+UkGo1KrVYzIaGLxaLUajXxvLnzMP39/WYMOYiJjT9oRQ3PaTznsy/1el1mZ2dlbGxMqtWqsR7AyjE2Nia//e1vZWpqSmq1WkfZHAQAdAANSqVSx3yEq2O1Wu2w2NksNFrBAouFiCxSNjEdmPehLLYuweWLFQa8lkGv4eFh2bRpk6xdu1YymUwHL9RAhl0GNVCyWVNsgjT6kkqlzNk3jE25XDYAB4o0WMojkYgUi0UZHx9f5EJoc+PVdWN+g2Z6v8LYhcNhaTab8uSTT8pPfvITGRsbMyHgwWd835dqtdrB50TEAHu40fIltxrkuRK329UnpmUvIMUlN+F3Ao053/c7rAcPP/zw1kgk8tCmTZuKqVSqys/2798fGx0dfVmU6MPDw81NmzY5o4wdT8dWKpfLif3792eazeYbzzjjjCdc+Za9BUck2ORtSy7tlk0rhe+aCXczf7ueBYGspZTRC6DTz4KADJery8AGxW4Z7Euu34NACl9pV9+0uxq7MdjaZdPQQsBz9YU1ekw313tMN5tWT88J7b/NrgqI+KSBihY2uVyRBUGYn+EzawdZaGOQzt85H29YfD+DjQb8jv6ngRkDH243u5SxlQ/jFgqFjDsTu1KxRQxzyfM84w6GvDhLwn3CeRj0g4XxVqsl09PTRtAAoBgaGjIaYBY4cLC70WhIKpUyfUJ7Dx06JM8++6yMjY1Ju902Ubf6+vokmUzKypUrpb+/v2ONFItFOXjwoExNTRlrRi6Xk/7+/o6oUKA/C2daGAOtQE89T9EXCG2Y0xDkoFXmdzzPk2Qy2fG+DrPuAhRs3QFwrVarBtAVCgVzvmZmZsYATACXSCQiQ0NDZt2k02mZnp42tMLhbD6ID22/pgPzB+RDm3huoY+1Wk1mZmZkfHxcxsbGxPd9yefzIjLnbgshG0ElGOhzWyB4o2y42iE/lDH8u24njxPoqdcYjwPmJY+VHicdCANWmXK53DE/mY/ACs2WeFYUcZuZb2jeY9trNNBB3VCaDQ8PSz6fNxe+Iiw3A3ZYeeLxeId1x7Un20CNVtRoRQGfk+J5zh4LmuY8LnpvwJpnpZwOWhC0Z2pZx7bv2fIFlesCVb0CJFfatGlT/TjoOJ5+n2lZAxy9AF3CvAYu+Kw1fMzYdD068Tucx8UUjpZR6A1Dl+Xqp86rBWDNUDlxORBycV6AN0owalhuWGCHa4/2hWbhV4MPCCt6nILGUgvdSBA2WHPKQj36oGmm6+plk9BADWUjkhpooC0ttg2XBRo9Np7nGa0r3wOCslmDqmmN37EpoywI8jzW2oUJ/WGXN/y1AT59wF9kIcoWxgNjAmDB6w/lACT7vm+CCkAw5PnMd6lAKNHgDX3Hb8ViUarVqkxNTcmhQ4ekv7/f3FrPrnQQynG7PVzcisWiPPXUUzI7O2voUavV5PDhw/L8889LKpWSYrEoGzZskBUrVkg4HJaZmRkpFouSSCRkZGTEnC1JJBIdtKvVauZQMs85BlcQltBWPusGIYrd3PRZEJ43eA/rD4Ii0w9zRQdS0KCZ+US73Zb+/n4joKKuarXaUScsJ5OTk5JMJiWbzZrza5ifsNjhPa1g0YI0+of3y+WylEolcwePyEJQAQis5XJZJiYmpFwuSyaTkXQ6bdoOoMY8i+cd5g1fmsl35bDgawsTzIBMW1k1DwDv5QhnImKsZKAPu3Da6tAuYxok4uJcnKWE9RIAmMGYTpqf6n2HeQ2Xk0gkZGBgQPr7+6Varcrk5KQBlswbPM8z4AuAkV2B9Z5u26ttSb+DMdNWYra+MZjBuuGzqawQwnhifWrer+lna69WeOj28zrQ7wbt9S5aHE/LO33mM58ZuPHGG0+wPVu9enX9ySef/OXL3aaXKy1rgNNN+OTNzraQbeAkqDxXG1yMiZMLJAU9czGfIKE8qJ3d2sjP2I2BhSMWiEQW36GAdzmEa6+gEb9zfheD1psW/472sKbV5nPP5ejfeZPQv/MGiv7aaIyD6xpI6bZr7auuj13EeMNkIYm1jXiP69XuOaAH3Cs0sHFZpvBPa0pRTyKRMIAXIYHh1iHSee8PAAxrsiGsQ4uPNuIfa08ZLPGY2YQZ3/fNnNTWj3q9LoVCQTKZjAHl+AfBOBaLSTablcHBQRkaGhLf92VqaqrjMDqHZa5WqzI2NmaiaOVyOYlEIpLL5RZFMBNZEJa5T+yux4I9xhDrkgUezBcWPBnE2tzcAExAJ9QNkA4+wHOHhWQGVggJzZaWfD6/yHKHwAygQ61Wk/HxcYnFYqYMjFEqlTLWIF7fAMH6ED/znEajIYVCQSYmJuTIkSPGvRH1a8AAOrXbbXM+CgJtqVSSUqlk3NNAL8ytgYEBicVi5q4mnu8c9U3zOE7guzqfXs+RSET6+/ulr69P4vG4uYC0Uql0nOfhNcBrg/kIr2F+J5FImCAbOC+VSqXMGNmAmssqrnmlrldETMAJjDeUC3y2BmsHeXHGEUoBl0zgojfazPPZtQehbNAaoIvfYTCEtc90YkUC32XF7oQ69brPa37cTa7o5VmQrHA8LY902WWXTZ9zzjkl27NYLHZMI9hlDXCQXEIvfuOkwYgWdHtd/DZB11afLfWiVdEar15ASS9Jt5fbo4VjnDXQkcC4DL4LBEIVAyO9AaAM5HW1XWvSQAvbBskJGwX+cXhTW7/13NGua7ZNA/9YgLTNORYItD82gxt2Q9KCk944WaDl9mmBWY+VFjIg7OrIW/xc99s1Tkw/CNjsroQ8HNZVg2XQgP3qWaDTGlGmJWtXMQdY0NCRz5Awx9k6ABcq/IM1A3fuQMjt7+83/dDuP7AMwO0J53gwF/iSSgADJAbloC/OCUEoAl2q1aoRAF18jcdeAx8kFlL5jBGfPWLB2zWv+NwQNNlwBWSrHupkQRvv4Twfh4VGe0AbAOxqtWrO7nECXdvttrHKHD58WCYmJmR2dlZKpVKHMAl3rVQqZYBcpVIxIMj3FywEmA+YY2gfQoyDxpVKpePQvXb3ZAssJ8z/er3esS54nTG94JIJEBWNRq28hEExxlML3jwnQ6G5czDpdNrQB1Z5Bp96TWm+4QIcel/DPMe657nNew/mFaw3AJ8Adly3nhMuoMAWM96vuL1IAHZsSeZxwdzg/U9k4Rwb8tiUHN2AjI2WOnWTP/Seejwd+ymfz7fz+fz/k+GjjwmAw2kpCzeIGWhBEX+7AaZetS1BZRzNe93yBIEwG+PExs2uL0gsUEKbri047MaCOm39ZC2urS22/gQxdgY4uq2u/iPZtI82WmmhPqidCIUL1yIuh9tmc/diASIIZHB5SNpFy9Y+vMd1cL38O5erBRTP88wGbgsdDEuDjZ4iC8AVZaHtaA/f7WITZtntg4UgzF92RWIhXaTTzQif6/V6x++xWMwIkzjoLLIYnKJcXPYHAXtmZkYymYyxWDFwswFj9BNCN4fKhQAN9zQI0xpMBs1bLTSzRQYBFzg0sD5zwfRDe3RZfC4FtGXNN8YEtER7YRXDQXwAB75oGOAOdWWz2Y42od5msymzs7MyMTEhExMTJmgBNO8YP57vmDtoG57hjAevU9QJugDY4d4fDijAawYAje+GwtgxSGdgogFLvV43wQv4oD2AoLasYH2xi6HuO/cpEomYiIKYC3zRLfisVsLgfT2vu/FtgBZY0QAwGUzifbjJeZ5nLGvsAhm0R+v2uYCNfpfXFcAuu6jx2LCyj8eeLTV6L8A8svEFVzpauaHXvMeB0PG03NMxB3C6Ce+2PPp3G7jR321ldGMI3QRiWwLzC9JIBbU/qA7eNDix/zZrzVEntIy80dmEd948dL0oSwviuq9B4JL7hY2FNynezF1t4TKgWetGKz7UzH2xJb4BnAV0thRp+kL46hXkaGAEurJLDIMO7Tuuy8Fn/Rxzgl28NECF+w42eLgb8XtMC7gxQZDmyF2wAAAA8T00LMwwXTDeDNDhEtVqtcx5BfwGv30Walmw4gPjENABLjhEsc3qBytOoVCQqakpcyAaWnYedyQAGxyyz+fzJooh5gPuzsG9LAiG0A3g8O9sfQRt4foDkMNR1jRP1GCJy+X8vDYRUQzWDbicYV5EIhFDXw4D3Ww2ZWBgwIAiCMAIGgAgwQAMtJ+ampIjR450gBuMK/qJcyw4f4RyAJKYtzD45lSr1WRycrLDNS+RSEgulzMRKAHu+B4dGxhg6ya3hcEIwDNCjGcyGePWiXYjn+a1PNdcVmW4p8FljF1GeV1oC5BOGvwz0OP3MO9DoZAJn247fA/LYjweN9H2GLTqvcOlQND7CoMPLoeVL/iO9addyvAexpfPwTGQZZdQHheU1w3cdJM9mC92259sdOLfj6fjaTmnZQ9wbNqYXt/TyaaN0nmDyu/WFmasmvF3A0b8mUGPbqsGOS6AhmRzFeA2McOG0MpaXa1ZZOGW22rrDwtJLPz3mngT0hYQbUXqdfOz0QjPtYscC/e8kbDPODSfem6wJp6FEL7PAcCA3Xn4r+4DhD0+KM9jgvc00NGWNpsQJCIddx4xjbkvKIPrxmbPrlgMcvgAM4NmnndoMwcmsI2Rba4BsABIsWAGtyec5XAdAGfa43xNX19fRz70B4fY8S63HVYRtoTBagBQkU6nTWS1vr4+I+xrYM3l4FwJC+JauAENMLcwztrtBy5xHLSC+8Pjx595LoZCoY4oiq1WS7LZrAkogLmFMUF/9HkrrCdEWvM8z5zx4mAIg4ODxnVKRAyYmp6elpmZmQ6BNB6PS19fn7GMsVtUqVQya4CtTzzGeq5h3gDEAQCEw2Hp6+uTlStXSqvVkpmZGZmamjKBALRyA/MBliCsN17vug1oH4BOPB7vsEJyP/CPrZs6QAfKx51EfX19BuhgvPiuH5tbmN4PghKUSnyRKgeC0HMtHA5LOp0Wz/MWgZugecpgUu/BDF5s4EZ7LABc2yxlPCZsKWMwyecQMca9yjF679Rz0ZbHtp/ZlEP87Hg6no6FtKwBDm+OS0la04HPtnJsZutuZduAh4gb1HQDK1x2tzZ309Rw2a4+s+DOrhoskPLGa0taS6c1d3ifXVxc2ib8znVyvaxtR9vZHcnmDsAaNbTHRVNuM2jCQIAjJPm+b3zGfd83wlQ8Hjd0ZEBgiziGdvH5ISRsmmyt0mCcy9HWGt7MbQITnmFzZ3ADLTcEOtb8e97CQXYeI/QTAi+fRWq320bLje985oIv+OPIaXwOhfvMY4i+c1vQH9bI8sFyfU4EQj+0yvwcZ3U4ihnfqQLBWwvroVBI1qxZYywyImJokEwmjcYcQIMPjzOgBGD0fV/S6bRpI9xnNJDlOzf03ADAxFkLtqTpuaXBMMCunnegH9rKYCGfzxsrjl7HKI8BbqPRMLSBNY1BDtzcstmssY5Vq1Vz9qZcLksoFDJ3H+XzeRkeHpb+/n7j+lev12V8fFyKxaLMzMx0WG44oV02wMFgAXMEbQf4qlarUigUDC20VVNbLBjQMn/k9YX+spsXEq81PSfwG88LzOV8Pi/ZbLYjuiASzghhbJhv2NrH1lvbfoFgLOAtAImaxuAJiURCCoWCTE5Omnmgk42nsdWc8/H+xACb82AscBFsuVy21otyMCfBq9j6yEoNPONLZHtNrr1XAzjup6ZLkLyg9+zj6XhabmlZAxxOtsXuAgvMhIPe53KCmEkvGhCb4I7fXc9c+fFMb4guQNRrW1gggeDGd4+wr75I5yapy9eaWJ0gHNo0SDaBn9vN+bF588Fm5NXaTxZsecPl5/wb05E/g/GzNhRabzxLJBJG0MSlhjg0y/VrSxe3ha0J2meetYpIELIZbDH9eINnUMKKAtYwsoAHNyimKQvIuKDRRetardZxHoHv4igWi9JsNk1kJAiqItLhW8+R+TD2fBEmu6MxgGX68j/0wffnzrHocQbtmOZMU4wlXGt83zd1g66YUwgz/Pzzz5uLcPv6+iSdTkt/f7+5sR1twpkPzGPMLdSN4B4QBkHLZDIpxWLRhMFmrTEfbGdBCqAJbl42RQhownRhRQHGQ4NrWKZAR7jdIeQyhHEcFBeRjqh6InPuX9PT0+YcE/cbF0DWajUZGhqSvr4+CYfnQnIfOnRICoWCiMyBH1wmOjAwIPl8viNqXrvdNiHdDx48KJOTk1IulzvWDcZDK6Y0uAYNAZrQZ1grYDlhNyWed2w50OsfeTCWbImE0A1QDuCGcWGQo10wUQ4siLgfiu9xwhrEmLI7Kv9j3uhSWmG+hEJzbqipVMqsH+w3mJvgsQhbHQ6HzaWxOliDbU/HPEV5/Jx5hFY4oY1oA5QNWFu2sXPxJlYO6vNpyMNj6lIeMiBzgRPbe3ovcL0bBHiWmo5f9Hk8/b7TMQFwbMzN9l3n77Vc1ztaENbaElt+Lk8zmyBAoxmaDRjo913gyybAsBCsbzFnLSK/p5mwZvAojzV4+E1r+W3aJs2UkTRgYrDHwixvsi7BTdNXCy+a9hA4uW4+lM0CBFx0BgcHZWBgwISP1Zuyzc0N/QTY4H7qMUT/tMsRb6Aoj2nMblJcFgusWqjXlh8eJ+06psew3W6bOzUAcHDHCA7U53I56evrM+cx+II/z5vTLkMTD3AEwRMgic8eoZ0clUu74PHloCzs6fmmac7CoaYtg3fW1mPsotGoZDIZyefzks/nzX0/OKehXX+0UMPrD/9gJWOtPSJ/MRhD2/VhaHZJ02uZrS1cH7cnaM3CAthqtcwYz87OdrwHYAN3HvAOkYVQ3hAauY+tVssInStXrjR3EOFMDLT+cEfju2pYaE+n07J69WpzzmN8fFzK5XIH4GI3QaYDWwdZsK9UKjI+Pm74aLVaNeAMAJiFbrwLsM5jhHGAK5cO8ALrhw4M4bI0sPUI7U4kEtLX1ydDQ0OyYsUKSSQSBhxj3cAawWWBL+AzK4sYyPI7GOtUKiWh0FzkOsx/5jMA34hCWKlUpFQqLbJK6bJ5zbr2QubXXBaDSYwPrDfMc7g+/g6685zWygD89X2/IwIen3HU/eI+2Z7p/gX9pvfDbnUsJe3fvz/2yh3bt1WqtZfF3y2Z+P/Ze/cgSdO6XPD5siqr8lp5qXv1dE/3XJimmQFnWuQoIiiwBogRGoOK/IHACWRwAWMZQkZnVYIYPBjiUdlddSIggiMqKrqBrssBdt1QkQAvg4eLwDQ0dE9P1/2S98zKqsxv/8h53nq+X79fZlUzXKapN6KiqjK/771fnud3eyfDz37u8194KpOcEydO3PX6179+7dd+7dfWRz37nve8Z/rBBx88Wa/X/8e3om5P1XRDEJxRyUcODrOA4wgSUxyxst/78j0KMRqW17B0WMLH/FXKRCmvDUFrD644DY4FdMM2ZX5HCWfcQQRcu+kroLDgWwmELddK6VST4itXDzFLhKh5sMSNTuidTgfz8/NotVrOQTUMDwIJaLlxhMbaaWu/WVKpbVQwZs1d2F9WExQHChTI2fnLQ5p5WvLDPMfHx5HP5x2gp7nO5OQkCoUCSqWSAzysL+cSCQWBaq/XQ7PZdLb4lCj7tF90nOadHgQfJAA6F9gmjodPoqrz0ZJI1lXNvFh+qVTC1NQUcrkccrmcM3ZGFJYAACAASURBVFWjNDounLiOhbZNgZmCS/YP16lqU7VeJDe+aGl2rvsEDVYirvPLzh2COJqb1et1B/jZJhuCWEEuTdP0kkRqVmgOlkgkUCwWHRFivtQiUsvRaDScyRMJM8kD/Z4YJlpDRnOfsHPBt27Zp7xQFoAj7WraZftPhRX8XPcfBd82qQmd9j3nhZ1bOsYkyMViEbOzsyiVSu4c0PlC00kfyR5m0mS/D4LoZZ3UWlqTY2pvSN7r9bojGKPOtFFnuBJlK6Rg3ynJZqh4zi87Dr5zSi0frFmmPkstjp5jo9rjOw/sO3F5HJYUXU9aW1sbb3d2g/f/ry9rnTsz8021c/vi1zcTr37obzNra2vjhyU4P/IjP3Lb3t5e8IlPfOIr9ruPfvSjuZe85CV3fPrTn/7ic57znLbv/cOkRx99dOLs2bN3ffKTn/ziD/zAD4zM51//9V+/lM/nvy02gSdOnLhreXl5AgBSqVT/5MmTu/fdd9/6W97yls1vR32erHTDEhwfibGH0qjFHPeMDwjbdNgNKq5+36zk2xDZHm7AKn3SDVd/CBosEOPn1uYfiErHVWuhdThK4mHrOzQUoOoBrN9ZAhR3YMZJ//ibBzCAiGSPh+P+/j7m5+dRq9WcmZo6ocbZXVuzF+0/Sxx9JIf/c7z04FQpq9VIaSQ5C7poIqSmHBxzW18tW+eMzYekp1gsOr+IXq/nTKyogeDFeclkEsViEalUCvv7+6hWq9jY2MDGxobrE/WT4M/k5CTy+by7fJVRmGh6ErdnWCLP+aBmNHyWY0mSwahpExMTKJfLWFhYcKZUjEqlYal1zViQxDooSLXkionaRG2POtpzHDSUtiUrFlD7kl3/7B/NQ9vAsnhJI0kO+001STZMPcugRJ/CA96B0mq1sLOzg36/77Q24+Pjjpzs7++j3W47IUoiMbjrheZrqoWdnJxELpdz+5heDGrXHceDgFzJOMl0o9Fw46smWJY8DjtzfEnJpApJND+u3bgAGnxmfHxwb9fMzAzm5+edJkzrSk2cao7iiI22w0faKaygb57PcT8IDiKnBUGAVquFer1+jT+Z7QPbp8zL14/cl3z4QC0QSJC5L41K7Btda6oRVwGEWhsc5hzUtsY9f9Tz1Jb9ZOCRc2dm+s9++qL/BtNvY3rNa16z+epXv/rWixcvJm+99dY9/e5973vfzDOe8YzWN0JujpI6nU6QSqXCpaWlwztgfRPSW9/61uU3velNG41GI/Enf/In5fvvv//mm266qfvTP/3TtW9nvb6RNPzWxKdAiiMSuln4JOJA1KzCgmDN2wdujyr9GCVtOmzbfM8MI3LD8rNtVWd53fRVwqdmUMNMH2hqoHUcRQqt5NLWU6XLdIpOp9OYmppCqVRyt8xPT09jenra2dnTyddKrm3dFEjZ+RA3b1iXVCrlJMvsgzAMHRinyUehUHB2/77xsIBBzar4w/9tv1piwvr5nJmBKCAmcOEPCZv2l97roWtMx0/ngIJxmtTU63V3QznrRNO0QqHgwGY2m3UmbzRj293ddQRyfHwchUIBJ06cwO23346zZ8/i5ptvRi6Xi/SVtpdtyGazmJmZwcLCAsrlsosQ5QPSPnJspda6RrT9JHbq2E6Cw0hQ9DlQnxqGFGbIZAJzvbFdQ1ZzfNU5mqAwm81GImFpmQSJNoKdlfDbZNvqA82++U2wOj4+7ggITb6U4Oia5rouFosuXDHbxO8LhYIbQ9471G63USgUkMvlAMBFVNvc3MTa2hpWV1exurqKq1ev4vLly/jKV76CCxcu4OLFi1hfX0en03H11X3DEn621zc3mHQOazttlEf2PcdUybLOZZ+vCOvHpPlwvWhAELvnkZAXi0UsLi5icXERANwc41wmWVcB16iz0KeN4rzj5aic29aUWffWXm8QiY5kUcuOE3ANS1b7aj/Xdb2/v49ms+kIuW2jtttHFJin3b/tOKk23XceDetnm3x9Ys8z31q+HqzyVEuveMUrKqVSaf/hhx+e0c+r1WriIx/5SOlVr3rV5sc+9rHc+fPn70ilUvcsLCw889WvfvXJWq3mJvOJEyfueuCBBxZ+6qd+6nQ2m717cXHxrne/+90uv7Nnz94FAM997nPPBUFw/vu+7/vuAIB777339Ite9KJb3/a2ty3Mzc0989Zbb72T+b3jHe+Y4/ubm5tjr3zlK2+enp5+1uTk5D233377Mz74wQ8W4tr0x3/8x8Vz5849fXJy8p6bbrrprvvvv39RNY2jUj6f7506dWr/3Llz3Xe+852rhUKh9/GPf3xq9JvfuemG0OD4NhMfmFZJz7AUJ0WzZfqkb8MIkm4uh02jpHnDNj1fXfRQs+/wEKQGRg9RSt150NgQvkqCwvDglnVKNmm+pNIrbub2YLb1V8mkrS9BjyUorEs+n0e/P7B9b7VazkTFJ/3TOqhETfP09WkikUAul4uAT0ppk8kkCoUCFhYW3AHJQ1K1S3qwKAEj+FAbbjWH0X6ivbfvwLJtsfOEhyu1JBotTctRJ2C950HrrKZLVtJIzUyj0XBzQoMLMMDA7u6u80Hg2NPEb39/H+l0GoVCwUVgoqP+hQsXcOHChQjA5m+GlO12u9eUQ60B7f8tQLdkh+3WA4RAlBdZ0gQql8uhXC5jcXERs7OzkSAK1qyQa4vjtre358z5dL3xf9ZLtS+sPzWcCpCt9NmCLR9xtfPdp7Vhn+i80/Wi+wNJdCaTcf3A9gAH4J/t39vbc2scAHK5nIvu1e/3USgUsLGxgUqlgmaz6fx1qIkAgEqlEnH6VnBrgxpwLqrvIMeDEeHs3NZ9zYZP1gAoFCRNTExEhA66Vi3h4w/7VMOZW6GIjoGPmDBZIkGfsIWFBZw5cwbFYhGbm5sR4K1kQ0kY9yPV9Ot+aTU97MdMJuO0ZHqvEd9lSOhsNgsAzjxM90m21Xe2WqJgv+e4WrKk2mfm3263Ua1WUalUIsIZW549V1TTShNKSyw43qpR95kC2zbFpTiMwzLjSKm+exSM8lRMyWQSL3/5y7f+7M/+bPpd73rXCvv+/e9/f6nf7+N5z3te44UvfOHZBx544Or73//+S6urq+O/+Iu/eOq1r33tqb/8y7+8xHz+8A//cOGBBx64+uu//usrf/qnf1p629vedvOLX/zi+rOe9azdv//7v//SC17wgqd/+MMfvnD33Xe3JycnXad/6lOfmsrn872PfOQjF3z16/V6eNGLXnR7s9kce+973/v1O+64o/PZz342PTY25h24j370o7k3vOENp3/jN37jygtf+ML6o48+mnrjG994MwD89m//9spR+qbX6+EDH/hAsVarjU1MTDylme4NQXCA4baoR5V8HObZUZvqYco6jJTEt4nb73yEBvD7ntjnCDrUyVFt4rkpMkoTN0glPwqc+R0dQe2mbuvGg58bus8Hh2Uo4OD/BEg+UzQAznmdUt9ms+nCfFo7eN3YrXSWf1twQ8deJX+UrrNO+/v7mJubQ7vdRr1eR61Wc1oMn4ROgaaOrx131sOOA7+nFF/N5hRsUGpLzQzNRRgqV/OkqRhBCH8UxJOQUMKpY23XCvuNkdk4TvS/IVCk1FuBn0YZu+WWW9wdKNSUMHgBgZeCZd51oqaYe3t7zjckCALnk+Mzg1FtmgIjkngSJfZnOp12BKdcLqNYLDoio/OL5E/byHmgfkA+qTPnoa4xAmRqTKw5ZL/fvyYYgya7R1ihke0XK23mmPsAJQE3o2cxih7JA8EeL2Lt9XoolUoRk9RcLoeZmRmMj49jdnYWS0tL2NnZwfr6Ora3t9HtdjE+Po6pqSk3zxi5rdfrObCvfcm+IRHmM/SL4n7BOtjQ4DpPgQNiwzFTM0DOGSs40flATRbDNNdqNXcBpvra2HNA/Y4scbKCFOBAA72wsIBbbrkFp0+fdoEbLDHjGNFHSbX8et7oPkktnZZLn7tUKoW1tbWItorCK7Z/fHzc7ZsaiVLnnvah7jd8jgI1/q99YgVnKhCi+XOtVnPaIxVq2PPGJ6zjnGZ9VejA+cFzUn33dO351t9hcUXceeo7+w6DSW6U9PrXv37z4Ycfnv/IRz6Sf9nLXlYHgA984AMzP/qjP1r53d/93bmf+Imf2KbD/1133bX7O7/zO1de+tKX3tFqtS5nMpkQAF7wghdUH3jggQ0AeOihh1Yffvjh+Y997GNTz3rWszYWFhb2AWB2dnb/1KlTEfOzdDrd/+AHP3g5lUp5O/yv//qvpz7/+c9n//3f//0Lz3zmM3cB4Ny5c7H+Re94xzuW3vjGN66+6U1v2uKzKysrV9/+9rffdFiC89BDD930rne960S32w16vV5QKBR6v/ALv3Dsg/PtTHaDU7AfB/x9eYySaDDFkYxR3/meiZP+6LO+A2wY6bFgd1jioUXnWgIgEhweXnzGHlS+Mvl/t9t1hzG/s5u/NV0Ylqx0TaWc+pn1CyIYoElMuVxGOp3GxsYGqtWqe3YYSVXQ4vuc/hu8J0bbysg7U1NTmJ2dRbVaxfr6OtbX19177I84YqNSdQLeuMNdJaAAXFQk9rcCZPogZLNZJ1EmuVENk46ZHSeCHZXwqhTbSis5xxhogWCWZIygcn9/H9vb22g0GgAQiXxFbc6lS5fQ7XaxtLTkbrqfmJjA3NycMwlSkxDWnYDXt2+wvzmX2Pc6V/k9iSPJ1cTEhNM20HGdf9OMSsmb7Vc60VsNANuupIhzhffGMKlGjQIBAiY60NOEVOeQ9o8FOz5BSdz807GOIz/8jMSavlTUVDHUNttIElGtVp1JE6Pl0UxV5/HExATq9boTaoRh6AA5pe/0xfFFMCPJJdFVjZ72JxNN7UjUtN90HLV/FPDa/ZMCJfpsTU1NubW6uroauWeLQiGOt37O/LlX6v6t7aUZ7U033eS0N2traxGTKgrAGMWs1WpFovP55omuFSVXDEXNfUmFJpyLExMTyOVyLtx+s9l02nfVsNi577MA0LrZM0j3TX2H8y6RSKDVaqFSqbj9SDXoPmJgz2ktj/sd+5Vrwn6n4xhH4uLKt2VqXYbhHE0+bHGjpbvvvrtz9913N9/3vvdNv+xlL6t/4QtfmHzkkUdyb3/72y888MADN124cCH94Q9/uMznOR5f/vKXJ++5554OANx1110tfp9IJDAzM7O3vr4+Elc/7WlPa8WRGwD4zGc+k56fn++S3IxKX/rSl9Kf+cxncr/3e7+3yM/6/X6wu7sb1Ov1xGGCF9x3332rP//zP7/1+OOPJ9/2trfd9LrXvW7jzjvvPFT536npKU9wgKM5w1lJCNNhCMFhCMOwd+IAVVzecXWyB6I+GyfVsYkbqb3DhSYh1jyNhycJQ1xZrIeaHVggZcmNHjQ+YqrSYH5GkKgmPHpQKJglYdvf33dAlNocJURW8mcJButq+56SZoZAZl/x8Ca4KhaLWFpacvb/BAmapy+ympoM+crX//Ug1+hYql3S1O/3Xf+1Wi3UarVrbMz1sLOHN9tIIuKTPtqkGsL9/X0HVDVaUa1Ww9bWVkTLpgCZxHJra8sByXw+j93dXTfGGvlKwzZb7QlwoK3R7+z6U/t47iPWj4IAmOA9m806nyLec6PtUak/152PWGoZCsos2LP9bUkFSZeSKJav953Y8Y/T4LBMS2Qs0bEEiIIT9qmaZLEuSgRpYprNZh0pUhNJ9k+pVHLChomJCeTzeQADEzUSEM49nwkq/b40gAQBNzUWvV4vAu77/T6mpqZi92Pd31RYwTIsMeA4ZbNZF/XPasw1H92btD06TgrKtTxqcefn53HzzTdjcXERiUTiGjMszmeSR/XN0Xr41rvOgUQi4aLoUdOqYdG5pqj5DMPQadwtmbL7gl0jhznPfc+yDlwPjUYDlUrFtdsKkUaRBx0bS+RUcKP5ktRz3O0ZeJSznnXzrV/7/TDidiOmV73qVRu//Mu/fGpnZ+exhx9+eObkyZO7L33pS+tvfvObE6985Ss33vrWt14Tsvm2225zmpRkMhnpoCfGeOTAZDKZoYQjnU4fqePb7fbYW9/61quveMUrKkcti2lmZmb/zjvv3L3zzjt3b7vttot33333M77/+7+/ef78+c7ot78z0w1BcDTpgjzs4hxGLux3djMbttEMIydxG06cNDRucxpGcuLK5/cKfsfGxiJ3EOihoeCJB7w1lbFS2v39fTQaDbTbbeRyOQe2rUQz7pDxtcn2GYEGQY6aZPBA5/8sq9/vO4lvJpNxeQD+ENSjEtuqvhwaqIFAvN1uI5/PY25uDouLi7h69aqL+GR9mXx9YAmOlm+fU/IaBIHrI3VMZyJ4arfbqNVqESkpD9U4KaAllQCuAfx2Lun7nEtqLsZIRTs7O6jX6xHTQ1/ZDMEbhmEEfFDCr2aCcX1q+zWO5DIpMNX2K8FQMEczo1QqFSlbNTckRz6AqOZNlvz4yCcBlK5TlfLrXUG27TZZkmLBbNy+FEeINdn1TpCnhI7gl6RjYmLCRaezwJ79XSwWnTltOp1Gv993IblJ3vv9vgvjzjK5XuIEOEoquMewDalUKrJOtN12DmseLEc/47v7+/sO2He7XVQqFedDRa2n7p2657Fs3TtV481EzdDi4iJOnDiBUqnkHP45b7i/klCqqaqdJ5ov+1mTau2CIHDt0zGkYID3XFlBkC0zbm9g+dZEmmtWtUr8XPdQ+thVKhXs7Oy4uloy4Gu/L+k4sX+sFkfng/rH2Tbav+OSffewpOi7gdwAwGte85qdBx988NR73/ve8oc+9KHpV7/61euJRAJ33nln68KFC+lvRINBn5ter3dkh6bv+Z7vaa2trU187nOfmzyMFufcuXOtCxcupJ4sjcttt9229+M//uM7v/RLv3Ti7/7u7y4+GXl+O9JTnuD4Fr7+f5RNyEcyNPnIhK/suHfipCZxdfMdVKOetfn66mM3cUrOrfOqPkMpq/oHxLVbCU6z2USpVIrcXWGftWQprl38n+CKoJYO7yrxZb4sj0SGZTGyFA9yC4B9ybZZgQidX1WDowSr1WohkUigVCrh5MmTuHTpElZXV125KtEd1q9xRFDBp5JW+sRouFsCLgK6drsdkXADBxHHrG8H+9LWRduq5Ej7TUkwASLL4lju7e2hWq1ibW0tcplfXF/0ej3nWN5sNp2JEn8I1uy7rLPawceZ2Oj4628lNAQtnHPst0wm4xzi1VFc81cSqHkfBsyo1F7BnJXYc7wBuL5RMjZsXlmSo3uI77m4PtRxt4SOYJLzj6Z3XLfdbtdJ9VOpVIRckiQDcOZPNlhGNpt1/j7cA+gsr/3APc5qdzhGGraaBF3v1/GBX84x7V+rbeBcVOJOh3bOJ/o0kqhy7hB0+0xbbf/rnAAGhKNYLOLUqVNYXFzExMQEtra2In577EfOX2qkLTlQTbjOX9Xa09duYmLCmaqqKShNDtPpNPb3953QRfdn33zUNW3PExI1vmOFdHbuW+EQtTcklzpWPkI5bC2wTPU95T6tpEu/UwGYprhytF6+89ZH3H3fPxkE54tf3/ymR+r9RsooFAr9l73sZdsPPfTQTc1mc+y+++7bAoAHH3xw9QUveMHZV73qVafuu+++jXw+3//sZz+b/vjHPz71R3/0R48dJu8TJ07spVKp/t/+7d9OnT59upvJZMLp6elDhcz+sR/7scb3fu/31l/+8pff+pu/+ZuPP/3pT+987nOfSyUSCbz85S+/Jmzzgw8+uPwzP/Mzt91///3dn/3Zn91JJBL4t3/7t/QXvvCF9Hve857lo/XKIN1///1rz372s5/xj//4j5kf+qEfao1+4zsvPeUJDg8jddgE/MTisAvWt3H58jysNITpMATLSpp8dfflY+s2jKzxgLQmImoOxEOKkjt9xvqA+IAY/TlqtRq63a6zU7e+DKy3SpqZjwIP1oXPsgzei1Aul50JEImOglbreMsoPtTi8D1NPtLlOzh6vZ67T4X9pbfCh2Ho/D7K5bIDE7Rz590KCowtmNRxtYcyf4+NjUXCOKsEmGNrIyslk0kXXY6ghYe3AiYF99qvth5W26NzRMkm+1p9u5rNJvb397GxsYGVlZWIRFpBNfuWGh8SmEajgVQqhenp6YhvByXOFpiov5QlHfZHTTS1vQpE+Az7hiZSuVwuEsHKR9osyWa/ElSq34WSGb6rf9t1wjbRfI7Sfw1kQFNBFULo2BKk+qT2Ol+1//QZ1lmFJNYcj/2i4E9BqEr+6VOiiWuPvznHuNZpJmiDblitiY6N1cip4IDrghpQfmcFRGoeyfNK15ldQ+wj+qlpXVgHXZtWy6556nfWpywIBr4+S0tLuPXWWzEzM4N+vx+5Z4Z5MKACBVfUBMeZHHPO2HpmMhmk02lnBkczUgplOE6JRAKbm5vOH1D7k22xZ6I+o/NU17kK8HS+8XmuAc6ter2OnZ0dJ/yx4N+HKUad85bIsM7Agem1HSffGmMahhN8OMjW05fnMAHmYdL8/Px+OjUZvvqhv81cdyZHSOnUZDg/P39d98i87nWv2/yLv/iLmec///nV06dP7wHAc57znPZHP/rRR3/lV37lxItf/OKzYRji5MmTuz/5kz+5fdh8k8kk3vnOd175rd/6rcV3v/vdJ86fP9/4l3/5l0cP+/7f/M3fXHzjG9948rWvfe2Zdrs9durUqc473vGOq75n77333tqf//mff/Wd73zn0u///u8vjI+Ph2fOnOn83M/93HUHCTh//nznuc99bu1Xf/VXl/7hH/7hq9ebz7czPeUJjk1x5OQwyQdyfODd97ytw6jNwSdZGVaGb6OKk9L48rV5qgqcAErBKUHCxMSEAwt6IeGoDZWgf2Njw10aR9MYgm0rvfRt+iox86Veb3A3Ai/my2QG+6kFffYga7VayOfzSKfTEXt6BT6H6U8+R1MK+pKoWQcBS6PRQKlUcqFYCeIrlYHZLKOqxTm3KxhTMKN9z88V2BOEWeLEsSAJBQ5MzMIwjNyVomWoWYWuE7ZZiaTmqeQVGAAg+qgkEgl0Oh3UajWsra2hXq87Ms0y2R86V3TOsY9p4qKEjuWy7uwj7WsNH6xkJW4v0PEhKCEAp5M072HSMOkqrVWzSs2bfasaDr5H4O7TlgVB4KLCKSm1YJXzklozahnYZibWgX2sZVmAbiX37BeruVWzQb0HiJ9ZDSMA55PCebm7u+vmMPuP/6twhvUpFAqo1WqoVCpotVrOH00FIeoHwmTN4NSMzhJ9tlXbyfmlYNKa4lnBhY6zzjPdW+P2fQuE9TPdV/lTLpfxjGc8A6dPn0YymXRrjwSSc5lmgYwmZoVCumY4X3U+c23wvqLd3V0n0ACiwoDx8XEXktmGNbfAW/tBf1ttlq4FkggbEEL3gSAYhFRfXV3F+vq6i57GfvSVq9jDd77zOyvMIDHWvZuf6x5jzx4fVtD158MulixZEqTt+UbS7bff3v3s5z7/hbW1tW8Jxpyfn9+//fbbY6OMDUsvetGLmmEYPmI/f/7zn9/65Cc/+ZW4965evfp5+9mXv/zlL+r/b3nLWzbf8pa3REjGX/3VX106TH7z8/O9D33oQ95n3/zmN2+9+c1v3tLP7r333tq99957XZdy+toCAJ/4xCdi2/9USDccwbFJF7Lvu2EkZdTncc9YoqRlWQI27N1hZQxL9kDV8plUEkYzC6uZ0c1ewYDdQG0bFXBub2+jWq26O0t8YBE4AAMM+8x8rQTQHhTAgBhsbQ3Wei6XQz6fRxAE7gBV8MByGfmLxCgMw0jUN5uUbPnmFO9JmJ2djWhwCFZoYtLpdDA9PY3bbrsNX/nKV5z2hhJRAjMf4GX5agJnzSwIGvk9yamaFSph0DDMWhZvK9e2WuCkB2/cuPL7sbHBpX40mev3++4uG0ZTarVa2N7eduZ+ekeKJQa2DhaIE1iqSZGSQK2rJQBWO8WyfaBApcHMk9qcYrGIfD7vHOK1DXZeWlKhvwFELs1VUO8j4lofXZucH6q95Vzj2p6YmIgFTjrWbDs/4//6na5f1ont73a7TnNIMyUCPc5fC/b7/T4qlYprf6lUuoaU6D6hWop8Po9CoYBMJoOtra1riKXdLy2B0TmlpqQcbyVJ2gfsB9s3Oj46Z1W7qW2y+yoFBiroIHkHooDd+m4paTx9+jSe9axnoVgsOm2F+vmw/6iBZHh77TclYHYus71jY2PIZDKYnJx046/jrvs269FuDy6SV8GIrom4vcauUR1T1SDq56y/+rpVKhWsrKy4O5QsaRxWD/3ckgqeJSpc4W8VYChJt23hGMeV6auDjgc/OywuuZ50++23d6+XdByn4/RkpBuG4AyTOvgkFMPIzfWUcxji45P62HeGER/f5qWf+yRK+r6SFoJHAmIrqdcDlBIvn2TQ1tGCMkbDKpVKyGQyDlT5SIJu7uoEbQE231FJPgkGAGcGwc8VSAIHQKXVarlDLZPJuENMSY5KcG279TtG/iqVSpGoYFpfRlTr9/tYXFzEzMwMNjc3nfMz/YF44FotlEp72S92PPR9jp+1l1dNi43ixv7Q+aPzyQJqnVME0PY9vlMqlSLBJ1Szw76hximVSiGdTkdIqs4TO5YKUILgwIRpYmLCjTP9CABcA3IIEKlp0UhaNtm1yvf4bq/XQyaTQT6fd/4gHBv1udJ26JjbcnSsFSwpcLbEwpI1HzHUqHAq1dbxt+DM1iVuH7Vkkvkz0IWSG/qFcfysGRL7jRL9drvtzJuy2WyEsFPrTI0DwTHN2+h7pO3xkUvtX/sdJethGDpzN903dExtf9j1ygiGCr59Jkp83momdH5YB3jV7tkx4x1BZ8+exc0334wgCFwoZp33XEPJZNLtcb4oi8MSx2VyctKtTWpnk8kkpqamUCgU0O8PzFR5340l0759RfvGd4Zqv3MO+nxI1QwPGAjANjc3sbW15fZsm2/cWRh3xrMcrb8KjtV8CgAAIABJREFU9pSI6vzUM9MnYNQ0Cgf51uv1YqHj9NRIf/AHf1C+//77b/Z9t7S01P3qV7/6H9/qOn2r0g1DcGyyEpa4DfCoadSmdpj6HCb5iMtR6ubLT8EoN1NrB89nFRz5DgStlw/4EBxQKl+tVlEsFl0oZT1E7YavmhqfpMxH9Pb29pwjPwAXKc2CD9ViAMDu7q67pDOdTl/jY6RmQD4QytTv99FoNNDtdp3EU01kCEBarRba7ba7nPDKlStOwq+aGds/1q/CAkDtfwDXgBvgwBZd26Nme8yXdVVptCUY+rwF3TqmfF7zUXLS6XTQaDQQhqG7u4ZmSxrtSw9+K3XXREKXSCTc3U4E8xqVSMEgUyKRcJHO1LHZNxf1HY1GyKh0lEjTPC2ROLhkU/tN+8NnfgMcmL9pm60207bFB7K5DqxWlM9xzNV/TNtvf9tx9+1XWj+ONwmO7xJXO2857gw7r/51/X7f+d6Nj4+7ucOwx5OTkwAOQDrXubbJ58ej5mpKWpRQkiipxsW3RliGglbmReBvzd7sOlKTMgoSbD/rutAxpSBD12AiMYg2t7S0hLNnzyKXy2F7exu1Ws0JWdgX6vdE8hGnNdQ66dxhPtRiksQBAy1SPp9HIjG4b4bCD6tliCvP/u9bPxxHe45ZQQDXabfbdfeV0bdyFGaIO6t9e6KuF84h3Z9Ua0nSZeseh0PiktYhrk8Pm9dxemqlV7ziFZXnPe95Td93ExMTT57K7jsw3RAE55u9KO0mZTfR6yn/MCTLkrI4QGfzjDtseNhSAhknzeKhygNd/RiGbY5aDyUQvCRtenoa6XT6GhCh71Hyzk3fR3IsKOUBTrMXvqNBBKwvBsumcz+j+9AnQZM1VbEkh21pNpvO2ZgHuvqksH6NRsOFZc3n8xEyZBPbYr/X/rPgSW9Z17tgtD+VMFmAbE22fGWwbvxOTa0s+CW4YiADAgY6/luCQ6DKvLXPLUC0Bzf7mUk1JvzRO1bsulZipPNDx0N/67zk55SOF4tFZLPZa/xh4rQ0/F/LIDCL06oogdB+iQOACqCthkc1ONaHQvva+iDYOeED3gyyYbU3GrWP9aBGj2PExLnM+cR9pFgsAoAzb6T2plgsuvpw/uvatfXXPNkfShyYVChgw/z69keWryTdriu7n9h6q/CDfRB3Jug54NN8cH6eOXMGt9xyC/r9QWCBer3u1g7JVzqddsFbGo0G6vW6l+DY9rJ8rgeSUCXSNFvTyzzb7bbXZNaeucPOXXtucv9VKwQrtFCtNoVyGxsbkUiOhzmz7boY9RnrRiKoQSrsfs7PfcLGUWMx6rvD5necnnqpVCr1S6XSU/rCzutNNwTBAa61J7VpGFGwn42SjvgAjy+/YVKSUZvLKOI0ql42LzXhoZ29/VHwy4PemvL4yon7nyC2Vqthc3MTMzMzLmS0OnTzHT2MFKT5+lu/U7CgwDiRGDixq5ZKDwhtF6WaU1NTzoyGnwP+oAP6GQ/GWq2GdDoduYyQfUiCU61Wsbu7i6WlJXdnh5ZjtTdKWHR8CEYJClgfPsvDUvPQPuYYsJ0KtNTJXsG57XclwvxMnWaVTOrFqsyToLrVamF3d9eRG5JMq01QkyxL1FSjZQNH8P1er4d0Ou3KVnv33d1dR04JmtWszJIDJSDajyQ3c3NzDmS3Wi1H4DkPrfZM55tdl9oHTLpmfVotgsi4pABaTdTURErL4juWGGg9lHyxz2h+2Gq1nBaAkno1TYtLSp45ZolEwgWUYDjwjY0NNBoNZLNZFItFzM/Pu7rqZb80y7REV9cYx4Lz37abZlpxxE77ze7l2kf0Q2EbVfij2kFf3pYU+Uitzgu2MZvNYn5+HmfPnsXCwgKq1Sqq1aobDy2XGshOp4NqtepM2DgelozZuiUSCbcX6jgEQeBCQtP8kBpwH5mx+R72XNb9Lk6Yx37hHlCpVLC2tobt7e2IsGuYUMP3uW1HXGId9VzUvUyFMrY/fDhC9xBbDsdtGEYahjs8qT94NTxW/Rynb1l6Yr6FGMy/2HRDEBwFrXbx+6RpNh0WsPvKHZafD4yPkgTZd33EbRT5sXVWMKg+CpZg+CSd6pQ5qiwrdQMGB1Kz2cTW1hbW1tYwOzuL6enpSJha1dawTG2/dTK1YEI39H6/7yTDjA7FKF2JRCJCBhScd7tdd4cGndxV+m8JmU39/iBkMU3xaCLH6Dt8t91uY2dnB5VKBYuLi7jpppvw9a9//ZpIY9qfzL/f7zuzLUpXGVZVw0ETLGooV4JxPeQsObFzi2UpKOS7Omc4b9RMS8cxl8u5Pufc4/v0k7CXkJKM6UGvINBKP/kdCZ8th+PG6GZsZ71ejxBfRsJj21XLwT7knLOaGJrV0aG9WCxiamrKjQu1Elp/XWealAApqdLvdT9Rsy7Wixoy315BzYMKPJgfQaYSVd2H7N7E+tj6MS/6zVB7WalUUK1WvaY/bLe2VwUSLL/T6TiTwjAMXdQt9iM1Eqxrp9NBvV6PRMNSTZ+SGZo4Kkjv9/vO5E0137p2bNvZBns+6bjZPUU1tXZ96hhoWb7fuja5lrjeyuUybrvtNtx5550YHx/Hzs6O83VjnenHxMh19XodlUrFmbDFnXHAgVkfL/WkHxpNTzm3eKfRzs6OMwXTPDn2KmDR8fIRap2jnDOqwWef6/s8F9nOjY0NF03O9r2vj+1YMPnwh012Dqg5GutNs0pLJLU/fOvyKDhm2Pcj0moYhnvNZjOTzWbb15PBcTpOR03NZjMThuEegJVhz90QBEfBDZMlFfbvo6RhefgOaB+54N/DkhIDPQj1wLPf+eroq5du5NQm+MJkEqBSQ6CaAVtX+7dPgkagWa/Xsb6+jrW1NRSLRWcqpyCWz3NzV8kaDwKfAzzbpiSMUctWV1cxNzeHXC6HyclJZ2ahtubsD5pSpFIpd3Ef+0b7yZJpBTuVSgWlUgn5fB5TU1Pugjj2NS+kXFtbw+LiIs6cOYOvfe1rWF1dxdbWlgNPk5OTDhSrtFhDh6rvR7FYRDKZdM7Xeikd+1jnGA95a/rCZzKZDE6dOhXpM414ZecrTYtobqJScgJ71RhxbCcnJyO+GSqht/NNQaMNa64mQNTEWACTSCSQz+cBIHJTO+vKucrLIMMw9IJwklmdj2xPKpVCuVx2RKvVarn6K+HSvEja1PdL1xHrpZpV7XsLbNSm35ISlmm1hFz3NCNjqGn1nbDjwB8lavxeQ0C32200m03U63VUq1XnqO4ji6ynlbZzPnBuMMS1NSViWxqNBnZ2dlw+jUYD6+vr2NnZcQSGgF6jHnKtqlBFtY3qx8b6+nxw9Hu7T2ubLeHhMzYQi85lq/XWd5ns/1zrxWIRZ86cwTOf+UwsLS2hXq870z7tD0Y4nJiYQL1ex9bWlhMGsP3aR2rCCBz475DE0ASt3x8EEMnlcshms2i329je3vZqbvhbBTMs25pX+tYof3xzif3Ju8AYmnptbQ3Ly8uRy06PgiF86zfuOc2bREwFT9oO+7nNW/du24++73wkjc8OE2badP78+dojjzzyR6urq28AMJ3NZltBEBzbux2nb0oKwzBoNpuZ1dXViV6v977z58/Xhz1/QxAcJrtQ9fNhhMcn7bB5MvmIw6h37LvDNshR7x72f0usVJpIe3gFicCB3TUBTdzhqfX0HdC2XmE4CMG8sbGBK1euYH5+3oVTVpLAfH0SbWsu4quLlaoTiG5tbaHf7yOfzztyRTMx1q/XG1zWNzExgWw263wFbD20TN9h0mq1UKlUUCgUUCgUMDk56UKjEhQTmNVqNczMzODkyZNYXl7G9va280dRaaoCx7i7YQisqS0h4FfgYIGuAmpGSiLpWFxcxC233IK9vT1sb29HoltpSGt+xjDQNEXioUzCoWOqdc5kMhGwwu/tmFoiS9LHOuvlnyxHD2pqZahlYz+yX7R8AnMb4IDPsG9ZH35Gh+lSqYQgGJilkYASKCsYtkEidC4zb2ohlZhyzNQEkSBO66SJc0ABOtvEMaLEmJoNalmtNkvBuw9IUgvCuUBiTPKt48K2sK8ZcY6O5gr2+bdqohl6nc+SuGjwit3dXTQaDWxvb6Pdbrv5pfsb6861o8Sdv5WkWnJtzxEdByvA0fzs+ibZZVhm3QPYrzqGHAMfcGV9SeQzmQzm5uZwyy234NSpUwiCwBEXngUUPFETGYahu7CZ5mnU1qoATv+maRsvVt3b23N361ArRM0Qw0FbUM02q++Mb25bYqjrSs0ufZiA82hsbHAvz/r6OpaXl7G+vo56vX5NgAnfGrXkVfvBtwZ93+veoORLBQUaMEXP3rjkE2xoHeNwy7A8h6Tf2Nvbw/Ly8quCIMgAODZXO07frBSGYbjX6/XeB+A3Rj18QxEcJt9CHSb5iNuM9HdcOYf57Hry8dXzKMmCWpXoKrjT/HlwAVGfBn1G+2VY/Sz4p2R8fX0dq6ur7nZ3lVzrQa8bvmpStGw9CFgHDacJwEVfIgjkZXKJRMKZXKgzcbfbdWFLwzB0Jm1xScGdtpN3/9B8rNfrORBB6XOlUsH09DTm5+exsLCAlZUV1Go11Go1Z5qg4wYMTBharVaE6BDUAbgmkEMQBE5arhJXlWaOjY25fsnn85icnEShUABwEH3IZ6rI+UIQ3+/3I47j7A8dIx7StMvXQAgEG1ZrwjL4PIMV9Ho9R8j1WUsECBToB6DtsuZ2HFMFmzrWKixQYkSJ9ezsLIrFotOUahlK5lVqa03ddD4riOX3lmgo+VLSZtcq+0XNoPibZBg4uHOHc5u+Xmq+as1Y+Ztt2t3dRb1edyF/GTyCWi0bUY5jHwRBJB9+rz5dXKcAIkRIx4PmhiQ71B5Ru5dKpRwBsv3u01jr5769WEkRzf4oDLBjqu3WseBz1DSmUim3ptgWBfp8Tx3TbRmcZ8lkEvl8HidOnHDBTRjCX/dA5kGBR7PZdP4xNny1toPjwr7V+pPAaFCBfv8gsIFPY6DmZLr/W82RnhfaJ5w/qv3Rc0O1oQBQq9WwurqKtbW1SOQ0qzWJE+TxO9/ftl0+gsLzQYUoSmxZd/18WNnDyIol4t9oOn/+fB/AQ4888sjvAVgE4L+V+zgdp2889QGsjNLcMB2J4ARB8AYAbwBw+omP/gPAO8Iw/O9PfJ8C8NsAXgFgEsDHAPxCGIZrkscpAH8A4IcBNAD8NwC/HIZhPIr8JiWfBGbY/0fN77DfxUl8rqcOvve5mWtEL99GrRu+SmZ9ZM8nGRrWHmoudnZ2sLKygrm5OZTL5Yipmi2LwNRKnUb1h0o9wzAaeACAIx4qobMmSTSjCMMDR2AfqfOBCQYSaLVaLtCAmgCxbrVaDVNTU5iamnIBGNbW1tBoNADgGjLBSG8KJhWUE0CyvKmpKUcI1LwGOIguRmA+NTWFXC4XccDf2tpCq9VCvV53d2So/5L+hGHoTJt0DPVA53skRJOTk65+BLkaHIHv0G+GoImgqNlsRiTxceCd40KTMtX4WEEAy9Q8LQC18539mEqlnNaOhJrAzkqZlcTb7zjezJdAS8nNqKTl+KS5VjCgc8ICR/p1sW/1b467BiggqaBGkpobmsXq3UuqkWEd7OWzmtinJH0aJdD2C32fms2mW4/7+/tOS6s+IXGkxvaXby9Sgsn9lu1RgOwTpikx0nZQI8u+YoAO1kPXvh1PJp2vyWQS5XIZ8/PzKBaLCMMw4vuiIDoIBhrd/f3BRc2VSsVpZeP2P7ab5IYh+mnyGASB0+oEwUBDR1NhX9I1q2VZYUEcsPeZptnx5Hm3t7eHra0tp7khKfX1bdxe4CM3hyUPzIv19Zmp6do/KinxnZuWBB32bB2WngCdhwKex+k4fSvSUTU4jwN4AMBXMFBD/hyAvw6C4O4wDP8DwO8A+DEAPwWgCuB/B/B/AnguAARBMAbg/wawCuAHMGD7fwRgD8CvfKON0TRswdrF7fv/esobVtawOn0jpGpYffSwpe+GHmb2eQWrcYeDD+T7yrbvkKw0Gg2srKxgcXHRhXEmyPGBPR5UKrWM27CH1UGBTBiGmJmZQT6fdwcKDzWCJh7GzFt9BrRNFrTQfKpWq6FarWJubs4RG/qF8JCi+U4ymUShUMD09DTy+Ty2t7ddu9Vhl5dfNhqNyGGn9vrNZhOJRMKZh0xOTrpQ2WpqROCaSCRcKFiOAX0mdnd33Q9NGlkf9Wthn6n5kdZP+4egglJu4OBmdppIMtKSlpXP5zE7O4tMJhNx3OdYqCMx5zDL5tzgdyyXpk06r31rb5itv2o36JjN/HQMbX0sAAvDMAKK9Te1QHEExwJkbYvW10rdfetYn1fpOcfIms1Ru0AzRPWD2tnZcZGxtB9Ue0NNAc2ElNxovyupiSPQ2m+qKa1Wq2g0GhHgavPX/ZL5Kpi0Ag4VolhywDyZrIldEBwEwNA+5vdM1IrqmGreSrbUTE7nRRgOtJCMnDYzM+N8DK15mGpIJiYmnMZdgwto1EI1leM79D0E4Pa3fn/gdzM1NYVkMunMB32kSetutVLDznRdK7oXWADP+qogpV6vOx9IrdMwPODDD7b+vjRszdl5Z60bVHuqgXi0TPvZMDL0ZOCM43ScvpPTkQhOGIb/l/nowWCg1flPQRA8DuA/A3hlGIb/HwAEQfAaAF8KguA/hWH4aQD/E4BzAF4UDrQ6/yMIgl8F8JtBELw9DMMuvoHkk66Y+o/82/e/L9nNZNg7o0hBXL0t8fGlYYSImyT9FChVVlClB6SasNnw0CrBvJ42srxut4v19XU89thjzjGeIEftrTVPbuYKsmy5tg8VgDBRu8BDhFokaiesNDedTjvzLw1dTEDNehIYsG9p87+xsYFyuYzJyUlHPAiGATgzHmAA9IrFIsrlMtbX153Tr5pqULNDgElgqECt2Ww6HytqZGieks/nkc1m3e3p7XY70jeMcMWLWa000UZ4Ag4iSvn8VDhWfFfJNn19NKodTdBICNnOIAhQLBaxtLSEXC7nLnVlMAASLI6HtbnXeuhFiXyWP3Y+KRDimCsYZJ+rCU0QBI7MWoLDpJ/xfYJ3XWcKuLmmlCD7SJklMdYET9eW/rAs1Yho/ficatY6nQ7W1tbcbe9BEEQuhiQx1kAl6lPAMMG8HJVmbBrZTc0j2T6f8IX1U5M+rmnWge91u11sbm5GonZxPTEkss5f1oPtVk0j9zTtf9884dzjj0bV0/FhGfV63UUjZP4E5D6thu/M4/epVAqzs7NYXFzE1NQUwvDgThtG2uP6ZNSzRCKBlZUVrK+vR8zT2NdWi8s9ZnZ2FkEQoFKpuD2M9+7k83mnEaZPjq45HUsVAKjwje2y7eR7dm35+kTveep0Os73plKpRLT1w5IlTrbPdTzsGo07R/Ud3bN03XFP8vnv2XRYsqN7wHE6TjdSum4fnGCgjfkpAFkAnwJwHkASwP/LZ8Iw/HIQBI8B+H4An37i9+dDMVnDwIztDwA8A8C/x5Q1iYHJG1Pe91ycOlryueYzK5UbtdDj8rD5aZ6HTT7TEytFOgzhUHDEAzWRSEQCC/g2U26c9vC1bTxMsgRK69lsNnH58mUUCgWMj49jdnbWHeZA9PZwK7GllFu1ObrJW1Ko9wrwtwIuOuZPTk46iX74hJSZfZdOp52tPyXDWgaBB4F1r9dDo9HA2toayuWya6f15+j1ei6Ubb/fRzqdRrFYRKlUcmRGwXoYhhH/BTUVonSaRJC+PBo9jKZ51NbweV6wV6vVnL09+0edy1XTpm3Q/9knPIgZWpefUYpLp1lqithOBfTsy4mJCUxNTaFcLiObzaLf72NmZgYrKytot9sO2PrMfdhv9AspFAqO6PNOEIJrznmOM9ugkeD4uRI6BWBBEEQuMiXIZt0493QNchwInrlWWEclagpqlRyxzUqIrTkLPyNoVr8wrhVd83aPYd/Safzxxx/HV7/6VVSrVSe9z+Vy2N3ddeHFdc0oUSFpTaVS2N3ddU7snPOcewwDrWTJ7jHadvW9aLfbEQBPckvtH02nNLy57Sv+zbmpyQJM9pNqgVRgYyXw7B8FxVp/EnwdH7bHEll7jun8L5fLuOmmm1AqlTA2NubmOkkp13UymXRa9UajgeXlZUeClMxoGUEQuPV58uRJ5PN5bGxsuL6n4KZUKrmAL3rfjSU27AMNesA1YM39dIyUjPsIipJ47j2sz6VLl7C6uur2eDuelsxYwqIpjnD4zmv93wo3VCCpew/3I7ZT62dTnNDRV0fb1uN0nG6EdGSCEwTBXRgQmhQGPjQ/GYbhF4Mg+B4A3TAMK+aVNQALT/y98MT/9nvIM770ywB+fVi9CCjocGxJx5D2XEMe+LnN3/7WdxXEDyt7GDEZJuXxEaY4yZCVANuNUokND1w1E7GhobVdcRuhBRtx7edBtLW1hYsXLzoAPTMzE4neppJN4CA6ltU+qZTLlq11Vknn/v7gYsmNjQ3s7++7e2sY7Yx1JJhnJDT1HVDQ6Tsw+v2Bc+3q6qpz3CfIZv01JDGlxlNTU5ifn3d+A0pIrQO5mnGpCY0FgUEwMIfb3Nx0hyd9jPr9vitHtTEKshXIWW2GlRwrmKT2i3UksKCpnBILar5U46MgmWVxjpCk0QzJSiF984AAiABhb28v4mxM3yUlIGNjY07LpIBC86fzdLlcdk7UHO9WqxURNGjenD9xAhECcms2pX1uI71x7undJ1aQwb1A55SaOaq0WPcPEqNKpYLl5WVcvnwZW1tbjijSebzRaES0G0psSHrT6TTS6bQjS41GIyKx515OEm8DXHA96x0hKsxh2SRbHGNdNwqO2W7WN85xn+/pvNTxsWRI9xK+z3KUSHPc1BSP/ilKoHVMNPE9qzHKZrM4ceIEZmZmMD4+7tYKSR6FRvSfyWQyCIIAKysr2NraclouFXCwfex/Rmebnp52PlcUqmSzWRQKBbTbbayvr0cc+Dk3dU5bARTL1Hb6BIH6vd2jWZYKVvb3B5eLXrlyBY8//ribf/pe3G9f8mEMixmsMM73nq5ttp37o5J1JXtWUBJXVz0Lh5V/nI7TjZKuR4PzKIDvAVAA8HIA/y0Iguc/qbW6Nv0XAP9V/s9j4A8Um4YRgaOkuPd8G4nv2VFE6XqJjv6veenz3ATVLtkSMkqp6R9iJcsWJMWRM9/GGUfmCD7W19edWRLvcqFpChAftcge5irljutjJSI84Cn9J8kpFosuNCr7gcCfEd8UGGof+Q6ubreLnZ0dVKtVZDIZZ4qjpETvuqFEOZ/POwdj4MAMTCV3Chh99wlpPawJGf2xNIyv9g1/LABk6GQlgTr+9uBVsyT2c61WQ7/f90Zds9oqkm724/r6uvu80+k44sAx0rliibhqESYnJ50WZnd315FXgj2ONdtsiSUQDQJAKfXc3BwymYwD3UoUdSxsxCrmq+aLCn5ZV36uZoDM15rv+D5TzZPPVJVt0Utdde3s7+9HLkJsNBouQAWDU9i9hoA0lUq5ucd9ptlsOiJPc0ldpyyTRFfnJeefmhxaQYbe6WN9tFQzwudVa60AW4khx4rjo5oyzc+3nrTf2S98VkGtnWdWym81bXyPz7O+NE2bnZ2NCFhUU868VaBQrVaxsrKCTqcTIUBKEtnferEt9xSSm1Qq5ebT1taWM1mz55sKMFSDyn1q2JzWflUhjT0zKVjhHsyoaVevXkW1Wr1m77Rnl91Xh53Dw7CGzhNfPkqSOZ/5jpoJsk0+E8dhZce1b1S9j9NxeiqmIxOccOAn89Un/n0kCIJnA/hFAH8OYCIIgmIY1eLMYxBUAE/8/j6T5bx8F1fmLgAXbmXYQubCHbVYfdKOOGnKqI3jKMmW5SMCwwjNqHZxo1PVPqU/NsCAPqv23T7tjf3fSsd8yddG/Y4XXk5MTLgLBfP5vAOItr4KFIADMGBNFfS3BYRqpsP8Vd1PqWcQBO4wtpJhbYe+q4cMD+5ms4mtra2If4mG4aUGgpdjAkAqlUKxWHQX49n22/63/Wp/22eosQvDA5M3PUz1Ofu+AkAFYcNs5Amc+B6BiEax4vxQCS3nZq/Xc5qCTqeDXC7nIqil02mXP+cC8/RpmPgc26ZESU2gFDRxvqj5nLY3k8mgVCphbm7ORajyjZv6gbCv7R7DckgEdA37tD12ThKE2n5UYK6/lfRaMqOJ79D3aW9vLzKnLTi146/9pYS30WhEwpizHLbRAnkmJTMcDyYKDKxvlWrAdM7yXdWC6hxQsuJ7lvWw68UKAaz2ToNs2H6zfcjxU42Gat9YB85tRvSbn59HNpuNaF45n9jnHP9+v+8uZG42m6481YDZucdLQUmg+v2+I/mJxMAsmj59vktz2Q579tgyrTBA+1cFB0pUlNhr5ERqs6mlIpGzZxST3VMPSwp8Z6POWfuston7gM8Ej/NYgxCMIle+8/c4HacbPT0Z9+AkMPCPeQSDaGgvBPBXABAEwR0ATmFg0oYnfj8YBMFcGIbrT3z2YgA1AF98EupyqGSBN9NhpTDD8j0qGRr1vCVAo6RDevCozbmNKqPv8JBXEzZfORZc+dobVz+fdIwS/ZWVFedwzNDBrDsPxbhxUWCuQI7J2qor6GPevDRS+4I+QZYMWuDhO1BZzzA80OLQ30BDYhNkMCiAamUoFSUJoyZB62hJh5YLwAvMKKVPJpOROaFAj3n7iL+CTz6rmgdtg4I+HQMCGtXe2DKYeIjTJ6nT6aBUKrnQ0jSp4U+3242AZh/I1PGkqQ7D4hIkWTKiYaXZN2xzNpvFzMwMpqenkclknHZQTdritF76twIyNWvjGCuR1mcUGOoeYAmRmqbpOqaJnZrRaYQ5HXN+Zi8EVi0hgbO+o8SJY07tHNtl16rtb7u2dQxUs2jJmWoGreZG+0lJoiX2zJvmlbwYVecp+1jXt6493cM4fuxD7gGqWdM9luOk2iFrjsZ68B6rmZkZlMtlBRVwAAAgAElEQVRlF9mP/a/zRceJlxRvb29HfBC5lu2YJBKD+6xo9kWTTwqoOp0OKpWKi05mgb1dF0oadVzsnPCR9bh9mPmoH+rOzk7kzhs7X2x5Wl/9fBiZ0HfihIS+PNkWK6DQ71RLpxrAUWTL16bjdJxu5HTUe3D+C4D/DuAxDMzEXgngBQB+NAzDahAE7wPwX4Mg2MaAtPxvAD4VDiKoAcDHMSAyHwiC4Jcw8Lt5CMD/EQ60NN/UpIdF3PearmcziNsEfYfzsLKGSZLi8lPgQ/MekhYrnbRACEDkcI2rg68uhyWDvjbywOFhSWdytbu2/g9xkk4NPOCT+vFvC+RZDx52jEBG0KS+N4lEwgvKbbu0nrxFnaYiBGEM+qBEg2Alk8lECI7mxzYomNLfWgdNJL4EJOr8bsG1BdOWYOtcI4AgkCSgZfAG3kWi0mPrcG7nE8vjgU4yRK2PEqhUKuW0CXRuJmm1c5l9Tc0DNWdcL+oMr2CSFzfa/uZ9JQzxTUk4AEdyLNjVOap9y/aQuBBMs1yVgJOoKnmxZICgWL9XYsz/6SSuoXODIIiAeOZFYqM+RpQ223Vo+5P9T/CsBEO1Wj5BjpqIsT7sM/uZXZsW0NPXkO8w8X0KV7RPdX3SzIlrU/NhW/R5ndf2/FEzLvqvWBLKtjA6nQpkdD8DBkQvl8u5Ocl9jO3hmmddmTcvQ61UKs6HhqaaStD0R4UlXNMcp2aziZ2dHReKWvuHY8I87fmk+4odS+1j+z7nkN2juLb7/cHdY2tra1hZWcHOzo4j8r6zSYVaOi/tuWL/t3UYluz3PoLj+17XzzBM4+u/43ScvlvSUTU4cxjcW7OIwT03n8OA3Pw/T3z/v2Bw0+hfQS765MthGPaCIHgZBlHTPgWgicFFn7/2DbTBm3yH5CjJi9Qz8r7v+VF5+Ta4UcQq7tnDSICYFMSqdMtKjq0EU6W7thzduH1lWlClz1hSZYFsrzdwNN/Y2AAA5HI5d0mlEhZLbPg/QbAeuhYoxdVdHYlJZIIgwMbGBiqVijvgAUTIiA3CoJI0a7oFwF0kNz4+7vyMSAJUW8B3WNdsNuuCPigIsHPAAip76OpBT18gttd3iCpoUuAKHJh42TlCE0jg4FLB6elpZLNZdDodrK6uRi45VVMUJY0KXhSwsJ9YfrFYRBAMLgzkXUKTk5PY3d1Fq9WKRB7S+cu8eT9Qs9l0BJbEzzqNq1mIziGSK4Yb57vZbNZJ1DUMtvaXgjglOvQPUgd7fs75yrLVR8H2E4E681X/EfVZSqfTyOVyyGazqNVqSCQSzg9NfcVYNu942trauoYY61xSUmPnD+eJklQde5+AgvVg2xXgsU06RnyeeXAMqWUgwbf1SCaTSKVSTgOoJplKgJLJpJs3VvOt+4/OPR8pGxsbc6GbaSapSfcSzk8Fv7oPJRKD+69mZ2cxNzeHQqHgxo1rjHukajX29/fRbDbdJZfsB5rQ6ZrVfYZmxWEYOv+aXq+HSqXifA+5p6qJHJNqsfmMknzfecH3dK5bs0+tI/MjMVxeXsalS5dc+Ou4PVWTj/z4vtPPdR7a/K2QwT6nJFIFBfY7NQ+Ns9DQcuMwzSgSdpyO01M1HfUenP884vsOgP/5iZ+4Zy4DeOlRyj1KojQ2puzIYrffDftfU1weh012wxuVj90EfcRNN3O1f7aR05gURIXhQRhWn8273Xhtne2GbYGP3VTtM8AA+GxtbeFLX/oSxsfHcfr0aXdPDg8L1s9XDwV6anZhD0ntJzXZYJ50xGWIX+bJz622hWURDJAoKqns9we+OBsbG+j3+5ieno6ANgvGg2AQ8YchkZmHElD7Ww83BcxKbqamppDL5QAgEoZa+4rPsm46B1SCTtBjNWuJRALlchm33HILFhcXMT4+ju3tbWxvb6PT6bh+UoKlpELLY38o4WCdWQeag1m/JgXcrDP7kEEjrI8acBCwQjUvlmAr0J2fn3d+Dkz0S2AdeDeRSs75Q0BtfW74w/apiaL2lUrZOW/YfyQOHCcCR4ZjTiaTKJVKKJVKEaLHuRIEg/tMFKBzXhCIW/Kha5Frg30ehtFw3grefUIcCx45VhxjBfzsC50Duu8pMOTnOq/4fy6XQy6Xw+bmZqQ+SqR4h4vmoc7zuu60LUpKlLxSA0mNIv3yOPc4n6g54l1WnLf0IWE0s7m5OaeR0/apxpR7P7UtDGdO4mIFHErugyBw9U0kEi7kNk1Jt7e33ZzX/Yllcxx0b6MpnGpuWJ72oRV2xFkckMDpBdfLy8u4ePEiVlZWronm5kvcz3xYgHNZ26Rz1kfQ+Z7uoxaTWHKvZE/7i3NDI01abODLW5P9P87f7Tgdp6dqejJ8cL5j02EkMnFkYVjSwzIu77jNLa7suA1xWH42qd2+mlD4AL5u/tbc4rDkju2x7dJNOq6PfGC22+26oAP9fh8nT57E9PS0C9NM0hZniqVgW0mOrx+B6KVpWhdN6ldg26BSUOAgZC+/1z6l9LtarTqprZInNYMjqJiYmHA+HQQyak6hwIoSXp+5WiKRcPdb9PsDR/Fms+m+U7tu2w9sk88sTwEb655KpbC0tIT5+XkUi0VH7rRtqq2iLxDvy1GpLvvfjg/JiJpf6dgzH46DzhXVAil5Zp/xPdUmMD8FIMBA23jy5EmUSiVnLsb+5QWrGnpa9w0SCdWysG8I0BkFjD+sg44VwTHLsdJv1RTxb84ZhmvWIBB8l1HP2F+sN0Ngq6TcglDNR6X+1mzLmu/xPc5lzj2aERIYWuGBaqlV0KFRC+2+2+/3XV9xfXe73YgPCdukWgYlTUrMuI+omS/LYD46L9XfiUEbSIKtpsb6YjEoC801OV7U3KhZmvaTEmyS5263Gwk0olobklQrPNFxUgEDzexotqj7lJ4t+j/npBJ7PjfsrNN5qVYIbCcjpnH8dnZ2cOnSJaysrEQuGbVlKlGxZ53tA0sgNPmEeL72xJ1RWlYymYxoXTkP2FbdN2zSM9rWzeKC43ScbrR0QxOcwyYL0n1/+4iQ/o4jBfbzYeRB8+OzcRu93Vx5WPPAVt8Omy8PAAsQ4wiJrZ8+Z3+PkhLZzzWvfn9wd8zKyoo7PHu9HmZnZ92FfwSparOtUln9URtlLdf+r47aav5hwTwljVZixzw4DpooJez3+y4MNOtl/To0mhkPLgZfoJR0b28vciGdAicedNRgsA94uzwBM6XEfJd9pNJxfk4ApeMb9zcl/4zapOYjTEokOF81MIFK3y3IsG3lj+aryRIKa9ZFEw9Kn23bFTTpnArDQahq3g5fKBQiYXhp3sQ7X1RLxz6zTvgAInfGcLypNSSp0/HiOuddLwS+NGdTB3EmanI4btQWKJjmWCQSg3uZKI2nfwejZOnlshwjXW+6Lu1cZT+qhszuKxxfrh2719g1z+/Uf4naDSaWR58tnW9sd6FQQL1ed+vEEjif0EnXrI8E8XsgGpKZY8660A9QSRLbz7XNeai+YrlcDrOzs05zo/PKag7Z3zq/9Azx7fG633CehOFBKG4l4/qcbYeuTSYbZc8Cb62Hkkjf3GE7VDtbq9Xw+OOP4+rVqxHtm032TLf7m+9ZTRY36Gf2f9+7Nl8+q+Om/amCKasZHXaOH5OZ4/Tdkm54gjNsocd9Fydp8UlwhuXh28x0w/MdlHH19BEpBdl6OOnBabUdKhEkgBtFarQ9h+2zwxIl+w7NHFZXB1HDeSjOz89fY3qo0l+fRIoHgiUdPskbD2Pm6zvQ1CRBD3xrEqflWZBHe3f6w1gtAZMSplQq5YAowSbrrGOu4MUe9uqgryBJ62mJi52XVmOjUl4GRqD/wsbGhrvkUkGmgi6+S+0VCYCNWBY3Xno/x6j5x7KoKVJAq1Jq1kHHxeadSAzudZmZmcH8/DwymQyAAz+kMBxE5qN2hH2iJEmJuc4p5sEfNctkUqKkY8Hx7fV6yGQyjujoOLMsgiFqhniJoLaV0fwajQaq1SrCcGAGxeARCmbtuwRfqrXRNa+mZTrndA1YHzzNLw4o6rqP07pSc6iAUX/Gx8ddREfVHLFOSmLsfNb1r+tF2+S7VJlrWIUXTCyHGimdP8BBWPlCoeAIvNZL1xrrpmeEavc4L+x5o21RsM08OPd8FgNBEHjNnywhtsnOeZbv09hqPdm/YTjwDVpfX8fVq1edmaydd7ZOvvL5nSUsvjrbue4757QsO5d1XSvJYdL5YjVfNtk6H5Ob4/TdlG5IgjNqAzrMZ3H52neGbVZxB7D9btjmdJj68HDi4aXAyPeOjVBjDyXbxsNsnr7PNQ9fPj5pFTA4zGq1mqsbtR3T09MR0GN9UhQYWLAxKhFYq4TMV18enHHElZ+ruRpwAHIIJhuNRuTwUn8JNSdhvXjLeDqddlGJaPqkpnsEN1Z6q2ZOvrlrTboURPrGn88zihIJGwBsbm6iVqshl8shn89fo02kVonl0QSJZlvqG2bNoOxY2LmvvkyWwBEMkCyqlktN56x2zK5VBotYXFxEuVxGMpl0Zjosm5oBmnSl02k39nbeKGAhYNRLC7Vs2weqdVK/BGpb1AyPmgASUuAgeAYBu9UiZjIZTE9Pu2AJGpSgXq9H5pAFdtqPSuKVhNh3+UwYhpE5rWOhc4HkVM112Be848iWo2Otl3sGQeD6gw70ug4VkOs685FwEvA4LTq1MSQJrLMNi6/l8TmOOTW8jDyZyWQi5Ib9o3Xn+xqMQp/RuRV3RnHdqNbTmlD55qv9Lk44YcdZ92Q1TWPi36q1BAYBPra3t7G8vIyVlZVrggoMS1bY48MUcefeYYiQLx/NTzWLvvHRAAv2HLV15+e+fj4s9jlOx+mpmG5IgjNK0xC3UdlNM+5zfcd+7vtMy/xGJSj2fR6klFrpxudrJw86Hhjq4O6TvBEAHmWj1v/jpFfDEoEWzTV4mCeTSRcZSJOaW/HgVYDg00T4NBRKYJhXHICzUnFN/M7eD6PmWp1OB0Fw4NBL6SyBMgmMmqpls1lks1m0Wi0H3lge+4ASXu0jdebXPlZwreOiEmIFdSo1ZR/QT4h+A61WC61WKxIRqt/vRySnNI/kM6wX684ITpyTBIJqQqfAj2UwD5IZamc0b5II9gdNn+yc8M2PMAydRm1+fh5nzpxBOp1Gp9NxxEX7kuOdTCaRy+WciaHmqwECKJnWuaKmkayDtteCIr04lRJ9kslut+vu+6E2VAG6kkMlFnNzc2g2m+7GdxJXBs3guzr3VbigZMDuqToHdR2yDkqKLdlR7aRvXmt7tK/UbFTLAw40G8xb14zta1umHX8+p+aWFpBagQIJGZ+L06zQ/JGmadPT00gmk5FxUBM/K0BRDabvfIrbt3Uf0XUZd/7pd2oqZ9um7+h4aX2VFOqc4Q8FI0EwEH7t7Ozg6tWruHLlCnZ2diJE1mIES859bdH+0aR9pnnbPC3JiCMmTGpurCZouua4N6imDrj2olhf/9q6H6fjdKOlG5Lg0F7cR0J8n/kWfdxm5wPxcSluMxv2nO9g8UmEeEAQwDBcpzrV6ntMal5AMxifnbkte1gb+Bw3VQXAto1xeVigykOsXq9H6njrrbe66GoqYbXgmwdhr9eLhNyNk2L55oVPcmwPK9suC4bVdIX1ZL3ULIjljY2NRUIuMx9qcaamptDpdBw4p7aOwJ9tpQSbwJ71VaCsfkxaf3VoVpDJw5Vkk468BJ/tdhvNZhOdTgepVCoSpYi+Nq1WC2EYIp/PI51OXxN9iloQRlyzAIr9pE7a1ibfmghqe+14UvpMTZSCKLZXgVk6ncbs7CzOnDmD06dPu/5nvTRaGtcYiaA6nOu6JfHySe/Z3z7ApPNNzbd471CtVsPc3JzTrJGA6jt8j+Bb1x8d74vFIs6cOYPLly8jkUigWCxiZmYGV69ejbSXdVNSoeawJGDat0pg+MPQt9zLVBvt29N8xEP3H5+gx/aZAu5+v+/8mXSOKWGz+4HeDaTaN11jWjeWpxo6HwFQIYeuz4mJCRQKBUxPT2N+fh7pdDqSh2pH7P1GPqEN62U11/q8gmbNS8eR+ViSqWZwth+1Ly0w53pU0s++1HVBIV8QDDShGxsbuHz5Mr7+9a9jdXU1cnFt3LyxBHvUuef7zu6ncc+Mek7PMY2MaPdC+vpxfFVjOKx++r2v34/TcboR0g1JcOKSBTf8O24DG7axXY/Ew0eaDpuPD0gTaHIDtOp7Kw2jJsDeYq910x9+7gNVvk1agbqv7oeRZCk4ZBm7u7tYXV11JjZnzpzB7OysC8ULwEni9RBgX1iSw3LiAFCcHTrbaiXRSoS0jUr0ePgq+KEmgUCE4E7NPhRATUxMIJ/PO3OhTqeDTqfjohaxHJav7bVklfVSKTYJmZq8aZvYryRbKi2l/wD7XIkJQyETONKHo9PpREy7VAujYEhNv5gXHd2pubSmeQQ6VvvE8dPx1X5gn1GSr303MTGBcrmM2267DefPn0cmk8Ha2to1Zk5cW3ofFe/n6ff7SKfTKBQKLvRvv99HpVKJCBw0PzWp4mfWFMm2iWQyCAKnwdnf30cmk4kEVdBoWAoedQ+o1WqYmZnBqVOnsL6+jjAM0Wq1sLa2hkuXLjkyThKgWgjmQaLD/lUyxTYSpI6Pj2N3dxftdtvNDxtUhHsZiYiGJVZhgi8p4eCa5liRoKTTaRcKWYVlqkXSfU7N/qyE3RIJ7XdL8rR9LEPL4x6Rz+cxPT2NmZkZF6Lcvscy1WdIiZwm3QstsFeyqvuzaj1VK2Tz0f5RoY/u1T6AzTWowSTsWcR89Vzb2trCxYsX3X03FKpYAuH7bc+iYeez1onJ4gl9X4meLc/XPn2Xa0fPNX2H31lrDN9Y6rq7HhxznI7TUyXdsATHB8zt90y+jUq/e7KSLcdHduI2R/2fbVNAS3Ljs/nWQ02l88PskY9SD997R+l7/c3Dj9I5Hn67u7vY2NhwUvLd3V0sLi5iamrKmXmplM+arakZi4II/X9U/2tf+r6zn+kctG0igVETEtYnnU47fxkgesFhKpVCNptFu92O+K5Qa8nIbGq+Q0Cr42al1zz4VGNhAQ4/V4k8+9WnQeFnjOy1v7+PfD7vbm7f2dlxpMdKgVX7wXZwLmh91DxDQRvz8wEn1RaMj49HzDRVMq1EN5lMYnp6GrfeeivuuecenDhxApVKJRLMQzUiSrL7/UHo6EqlgrGxMeTzeeTzeaeJ5FhyTSr4t3NW2xcnKOBzdGLXMc9kMi4sMPueWjggekEnNQz9fh/b29uYnp7G0tKSG7+NjQ2srq66uaWmVKyH+vaofwQAR05IalR7pHXm3FTCynEn0SYptcA6DrDrPGX5nAv0z9IQ3LqWScSA6GWiDCSh48/v4rTHlmgoAOX85N6QSAx810qlEmZnZzEzM4NcLucIjM5rXSPWL80KZHTN236y/cl3dD6q5kufVTCvzvB2nlqyzvqS8FvzR/Ybx41Cjv39fVSrVVy6dAmPPfYYNjc3nVAhLsUJ2rQdth/i3vG9q8lHIuPKsM+xvTq3lCTqPFGh1iiMMay+x+k4PdXTDUtwbNLNKQ642uee7PIPk2cccNaDQQkOpdOW3GhSgmM3P/3hs3H1GQX+D9MWX93sO76+6vf7LjoX/ycI5SHP/JTc6PsK9vjbd+iOqrevr+IkZnqI87eCIyVeOj6UJquUk0Ahn887ckOn6P39wV0yBJ92ztj6KsCziXNI+5RtUSKhWgaVFGs+BL4TExOOhDGSXLvdjoBLK81Wabke5qrxIakj0VNptbbFkk0Co0wmEwGmLJvPEzgUCgWcPn0a586dw+nTp7G7u4t6ve76XwGH+jeQyFarVXQ6HWdKWigUMDMz49ZmpVKJmMfp3NGIZD4gqnNQ14+adhJgk9CEYRghvuqLYcE572Cq1WooFouYnp7G/v4+6vU6HnvsMUfy4oQdrJsGQ2D/cF2qiQ2fscIaJZ4k8GEYot1uR8gc229JvNZJBSkaUa3X67lw7hQmNBoNF93MEgTmGYahMznVvUDHQ/uX64tzzK49Je2cq5OTk8jn887nJpPJRKItKonS+a97pe53PpDN3zoHtK3WlEv7W/P0kcm4ftO8OQZcC/Z7FbKoWVqvN4i+eeXKFVy6dMmRG6vFizuHbZtGnXW63uPOzMMQCUtofGVr/1rzSEt47H55nI7Td3O6YQmOmgZoOuyiH7YZDdvY4kiMb+P0AQKf5Mg+o2SFwMEXXYbP6+aoh74F80dpz6h0lM01jij4SEq73Y44N4+Pj+PEiRMuJC7f5UFp+9CGF7X+A5YYDKuP1nnYgafttFJudSbWZ5iP1agkEgM/kKmpqchdKWEYukv61LxKARP/Vzt92+9KkBVMq8ZD55C+q6CSfcD+1gsvedGoBo9g2XpQa9lWo0dTIob0JRhW7YMdEzU1YlusL4+OFduaTqdx8uRJnDt3DnfccQdyuRzW19ddH2t/sB7s2263i3a77SI4cUxzuRzK5bIjROPjBxdFar1ZF9VuaN9YSS77SCXq7M8wDCPaEt5f0u8PzOZsvysY39/fR6PRcAKF+fl5dLtdLC8vo1aruaiA2n/8retBTeFUi6nSbSWKfFaj6lFIkEqlEASBu69G5yKfUfKp4I9J54QN8qD36bBOVjsJwJlRkogyP7tGdEx03G1YdCUr3A9IbmZmZpxZmvog2j5k4nzScdU0ao/XfdASRR+Z0/csKPcBd+1L1V76tJhMunZZh2azibW1NVy+fBlra2vu8lQfgfCtr6OmYXu9PUtssp9bXKHfW5Js32Ff6XwZVqbvjD8mQsfpRk03LMHRRQ9cv72p3Qh1Q7CbzmEkORY4DyvP9y7BngIVlXZq/XzvEiypXbOtiz0UjkoS7UEY186jfM7U6/Wc2QGlxhMTE5ibm3MHHsGQ1lX7nRoAggn2qU9Kpnn4Dp44csYy7fwh0FQ/BSVjlEha8zltA0MA67i3Wi1n7qR33ah5h48s2UPPAje2kVoY3n/CfO2cY/34HetHEzWSm3a77Z5Raa32qRIbPbyVDABwl8CyH3x9T98F206SLH6miZGqFhYWcOedd+KZz3wmTpw4gUajgWaz6cYxCA4ioLFfJycnEQQB2u02Wq2WI0N8bnJyElNTUwAGJIhmlrYv7VqLM3NRSS4T+4rrgv2splj9/sFdJry3R/tWx3h3dxfb29vY29tzvkjVahUbGxu4cuVKxBxIyYjOXV0jHHvVpujcZ3stOWD/FgoF9Ho9VCqVyJplHvTJUOGO1YCRaOm85x7BZzgHtT9UM+YLRKD5MU8lU8xfzYZtXdlWkvhSqeTM0miKqu3QdukcGQa07fvaTjsfh5EUO09VmOMrV4UV3Kc0ut0ockNyF4YDDd7W1hYee+wxPP7446jVam69+eadb2+PMztmHnFn4qjzyu7dcYQoDqfE9QWfUbNWn/bGtvWY4Byn76Z0wxIcJt/i9ZEA328f0bCSm1Gbgz43imT5iIaWax1xgyBwkbSUsDBZLRZ/q7/BMDDlA+/2c1/9R/XRsEPBRxrtJk1Njt4DEIYhZmdnnVSXQEEdtrUMkhwN0qCE2JoJadm2nnH9FNc/aqbGslSKqYTLOu4ypVIplMvliFMx7zihCZINn8uyVOqrIJjfa5+puZUGFbAR1jSptojaDIZJ1ssoSbbVdFBJGYMRtNtt1y8McADAkSSSXHWCVvM59WXQddhut10ocg3IwLU2OTmJmZkZ3H333fjBH/xBzM/Po91uY2VlBc1m0wtiOfdoNkftTbfbjYBX7X9GwmIIcI32ZtvC/iWoYR6+dc/7d0i0ms2mCxOt0b44Jq1WC8Vi8ZrgFHZs2GeLi4t47nOfi729PfzTP/0Trly54tqq+5ElFqrlUwCuvzlmaham7zNYxdjYGCqVCtrtdqT/gSiJYN+zLZxP7Au+y3mu/j4UOrD9uq8q4VQtoGpO2YcUEIyNjbk7hFgmn1V/FJadyWRQKBRQLpedD1vc3sM66d6uxNHuyXHkRsdG8yep0+/sOvDl6SMVltxYB3k7PzSYAPtdg11cvHgRm5ub12hufOcJf1TbbFMcaRyW4s4F+7fFH77nmJ/2r5IYfq6+itpGWx9bx2Nic5xu9HTDExyfNGOYJIr/83n7mf3f96zv72EbymHIAw8o3eAVLNo26CZOwExg5DNl8/VRnNTKd2jZPo3rA75/WOJp26Op1+tha2sLX/7yl7G3t4enPe1pWFhYcCCA0ZisdJY/6jegIMOWq7/1ILe29NpvClII2PQ9jifJlh5kCoqs2Z2OxcTEBIrFonue0nUCQ3vQETgrkEulUg4oEuT6LonVw5Rlq0mP1ov9qY7jDGPLPiaI7Ha7jpioHw7bz4ALBH9Wc8nDnSRKneRZVhAE13zONmndw/DAgZwagmc/+9l46UtfimKxiI2NDSwvLzvzOiVOmmiKV6vVnEM/y0gmk0in09je3saVK1dQLBaRy+WwuLiIubk5VKvVyNxhYv3sHNEfO2dLpRIKhQLCMHR+JN1uF8lkEvl83kV2Y0Q/jv3U1FTkbqPd3d1r1kCz2cSVK1dw8uRJ/PAP/zCKxSI+/elP49FHH8Xm5iY6nY7rf9vnrKuaGBHcKsDXyFH0k2J+3W4XzWYTU1NTyOVyEW2hzlfm6duHLShX8swIdNQWcb7rvqomwgr81eyS4J1zUNehjqlqmNTPZGpqCtPT05idnUW5XHaaQdbZN0e0H3zBDeKENvZ7S2QsaLZnoPYl22GJBJ9VfzNfRE99liZ7jHTH9d9oNHD16lVcunQJly9fdmaj9n0m1cSpsMB+ZtvmIy127tj2278PQ4zs3yx3b28vEh0zjniy36mhtUI6PaNsO4/TcboR0w1NcPQwAuIlF3YTsnboPvAQJ6nRfHybR1z5cYCf33ODJ5iyITR99dANzyd99xEiX7/46hjXdtvuOCLpey+uDvYzSzKq1SouXhG8FnUAACAASURBVLzoHL+XlpYwPT3tIjSxv1T6ysT+ozScWjI1E2HdrSTZR+6sxMzOOY4JcGCCxfrxsI8zNaADveZPEKTmbgQtjLpmx0a1MvyeYFzNz4ADgGR9HNRfRCXynGuUjjN6WCKRQL1ed8DXp3lQCXsQBO5mdpJzS3AYJhsAJicnkc1mUSqVIkEIFPDqWqBpFuvCcWAZ09PTuPPOO/GSl7wE8/PzWF5extraGur1ugP81qdHzY0qlYp7lmPBABHJZBLVahV7e3vY3NzE4uIiZmdncfr0aSwvLzu/GM4/XxQpHU/fupqYmMDp06eRTCbRarVQr9edloMXdXLOq1kj7wvZ29tz0d4KhUJEa8p+bbfbuHz5MhYWFnDu3DmUy2WcOnUKjzzyCL72ta+5+5p0rgIHF20qWOU4sp261jRYAtvHumazWUfErBDBmprafcNHvkiESeKpLaKflyYdFyXzXHc052y3227vtQEWVAil/TQ+Pu7uuSmXyygWi86MkUnnniV2dp/xCW6GCel03ul39h0796ygSJ/TNcmfYcEk2Jc8+/Qy60ajgcceewwXL17E8vIytre3XXAVzce21abDCNp8wj6uzWF7vS9/3/+jSJAlwSRqVnvM/lKybetyTG6O03dTuqEJTpyDpW9xD9uU7CZmUxyRGSY5s//HESdLboIgcBJXn5RG3+OBQ42PmgIcdsM/ysFg22/bE5eH3eAteRpV1v7+Pmq1Gq5cuYJOp4Nms4lut4uFhQUnfSXgptmKagp4WKgNPW3+1WzJJ1mPa5tv7C1h4W8lL+onwe+thI715/cEQwQ21WrVhU210lkSqF6v55yzx8bGIveIaL1YrpruWA2gEjLWm2RrfHzcSds1fyVFVgMSBAPTnGw2e80lj+rfYi85DYIDsyyGx1awx3fZDjue1K7Mz8/j7NmzeN7znoelpSWsr6+7+zQU+KopofrFNZtNZ6qlxC+Xy7noV/3+4BJb9sv4+Djm5uawsLCA3d1dF5RAx17JeRxYIbgpl8uYmZlBo9HAzs6OI5ckFplMxuWhY8A1wghxnU7HaQ5yuZwL3auEaH19Hfv7+ygUCrjnnntQKpXwz//8z7hw4YLTdtG8SNeF9bVRbQPnhwJ2ra81V+S6Z38RGNtgG76kxJr7A+c514oNZa3EXn/rWpmcnEQYhtfcd6V15DusAzX0vOdGzdJ8ZNe3F9k8de5Y4M9kwbDOsWFCvrizUvcP1pu/1TRNNXd2TqtJNvuPPpjLy8v42te+hqtXr6JSqbhAKzb5CKS2LU5wp4IDH4nRZ2y/Hib5+tA3LvZv1UZq+5gXMPyONx1TK+Q8TsfpRks3NMHRDejJWsh2EzvqphYHIFlf/rbkxjoK6/0AcWVpFCAAkQPlsO06bN/5gNcosjQMrB1lzAgiarVaJAoSAMzNzSGVSkWCCKi5kpWA87dqyywA97VjGIDy1dce5JrUtMaXbFkE3aVSKTJ3aHJkpa18n0RFTUSsSQ/bz7nE93zgiICNgI7PMKSwdV63vigqAde7jQgmdS34botvt9tIJAb3l3B9qMTcRmwjgaXWJpfLYWFhAXfccQfuuecenD59GpVKBVevXkW1Wo1EaLPAi23odrsRnxCORzKZdFqaZDLpLjll36fTaczOzmJpacmZjfGCwjiJsg8IjY2NIZ1OY3FxEWEYolKpuPr8/+x9WXNcR3J1NvYGGvtCQhIpilrGcng88+CYsB0O23/aP8J+cPhzhJeY0YiiSOxoAN2NXoBuoL8H+hRPH2TWvU1JY0u4GYEAcG8tWfs5WVl1mbCvrKykD40y2AFx0bptNBpptwRtgOuZoefa2prV63X78ssvk8X9j3/8o7VarZQHyChcz/AccxQ/5/6HNtNdE95lwVXRSA+ugrrzYvb+9kL9WwU75ePxOBEcj2jo3/gfuz9M3ngcYPxjvKD91tfXbXNzM10ogPJ7QD0ycnk6TSPeGuDN7TnDFLd79KPkAECev3ODeuv1enZ8fGyvXr2aIDdFa1qktzeWVHTscZq6bkT5e3Gi+ov0yZE1Ntgx4fLarpJKHov8ogkOSxFg1sGvi0VZsD1tPhEZMLMJUAdLorcL44EdBoMcN2e1+dCJMLI8Rfl46ReRoTLxhsNhsnwzqNnZ2UmAGUQRCyu7MbG1kcVzGdP8PXDhiZINTh96MAnlvBW08KIOAL+5uTlxMxsDPPQTtTizC5jmgff4fgpAMtLiQ9Uog4JWHLZHedUdha2NIAuzs7Pppi/og7MxtVpt4pIJtBl2FgDCAd6RLsYDE1yQD1x9/Od//uf2l3/5l/bFF1/YaDSyV69epYPLWlfIB9+2gTsePgDKfWJubs52d3fts88+s5ubm/SR0/H43e1kJycntrCwYNvb2ynuwcHBRL1xnaFOeOyD3O3t7dmTJ0+s3W7b1dVV2kXB1cr1ej1d4LC8vDxBpmZmZiY+sHh7e2utVitdELGxsWH1et3q9bqNx+MUttvtpnG3sbFhX3/9tZm9MxS8fv061Ql2tSCoAyYA/BtlhPVexwXmNzYCsbA1mwkG0tUxxPGgH18breTEzCaIL8/n9/fvPqQKAwHGB+86oq/zXL+2tmYbGxu2urrq3q7H4wVzkrcToP1FjRIs+i4HjtUAxWNY50ieh1BmNbR4bQZiA3KLuf3s7My+/fZb+/77763ZbE7s3DBZ8cpatH4UrflqvMsZ9bz6yuWtYb04qGdeEzgeG1Q8V8ayGKaSSn4p8osnOGoNhOgE7U3aUfhcXtPqpnngN2/Pz8/PT+zcsGuVpoOJj4kRFhm+LUjrxbNsqUR1EqUXkTkNo5Ywb3GKttw13bu7uwToAHg///xz293dTR/GwwLBPvGcH5NAb8EsEl2kvHZCHgwMsLDjPYSBE1znVEA8cJ0sCz5cqECD09dvcUAv9EHdCUQ89C8AOOzuQE8Ak/F4PLH7AndAWOzZ/Qr6XV9fp/RYD7h3AaiyZXs8Hie3JBYFnqjLWq2W3NJ+/etf2+9+9zt79uyZjUYj++abb9I3l9A+PDZBEGZnZ+36+tra7XYCXXq+Ym5uzpaXl21zc3PCZavb7Vqv17Ner2dHR0f2/Plze/nypdXrdev1enZ9fZ3qmkkp/0a/WlhYsJ2dHfvVr35l9Xrd3r59m87UYFes0WjY5uamra6uprM4w+HQzs7ObDQa2cLCgi0tLU2MH5x5AEEB+F5aWpo4s8VttrOzY7/97W+t0WjYv//7v9u3335rp6enE31VbyRD3eqOCggA78zyrhn+59sAx+N3FxPouMKYZLCN/oF+zAYHJlW8k8DnIJAGu7DBRRK3oHkXJuA9yDL609bWlm1ubrrkxnM1Y3Cr522KyE1unuZ5RsG86sGkhePxnKNrEJ8d4mfseVCrvfvO0dXVlR0fH9vr16/t1atXdnl5+eAqaIwT1YnncG/dj8rK/+t6UGTY8tZEj8BreO8d/tczVdqOqGPUW0VsKnns8osnODqp6TueBD90ItBJaVoipPHZmsduQeyT7y00GhcgE2BFb6vJlUWfcZ5RObxyFoUvIhC6CER1DB2xUA0GAzs5OUkHrD/77DP76KOPbGtra+ImOj77AmCFxYN3QLDg8vXOrIf2sciq6BE5XtzH43HaZfAsiAAxutCyNXR5ednMLPWfq6uriV0dkGWAXwAsBhwQnFsBkO/1ehOkjBdeBljYUbq7u7N+v2/z8/MJWPf7/QTycEZH+4N3wxoujej3+xPfKYHeHB7lwrdQ8MOuZWbvLifY29uzv/7rv7a/+7u/s7W1Nbu8vLRXr17ZxcVFSp93sVAfu7u7ZmZ2dHRkR0dHdnl5mW510/58e3trR0dH9v3339vTp0/T1+hxjfTV1VU6lL+1tWX1ej25x2FXygPVPC4bjYa9fPnSfv3rX9s333xjZmZra2sJXMNdCuRmcXExucetra2lHQXebcAuWrvdtuFwaBcXF9br9Wx9fd329vZsa2vLLi4uEmFGnPPzc6vVavarX/0queb953/+p33zzTfW6XQeuIjWarVUv8Ph0AaDQSISaEucucEhfpAcHrs8X6L/KuBn8g7ixP0ZZHRxcTGlwXkwkWHhHR6MsW63azc3N7a0tJR2+nCTHc6DgVQ2Gg1bX1+3jY0NW1paekAWoB8IIq8bTMKhM96jXVW4Xsqsfbk1APMl/61rq+6M8/ynLqggpHBJwzdujo6OrNVqTeyicT0osYiIoDcX69oSkT/NU+tC53ytQ2+t0zVC0+cxr+WB4MyYkmJOi3FDRXwq+aXLL57gAPhEwBQSAWydJLz4kUXMA+MRmGfwyjs3tVotXSjALmZIky1WDMR414d96qFDpH9Oosnam3yL0s5N8t4CE1kNo3zG43fuM7hhDR8kfP78uX3yySe2urqaLMMgMXoLD9K5v79PVvnxePJwcG5xNXtvcfXKj7Q5DQZ07FeNPL065J0MCPz+0Zeur69tMBikcuDQu97ehjLD5Qu6AHygHZhkoS4YAOLwN8LPzc3ZysqKraysWL/ft1arlb5jgz7PZ3sA4vB+cXExfUMEhIjdiFB2uAVxGzDoW1paSiBgaWnJdnd37W//9m/tH/7hH+zu7s7evHmTbktjl0a4d62urqZbrQaDgf3+97+3o6OjtHPBfZjH5Wg0suPjY7u7u0sXDSwtLdnS0lI69A9Q+91339nFxYU1m83kQqaABPWN9gIYv7m5sW63a/v7+8mNDMQBBAmuZ7e3t9bpdKzT6djs7GzazeF6g45LS0tpt+nm5sZOT0+t3+/bp59+aisrK6n8rNP5+bnd39/b5uam/dVf/ZW9fPnS/uu//sv+3//7f/b27VvrdrsJqKOfLi8vJ3KD8vLNd/ibgbBeuMJuPHwxC5cL406v+QZRxC1zCA994CLJBA2kis+poU/yLjH3CYyR5eXlNC7wN4inunAxEcD/EMwRZu93JjH2dL7QvxGfdwgRhg0ovFOr77me2E0Vv3WN4Li8ZqHNzMxarZa9fv3avvnmm2RAYJdNnQ/5ec5gqeszz9vcRry2eaTCm/NzBruIDLF49WRmEwRbjRuIx2sGG35UNxi6Kqnkly6/eILjSTTx5YB+ZJ1X8UgNnvNEg9+cBiySvOiqWxpEXZuw8GHxH4/HE8SGF7qy5I7D5whFVB8aR9NU8SxN3v+5xUt1vr9/d50tdnNarZa12217+fJl+qghA1m43DB4R3o4gA2wyOBef8qQXlif8T8WMAAgAGZ2Z8tZpLUtsCsDANFutyfKyK5dfGsbA7jRaJQO72MHBeQFiymno+cDoC8OToNgIH/+xg3yG4/HE/oACGJnCgs4SB/XJazhODMDYMxErV6vpyuNf/Ob39ivf/1ra7VadnR0lHZSEBd1iCuod3Z2bGNjw7rdrv3hD3+ww8PDdO6L25fbBEaWVquV3G34/A7IIz5S2+/3rdfrWb/ft3q9nsimzgOoN4D929tbOzg4sLu7O3v69GlyB2y32yk8k4bx+J2bFD4Qyzu+6pqFK65xS1yv17Nms2kzMzP28ccfp4+UgkDf3d2lth2Px7a6ump7e3vprNN//Md/2Lfffps+Ggq9UI9wz2LAzEYqlJ0NE0yOUUb0ZfQBHrdKIGZmZtJHNc1s4swQu9QpwYDOPPeiHmE4QF8CyeS8VldXrV6vpxsfoTOPH3ZJ5DLyXMI3PvL8oPpGhiolelw/GA86FyM+71zpzpOuXdx/2ZiHNsEHePHxzpOTE7u+vk7nbXQuZYnWX9Q5/ua68Mrjpami/YfT84yaReuW6sXpRTsuSqjYqBKVp2jtrKSSX4o8SoKTm8z4/TS7D0VhlNxoWEz2TG5g/dNzN2rh4YWCiZHehPQh4gFz77kXpgwJ4bjThMf/3gKl7+/u7pJVGFff3t7e2osXL2xra8uWlpZSvddqtRRWy4I2YFcoBSBenRSRPM+iaGYJVLFlDu95AVOQD10BWvA1e/QTXE3MlzHwmRwc8Gficnt7m4D4yspKOp/BeoCUsPUcwA5nNvhcA7uzqascwCue8S2C0APX8Kq7Sq1Wm3DvRDlxmcBHH31kn3/+uX311Vf2/PlzGwwG9ubNm+TXj7qcm5tLLl3b29u2ublpy8vL1uv17I9//KMdHBykw/UoN8rOYxX9BnUOIobxivYDAIa+aEPun3x7Ip4xsO52u3Z4eGidTic947MuaA+QFhhCvH6MtgI4RFy+xfHy8tLq9Xq6yANjDXJ9fZ12MtAHvvrqK9ve3ranT5/a69evrdlsWqfTSbfHsYstjAp3d3fJzQvgH26WGK9cL0qIWJQkct/Dlcz9fj/dEof8mazwWTnUF88hbCFnoxXAPL7bxB9V5d0REDwmNjy/6u4IG7x4fmEAHAFkTzyQ74F09C/eCVb3PV23YGhQg95o9O67WRcXF3Z4eGivXr2y4+PjNF+xHtEaHBkPtUzeuuX9/aFYwDPKRXE5TEQ+0dbsmqhx+Zkaw3JG2Uoq+aXKoyI4ZYlNUdwojaL0PatRRFBgtS06NwPQwrcIeWduyux6ROUsmhSLys3hokWmSIrSLYoHYqJue5988ont7Oyk61gZxKk7INJhly7ePVPioXp4hEbrjusIoAaAQYljBDqYnKF/LC0tTfzP7moAoEwU4OKI37rTo+CKARjfNAZQ12g0EsgHeZqdnU0uWNhxQR5IH6Cf67BWq6WdGuyOQHcAcnWpu7u7s/X1dXv+/Ll99dVX9vLlS9vZ2bG7u7vk/sJnklBPy8vLtre3lwB8v9+3t2/f2qtXr6zVaqU65/bnnRIAYCYa+B4QzkYAEDNA5h9+BiCIegJAZDfB6+tr63Q6qQ9xn0GZcJaIzywxoeZ+yYAV42NxcTGR3MvLS1tfX0+kEt9XMrNEWjAnwcXv008/teXlZdve3rbDw0M7OjqasNRDp/n5+XSDG+oZO0339/cpLwb4KBPGMdcDg3BuM7hsrq+vJ6DN105zezLI5HmAv1XG6eLMEHZp+CY7Jjfs+spjSucI3Tnl+aHMTgELzzfR7gPn7RF3jC/dveH0kA7PCTxPwF3y7OzMjo6O7ODgIJEbvQziQ9bpnHEsisdhi/Ioo0eZOLrWRGnpM4+Ycf8pa3SspJJfkjwqghNZ+iP5sa0dOqHyIgiwwSBQP+SpwJjd0hiosIuJ+mDrpDnNBB9NqtHi4YVVy1aUV9EzTS8nugsDkDkcDq3X61m327UnT57Y5uZmspajLnnhVkLBftF8cF1dyFjY2hrpiDTUWsntqQAIzwGw2O8dwBjnBxiIAiQqIMeZGfRHTp93lDg8l1VJDtyleGcIblmw+vd6vVQ23uWAXgCT+L4JfjOhA5DmnQ0zs6WlJXvx4oX95je/sS+//NLq9bq12217/fr1xCF57uuog62tLVteXrZOp2Nv3ryxP/zhD9ZsNifKymOBjRfcZ0BAeIwqCGHCyOex2BWNXRa1r6BvgxQw+cGcMRgMbGlpKblEYdcMIBt1yi5iKBv0WFxcTMQSt8DhcDwugeDdY949vb+/T1dZb2xs2EcffZRI48HBgZ2fn0+0B86QQRe4caFvcp9gEo9dEBYmOlx/2Kmr1+t2fn6evhvEY5gNGZirmTgywWFXNZxh4nNXfN4GY4V3eZCvkgre/eR+hbx0PvHArc7B2ndZPNKDfPjiEp4PlDwgHd6xQb80e3duDC6iBwcHdnR0ZM1mM7WBt256a45XNi6fVx/RGsbPND0e3xrW08fTT+N4Omr7KHHx4kLU6KS6V1LJY5BHQ3CGw2FadCDTWDO8CSoKE02cCliZ3OBcA6yGvNXP6TJYwYKBhQLgDmnwwsj5s47eBMjixeGwRWQmqp9IosXMm/A5jucPbfbwkD/C4tsj3W7Xms2mffzxx/b8+XP7+OOPrV6vT1jEecdHy8+7PACHAPse0eGD3kpWojpC2nBR4nIx6NJbnvjH7P2ZBPQ5gFTop7s4sOjXau/PBACcIG+Ug890oEwAP9AN5xkYkOJv1AnXMd+SBcC7sLBgKysraceDL3/gHRAAKVwM8PLlS/vd735nX375pY1GI3vz5o199913LlFhEA+r+9XVlX333Xf26tUrOzk5ScBb243bWn+jT/HYZrcqJqa8E6D6KehF3tgJu7m5mdjB1fbiK6BBIgG8OSzKxhcPALwr0cf5CNS32fvrydG3bm9v085Ir9ezzc1NW19ft/39fdvZ2bGnT5/a73//+3Q2B2QYl8Rg5wt64AffjuErq5mIY9cR44YvoUDZsXsDvbm+kR/mIBBUrhP88Pk8pFGv19NODRMcfE+I6xy66vk7tK93ExnmHe6HTOS4D7J4rmQ8J6lBhcPpmZtojUEdgJzzLhXmhNPTU3v9+rW9ffvWzs/PH5zL4vpXA4JnfCsD4nVdieJgN1bXUc1XyxyllzPWRWsckxrPiIa4TDY98sX9qJJKHoM8GoLjiQJos+LdiqJn/C5nIWKfdpwVwIFf7zYmpKkWMJQBAFx3fSJLnRK1MhOyR2h0oYnqxlsAo3qL4rEOmpamywQgKtNoNLJWq5X8vk9OTqzZbNrLly9tc3Nz4pwEDnEzcUS+WARR9wqqtH6gK7cTW2V5UeXwAHPcxmY2EQ9/g0jpDgeTIu6DcFkDCUE4ECD0UZyzwMUFrN9gMEh9EyBoPB5PgEHUE843zMzM2Pr6+gPwzmCPreXj8TjdMsVnpfh7IvV63TY2Nmx7e9v29/ft5cuX9vXXX9vKyoqdnp7a6empnZ2dpeuzuc7gftVoNFIat7e39urVK/vuu+/S7gLGnx7M5r6ngIjLxvXGc4/2A4RlQwbqVkkzdlT43Ay3O//mD3nyB1yZjMGVSncz0A9x6QMuZYDua2trtrS0lL6dA+IFcnV1dWW9Xs/a7batr6/b2tqarays2Pb2tv32t7+1jz/+OLXP9fW1XV9fW7fbTddLswsun4vhM2iYE9FnZ2ZmJuIBcMO4hAsehsNhKpe6p3lGIR1HSJOvgQaR4Z2bRqORbjr0XLx4JxZ68xjS+ZbdSBW8I47GVfLCc4qSH3VH04soeE7TuYgvWABxwtXjR0dH6Za0TqeT+otn6PHWa36na5UXD/9zOG9N0jVS1zydnzVPncM9KVpvvTVPSa9HzqI8vXW6kkp+yfKoCI43wNVf2LOMeOl4773FRMOrWxms7bixh0Eyp4uFghdkgBq22HqLjrdYqJUnVx7935vQo7J7euB9ZFWM9FJCozrrohxN6Poc10kPBgNrt9t2cXFhn332mT19+jTdHAXwywe9vQWML3bgA7S6S4P/1QUIlk0Ig06AWgbVWPDgIsM7MMiDwR8Ayng8TnGGw2ECIXAjA5mbmZlJrm1YtG9vb61We//NEejB58CgK8oEa36r1bJOp2P9fj+dQRkMBumqYfjc46zIyspK2lmAvouLixPnUJaXl1PdLi4u2u7urn322Wf2+eef2yeffGKbm5vW7/ftv//7v+309HRiRwhlQr3ylb34QOObN2/szZs36cwNrmRG3avhgNuaXRu1vdmFBOQA4xsg2czSzoTuCIIgYi4Yj8fpWzroE7rjC3LEoBp9djwe28rKSnIBQz64yY1dkNCHQTYBbtGv8LFQHrd6CQYuaOj3+xM7SLiMYG9vL30nqNVqpW/w4AOo+IAsA3uUkYk1iAee4QfjC+0Ccs8flEXZ0NfZOMDxMc5AZtB/4Pq2traWSA0bAHjOxlzC/Yf7kY7fHBjmtQflUCLDbRMBX04P6fAOJPfh8Xg8sYOKH24X3JDWbDbt4ODA3rx5Y6enpw+uBuf1ITKgeWsbyqn1k1vHlcxonCKjW1RvGiZKX/XRZ15bo4/w/MJ9Ss/yFZGtSir5JcqjIjgAcpDcBOhNBp7VpAi4s0UUiyCDXrbQ8UKnaYDcYNHE4Vv43DNIUdGFwiMXnhUrEm8RylmNove5RbUobi4v/jtauDxAANB9e3ubPr64v79v29vb1mg0JlygGCRh8VcLe2RpVAtwtADhf95l8HTnq5XV7xo6MWDjfADsbm5u0i4V+ib3SdYfBEP7Ep9JUsFNSPgeD+Iz6EI9gmDBnWhlZWXifAL775tZIgUrKyv25MkT++qrr2x/f9+Wl5ft/v7eTk5O7OLiwk5PT63T6TwgJWbviRLGF0jG9fW1vXnzxtrtdrKsI28motquSlR5rgBB5TIwScCZkEajkXYecK6FjRcgEthxABEFEVOd1EjA/ZTrAjthAIoMuNl9FsCVvw2DiymgGxMjzH3Y0RmPx+n3zc2NdTqdCTe58XiciF6j0bCtra303Z5Wq2WXl5fpEgPd4UAfAjnhXSq4R/JOK19OwTuTTITZBRTgHWVlN79Go2GNRsPW1taSGx7fugbd0D94zuf0uX6YkDLZ4B0/b/5j0o28uO9FaxjC4sfrJwqekQ9/RBlrHObU8/NzOzk5sbOzs7RLx+Qm11+1bOifHD5aOzwyFJGPMuuaxo/Em/9zaSqxi9LScnlruncGR42AlVTyS5ZHRXByk4032RVZdspaZNiCyR/whLWFt+XVUoN48N+G2wPH9b51o+XzdI4m6LLEImf98/Iuk2ZOtxwhylnZvEUz0hG7ObiCFjdSPX361DY2NpI1GAs4nxvRcgIEAsyzNVNJiPrQM8hQ0R0chMPOB/u5syggACABAMGVu7hGm92LUB6kU6vVJm4+M7N0sxbCAAyPx+OULs5q8M1/6u8P0sZWdgaVsICDkKyvr9vm5qbt7e3ZJ598Ynt7ezYajazT6djl5aVdXl5at9uduE6YrZu4zQ27RQDVMzMz1mw27erq6sH10dqfPOu49ktuN3UngmBM63d8MGcgLnYS+dwQdlp6vd7EeSrtD3quAEQHZ2SYTLKrFPTl8kE33gXR28n41jMmeEyM+Zph7JChfUC4sLMCF6+1tTXrdDoPSDPGLs5d4ttL6Jvcl8xswvWU3arq9fqDPgldeDcRye7KigAAIABJREFUuzarq6sTP41GI7m+wf2TP9qsZeT1AeQGdcIGLDVSeGCehd/zXMPzNxsYuG15XYrAN/TnMkAwt1xdXdnx8bEdHR3Z+fm5tVot63a7aT7w9C6S3LryIWmqAakoPhtKorUwIm2RntE7JpuME7w1EXlE60AllTwWeVQEx5OclSQ3MUxj4eHFHqCBt/v1QCXHwYLKX3KHFbDf7ycQ6gHhDyE3RWUqE5/DlCFJuTw9CxyeF5Egb8Eq0hXAAoece72edTodGwwG9sknn9jW1tYEycGP52piNnnjEF8DrofIGXhwWdiyz4AQcTgswiuRApnW8sLaWqvVklsNdnPg9sh/8/XGqh8DdrzDAsvXUUPvhYWFibMOfNgeoB5AE7d9wY0OO5jb29u2s7NjW1tbtrW1ZZubm7a5uWl3d3fprA3IjQJK9AsAWf4eCX84s9lsTlwfrUSBLegs3F7cTt5OHKc1Hr/bzeh2u7awsGDr6+tpnkC/Ybcq7N5i52NpaSlZ/0G80Re47fGb+9x4PE6WdsRbXl6euBEMuusNcOiX+DYSj1cAX96pAEnlfqQ32XE/hXsoX3ONiwHa7fYEqRuNRnZ9fe3uJOFyCuzq6LzjXe7AwJ/nYhAbuJ9tbGzY6upq0g+k6vr6Op05wxhiUoNyIe2ZmZlExtld1DOCqdtizqiE9zpv6C1oPFZ1PoPu3IfZO4ENP8PhMH3Y9vDw0A4PD+3s7CxdBc67Qjq/R2XB/1oOL1wk3nrgEYxp0vTSK7v2aBwVntvVgJJLi9cnbcdKKnkM8ugITm7SiawvuQkxioswSm7YFxzgRCd2BiV87oavkcaH6PTAOZdPrUM5q1YZIpKzmBW91zC8QOWsUKyvZ5nUPHMWs1wZOS7aBwtxt9u1q6sr63Q69vnnn9vOzs7EddLcZvqhO7aW8hXJ3hkJWNb5UgBPb7XEQvCMwSdf36yWW+5n+IAnyg9y0+/3rdfrTezA4OIBpAnwrO5pfDMYwDNfo4vzP3yeBgsyxkq9Xk/nYqBjo9Gw7e1te/78ue3u7lq9Xrfx+N0u0eHhoV1eXtrZ2Vm6sYt3bbDbAAK2vLxsGxsbtra2NuFWwztAvOPD9chWbyUxXM/cv7j9vTgA+nCJ449bom+gTlE27CTweEIZPbDOY4J3c1AukIV+v2/r6+u2vb2dvjmktzPy/+oqBj35wgv8oM9wWmbmGntmZmYSceIfuIStrq6mnREQAuy+ou1xExu7nIHgMHlFn+X6wf+4dAF9ELtI+AG55N1fXGLCJIl3O0BqdHe+3+/bYDCYIEbqKsrzBeqY65SF51Bua9aL25f7OfcZJkmYXzxjT6/Xs6urK7u4uLCDgwM7PDyccEeLXKV4jcoZyLy5HuKlrWNR64Pz1jrz8smt/5qXlstLr4iseGmq/l48Nr5UBKeSxyaPjuDAjSdnsYnecRidYL3JkC10sN4DBHjkhgWLLRY/WECxeDK50UUBosAmepYjPhqWy+illYuXE56oo8WBw0bPI6s4A4Jculo27ObgsPPl5aW9ePHC9vf3bXNzMx0aBjAGwOFFHJZvBbvQ0WzScgyLOciSB6Q1TbNJggHiwv2IffiRBn+PBYdTFxcXE2DjPgfABpcgdmUDeeG0UZ8MXlFmdrNEuwCoY5wsLS3Z8+fP0/dStra2bG9vz/b29tJVxP1+387PzxMB7Xa76dYvPjsCHTAWASxxoQD3Gbh5HR4eWqvVenAWgd2bIMiPz1poH+b+wL/RXtAXoPX6+tqOj4/txYsX1mg0Uj/EDi7yRJ0Nh0O7urpKlw9gF0F3mBSwcj9Cm4Ew3N7eWr/ft6dPn6adCT48DlKPtoVLEuZZEB6UScE3djR43uR5kduNiSG7LQJg4+wMx8UuAlzW2B0OYwxntdAG6B/4jd3G9fV129jYSH2GXRnh3tdut+36+joZBXCWjNuYLy3RizSQDvoyXO+0z2i/1h1a1BnaKNod5nmGSSjalfNCmmY28aFOPpfY7/ft8vLSTk9P7eTkxE5PT+38/Nx6vV643rERhPXLrTE6D3JaXviIDDHh0x0hTZPnM137c4SG46puZddcDss6qN78Tg0tFcGp5LFJ7efY6Wu12pqZtQoDBqJWOp0kIWq1isSz3mAhYwsXgImeufHABoAYLHtYrOEyhDMBnC/rkrPqcJjcBBtNzl5+XnpFfavIQuflE1myAAyjNIoWIDxDGbxws7Pvvki+tbVlT58+tY8//tg++eQT297eThZ0EAJ2P2T/fj1gztZPPOcFC6CaD+HmACr6NgAUdj/q9XpKD2kCXEJv/LA1lr+8zt9qws4ODn0z6cFV5+inuPmK65JdJ7AzOTf37sOasIjv7+/bixcvbHd3N92sNTMzY/1+P10hDOLJLkoMAlGXOI/BN6ThcDx0ADnhw9BsREC6AHZqzOB+HfVnJT5cH/w/2vnu7s4ajYbt7++bmaUbxNB2i4uL9uTJE5ubm7Orqys7ODhIZY0EJM7TT8cK5qF6vW7r6+vpZjn0bwaIHI93IBigM2FhEs7ukuifCuS4rnie5bGHNsGOuZ4HQdrsEod02BgFNzT84BkuKMBZKezw4iwJCCGfCeL0mTRhB4jH1dXVlZ2dnU186FKFd8S4bN58rju9bDDxjCgQPr/F45VJM5/PGgwGdnl5aQcHB+ljrSDkmAM9AxLPP7n1IrduRYYuJdOcH8fjOsqthxwnWns9slWGaHmCMrBLJcYu+p5iF4wjEGbgDRgsfqCsj8fj9g9NpJJK/lTy6HZwIDopsPBi702SGk7TxEIA616t9u4MBH/EM9KFwSu7DLC/fW7nJ0qTy6NhIqKRI0KRJS6nj4LzXN6Rtc3MHoAp/PZcsLT9ypAgzouf3d/fpx2DXq9nzWbTTk5O7NmzZ/bRRx/ZxsbGhGWTgasCNRAJLPxmNgEc1PUNO3hqBVeCg2dMiuCKBYKgfUl3KNDf8AwgDoARlueNjY0EDvgjjlh8+/2+dbvdZM1GPaBe2DoOALm8vGyNRiMd1IYb0e3trbVarZR+p9Oxm5ubRKj4GmUmuwA0fAicb79CXQG0t9ttOz8/T1+z53ZUMqP/q3U9J9zvIzcSPLu+vra3b98mV7HZ2dnkfgXQfX19nc6Nob9gJ4z7DMrr9XMdm+gHKBu+EQMdmEDwbWK12ruby7CTwwfJkT7AFpMcADnkjz4P4bHC47vX602MNf7N50J4RwP9FnM0u4zxJRLIiy+DQbkAHHEFuta32aQBg0kXzu6sra3Z/f29XV9f28XFhZ2dndnFxcXEN560T6mLlxo+eM7Rq6U5Do97rVPsIrNLKd8iifbAtc9nZ2f29u1bOz4+Tlfue+7T2se9/3VsRMYoHYdeWkpmvDBMDovWVc7PIzRFmEHz13UuZxxho5BXr8ibd+UrqeQxy6MkOHxIu2hiywF7b3LihYwP+/JVzpF4FjT22WfQmYsbPSsiarl6KDPxQ6J0oknZi1+Uvkdw+J0Cqmn0j8qA/wF08EX2drtt7Xbbnj17ZltbW8nKDQANIsNkgtPj9AFK+DC5LuR8m5IKu9ro1bc4cA33LIBPvq0J+bP1HOEA4viL7LgAgHd4WE++6Y/dX/j8AV/VC5mdnZ2wjgNI4vyPfvcJ9QGXJbY6w6IJd0KuKz43gG+ttFqtBMDVBcTrm+om6hEd7U8RaNN32PG7ubmxy8tLW19ft9XVVVtZWbF+v59cD7GTpvmqFM1f3nynFv67u7tUl57rFOqT3bM8QZpwrYSVmfu+R/wQnndEkV7krqPgHwSNySuIDOZaPV+E/sY7QAiPdNmtC3OP7gzB3W19fd3MLH1o+OzszC4vLx+QGy4f15saN5AnG1OUxGi78v/oo0w6uS2wnuF8VqvVsmazmXaccIEA2t3rz9wueBZ5UGjbq9Fp2jUP5VMDCKep+U+7bpjFO0Ie+eE69/L3xiQ/j+JzP0DfraSSxyaPkuDkrPqRNakMCcLCwLdlYXJhP+ecXjwJ8iLEOqul9ceUD53Uc/p4hKNsnkW65CxeP0S8foDnbCWD2yDccfb3921nZ8fW19fT2QgGUGpR54VQQQj3PXVdgz4ah8k7FlqNj485YpeRdxZxngDgznNpwc9gMEgkhc9mIF1c96t9GHXBrpsgjCAxvMPE5Igtk1w3KDOIF8Yg31AFq7S2LXaEms1m2hlCvSkYyY05fudZl6PwUR9my+3d3Z11u91UxidPntj29rbd37/7zg++B8PtHM03UTnUnUkt1byDgudwL4RhB8SQ3eiQFrd9VFbur0zwOZ6CRh0XTIyQnu6cmr139ULZmSCg/+nuJo8FBclMiLj92SiACwrW19dtdnbWWq2WnZ+fJ3KDdtQ6Yv11x0XrUYkNz7kR4VNSzTvRCIMxyjrr+TfdKWLdlHzqe21bL1z0XPtEFCe3YxLp4BnTyhjhyj5nolJmjHA6uXLz2Pgx1sRKKvm5yaMkOGa+ZSciN7nJgS0psBbDggwQXIbcsF5KZHJhiwCUhokAjxe+7KToTbIRicmBOgVURWXP6ZF7hvhsyePnRYsXt89wOEygGDcH7e/v29OnT21nZyeRCT4bwxZgvr4YAJNBP79DP2PSpBZaBoreThHSh5sMdmFgcR8MBqn8fO6Hyw43HZA7fDsFZQThYfefCFTzpRvs8qO7nXCNAYBDWgDWyHdlZcVWV1cnDoCroG6Rd7vdtpOTE2u32xNXK2tf5Tx1t4CJgX47RtuA0/L+91yTsCvS6XRsYWHB9vf37fnz59Zut+3NmzdJb9QH9wNOH+2JPsT1oXlGO4S8gwlDDrsv3d3dJRel8Xic+jyXMbpFTedJPusBEo0+pWdBuC65DyMf1gHk2jMIYFzzGNUxxPmgT3K9o46Z3PD3cRYWFlK/Ozk5SbetQUclBEpWdDyxGxoTLZ3LlfBwn+Y1TI102LXBOZuTk5NkEOALb4qAvZIInucjos9/T7NG5YxUnJ7qEZEML46Xn5d+roxFUgaD8N+MRz40z0oq+SXIoyU4ZsWgw8w/vK5xsJDB8mX2/uNxbPWL8lArpxeOn0eTb1Qu73lOjxzon8YyFenCwMALk8tL60cXkTJxVIcyi0+UD4BTr9dLOwFnZ2d2dHRkz549sxcvXtj29vaEbz8AFP5mFyu2orPbD4NXAA/oD7DOh7m5DnFtK7s41mq1ZFFmdzU+DwGi4Z3R0TqEG+Z4PE47O/rRUc93nNPVnRqUHeEgSA9pg1AtLy+n7+KA3ACkQjc+CwdCCsu5gkcmnSzcPtgF8FyjtO/x7lPOh54PkTMARdzBYGCtVsu2trbSTkOtVpvoX0yGGdyiTKqjgmn+n3fauP8OBoNELjkttB1/KBTnaVAeAH/eGUEd6S4J37TGxgLoyuTam2uHw+EE0UYeupPDO5coA+uG30psoBuPU4TB93LglraysmJzc3PW6XTs7du3dnBwkG6+0z7O84IaOzAH8NjkeuLya19SUsNpYkzhMgUYMFqtlp2entrR0ZEdHx+nCwS0vXht4nrxxgP/X1Yiw5SmqXpwm+nc75EcTZPfR+SRyxy9y5XLW39YVybrnh4a50PruJJKfinyaAkOJmU9UOqFU+EJETs2bMHkr1XzgqPAwuzh5OMtBpwndCqawDwrlGelUj10IdC8vTxy76JJe9pJVxcnfq7hyuiorji66JexmGk7jUajdLUrbkM6PT21L774wvb399OhefQb5MU+6wBerI+ZJRKj53MYQILMMMjD30y2sVsyHA7t448/tkajYcvLyzYcDtPOx2AwSOdgbm5uUtl5V0fbYW5uLuXPNwUCXPL3czg9iFrmASr5zAUIjV54sLa2ZhsbG7axsZGufQaZ6Xa76SA0u9PwBQUoE99yp32C+xS3k/aHCGjhnQdkWfhcCdqbd6pGo5EdHh7av/7rv6YdL7a2czrcl3n+8cA6W3wZsHs7gRC4NWoYxGMyDiLhEVYmG1wGBvjYOcSlEPhBn9MLPliQH+9MqCsfEwnedeL0uG3QvnrjGNKenZ21er1u29vbtrq6avPz83Z7e5sMIIeHhw9c+SC4LELbEzrzWSFud+7DqGsGxkqY+bptbofb29t03fPp6WlyocMFAnrRAbc5jwttB10DtQ8q2eD+661lSqY8Y4MXpsw6x/l7a070jMeCzhtlSA7riN+6a8z6axosfJ6wkkoemzzKa6IpneSXn5vccnHZFUbBI9LBb02TJ1qe2DSe5qs6qt454lGmTjTfnIWrzHPPWpaTnHWO3+f0KpOXV3deekVjBIsatyfAwtLSku3s7Njz58/t008/tb29PVtbW0sHnPmcid46ZPYQXPPOBl9BDj2ZCLFbC6c1O/vuWzerq6vpuuvt7W1rNBrpWxytViu5zfAZHVxPzkQQZVZw6ol3/gjWfVyDCoH+GGc477O2tpZc0djNbnb23bdgms2mNZvN9E0cXK3c6XQSOOOzUEo6ivqDB2ZyfRHhdGeEhXdaPNLukScmMDzGGHDr/BPNGVF+SE/nJ3bpypE0Bs2ah+bPpFzJI+8ScHkw1vQKZnZn49vY+FyW9gOuP91tRJ5MvplIYCcJac/Pz6droOv1ug2Hw3R25fz8PBEFdsVE3lrPyItdVzms1rPWlQJxrgM2lsAVrdvt2snJiX377bd2dnaWdmt4h0v7TdTvPZLA8b1zOdrfdS7OzetKnFRHz2VT81GdPRLE80YRSeL8PYnGN8+t6Nu826jfWMJv3Jo5Pz9vFxcXPybBqa6JruRnJY92BweikzVPQtHuDZMbWOSxOHjfuOH0vbTw3rMIecDEmwxZPECRI2pR/p71qWjCzgGXMuRmmkVA8/mQfHPkBXlqfXrtoGDf7F3/GQwGdnZ2lnZ1nj17Zp988ont7u5avV6fsMzXarXUfyAAl/zDZwPYws8uMgym2Q3I7P0NZHxRwmAwsN3dXdva2rJGo2H1ej19XBK7HdjVQblZT4wBiII//M31wySJrxlmS/js7Gz6js/y8rLV6/X0sUWA1JubG2s2m9Zut+3i4sJOTk7Sd3n0sgIG6t7YUiCv44BFQTCT0WhM6q4Ityv3rSgdAKq7u7v0nRScd+LdBS0HC5c5AqXatrm6iMghuxdyuXVc5YwXnn78N9Lyrs6H4QnucNyneMdLxyxEx71+14bj4TZAkHC+VRC3jF1eXiaSrf1S51fNezx+fy6I+x3ron1a64ldXHnOuL+/T7ucuM3t6OjIzs7OrNvtJm8E3iXKtZm2V7QmeIYCFW98anwlKVwXuo6qHp54ZKVoHVed9XlEYrgsXln5B+2FscP9X8vqEfRKKnls8qgJDhZydTuAeNYbTDIAZGaTB6XVAqdp5hbwIhLi/V9k0YrS8N5reXM6cTyvDLlFL0eSImtdkR4eIGUw4oG9KM2cRc5btKL2xkKDXQMQCXygcn9/P10pDb1nZ2cnSLLqyUARwA4AkvsxgIvWB8rGLi5w/en1etbtdm13d9fW1tbSxzVxSxx/0wbWXNQDA1cGXWbvbxKs1d6fE1Hgg10l3hGFiw+IDa64XlhYsOFwaBcXF9bpdKzdbqdrkvE3E7hcn/6QsaPtEb3TZzzGNO0iAOWBVwZG3hmLXD5mkwQVZeH28wCSPuf/I0MA/19EZjw9Gawxide6QZn4im8Qcr5Vj0EjdvA1LyWgSBvgks+s1Gq1Bzcm8ni6urqyq6urdE4PxgbdbYWoixny1t1YrTtv7sWc4rmijcfjZHi5uLiw8/Nzu7i4sGazaa1WK92Kxi580TjyiIuK6pebf3Prx4fkmZNoXSgyNuTGuvd3UfhINz0r5bkGenWLb2VVUsljlUdNcMzeH1KFeKCAiQ27BpnZhBWOF6qygNyTyBKm8ctM3l4a0+qWA/y5uEUAq0w6ZQkcCwPtD4lb9C630HnvxuNxcvPCl87x//7+vjUajXSmBHrDwsv1wIsd3G7YDc2rq2hhZHKEMzPdbje5pj19+tQ2NzfThx1XV1dtfX3d+v2+XV9fp+9dIC0QfAVXID+3t7chwFT3IhAcfL+Gd3Vubm6s0+nY1dWVNZtNu7q6Sq5o+KaPd/CZdZqmD3h/R0aKMmBMD8FPMw/o/1yXSDsiEJ6OOReznDCRYbJRVIYiYw6PWe736KdIC+X23JvwN4Ad+vdoNJpwWeMPgCqAZBLBP0ibyRbvhmAcsEGg0+mk3UTeBWFXM3Zz8gizzoWso0d8uSzqygrCNxwO08eKj46O7PT01C4uLuz6+joRMRgwOH2PUCHPHIgvmjtzYfhZZGyI5nsvXrSm8LoRGRqitHOGiSh+9Ez19OZU/onKMxgMpsYIlVTyS5JHT3AiUXLDFjCP3DDQLAvmi6y3RWAsZw1VyRGiaYB7pHMEojh+DmDmFh0vrIaJwKBXbl0UyubhAQnNT0Emp4VLCNi62+127dmzZ7axsWFLS0uJvCBNvhkJ6fBhY9XVKy8DNr1cwez9jX/88b7z83N7+vSp7e3t2ebmpjUajXTF7erqql1fX6ebn/ja6KiO2JUOuszNzdni4mIiMXyeCIJzNQBe19fXyeLM7jNMaCL3Km1LbV9+5wEiPOPdsRwYY/EO4fOOmx7653z5emNvN5IP70duX1ou/M07anjOZ0I8Xb16yZ1h4rCQqF1QRm5PkADeFWQQr3nwDgX0YuMTygMSzTf+KTHg2zFhVMAuERsYQGp6vZ71+/1EuPXKc+jEuyLQSd2OtA65HTgu1xHv0CixwRnRwWCQLt34/vvv7fj4OF1173khlO3j2p74v2gdjIhvNKdHfblIn9wao4QhihPlWbSW6LpZtE7zPFCEA6J0KqnksUtFcBxRK6felGZm6fYiBVccT58pqI4moaIJmydLPWTI4bz8NY1c/h6BylnKyi5k0wBDry504o/qyyuvVx9e2TyS4D0rIqm6oGE3Ay4rrVbLLi8v7dNPP7X9/X1bW1ubIAJ6UYDZw5vM0A8icj0ej9NX5xlEaVyc67i5ubGrqyt7+/atra2t2ebmpm1ubtr29ratr6+nj2murKwkUMhumgDrvGMD8IUycbtwGICwfr9v3W437Rb1+/0J1zjk4xFv7vvc9uyyFPVXrdeIwOtZGg7LFnbtG7gBTMPwe71YQusMgksdon7u6e6REpSH+xp2D9GGXl1xujrfMQHkM1WqW1TvGo7rLhrPTKY9IMmEBM+9W9eY2OhOj5mlA958ho3XA7hkemXl8aaXRHAYrRedD3QMYYyDjOnOExswzs7O7PDw0I6Pj+3i4sJ6vd6DOQb/R+c5Pb09UUOA97dHFPR/jyB445THVW5O0PfR2ohx4j3PzR8RUYvIq87dOk653+BvnvN5TitDKiup5DHIo75FjQVfXTebnET54CiTG4AtXhh0kozIhT5j8cLp/14auYlTRReZnO65CZOBY0SaPOBSRO6Kyl1Ejrz0I9KiYCkiCOrzn0ub68UDzLxwzc3N2erqqu3t7dmLFy/s888/tydPnqSPBgIsscuILuKqP+fH1n8GS0xuFGiMx++/0wNL8MLCgtXrdVtdXX1w6B+XbQB8cvosvNvDuz68CwqACLKkFmVd6LXPoxxsseeDuSB6URsy+OH8OBy7K6keeO7taKB8fEU45+WdifHGJ+eBXTMQRYBxL57Xv7mvcL2h7s0szX3eLk4kUR/lOtKzj/jhHRx25TKzBzstXIcRCI3akv/XuYzrCOXBez43g/Hp9SkmCdH5JO3LXC7vXBWfA2LhXSbc0IjwvV7PTk9P7eDgwI6Pj9OFHLgZLWqjIvISzUEc15v/NQ29JAHxIwKlY13zgSGnaE3w4kd5Rc+i9cCTIuIRjU8zS7vdmDuAQXh+5zR+oquhq1vUKvlZSbWD8z/iue5gsdGPBsLtIEdgIuCcIws6yUZkR9PTd97fRWlGxMsjOxrXs/JxeTwdowXFWwzLkELPIh6ln3vvLYLeb44fHebXBZvTZEDZbrft5ubGrq+vrd1u29dff20ff/xxupmJ4/IOieqibeX9zWCaCRNb4HHrFH/TBgtqp9NJhAbnhvDDY0XrkMEzfvi6W4TT3dCIyDAI1nodj8cPQOfMzIwtLCw8sO4zAGZdvd0hiLpwcRugXB7R010sfo+dGy8/HUMMzGdmZibOcniui0p6ueycHp/vMnt4zTTrqHrqGRUmDh6Z4vbCOyVF7BqM8N7uljef8P+sj9dflPRwe3l9T/M2m7ywga9yjwhlrfb+og8uL9crnw1FGbSOUD96ZTx2QS8vL+3t27f25s0bazab6TwQr1/R+qLl5n7ozaPcDtG8Gc25SiyjOs+td6qjFy63Fuf6kFcHWibNI1pLPMkRQPzG+PP6cFE6lVTyGKUiOP8jOmGz5RqLkd6W5pEis4cTdhFAx/Mc8eF0osnaAzGaZxGx8eJHcXPiLXb8TvX33hc9Y73KTOoe+IviFZEjT4pIjerK4Ojm5sYuLy8nDkV/9NFHtry8/ODDhAyMkA5bfT2Ahf89MqruLui7bLVGvvh/OBw++JYGH7jm/oj4DDJVf/476hNKDD1BXHZ74+c6zjwA5gEb1QXCda2iuziRIcAbu1puHefIm+tS55tp+nAZowWf4VKg7c0xHiDW+kc6HE4P0XO6SgJyZAegUF18OKyZuWMJcZVMap7ezg2/4zMzGk/Dob50nlLA750Rwo4vzvnhI51HR0d2fHxsrVbL+v1+eBsb17FXr3gWrS0e4fF2MVm8vu4RlNwYZD08bwpPd++dZzTSvqS/c/NE0bqSIyVe3bJLGhsimITn2q6SSh6jVATnfwSHoJnc4OzNeDx+4EqTm7x1ISgiDBGo88JBcgA9mpA1vSh+lGdOv6KFL9KzTNplROswAsm8OJWRafLnOGXqmOX+/n6C5CDekydP0gc4zcwWFhYSiVGCreVS4OQBTg3LOnuAC+/YpYxdo8zsAcHRumHAGQFpry09oMc6sc7qiubHEo4rAAAgAElEQVQBJ42r+eXIOeuq77w6Q1m5zEVjrMgYATc/lNtzyymbvhI7s8kdnAjke2DRy8drT68vRuPGa78ovhoZ8N67ZIMJDZ4pwWISxumhLUH8dYeLy8DxFIzzePHGg5YXu5F8Rmg8HqczNqenp3ZycmKnp6d2fn6eLgTh79hw2bSuvXzVwOAZCriOdP3RuvDKVfSMddEwXh+YRnJrc06fovSm0aMsHjCziY/VKhYpIpaVVPJYpCI4/yM4wMq35vBtabxr47lfqHgTZM7iqQsgSxRP30fPpyE30wD/IqtRGdJWJqxH0lTfsguQuqrkQK+nX1SX+kz1jYAOv4c72MXFRdJzOBzaRx99ZGtra4l08+4F744wSMrtLkIYcEfnUlRXbnPOG9bECKR5wA8gXcEJg2kPDEcAQAEjADrKwWeiVPRZ2XCRDqpv5FoV5RcBNvQTXEfsncvi9KJyefXI48wDvlwm7mMRgVHLsobNkbGIpHh1p/XFom6CnnFDDVa6c8kkT+uF+zHH4bRZB48cYEeGy6AeANwuWJv4Y6U4Z/P27Vs7Ojqy8/Nz63Q6addG28Ibz1H98vjhtsiR1jLvmTh6euSee+LNvVG/1D7qpev1Va8vRnE90fHn6ca/+T2TTBhh4bLMUn37ppJK3klFcEgAinCmoFarpQPefAWuF48lmjCjyausbh4g8fLx4uaIjQdyOJ6Wu8hCFtVTUZxIH688ZcNGoq4xZYhomfzY1aFsXO/vy8tL+8Mf/pAuF/j0009tfX3dZmZmbHFxMR001S+Mo1wA9+yypvl7oM57j7/5vAfnpcA3skKzuw7qikUvP9C6U2Dg5R2Rx9zYzY1TBvscJ2rforGmdYByK/jlOuI6GY/HDy6d0PFaJN6uU1QObmt1AeJw6iaHv72+h3rg9PE+OgvpjVUuCwN4/M39NwdksQPJZeCzUvjRSxa8ulZi4hFbfq7An9tZ2xU7NzhvA4NIu9224+Nj++Mf/2gHBwfpymd2a+J0PNF284gF+mnuwoSIwHrjhdvLk4gQ8tyj4bU/sR6R3ho3p4cX1wvP44bHr9cGESFj3REXO+aY4/nqcg5fSSWVVARnQgaDQTo8PR6//2gbf8DQA6M5oAvJWXQ88UBLkQXKS8NbbKIFzCuD5qUTfURkchNtkQVM04/y1N9lLWtFgMdb7L2yaf3q4hUttF6baJj7+3trt9v26tWr9P2XX/3qV7a9vT1xVe5wOLRa7f2BZf6GTq323lXL031+ft7VQ0kGA1wWWBF551NBPsCv+o/z36wvCBIW7ejCAu0X0/SBqP+y+xXK6t1I5gEpD4BFeSko13bhfFBvfP0wfrNLIOoMxhjs9il5QNmUPHj1w3oxsNVnCsa1PbzxooYAJQMRgVQ9GTRGhIjje/OgtpmGQ/1yO/BZOa8PmZlLiFhH/kCoEhuuCz4PijSHw2H6ls3r16/tzZs3dnp6mm7W0jrPAX+VaExpe0djkOebaOyweK6VmrbXL4qIgv7tnYvNjQOv3nL5e8+98N56Eq3Fqh/GPlwTuZ9wu1dSSSUVwXkgcP/g6z89ouJNiGYPgW5uQeGwEcjISQ7UKXBS/aPbWCLw7VmetBxReAUyXhlyJE3DevnmdIvSjcqqC+OHLhq5BS3ST8vb7Xbt8PDQer2eDQYD+4u/+Avb3d1NBAVuCnydsta93sbk1Tnn67mrqZsN91mcv4kAKgNQToMBoDeuGFBre+XArLpOaZ17aeXqJAI+qrcnHtBSFxLVna2xOGeD/zEfwQjD9aQ7Dd7YiXbGcuVkAM5xvHgaRndGOLz2Cb19zstDyxRdSIDnfAi7qIxef0F+HtHk9NndM5rT2YWT3Z9z8xp2bJhktdttOzo6srdv39rh4aGdnZ3Z9fV1Ir9l5l4dW1onOXc0rc/cuqH1jLyZdHj1FKXBeWg/QtpRedXlUNPVd95zTweto4icaXitF33H/6tBgHfy2cBREZxKKnkvFcER4e906OJolice0YTmhclJNAHqouktTLm8dHKODsTmLEqargdMi/QoWwda7kin3MHcacXTTcmdAn2OGwG/ojrwADsAwGAwsGazmcDVn/3Zn9nu7q4tLS0lsFur1VK/ZZ0UNLILGe+sRASAn0WHrQHSGLhxmSIygDQ8AOyRGK1PBjW6+KsOKgzcFZBy/Xv1ELU9BGCjbH9VEqFzDz7oyXFzoJJJkRJPbTstWwS4FOhzOO+msAhMe/XL/SBq52hcKsnROvXKzERRy5zrL7x7prrWau/PfHFZUX6tfzN7cECc2xs7cAxeh8OhXV5e2uvXr+3777+3s7OzdMU8xqA390ZzZ2490d2sKG2NF41VrROvPT0SERErHl9RvytDtrywPPdqPI1TJj8vryJCyHp4/Re3WLKbWm7NrqSSxygVwRG5vb2dcEvJWV/wDOFyVhtImUkoWgiihd+bLCNQoHFzeReJt2hHYbxF6EOsTV4d58qqomWPAKzqX0bviHBqv8nloWGw0ALcvHr1ymZmZmw4HNru7q6trKykg8cgOR54Zz28szcMHooWan7P37LhQ/1Iuwjkq/tcro9oebwxymlr/Fw9R/0q95z1jsQjCxyPgRT+ZuKJHRl1EWR3QAV+aA/MZew+qOVQIF4kXh16/Ts3z5V557mL5UCp97cCVE7HaxduZ24bdkfT7yt583xUH/yMSaySRezM8i5Pr9ezZrNpb968sdevX1uz2bRut5sOmUNfJntRuTyJyIrXz3UO4TSKSICXZy4db+yxfl7fKFqLiiSXf9GzMnl6unp9Jifoj/j4p3fZQCWVPHapCI4IABvOJ7BECwQDjTKTVJkFxwsXgT78LjPhlnkfgX9IBJC8/4sm6jJWr+jvongRoM09i0BzLo2iMmr7eaSD9fdAAs5XnJ+fJxAzHA7tyZMn6YY1ACK+eEDdMpQkMKj1XDhypA7veAdmNBpZrfbwAgIIu9p4fYf188Igv8g1yRtbRcSN43rlZfcQL453wF510sPz3k14CKekA+nq+SquS8TDbg8TJM432u3IEXB+rv8r8I3ESz/qk/ysqM0QNjdHlJ1LWB/spHFd6venuFweEGd3NSb0TG4hCMsfzeVLBM7Pz+3t27f29u1bazab1u/3065NmfnRaxsdR179lG0THWO59dAj+t5zTT9Kq0wfUSnqyxouV69FJC4ylOT0yaXP5BtjPqdjJZU8VqkITiARaIoWdW9izy0E+rcnCoKjRSNaDDwdI0tUNLEX6RaRrmgRUz1zzyKQVYYU6fOIeHr6o67VelkGBEZpRqJpFxHPm5sbOz09tdFoZP1+3waDgT179sw2NjYmDvzD6swgzasTPjcAUMU3SOVuHvL+h/58FsDrZx4BwjvP/YTj6rW3Soy8elMyBmGCwJcaIJx3uYKnL9cH0lBXQI8IcTpReXXs6w/nxTpzPvw/2tXb6cqNe49s6nMtR9kLDZh8KcmL5iwtm77TttO61faDviCf/M2znLsS0tSy8mUgyAfl07ZTtzTetTk5ObGDgwM7Ojqyq6sru7m5cevR24Hj/lhEBqK65Xc6X+k49d55fZn1KztvlwXw3vwRzbHRnIFwnkEAbY33WoZI7xwRKiOaB/oqu0ZWUkkl76UiOI7AJWhxcTE94wVRfcrLgL5owcb7HFHwJlAvLc5nWhKQSztHhLw0eVFRdw7WN/JZ5zRUyhAB1jPS13uv8crUYQ6Ia3/RsjGwikgA1yPSx07OYDCwVqtlrVbLvvjiC9vd3bXFxcWJOHNzc+nsABMD1l9BoLe7AFESlCNnWpdobyY/upuj4IjPFEVEk/PzwnggR0XrgNPOEZOI/ESXk3hgKZKIXHm7bl48BV+cFxMcbgf+X+sExJkFbeqNiejAN9L3xkpE7hCmiPhoX4pcqbjttJy6M6L1pqIfyNVymplraKjVasl9EGTI7J2b9NXVlR0cHNj3339vx8fHdnl5aYPBwL2UQN1MvfHiAXk9q+aNn6gelFBF5Ebf8Tymc6aOEe8mQtZT+4ZXB9H6yGnh71zfY8mty96aye/KkhyvzjUe3NRarVblnlZJJY7Ufo7Mv1arrZlZ66fMY2Zmxur1+oS1xptQ+W8FqV4YBXTe79wEmCMgLJHlK5q8dQL2JnBPD2/RiIhRtNAW6R3VZQ5ce2lyGSNAFcXL6ae6RPXqpcHpeAQp0gs/8/Pztry8bPv7+/bll1/as2fPbH193RYWFhJAADAFeMOPXkhQVKZc22k5GeTWarWJK0x1LHB8BVbReRrkoX0sqlevDjVN3rliHaCbglu27OcAeg5oemDNG0PIS8NE6eouCP/NxKYM2OL6icaE6sG7V1HZvPQ1PS8v75kH/pAGrNxIl903vfHlgVP+0Xyj+YlBJ+uDM3NMahCv3+/b8fGxffvtt/b27Vu7vLy0fr8/ccZCCQDr45EUb5dB643fexcfeGXV+c6b67Se9DnXj4L5aP2I5kVNS+vW243xdGHJXZChomt3VN7cvKTpRc/Qj2ZnZ20wGGTr40eU9fF43P5TZFRJJT+GVAQnn49tbGw8WDhYvMXN+58n6Q+t8wh8soW5DOmJwKCC66KFS/PxJmwvHS9NjxxEumne0aJXtBhGwDcHpMumo23O+nIc3R3IAXatLwaTi4uLtrm5aU+fPrX9/X3b29uzjY0Nq9friexw2+p3VVQ/TxQ4RX2MAUbRboO3w+eV0zuQ7cVRIMS6M9DVcnEbcLqIF4FoT1+vbiJwE4F3biu9opvDercncX0hDbSFNzchDw7r6aMEx9OR9VK3ORZ24xuPJ79RwueOPCKl7RwBaOjlfR+Edfd2pby5NALO/Bt6eOSJd2uYcMHd9OLiwg4PD+27776zk5OTB5cIoF1VuL00jLZlRCIi8Yibljf3zKsb/ruI1HhjXfu1tpM3xnLkwtPDe+7VjTemcmuVV1ZIdB4q0s3ruz+xVASnkp+VVC5qBbK5uem6r+gCr8/0OX57wEvFi6eiE703iecWryIdit4VLYyeXlH8iGjo/x4440UvckeJ8ssB9Jw+0cLs5eEt9h4g9vLxALcCeaR5c3NjFxcX1u/37fz83La3t21ra8u2trZsc3PTVlZWJr6Czud1vLpgPT2w5oEMBZ+8U+Dl4bl+5Uhp1F5e+hFwhXgHwPW6af6ukB4SV/IWuevkQIqe7cid99HyeWSAw3F/Ub08wOld2pADepqON/fo2RaOy/WoEhEcJk18Rgp56PeFNKyKBzq9splNfkQRba87fdEtdLgFD9+zgVsfiM3V1ZWdn5/b0dGRHR8f2/n5ufV6vazhgduO6yUHsL1+GRG0XH1pPXnk36tX/TsqG8rkERpNNzeX5/TxyqISzdEaJjeHe3lGJCtXvqgclVRSSSwVwSmQjY2NkOAUHUTWCc1boD3JEZQojQiATnNYuoiAlSVm0TNOPwrrWfbMJncGOF0PlGiZNLxXvx558nSLxMu/DJnVMnrhPKDpteXt7a2NRiO7ubmxbrdrzWbT1tfXbWNjw9bW1qzRaNjy8rItLy9bo9Gwer3u3hao+mteuXMhAGVaVx74y4HcIgLsgQS+FcojnBGAqNVqD3Z2AEBx3kjr3QNt2neVjCoY1PIzEVAQFh1y1/NQkY4A4NE4YaKguz+ap9a/B+4jcKh5K5nxDAPQB0SB9eX0dI6LSI/WsZJFbxxyPNZBdyu5TyEd/lCn2bvLC3A72unpqZ2fn9vZ2Zk1m027urqyfr8fnvuKnukczs8VKHNYb54rmutyeuWAejSvsU7eO28ejeZKr9+VIQJFRGna51F5o7qNdCxDsiqppBJfKoJTILe3t9ZoNFyCUNbCowQnZyVTi64+i/KI9CkDzIvIlkcOypI7fRaBZs0jZ4XM6QopSh/PypC+XN6aVllSkwMSuYPrHF/dtjj/fr9vt7e3ieg0Gg1bWVmx1dVVW19fT7s7y8vLyaocgVEF7Lozw8JAT58rkPUAqUfg9AA866agnV1/uK/yhRZF9eudq0GZeBdIhQ/38+9IkBaHV328OUCfoWw/1F2Fz0uZTfbpiNzkQBuXjcuk6UXzHOqHd9I88YwT6Kc50sL6KHHy9MkBax4jyFfHyd3dnd3c3KRdm+PjYzs8PLRms2ntdjuNWW+u4nx0juTyeWMYOinx99wStTz6LCIQnGaOnHmi5YzKUJSmN195z708o7zLSFkSEo0hfVY2/Sh8JZVU8k6qMzgl5Le//e3EAViz9+4luoh5C6BHcPhdDkB4IKnI9UfTKyu5RYbzLgukPD98b2FRsuSBjGny9SS3CBVZqQH0VD/P0h2BIgCLqKwMqtXqjOdeHpquFx6Cb2ysrKzY2tqa7e7u2tbWltXr9WRl5r7jWa09a7uKkhyATSWuCoy8euP/o7w84FVEsLXu+IfdkfTcRI7g/FDRPj4ejycuPvB2anRMFY0vjseiJBb5aFyOj7y9nVWNo3G9NouAroJnD6iq3qqL9lUtl9ef1biD3+qyqfloWOzYdLtda7fbdnZ2ZsfHx3Z0dGTtdtsGg4F79blHOjCWlIR765ASPS0T61801rgtvHHMv7WN2CgS7VCqDjyuo7EdPY/m+KheuZ60XXPkWOtG43n/63zl6alpe3Vm9m4n8E8s1RmcSn5WUu3glJCzs7MQ+Jrl3QiKwmLCK7JiaXgWzYMXNBYGmWXFO1ug1mTPuqaLa+Sfzul4YMorb7SDEFn6lDDye6/OPQs56+ZZ2nnnQNP3FmAFykqiuKxcFpCfubk5l/ToNxFy7mTtdttub2/TjU6skx4oV+KDMJou68pAVoGXAkH89oCoPmeArRKdKVIgjjB3d3c2HA7t9vbWhsPhxMcca7WaLS4u2tLSki0sLNj8/HwiOR6p5LrxyCv3kTJjUEGXgnHeffAAKANE7YfRPMRpsA5Murkfe+loGI7HpM2rM498QfARU42nerD+XlvpWNO+mCPHTG54PuF80a/wLZurqyu7vLy0ZrNpFxcX1mq17Pr62m5ubuz+/v7B2GM9PAOAvuN6zq1JWjean/YP1FPUzt4Y07HthfXIeG7t8/pbmT6t8b3/i8hLLu3oOY9NLp83zxWt+d54wfP/BYJTSSU/K6l2cErK+vp6ApWkR3byLFpsNLyGzVl6VMouQLl0y+QXkQ0VXYCKAJ2WOxcmAjQAY2UWvWhhw4KSs/aZPfz2BNy8Itc4ztNzB4vck4oWQ6+PedZ5BS1mNnGVNIt3HoXJjbYpk40oLuoIZeM6wzNOC89Ho9FEfuxq4/UtrmMGW4inLm14zxZxTRtnP7zbtbgfaF0z2dJ+wVcERyQBf6MveOnNzc2FdeABrNx4ZDLAbaW71xBt2xxR9erH7CFwV729d17+UR16ZABxywB9zXM4HLo7zFx3o9HIBoOBXV9f2/X1tbXbbet2u+k7NiByiB/NZ95udmSgiXa3QeKUSHC96Jyp6ePvaCdBRYmHvoNEBMf7X0WJTi5/7R9F63ZROcqsyVwuXjM8970iUm022b6j0cg6nU6hDj+BVDs4lfyspNrBKSn4ynluolPgpO/wvIyVjd/rBB1NsDkSEVmHojDR4l823SLLFJ4XlVXTKEMaVZeyeufeRSAqR3i1TB44K+oDnA6DoShvD/hzXkoGPbfBCOTpcyYPZUQJTq1WSwDdK4tHApWkadoqWsceYOQwDD45jldXUT0xwWFddZcyB9pZLwWWvIOlO3asp3cLV9ReTOC8XRL8raDP203lMmibqxGASaPnhsr9Fm6UOs+iTrydIT3jpX8rAfLGV9QOXLfQfzx+v3uDSz8WFhasVqtZo9FI+UeERMcpP/f6vZbVW4M8l1dIERmIwut8o/Wj84RXX5quVxe5Mkf65dbL6KxbLp0orbK6cdnLElHtAxyv3+//bxGcSir5WUlFcEoKPqbl3TrlLbh4nrMkFlmCvLAeKdFFJJe3F071LtInCpuzyKmu3juv3HiXW0g8K1uUtkpZ8hilVYbI6bscSfOshh4wK2NF9OJ6fdPTIUcYpvmf0/TAm7q1cXhNt0wfVR0iMqLkQkFelD/rDwCv4987Z8JjL+r/EdFUKz/n75FArw7U7dGrL49k5PoBdIjK5NUP0vfIpedOxmXk3UGAdgaG6iZq9vByBm2D3FjTskRn5rju8E77UM6dMRKuIwiXW8N4ABpufR55jMqk+nlzjuoeEVeNB/HGJb/j8aaGxaL5PJq/IgLHRgOtaybp0dpW1LbqHumJR2i8drm6urKrqys3jUoqqWRSKoJTUkajkc3NzYXX6qqUBaDTiAe6+F0EYHViLrJyafwyeWga0aLmgdQi4JpbIBGfn5WxDuq7HEFUXaN0vfbIiVduJQJeeby8o7Cclgc4uC/we3zcktMsAzIiUJOrN28XCeEi3VXfnHht7JFGDa/xvHbxdIjcjjwCwxKNAwV83vjNEU0mbV5/iNLwRPsKEzAtg0ekED5Ky8z/cLGWH/H5t9a5txukUkQylFRyGbx+rGVl8cirShHRQpgybQWdPFc3s0k3Ti//XB68WxbNv17deiSK+2MR8dH0lcDqOU7VTYmDlwaTaI80c7mj8ZojWFq+qA0wB3OcwWBg3W73QdqVVFLJQ6kIzhQCS0+RZSpHLiBlwVmRPrwwRKDX06MM6NcFOUo/IkOIF+kUpVuUdy6NIjDPcaK0onhlFzqtl6iuc6Ce//bAahF40r8VGEbliwCdp+M0bZ47+xIt8J47CYeNgFVRf1LJERw9u6NpeXGnBaA6jjltrjPvrISnS9F4UYu0V/aozSOypTqwRERQ+xH+V4LjlUefR3G8+Vj/jvqYjgWd+71+h/QYYHt1FP2fG3daf158HWesnze2+bmm6YnWvVffXrvxeC+TT/SO9dYLHrgucvU3DbH0+m0R+Yt09/JhAhrlxX18MBhk862kkkreS3XJwJQyNzdny8vLhcSkLOgvWvC9RbQMKM9NwB4IywHxSKJylAnvxfF0KCKCvLCX0SVH1LyFuqwenHZUhrKSA0Cqr+rm6axpeH3OSzv6O1e26FaqCCCoTlEbRPl7EgG2iHwoeOXfCrg9suCNU9aZ//fO8eCdgnJ9r3Wn+RQBtyLyojoraI7GQwQoc6TG63dRGmgfzyWvVqtNXOutfQ9uRlomT0/WQ92izB6ez0LZOSy73UVES8cE96HIpU5v5YrGQTTOozGnz705JaojPRMY3bjmxVddvXDePGg2eZ5L9cb/ZUlOVBdRuKguPMnl7aUXjQmE7XQ6NhwO3bz+RFJdMlDJz0qqHZwPEF2gPVCbA7redbWcrnfTSu4MigcSc0Dc003jR+/4/bSEKFowVK9cuSMAWZZYRGBbgaWnrwfMyuRfVOYI7HvljJ5p3elvvY2M9Y36cg6sRMDAO8Dr1Zu6kuTy9tyBVA8uq0dWlMRonRW50zDRQdzob2/84X8d25FeXL7cXBNdIevFQ5pef2fQ6qUHgsF586F6bUcGvpqW5/4IMsLPIj1YuM2ZKCiZ4I+Fcp4MyrlsrKNHRFQv/Zv7QbSbg7y1f0egOtdGrJ9XN3wxhZIm3tHL9UXVwdNP89a2jEhNbi0pO99yWqqjt0sXxS3KF+nl1hIOH/VnL0+Nl8MYlVRSSV6qHZwPkJmZGVtdXX0ASD2A6YFwb8LThcWTadvKm2z5nZe2t7jlQGBUJn0WgYIiAF303AOBCqSjsnIaXrnK6BdZ3zzJAQINU3Q2QIGHllPBVETOIjDugUHOV997zxRE5y4UKOqPUd/32skjYNqHtW5yZddxznnk9FY9VDfOW4GrRwByc0REZrTe9KphjxDkAKeOs2j8R/Of1ps3ZovGp1dOdnXk9wCiTKi1zEV6e+VA2Ehv1YHrNUqb9Yl2QjmONz9HgJvJDD9jAqZly5XVK7OWvYx4/QkC960ovVz/07S99KNweOaVnftwUT/20vJE3VR1/pyZmbHr6+upbpP7iaTawankZyXVDs4HiAcmzB5aR/U9wuTSiPKbRq9oIS2TbgS+isIVAVCVIgBflLZHMjywkVsci/LNhYmAkSdF5MdbKMv2j6icHoD3yIiXjqdLDgR4gBcS9cdoMdc81DVHyxHpqsKgLhLvtjJNI6erp4/2U69NPFAZgW+PMEVzURFIV4DstZMHvor6s1cfWj4tZzRn5coc9SsW3rn0yq06qn78LGqrHPhnwhKJp4dXV1Ha0ZrjjXHsTPHznAumAvpIvHbSd1H5onbgyyi8+bDMfOaNvVxdsn4fMq6iNHNrqOf2yO/ZBbOSSiopLxXB+QAZj8fW7/dtaWnJzGJw64GyaDErS3Z+DPmhpGFawqXx+e8ioFR2UY3yyIHQKM1p8ss9L0v6isiPLtIM7hDmh5AhDRP1RwV5+tx7VpReGR3LAGqtA69+cmNwGonaO9IDcTyg542pCIzlwnjAW+Pwe++ZBwb1OmSvvEVEoehdUfqR3lEZcmTEI29RntHfXvtF81yUbo4oFu3mF5EtL62oDmq12gMjQo4gseTm9qJ5PyoXpx0RGy5HUT1xWjnxCFGkmxd+mrWxTF/h97e3txXBqaSSD5CK4Hyg3Nzc2NLSUhZYlgFQuUm6aFLTibsI5E5DbPRvXRgj8DItUfvQiTsC1WXCFS14HkicFgyXWRDLLM6ebmq5zUkEqhVAlCVv05C2Mn1EScCHSBly+UPGmSdliXkZguHVU45gction5XtI9wPzOyB+5qmXQbUeiA6amePIHnvo7HupYs4RW1e1BY5gqZxxuOH51e8fMoC7aL4ObAfzcHevMbfKtJy5sjlh4zVskSHw0xbXx8SLkdOfujcH63PRX2Cx+VoNJoq/0oqqeSdVATnBwgDRe+dWQxUvPdlgIiXxzT6st5F6ZQBZ7nJ3wO5HvDgMHqFbZG1nP/O6ZcD3F54rz1yYKssqVRLqUe+PKt5EQkAWNF4Od289lXA61l/9RmnF9WN55KoeXk6eGBXbxHlmUIAACAASURBVPVS4BARdq/8Xnt76en5mFx/89o4RxSjvl4EwFWfqGy5+sjNCV5b65ynbctAPzqzFwE9r929PqI65wiQ6m3m70p54B/PoyvC8V5vV9P3OZAbzQG5PhbprHpHYbz+GdVpbn7y9Mh9HDRXL5y3Vw6O4737UHLijcvoWSTRnFh23eKyoHx4/n/g3E0llfxspbpk4AfK2tpaODmx8ATpTVpFEz6nr2l5C5EnZSb8HKkpu1hFi1PufS59Dhvp59VVlIYn3kJTJn7R+FGgqGDW09+7MIABi3cTl/6v4DwiJUVkIEf4vPr2iIfmE8UtE5bj5NpD9fCAclFanDfH1Q866ntvLHN759qrrLAuUV15H8wECOW5SucPr896ZWMwq+cIvP7u6e/lrXXDaXrxvDgK2llypMkbd9x2Hrgfjx/u3kTzklc/ZfuBtl0unOrh/Y/zOPjgZ64Pl8nLK6/X7/hd0fzp9SHvMg7N39M/R6C8PhGtyZqe9t/cWOI0OLw33u7v7+3m5iZbP39iqS4ZqORnJdUOzo8gOnlGwI/DRxMzh80BTvztHQL2JlhPvIW/zEJWlgyUITBR3AgYeIuKp4sH7nOLcRHAjXTOgQAPEKs7iLc48k5MBNo4/TLkIiIbXj3z+yIwwb890MZh+XnRxxzLgH0PfHOba94emNDy5vLy+ljUFzzJ1TnSU50jHaN+641pzhP149WZmX/ttNnDfsu/9QrmXNt5xMWb76JysM4c1ztPo2XVtKN+qree8ZXRSDdHnvR/r4969VFmfuRw/I5vi9O2iOp6bm7O7u/v00UM2hdY99zcEvULryxefeTa35v3orNTuX4XjTlvTHnjLtLTzL/6ndPMzS86XxbNIZVUUkl5qXZwfqDMzMxYvV63+fn5icUAUgRqOIz+DdFFAc80jIZHehovOsSaI0c5/T3xgEPRAuTFKxvGW2Q/pG/nAGIk3sKYS9N7V1S3HqhD/AhcajjvHZ5FX7eP9CtDCFQ0LY8A5tIvowOTxAg0euE9/bTOuZ51XETjxtM7klxfi955fc8bs0XjIQrrlZXzVUDM+Xt5TltGD3RH8Tgurhj24uUAdpm28khJ0diL5ie+ttkLF5E27d88hrwrs1m4L8/Ozk6ERzp825qng/c8R4S4zBqnKG0tS25sRf3NW/eiseuJN7bQfl7+3KZeO3A4rn+8u7u7s9Fo9H+N8FQ7OJX8rKTawfmBErmbmcXb9Z4UASV9p2A3AjhePpEFTPPkZ2WkDHiJFhNv4eEwucU6SqMsKfPSyBHNadIrG84jEgouvbQ9YlNGcv0yAgmqZxEYyKUZvde4Xl+NwKlXn2UkAlDTgl0P0H2ITFOWKJzqFRFcT08vzdycEJUzmn88KUPwvbSifqjzcq5Pe3OrF4cBbW5+KEOeEK7o20aeRAQCcbz2jEi77tbwB0Hv7u5sdnY2Wy4v/ZwukWgeXnm9/HNj1RuPEVHJtYF3LjTKk+Op7pF7oZJeTaOSSir5MKkIzo8gw+HQarV3W/4QBekfsoDnnkfgocxEHz2PwELRhF52wp5GpiESHwIki+KWsTbm0v0x8i8jEZgpAyRzRNiTacIXAehpCSveRfX2oaSc0yoCGBEB8kjoNGOA20wJnZemxiuSDwGa04oC+WnTiEByTq+IiJSZM73+x0QwOtydA9Zl+k4OYEc6efkWSZn1hkkF/w+Sw/VR1KbRO29tiMZ4WcLmPY/Gh5bZEzUAFM0lubBR+ZS85Uhh7tKKSiqppLxUBOdHkNvbW6vVajY/P29m+QmQpayF05vMWYostJ4ULSxFYcpazooW6CLLqoYtoze/L2MVy5UtV4+eJbGMKBgsCsc6RuSgCBTrwfioHTwrp/6taat+RQDGA1UeQNH+rOUq0slLQ0VvACujV06i/hWN2Vw7FP3tSZk+mSORXjiA3SjNIrJeFKYofm7cc1/w6jSq5yifKGwO5Ed9JUdK8VP2wpkozWn7O7/zdia4LLOzs3Z3dzfxLiqLjk1vrEdS1Nd1vJddW4vy9P4uSivSzUs7GtvRvA65u7tL9V5JJZV8uFQE50cSb3GchmRoWpHVq8zzIpCZWygisOFN1tENTjlSUQYI5/yatRxF4MhzVcnVe+5/Fi1rDrhpnJzkyE/OquwBlihPr/1zi7SWA+cbvHB6hXNRG0XA0Pub67yof0YApIhwc9oRYI7EA3XRWIvagPUtIuhevXIf8chbpDfrpSAV770LJyKQp/3RGy9evqqX1wYRydCyem2ldRvdiua1Vy693Bzg7coh74iseWXN9UdtN24/74wHh+cLCvA/3NNAckB4ovM9ZftpUTtq+cqsBUVSNA/n1tsojdx4yvVPzYuvLJ+mTJVUUkmxVJcM/IgyMzNjjUajVNgc0CkTN2dB8vLhhV3flcnLi1MG3JchO1FeRfoqIIgWQ9UnJ97ilgsXlVPL44ECL88ygKYsMebniBu98/RhgKT5liVv0B9X0ZYRbs9Iv9yhc31e1PY6jiJg7aUfASEGmV4blgHpUT4AzR7h0LQjIujpUOZs3jQgzOvX0YUSTIjwzJsLim6s8oiaV178j3rUevH01HQicsrjhsvDf/PVzLk20/7krRv4mwmTN094dco6Q5/7+/ukH5Mfs/y15F5Ztb5y5czN/RouN295eeXGd+5Dp9yuOt8zIdRwWg9RHSEdpH17e1t6nvxfkOqSgUp+VlLt4PyIoouQmb9lb2YTlu6yoN8jK57lyZtgvTyiBVOlCJxrvKIJ3ovD/0cLsT5nEOmV00ubw+mOh+ah+Xn1kAPY3B9yi7lHlFinCKR54oELr/95ZYz6CNcTpxf16ahMXhkiwOLtEnngkuvL00klAiAcV+umiExp+qx/7prySCJgpnmo7l7/LSIlGtbLs8y3thSIazk4r6hOc+Qqlx/+V8Kn/T8HQrX9I728v2u12sRV0shDd0ZYN69faJ9WPaN+gb6WM/BEY1z7Dd+ihh0b1onHhLdD5/UVrdsy45/FaxcmXCxlvhOkaefWwOhdrfb++0HcvmXGa9H4rqSSSn4cqXZwfmSZm5uz5eXlcHHX/6etfw3vTZC5A4q6qE6Tv7cYI41oovbSjyb0ojTKLAQ5chnpo+Ej4Fsmfk5PBVNRvUVkQBfRosVZ4yGcRxQjcOuVQeN6uhf1/yg9fuaVSeuuTB6qm4aNSF9UJzp2vfot4y5Y9l2kb/T+Q+JzmIjoenUeSa6feAQnagMvTdUPennj3Ssf0tI8GZx714zrrlmuvF5+qnP0LgqXe5ZzH/yQ78Zompy3N3dF61lurkD4aD3y6pPziciUN245n0hn7T9eHNXbq5+youT15ubm//rlAtUOTiU/K6l2cH5kwUfTyhARs+IFLZJoMS9jQeK8IiCZCx+9L3qWA1nRolSkl5dWTnLE0qvPsta1aduhCCzqIhzl47UjP0deURpR+tMu1sgn0kf18ECG5h3potZjzV8lp5PqE+laBsx4BFbBpveuSHJlQtpl09L0ioCvEohIh9zzsuQqqi8vHdUt6sdliL/2j6guI921XXMSjWsvHwXbufBF83KZNvDeF803TOY9XaK5KZKI/Ok65dVN2TmvaC321qCittcwZccnj6v/4+Smkkp+dlIRnJ9AhsOhzc3NuZNitOAWkZVcPC/t3GKg4cosukUAsGy8acJNszhPQ7zwfFrCVha8lFlAo3yKdPJAVK4sZcFmLt0o/yIyNG2b5CQCTUXgoijfHEAv20c0DfbJL9JpGtF6j4wcOd0+VB9v/onIBYcrGn/T6OzpwWGLvjMS6eiNjwjkRqC6qE+XnSOLCHsZo0iO1LHOubDTlmma/lREir20lCjlCEOZeXCa99G7MutBrs/oTyWVVPLjSkVwfgLp9Xq2trbmnvEw8xdFzwoYAZky4AvxI3IDyX1F3lt4ywBHnsAjkJAjapE+UbhpgTSXL3dNcBS3yBroERGuEw3HaUUflePwZesgAple3ykLZnIkwSM8uXaO2jUicvw+cp/xJAKwmp8+53S9tvLGbE5yAB5l0nouqiMNz65fOu5Z12iM5wB+Udk8suGVvyjNonHLf3P5vfRz7e0BffwdXTKA+FpW1V3nO2/uj+aO3POcTlw2bvMc6fP6l7rnFenCfSs3d3J4zSeaQ70y5tanovGTW78iIlJUHk2raL1SHe7v7+329rZ0HpVUUkk5qc7g/ISyurr64Pao3OTnLUC6GOuCHB3s9sBytAjgXURoGFAqcNIFmyX6SnduodFF2ZMIaKqUWZw8EDjtmCiziPEzjwhElj7VkdOKQKynX9kyRUA4V14FBBrGIyRlAJemHenKaXgAfhoi4oHyKE0PCEd5cdwydZvrixxGx7/WS5SGfszRq4OonVmPsiDYK4P22ahPoP9oX9d8uS08d5+ob3K9IR4+2jzNuInK7dWjB56nIZRRmaJ5xFt3arXaxHduNLx+Bwe/EU/zxhklJSfTjGnvubc2RXFzfd8bx3jmGZZ4jY3cx6Jy5vTD7/v7exuNRjYcDt2w/welOoNTyc9Kqh2cn1CWlpZsfn5+4hpSs3iBzoHx6KNsmIj5qklOS8FPlI8HuPh/DwzxAuDFU6CXWww0jupUFFfjeWlHeUVl14XSK28ZMFKGJBSF5zh6qxm/j0iRR0yj/Ph92W/rcLwIGCOtHPj1LP9Rv+YPULJufMNSRBo1vAeKuH9oX47KEo3nHOFQ8KjjLgLCer2xNxY4TyVmXjt6VvUcIMVNW947rx9oWXhewTs9MB8RRc0jNy9E5EwNN4jj9UNvZ8ObP8rMeV5daTupeGTWq4doPo3aKNrFVhI8Ho/t7u7uwbXI2p6cl5K5aL7NzYcaJprny6TjkS++hc4bZwjDdZPrU7m/zd6PW8UFlVRSyY8r1Q7OTygzMzP25MkT29zcfPBNhDL1HgFFTLC80ETXZprlPxCJ3/zBMQU3Xto5C2nu/wiweH97C1j0XMsTLS4euC8iRBwuyi8ijfq3Lo5l4qrotztUV83PS9MDCZp/DixEQCVKPwJtEXj2QIWnr5cPW5H1fQ6sF4kXN9KrTNtwOTWugketb62TCLR5/Tcag9745nS8PuE9jwgAE7PoeyraTqxzBCq9uAjrGSNYJ60HWNU3NjasVnu3UzEajVzyxXpzHfP/nn6eROWLwnF+uT5Ydk6I1ppIdP6p1Wo2Nzc3UUfenK35eNeFR+3p6ajjwyt3TrgMahCJ0uf/PdIV9TP+QT/DDtnPRKodnEp+VlLt4PyEcn9/n66NxjcxzMoTHDPf8ovFBD9m7yfnmZmZB0BFJ1becufn+F/z9hZRBhFlb3/hvBTIsL5l0mEd8T8WiyJCo3UQ5eEtqGUAvdZlEYgok49XZg84ePoVkQsvXhmQUASwojiqb65/KbAvU07VXZ8X1VFERrQcZUBUUZ1E/Uz1UB31OcdFmkWALZcOJNrpyenkgVX+G7p5QDgiRRHJ8QAm/o4ue/BIB57Nzc3ZZ599Zp9//rm9evXKDg8PrdPppLDRjiYTa8g0QFt1icZjGQLkjRWPIEC8D10qgPfKy3Pd3NycffTRR3Z/f29XV1c2HA7TPO+RD24jr2y5caE66G+VXDvkyJ7X1lpHnm74P/dT7d5UUslPLxXB+Yml0+nYwsKCrayspMWAyQ5LDihAQGBmZ2dtdnbW5ufn0w8IDyZmthLBZ1rJBf5mUD7NojyNjMfj5HP8U1iulKxBisjMjyFc554unrsUxAPjUf3oFclIC0ABLiQqvPh752Fyi63XH4raL0eePMKpYRUIRQRFQUn0Uc4yZC4CVWUIYvQuIiveuzJkqgxhQppFIDka5x6ZjiSnV1lC6eUbhY8IjhdfgTWeeW0NcrO2tmb/8A//YH/zN39j//RP/2SdTsd6vZ5LXjTNojop245FYYqIS9R+3pjSMF76mrbuvs3Pz9vW1pb94z/+o3U6Hfu3f/s3azabdnt7+4Coeu0QkSv87c3dXlhO1wvriUdIIxKci4O/+YfjchpY/yuCU0klP61UBOcnlqurK7u5ubGdnZ104YBOgN7ECNEJHKRmNBrZ7OysLS0tWb1et3q9bktLS7awsJAOh97e3tpgMLCbmxur1Wp2e3s7QXZUcsAhZ/UsS4oAZm9ubmw0Gk28K7q1qOxzr1xlyY13G1KRDoinFs1c+kxSonw8cJRzFZydnXXD3d/fp3f6XtP3RPUr+tih/u2RTY9s5cipjgGuPw1fdMj5h/QPFqQDoqf9t4zBgMeR7qoy+NOv1OfIKsRrp4jIeYA4Ap1lyUVESHPtwnnk2pCFx10UJ0fYGMyC4Hz22Wf29ddf27/8y79YvV5P5yg9dzfWVc9EeTrkCHTZeTSqA/7bIxXRPJ6ro4gwIK3Z2VlbWVmxTz/91P7+7//eWq2WHR4eWrfbDXfUI9E6QptGfb8MeYvqiZ95pF+fe/XIOuJ5dLujnp+qCE4llfz0UhGcP4H0+307ODiw3d1d102NgYznvqUEZ3Fx0czMNjY2bG1tzXZ2dmx9fd2Wl5dtfn7eZmdnbTgcWrfbtU6nY51Ox66vr+3+/j4RHhAMTput8hFg8w5iRqRMLVt3d3c2HA6t1+tN+LV76URkSvPh31oe771nnfTeewKC6oWJ9PdIDYfx0sqRPX6vANnTycwekElNixflHMmD6M2ADPByF05o+hzf2xGKDjMrKEQaGEOzs7OlwDGnZWYPDlBH59q4viI3K40/MzNjo9HITR+7sd7ObkT4kNfd3V2WRHA5vXpUUOYRR+QJw0hZAqJt6qXtAVSPDOhFEBwH9ea1Ex8g57xzY/Gf//mfrd1u26tXr8zs3W2YnIbXh5GP6jINeeYdfq5zT8oaGqLnqLcyhFPbmv8GwVleXrbRaGTb29u2uLhoc3NztrCwUGqOLSKiHrFW8hwRHTyLLmbx9MEzz5Ck5ETHu+fWhjzH43HyqKjITSWV/PRSEZw/ocA1SydZnaT5lhU8xyQ9OztrCwsLtrOzY5999pl98cUXtre3Z41GI+3ejMdju729tX6/b51Ox1qtlrVaLbu6urLLy0u7vLy00Whkg8HARqORjUajB2eE+HcEmCJrmmdJY5LDrgvTSM46N02cnJ5ln0X56N/TPNNFOSJA0ftcehwP79Ta65Wb01JgkdMhRxQ1zbJSdoeNwZ/+/SF1rOlgjOV2Tzz9PHKMsDlDAZfPqwMFfx74xS5eZFDQ9PA3k1mP9Og8wOnc3d1NGAU8YqJxpukP04h3MQeDWOgyGo3s6OjIut2u9f8/e+8WYmuSnYl9f2bu+z1z5/VcqrqrG9E2Ek0PYyxbCIw99oOtR8Fg0IMxxsjowdaD8Vjji8AwzIPGCHs0LzLGtvSgB1tCQg82Y6MGoe4GMRZ2t2uq1a2qc06ek9d9yX3fedt+OL2i1l65VkTsrOqqk+fEgs3e+//jj1hx+f//+9aKWDGdolaroVgsqve9HHM8H0AH7nQdXRvyAFj14GIZXaz0JJLgyDw1z6GULHvt+ZrP5/iLv/gLR9S3trZMw0qWZaoRgreTVkdeV0nS+XW+95bMT7u/udBsCG4MuLq6MvuKj21OfPj7bzabPbTgAkmSPEhJUdS+QMmyDJVKxQTb3NLDzy8WC2cpa7fbePr0Kb7+9a/jgw8+QLvdRj6fv2Ntovz4VLXRaIROp4Pz83N0Oh0MBgPn3ZlMJo7w8Acy11ETn+VYAh/+kqDvWECjvcRjXmQhvTVwqQF9Xr7Wf3JeOv8trXo+QOITDgqtaRuyDlZ53KrpK08TmV+o3+WxENnjhN4SOu8jniECaaXn9yLvO+281Uahsi1yJYG+LCPU9pZYJErm48s/dP9p95TWhz5CrQFNi0x9FlKkkV0CnRsbG8jlckvHQnlJsXSTpBm4O2WVl8mnl8p8eP7U1tpUPUtIF82bFdO3PP3GxgZKpRKA18R2Pp+rMwLW1taQz+fdmlHfuOT3oDVutfEq+8x3r0qyJd9RdIwMgVdXV464+cgoNxhSv1xdXeGHP/zhSga6N0xSFLUkD0qSB+cLFAmS+YOOpprI9MDrF26tVsPjx4/xwQcf4IMPPsDTp0/RaDQAAOPxGLPZDJeXl7i+vkaWZcjlciiVSsjn88jn8ygUCqhWq9jc3MTu7q7z5nCvTr/fx2g0wmw2cw9yi+yECIFWd5L7BDSwgF5MHj5gx/VZpXx+POa3Bop5u/oAsaYnnxrFiXFIRy5yEz9NX6mTRaQ0Mqud18CtRTxiCFbM2KPzPqAE6FGTQm0qwZVFnCyyL8FoaCxLfXgobamHr41ken7MIhAhgqTpoLU5XxcWIiu8jXxjj+el6WblSfrwNlxbW8PGxsYdb4xFyni7yXU6vj6gD7+X6b/WHvK+tO4xX33lsyeGiGnPJm380G9qO7kZaJZlKBQKbt0oTWFbpd8Afa8dLb0lPOIozYigaaRETIjQ0JpVmvFAU7xD5EYj6mlqWpIkX6wkD84XLLlcDvl83v3nLysJfoFPvT6PHz/GN77xDXzta1/D48ePUavVcHl56Twyo9EI0+nUEZxisYh6vY5qtYpqtYpyuew2HiUL22QycVPYer0ezs/P0ev1MBgMXH7z+dwRJ2nZIj01gGGBVh941Ky0mmgvNO26WOAswUrsi9LSi4umgwXIfGDZAhR0ThIGyyIaIlKrPg+kHj5LKc9fIzirlG31tQ/gaf81khGjiwRuoWtlHS2CFCt8rEqAbOWtrReSdZD6WYA9RALlveQb61K09RLy2RAC3Vo9ZTpJFvhY8JFhq799zw5rfFr3iuxTTXwGCG28+/LxETGf8PREzPh+OLIeGxsbKBQKzugWyltrUy1Ai1VHnpbKJw9dsVhEsVhEuVx2XqXF4tNIn9PpFOPx2L0LadoiGQBj711qm8vLS4zHY2+d33BJHpwkD0qSB+cLlqurK2c5CoHNLMtcCM4PPvgAX/va1/Do0SOUy2VMp1O8evUKL168wOnpKYbDoZtilmUZSqUSarUa6vU6Go0Gms0mGo0G6vU6SqUSCoUCCoUCarUaNjc3sb29jd3dXXQ6HXS7XfT7fVxcXGA0GmE4HGI6nZpeHU3kudB/65gvjWYZlm1p5ekr3wKoIfJkgQurfAvsa3r48pbpViEKWr9owMLXJqG+5flp1/AplbFgznfMp7sGRq129BElX9/I+vnIqq88n1BaueYgBuj70lh185FzizD6CILVvoBNcGR5PlJvjTVZB61PuSVfq7NFan1tpBErSSp4Wu1ZprWDVieZl0VWQmMl1I8yH76OiQiiHJ8UAIfv4abVyWeAkM8TLnwqHJ2nyKMU/KBUKqFSqTjjX61Wc9HyFotPp3WPx2N0u11kWeb29ZnP586LQ7po+pHQOKIAO0mSJPniJBGcL0Hm87l72JJowJbW3Tx58gRf//rX8eTJE5RKJczncxweHuKjjz7Cxx9/jF6v56xKBBbz+TyKxSIqlYojOZubm2i329ja2nJEZ2Njw5GfdruN7e1t59Gh6Wvdbhfdbhej0Qjz+dwRHfLqrAJy+X8pFuABljeEk2l8VsfYF7QsUwOlVvkWSZC/NQDsswZrOlkgWl5jSQwp9REt6zqr7X35UhqrbTW9Pk/drfa7DzmR6aUOFpiUIFyCI2uzQas+9x0D1nVW3UMkUhv/Wt7avWrl7esLTX9JFGTZvnO876z+s8qlY1aUMq2OvjbygXxOyqxnBv2XoYo1AqORIJ4nb1Pfs0tGC+RtSFO+YtYRavcApZWeHE5o1tfXHYmi7RSazab71Go1Z/CrVqsoFotLkQzJg9PtdlGtVpdmPkynUzfdLMuWN9SVz2ciN6tE00uSJMnnI2mK2pckpVLJPVABLL0IgNfkplQq4enTp/j5n/95fPOb30S9XsdoNMKLFy/wgx/8AB999JHbUI3P7+UvPZoKUCqVUK1W0Wq1sLW1ha2tLWxubrqHPLnpgddepvl8jvF4jMFggE6ng5OTE+fZGY1Gzl1PIaf5ngf8ZWYBDwuIai9bn3WSL6rVgKLUJfQC9wl/qXLRQtTya0LAfVWJAVuWddhHAiWR0shjqB7yOp5Gtp/sc43A+YiBVr7Vxxrh4L8tQutbJB86Zl0n6yut9dp4tdrfB2z59bJcXkepi2V80PoB0D2n/BoJ0KVe/Jh1P1NaqZ91L2jAnqcL6ay1gawLr782JkNEzxqrnCDIKcHW1LlQ/8p6anXj6SS5kGlkOVbwE95nPPy1fMZo96HvGUTHJLmgNadk3KNZDM1mE3t7e9jc3HTvu2KxiEKhsBTIgYf6pmllw+EQp6enODw8xLNnz/D8+XOcnJwseXFIP9kmsv8euKQpakkelCSC8yUK7RWgxdUvFApot9v4uZ/7OfziL/4iDg4OMB6P8ezZM3z44Yf48MMPcXJygsvLS3ed9TIjKxOt/+Gu+Wazic3NTWxtbbn9dMhdTy+l+XyO4XC45M3pdrt3AhMQ0dIe7HKcSX0t658P5IYAG29PrV2svEOipfdFUaNyfXXygQ+LpPBzElBZIMfSx1e2BoRXFasfLABs1VfTwUdw6L8M4yvLtMrRCKFVP36dDEuslWOBcG1sWH1kEUkNqMcCX4uwaoBdglF+HSdvGqHU2sU3Fiw9ZVrZ51p9QsBZkgpJROX9wMvm4usfKRYh0gC/b1zKvqDxpemniUzvI60yT36cP8cpiI42Dqy60resL8+fvDU0BY2MeJubm9jc3ESr1XJem0aj4dah8npQlFF6hxERI+MgbfQ6GAzw6tUr/PCHP8QPfvADHB4eulkMsv34FMe3SBLBSfKgJE1R+xKF1rPIDdE2NjZQqVSwvb2N9957D+12G1dXVzg5OcEnn3yCZ8+eodvtuoexJhLokKucXOz9fn/Js9NoNJxnh6awUXACWq/TbDYd0RoOh+h2u+h0Ojg7O8PFxQUGgwEmkwkmk4mLNMOte6QTHfOREPmiev4IOAAAIABJREFU06LSWC933gbyGAcqFpDWwL9mZbTAnaab9ZLWAIcEahpo18qVuoVAkFZnS4cQOdF0k3UPkQWNSIXAYEy7W22iAUFfv1ntrgFtLVSt9lvLQ+t/SycpVrvJeklCbvWJlYfVN3IsWNOLpFDf8FDH8ryPZMo+su5xrqdcS0h79shreIRL3ieUTgs5rZVnPV/4s9+6f2QbWPdEbMjqmHvRl5aPHzquebL5fafVT74HZDnS68NJTT6fR7lcRrlcdtOwt7e33ewEvt6UwlIvFgsXOIf2iaOp2OPx2O3Rtr6+jnK5jFarhXa7jVar5QhSqVTC7e0tptOpm0HBx582hpIkSfLFSyI4b4DwqWpZ9jqwAO15s7u7i0KhgMFggLOzMzdVbDabmVY0TfhLhjYcpYf8aDRCv99Hp9NZCkjAv2meMrn16/U6tra2sL+/7zw59BkMBi5AAU1fI4LFQ29qLwLtWMhiaYk2ncMHwCUQkMCep9d08QFPSw8rH60sjYxYYNvXXiEdY8GPRcS0tQcaYJXntHJ9wFbqQWKVJc+HyI12LXB3bQXvCw2c+wihVr42jkLkSitP5utry1X2T9FE60/uNYu5L2Lu89i+9d2Lsjyt3pLE+MrU1onwe8Gnd4goyzax2ieWQIfS8XNyHPG20p4Vlk5Zlrl3XMxmvZSXJDUU/axUKqFcLqPZbDoPTaPRcO+qSqXi1pfyiG5kfCNSQx/aE46C9FA9ad3O3t4enjx5gr29PdRqNezv72MymeDs7Azz+RwXFxdu889EbJIkeXPkMxGcLMv+MwD/AMBvLxaL//gnx4oAfgvA3wVQAPC/A/iPFovFCbvuKYB/AuBfAzAC8D8B+HuLxULf+vgtlsVigaurKxfBJctee3DoAV6r1bC2tuYiuvT7fUyn05Xd3/KlxEkHrbnhZIfmL9NLhCxY9PLI5XIu+ky9Xsf29rbz7FxcXLgpbBR9bT6fL0WgoelsnOgsFnej7oQsmlZdtd+rvHx8oNkCZfcVi+zE6B4L8kP5yHOfpU6WB2HVPCVx8ukry/086mIRRw3o+crRdArVRV6r/bcMHBrIl/rzY777SZIyHzEPiW88yPwl8bB0s4wNPjIZk5+VXquDBmy1e3dVg4hGpDRdeT6al9t6RkjdJFnR2kOOBY2IW0Yhn+FGkhsiNblczk0/KxaLbrYBTatuNBpuujUZ34jYLBavQz5TRDT+XqIooTTzgJMb/h6mKdi01vTJkydoNpt4/PgxvvrVr6Lb7bpNTWkD0CRJkrwZcm+Ck2XZ3wbwHwL4f8Sp/xbAvw3gl/F6ncx/D+B/A/Cv/uS6dQB/CuAYwL8CYB/A/wzgCsB/fl99HqosFq/nAFPYaHqw0sO8UqlgsVi4Bf/j8dhZi7j4XkQyjXwxE7Ggl8FkMsHFxQWKxSLOz8/dIk0+l7ler6NSqSxZ1Fqtlrt+MBig1+thMplgNpthMpk4AjQcDjEej11ENs2zQ3XwWcViLL68Paz/IfJg/bcArgYauI4xllMf2ArlIfOSOofys0iWll7qy78tYBwiplqfhtrDqot13ufViCERMfpo14b61AKHq5TtIyEhUOprG1+7SiBtjf3PSnRlPVYlWZbusiztuHWtrLc8Hlt2bFv7CLM25rRniq9vQ88gizRbxIg2dpXtqpEaTmwKhcKdcM61Wm1pGjVtGEqeGiqP9qshj02328X5+Tk6nY4jLTSVmq8dlXrReQrxnM/nUalU0Gq18JWvfAUvX750a1ATwUmS5M2SexGcLMuqAH4fwH8A4O+z4w0A/z6Af3exWPxfPzn27wH4MMuyf3mxWHwXwL8J4F8A8G8sXnt1/irLsv8CwD/Msuy/XiwWl5+pRg9UptMpyuUysixz84vJU3J7e+sWQVIoaBL5klos9AWlmsWZXwfAEQxt6hqRLQqvSZ4dmhpQLBaX5kS3Wi0cHBw4jw3Nd764uECn00Gv18NwOHQEiG8oyomODMCg7fuximhWfu2lH7II+8q1iIxlSbVAraW7T3ykzAI+msg1T5K0cUDD87LAdQj8+calzEMjkDH9YuVN90yIwPLjob6IOU9lW0RIq6vVhjK/xWLhQGXMeKNrfeA4dvyTWGtpuJ6aDlo6bQoY/7bqQ7pq49UC+b7wxVr6EBGXJEbWXcsn1jDB+0Nbz2JdaxEYeZ12rwHLfeu7T+R/jdTQO4+moBGxoWAB5Kmp1WpuXWi5XF7ar4h7USgozsXFBfr9vguK0+/3MRwOHWHRwjfz+2ex+HTTT9pfLp/Po9Fo4P3338fjx4/x9OlTnJ2dYTAYuKhqSZIkeTPkvh6cfwzgTxeLxT/Nsuzvs+N/C0AOwD+lA4vF4p9nWfYcwM8D+O5Pvv/fBZuyhtfT2P4JgH8RwP8tC8uyrIDX091IavfU+0HI2traUgx/AO4hy+Pvc9FezjGhi7UXE7006OE+n88xGo1cCM5KpeI+FJyAFnVWKhUXmIDW7BAxIfI0HA4dyRkMBu5lNBqNliKy8fU7lIcW8tUCS7JtrPpqaS2gYAFPC0Rq4FDu6RNDQiifVcL48vx8YpG9+wB+3kY8H40UWBZfHyCna7QofdY9odVPlmMBZ4tMa/nx/xpB0Mi11J+PF068tPOaxILOVc7J8igdvx+lyPr7dPWRJ4vI8DS8jax8ZN2s0O50j2llamL1p9TN0t1KY90Tctzxsn3rW7TyrcAtfNzJ8imNfIZZefG0uVxu6Xo6zyN7kvGMb2VQLpedsY/qeHV1tTS1mgxyfA83eqeQEU3bTsEyFvL/Nzc3mEwmOD09RaFQQKvVwvb2NprNJp4+fYrDw0N0Oh2MRqO3MXJakiQPVlYmOFmW/V0A3wLwt5XTewAuF4tFXxw/+ck5SnOinAdLI+XvAfivVtX1oclkMkGlUgGgg2kONPjeAsBdMqOBKQtk8nwlQCAgSWt16EVCIa5LpZKbOsBfUrT4U0axIYK0tbV1Z+oaeXfI0kYvJvJcUdQ5Hv1IfqgOvL0sgKu1L4nPAqrlr4HPGGAdOscjNFlRivg3B3IxZWpgkNLLSEnWGOHXSEKngXHZzhbp0fS1iIWvDE1i+sV332g6aXrJ47I8rd+4hPYiscRHRDUQZrWrpj8HwVqdSHxeMTlOtWM8by0difTy8nuSbzKpkU+tbr524PW22liOf96HlpfFR3C4vhrx4H2qtRGdt9rS6g/ZNrLN5LOIE5gse+2VIWNdlmUuGidtV7CxseHWcO7s7GBzc9MFtKlUKm5fNiIll5eXyLIMNzc3mM1m6PV6zkvT6/UcsRmPx0vvDHpvyHbmdfARk8XitSdnPB6j0+ng5cuX+PrXv45qteqIWKVSUUlekiRJvjxZieBkWfYEwG8D+DuLxWL201FJlX8A4B+x/zUAh19g+V+YTCYT1Ot150G5vb11LwgOdulFZ3lpKI0mlqVKigb8yaNC1jOa48w3VyuVSs4SR+t3arWaO5fP593u0hQxbnNzc2n9Dy3+pDU75N3RAhRwLw/pK0mPD8jSMQ2sW2kk8JfAUSORPquqry8sAqqltwibld4CzD6CJMkcr5+sqwWQ+G+tXTUdfSQnRECkvpoOFiCXANIyEmjt5quHls4iqFa9VyHQMYTKN241smpdy9PL62X7ybbTrotpM98Y0O4Ta0wA9mJ9IiwyD66nJPbyOaxFGdTqJPPjhNJHSjSdffe91FcjODwtr7v8EKnhAQJ4cADaZLNSqTgvPxnHCoUC8vm8uw9p6jJfq3lzc+PCM1MUNHo/0MbTlFa+A6x7hd6tofcCEavxeIzRaITFYoFCoYByuYyNjY20BidJkjdMVvXg/C0AOwD+GXtIrAP4xSzLfg3AvwUgn2VZc7HsxdnF66AC+Mn3vyTy3WXn7shisZgDcBNcY4DiQxUC7LTg//r62lm8yAsSAjj8vwYkYsCQpRsXHomNNksbj8fI5/Nu7U69Xne7SdNeBRTxhjZco6l4NPe60Wi4aQeTycStBeIvM+7ZoQg3HIDwb0t/q+3omK9tYokCPxdLcqQOmt5WPpoF0QfANfBogXetTvTbAlnWNTxvCRR9ZMfKL0R2JHiWx33lh9o/1D7aOQnKLaIam86nn5Y+1La+OvgIaYis8uMaCfaBfV/Yd1952jmtTN+9GXvfxvZFqK7aNaH25L9j+leWy3/LdtHOEzGQG27S1GQiMtVq1Xln6vW6i3ZG624ojyzL3N5u/H0ivfmz2cwZwIjU8CnNkoRadbTqz9tS6w96Py8Wi6U6JEmS5M2SVQnO/wngZ8Wx/xHAPwfwDwG8wOtoaP86gP8VALIs+xkATwF85yfpvwPgN7Is21ksFqc/OfZ3AAwA/H+rVuBtFFqQTw/uSqXiXhj0YiBrUchazMVn5VsFYEoQI6ex8ZDTg8Fg6UXHI7JRffj0NZrGUC6Xl/KjKHL0IY8OX7fD1ylpIailNU++yGPbS2ubELjX0vqAKNdT03UVYir1iyFaqxoRJAgiiQFclpU9VJ5GVEJ9LK8LgVq5mFrW7fMGvqvmE5Ofz3L9WSXUniHiKfX0EWWtDa37SAJTKz9t3K7yjJB15P9DbbzKMyNWViFr1jOEyAavP28nIjR8rSj34JNRi39o42gK40zlLxYLt56GjHr0vB+Px25ftfF47CKj8Y82bVm2hzbuLSOF9d602m+xWDhvUpIkSd4sWYngLBaLIYDv82NZlo0BdBaLxfd/8v9/APCPsizr4jVp+e8AfGfxOoIaAPwfeE1k/pcsy/5TvF53898A+MeL156ad16GwyFOT0/R6XQwm82wvr7uXhzVahX5fN654bWXle8lpxEZ6wUvj/lemvSw53vr0BobIi70AqxUKs6aR/Otaf0ObdBGljGawtBsNrGzs4PpdOpefmTF63a7S56dy8tL9+EvQM2zEwJBPouq1i4WiPS9OC3w7bO0Wy9uX19KkhMLTDXR6qUBBq1OWtoYsB1D2omUaDrGAE5fnVbRV46bGCK9CuHQ0ltjYJU8YtJZZIKfk7po41C7P7R2kv2n5aXlqZETCU7lMa3uIbH6TyN3Vpto5a5K+OV/637U+lIjM0R0eEAAei7TGhry1vAAAVrAGZp6Jvdfo6hn5LEhrw0FCSCvPT3X+bYCnOBa7S3b2Xr+yLag/3wDXGoLvs/Oq1ev8OGHH+LVq1fRfZUkSZIvRj7TRp+G/CcAbvHag+M2+qSTi8XiJsuyfwevo6Z9B8AYrzf6/C9/Cro8WDk+Psa3v/1tfOtb38Ljx49d/P/NzU30ej3MZrM7D3gfsQm9vH1WKkBfz+NbMEsvGB52en19Hf1+H4VCAaenpyiVSu4lyAMT0DxteomSxZDCULdaLRfhbTqdYjAYLG3cNhqNluZlk6VPWvu0gAW8Drzu2ktStpP20tTaVzvns0RbIDFkKbaAoBQLSPnWnXB9fZZQH5CQdZf6xJAjrQxJ3C1yoQFzmY8GlLR6y99WdCYOmHx1CkkMSOa6ammtMmPztuqpAUtZntYnvjaNGcs+QBsirRox1iLYyTwtIC11tQiGpa8lvjEXk16Ot/X19Tu6aYSGgH0ul1val4amHtdqNbRaraX90SgfWrNJ3hl67pLnZjgcLq23pP8Uejm0psZqR4v0xho8eHpqCzLS5fN5zOdz/M7v/A7Ozs68eSRJkuTLkSzGQvWmSZZldbzeRPStl42NDfz+7/8+sizD8+fP8aMf/QgfffQRPv74YwwGgzvrTDSJtUxKaygds8CzD7TLFynPRy5EpWhs9NIkayDf94Cm6dFcb/pkWbZEomjdDr0kaf8DitZGC1fp5artt0MvYKteVntbbWqd09rJIlUyj1UBMb9e9h0v22eJ1kCm/G+RCS0/qVeoTNk2WnhgC/xqREqrhxQtLLlVj9i6hIipdr3llbL0ie0LmT6kr3wu+MYk1yFENilvX2h7eX2IJPKoVpJYhtrUIjNSrP6T+vKxK4G3dp/LCHUxJEk+M3jba/c7J3JEbOi5TF6KQqGAUqnkns+tVgvtdnvJEEV7oNEzGYAzQNGHyA2fZkbTjinEMl9PQ/vayHtPEhwe0c43HmX78e/Qfk3UNrVaDQcHB/jZn/1ZfPOb38Sv//qv4+bmRuv+t1Uai8Vi8GUrkSRJrPw0PDhJPkdZLBYYjUZot9vY3t52L4irqyscHh5iPB4vhcHk11n5WeBEAznApy8AC5hoL3ktnDGlpU3TaH3N2toaBoMBer3eUtQdvnaHNhSlSGz0UuXrd/L5vItAJyPe8Ghsg8EAFxcXS/sj8HngPCqb/PC24u0cAu3aee1aAinWfjcyfx/JDFnutWv52AiBVx/o8wFrmW8IJFppNcCnkZEQobPSAXo0LS29Rf5kudLj4QPVWhpZptYeFgnxkWetH7Ry5NgI3QsSKPrGlY9M+P5b9x6BT61MC+xqoNmnq/Xfd4wTCx/ptZ7RFsGT18pnOo/CSeeld4aMTTz8PwV+obWT9XrdGZd43lSf6+tr956iKcXkoaGgATSdmILIyKnEmoFJjjkrXLdmlLDIvyS9FhHK5/NuFkWz2UQ+n/c+45IkSfLlS/LgPAD5mZ/5GfzGb/wGKpUKer0eDg8P8fHHH+PHP/4xXr16hfF47LwRgP9lawFEn1iWxtC18gXrS0cf6dmhaWlyrQ6t5aFdrbkVke9tQC9cHvyAXrh8KhtZEOWUNgpWELP/Dm/TUHuG2sy6xmdtvk9ZVjoJuDQgG1u2BchX0dXSX4IeC/RrQFbmoeUrj1v1om8JuiySqeUtAZbW9jHiI92he9Kqo1UHX/tJAKnlEyKM1nmZxveM8tVTy0vLx+rPVZ+d1ji0CKc1TiXx4m3NP4DuoVlbW3NrI8lgxKee1Wo191yl9ZO0pxmtpVksPt3jh6a6XV5eLhEavonzxcWF895Q5Eu+vxmvn2//J/k8CbWdNq6sPtD6M5/Po9ls4uDgAO+//z52d3fxJ3/yJ/jhD394t8PfbkkenCQPSpIH5wHIRx99hD/4gz/AL/3SL2Fra8uBbXrJnJ2dYTQauf1h+OZ2ISDHxQIQloTAkmXZ1cqhNFQvWny6vr7uvC60oJUTGyI/5N2h8NN8GhxZJ8kqyckOTV0jTw+RHrnJKA9DKj083NoYM2XQJ7GERAM4vutC/WQBcQsYWPlJK7JVr9ixZlmxfddo+tPvGNK9SnmxZE/TySpn1fy0+vhAte+amLx5eotcyHYOPYtWqZssIwbI8nQ+wqWVz/Oxft+HEGvkT8tfO8bBv0ZsiNBkWbb0DOSBAcrl8lKEM244ouiWkhQtFgu3joZHq6TnNXnHyYBEz9bxeOymBnMvOQBzmpc1rnztbz3HfM8rq/2z7LWHq16vY3t7G3t7e7i5ucGf//mfv4vkJkmSByeJ4DwQ+dM//VO0Wi38wi/8AtrtNoBPicH6+jrOz89dtBltyhoQB5hCVtpYEBSywIby4y9OirDDp6LRC5gIDi10JZJD4ab57tn0kiaLZb1eXwpNyr07g8EAk8nEESBOeMi7Q+3MIwPxfrHaNAbg+Sy295FYkKjJKoTNp6fPo6Adv095GqCO0UvqEqNDTLtwyzr3amjpZFqtXquUvYpo5cb2wyqEhdJT/hrR5cA/1B8WYfW1N+9rzehinY8RH6nU8gkRbpmPJDF0jIgI35OGRzwjQlMqlRyxoeiU5K2haGe01xqtpwGwFChgOp26KJX0TKStDWjNI3nC+fRfbUNmIk3Wfex7dlrPDiudlVaOOWrPfD6PSqWCnZ0dHBwcYH19Hc+fP8f3vvc9ta+SJEnyZkkiOA9Ifu/3fg+z2Qy/8iu/gu3tbTcPOpfLuchktKCewmgCqwExn7XRd02MRZ/np71cLD25V+fy8vLOxnK0bod7dvh0C3qp08ub5p1zslSr1bBYvJ7ORi9sIjzk2aFpF0R8+CajPISp3GxOWpmt9pTtFQuuYs6HyrO8Cav0qexHzVJtkQm5HsEiKqH24+c0IG2BHJ9o/WDVmZ/X2kgr07Lsa/evz7Iv21YjClYeUnetPj5DhpVWa3erD2OInTwWsszzdSfy+pixLceQT4cYsibBtjZ+ZPmS3PAoZ/Sbnms0tZeMPBQcgKKb0XNRhuUn/eg5SwRnY2MDt7e37hnHPTR8XQ2tpaG1NXxaLxl+NNIo20ge19paG3OU5ubmxlxjZt3rGrmhd8Lu7i4eP36Mg4MDfOc738F3v/tdNY8kSZK8eZIIzgOT0WiETqfjotnQlAMKuXx8fIyzszMMh0NHcqxpU58FlMWk8VnhNNDjs+jSOVp8f3V15dJxiyV/wRPh4RvP0UudiBGPGEQfmrYBYGlPH1ogy9ftkIeHXvRk0aQduXn7a3WzrMhaO1ptKcmiTOsjN/K8BWA10KWd04BgDFgPAVVZZ+ucPG+1uywzBEwpjQX0LZCqAVxNT4uMaHlbYhkPYvTk57RjWlk+w0RoZ3drTITqZd0LvntEjlOpuwTYFtHipMmnJ6W3iJVWJ36OkzJOZoh0yOcdN/Dw5xxfT0PeGX4NEQHyzND0MTI4EFEhr/bFxQV6vR76/T56vR6GwyGm0+nSOhq+P43WDtpzRBsLkrTL661njEU0rb7ifUnBFmjbgv39fTx+/BhPnz7F5uYmvv/979/JJ0mSJG+upCADD0yyLMMHH3yAX/u1X8PBwQEKhQJGoxHOz89xfHyMo6MjvHr1Ci9fvkS/378TbjNkAbPOrTpOtPwsQEnnLABo5a+9pMgCt7a25sgOX0hLFk16+dOUNlq7k8vlnEWU5qzziEFEeOS0NrJq9no99Ho9F6WNgAOfysbra/WHdVyTVfpGAxDyeAzx1ayuWtpVdLeIrUWEfATH1yY+EijBr3aeACDPQ45t7Tqpnxy/PB+Zh0YGNEu1r07yd4z4gCKfXqTVx9oLiP7HhGmW9bIIOG8LayxqQNiXlxzntLGyRl40XXmZVhqNyPD1g9JbTc8wbsDhRIbW0ZRKpaV9xHgfSY84/8znc8znc8xmMwwGgyWjDk3TnU6nLkCAtt6Tt7dvLPL/chzd3t4uTZGT94K1Nxk/p+mjCbV5sVhEs9nE1tYW9vb28OTJEzx9+hS1Wg2/9Vu/hY8++mjl9+BbJinIQJIHJYngPEDJ5XLY29vDr/7qr+LJkycol8u4vr7GcDjE2dkZDg8P8fz5cxwdHaHf72M8Hi95FOgFIiVkBfVZg1cFTqHyYvPSLHwcaHKAQGSF777Np7Xxnbdp2h996Fo55YWslldXV5hMJs7KSYSHrJx8jwc+Jz1EerSXuGwjDTxL+SxkwCI/8r9vDGhptXqEwK4ETLJsOq5tQusDYXStBN2+elnAzrcxbIwemmj3qxVm2BLLGi6vCxE0eb1sN2tMaeQiNP5ixpuPQMh68nxiyDPPXyOk9G2RTZ6Hlbc25XZjY8MRGYpiRp6FRqOxFD2SB1bhpIae8zIC5M3NDebzufM+kzeaggLwDZLJG01BVnheVBeNlMt+0M7TuNGMBVa7+t4ZvG/leWuM0FTlcrmMdruN3d1dHBwc4ODgADs7O6hWq/jN3/xNvHz5EldXV2oe75AkgpPkQUkiOA9U1tfX8Y1vfAO//Mu/jEePHqFarbppBefn53j27BmeP3+O09NTt5Eanxt9X1BhpfcREgto3EdC1lANLMv9HwhI0LQNDiAIMHACRF4emq/OAQm3vFIkIb7hKF/Hwy2gMmgBjy6kLcaVFkkfgPa1j7zGB2RDZCUGVPvK5n2iAU5fXjFjLpaU+HTztYfPcu3TKyTaGNb2RYolLHSOt7NVjna97xlwH0NEbN9photV3lehsWzpoRER/t/y3vG8ZNtKwwilJ1JCzx/yvvDQ+Dw4AB2jZxgFBOD3EhEHudkmhWfmm2zS1NrxeOxIDXlxeJQ0aXyJvfes9vH1w6p9bPWt1he8jYjcUJS0R48e4dGjR9jd3cXm5iZyuRx+93d/F3/5l3+J6+vraJ3eYkkEJ8mDkrQG54HKzc0Nvv/97+Nb3/oWrq+vsbe3h2aziXK5jN3dXWdRJc8DTbMiQK2BZuB+ZCQW0PleZLHlhYC1Bvy59Xux+HRfnNlstrQGh0dn4wSHr90hUkTT38jims/nXYQ22hSOCAvfX4cTHAIWdIyABZ8PLxfrSqARavMYiQUe1nmfR2KVMiUADHkNPk+xSFMM6dIkRLBW0Yl+31c04L1K2Zouq/Z3yNqu6esjXb4yNG+JVu6q7WLVmxtS+D1B6WWoZR6+vlAoOM8MbaJJUc24YYWeTbSOhu5/bW+um5sbF+GMnjUUBID/Ju8yPXe4V1lGhLTIfIxoRFp7jst3Q8xzSbvGN27pm9q+Wq1id3cXT548wZMnT7Czs4NGo4FCoYDJZJKCCiRJ8oAlEZwHLh999JHbEZrc6qVSCbu7u+5BzteRrK2tYTKZLE2NApanBoSsaRo4kIA7lvR83kDVVxb95+CA5qFT28hdvYno0NodsqTS1BG+8zefykYW1rW1NVSrVTfnndbvXF5eOrAxnU6XNhrl3h++IZ6c1sYJD6+bJj4wuWofaCRS5sm/pQ6rAtdVhJcRY9219AQ+9ZpY7cPrGXOf+Nrqvm0Q8lKt4uVZpQx+z686fnxEVgOvMZ6f2D7V/vuIm0zPyQvXSX5k2GYyhMgNjCuVChqNBlqtFlqtljOm0LQz8tBwrxERGG4Eob4gLzKRGAoOIL00PISznMLG6yWPWe0u7zfL+BEyeMl7Sq6HkmlD/SXHfpZlbk+0er2OdruNJ0+e4P33X2/gWavVsL6+jslkkva6SZLkgUsiOA9cvve977kpB7Tu4/Hjxy4KDAFwAuTHx8fOk8NfboAfyAD2nHdtfQCl9x3TXkJra2tmfj4dY8UCeER4AGA+nwOAs7J2Op2lBb5EbKhN+WajfA8e7uHhO4dTuZL08KAFnORw0kNWWQ3gWKRH1jW2nSRICXnPrHMaAdbSvlH8AAAgAElEQVTK0YCQz1sQc5yDJK4jF2tMWkSMgy+ZNkQyfXXy6aOd89XbSh/qB8s67hMrLC+V5/P+hMal9CBooh2XzzRrbIYIuva8I8LBxy4ZkGRERpp6xj807ZU+5CkmUsOns9F9TWtg+HOCPC/kfaFnA58SS7/JQMI36MyyzJF4a+xo/SqvWYXEa/eQb+xrhMhngKA86ZwMQFMoFFCv19Fqtdzmne+//z729/dRLBaRZRkmkwk+/PBD/PZv//aduiRJkuThSFqD85bI06dPnYv96dOn+MpXvoK9vT3nsel2uzg6OsKzZ89weHiIbrfrAPPV1dUSkPCNiZCllKeTwEsCPI0wWdZ3C6BK4GK9THn6EFC3RAIYHryANg4l0EJhu/nGo9x6y4MW8KhTfINTitjGIxsRYCESJKe+kceHr+ehvLV1PbLPZJv4rKRaWq1NtX60LLw8nTzvu4aXIderWGXcZwxw/bh1WY5XWWbImu1ruxBBJNDJj2lRxSzAKM9ZBCt0PT8W0llrA61ewN0pptozQD5PtP6g67Vzsn94vQiES68Mn9rK952hD5EXitZIhibunZFEebFYuHuXByShDTZHo5HzyHBPDP3nAQH4FFeqs2xLq31kIAXZ/9p45eQnJFY/Uhmkpy94g8yH14/0pzzX1tZQLpfRbDaxvb2N3d1d7O/vY39/H9vb2ygWi7i5uUG328Wf/dmf4Q//8A+DdXgHJa3BSfKgJHlw3hJ58eKFC+dJm7ANBgPs7++jVqvh4OAA9Xod9XodzWYTR0dHbtfpwWDg1ub4vCckFjC2iIQENDw9P29Zj32WQmkh9lm/AdvbpJUvwdxisXCAg+tOFtxOp7M0V54AjwQ3fJobBzw8YEGhULhj3SSPjRbWlXYSJ8LDiQ8tHCbgI6e4yXn8Wh9rbcXbySKeWh9Z5zVAqgHnGOuxJLEayZF1sMYxpbXGp9Rdq6OVRwwZlJZqWTcfUF1FrL6U+mhlaWk13Tghk2TEMmrIMjX9rI1irWvlXjacyACfrl2U3hgKSEL3Md3f5J3hHl4ewESLvEbPW/KskDFD8+LSdFaaeiYNGeQJ1trfIiUWCddIkO/+4ectcqnlQ9/r6+t3nsuc6MiyreiBnJhROtouoFwuu/DP9Gm326jX6269zeHhIf7oj/4IP/jBD5AkSZKHL4ngvCWyWCwwGAzw8ccfL4FeIjn8YV6pVNBsNnFycoLT01OcnZ2h1+u5qQw8bDF9h4gDpdNAXQj8aWDUSm+BKe18DFjT9OXX+sA0fykT2JjNZktR1rh1l0APnzbIoyQVi8U7gQsoahsJga1yuQzgU88Mlc0JEI0BDpLIykvEh0AV9/hw4iMj7nGQbgEnLbSrRWI1cqOJBtw1UmVZ7vl5LV8rP14vOR7kWAmJRZLkcV99ND21YyFLu3Wv8vNaGb7nQAxRpHJ8fW/VOUTAeLtyIsP1IRLD1yRKbwy/P3mEM05giLjQfc33zZKGCeBT7yyto6Nv8szI6WUyVDPdq3z/GemRJW+t1pa+ftGe79rzT57XyuHvDuuZrOnoOy/LtCIK8t/Ur8ViEbVaDc1mE/v7+9jb28Pu7i5arZaLRtfv9/Hs2TP88R//MZ49e5bCQSdJ8pZIIjhvkdCu00dHR86qR9OaxuMx9vb20Gg0sLe35xbP0/zvQqGAs7MzR3JkqGIL9PjOxQAxIM7avKo12pIQkaI0EsT6ACyloVCiHFwRsZAWYQJSfOM++SmXy47w8GlxFAiBgBSdKxQKDmQQ6SFARDuOE/HhEZZoapskPDRFhnt86JvqLUmwBFSWlVj2h9UHMeDKktjxJ89p4EwDhRbg185Z5YfAuk/HmDpx4X0S0i/Uzj4SyfWL1Y2ntQiyRoY0UsOJDF+kr91/mmdGele5YYKiJfL7mU+HorrzYCDcO0MBYThxoXuRCA3tW8bX2VHkSxkMgCRk2JHPNI0sSiIf6j8fidb+h4xNIWKs1UHmT14b6k9ab7Ozs+OC8NTrdZRKJSwWC3S7Xbx48QLf/va3nXEwSZIkb4ckgvOWye3tLQaDAYrFogOpNK1hOp3ivffeQ6vVwubmplsgXy6XkcvlHCCg+dwEbkl8L0UpsVZtLX2MlVaWr1nuLcu4lo88xl+mll7Wi52smPR9fX19Zx4/j7TGwZOcAsM3G+UbkPINATnpIcBF/0mazaZrD762h1uP+VofGjdEjIgc0ZiSAI7/5mSH2sHqh1D/+ICy1f4xfWTlJXWzzll5aB4aymsV0iLzlPlY3oyQrtYYB+5uYBnTvjHi63etr7R7j+snCU+WZUv7UnHiUSwW75AaChjCiQw3MtA9yKNP0jdwN4ABNybw6WL8Q6RmPB67xf8ULIQHCqD7i2/QSfcPXzxvtSf/L/tAex5aHpUYghsiGzHPX8t7ZNXLR8zpmUcRL5vNJlqtFtrtNnZ2drC7u4t6vY5cLofLy0tcXFzg1atX+Ou//mv81V/9VdT07CRJkjwcSQTnLRUiKPRy5ZF1PvjgAzdljeaQ0wu9WCyi2+3i4uICk8nEgVlfpDWfJTgEUK3z2os4BljFvAwtHS2dLIsnv8aXF5EKeQ0nPTxgAREXPl2NT5PhQIzIzvr6upsuwwMXEDjj0dz4eT5dhoM0mjozmUwc6eGeHwJnciG0XOPDv3lf8qks2hQV2fY+IG+1fQwR1/pK08PqW6t8a1z7ABqgT78J6f1Z0kkPiNVOfPyH7kvLEMB/S2+BRXTkuhh5v/B7hhsA+NQy6YUhbyefasb3sqIyiFhwj6gk9ovFYslYwCObEanhm//y6WbaXld8DMogFnJsyjYnEiTJh+xfH5GmPKz7QBL4+3j5eD4hAi/rq40VTm4qlQra7Tba7TY2NzfRbrextbWFra0tVKtVZFmG8XiM09NTPH/+HJ988gmePXuWyE2SJG+hJILzlspgMECtVnMLUimMNAUh+MpPoqzRXgB8p+zj42O3Lufi4gLT6RRZlpnTI1axfvPjPK+QpV0DmhoBkek5MNPOa/rIdHIKiqaXZbm30hIw4nnLufsa8aG9drSw1URUOZCjRbZ8fQCfXsPzlsSIe2e4ZZqszUR4eFAD+ibLNA+IQJZpAnS0yFrz/MhoSFwskKa1ta+/LWLEf8eMGZ9IK7c13jlQs+pigVZfHTR9rHpZetF/bSqWb3G/tpBfEiqqM18bI8kL98DI/WQokEetVrszrYyMNrlcbkkP0os8PpxcEtmnMcjXpXEiT+vYuIecvOR0b3ADAI+MSHmHCDUnuxYR4G3ruy+05xzPmwN8vrBfI7O3t7dYX19Xy9GE+llG+tPS8GeAzxhA5+kZSeGft7e38d5772F/f9/tK1SpVJDP53F7e4vT01N88sknePHiBV6+fImjoyO8evUqui5JkiR5OJLCRL/lUqlU3As9l8uhXq9jd3cXu7u7ODg4wKNHjxzRuby8xGAwwNHREY6OjnB8fIyTkxP0+/2ltTkhayKJz5Lom7ZE6UhiSVBIZD6rWCBl+Zo137KCa+TJIn50TiNLnARpIWuJ9JBVmqbd8KlunOwQqeGAkggQkSQOAjkA5aCQEyDy4hAYlASIyBGfmiMXUMtpOhJw8r2bNFIk+yLWK6ONRw1Yasd9fcnz1kCj7z7Q9LWs4ZoOGqkKHZdlyyhu2rck6py08HFK+0HRNx+L9JFRyIiskKeS8qX03ANNY1OOF/rPxzuApbEqPZLScynXzEgir226CWBpzxnfM8j3DJF9ovUv98DIcSEJhpYXHzs+PbRxTNf58ua6yeuk10i7H3idObGhoDl7e3v44IMP3DRsIrY3NzeYTCb45JNP8OMf/xgvX77E8fExOp0OhsPhnXKSmJLCRCd5UJI8OG+5TCYTByQuLy/R7/dxdXWF8XiM4XCIXq+H8/NzPH36FNvb22g2my5KFwUhODk5QbfbdeGkOdEh4S8lOs6ntckXurT28us0ACgtxfchOSEQGcrT2tk+1A6WxV3z+mhtx3W0Ntkj8iF3T5freziYJNJTKpWWorZx0MnXNZA3SHp86BzlJTcqlAulORkigMhBJt+4kE99kwSKr3ng0+FkFDhOiDRipPWV1b+aWOc1Qh4iI7LP+TjweX94mRpolul4WjrO+42Oy2mU/Df3Bsp1YHyc8fVmfBNcnpbGJifs0pOjtQulB+BICY0xuQeMbJ/ZbOam7crNdDl54cE6+EeONTmmZB+HxpZGXDRC7Dsv+1f71vLixyxDknxGWvtNyfa2DARcrMhoWv3oWVOpVNBoNNymnY8ePcJ7772Hvb09bGxs4PLyEsPhEGdnZ3jx4gU+/vhjvHjxAufn525mQ5IkSd5eSQTnLRcCmIvFAoVCAVdXVxiNRri5ucFsNnNT1mjx6+7uLnK5HFqtlguzycMYDwaDpQ1CQ54Y0kEDZbHA0bJYhq716cTzl7+pHCmSnFhpYy2ysYRLs4LKMrgHg66XBEQCRh7JjQNSbjmXHh++Pkgu7JbAV4Ji2imc11tOU+NrHXhAA0oniQ4nO9z7w9cWcbDL8yEgTHrw/9zaLi3fHMhafWT1Ycy45GPG8p6QXtq0Rk5Y+Fjgx7UPAEdEeKAKubktn+oopznS2ODeFPpwYp1lmesLWhheKBTU9qLffNzTGhnqO7k5rtwvio8vOsaDr8iplzxPSZCtYBpaP1tGDH5e9quPbMs08vd9nrNcZHprDEudteOWIYufk+1A12tkh0dIazab2NraWlpr02630Wg0sL6+jslkgtPTUxwfH+PVq1d4+fIlDg8P0el0MJlM3P2eJEmSt1cSwXkHhAAdAc7r62v3kOd7otDvra0tt39APp+/E22I1vJoQQhCQF57oUn5PM5ppCgELGPyXCW9dcxnJeXnfcRJpuHWUwuYc6u8DJvLyQ8Hopz08LU9MoobffOQ1hIQ8zLI40R6kYVes+xKQiHXRnBwy4Ml8M9isVhKI4mPtiaIypYBIqypcvStTQWi8zc3N0vTdHhaGSWMjwV5jvTi0wUBqF4W3ueUlpNTrg9f50V5ENGV/ceJEyfBcu8mTsToenoGXV1dLeVL7cfDkfNpX7J/KCCGDG8u14fx9V+0XxQ98zgRllMi+f0kCYrPKGKRF186bbzwMaDlpcmqwN16NmrPn/s8Q33lhnTiY5eIcL1ex8HBAXZ3dx3BobU2tK/NyckJDg8P3XS08/NznJ+fYzqdqvsFJUmS5O2TRHDeEbm9vcV8PkepVAKAJUu2XDB7cHDgpqvRi4MIDm1MWSwW3docAgwxlkd+/rO+LCVR8BGnGFCh6Rg6Fjqn1VX7bVn9JdiVZYXAiWbp5fv1yA8nP3KhNyc42qJvisInpybRmgueHwfKHEzLdBJIc72pTpKESgDMyQUnLpKoWB8yDgCfEhK5KSoXGTGOyuJeB837Iz0uvB/5OihejhxLRCJ4e0pyQ2n5ehWqB00z1PpC5sMNGzwN9YEce3SMk5DLy0sAwOXlJXK53FKba33E18jwoBf0/OLTHvmaGT6NUfPWcVnl2SDvP+uZZhlcrOeWdmyx+NR7y58N/L/Uy+cpssSXJlRfnzHHeu5az0Pu+SNDG621efz4Mfb29rC5uYlKpYJcLofFYoHRaITDw0M8f/7ckZter+cMckmSJHl3JBGcd0gWiwUmkwkqlYp7wdMLn6ZnTKdTDAYD9Ho9F4Sg1WotvWA2NzdxdnaGs7MzdLtddLtdTKfTJRBhgfPQS13Tmb61FyW3cMuXuPWi1l7CwN0NBmWa2Px4fawpGPy3BFiWHnTcApCUn2Yx1izRgD8sMQEqnq/0/EhvDSc7tLaC1vjwaW/Sc0T14+XwaU7c08CBNwf1VD795/sAcRLH/2ttyME4tRFvN7qOe3C47vJ6jQDxY/Sfe7R4n8s+1TwJ3Esix7/00tCid/pNhGCxWDhDBl/zwq/Vxi6NITk9jPfl7e3t0horGWGMCJZcTyXXXfEwy3waGZ+iyKeqyfYOEQlJBOW4kM8h7fnG89K8eTyd5SWxDCMakdF0lWPVuk4SIfls1XTWnoU0FrRnXSzJ4jpzz6C21ubg4ACbm5sol8tYX1/H5eUlOp0O/uZv/gY/+tGPcHJygvPzc7fdAY2FJEmSvDuSoqi9o1Iqle68aNbW1lAul1Gv17G5uYmtrS0cHBzgq1/9Kg4ODrCxseECFPT7fZydneHo6MgFIRgOh24+uwXAuYSseaG0dNx6efrGtu9lvQoZibVmWnr5SJ0sRyMpHFDLPEN587pbQF/qYNUhy7I7Vn4e7IAHMSCSk2WZA9Ryk0buAeJkh4A35St1oLQcfErgLwkWAXoZHIG+ydtJ5WoeEUrLyY3PM8AJFzc2cHAn21xeo03fI+EeKNkfpAuRACIbi8XCReIjckjp+FQ/Os69WYvFYikvPnWV2vD6+nop+hgPn8ynkFnERXrfeJ3lf95ecpzL54Uc16H7XBPfvRa69/m9LQmUlZ9WTzldMvaZI8+tra3d2eCZp9VIC9cr9Ay3npnckEFr9mitzebmJra3t7G9vY2dnR00Gg3kcjlcX1+j1+vh6OgIz549w/Pnz/Hq1Sv0+303ziySmWRlSVHUkjwoSQTnHZVarQZgGRhwAFgul1Gr1bC5uYnd3V185StfwXvvved2gqbQm+fn53j16pWb59zv9zEYDNxcZ5/1NERw5AvdsgD6XqpWuRqw4bKqN0cDTBaB0OoghQCL1NVnjZVp6NhisTABOR2T06pi6inTamk4ueAfDrp5uGq5sF1b7M7XBHFAxNcA8UXz3INBbcHzq9VqblxLj9X19TUGgwEuLy+drlxf2T7cG0HkgO4Dnp63hVxzwqfD8T7gHivKXxoTKD8iI5zkkfC1RUQc5FQ7Ph5ovYoWrY70obUtZODgpIe3gdwLSU4l1NY1aSReG8O8XUNkgLeVNm61ZwT35Gn3n0ZOQs8t7TjXTTOwaPnw8a0ROqu9uB5StLb1ERt5XagceU/ydTZ8w86dnR1sbW25fW3K5TKyLEO323UBBF69euW8NoPBYClkt9Qvyb0lEZwkD0rSFLV3VMbjsbOcS0BB1le5A/fFxYVbn9NoNFCv193UtUaj4aaunZ+fO48OARpudaWyLPAvxQcEfMc1cgDc3YBQIx8WKaLzHGRysKrpe5+Xq0ViSH+LNPI6hHSwiJhliQ0BMq3dJEjnaen3bDa7k5f0BPFjMrCBPMeJEScVNGWIE6WNjQ1Uq1UXUIPypDJvbm5wcXGB0WiE6+trZFnmrudrcyTR0ggg10vrJ7oPuWdEkheNBPD7S+ZNx2VUOW7YoGO8z7hHiU89k0EZ+Njg3haeN52XumteEou4y2mCWnqZF5Up73deT3kNz1eSE0s3SYj4dfcV7Xqf4UFLw4/xusn7mB/TSJrMx3o2ynpr5cjrqG/Ic1itVtFoNLC9vY12u43t7W20Wi3U63WUy2UX/vno6Agff/yxIza9Xs8Z1qTXJpGbJEneTUkE5x0VsqYSyOMAh8AKBzK0Pmc0GuHi4gK7u7vY2tpCuVzG1tYWCoUCqtUq6vU6arUaSqUSOp0OBoOBW99jATYLUN9XLAviqgTJl8Zn9QylCZ3XLMgWodEAh2xPzcJqiUVeQkTKd70UHwC0SCivCyc/8iMX1ct0lDcnSrQxqoz6Ruknk8nSPH4iQNJLwqfXUTkSNNP0OU6OJSGSXg3ZXjzwAScxUojQ0f08n8+XvCZUpty8l08Fk8SEH9fWEvG8Ld2t/g3dLxq5kc8SLW2sh4LraIFySy/f/enTwRKfIUjLy7eWjucTen5YzwzfNTF1sZ4TFISENutstVrOc7O1tYVms4lyuewCUHS7XRwfH+PZs2duT5uLiwuMx2PM5/MlYp6ITZIk77YkgvMOC4+mxcEQye3t7dJLg6KsDQYD583Z399HvV5HvV53Udaq1SrK5TLK5TI6nQ76/b7zAnErMBfNmyDFemmt4g2KEe2F7/NoWOVKUBFL4DQLKdcnhgxKMOgrw0dqfEAvlvTEXudrzxgLsyQTkuRqARPoW0Yc42m5B4PnI+8X7t3h5fJoZURouEGB1hpJ8sC9HbItCMTx8WlZ+PmUMm1KKs9TtrXsB9+6InmNdb9aa4xkPtI74ps2yvOS5CfGKKDVJ5asW3rItvDlYT2/5H0c473x5a8dv88z07rO97yT9yIFIanVami1WtjZ2XGem2aziWq1imKxiMXidXCcfr+P4+Njt87m9PR0KYqnvB+TJEnybksiOO+40IuhUqm4xaXyBU2bg9KUteFwiH6/79bbPH361O2dQztM06daraJaraLX6+Hi4gLT6dTtV+Fb/GkRBk00j8d9xSI3IRJ1H8KxWCzugDaLRPH6WXpZVmuNaPE28wGSGOCllakds0Ctrx7yWg2Ya+Vp44FPl5NtYeUt6+8bYxrBkvpp0wt5WvmRdYsBt1Y/hMCfr/+0doix8Mtw11peXHikQJknz1vmJ89r69ekHhrRk/nFPg98zx9NX63+clzyseozsMi6WyLHnS/K26pEIXR/8HtibW0N+Xze7WlD6zxpXxvy2qytreHq6soRG9q0k0I/j0Yjt4k16WCR2iRJkrx7koIMJHFSr9fvTCMDPn1xkKWbv5za7TYePXqEx48fY39/H5ubmygWi7i8vMRwOMT5+TlOT09xfn6OXq+Hfr/v9iWQkZFItOkWPlBriUUcYiyXIQvlKkRKA+8+kKsBXlmHGOLBgZGWhyRYkhzwaUQaYdLq6QPAGkCLBb6ahEinTBdjrQ6NM+lJoDbk57VyNOAlx0SW3Q3/zccBv16WoYFdOq7lp4nvuAWutbpohMOXXhN5HYFx33W+MWqNfwnINTKhned19dVP6qcZF0L5SQJujXvrOaMRsBA5CqW3dLD6h7yiNB20Wq26CGm01mZ7e9ut68yyDMPh0EVGOzk5cdsSDAYDF1xDC0iRNvL8qUkKMpDkQUkiOEmWpFarLVlArZc3WeGq1erSS2p/fx8HBwfY2dlBLpfDbDZzU9q63a4jPGdnZ27zNQpqYFngNFDnA3TadRaxkOIDThpRCL34LQCngRVNF5+VVx7nANAC4CHS58tT08OyaofKs8rUrtXAlywvNA6kJdzqI+u4vE5OEdNAqAaqNdHGtdRHtoEGYPl/H/jkxzWAz4WeBZLAaPrJ67Ry5T3kuz94HppnJ4bUWmLde1QuD6ctx41FXrXnAw/8IK/TPCghEh5zv/jqy+shddOeHRbJsQg2XSP3raI1mrSPWqvVwubmpiM5pVLJ7Wkzm81wdHSEH/3oR3jx4gWOj48xGAwwHo8xm83cLAPt/ZRCQv9UJRGcJA9KEsFJsiRZlrnpARrpkMBlY2PD7Z1Di0RpM7anT5+iXq8jy7Kl9TsnJydLYaWJ6NAi6BDR4RID5jSxiErMtVqb+cK3aoDIAoQhABerWwy4tqzBEsxpeflAq1VfDZRY6ypC4DWUToIwiyDIfDSCo5EXzZuggWAf8Nf0lGmsPrLyDBF0+q/1kdXPEtjGjEENUIfGs1ZP3saWZzc03rRzFqHnbbEqsfeRE4uc+YiWT28rvUXgrbaXRJ3np+lsEVrZPnzj3VKp5Kah7ezsoNVqodFooFaroVKpIJ/PY319HePxGJ1OB0dHR3jx4gUODw9xfn6O0WjkNnvl0fT4s0Qb00k+d0kEJ8mDkrQGJ8mSLBYLzGYz99Kx9qSgY7TxJ0VZGw6HGAwGGAwGGA6HbsfpUqmEWq2GYrGIUqnkQvN2Oh10u130+32MRiN1o1Dfy8sC3fy/D1hZgEHWmaeV+fishjK8rQQiGpil3xb40eoh6+kDgiEwpVl1fRJDpjRgT8d9fWv1nWwnWZYFTrXfFvjU+ogTM1kvKw95Xqu7pTMnUz5QGSNWgACyuHM9LLKzCvmX9eXjeRVSoolGgGQ+sfpZfaWVIdPKb+2ZExqLMULpfYEWLPLhS2/l59PZes6SfuTdp6AzrVYL+/v7ePToETY3N1Gv11EqlVzUwtls5jz7ZPyizaPl+4CPnxhDR5IkSd5dSQQnyR2hqFEAlqI7WYCcLGsUinY6nbrQuoPBAHt7e27xaKlUQqvVcut4arWa+3CiI3cvB2yicp+XW4g8yJenZVkOWdR9evqsyTFALeacRSy4TvexPK+a3neN1Cckss1iLO28fI20hPr3PoCUgzCtrbXxsIr4SFFI3xCAva/hICQhkhYaVxbhtH6HyO4qdQj116rt4bv3+Xn5m9LEEHtt3Fljk35r18vrtHVntBEubdRZq9XQaDSwtbWFg4MD7O3toVaroVAoIMsyXF1dodfr4fT0FC9fvsTR0ZHz6lNAGm2NprxfE7lJkiSJJongJFGF9vgoFosm0OYvGQojfX19jcvLS8znc8xmMxdxjaLk7O7uurDShUIB5XLZ7SRfLpdRKBSQy+UwmUwwm83c+hwrZC7XxbLAcvEBeh+YjfF+xFhCQxZeHzHRCJEFanz/feKruyX3taRqJC4EXDSvQEinEIG7D4mx6qyNw9A1Mq3mOfDV0zcmtbaN8ShYevuIj0wbKmvVe1BeEwv+Y0i8ViYH9CFjQqyhQ9NPSx9THtc7VldeTuzY4fWT64b4nlJ8L7RGo4Fms+nW3Ozs7KDZbCKXy+H6+hqj0chFR3v27JmLjDYcDl2kTcv7zXVKa26SJEliSSI4SUy5ubnBZDJxIaQliNBe4LTfBpEc2hy02+3i5OQEBwcHeO+997C3t4disegCFTQaDVSrVRdemsKAUnhqIk8xFjvNSh4CxFw0i37stTKdBtg5YNVAipWHVoeQBZ8TIgn6Ysjeqt4ADRhzay8HLT5rfpZ9uj7AAs1aW2l14SBIa3t5bQy49p2zLPO+a30AVQJYWeZnIWi8PUIkQPMGyHLlGI0lR7y/rbLlb43E+MpZhQRQnhLYh+49fm1M/vKe1/TT+sfXVzIvrrt1TUgPrg8FYL9u9tYAACAASURBVMiyzBGbcrmMZrOJdruNVquFZrPpDFk0HXljYwPT6RTdbhdHR0d4+fKlm5I2GAwwnU5xeXl5J8CN3NCWnicpWlqSJEl8koIMJImSer1+Zydz/iK0rNMbGxtuOhpF0dnb28Pjx4/x9OlTF1Z6sXi9mdvFxYWbf00hpWlND83H1nZ418iB1CsW1Fhptfx9YFum5cdWAUAaoAyBfqmzXDNitZsERiFruE9HrTxeTug4BzO8/BAIt6zSFnCUOsq2sciYNuZD44GXrbWNTGOVZRF2X75Zli2BRVlOiNRqBJkDUEkkrWstWfVd5AP7vDw5jrQxLa+ThHLVMnje1EbaOeu5Jcux9JAEQI5XfswiaFZ7yPNElGjtTD6fR61WWwr3TFORK5UKSqUS8vk88vk8rq6ucHZ2hsPDQ7x69QpnZ2c4Pz9Ht9vFaDS6Y7zSiCXXkaZQJ/lCJQUZSPKgJBGcJNFSqVQALIObEOCklyO9EIvFots/Z2dnB3t7e9jb28P29jZqtZrzGo3HY/T7fXS7XXQ6HXQ6HefVIUsf373aR25CllYLwGtAXAMYq1jOSSxrOM/TAuryN+W3avmUT0w7yWtlFLFYy7KWnotGMkJ5+AC9ll7m7wOaWl1i20mSP40UyjxlmaG2XF9fX7rPQvnLPK12tgC51JWAvY9gf1bDglYHrS4+PbX/kihaRN+6H0NGBd/9y8uPITZaG2jETBPteaXpRse5l5UbRmgqWj6fd1PQtra2sLW15cI+NxoNlEol5HI5AMDl5SX6/T6ePXuGw8NDnJ6eOqMVBae5vr726i4NLYncfGmSCE6SByWJ4CSJlizLUCwWlwIPWCBQO84j7NC0tFarha2tLezu7mJ/fx+7u7sol8tYLBaYz+cYDofo9XrodDru5XhxceGIznw+d9PiqFz+HVsvqbsvnQ/MWyDJsoj7ro+xNN+3Phqwl7r7ro8tW+bhI3RSN18ZVruG5uRbIDm2TKs+GlDm5fkMAVKvUHtb40ADrtq12jjWQLaPXIZ0lW3iSx8i6xphCJEXOuYbJ6uO81AbafXw3eNavgTorf1zfPXUdPLVTRJiKURcKeQzbQnQaDSwvb2Ndrvt9rKpVqsol8solUrIsgyTyQT9fh/n5+c4OjpyXpuLiwu395mP2EjdicgncvOlSiI4SR6UpDU4SaJlsVjg8vISuVwOGxsbjlRY4E8KBQtYLBa4ubnBbDbDeDzGxcUFLi4u0O/3MRgMsLu7i2aziUKhsDS9rVKpoNlsotfruUg7o9FoabNQGXFH0yf0YpegxQLAIeu+r018IEQDhvQ/xiLuAzs+8qPp7rveB25jdKP/FviMvZ7rFgPuYkC2Jj4SZPVLLOEO9avmYbLGsY9UyzylnprusQYALd8Y700oLScq/H9IH41Uhu6hGK+PVs6q9fTdX6sYRDQ9JIm1yLdPbyI1NMWMwvvXajW3n02z2USj0UC5XEYul0OWZZhOp+j3++h0Ojg7O3ObOne7XQyHQ8xmszvT0UJtR4QvBRRIkiTJKpIITpKVhJMaevHEAHkOEIiIXF9fu/1zaP3NcDjExcUF9vb2sLW15TaDKxaLznpIJKfX67m1OhR1jdbo8PVCFoiwRPMoaMdXlVhgFsrjpy2h9tHSxRCSGKAcQwgs0Oaz5vvytyzt/LwFlK38NX1C+lo6+wivVr4kOLHjNpRulXy4frGESPO40O/YMSl1WFX3VSVEfPi3RTQ0sdL4xp1GfK3rtfT0TcSmXC67T61Wc2sod3d30W63UalUlkI+DwYDt1EnrbEho9V4PMbl5eUd0hki9aRvIjhJkiRZVRLBSbKy3NzcYD6fo1QquWM+yyGdJ+ERfSgUNHlzaGpDp9NxYaXb7babzlapVNzvfr+PRqPh1umQN2c+n+Pq6urOhqGkl2bhXtU7s4pY7eBro1Uk5ImyvE8xlmyeXtM/JLHAdBXLuDYlR7PWy/MauKPz/HtV4qn1qUVkV807hnRofSP3KaFvXn9+XagM7feqBFfqEzt+rP/3IS0+b0+obO1YiMBrHpNYIu0j1pIoUx9q90JovJOxKsteT0crFouoVqvY2tpykdAolH+r1UKr1UKtVkMul8Pl5SVGoxE6nQ5evnyJFy9eOGLDn8c0Hc0iq1rdScjjkyRJkiSrSFqDk+QzCxEdabEMATv5QiPLId9LgfZQeO+99/Do0SOUy2UArxev0kai5+fnODs7c/soUHhpCjFNJIeTnftYV2mxqw8s87ysckJg6j6WdA3wyGu0Of2WTqt4cXgZmq7Wf8sLwwG3BeClkHVXLki+DwDneljCx4DUN8uWI4ppbasRDB8o1fKyQOEqdZX6+0QaMXx5h/KzxpyVL40DLfhBTDmhdtPuT+0e0sZ7qL0144/U0Son9vnky1veGzI/2qCTh3ve2tpy62uI4FAI/1qthtvbW/T7fZyenuLVq1d4+fIljo+PcX5+jsFg4EiNDAIj6yufS7wesWt0knxhktbgJHlQkghOks9FaEPQVayWVljZ9fV15HI5FItFt+6m3W7j0aNHePz4MXZ2dlCv15HP53F9fe2mt3W7Xbeeh6/rIaJzfX1trtPh+nKRwNVXnxggLtNZgFEDXQRWYgiVRhCsRcsaibDAs8+ab9XT0kcD5Fr+FgCMbe8YkeNW6iyP+fIg3WJDE2uhsGPFRxSs47SAXSNYq4J4n0fD0lUD7z6izPX2kYmYceAjaPJeX6WMLMtwc3OjEjDf8yJmbFttaj2brLL5/UbEhtbX1Go1N/231Wo541KlUkG5XHZ7lmVZhsFggMPDQxcV7ezszE1Fm0wm5hobTRc5BihNCibwRkoiOEkelCSCk+Rzk3w+j42NDfdy49ZXEus3/89fwLlcDvl8HvV6HZubm26/hZ2dHbfYtVAo4Pr6GrPZDNPp1AUu6HQ66Ha7LiypjLwW49HRjvs8HrGAkOcb622IzSdWQkA4ZHnlIgGZJFPaRrExorWJRTIlYZJt4wOLMW2wKknjbcDT+9pCIxgh0imFRwizSKZvrPCx7CPgPJ22zxJPYxGo0Nj31cEaGwDukEtffiHy4bu3fW0Zc0/GXk9t7HtOWcSU2oJ+kwGpUCi45yptztlsNp23hvaxWV9fx/X1NUajEU5OTnB4eIijoyN0Op2l5yoRGx5mmrezppskPbe3t2kDzzdXEsFJ8qAkEZwkn5tk2eudrXO5nHvJaZZxjfjI/9yqS0SHFrvy8NJ7e3s4ODhwUdfI+jefzzEajdz6HLIwUuS18XiM2Wy2RHQkMdNAWciC72sbni4EtmMs5j5grKUP6ajp4Stb/o/RW7OUa2NEAh+ZToI9H0jUdJD1kddY5E87Fmp3awxpQFtrV8vD47OIa2KNBcv6T2kscKrVwapHjITuLf5MkGNB6hJTlqwL9xBp+ltkTms/rW9j2sNHcH19oZF4+k/P5Y2NDRQKhaWIaFtbW9je3r5DbCgs83w+x2AwQLfbxfn5OU5OTnB6eopOp7O03lFuAM3b1VcHnpaH+0/yRkoiOEkelKQgA0k+N1ksXs+bzrLMvSABv6fAZ02l30RCKLiB5qHZ3993UypokSx/kRO5oWlr5NWRm4Zq0Xp85GZVIBcDwizAHANefQBTa1urvBidQjrElC2vjdFLs/LLsnzejhDQt3TUdNXAqE8/bYz7dLtP35AlXBKC0HWaPjFlW30bS5q4LlafhfSSJFn2ka9vQ4YWfiy2bax683OxBhQf6bHKpg95a0qlknsu0hpH2pxzc3MT9XodhUIBGxsbuL29xXQ6dVEqKcwzPW+HwyEmk4kaxMVXf+s4kZsUJS1JkiSfpySCk+RzFfKgZNndqTjSurgKmLq9vXW7Xs/nc0wmE4xGI7cR6Pn5Ofb29tzmc/V6HcVi0e3TUK/X0Ww2XfpqterW7EynUxfNjYeZ9hEy66WuWf9D5ES2n2Zd1tpvFYm1qmteEx9RkmKRDauc0PVW+p8GUeQg2fK2aMBcthmlX4WchEBs7PhZdVzIvO9DsCidz1hxH/F5veS9dR/vzX3aSuaj/bbK0nSP1VVrC1k+PXOJ2Kyvr6NQKKBSqSxFQ6OpaLTWplqtOmIzm81c4BZaY9PpdFzwFrnnmKy/dc/xumjHkucmSZIkn7ekKWpJfmriCzwQ42HgU1DknjZra2tYW1vDxsaGe4HTwlhao7O/v49Wq4V8Pg/gtSeIhzU9PT1Fv99XI69dXl7e2UtH6qARIE2s+mqEj4MhDgJivQuyLelaa08grnes5TrkmYvVTebr08eXB10T6g+LfMr8+DlJ0rW8ZJk8DHpM+hAZsMq3AgVY14fK0eoaS4p9xE4rU0YkpGtig2jwcxYxvY8xwOeNsPKz7hHf80DTM3SdphNPS89DWl9TLBbdGhsiNY1Gw5Ea8nZnWYbxeIx+v4+zszMcHR25vWx6vR5Go5HbY4y3tUZoY4NX8D6/vLwM1jfJGyFpilqSByWJ4CT5qUq5XMZisVABtgamNDBmgSY6zqMBURjTZrOJ7e1t7O/v4+DgwE1fo6lzs9lsaaraxcUFBoOB22iUpq9pG4dK3SWBkGBvFeKgWWp97SXzleckyLDS+8rh11g6WCQpRCB4vlYeoWdUTPuGgGuIwFnkRAPpvn7S8iACH1M/LtraHB+o942vVYmMVg+tj2PL4UYEbY2LbxxpxCw0bnx1JT003WXecuxa9bTItUXKrXOa4YOMPXwaGnmsKTALPf8oTT6fx2KxwGg0wtHREV69euW8NTTtdzgcLgVkIdHWv8XWRR5L0dIelCSCk+RBSSI4Sb4QoUWuFvizAC6J3MvBAht8zjnNM2+329je3naena2tLZRKJdze3mI+n2M6nbo9dYj09Pt9F2KaprBRqGkq32ctJ334MR+I1o75rOkhsmLlZeUtQaT1XLA8BjFERNM7hqRp+oXyts7zfEik1yBUNwu8hsi7RTZ9uvnqGEtSQ0SNp7f6wPJkaeVRPj6DhkZqrTEk+yaGuPjuQ6u/OPi21uHJ/HzXadfw64jYSm+WrCe/lsjf+vq689bQWkNObOT6mlwuh42N1zPSr66uMBwOcXx8jGfPnjli0+/3MZlM3PPO2sspdH9YxgCStN7mwUoiOEkelCSCk+QLEyIfHGhYEkOErDzIqpnL5ZxHp1aruVCou7u72N/fR7vdRqlUQpZlLoAB7alDH/Lq8GlstFbHir7G9VjF+6BZQ33ExOe1kXn6zls6xZAK7doQIPVZ8fl1li4yvQ84a2VadfF5J7TyfMTBR9Y08YV2tsaRRUqsc5JE+PK2ZJX+5OnvoyvPwxLNM6Bd7yOoq5K+GBIVo5v1LJMeGvpNIZ7z+TzK5bLbeLNcLqNarbroko1GA7VaDdVqFaVSCWtra7i6usJgMECv10On08HZ2dnSBskUVZIbcLTpgpIcWoYmKaQ/PTeTPEhJBCfJg5JEcJJ8oUKWR5IYkuPzXHDLp0YwuJWzUqmgWq1ic3MT29vb2NnZQbvddoEIKMw0RWobj8cukAEnPIPBwAUlkIEJrDrFAGxfG4Qs+7KM2HI18MfPrUqOZJmrAmgrH+u8FM0zIPVeVQd5vQZMfdb6n0YZMXlaYyHUJhaJWWU9ku+elem0cxZ5sAiSr3wtvRYAxad7qO3v41nyERxOaGhtDd+UkwcNkEEEyuWy25STvDW0IafcG2w4HLo9bG5ubtT6WjrKdrLGFtUnhYF+8JIITpIHJYngJPnCZWNjA+vr6+6/DyjL/9pLVLPkcyGwQACBoqq122202203R73ZbLpwqbe3t7i8vMRsNnNEh6awUWCC6XTqprfRIlwCCdKjo1k6tf8hsHYfj4qmA//2pQsBPa2PtHRSYohPjGU/ZOkPWZXvo4Ov7FgCYBFymYdF4mQeqxDJ2Dpp5XKDgvwv9Y0hCdq9HEPCZB6+9owRXj4RIEv3VcmmzN+XDyc3+XweuVzOGWhoHzDyRNfrdWe0oaABNA346uoK4/EYvV4Pp6enLmjAxcWFC/NMRhpObKS+2n/e3iFiSb/TBp5vhSSCk+RBSSI4Sb4UIQujz4Mgx6acMkEvUz6H3QLcwKdEZ2NjY2nOeqPRcEEJ9vb2sLe3twQWKDQ17Q3BI6+Nx2MMh0MMBoOlje8INPBpbKSDVjdZJ+2/j5D4wKMmEqDy47ydfZ4zS3+Zv3Y8pJ9WZqi8kFh6a0Cd5+8jApJsWASH0lgeJp6X1rchoiOvk2XLazSRIF+mtwiOVZ61Xs6ngw88S1352AqNDy6kl1aOJDg8D8uToZVn6SOJHD9GHhu5dw1NQ6NnFQ/vXCqVkM/nkc/nsba25sI80741x8fHOD09RbfbdesJ+TMq1La+evBxIOsux/j19bWaT5IHJYngJHlQkghOki9NiOSQ+LwNEijLdBJMWcLzpZ29ieyQdfTg4AD7+/vY3t5Go9FYmsc+m80wnU7dehyasjYcDl1QAlqoS1PYJMnhoi1w94FZn8dEA2vW9VY6+u8jIhZx0cr0EQYOlkOAKracVYmH5dmxypXHtWu1Olp1i+mXEJFY1RNj6S3ztcQisXQuRN58oFgjwppeFsGJJd8hie0HrdxQ3/BvioBGU3eJ1NRqNfdcovU2zWbTTbEtl8vI5XIuUMFsNrtDaPr9vtvDRpuGZhHVtbU13NzcuD11ZP9SJErLaCHbLpGbt0YSwUnyoCQRnCRfupDFElgGhPSfvi3QwSOsyfPaf+0FT3PcabFus9nE1tYWtra2sLOzg93dXWxtbSGXy7n9dMgSOh6P3fQ1TniIBPGpIER2rJDTVCcfILc8L5b42m4VMmXlTddwcL8KoVgFeJLwRfkhUqeV5dNJA31am/s8GasQSstjofVTyCAgy7fIkY94yvxiPSkx4iOVnPBq11h9pS2G99VJ9pnWtlr/aSRM5q0d533BP7lcDvl8HqVSCeVy2XlpeGAUCu1cKBRQKBSc1ybLMkwmE/T7fZyfn+Po6AjHx8eO2JC35urqyu0z4yP/fEpeiDBbbcP7goIVJHmrJBGcJA9KEsFJ8kZIlmVubwYpqxzjL1sJYDSgJ1/cNPedIhQR4dnc3MTu7i4ODg7QarWWprDd3Nw47w5fr3NxcbE0nW02m7lw0+TZ4dNELD1l/az/9xGNkPiISojEaGmtMizAKK3BIfIQ0oGnle1H4C6WZPE2tzal1LwYWr9JAhNLijiY9OmptcN9xSJKcq2KPG+VG0MItGNaG60yVn3jifK1QL5PfMQNwJKXJp/Po1AouOAAFPGMnjcUKICCBdC+NeSpIVLT6XTch8Lbj0YjN/1Me7ZIb4tsJy7kHfKNVVnHxWLhNgRN8tZJIjhJHpQkgpPkjRGN5PjIjQaE+TnftDVOJvhvAgBEdPgUtnq9ju3t7aWgBDQXnjxQ5N0hskOeHVrcS5ZVCstKoVnlmh2uj6yjRS581mxNQgDUAj6yDflv3zUhL4VWH8vS7iOBVn6+41Z+FqDTyDHPSyNhsXX35UvfcpNPWbY15jWPgu+6GCLLr5fH5KaQvFyNMIXayHfed31IfPeU7zyd4x5FOkakJpfLoVAouP1qyHhC0dCI0BSLRfehtTUAcH19jfF4jG63i5OTE5yenrq1gBTlcTKZ4PLycmk6mEbWrPuSznHyrpFXH4nLsiyRm7dbEsFJ8qAkEZwkb5TQ/O719XWvpd6y4IZexvJ6+m2BGx6itVQqoVaruSlstFP45uYmWq0WarUaisWiixB3fX2N6XTqghDIwAQETPjC36urK1xfX99Zt6OBQatesV4e3zlehtYPIUu7dd2qch/Ayokq/88Bt9ZOn0UXy0MTIlyhfLW6ATAJji+PkFdHA+oxOvnEIqi+9DytRnAsAinzlv0TGr9aHiGRZJHW1PDw9HwdjYx6RlPOCoWCu4bGKAUMGA6H6PV6ODs7c+trxuPxUlATvn+NbEdt+pmv/TSPTajvyJuY9rh5qyURnCQPShLBSfJGCu3/4AMmFtDRPDJcYsCfPJZly0EJZGCCvb09tNttNJtNt0CYIhtdXl66sKyTycTtscNJz2QycWkoQIHPs+PTW9ZhFcDG66uBlVhrrnWNll56D+TvVfKz9NCAtjwur/N5Q2LadFXvQQzhChEcrS6hvHha7b81FmJEu3+18rRjEljHepMsPbj4phda+/1oeXJPDREUimpGXhry8lI0NFpzQ8+SjY0N158UsfHi4gKdTgfn5+duXQ3txcW9Nfy5YNVZqyf1qaxv6L6RbUN9lIjNOyGJ4CR5UJIITpI3VihkqiQssVNR6MVLREnz8mhC+fOXNidLcuO9crmMZrOJVqvlPDp8GluxWHS63Nzc4Pr6GrPZzHlxyJPD1+/QZqLz+dwRHQI01oaiqwB/HyjS2jtGfABdlnsf4hLKw3dcTlfk/SlBtMxP00tbnyDL9nkaPq86+rxsIe/cqh4Viyxb5CzkOYzxNIbIaIg8yeeFj+jyb4sA0bckNjS1jLw0fP0en4JWKBSQz+fd1LUsy9y0VgoacHZ2huPjY3Q6HQwGA+etIcOHFt6Ze9/4MV5/i0BaBMe692nsUzslcvPOSCI4SR6UJIKT5I2WLHsdbSgEsOQ1/Jg27UbzFsj8+YubAx/+n8gOn19Pc+spEht5d+QUtqurKxdwgNblELm5uLhY8uzQ2p3ZbOYWEFObkP6SkHE95e9V25O+JZjh7SK9Chr4Dnk+fGRB5ueLmhfSw/c/Rj8foQhN69HyIKBp6WPlGfKOyf+WIcCyzmttZNVH6mZ54kLrOyxiaHm6rH6zAD+VL+9l4NOF8lqUPm7c4AYOCutMZIaCBtDUtGKx6DY3Js/07e3tkqem2+0ufYjYkKdGRiWLJYhaX3CR5IensaZzkmgbhCZ5qyURnCQPShLBSfJghBbyAzqw017iEixZ1mPtGunt8Xk96JumqFCUpFqt5tbrcC/P1tbWneAEFI2N77NDXh0KUkALiyk4AX1k1CSuc6zHK0ZCXrBYrwo/b4GvkMXZAnm+MaD994nm6dHKug+Jk6BSC4oRS6RW8RRZeRLw9gFhLR9rTFgGBYvg8PI1IiXzscqIaQO52Sf9Xl9fd+SGe2j4mhoeCKBcLi9FWqxUKkueGvLS3N7eOkMGbcR5fn6Os7OzJUIzHo8xn8+XjBja2LLGmPas42ROpqH6Wxubav2e9rV5ZyURnCQPShLBSfKgZGNjwwv6fGRFSgwo1AiO9PrIPOmzvr6OfD7vQBBZdvmO5O12G/V63c3JJ+/O7e2t8/AQ4RkOh24ePk1ro2lstNcOD1IgF/5axMQiez7vliYx5MLXvlwXzaMhy7GIm48AWDpIEuO7lgO/mLHj09G6TgOdmh7SOxnTx5ZoJM6no1Wuz7PmazMt4lroWjlGZF9q96y2fokTGrpveYhmmn5G9zJfT0PT0SqVipt+BsBNRb24uHBRz+j+JU8NeWbp3pVTvmQbW+2nrRuKHXcWkdTGoGZESfLOSCI4SR6UJIKT5EEJAZHYhcAkqwJvLU0I/FnAgyzAPFQseXYajYZbhFyv113YWG2fnfl8jslkgsFg4Dw80+nUTWObTqduGpuMysY3GeUfalOr7j5PjUYwrXYItanPIu1r61hPjJU3oK+30NLJ/veNwRDY1NLLcnxeNwK+Unet33xEXhI7rX9844Pnq3lXrHHkO2Z5xqSHK8ZbqHmD6D+tzaP1MDKcM32IyNB9SeSGyE+hUHCeWO6BJU8N7VMjIymSUYJIjbaWxSI4PtKttYfVpta1vDz67QtokOSdkERwkjwoSQQnyYMT7iWJAbjaGJdrRqypLj7groE3HyHg+2JQcAIeNpbm8fOw0wS4aA4/bfZHZIYTHE56KA3fXJSTHU54Qm0VY02P8YZp+XJwFQOEQ14Tnm9IfB6nULk+gmMRP5+OFsGxPDMWGfKBYIt0xbSpT7Txr92bvnYJgXeLyFmiERp5D+ZyOWd4IC8NRUekjTaJ3FC4ZyI95KlZLBYu8hn3svb7ffT7fUduhsOhCwdveWusOoTGsux7rU21QAKh/0DY+5vknZJEcJI8KEkEJ8mDlo2NDfW4Bhit8ySaRToEQn2/fbK2trZkMaZPuVx209darRaazabz7FSrVRSLRUfMyLNDJIZHWyKCQ6SHh6G+urpyIIs25tPCUPu8EyGQJMVqtxDB0fKQOsi8CNBp+ljWf35tyKuhHZNEJMZjw8u16reqHr6yY4nffYXrqQWckEA8ZFTQgLamv5aekxqadsaJDZEXIjV075HRgYdyJgKUz+ddSGeaQjoej12ggE6ng16v5wKE8HuP1syFIo5ZZOW+xhyZh2WsoGvlvZOmpCVhkghOkgclieAkefBCU7k0wMlD+VpWbh8o0AA5F27ZDJEqS3jYaR56mnt3+JqddrvtyA6PyEYRl4i40JQ22juDQlFLbw/fc4dCWRPpkaIBc9k+IRBlndPaVILX+3oBpP6yDhbYtsryiTYWQxZw6U2RBCdEZLR0MR6x0DmLfK5C4mQdNRIT6pcQcAfgpq5yT41cR8O9NDTVjLw09KH05DWlPG9vbzGZTNzGm/1+H71eb2k9DTcwXF5eYv7/t3eusZYlVR3/r26np0kzzQQfMxIdQwBRkcQ4KqAGHzA+okZNfMUvYvwgPuIjMQSMD3wkxkhGjDMx0eAzCF8gGjIiZDQmasZRMIqKIxofBIcZkGG658Xt6Tvlh3PWnf9dd62qOufe7tvn3P8vObnn7F27qnbV3t3rv9eqtXd2hvPQE2187lViBP63LvPUZP/+xXnNrh+JGxGQwBEbhQSO2BpOnz7dfWKZGRSZ8TljcMc643fe1hNR2TEeOnP69Ol93h0XO/5+HV7Dc/78+X0LnL1uD5/xD4e0eSiNh894CI2Hs3Eom3+iMRTHuTK8KyrDdpZotPF7k2I7syKpd2z2e1a8zZzbjHFf9Z37VgnRWVEX285SzcrzXAAAIABJREFUSPt2/83Hju6raJyPxGTst4sY/+6eGX7RJicBiJ4av5e8LB/rosaznj366KN4+OGHD7x0M66D83dWVV6a7AFL7yWbVR3ZWFVzWond3nhL2IgCCRyxUUjgiK2CjR6g/6Q5GubZ9tnjoqGdbcuMjV47/PTYQ9rcQPOn0Lx2x8Pazp8/v2fUxRel+gtDPcOTe3PYw+OLoP0JtHuFfP2Av2wwS1pQvSenEg5cxrfNeAYq4zzLkNWrh/tZiSDeP9PfkVEfj+Hwq1VE3iplK09MZnSvUm+W2prrjX3IvAvxfHgfixng6Zf/usczrp/xFM2e9czXzbhXJn78oYg/DPD7wcU/PwTgl/L6veD3RpUgYCReegKlKhvHNM5bJRB5HVM2X0oiIAZI4IiNQgJHbCVsFPUMA//O22bCZuLT0J5xWN1jqxiyLNx4/c7111+/7wWj/KJB/u2Cx9cQuGHq63g8xI29PBxq4/tcBPGCaV7P40YSG0szoW6rem96XqNe2awPXiYju05WEWDZ90qgVZ6+WY9T1k6sK/Yp9rnqW8Wq2Qy5rShuvC6/PuO6Gc9WxqGcfv1ztjP2evo9wi/Z9HYuXbp0IEHHxz/+8b1sZ/5eGr/e+d1TUeCPGAkc/t27H6JIzR6cZPdWLAs8Hb47WhckxBIJHLFR5Cu0hdhw3MiOL4UceWZ6T0F7x8W/I0N1FaJnxMz2Qs9c7PAaA14s7V6eG2+8cU/oxLUG586dA4A9g409NjEhwRNPPLHn5eG01C6K+H08vKanSlGdGbvZ+fMYzj4Nj8dn+3pzxsfMXg9ZW5W4yrwYs2THH9XDqux8e8IqK9fzJLBQ97+cCMBfqukZzvwTRUvc/oxnPGPfCzZdzPv94mLcE3JcvHhx7wWbLmg8BTsLe/dYzoqa6rxHY5wdMxLh2T0x829N79oUQohtQAJHbC09Q2QdozI+IV3lOD4+2zdrkPBvFz2eSe2xxx7bl6zAQ3hc6HgmNvbu+EtGeWH1mTNn9vrKAoWztrGwcdHDITycmtrD3NxIZEOR09DG86yeYPP37An27HzMMhNqtA5Z33ttrSoyZgzo2I9RXVWIWSa4fD3YSMz4NceeGr92Y5bBLNTMBT4LGhbqHorJ1+jFixdx4cKFfd4Zv553dnYOrD/rjXc1XjMiKPMiOz3vXKxrJNyrdiRwhBDbigSO2Gp4fYMbPxWzhuHoiWllmGR1e13xLe4zHoUYbuJPqR9//PF9RmR82u3hPLx2x8PaeN2Cr1G47rrr9o2fG30c1ubZpXz9Dr98lMPdONub99mNUQ5ti+JnJHziXGRzGMfNf/de9NnzLvWMzZ5wrUKMeH9Wtqqj9xR/5BnLzi8z0qttnGQgemc4C5kLmSjAz549u7e2zAUOC5norXHPDIdaet/8+ufrkdfQcFIATqrhYWf+nqjo8Y3384zwrubJx6oKCeS5iXXNiJJqvuL9I2EjhNh2tAZHnBjYIPPfTGWYZoYJH5PVldEzarN2eqKIYSMvLhT27byugdcxxFS5vpbHhY8nLOB3gviTdz4fTkLgT805c1t8Mak/Mc/CgNzgdAHEXiT/sIepGuNq/Ff1mmVz5X3oCanYRmv5y0FHT+d3d3cPXHM94zjW1xMpsXxVjq8xFjFxbYuLGl4zw+KaEwOwgImZzNwj4/X5h/vqiTLYI+Mv2/SQM04KwBkCM0HN4zFKGhC3s5Dg33GMZ8Y/m8tRX7JrLj4AqdoQYhKtwREbhQSOOJHElNJMZrzOGCSZh6BHZYRnhklmvGSGMofojN6S7oZpFD2+PofFz7lz53Du3DmcP39+7+WjLnquu+66A+FI7IXZ3d3dMyz54+sh3MPjhqc/ife/Lpj8ON/uAiiKH//NY7qKF2j0pLwnOHuG5khgVWIl609mRGf7MmEU97HnxecvfnyOo0fGPS+c2YzXg7lHxsWMCx726MR6/dr0Prt49rVf7iXkzGYuaFhYu3B2kczjGDPX+fZV/j/M/o3oedaqf0/iPAPYe5loLJOVjYI3OwclEhBHgASO2CgkcMSJJj6ZBvohYtlT+Eps8FPdmaezbBhVYVOVByl+j96qyljivvqHF3rHcKKzZ8/uJStwr48LIP7LIUWcqprX3rD4ccHS2tOprF0EedgRJzuIgolDjHyb1xO9QlkYnI9f/GRj3DNUD/PvaRZW1POuRAOaBUxmVLNgYQ9MFkLm3hTfxt85u5kv7GfPDb/DictHMROvTw6x5DUxLmpcxLAnkDP9+fyz2I1zy2PtImJmznqelGx+ZuoZedji3I4y1sV9EjXiiJHAERuFBI448USR0xM4Gb0n6T0Bkm3n46oQpIxMREWRE8v73ywsio3gKHo4xIgzWLn4iW+Fd8HjT/I5w5U/qd/d3T3g9YnihBd+s6DhMryegr09nnWO01l7fQD2juM+uIFYGcy+LwrZLByIy/A23hfFie/LQsV4bjIRwx7K6CHxfSxqOGsZz7OXd+ETUzj7fPJ2DleL119rbd9c7Ozs7HldXLT4OhkWOZ7IgoXuKGVzJUz5AcKsuIkiMmPmfp3xCo/qiGWqBymb+H+7uKaRwBEbhZIMiBMPe0tGL4qMRlH2RJZ/V3VkoSxZuVl6Rle2Pwth4mPcSL98+fK+PrOxzKInpqp2Dw57eVj08MJxT2bALzZlA/zMmTMHPCq8PodFURQaLn7cC8Rpr1nk8AsbuS4Ae/t9O4ADZVj8RDHE4UbZvihgWJzENWNZCBnPIWcm83AvFxo+V16ey/E88ryycPH6vB0WNHztuBfOs5FFselixcMTXcj4d3/JLHvsfN44HDF64Hpk92X2QIC3RxGRHVO1wduqhxWZ9y0eN1NeokYIIQ4igSMEDj6RH5WrfvfIRIbXET1HIwOnqn9GZMWn/pWxFNtmYRHriYInhri594bfNO+en3Pnzu0TO+zl4cXlbPyzGIrn4aFSbnhzxrfo+fFPFt4UBU58r8+lS5e64+Xj4sQ1QzyG3nfODub7HR4HHgtuw9fL+NizRyUKkihevD5uo2d0+zXBaZVZTLIHhr97ymYv55nMWNTEtVUzYmbkSR15WdmLFsc+K5+NTXYf9cLbYvszxPPUCzuFEOIgEjhCEG4I8boRh1PicnngoGhgMqOoCg3jv1k92fcojGK7bPxkdVRiqiIzcnd3d3Hp0qV9dbLHxw1ozo7FGbZ8u3+P7z6J7z+JAogFj3t9fNtTTz21lzwhrgHidT/Vu3l8/PjDa3riNRBFhY8vezOefPLJfUZ3HC8WGk4lQOLHRY6PD5Ndw1xfDMNjUebrpNijErPieaiZe2Q4u54LzJgwgsfdx2mGeL/EML8sbIvHoXeNZ57cnjd0VK4nsjJm7kcWRvLcCCHEfiRwhEjw1LxRBFThZfHpbyYC4nG8DqAXHpMxK0Cc+KQ4GtbcXuXF4j5mRlXc73W5MR+NcPbKcJauTACxV4g9PZxu2L0WnOggejF4XQh7Stjw5/nIvBksFuNYehvcrsNrRtiDFNuL81LNZzZ/7PmJ58TijcPz/ONZ7dyL4r9ZvHBab07+EMP/Mk9ZJSDj9RnP08wO3I98PJ87n2t1fXJ5vta9/ihaZ/rJ9XE57lN2btm/C1koGpeJ/RNCCHEQJRkQYoK4VqJnWGSGfnZML6Rl1iCK9fQMMC7P/RmJmez4rJ2q7Uw0VO2xwR5D0zIBdOrUqX1vsY9vtueXQvJ7V7wMJzxwkcXeFw4Zi6FeWapxN2qjuHEq4z7ObSZGo1DhULfMwxTTcnPChbiNvTK8gN/L7uzs7PNcZYkf2ANTCYx4LWTXQXbPZF7K7F7kMep5WjLPaxz/TFCN7tfqvDLRUp1/7x08CkMTx4iSDIiNQh4cISZww6K3LqEKQ6mMGQ6TicZb/D1DJXIqo9Hp7Ztpj+uohE/l2XLik3Rg4fHgcYjeiezjwii+HDIuqOeUx1EI8V8Ofavai4ZwzECXGctxbDLvGIsFHyNObuACI35nD5Gny46Z5jhxAofbxfVGXl9MrR09MTzvmRjpzf2MOO+J45l7ruoH95frqq7XTMz0HihU93BvjLJxkLgRQojVkMARYgXi013+XXldenXFsqOnwbOhKTMCqWdQzniBotDLvs+Kp5EBmj2Zj+Ig2x69QVGosMcmem/iQn4XWDHLWc+Ydrhcdmw0sFk8+JqU6B3hELfMixK9OiyO/C8LF//NIVCjv5VYnr1+ZgR1JZQqcTCiEmOr1sF9iX2LbWXjFO/3WDeXHY2nEEKI/UjgCLEClYjpiQUvs4qRsopgmik72371lPooyOqeMSh7YT+zYUPVuGVemChoeH+W3Wy2v5UQi2XYoI3fWfhkAiUKpEqsxO89gRnpGeTxOsvmtzefWbmszlj/7H1RCTLeX4mXTIxW51D1aea+ivMjhBBidSRwhFgDNkKyjGtcbtaLEp8kj8pX7cXy/HfWYKpCaLiu6phRf6v6Km9Ptn3kAaiM+tifeI7RQM0M1uypf+zfKgKVy8V3ymT1jH7HY+NYxestztsqHox1mblO4r7eeVZ1ZXM4ehBRtT8LC+IYxtdrh89JwkYIIQ6HBI4Qh8RDiKr3svh3YPw0unqaPjKOZkVHFZ4TjeCZJ9nxt9cTU/D2RNaqYof7HcdpdqyyzFbx2MyTEsmEQ884jQIptpO1Gccuth/HOxOlPSGY9anC28kERNxWtTPDaF6rdkbX64znJxvzyiPF88WevUrYZsK0akMIIcThkMAR4ojgFLFZMgL+nhmxvC8zskbCp2ekckrqqk9MJTQqg7MyorPjY3/9b5Z1LBMP0cuRnUPmecn2ZefO7WWCoWeMZp6erO2eaMzmvjLy45jNeAp610FWV+9aiOfVq69HPOcsFfKM4c/HzAjZUT2xj/G64O3V9Z3VF4WsRI0QQhwtEjhCHDGtPb0wnF+0OHoy3xMoXL73npqe4Rnbq/pe9ScabD2jLBp92RPsnmEdj60E30i8ZOeRbV/FiB4JiKq9bH5GT/B73peqT1U/Ki8Le4EyjxTXVV0TmTGfeXxiP+J5V6KwJ0arcahESnX/xGPitZZdvyPPSxRBcfyVGU0IIa4MEjhCXEH8STQLnRjikm3n/ZWRz9+jwZg9MY5tjuqZNd4rkVHtj4zEBZ9/9Fys8sS8ajcrk81F1k7l3cj+9oz3Vb0eI89KTyjHceqJh9FcV+PgQoLpicdM6Mwwe57VHPS8Wb1xrMa8Ejzx/pOwEUKIK4sEjhBXEDdsOHytZ8yOngrP/B55CmaNuOzYipExuIoB33sSviq9J/rZU/nq2Gz7yJMzW98q5UfjUO3viZfReM96tSpvDdfRO6eROFuFykOUtZOJ/upBQSyfMRJF617LQggh5jkY9C6EOHL8qXRM29sTLL2n+37szNPumafQ1TGz4mZkEPb6sQ698+4Z01mfRv1bt9+j8R3Vy+dR9TErk7XREz4zc1wd2/s7YjR/q9S1SluZyI/MeCVnx43ve4kbIYS4OsiDI8RVxr052UsimVXCxLLtVQhaDEMbPfWfDfeqnpZX9fgxUZDw9tF5Zk/fR+FkWX29/bHPXG/l/egJmJ5hPDKsuUzPKxPHNmNGYHBdscxoXjNP4jriIm6Pc76KaODyWb+zPlZendjPmMhjdH8JIYS4ckjgCHFMjITObIiSWX/htB+XGd2zxlxsr1pzsI5hnQmSzDju1VH1qwqZYng9D/c/prvmdisR5ftGoiCWGXlYeM1GFBC8f+TRiW3F8tn89YThSFBV74GpzjP2q9ceH5eNT9buSJhmmfy4P72xiKJPHhshhDg+JHCEOGbigmN/cegoHCkTCrzWJxINMK6nMi6zPmSGW2VMc1tZvYc1+keGcM97MDrnzLvUK38YVvXkVV6u7Lx7wqHyvMX2s99ZvZkojGWBfvawWH/1279X100cl+y6iuMX75/q2qz6peQBQghxbSCBI8Q1RpZi2smMvuhtqDwikV6YTyZ8sn7MED0qse3Yn1Fdo7KVwd4zhKMXgLfHuntP8eM58TGrnmvVbubJGB3LVP2oPCQjUcTH9rwWlfCI9LxuvWtp1MfMsxcFWeXx8e9ZnX6/CiGEuHaQwBHiGoUN7lHojFMZg7NknoGZOtYRHP57ZKRXZUYizMuM+lkZ5ZXnhPdVYiOKqKqfo9Cn7DzW9RjNCozsmKo/2XxmYxOFRc/DOCMiR/2bPY/Z8pWXUyFoQghxbaIsakJco3A4WJaFaSYUqGJWFIxC0Q5Ldk6zYqlitE5ileMOa8COQs9mqDwHsyJgll6dvXZ6oWFXkmpMVvFuxXK9a4DvQf4IIYS49pDAEWIDcJEThU71N37P6BmDR7WuZNYQr0LWVgl3qpgRNdn5c/KH2Jfq3HpiJM5bVsfs/K0jJritkeev12407meunVnxeFhxO8sqwl2iRgghNg8JHCE2DBY6QN8orgTDrBEa9/XWRmTGes+IrcRPVm+sM8s8VxmgUcTEcKms/cxonwl3i2tXYn+839VY98Y0zp2L3l4fjtIrFec+C5tkb2N2HutegzPepd61ll1zM+1L1AghxGaiNThCbCiV8RzLALmRz2seeJ/vr9b9xLqr36PtTm+tT6///jvzrmRlYh0xtfaq6yqytSLRQ8N9cuO/GnPevopQNTuYJjnWVY1BVmdFr39cJ19bsf4oKmOZSnTy/h7Z9cLeMi5T1adMaEIIsflI4AixJUQjNwoezhhViRs2BqMAYDERjWjez1TbYn09evX2jOWsrSwUq6ojoycSYp1x/6lTpw4Yz70wr54hPtof5ynr4yyjOY3CBphPihGvw0o4ueCu+jK6Hrgt/+71yUMjhBDbhwSOEFtIa21f+lp/t47T84jwb/8ehQLXU4Udxe2zHp+qTGZIx31Zv3qhZT1jP/NCZNurY+L3SOZRqERY1sZMH7L2ViGb2948jjwyI6E22p71L9YXj+e+8G+ldxZCiO1lpTU4ZvZ6M2vhcx/tP2tmd5rZx8zsUTN7m5ndFOq4xczuMrPHzewjZvYrZiahJcQVxNftxPU7kVnxkJXthRetSyYwMqp9PS9NFBI9IVQdx2WjEFxHUGSsO6az7fdEKNezSj+qMZ7pW+86Wmdcuf+9a18IIcT2sI6w+BcAr6Tfl+n7rwL4BgDfDuACgDsAvB3AlwGAmZ0GcBeABwB8KYBPB/D7AJ4E8JNr9EUIMcFMGBiX7XlARkJm9MQ/1hVD4bgPWd29sLdZVjH+Z/tWHc/tZePc69eqXq8ZkRnDs2bqnaUKuav6dxjxNhK1Xv+VEN5CCCGubdYROJdbaw/EjWb2LADfB+C7W2t/vtz2vQD+1cxe2lr7GwBfA+DzALyytfYggH8ws58G8Mtm9vrW2qW1z0QIMU1cL5GtLakMw17YWPW7149YT0YMhavWZFRrPHrwOo64fdaDdFTemqrOapxGgqhiFW/YKOStClmsxFtP/PT6NPIwxT75eieJGyGEOHmskyb6BWZ2v5n9p5m92cxuWW6/FcB1AO72gq21+wB8EMDLlpteBuCfluLGeReA8wBeVDVoZteb2Xn/ALhhjX4LIRI8bG13d3dvXcLIGI37sqfmM+KAy1Vrefj4mTq5bDyPGFY34+2Ife2tORmRnWM1xj0v1ShUK/YremqyUMSqnZlwxqxvmbcmG88RXFcvXJKvYWVCE0KIk82qAudeAK8C8HUAfgDAcwH8pZndAOBmAJdaaw+HYx5c7sPy74PJflCZjNdhEfLmnw+t2G8hxCS7u7u4fPkydnd3S0O4EiDRgM6evPcM21kjno1obo/r6BnUI8HUEy6eIYzXdGSiahSuFevPBE0mVCqvWs9zUoXIZW1GUTITEsiiNnrbqn5m/et5DLNxlKARQgiRsVKIWmvtnfTzfWZ2L4D/AfAdAJ44yo4FfgnA7fT7BkjkCHHFyQxHz8iWGbls/PP2aPhWRu0qHpF1wrEyYz87xxhu16snO9fsfJiZMrHuqp5MhMT37fTaGYXxZfsqITIKb5xpM+t3a8p6JoQQYp51QtT2WHprPgDg+VgkDjhjZjeGYjct92H596ZkP6hM1s5Oa+2ifwA8cph+CyHWx70WnJXNLH+z/YhonPdCyKrwpHW2cVujEDE22meEQBYSFr9n2yohwZ6RXujfKCyw8hDNisqRF6dXNh7DYjfrZ7y+5KERQgixCocSOGb2TADPA/BhAO/FIhvaK2j/CwHcAuCe5aZ7ALzYzD6NqrkNwEUA7z9MX4QQVwc2TNkYZaN0FTLhMAoh42Nn+jvbj6xflWE/43nqCa4ogqoxGJ1DFWpWtTkjPnqMhF6v/pHYBHAglfPs/AkhhBDOSiFqZvYGAO/AIiztOQB+DsAugLe01i6Y2ZsA3G5mD2EhWn4dwD1tkUENAN6NhZD5AzN7DRbrbn4RwJ2ttZ2jOCEhxNVnxsiO5f1vNKzXDVmbIXqLVj1m5MGZCQnL2s5CsrI6q7p6x8yIwF47HAZX7Z8l85r1RJcQQgixDqumif4MAG8B8MkAPgrgrwC8tLX20eX+HwfwFIC3AbgeiwxpP+gHt9Z2zewbAfwGFt6cxwD8HoCfOcQ5CCGuMTKjNQthm/EaZGKAje6ed6LnHYlip7fWJBrkVdlR+SgWep6KbD1LVn8sx+tvYjkes0oQVWOS9XnUdwkaIYQQx4Ft4n80tkgVfeG4+yGEODynT58G0A/tWuffKV7nUSUFiOV5/8gz0QuZG+2rBNAqnpfKC8YhgjML+WcE1KwXib9r3YwQW8Wz2mINtBAbwTov+hRCiCOjyo7lwoepjO3MSxI9BaO1NL0wrIxMhGUhd1U/q37MHMMiYuQtmul/PC7zwETxw2tmYv838cGZEEKI7UECRwhxTdJLCxzD3TjsatX1J5EqdG3k2VmnrVHbo3KjvmSemkqoxG08pkrRLIQQYpOQwBFCbByz60BYCFTHjNbErOqNOGrvReVB6XloKq8PH5/ty9qTN0YIIcSmIYEjhNg4RkZ3Fn42I3B69fXERGw3O2YVMRLPIasnJguI9fUESubtUoiZEEKIbUECRwixdcxk6lrXiO8dN+sBykQJgH1raqoyTE+Y9Rb5S8AIIYTYZiRwhBAnnmsp49eMIKq2zewTQgghtp2DL6bYDG447g4IIYQQQpwQZHeJjWJT34NjAD4bwH1YvHz0kePtkThCbgDwIWhetw3N63aied1ONK/bybrzegOA+9smGozixLKRIWqttWZmH17+fEQvn9oeaE2B5nWL0LxuJ5rX7UTzup0cYl51DYiNY1ND1IQQQgghhBDiABI4QgghhBBCiK1hkwXODoCfW/4V24PmdTvRvG4nmtftRPO6nWhexYlhI5MMCCGEEEIIIUTGJntwhBBCCCGEEGIfEjhCCCGEEEKIrUECRwghhBBCCLE1SOAIIYQQQgghtgYJHCGEEEIIIcTWsJECx8x+yMz+28w+YWb3mtmXHHefRI2ZvdzM3mFm95tZM7NvCfvNzH7ezD5sZk+Y2d1m9oJQ5tlm9mYzu2hmD5vZm8zsmVf3TIRjZq8zs78zs0fM7CNm9kdm9sJQ5qyZ3WlmHzOzR83sbWZ2Uyhzi5ndZWaPL+v5FTP7pKt7NoIxsx8ws/ct77WLZnaPmX097de8bjhm9trlv8VvpG2a1w3DzF6/nEf+3Ef7NafixLJxAsfMvhPA7Vjkcv9CAP8I4F1m9mnH2jHR4xwW8/RDxf7XAPgRAK8G8BIAj2Exp2epzJsBvAjAbQC+EcDLAfzmleqwGPIVAO4E8FIs5uQ6AO82s3NU5lcBfBOAb1+Wfw6At/tOMzsN4C4AZwB8KYDvAfAqAD9/5bsvOnwIwGsB3ArgiwD8OYA/NrMXLfdrXjcYM/tiAN8P4H1hl+Z1M/kXAJ9Ony+nfZpTcXJprW3UB8C9AO6g36cA/C+A1x533/SZmr8G4FvotwH4MICfoG3PAvAJAN+1/P25y+O+iMp8HYCnADznuM9JnwYAn7qco5fTHF4C8G1U5nOWZV66/P31AHYB3ERlXg3gAoAzx31O+uyb34cAfJ/mdbM/AJ4J4AMAXgngLwC8cbld87qBHwCvB/APxT7NqT4n+rNRHhwzO4PFU8W7fVtr7anl75cdV7/EoXgugJuxf04vYCFkfU5fBuDh1tp76Li7sRA4L7lK/RR9nrX8+9Dy761YeHV4Xu8D8EHsn9d/aq09SPW8C8B5LLx14pgxs9Nm9l1YeGHvgeZ107kTwF2ttbvDds3r5vKCZfj3fy7DuG9ZbtecihPNpsVZfgqA0wAeDNsfxOLJhNg8bl7+zeb0ZirzEd7ZWrtsZg9RGXFMmNkpAG8E8NettX9ebr4ZwKXW2sOheJzXbN4BzeuxYmYvxkLQnAXwKIBvba2938y+AJrXjWQpVL8QwBcnu3W/bib3YhFS9m9YhKf9LIC/NLPPh+ZUnHA2TeAIIa497gTw+dgf+y02m38D8AVYeOa+DcDvmdlXHG+XxLqY2WcC+DUAt7XWPnHc/RFHQ2vtnfTzfWZ2L4D/AfAdAJ44nl4JcW2wUSFqAP4Py3jRsP0mAA9c/e6II8DnrTenDwDYl0RimeXl2dC8HytmdgcWSR++qrX2Idr1AIAzZnZjOCTOazbvgOb1WGmtXWqt/Udr7b2ttddhkSTkR6F53VRuxeLf0L83s8tmdhmLRec/svz+IDSvG8/SW/MBAM+H7lVxwtkogdNauwTgvQBe4duW4TGvwCKcQmwe/4XFP6Q8p+exWFvjc3oPgBvN7FY67quxuH7vvUr9FMQytfcdAL4VwFe31v4rFHkvgCexf15fCOAW7J/XF4cMiLcBuAjg/Veq72ItTgG4HprXTeXPALwYC6+cf96DRXZK/6553XCWr054HhaJe3SvihPNJoao3Y5FuMR7APwtgB/DYgHs7xxrr0TJ8h/d59Om5y5j+R9qrX1w+S6GnzKzf8dC8PwCgPvUm4WeAAABwUlEQVQB/BEAtNb+1cz+FMBvmdmrsVg4eQeAt7bW7r+a5yL2uBPAdwP4ZgCPmJnHa19orT3RWrtgZm8CcPtyrdRFAL8O4J7W2t8sy74bi/9E/8DMXoNFzPcvAriztbZzNU9GPI2Z/RKAd2KxGPkGLOb5KwF8reZ1M2mtPQLgn3mbmT0G4GO+bk7zunmY2RsAvAOLsLTnYPH6jF0Ab9G9Kk48x53GbZ0PgB/G4obeweIJ/kuOu0/6dOfrK7FITRk/v7vcb1jk3X8Ai/TQdwP47FDHswH8IYBHsEhh+dsAnnnc53ZSP8V8NgCvojJnsRBCD2HxbqO3A7g51PNZAP4EwOMAPgrgDQA+6bjP7yR/ALwJwH8v/339yPJ+vE3zul0fUJpozetmfgC8FYuHgTtYvL/qrQCepznVR58Ga60dVD1CCCGEEEIIsYFs1BocIYQQQgghhOghgSOEEEIIIYTYGiRwhBBCCCGEEFuDBI4QQgghhBBia5DAEUIIIYQQQmwNEjhCCCGEEEKIrUECRwghhBBCCLE1SOAIIYQQQgghtgYJHCGEEEIIIcTWIIEjhBBCCCGE2BokcIQQQgghhBBbw/8DRn2md9mLk1QAAAAASUVORK5CYII=\n"
                },
                "metadata": {
                  "needs_background": "light"
                }
              }
            ]
          }
        },
        "d05790b826694bc685063adac4058220": {
          "model_module": "@jupyter-widgets/base",
          "model_name": "LayoutModel",
          "model_module_version": "1.2.0",
          "state": {
            "_model_module": "@jupyter-widgets/base",
            "_model_module_version": "1.2.0",
            "_model_name": "LayoutModel",
            "_view_count": null,
            "_view_module": "@jupyter-widgets/base",
            "_view_module_version": "1.2.0",
            "_view_name": "LayoutView",
            "align_content": null,
            "align_items": null,
            "align_self": null,
            "border": null,
            "bottom": null,
            "display": null,
            "flex": null,
            "flex_flow": null,
            "grid_area": null,
            "grid_auto_columns": null,
            "grid_auto_flow": null,
            "grid_auto_rows": null,
            "grid_column": null,
            "grid_gap": null,
            "grid_row": null,
            "grid_template_areas": null,
            "grid_template_columns": null,
            "grid_template_rows": null,
            "height": null,
            "justify_content": null,
            "justify_items": null,
            "left": null,
            "margin": null,
            "max_height": null,
            "max_width": null,
            "min_height": null,
            "min_width": null,
            "object_fit": null,
            "object_position": null,
            "order": null,
            "overflow": null,
            "overflow_x": null,
            "overflow_y": null,
            "padding": null,
            "right": null,
            "top": null,
            "visibility": null,
            "width": null
          }
        },
        "ef5c7e47ecb248649c43a2bc90120857": {
          "model_module": "@jupyter-widgets/base",
          "model_name": "LayoutModel",
          "model_module_version": "1.2.0",
          "state": {
            "_model_module": "@jupyter-widgets/base",
            "_model_module_version": "1.2.0",
            "_model_name": "LayoutModel",
            "_view_count": null,
            "_view_module": "@jupyter-widgets/base",
            "_view_module_version": "1.2.0",
            "_view_name": "LayoutView",
            "align_content": null,
            "align_items": null,
            "align_self": null,
            "border": null,
            "bottom": null,
            "display": null,
            "flex": null,
            "flex_flow": null,
            "grid_area": null,
            "grid_auto_columns": null,
            "grid_auto_flow": null,
            "grid_auto_rows": null,
            "grid_column": null,
            "grid_gap": null,
            "grid_row": null,
            "grid_template_areas": null,
            "grid_template_columns": null,
            "grid_template_rows": null,
            "height": null,
            "justify_content": null,
            "justify_items": null,
            "left": null,
            "margin": null,
            "max_height": null,
            "max_width": null,
            "min_height": null,
            "min_width": null,
            "object_fit": null,
            "object_position": null,
            "order": null,
            "overflow": null,
            "overflow_x": null,
            "overflow_y": null,
            "padding": null,
            "right": null,
            "top": null,
            "visibility": null,
            "width": null
          }
        },
        "beb59a8f107341dba7d437140674358f": {
          "model_module": "@jupyter-widgets/controls",
          "model_name": "SliderStyleModel",
          "model_module_version": "1.5.0",
          "state": {
            "_model_module": "@jupyter-widgets/controls",
            "_model_module_version": "1.5.0",
            "_model_name": "SliderStyleModel",
            "_view_count": null,
            "_view_module": "@jupyter-widgets/base",
            "_view_module_version": "1.2.0",
            "_view_name": "StyleView",
            "description_width": "",
            "handle_color": null
          }
        },
        "266ed542b6c24ffc8f3c8419ad654587": {
          "model_module": "@jupyter-widgets/base",
          "model_name": "LayoutModel",
          "model_module_version": "1.2.0",
          "state": {
            "_model_module": "@jupyter-widgets/base",
            "_model_module_version": "1.2.0",
            "_model_name": "LayoutModel",
            "_view_count": null,
            "_view_module": "@jupyter-widgets/base",
            "_view_module_version": "1.2.0",
            "_view_name": "LayoutView",
            "align_content": null,
            "align_items": null,
            "align_self": null,
            "border": null,
            "bottom": null,
            "display": null,
            "flex": null,
            "flex_flow": null,
            "grid_area": null,
            "grid_auto_columns": null,
            "grid_auto_flow": null,
            "grid_auto_rows": null,
            "grid_column": null,
            "grid_gap": null,
            "grid_row": null,
            "grid_template_areas": null,
            "grid_template_columns": null,
            "grid_template_rows": null,
            "height": null,
            "justify_content": null,
            "justify_items": null,
            "left": null,
            "margin": null,
            "max_height": null,
            "max_width": null,
            "min_height": null,
            "min_width": null,
            "object_fit": null,
            "object_position": null,
            "order": null,
            "overflow": null,
            "overflow_x": null,
            "overflow_y": null,
            "padding": null,
            "right": null,
            "top": null,
            "visibility": null,
            "width": null
          }
        }
      }
    }
  },
  "nbformat": 4,
  "nbformat_minor": 0
}